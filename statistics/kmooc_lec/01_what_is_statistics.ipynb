{
 "cells": [
  {
   "cell_type": "markdown",
   "id": "edbef464",
   "metadata": {},
   "source": [
    "# lec1. What is statistics \n",
    "* 해당 노트북은 통계학 관련 개념을 복습하기 위한 목적으로 작성되었습니다. \n",
    "* 개념 학습은 [KMOOC | 통계학의 이해1 - 여인권교수님 ](http://www.kmooc.kr/courses/course-v1:SookmyungK+SM_sta_004k+2019_03SM_02/about)강의를 토대로 진행하였습니다. "
   ]
  },
  {
   "cell_type": "markdown",
   "id": "f0a017fb",
   "metadata": {},
   "source": [
    "# 통계학이란? \n",
    "* 통계학은 산술적 방법을 기초로 하여, 주로 다량의 데이터를 솬찰하고 정리 및 분석하는 방법을 연구하는 수학의 한 분야이다. \n",
    "* 그 중, 추론통계학은 모집단의 일부인 표본의 특성을 통해 전체 모집단의 모수를 추정하는 학문이다. \n",
    "    \n",
    "     \n",
    "* 관심 또는 연구의 대상인 모집단의 특성을 파악하기 위해, 모집단으로 부터 일부의 자료(표본)를 수집하고, 수집한 표본을 정리•요약•분석하여 표본의 특성을 파악한 후, 표본의 특성을 이용하여 모집단의 특성에 대한 원리와 방법을 제공하는 학문이다. "
   ]
  },
  {
   "cell_type": "markdown",
   "id": "43c9abf0",
   "metadata": {},
   "source": [
    "## 모집단과 모수, 표본과 통계량"
   ]
  },
  {
   "cell_type": "markdown",
   "id": "33d08dac",
   "metadata": {},
   "source": [
    "##### 모집단 (population) \n",
    "* 연구 목적에 연계된 명확한 연구대상 집단. \n",
    "* 연구를 통해 최종적으로 파악하고자 하는 전체 집단. \n",
    "  \n",
    "##### 모수 (parameter) \n",
    "* 모집단의 특성\n",
    "\n",
    "##### 표본 (sample) \n",
    "* 모집단으로 부터 추출된 일부 개체의 집합 \n",
    "\n",
    "##### 통계량 (statistic) \n",
    "* 표본의 특성 \n"
   ]
  },
  {
   "cell_type": "markdown",
   "id": "52200af7",
   "metadata": {},
   "source": [
    "## 전수조사와 표본조사\n",
    "##### 전수조사\n",
    "* 모집단 전체를 대상으로 조사하는 경우를 의미 \n",
    "* 보통의 경우 모집단의 크기가 작은 경우에 시행  \n",
    "\n",
    "##### 표본조사 \n",
    "* 모집단 전체가 아닌 샘플을 추출해 연구 \n",
    "* 표본 추출시 고려사항 \n",
    "    1. 추출된 표본이 모집단 전체를 대표할  수 있는가? \n",
    "    2. 표본의 크기는 어느정도가 적당한가? "
   ]
  },
  {
   "cell_type": "markdown",
   "id": "77af27dc",
   "metadata": {},
   "source": [
    "# 표본 추출 방법과 표본 가중치 설정 방식 "
   ]
  },
  {
   "cell_type": "markdown",
   "id": "b8ac9e1a",
   "metadata": {},
   "source": [
    "## 확률 표본추출 VS 비확률 표본추출 \n",
    "* **확률 표본 추출** \n",
    "    - 단순 확률 추출 \n",
    "    - 계통 확률 추출 \n",
    "    - 집락 추출 \n",
    "    - 층화 추출 \n",
    "    \n",
    "* **비확률 표본 추출** \n",
    "    - 편의 추출 \n",
    "    - 유의 추출 \n",
    "    - 할당 추출 "
   ]
  },
  {
   "cell_type": "markdown",
   "id": "98a5372e",
   "metadata": {},
   "source": [
    "### 확률 표본 추출 (probability sampling) \n",
    "* 모집단을 구성하는 모든 추출단위에 대해 표본으로 추출된 확률을 알 수 있는 추출법.  \n",
    "즉, 특정확률에 기반한 샘플링 방식이다. 이때, 표본추출틀(sampling frame, 표집틀)이 필요하다.    \n",
    "* 특정 표본이 선정될 확률을 기반으로, 추정 오차를 확률적 개념을 도입하여 과학적으로 설명할 수 있다. "
   ]
  },
  {
   "cell_type": "markdown",
   "id": "b76d2c99",
   "metadata": {},
   "source": [
    "#### 단순확률추출 (SRS, Simple Random Sampling) \n",
    "* 크기가 N인 모집단에서, 크기가 n인 표본을 무작위로 추출하는 방법 \n",
    "* 모집단 내 모든 개체의 선택 확률이 n/N으로 동일하다. "
   ]
  },
  {
   "attachments": {
    "image.png": {
     "image/png": "[encoded data removed]"
    }
   },
   "cell_type": "markdown",
   "id": "f065f294",
   "metadata": {},
   "source": [
    "#### 계통표본추출 (systematic sampling) \n",
    "![systematic.png](attachment:image.png)\n",
    "* 표집틀에서, 처음 1~k 번째 단위들 중 하나를 랜덤하게 선택\n",
    "    * 매 k번째에 해당되는 단위들을 표본으로 추출 \n",
    "  \n",
    "* 진행 방법  \n",
    "    1. 추출 간격 k의 결정: N/n 혹은 정확도를 고려하여 설정한다. \n",
    "    2. 1~k 사이에서 난수 하나 (r) 선택 \n",
    "    3. r, r+k, r+2k .... 방식으로 샘플링 \n",
    "\n",
    "* 이때, 각 셈플집단의 추출 확률은 n/N으로 일정하다. \n",
    "* 표집틀이 없어 고유번호 부여, 난수 발생 등 단순 확률 추출법을 적용하기 어려운 실제 조사 현장에서 폭넓게 활용한다. "
   ]
  },
  {
   "cell_type": "code",
   "execution_count": 9,
   "id": "6d069d53",
   "metadata": {},
   "outputs": [
    {
     "data": {
      "text/plain": [
       "dict_keys([0, 8, 16, 24, 32, 40, 48, 56, 64, 72, 80, 88, 96, 104, 112, 120, 128, 136, 144, 152, 160, 168, 176, 184, 192, 200, 208, 216, 224, 232, 240, 248, 256, 264, 272, 280, 288, 296, 304, 312, 320, 328, 336, 344, 352, 360, 368, 376, 384, 392, 400, 408, 416, 424, 432, 440, 448, 456, 464, 472, 480, 488, 496])"
      ]
     },
     "execution_count": 9,
     "metadata": {},
     "output_type": "execute_result"
    }
   ],
   "source": [
    "import random \n",
    "\n",
    "# 난수 샘플 생성 N = 500 \n",
    "population = [] \n",
    "for _ in range(500):\n",
    "    population.append(random.randint(1,200))\n",
    "\n",
    "# 계층 추출 방식 k = 10 \n",
    "sample = {}\n",
    "k = random.randint(1,9)\n",
    "for idx, value in enumerate(population):\n",
    "    if idx % k == 0:\n",
    "        sample[idx] = value\n",
    "\n",
    "sample.keys()"
   ]
  },
  {
   "cell_type": "markdown",
   "id": "3f814ee8",
   "metadata": {},
   "source": [
    "#### 층화확률 추출 (stratified sampling)\n",
    "* 모집단을 서로 중복되지 않는 여러개의 층으로 나누고, 각 층에서 단순확률 추출에 의해 표본을 추출\n",
    "* 해당 방식은 부모집단(sub-population)의 구성 내역을 알고 있는 경우에 사용 가능하다, \n",
    "* 부 모집단 간의 특성 차이가 있는 경우 사용한다. \n",
    "  \n",
    "* 전체 모집단의 크기가 N, i번째 층의 크기가 N_i일 때, 특정 개체가 추출될 확률은 N_i/N이다. \n",
    "* 추출과정 \n",
    "    1. 모집단의 특성을 반영하여, 층을 구성한다. ( 예) 성별, 지역별, 연령별 등) \n",
    "    2. 각 층에서 독립적으로 표본을 추출한다. 이때, 추출 방식은 단순확률 추출을 적용한다. "
   ]
  },
  {
   "cell_type": "markdown",
   "id": "fb27f8bf",
   "metadata": {},
   "source": [
    "* 각 층의 비율에 맞게 추출한 경우는 별도의 가중치 적용이 필요 없지만, 층의 비율이 서로 맞지 않으면 가중치를 반영하여 이를 해결한다. "
   ]
  },
  {
   "cell_type": "code",
   "execution_count": 11,
   "id": "efec1e3b",
   "metadata": {},
   "outputs": [
    {
     "name": "stdout",
     "output_type": "stream",
     "text": [
      "odd sample:  [103, 187, 121, 119, 93, 157, 131, 21, 117, 53, 155, 29, 3, 25, 35, 21, 183, 151, 91, 45, 15, 29, 17, 113, 1, 75, 27, 135, 97, 185, 159, 171, 65, 149, 31, 141, 161, 53, 171, 179, 75, 83, 197, 61, 113, 159, 35, 153, 187, 69]\n",
      "**************************************************\n",
      "even sample:  [96, 54, 86, 178, 146, 60, 80, 176, 160, 80, 66, 158, 86, 18, 72, 62, 140, 188, 170, 174, 148, 62, 62, 150, 88, 92, 138, 30, 14, 6, 180, 176, 166, 62, 52, 94, 14, 104, 100, 2, 26, 82, 28, 68, 128, 74, 42, 132, 86, 100]\n"
     ]
    }
   ],
   "source": [
    "import random \n",
    "\n",
    "# 난수 샘플 생성 N = 500 \n",
    "population = [] \n",
    "for _ in range(500):\n",
    "    population.append(random.randint(1,200))\n",
    "\n",
    "# 짝수 홀수로 그룹 나누기 (층화)\n",
    "odd = [] \n",
    "even = [] \n",
    "for i in population:\n",
    "    if i%2 == 0: \n",
    "        even.append(i)\n",
    "    else: \n",
    "        odd.append(i)\n",
    "\n",
    "# 각 층별 랜덤 추출\n",
    "sample_odd = random.sample(odd, 50)\n",
    "sample_even = random.sample(even, 50)\n",
    "\n",
    "print('odd sample: ',sample_odd)\n",
    "print('*'*50)\n",
    "print('even sample: ', sample_even)"
   ]
  },
  {
   "attachments": {
    "image.png": {
     "image/png": "[encoded data removed]"
    }
   },
   "cell_type": "markdown",
   "id": "b10e81ba",
   "metadata": {},
   "source": [
    "#### 집락표본추출 (cluster sampling) \n",
    "![cluster.png](attachment:image.png)\n",
    "* 서로 인접한 조사단위들을 묶어 구성한 집락(cluster)을 추출하고, 이들 집락 내의 조사단위들을 조사 \n",
    "* 장점: 표본 추출 과정에서의 비용 감소 "
   ]
  },
  {
   "cell_type": "markdown",
   "id": "a380a5f7",
   "metadata": {},
   "source": [
    "### 비확률 표본 추출 (non-probability sampling) \n",
    "* 특정 표본이 선정될 확률을 알 수 없다.  \n",
    "따라서, 추론의 정확도를 알 수 없다. 즉, 표본의 특성을 모집단의 특성으로 확장시키기에 무리가존재한다.  \n",
    "  \n",
    "* 종류 \n",
    "    - 편의추출: 조사자의 편의에 기반한 선택 (자발적 참여, 백화점 출구 앞 조사, 포털사이트 인터넷 조사 등) \n",
    "    - 유의추출: 전문가 그룹을 대상으로 조사 \n",
    "    - 할당 추출: 그룹 내 조사대상에서 선택, 다만 추출 과정에서 랜덤화 과정이 수반되지 않는다. \n",
    "* 저비용과 편이성으로 인해 사회 조사에서 광범위하게 사용된다. "
   ]
  },
  {
   "cell_type": "markdown",
   "id": "833ec754",
   "metadata": {},
   "source": [
    "## 표본 가중치\n",
    "* 표본 설계 및 추출과정 중, 모집단과 구성이 다른 표본이 추출되는 경우, 가중치 조정을 통한 해결\n",
    "* 특히, 층화 추출 방식에서 --> 모집단이 서로 다른 특성을 가지는 부모집단들로 이루어진 경우, 특정 부-모집단에서 표본이 많이 추출되거나 적게 추출되면 --> 전체 모집단에 대해 추론시, 왜곡된 결과가 도출될 수 잇음 \n",
    "* 이때, 가중치를 적용하여 문제를 해결 할 수 있다. \n",
    "    - **Basic concept**: 한 표본 객체가 몇 개의 객체를 대표하는가  "
   ]
  },
  {
   "cell_type": "markdown",
   "id": "f173ba67",
   "metadata": {},
   "source": [
    "### 기본 가중치 \n",
    "* **단순확률 추출법:** 각 표본에 대한 설계가중치 w = N/n \n",
    "* **계통추출법:** w = N/n = k \n",
    "* **층화확률추출법:** 층의 크기와 해당 층에서의 표본 크기에 따라 달라짐 \n",
    "* **집락추출:** 집락의 크기와 해당 집락에서의 표본크기에 따라 달라짐"
   ]
  },
  {
   "cell_type": "markdown",
   "id": "06138672",
   "metadata": {},
   "source": [
    "### 층화추출 방식에서의 가중치 부여 방식 \n",
    "* W = w(추출확률에 따른 가중치) x w(무응답에 따른 가중치) x w(사후층화를 위한 가중치) "
   ]
  },
  {
   "cell_type": "markdown",
   "id": "4794bd53",
   "metadata": {},
   "source": [
    "#### 추출확률에 따른 가중치 w_1 \n",
    "* **등확률 추출인 경우** (각 층의 크기와 각 층에서의 추출갯수가 모두 동일한 경우) \n",
    "    - 표본으로 선택될 확률: n/N \n",
    "    - 표본에서 해당 객체가 차지하는 비율: 1/n \n",
    "    - 각 객체는 하나 당 N/n의 객체를 대표 \n",
    "* **등확률이 아닌경우** \n",
    "    - 추출확률의 상이함에 따른 조정이 필요 \n",
    "      \n",
    "ex) 최종학력별 대기업 취업 현황조사   \n",
    "\n",
    "   - **집단**: 고졸/ 대졸 \n",
    "   - **모집단의 크기**\n",
    "        + 고졸: 40만 명 \n",
    "        + 대졸: 20만 명 \n",
    "   - **표본크기** \n",
    "        + 고졸: 500명 \n",
    "        + 대졸: 500명  \n",
    "-------------------------------\n",
    "- **추출률:**\n",
    "    - **고졸집단**: 500/400000 \n",
    "    - **대졸집단**: 500/200000\n",
    "- **설계 가중치** = 1/추출률 \n",
    "    - 고졸집단 1명이 전체 중 800명을 대표 \n",
    "    - 대졸집단 1명이 집단 전체중 400명을 대표 "
   ]
  },
  {
   "cell_type": "markdown",
   "id": "6ff1652f",
   "metadata": {},
   "source": [
    "### 무응답에 따른 가중치: W_2 \n",
    "* 조사 대상이 무응답시, 이를 대체하기 위한 대체 표본이 부재하거나 \n",
    "* 조사 대상이 일부 항목에 답을 하지 않은 경우 \n",
    "  \n",
    "ex) 최종학력별 대기업 취업 현황조사  \n",
    "   - **응답률**\n",
    "       + 고졸집단의 경우, 전체 표본 중, 60%가 설문에 응답 \n",
    "       + 대졸집단의 경우, 전체 표본 중, 80%가 설문에 응답 \n",
    "   - **응답 가중치** = **1/응답률** \n",
    "       * 고졸집단의 경우 응답자 1인당 \n",
    "           - 800 x (10/6) = 1333.3명 대표 \n",
    "       * 대졸집단의 경우, 응답자 1인당 \n",
    "           - 400 x (10/8) = 500 명 대표 "
   ]
  },
  {
   "cell_type": "markdown",
   "id": "a1e44b02",
   "metadata": {},
   "source": [
    "### 사후층화를 위한 가중치: w_3 \n",
    "* 조사 도중, 모집단에 대한 새로운 정보(특성)을 알게 됌 \n",
    "    - 샘플집단이 모집단의 특성을 반영하지 못하는 경우 발생 \n",
    "    - 즉, 사후(샘플링 이후)층화를 다시 해야 하는 경우, 사후층화에 대한 가중치 적용 \n",
    "ex) 최종학력별 대기업 취업 현황조사 \n",
    "* 성별에 따라 취업 현황에 차이가 있음을 발견 \n",
    "* 이때, 샘플에서의 남녀 비율은 고졸자 집단과 대졸자 집단에서 유사(동일) 하다 가정 \n",
    "* **모집단의 성비:** (45:55) \n",
    "* **표본에서의 성비:** (60:40)\n",
    "--------------------------------\n",
    "* **사후층화 가중치** \n",
    "    - 남자의 가중치: 45/60 \n",
    "    - 여자의 가중치: 55/40 "
   ]
  },
  {
   "cell_type": "markdown",
   "id": "e93cb0a5",
   "metadata": {},
   "source": [
    "### 최종 가중치 W \n",
    "* 응답한 고졸 남성: w =  1/(500/400000) x (10/6) x (45/60) \n",
    "* 응답한 고졸 여성: w =  1/(500/400000) x (10/6) x (55/40)\n",
    "* 응답한 대졸 남성: w =  1/(500/200000) x (10/8) x (45/60) \n",
    "* 응답한 대졸 여성: w =  1/(500/200000) x (10/8) x (55/40)"
   ]
  },
  {
   "cell_type": "code",
   "execution_count": null,
   "id": "681879ef",
   "metadata": {},
   "outputs": [],
   "source": []
  }
 ],
 "metadata": {
  "kernelspec": {
   "display_name": "Python 3 (ipykernel)",
   "language": "python",
   "name": "python3"
  },
  "language_info": {
   "codemirror_mode": {
    "name": "ipython",
    "version": 3
   },
   "file_extension": ".py",
   "mimetype": "text/x-python",
   "name": "python",
   "nbconvert_exporter": "python",
   "pygments_lexer": "ipython3",
   "version": "3.8.8"
  },
  "toc": {
   "base_numbering": 1,
   "nav_menu": {},
   "number_sections": true,
   "sideBar": true,
   "skip_h1_title": false,
   "title_cell": "Table of Contents",
   "title_sidebar": "Contents",
   "toc_cell": false,
   "toc_position": {},
   "toc_section_display": true,
   "toc_window_display": true
  }
 },
 "nbformat": 4,
 "nbformat_minor": 5
}
