{
 "cells": [
  {
   "cell_type": "markdown",
   "id": "ffd2dbb2",
   "metadata": {},
   "source": [
    "# 자료의 형태: 일변량 자료 \n",
    "* 통계학에서는, 자료의 형태와 분석의 목적에 따라 다른 형태의 분석 방법론을 적용합니다. \n",
    "* 따라서, 분석에 앞서 데이터의 형태를 파악하는 것이 분석에 있어 핵심적인 과정입니다. "
   ]
  },
  {
   "cell_type": "code",
   "execution_count": 20,
   "id": "26b0c0d2",
   "metadata": {},
   "outputs": [],
   "source": [
    "import pandas as pd \n",
    "import random\n",
    "\n",
    "키 = [random.randint(140,200) for _ in range(30)]\n",
    "몸무게 = [random.randint(45,120) for _ in range(30)]\n",
    "\n",
    "sex_dict = {1:'남',0:'여'}\n",
    "성별 = [sex_dict[random.randint(0,1)] for _ in range(30)]\n",
    "bmi = [w/(h**2) for w,h in zip(몸무게,키)]\n",
    "\n",
    "data = pd.DataFrame({'키':키,'몸무게':몸무게,'성별':성별,'bmi':bmi})"
   ]
  },
  {
   "cell_type": "code",
   "execution_count": null,
   "id": "67b2dc68",
   "metadata": {},
   "outputs": [],
   "source": []
  }
 ],
 "metadata": {
  "kernelspec": {
   "display_name": "Python 3 (ipykernel)",
   "language": "python",
   "name": "python3"
  },
  "language_info": {
   "codemirror_mode": {
    "name": "ipython",
    "version": 3
   },
   "file_extension": ".py",
   "mimetype": "text/x-python",
   "name": "python",
   "nbconvert_exporter": "python",
   "pygments_lexer": "ipython3",
   "version": "3.8.8"
  },
  "toc": {
   "base_numbering": 1,
   "nav_menu": {},
   "number_sections": true,
   "sideBar": true,
   "skip_h1_title": false,
   "title_cell": "Table of Contents",
   "title_sidebar": "Contents",
   "toc_cell": false,
   "toc_position": {},
   "toc_section_display": true,
   "toc_window_display": false
  }
 },
 "nbformat": 4,
 "nbformat_minor": 5
}
