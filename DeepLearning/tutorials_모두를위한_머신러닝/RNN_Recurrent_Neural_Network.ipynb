{
 "cells": [
  {
   "cell_type": "markdown",
   "id": "b9f01783",
   "metadata": {},
   "source": [
    "# RNN (Recurent Neural Network)\n",
    "* 해당 학습은 [김성원교수의 모두를 위한 머신러닝/딥러닝 강의](https://hunkim.github.io/ml/)와 [텐서플로우로 시작하는 딥러닝 기초](https://www.boostcourse.org/ai212/joinLectures/25072) 의 강의를 통해 진행하였습니다. \n",
    "* 순환신경망 ( venila RNN / LSTM / GRU )에 대한 자세한 이론적 학습은 이전에 주가예측을 위한 모형 고안을 하던 당시 학습한 기록이 남아 있습니다. \n",
    "[RNN study](https://github.com/jun3599/Stock_Market_prediction/blob/main/recurent_neural_network.ipynb)\n",
    "* 이번 강좌에서는 보다 Low Level API를 이용하여 모형을 구현하고, 순환신경망에 대한 심층적인 이해와 복습을 목적으로 학습을 진행합니다. "
   ]
  },
  {
   "cell_type": "markdown",
   "id": "f24e3e7b",
   "metadata": {},
   "source": [
    "# 순환신경망의 기본적 개념 "
   ]
  },
  {
   "cell_type": "markdown",
   "id": "82e728fa",
   "metadata": {},
   "source": [
    "## Idea of RNN "
   ]
  },
  {
   "cell_type": "markdown",
   "id": "8ca50446",
   "metadata": {},
   "source": [
    "* 기존의 신경망들은, 입력과 출력의 구조가 일방향적인 학습이 이루어지는 구조였습니다. ![cf.png](https://img1.daumcdn.net/thumb/R1280x0/?scode=mtistory2&fname=https%3A%2F%2Fblog.kakaocdn.net%2Fdn%2FMe6NZ%2FbtqAkybHfbJ%2Ffx5NKmeXgq8nR5XkiStpFK%2Fimg.png) 따라서, '동그라미'로 표현되는 하나의 셀은 구체적으로 이전 layer에서 입력된 값들에 각자의 고유 가중치를 내적하여 다음 layer의 각 cell들에게 일방적으로 전달하는 구조를 가지고 있습니다. "
   ]
  },
  {
   "cell_type": "markdown",
   "id": "13fd097e",
   "metadata": {},
   "source": [
    "![net_with_rnn.png](https://gblobscdn.gitbook.com/assets%2F-LvBP1svpACTB1R1x_U4%2F-LwEQnQw8wHRB6_2zYtG%2F-LwEZT8zd07mLDuaQZwy%2Fimage.png?alt=media&token=93a3c3e2-e32b-4fec-baf5-5e6b092920c4) \n",
    "* 반면, RNN 계열의 신경망의 전체 모습은, 위에서 보이는 바와 같이 하나의 cell에서 일어나는 연산이 다소 복잡한 구조로 이루어져 있습니다. \n",
    "* 즉, 하나의 Cell은 자신의 이전 출력값을 새로운 입력과 함께 입력받으며 출력값을 계산합니다. \n",
    "* 즉, 현재의 값을 계산하기 위해 이전까지의 결과를 함께 고려하는 구조의 신경망입니다. \n",
    "* 이러한 특성 덕택에, RNN Cell을 이용한 순환신경망은 순서를 갖는 Sequence data를 효율적으로 처리 가능하다는 특성을 지닙니다. "
   ]
  },
  {
   "cell_type": "markdown",
   "id": "fd3d70ec",
   "metadata": {},
   "source": [
    "## RNN의 구조 "
   ]
  },
  {
   "cell_type": "markdown",
   "id": "bbb18635",
   "metadata": {},
   "source": [
    "##### Venila RNN의  Cell 구조 \n",
    "![venilaRNNCell.png](https://img1.daumcdn.net/thumb/R720x0.q80/?scode=mtistory2&fname=http%3A%2F%2Fcfile23.uf.tistory.com%2Fimage%2F2578204757AC186F2A70DC)\n",
    "* 위의 그림은 하나의 RNN Cell의 구조를 보여줍니다. 그림의 왼쪽을 이해의 편리함을 위해 오른쪽 그림처럼 펼져 이해해 보겠습니다. \n",
    "\n",
    "* 그림과 같이 RNN 계열의 신경망은 은닉층의 노드에서 활성화 함수를 통해 나온 결과값을 출력층 방향으로도 보내면서, 다시 은닉층 노드의 다음 계산의 입력으로 보내는 특징을 갖고있습니다.  \n",
    "\n",
    "* 은닉층의 각 메모리셀은 각각의 시점에서 바로 이전시점에서의 은닉층의 메모리 셀에서 나온 값을 자신의 입력으로 사용하는 재귀적 활동을 수행함\n",
    "\n",
    "* 메모리 셀이 출력층 방향으로 또는 다음 시점 t+1의 자신에게 보내는 값을 은닉 상태(hidden state) 라고 합니다. 다시 말해 t 시점의 메모리 셀은 t-1 시점의 메모리 셀이 보낸 은닉 상태값을 t 시점의 은닉 상태 계산을 위한 입력값으로 사용합니다."
   ]
  },
  {
   "cell_type": "markdown",
   "id": "ac74ab9c",
   "metadata": {},
   "source": [
    "##### RNN Cell 의 계산 절차 details \n",
    "\n",
    "![rnnCal.png](https://cdn.analyticsvidhya.com/wp-content/uploads/2017/12/06022525/bptt.png)\n"
   ]
  },
  {
   "cell_type": "markdown",
   "id": "825f4254",
   "metadata": {},
   "source": [
    "* 하나의 RNN Cell은 위와 같은 방식의 계산을 진행합니다. \n",
    "    - RNN Cell은 새로운 입력을 받는 부분과, 이전의 과정에서 도출된 값을 받는 부분으로 이루어져 있습니다. \n",
    "    - 각각의 과정에서는 새로운 입력에 대한 가중치 W_xh와 이전의 값의 입력에 대한 가중치인 W_hh를 이용하여 값을 계산하고, 최종적으로 활성함수(주로 tanh)를 적용하여 다음층으로 값을 넘겨주는것과 동시에, W_yh를 곱한 값을 출력층으로 전달합니다.   \n",
    "    \n",
    "    $$h_t = f_w(h_{t-1}, x_t)$$  \n",
    "    \n",
    "    $$h_t = tanh(W_{hh}h_{t-1} + W_{xh}x_t)$$  \n",
    "    $$y_t = W_{hy}h_t$$"
   ]
  },
  {
   "cell_type": "markdown",
   "id": "27414f5b",
   "metadata": {},
   "source": [
    "##### 계산 예시 \n",
    "![examRnn.png](https://img1.daumcdn.net/thumb/R720x0.q80/?scode=mtistory2&fname=http%3A%2F%2Fcfile23.uf.tistory.com%2Fimage%2F243AD34957ADEEE633DE7B) \n",
    "* 위의 계산 과정은 Hello 라는 하나의 단어를 sequence 형태로 변환후, 이를 개별적인 원핫백터로서 입력하여 Hell 다음에 오는 데이텀을 예측하는 모형의 예시입니다. "
   ]
  },
  {
   "cell_type": "markdown",
   "id": "62703508",
   "metadata": {},
   "source": [
    "## +𝛼 : Tensor의 차원 이해하기 "
   ]
  },
  {
   "cell_type": "markdown",
   "id": "2462ade7",
   "metadata": {},
   "source": [
    "![tensor.png](https://res.cloudinary.com/practicaldev/image/fetch/s--VaxrSdrA--/c_limit%2Cf_auto%2Cfl_progressive%2Cq_auto%2Cw_880/https://thepracticaldev.s3.amazonaws.com/i/bp6ux6ppf5t5amwkxklq.jpg)\n",
    "\n",
    "* 텐서는 기본적으로 어떠한 집합을 원소로 갖는 구조를 의미합니다. \n",
    "    - 예를 들어, rank가 2인 행렬을 원소로 갖는 텐서를 3D 텐서라고 합니다. \n",
    "    - 또한 이러한 3D tensor를 원소로 갖는 텐서를 4D 텐서라고 합니다. \n",
    "    - 즉, 자신의 원소로써, 자신보다 낮은 차원의 원소를 포함하는 구조를 N-D tensor라고 부릅니다. \n",
    "* 텐서의 일반적인 차원에 대한 표기 방식은, 가장 낮은 차원의 구성 갯수를 왼쪽에서 시작해, 오른쪽에는 가장 큰 차원이 갖는 원소의 수를 적습니다. \n",
    "    - 예를들어, \n",
    "    $$\\matrix{[[[1, 2, 3, 4],[5, 6, 7, 8],[9, 10, 11, 12]],\\\\\n",
    "    [[1, 2, 3, 4],[5, 6, 7, 8],[9, 10, 11, 12]]]}$$  \n",
    "    \n",
    "    위의 수식은 두개의 행렬을 원소로 갖는 3D tensor 구조를 보여줍니다. 이때 각 행렬은 3개의 벡터를 포함하고 있으며, 각각의 벡터는 4개의 차원을 갖습니다. \n",
    "    * 이를 텐서의 차원으로 표기하면 Tensor(2,3,4)로 표기할 수 있습니다. "
   ]
  },
  {
   "cell_type": "markdown",
   "id": "99b7102e",
   "metadata": {},
   "source": [
    "# Basic of RNN "
   ]
  },
  {
   "cell_type": "markdown",
   "id": "b31cbbfd",
   "metadata": {},
   "source": [
    "## Basic of RNN1. 하나의 벡터 입력 받기\n",
    "* 가장 간단한 RNN모형의 구현을 통해 모형의 기초 사항에 대해 살펴봅니다.\n",
    "* 구현할 모형에 대한 상세사항은 다음과 같습니다. \n",
    "![basicRNNexam.png](https://camo.githubusercontent.com/db4a71ef36402dca5f6d3787bf4035a4eb1c4839/68747470733a2f2f636c6f75642e67697468756275736572636f6e74656e742e636f6d2f6173736574732f3930313937352f32333334383732372f63633938313835362d666365372d313165362d383365612d3462313837343733343636622e706e67)  \n",
    "    - 모형의 목적 : 한가지 단어의 스펠링을 문자단위로 입력받아, 다음 문자를 예측하는 모형을 구현합니다. \n",
    "    - 모형의 형태 : 하나의 vienila Rnn Cell로 이루어진 모형을 이용합니다. \n",
    "        "
   ]
  },
  {
   "cell_type": "markdown",
   "id": "798e87ed",
   "metadata": {},
   "source": [
    "### 필요 라이브러리 불러오기 "
   ]
  },
  {
   "cell_type": "code",
   "execution_count": 1,
   "id": "aff81f09",
   "metadata": {},
   "outputs": [],
   "source": [
    "import numpy as np \n",
    "import tensorflow as tf \n",
    "from tensorflow import keras \n",
    "\n",
    "# 우리가 사용할 simpleRNNCell, RNN, SimpleRNN을 담고 있습니다. \n",
    "from tensorflow.keras import layers \n",
    "\n",
    "# 모형 생성기 \n",
    "from tensorflow.keras import Sequential, Model "
   ]
  },
  {
   "cell_type": "markdown",
   "id": "b41d0536",
   "metadata": {},
   "source": [
    "### 학습용 데이터 준비하기 "
   ]
  },
  {
   "cell_type": "code",
   "execution_count": 2,
   "id": "3e6ea547",
   "metadata": {},
   "outputs": [],
   "source": [
    "# 원한 벡터 형태로 각 글자를 표현합니다. \n",
    "h = [1, 0, 0, 0]\n",
    "e = [0, 1, 0, 0]\n",
    "l = [0, 0, 1, 0]\n",
    "o = [0, 0, 0, 1]"
   ]
  },
  {
   "cell_type": "markdown",
   "id": "54f64741",
   "metadata": {},
   "source": [
    "### 모형 구현 \n",
    "* 모형을 구현하는 방식에는 크게 두가지 방식이 있습니다. \n",
    "    - 방식1. : Cell을 별도로 생성하고 이를 RNN 전용 드라이버에 인자로 넘겨주는 방식  \n",
    "    - 방식2. : Cell을 별도로 생성하지 않고, 즉각적으로 모형 생성하기   \n",
    "( 방식1과 같은 방법을 사용하는 이유는 모형을 유동적으로 변경하고, 다룰수 있다는 장점에 있습니다.)"
   ]
  },
  {
   "cell_type": "markdown",
   "id": "946f66f8",
   "metadata": {},
   "source": [
    "#### 방식1. \n",
    "* layers.SimpleRNNCell을 활용하여 하나의 셀을 만든 후, \n",
    "* layers.RNN에 해당 셀을 전달함으로써 모형을 구성합니다. "
   ]
  },
  {
   "cell_type": "code",
   "execution_count": 3,
   "id": "8a38c0cc",
   "metadata": {},
   "outputs": [
    {
     "name": "stdout",
     "output_type": "stream",
     "text": [
      "x_data: [[[1. 0. 0. 0.]]], shape : (1, 1, 4)\n",
      "outputs: [[[ 0.05821195 -0.42081955]]], shape: (1, 1, 2)\n",
      "states: [[ 0.05821195 -0.42081955]], shape: (1, 2)\n"
     ]
    }
   ],
   "source": [
    "# 하나의 RNN Cell을 생성합니다. \n",
    "# 모형을 (input dim = 4 --> output dim = 2 ) 구조로 생성합니다. \n",
    "\n",
    "# 데이터의 형태 정의 \n",
    "x_data = np.array([[h]], dtype=np.float32)\n",
    "# [[h]] == [[[1,0,0,0]]]  --> shape (1, 1, 4)\n",
    "\n",
    "# 셀과 셀 컴파일러 정의 \n",
    "hidden_size = 2  # 우리가 원하는 출력의 차원, 즉 출력 유닛수 \n",
    "cell = layers.SimpleRNNCell(units=hidden_size) # unit옵션은 출력 신호의 수를 지정 \n",
    "rnn = layers.RNN(cell= cell, return_sequences=True, return_state=True)\n",
    "# 데이터의 입력 및 값 계산 \n",
    "outputs, states = rnn(x_data)\n",
    "\n",
    "# 결과의 출력 \n",
    "print('x_data: {}, shape : {}'.format(x_data, x_data.shape))\n",
    "print('outputs: {}, shape: {}'.format(outputs, outputs.shape))\n",
    "print('states: {}, shape: {}'.format(states, states.shape))"
   ]
  },
  {
   "cell_type": "markdown",
   "id": "53e8d296",
   "metadata": {},
   "source": [
    "[딥러닝을 이용한 자연어처리 입문](https://wikidocs.net/106473)\n",
    "* return_sequences=True를 선택하면 메모리 셀이 모든 시점(time step)에 대해서 은닉 상태값을 출력하며, 별도 기재하지 않거나 return_sequences=False로 선택할 경우에는 메모리 셀은 하나의 은닉 상태값만을 출력합니다. 그리고 이 하나의 값은 마지막 시점(time step)의 메모리 셀의 은닉 상태값입니다.\n",
    "\n",
    "* return_state가 True일 경우에는 return_sequences의 True/False 여부와 상관없이 마지막 시점의 은닉 상태를 출력합니다. 가령, return_sequences가 True이면서, return_state를 True로 할 경우 SimpleRNN은 두 개의 출력을 리턴합니다.첫번째 출력은 return_sequences=True로 인한 출력으로 모든 시점의 은닉 상태입니다. 두번째 출력은 return_state=True로 인한 출력으로 마지막 시점의 은닉 상태입니다. "
   ]
  },
  {
   "cell_type": "markdown",
   "id": "18d2ea9b",
   "metadata": {},
   "source": [
    "##### 결과의 해석 \n",
    "* 위의 학습 결과에서, outputs와 states에는 같은 값이 들어가 있지만, 차원이 다른 모습을 보여줍니다. \n",
    "    - 이는, outputs의 경우 모든 sequence의 결과값을 담고 있음을 말하고, states에는 마지막 hiddenstate의 결과만을 담고 있음을 알 수 있습니다 "
   ]
  },
  {
   "cell_type": "markdown",
   "id": "2f43adec",
   "metadata": {},
   "source": [
    "#### 방식2: 한줄의 코드로 만들기 \n",
    "* 위의 방식과 같은 결과를 만들어냅니다. \n",
    "* 하지만, 이의 경우 모형의 셀을 유동적으로 변경할 수 없다는 단점을 지닙니다. "
   ]
  },
  {
   "cell_type": "code",
   "execution_count": 4,
   "id": "daf6c977",
   "metadata": {},
   "outputs": [
    {
     "name": "stdout",
     "output_type": "stream",
     "text": [
      "x_data: [[[1. 0. 0. 0.]]], shape: (1, 1, 4)\n",
      "outputs: [[[ 0.26618353 -0.37249312]]], shape: (1, 1, 2)\n",
      "states: [[ 0.26618353 -0.37249312]], shape: (1, 2)\n"
     ]
    }
   ],
   "source": [
    "x_data = np.array([[h]],dtype=np.float32)\n",
    "\n",
    "# 보다 high level API로 한줄로 간편하게 생성이 가능합니다. \n",
    "rnn = layers.SimpleRNN(units=hidden_size, return_sequences=True, return_state=True)\n",
    "\n",
    "outputs, states = rnn(x_data)\n",
    "\n",
    "print('x_data: {}, shape: {}'.format(x_data, x_data.shape))\n",
    "print('outputs: {}, shape: {}'.format(outputs, outputs.shape))\n",
    "print('states: {}, shape: {}'.format(states, states.shape))"
   ]
  },
  {
   "cell_type": "markdown",
   "id": "a1414cff",
   "metadata": {},
   "source": [
    "## Basic of RNN2: 시퀀스 형태의 입력 받기 "
   ]
  },
  {
   "cell_type": "markdown",
   "id": "f40d42ad",
   "metadata": {},
   "source": [
    "##### Unfolding to n Sequence \n",
    "![basicRNNexam2.png](https://camo.githubusercontent.com/194a1b757f5f0c000f1b1a83a1747da3f8489b48/68747470733a2f2f636c6f75642e67697468756275736572636f6e74656e742e636f6d2f6173736574732f3930313937352f32333338333633342f36343965666430612d666438322d313165362d393235642d3830343132343237343362302e706e67)"
   ]
  },
  {
   "cell_type": "markdown",
   "id": "ec16a3c9",
   "metadata": {},
   "source": [
    "* 이번에는 4개의 차원으로 이루어진 Vector 5개를 원소로 갖는 1개의 Metrix를 입력으로 제공하겠습니다. "
   ]
  },
  {
   "cell_type": "markdown",
   "id": "f94903fa",
   "metadata": {},
   "source": [
    "##### 데이터 형태 생성 "
   ]
  },
  {
   "cell_type": "code",
   "execution_count": 5,
   "id": "e74ee247",
   "metadata": {},
   "outputs": [],
   "source": [
    "x_data = np.array([[h, e, l, l, o]], dtype = np.float32)"
   ]
  },
  {
   "cell_type": "markdown",
   "id": "7451bbee",
   "metadata": {},
   "source": [
    "### 방식 1."
   ]
  },
  {
   "cell_type": "markdown",
   "id": "5c1034bf",
   "metadata": {},
   "source": [
    "##### 셀 생성 및 초기화 "
   ]
  },
  {
   "cell_type": "code",
   "execution_count": 6,
   "id": "64d516a4",
   "metadata": {},
   "outputs": [],
   "source": [
    "hidden_size = 2 \n",
    "cell = layers.SimpleRNNCell(units=hidden_size)\n",
    "rnn = layers.RNN(cell=cell, return_sequences=True, return_state= True)"
   ]
  },
  {
   "cell_type": "markdown",
   "id": "7cd7160c",
   "metadata": {},
   "source": [
    "##### 학습 및 결과 출력 "
   ]
  },
  {
   "cell_type": "code",
   "execution_count": 7,
   "id": "bae23607",
   "metadata": {},
   "outputs": [],
   "source": [
    "outputs, states = rnn(x_data)"
   ]
  },
  {
   "cell_type": "code",
   "execution_count": 8,
   "id": "dc7097c5",
   "metadata": {},
   "outputs": [
    {
     "name": "stdout",
     "output_type": "stream",
     "text": [
      "x_data: [[[1. 0. 0. 0.]\n",
      "  [0. 1. 0. 0.]\n",
      "  [0. 0. 1. 0.]\n",
      "  [0. 0. 1. 0.]\n",
      "  [0. 0. 0. 1.]]], shape: (1, 5, 4) \n",
      "\n",
      "outputs: [[[ 0.5424151  -0.5437594 ]\n",
      "  [-0.7516673   0.855709  ]\n",
      "  [ 0.29133034 -0.7488676 ]\n",
      "  [-0.9129436  -0.43150187]\n",
      "  [-0.40806997 -0.58041596]]], shape: (1, 5, 2) \n",
      "\n",
      "states: [[-0.40806997 -0.58041596]], shape: (1, 2)\n"
     ]
    }
   ],
   "source": [
    "print('x_data: {}, shape: {} \\n'.format(x_data, x_data.shape))\n",
    "print('outputs: {}, shape: {} \\n'.format(outputs, outputs.shape))\n",
    "print('states: {}, shape: {}'.format(states, states.shape))"
   ]
  },
  {
   "cell_type": "markdown",
   "id": "771b84b9",
   "metadata": {},
   "source": [
    "### 방식2. "
   ]
  },
  {
   "cell_type": "markdown",
   "id": "ca8091a1",
   "metadata": {},
   "source": [
    "###### 셀 생성 및 초기화 "
   ]
  },
  {
   "cell_type": "code",
   "execution_count": 9,
   "id": "5e2bcf5e",
   "metadata": {},
   "outputs": [],
   "source": [
    "hidden_size = 2 \n",
    "\n",
    "rnn = layers.SimpleRNN(units=hidden_size, return_sequences= True, return_state= True)"
   ]
  },
  {
   "cell_type": "markdown",
   "id": "736c5bfb",
   "metadata": {},
   "source": [
    "##### 학습 및  결과 출력 "
   ]
  },
  {
   "cell_type": "code",
   "execution_count": 10,
   "id": "ebaeb9c9",
   "metadata": {},
   "outputs": [],
   "source": [
    "outputs, states = rnn(x_data)"
   ]
  },
  {
   "cell_type": "code",
   "execution_count": 11,
   "id": "f1ae8358",
   "metadata": {},
   "outputs": [
    {
     "name": "stdout",
     "output_type": "stream",
     "text": [
      "x_data: [[[1. 0. 0. 0.]\n",
      "  [0. 1. 0. 0.]\n",
      "  [0. 0. 1. 0.]\n",
      "  [0. 0. 1. 0.]\n",
      "  [0. 0. 0. 1.]]], shape: (1, 5, 4) \n",
      "\n",
      "outputs: [[[-0.7172524   0.711289  ]\n",
      "  [ 0.64156586  0.85676116]\n",
      "  [ 0.43649918 -0.90608877]\n",
      "  [-0.8634083  -0.911343  ]\n",
      "  [-0.8824211   0.9260854 ]]], shape: (1, 5, 2) \n",
      "\n",
      "states: [[-0.8824211  0.9260854]], shape: (1, 2)\n"
     ]
    }
   ],
   "source": [
    "print('x_data: {}, shape: {} \\n'.format(x_data, x_data.shape))\n",
    "print('outputs: {}, shape: {} \\n'.format(outputs, outputs.shape))\n",
    "print('states: {}, shape: {}'.format(states, states.shape))"
   ]
  },
  {
   "cell_type": "markdown",
   "id": "d76b964b",
   "metadata": {},
   "source": [
    "## Basic of RNN: Batching input "
   ]
  },
  {
   "cell_type": "markdown",
   "id": "66bfe018",
   "metadata": {},
   "source": [
    "![basicRNNexam3.png](https://camo.githubusercontent.com/36e4d1308f70201943dd019c5b5f7b3569f1f5bb/68747470733a2f2f636c6f75642e67697468756275736572636f6e74656e742e636f6d2f6173736574732f3930313937352f32333338333638312f39393433613966632d666438322d313165362d383132312d6264313837393934653234392e706e67)"
   ]
  },
  {
   "cell_type": "markdown",
   "id": "492b53be",
   "metadata": {},
   "source": [
    "* 이번에는 4개의 글자로 구성된 3개의 단어를 원소로 갖는 하나의 3d tensor를 입력으로 제공해 보겠습니다. "
   ]
  },
  {
   "cell_type": "code",
   "execution_count": 12,
   "id": "98175b15",
   "metadata": {},
   "outputs": [
    {
     "name": "stdout",
     "output_type": "stream",
     "text": [
      "x_data: [[[1. 0. 0. 0.]\n",
      "  [0. 1. 0. 0.]\n",
      "  [0. 0. 1. 0.]\n",
      "  [0. 0. 1. 0.]\n",
      "  [0. 0. 0. 1.]]\n",
      "\n",
      " [[0. 1. 0. 0.]\n",
      "  [0. 0. 0. 1.]\n",
      "  [0. 0. 1. 0.]\n",
      "  [0. 0. 1. 0.]\n",
      "  [0. 0. 1. 0.]]\n",
      "\n",
      " [[0. 0. 1. 0.]\n",
      "  [0. 0. 1. 0.]\n",
      "  [0. 1. 0. 0.]\n",
      "  [0. 1. 0. 0.]\n",
      "  [0. 0. 1. 0.]]], shape: (3, 5, 4) \n",
      "\n",
      "outputs: [[[ 0.587694    0.27291715]\n",
      "  [ 0.0587311   0.73999214]\n",
      "  [ 0.02868586  0.30735892]\n",
      "  [ 0.3823171   0.09790175]\n",
      "  [ 0.21077834  0.81382513]]\n",
      "\n",
      " [[ 0.04168834  0.29379526]\n",
      "  [-0.1125332   0.7260708 ]\n",
      "  [-0.03502973  0.1567525 ]\n",
      "  [ 0.46939644 -0.02585174]\n",
      "  [ 0.71496844  0.33160612]]\n",
      "\n",
      " [[ 0.58185506 -0.06414629]\n",
      "  [ 0.75376153  0.40390375]\n",
      "  [ 0.01538492  0.8202128 ]\n",
      "  [-0.59539676  0.59246236]\n",
      "  [-0.12951216 -0.32195243]]], shape: (3, 5, 2) \n",
      "\n",
      "states: [[ 0.21077834  0.81382513]\n",
      " [ 0.71496844  0.33160612]\n",
      " [-0.12951216 -0.32195243]], shape: (3, 2)\n"
     ]
    }
   ],
   "source": [
    "\n",
    "# One cell RNN input_dim (4) -> output_dim (2). sequence: 5, batch 3\n",
    "# 3 batches 'hello', 'eolll', 'lleel'\n",
    "x_data = np.array([[h, e, l, l, o],\n",
    "                   [e, o, l, l, l],\n",
    "                   [l, l, e, e, l]], dtype=np.float32)\n",
    "\n",
    "hidden_size = 2\n",
    "rnn = layers.SimpleRNN(units=2, return_sequences=True, return_state=True)    \n",
    "outputs, states = rnn(x_data)\n",
    "\n",
    "print('x_data: {}, shape: {} \\n'.format(x_data, x_data.shape))\n",
    "print('outputs: {}, shape: {} \\n'.format(outputs, outputs.shape))\n",
    "print('states: {}, shape: {}'.format(states, states.shape))"
   ]
  },
  {
   "cell_type": "markdown",
   "id": "83d7a2a0",
   "metadata": {},
   "source": [
    "## Basic of RNN : Many to One - Sentiment classification \n",
    "* 여러개의 입력을 받아 하나의 값을 산출하는 모형을 구현합니다. \n",
    "* 여기에서는, 여러개의 단어로 구성된 각각의 문장을 입력으로 받아, 최종적으로 각 문장의 (긍정/ 부정) 감정을 분류하는 모형을 구성합니다.\n",
    "* cf) RNN의 입력과 출력 \n",
    "![inout.png](https://i.stack.imgur.com/b4sus.jpg)"
   ]
  },
  {
   "cell_type": "markdown",
   "id": "6624d357",
   "metadata": {},
   "source": [
    "##### Padding \n",
    "* 패딩은 자연어 처리 분야에서 빈번히 사용되는 방식입니다. 이는 입력되는 데이터의 길이를 맞추기 위한 장치입니다. \n",
    "* 예를 들어 단어를 문자단위로 인식해 입력을 전달 받는 모형이 있다고 가정합시다. \n",
    "    - 입력단어 : ['Hello', 'good', 'mad', 'upset', ...] \n",
    "    - 이 경우, 모형을 구성하기 전, 케릭터를 인지할 수 있도록 하나의 인덱스 번호를 제공할 것입니다. \n",
    "    - ex) {0 : 'a', 1 :'b', 2:'c', 3:'d', .... , 26 :'z'} 의 경우로 인덱싱이 이루어져 있다고 가정해봅시다. 이경우, 단어를 인덱스로 표현하면 'Hello' -> [7,4,11,11,14]로, 'mad'는 [12,0,3]으로 다른 길이로 표현될 것입니다. \n",
    "    - 하지만, 우리의 모형은 계산을 위해 항상 일정한 길이의 문자를 받아야 합니다. 이를 위해, 우리는 입력되는 각 단어의 길이를 동일하게 유지해 주어야 할 필요가 있습니다. \n",
    "    - 따라서, 만약 단어의 최대 길이가 10글자 이면, hello 벡터의 경우 5개의 추가적인 문자를, mad는 7개의 추가적인 문자를 공백 대신 입력해 주어야 할 것입니다. \n",
    "    - 하지만, 위에서 선언된 dictionary를 기준으로 인덱싱을 수행하면 해당 글자를 대체할 숫자가 존재하지 않습니다. \n",
    "    - 따라서 dictionary의 첫 항목을 일반적으로 \\<pad\\>로 설정하고 이를 이용해 공백에 대한 인덱싱을 진행합니다. \n",
    "        + ex) {0 : \\'\\<pad>',1 : 'a', 2 :'b', 3:'c', 4:'d', .... , 27 :'z'}\n",
    "        \\-\\-\\> Hello  [8,5,12,12,15] \\-\\-\\> [8,5,12,12,15, 0,0,0,0,0]"
   ]
  },
  {
   "cell_type": "markdown",
   "id": "3cf12f41",
   "metadata": {},
   "source": [
    "### 라이브러리 로드 "
   ]
  },
  {
   "cell_type": "code",
   "execution_count": 13,
   "id": "ca806975",
   "metadata": {},
   "outputs": [],
   "source": [
    "# 연산에 활용합니다 .\n",
    "import numpy as np \n",
    "import tensorflow as tf \n",
    "# 결과를 시각화 하는데 도움을 줍니다. \n",
    "import matplotlib.pyplot as plt \n",
    "\n",
    "from tensorflow import keras \n",
    "# RNN Cell 등 다양한 layer들을 가지고 있습니다. \n",
    "from tensorflow.keras import layers \n",
    "from tensorflow.keras import Sequential, Model \n",
    "\n",
    "# 시퀀스를 패딩하는데 도움을 주는 라이브러리 입니다. \n",
    "from tensorflow.keras.preprocessing.sequence import pad_sequences"
   ]
  },
  {
   "cell_type": "markdown",
   "id": "f7da029b",
   "metadata": {},
   "source": [
    "### Dataset 생성 "
   ]
  },
  {
   "cell_type": "code",
   "execution_count": 14,
   "id": "58ae48a7",
   "metadata": {},
   "outputs": [],
   "source": [
    "# 입력 데이터 : 단어 \n",
    "words = ['good', 'bad', 'worse', 'so good']\n",
    "# 출력 : 감정 긍정(1), 부정(0)\n",
    "y_data = [1,0,0,1]"
   ]
  },
  {
   "cell_type": "markdown",
   "id": "53e8b461",
   "metadata": {},
   "source": [
    "##### 토큰 dictionary 생성 \n",
    "* 문제에 따라 토큰의 단위는 달라질 수 있습니다. \n",
    "    - 여기에서는 각각의 charactor단위를 토큰이라고 보겠습니다\n",
    "* 추후, 단어의 패딩을 위한 \\<pad\\> 토큰을 단어사전의 0번째 자리에 입력합니다. "
   ]
  },
  {
   "cell_type": "code",
   "execution_count": 19,
   "id": "460cc7f6",
   "metadata": {},
   "outputs": [],
   "source": [
    "# 유일한 글자들만 모아봅니다. \n",
    "char_set = ['<pad>'] + sorted(list(set(''.join(words)))) # 0번 <pad> + ~ \n",
    "\n",
    "# ''.join(words)은 리스트 안의 원소들을 ''안에 들어가는 단위로 구분지어 합해주는 역할을 수행합니다. \n",
    "# 여기에서는, 공백이 없이 연결했음으로, 모든 단어가 연결됩니다. \n",
    "\n",
    "# set()은 기본적으로 합집합 연산을 의미합니다. 따라서, 해당 코드에서는 중복되는 값을 제거한 모든 원소들을 나열합니다. "
   ]
  },
  {
   "cell_type": "code",
   "execution_count": 20,
   "id": "9aee9726",
   "metadata": {},
   "outputs": [],
   "source": [
    "# dictionary를 생성합니다. \n",
    "\n",
    "# 인덱스(키): 글자(값)\n",
    "ind2char = {idx : char for idx, char in enumerate(char_set)}\n",
    "\n",
    "# 글자(키) : 인덱스(값)\n",
    "char2idx = {char : idx for idx,char in enumerate(char_set)}"
   ]
  },
  {
   "cell_type": "markdown",
   "id": "9ca5df64",
   "metadata": {},
   "source": [
    "###### 글자를 숫자의 리스트로 변형하기\n",
    "* 반복문을 통해 순회하며 dictionary.get(key) 메소드를 이용해 해당 자리의 값(숫자)를 받아옵니다. "
   ]
  },
  {
   "cell_type": "code",
   "execution_count": 25,
   "id": "0a0fa3e5",
   "metadata": {},
   "outputs": [
    {
     "data": {
      "text/plain": [
       "[[6, 7, 7, 4], [3, 2, 4], [10, 7, 8, 9, 5], [9, 7, 1, 6, 7, 7, 4]]"
      ]
     },
     "execution_count": 25,
     "metadata": {},
     "output_type": "execute_result"
    }
   ],
   "source": [
    "x_data = list(map(lambda word : [char2idx.get(char) for char in word], words))\n",
    "\n",
    "x_data"
   ]
  },
  {
   "cell_type": "code",
   "execution_count": 24,
   "id": "8f8bfd0a",
   "metadata": {},
   "outputs": [
    {
     "data": {
      "text/plain": [
       "[[6, 7, 7, 4], [3, 2, 4], [10, 7, 8, 9, 5], [9, 7, 1, 6, 7, 7, 4]]"
      ]
     },
     "execution_count": 24,
     "metadata": {},
     "output_type": "execute_result"
    }
   ],
   "source": [
    "# lambda word : words 는 word의 개별 원소에 어떠한 함수를 적용할 때 사용합니다. \n",
    "# 이를 []안에 word로 넘겨주어 함수를 적용합니다. \n",
    "\n",
    "# 반복문으로 풀어 작성한다면 다음과 같습니다 \n",
    "x_data2 = [] \n",
    "for word in words:\n",
    "    temp = [] \n",
    "    for char in word:\n",
    "        temp.append(char2idx.get(char))\n",
    "    x_data2.append(temp)\n",
    "    \n",
    "x_data2"
   ]
  },
  {
   "cell_type": "code",
   "execution_count": 26,
   "id": "75c341b7",
   "metadata": {},
   "outputs": [
    {
     "data": {
      "text/plain": [
       "[4, 3, 5, 7]"
      ]
     },
     "execution_count": 26,
     "metadata": {},
     "output_type": "execute_result"
    }
   ],
   "source": [
    "# 각 데이텀의 길이를 구해보자! \n",
    "# 이는 나중의 패딩을 위한 과정이다. 하지만, 여기에서는 최대 단어의 길이인 7이 아닌 10으로 패딩을 진행할 것이다. \n",
    "x_data_len = list(map(lambda word : len(word), x_data))\n",
    "x_data_len"
   ]
  },
  {
   "cell_type": "markdown",
   "id": "27d63184",
   "metadata": {},
   "source": [
    "##### padding 진행하기 \n",
    "* max 길이를 10으로 가정하여, 패딩을 진행한다.\n",
    "* pading은 temsorflpw.keras.preprocessing에 위치한 sequence.pad_sequnces로 진행한다. \n",
    "* 패딩의 필요성과 역할은 이전에 언급하였다"
   ]
  },
  {
   "cell_type": "code",
   "execution_count": 27,
   "id": "ec7ac287",
   "metadata": {},
   "outputs": [],
   "source": [
    "max_sequence = 10 \n",
    "x_data = pad_sequences(sequences=x_data, maxlen=max_sequence,\n",
    "                      padding='post', truncating = 'post')\n",
    "\n",
    "# padding -> 문장의 길이가 10보다 작으면 빈 공간을 '뒤에' 채운다 \n",
    "# truncating -> 문장의 길이가 10보다 길면 '뒤'에부터 글자를 잘라낸다 "
   ]
  },
  {
   "cell_type": "code",
   "execution_count": 28,
   "id": "89b95fac",
   "metadata": {},
   "outputs": [
    {
     "name": "stdout",
     "output_type": "stream",
     "text": [
      "[[ 6  7  7  4  0  0  0  0  0  0]\n",
      " [ 3  2  4  0  0  0  0  0  0  0]\n",
      " [10  7  8  9  5  0  0  0  0  0]\n",
      " [ 9  7  1  6  7  7  4  0  0  0]]\n"
     ]
    }
   ],
   "source": [
    "print(x_data)"
   ]
  },
  {
   "cell_type": "markdown",
   "id": "2ed522d4",
   "metadata": {},
   "source": [
    "### Model 생성 \n",
    "* Sequential API를 활용한 모형을 구현합니다."
   ]
  },
  {
   "cell_type": "markdown",
   "id": "dbdfe5f5",
   "metadata": {},
   "source": [
    "##### Embeding Layer \n",
    "모형을 구성하기 앞서, 자연어 처리 과정에서 Embeding 층의 역할 및 동작 방식에 대해 이해하고 진행해야 함을 느꼈습니다. 참고중인 강의는 해당 부분에 대한 언급이 전무한 관계로 위대한 강의인 [딥 러닝을 이용한 자연어 처리 입문](https://wikidocs.net/33793)의 내용을 참고하였습니다."
   ]
  },
  {
   "cell_type": "markdown",
   "id": "29dc005a",
   "metadata": {},
   "source": [
    "* word Embeding이란 텍스트 내의 단어들을 밀집 벡터(Dense Vector)로 만드는 것을 말합니다. \n",
    "* cf) 단어를 임베딩 하는 방법에는 **케라스 제공 embeding층**을 이용해 학습데이터를 통해 학습시키는 방식과 **사전훈련된 워드 임베딩**(ex)Word2vec, FastText,GloVe 등)을 이용해 변환하는 방식이 있습니다. "
   ]
  },
  {
   "cell_type": "markdown",
   "id": "47a15979",
   "metadata": {},
   "source": [
    "* Keras의 Embeding층은 **정수 인코딩이** 되어 있는 단어를 **밀집벡터의** 형태로 변경시켜주는 역할을 수행합니다. (밀집백터는 원핫백터의 희소행렬 문제를 해결하기 위해 조금 더 개선된 방식) \n",
    "![embeding.png](https://wikidocs.net/images/page/33793/lookup_table.PNG)\n",
    "    * **임베딩 층의 입력으로 사용하기 위해서 입력 시퀀스의 각 단어들은 모두 정수 인코딩이 되어있어야 합니다.**\n",
    "\n",
    "    * 어떤 단어 → 단어에 부여된 고유한 정수값 → 임베딩 층 통과 → 밀집 벡터\n",
    "\n",
    "    * 임베딩 층은 입력 정수에 대해 밀집 벡터(dense vector)로 맵핑하고 이 밀집 벡터는 인공 신경망의 학습 과정에서 가중치가 학습되는 것과 같은 방식으로 훈련됩니다. 훈련 과정에서 단어는 모델이 풀고자하는 작업에 맞는 값으로 업데이트 됩니다. 그리고 이 밀집 벡터를 임베딩 벡터라고 부릅니다.\n",
    "\n",
    "    * 정수를 밀집 벡터 또는 임베딩 벡터로 맵핑한다는 것은 어떤 의미일까요? 특정 단어와 맵핑되는 정수를 인덱스로 가지는 테이블로부터 임베딩 벡터 값을 가져오는 룩업 테이블이라고 볼 수 있습니다. 그리고 이 테이블은 단어 집합의 크기만큼의 행을 가지므로 모든 단어는 고유한 임베딩 벡터를 가집니다."
   ]
  },
  {
   "cell_type": "markdown",
   "id": "a1b76cd0",
   "metadata": {},
   "source": [
    "아직 이해가 되지 않습니다.. 텐서플로우에서 제공하는 공식 튜토리얼을 살펴봅니다.  \n",
    "\n",
    "[Tensorflow_tutorial](https://www.tensorflow.org/text/guide/word_embeddings?hl=ko)  \n",
    "![dkgk.png](https://www.tensorflow.org/text/guide/images/embedding2.png?hl=ko) \n",
    "* 단어 임베딩 방식은, 우리가 최초 입력으로 지정한 임의의 차원으로 Dense Vector의 차원을 축소해 줍니다. \n",
    "* 각 단어는 서로의 관계에 따라 각 차원에서 수치의 값을 받게 됩니다. \n",
    "![dkgk2.ong](https://www.tensorflow.org/text/guide/images/embedding.jpg?hl=ko)\n",
    "예를들어, 위의 그림에서 cat이라는 단어는 1번째 주성분에서는 1.2의 값을, 2번째 주성분에서는 -0.1의 값을 가집니다. 해당 자리의 값들은 모형이 학습을 진행하면서 자동적으로 같이 학습이 진행됩니다. "
   ]
  },
  {
   "cell_type": "markdown",
   "id": "223839e9",
   "metadata": {},
   "source": [
    "* 우리가 모형에서 사용하는 embeding layer의 정보는 다음과 같습니다. \n",
    "input_dim = len(char2idx)  \n",
    "output_dim = len(char2idx)  \n",
    "one_hot = np.eye(len(char2idx))  \n",
    "hidden_size = 10  \n",
    "num_classes = 2  \n",
    "model.add(layers.Embedding(input_dim=input_dim, output_dim=output_dim,\n",
    "                           trainable=False, mask_zero=True,  \n",
    "                           input_length=max_sequence,                                   embeddings_initializer=keras.initializers.Constant(one_hot)))"
   ]
  },
  {
   "cell_type": "markdown",
   "id": "2415265f",
   "metadata": {},
   "source": [
    "이때, input_dim이 단어사전의 크기인 이유는, 우리의 데이터 형태와 관련이 있습니다.  \n",
    "1. 만약 입력이 'good'이라는 단어 즉, [6, 7, 7, 8]의 형태라고 가정해 봅시다. \n",
    "2. 이때, Embeding layer에는 각 글자가 들어올 것이고, 이를 하나의 벡터로 만들어야 합니다. 6 -> [........] \n",
    "3. 하나의 char이 원핫벡터로 표현되기 위해서는 , 최대 단어사전 길이 만큼의 공간이 필요합니다. \n",
    "4. 여기에서는 0으로 단어사전의 길이 만큼 채워진 벡터를 입력으로 초기화해 넘겨주고, 이를 변환하는 과정을 거칩니다. \n",
    "5. output dim을 단어사전의 크기로 지정한것은 밀집벡터가 아닌 원핫벡터로의 변형을 목적으로 한다는것을 의미합니다. \n",
    "6. 따라서 모형이 학습되는 과정에서 해당 층은 학습이 일어날 필요가 없습니다(단순한 원핫벡터를 리턴하기때문) --> trainable = False \n",
    "7. input_length는 각 단어가 분할적으로 입력되기 때문에 sequence의 길이를 입력해줍니다. "
   ]
  },
  {
   "cell_type": "code",
   "execution_count": 30,
   "id": "66422c18",
   "metadata": {},
   "outputs": [],
   "source": [
    "# creating simple rnn for \"many to one\" classification\n",
    "input_dim = len(char2idx)\n",
    "output_dim = len(char2idx)\n",
    "one_hot = np.eye(len(char2idx))\n",
    "hidden_size = 10\n",
    "num_classes = 2\n",
    "\n",
    "model = Sequential()\n",
    "model.add(layers.Embedding(input_dim=input_dim, output_dim=output_dim,\n",
    "                           trainable=False, mask_zero=True, input_length=max_sequence,\n",
    "                           embeddings_initializer=keras.initializers.Constant(one_hot)))\n",
    "model.add(layers.SimpleRNN(units=hidden_size))\n",
    "model.add(layers.Dense(units=num_classes))"
   ]
  },
  {
   "cell_type": "code",
   "execution_count": 31,
   "id": "ded81d1a",
   "metadata": {},
   "outputs": [
    {
     "name": "stdout",
     "output_type": "stream",
     "text": [
      "Model: \"sequential\"\n",
      "_________________________________________________________________\n",
      "Layer (type)                 Output Shape              Param #   \n",
      "=================================================================\n",
      "embedding (Embedding)        (None, 10, 11)            121       \n",
      "_________________________________________________________________\n",
      "simple_rnn_3 (SimpleRNN)     (None, 10)                220       \n",
      "_________________________________________________________________\n",
      "dense (Dense)                (None, 2)                 22        \n",
      "=================================================================\n",
      "Total params: 363\n",
      "Trainable params: 242\n",
      "Non-trainable params: 121\n",
      "_________________________________________________________________\n"
     ]
    }
   ],
   "source": [
    "model.summary()"
   ]
  },
  {
   "cell_type": "markdown",
   "id": "0890d1ef",
   "metadata": {},
   "source": [
    "### Loss 함수 정의 "
   ]
  },
  {
   "cell_type": "code",
   "execution_count": 32,
   "id": "cc410009",
   "metadata": {},
   "outputs": [],
   "source": [
    "\n",
    "# creating loss function\n",
    "def loss_fn(model, x, y):\n",
    "    return tf.reduce_mean(tf.keras.losses.sparse_categorical_crossentropy(\n",
    "        y_true=y, y_pred=model(x), from_logits=True))\n"
   ]
  },
  {
   "cell_type": "markdown",
   "id": "d8a17d56",
   "metadata": {},
   "source": [
    "분류 문제를 푸는것이기 때문에 cross entropy를 구해주는 api를 활용합니다.  \n",
    "특히, 우리가 마지막으로 얻는 값이 01의 값이 아닌 integer형으로 구성된 벡터 구조를 비교하는것이기 때문에 sqparse_categorical_crossentropy를 활용합니다. "
   ]
  },
  {
   "cell_type": "markdown",
   "id": "5f861a74",
   "metadata": {},
   "source": [
    "### 모형학습"
   ]
  },
  {
   "cell_type": "markdown",
   "id": "87576977",
   "metadata": {},
   "source": [
    "##### Hyper Params."
   ]
  },
  {
   "cell_type": "code",
   "execution_count": 33,
   "id": "8600653d",
   "metadata": {},
   "outputs": [],
   "source": [
    "learning_rate = .01\n",
    "epochs = 30\n",
    "batch_size = 2"
   ]
  },
  {
   "cell_type": "markdown",
   "id": "368f744e",
   "metadata": {},
   "source": [
    "##### optimizer "
   ]
  },
  {
   "cell_type": "code",
   "execution_count": 34,
   "id": "1fe80752",
   "metadata": {},
   "outputs": [],
   "source": [
    "optimizer = tf.keras.optimizers.Adam(learning_rate=learning_rate)"
   ]
  },
  {
   "cell_type": "markdown",
   "id": "3eefcdae",
   "metadata": {},
   "source": [
    "##### 데이터 파이프라인 생성 \n",
    "* 데이터를 베치 단위로 끊어 입력해줍니다. "
   ]
  },
  {
   "cell_type": "code",
   "execution_count": 35,
   "id": "f3ab2397",
   "metadata": {},
   "outputs": [
    {
     "name": "stdout",
     "output_type": "stream",
     "text": [
      "<BatchDataset shapes: ((None, 10), (None,)), types: (tf.int32, tf.int32)>\n"
     ]
    }
   ],
   "source": [
    "# generating data pipeline\n",
    "tr_dataset = tf.data.Dataset.from_tensor_slices((x_data, y_data)) # 데이터를 문제와 답으로 함꼐 엮어줍니다. \n",
    "tr_dataset = tr_dataset.shuffle(buffer_size = 4)  # 버퍼를 이용해 데이터를 섞어줍니다. \n",
    "tr_dataset = tr_dataset.batch(batch_size = batch_size) # 배치 크기 만큼씩 데이터를 입력해줍니다. \n",
    "\n",
    "print(tr_dataset)"
   ]
  },
  {
   "cell_type": "markdown",
   "id": "5768fc6b",
   "metadata": {},
   "source": [
    "##### 실제 학습과정 "
   ]
  },
  {
   "cell_type": "code",
   "execution_count": 37,
   "id": "7546f4e8",
   "metadata": {},
   "outputs": [
    {
     "name": "stdout",
     "output_type": "stream",
     "text": [
      "epoch :   5, tr_loss : 0.239\n",
      "epoch :  10, tr_loss : 0.045\n",
      "epoch :  15, tr_loss : 0.016\n",
      "epoch :  20, tr_loss : 0.009\n",
      "epoch :  25, tr_loss : 0.006\n",
      "epoch :  30, tr_loss : 0.005\n"
     ]
    }
   ],
   "source": [
    "# training\n",
    "tr_loss_hist = []\n",
    "\n",
    "for epoch in range(epochs):\n",
    "    avg_tr_loss = 0\n",
    "    tr_step = 0\n",
    "    \n",
    "    for x_mb, y_mb in tr_dataset:\n",
    "        with tf.GradientTape() as tape:\n",
    "            tr_loss = loss_fn(model, x=x_mb, y=y_mb)\n",
    "        grads = tape.gradient(target=tr_loss, sources=model.variables)\n",
    "        optimizer.apply_gradients(grads_and_vars=zip(grads, model.variables))\n",
    "        avg_tr_loss += tr_loss\n",
    "        tr_step += 1\n",
    "    else:\n",
    "        avg_tr_loss /= tr_step\n",
    "        tr_loss_hist.append(avg_tr_loss)\n",
    "    \n",
    "    if (epoch + 1) % 5 ==0:        \n",
    "        print('epoch : {:3}, tr_loss : {:.3f}'.format(epoch + 1, avg_tr_loss.numpy()))"
   ]
  },
  {
   "cell_type": "markdown",
   "id": "47fb22c5",
   "metadata": {},
   "source": [
    "### 성능 시각화 "
   ]
  },
  {
   "cell_type": "code",
   "execution_count": 38,
   "id": "6708f425",
   "metadata": {},
   "outputs": [
    {
     "name": "stdout",
     "output_type": "stream",
     "text": [
      "acc : 100.00%\n"
     ]
    }
   ],
   "source": [
    "yhat = model.predict(x_data)\n",
    "yhat = np.argmax(yhat, axis=-1)\n",
    "print('acc : {:.2%}'.format(np.mean(yhat == y_data)))"
   ]
  },
  {
   "cell_type": "code",
   "execution_count": 39,
   "id": "3d4d64c6",
   "metadata": {},
   "outputs": [
    {
     "data": {
      "text/plain": [
       "[<matplotlib.lines.Line2D at 0x1614f591370>]"
      ]
     },
     "execution_count": 39,
     "metadata": {},
     "output_type": "execute_result"
    },
    {
     "data": {
      "image/png": "[encoded data removed]",
      "text/plain": [
       "<Figure size 432x288 with 1 Axes>"
      ]
     },
     "metadata": {
      "needs_background": "light"
     },
     "output_type": "display_data"
    }
   ],
   "source": [
    "plt.plot(tr_loss_hist)"
   ]
  },
  {
   "cell_type": "markdown",
   "id": "bf527f68",
   "metadata": {},
   "source": [
    "# many to one Stacking \n",
    "* 여러 층으로 구성된 RNN모형을 생성하여, 예측의 성능을 향상시킵니다. \n",
    "![stackedRNN.png](https://img1.daumcdn.net/thumb/R800x0/?scode=mtistory2&fname=https%3A%2F%2Fblog.kakaocdn.net%2Fdn%2Fbe5HZi%2FbtqDx6bOf9K%2F6PWk0BUenrK1WPeZ4sZihK%2Fimg.png)"
   ]
  },
  {
   "cell_type": "markdown",
   "id": "9216e356",
   "metadata": {},
   "source": [
    "모형의 목적은 특정 문장을 인식하고, 해당 명언을 richard feynma이 한 말인지, albert einstein이 한 말인지 분류해 주는 모형입니다. "
   ]
  },
  {
   "cell_type": "markdown",
   "id": "1e637d8f",
   "metadata": {},
   "source": [
    "## 필수 라이브러리 불러오기 "
   ]
  },
  {
   "cell_type": "code",
   "execution_count": 44,
   "id": "4f314e35",
   "metadata": {},
   "outputs": [],
   "source": [
    "import numpy as np \n",
    "import tensorflow as tf \n",
    "\n",
    "from tensorflow import keras \n",
    "from tensorflow.keras import layers \n",
    "from tensorflow.keras.models import Sequential, Model\n",
    "from tensorflow.keras.preprocessing.sequence import pad_sequences \n",
    "\n",
    "import matplotlib.pyplot as plt  \n",
    "# from pprint import pprint "
   ]
  },
  {
   "cell_type": "markdown",
   "id": "e93bb6f7",
   "metadata": {},
   "source": [
    "## 데이터 준비하기 "
   ]
  },
  {
   "cell_type": "markdown",
   "id": "00185781",
   "metadata": {},
   "source": [
    "### 입력 데이터 정의 "
   ]
  },
  {
   "cell_type": "code",
   "execution_count": 45,
   "id": "4b5eaabc",
   "metadata": {},
   "outputs": [],
   "source": [
    "sentences = ['What I cannot create, I do not understand.',\n",
    "            'Intellecuals solve problems, geniuses prevent them',\n",
    "             'A person who never made a mistake never tied anything new.',\n",
    "             'The same equations have the same solutions.']\n",
    "\n",
    "y_data = [1,0,0,1] # 1: richard feynman, 0: albert einstein"
   ]
  },
  {
   "cell_type": "markdown",
   "id": "73e1c2f2",
   "metadata": {},
   "source": [
    "### 토큰 사전 만들기 "
   ]
  },
  {
   "cell_type": "code",
   "execution_count": 47,
   "id": "ab6f06d5",
   "metadata": {},
   "outputs": [
    {
     "name": "stdout",
     "output_type": "stream",
     "text": [
      "['<pad>', ' ', ',', '.', 'A', 'I', 'T', 'W', 'a', 'b', 'c', 'd', 'e', 'g', 'h', 'i', 'k', 'l', 'm', 'n', 'o', 'p', 'q', 'r', 's', 't', 'u', 'v', 'w', 'y']\n"
     ]
    }
   ],
   "source": [
    "# 유일한 문자들만 추려내기 \n",
    "char_set = ['<pad>'] + sorted(list(set(''.join(sentences))))\n",
    "print(char_set)"
   ]
  },
  {
   "cell_type": "code",
   "execution_count": 48,
   "id": "63e5a2cd",
   "metadata": {},
   "outputs": [
    {
     "name": "stdout",
     "output_type": "stream",
     "text": [
      "{0: '<pad>', 1: ' ', 2: ',', 3: '.', 4: 'A', 5: 'I', 6: 'T', 7: 'W', 8: 'a', 9: 'b', 10: 'c', 11: 'd', 12: 'e', 13: 'g', 14: 'h', 15: 'i', 16: 'k', 17: 'l', 18: 'm', 19: 'n', 20: 'o', 21: 'p', 22: 'q', 23: 'r', 24: 's', 25: 't', 26: 'u', 27: 'v', 28: 'w', 29: 'y'}\n",
      "{'<pad>': 0, ' ': 1, ',': 2, '.': 3, 'A': 4, 'I': 5, 'T': 6, 'W': 7, 'a': 8, 'b': 9, 'c': 10, 'd': 11, 'e': 12, 'g': 13, 'h': 14, 'i': 15, 'k': 16, 'l': 17, 'm': 18, 'n': 19, 'o': 20, 'p': 21, 'q': 22, 'r': 23, 's': 24, 't': 25, 'u': 26, 'v': 27, 'w': 28, 'y': 29}\n"
     ]
    }
   ],
   "source": [
    "# 문자마다 고유의 번호 지정 \n",
    "\n",
    "# 결과 디코딩시 필요 \n",
    "idx2char = {idx : char for idx,char in enumerate(char_set)}\n",
    "# 숫자로 인코딩시 사용 \n",
    "char2idx = {char:idx for idx, char in enumerate(char_set)}\n",
    "\n",
    "print(idx2char)\n",
    "print(char2idx)"
   ]
  },
  {
   "cell_type": "markdown",
   "id": "b2660fa2",
   "metadata": {},
   "source": [
    "### 문장 시퀀스를 숫자의 배열로 변환하기 "
   ]
  },
  {
   "cell_type": "code",
   "execution_count": 49,
   "id": "36a1e56a",
   "metadata": {},
   "outputs": [
    {
     "data": {
      "text/plain": [
       "[[7,\n",
       "  14,\n",
       "  8,\n",
       "  25,\n",
       "  1,\n",
       "  5,\n",
       "  1,\n",
       "  10,\n",
       "  8,\n",
       "  19,\n",
       "  19,\n",
       "  20,\n",
       "  25,\n",
       "  1,\n",
       "  10,\n",
       "  23,\n",
       "  12,\n",
       "  8,\n",
       "  25,\n",
       "  12,\n",
       "  2,\n",
       "  1,\n",
       "  5,\n",
       "  1,\n",
       "  11,\n",
       "  20,\n",
       "  1,\n",
       "  19,\n",
       "  20,\n",
       "  25,\n",
       "  1,\n",
       "  26,\n",
       "  19,\n",
       "  11,\n",
       "  12,\n",
       "  23,\n",
       "  24,\n",
       "  25,\n",
       "  8,\n",
       "  19,\n",
       "  11,\n",
       "  3],\n",
       " [5,\n",
       "  19,\n",
       "  25,\n",
       "  12,\n",
       "  17,\n",
       "  17,\n",
       "  12,\n",
       "  10,\n",
       "  26,\n",
       "  8,\n",
       "  17,\n",
       "  24,\n",
       "  1,\n",
       "  24,\n",
       "  20,\n",
       "  17,\n",
       "  27,\n",
       "  12,\n",
       "  1,\n",
       "  21,\n",
       "  23,\n",
       "  20,\n",
       "  9,\n",
       "  17,\n",
       "  12,\n",
       "  18,\n",
       "  24,\n",
       "  2,\n",
       "  1,\n",
       "  13,\n",
       "  12,\n",
       "  19,\n",
       "  15,\n",
       "  26,\n",
       "  24,\n",
       "  12,\n",
       "  24,\n",
       "  1,\n",
       "  21,\n",
       "  23,\n",
       "  12,\n",
       "  27,\n",
       "  12,\n",
       "  19,\n",
       "  25,\n",
       "  1,\n",
       "  25,\n",
       "  14,\n",
       "  12,\n",
       "  18],\n",
       " [4,\n",
       "  1,\n",
       "  21,\n",
       "  12,\n",
       "  23,\n",
       "  24,\n",
       "  20,\n",
       "  19,\n",
       "  1,\n",
       "  28,\n",
       "  14,\n",
       "  20,\n",
       "  1,\n",
       "  19,\n",
       "  12,\n",
       "  27,\n",
       "  12,\n",
       "  23,\n",
       "  1,\n",
       "  18,\n",
       "  8,\n",
       "  11,\n",
       "  12,\n",
       "  1,\n",
       "  8,\n",
       "  1,\n",
       "  18,\n",
       "  15,\n",
       "  24,\n",
       "  25,\n",
       "  8,\n",
       "  16,\n",
       "  12,\n",
       "  1,\n",
       "  19,\n",
       "  12,\n",
       "  27,\n",
       "  12,\n",
       "  23,\n",
       "  1,\n",
       "  25,\n",
       "  15,\n",
       "  12,\n",
       "  11,\n",
       "  1,\n",
       "  8,\n",
       "  19,\n",
       "  29,\n",
       "  25,\n",
       "  14,\n",
       "  15,\n",
       "  19,\n",
       "  13,\n",
       "  1,\n",
       "  19,\n",
       "  12,\n",
       "  28,\n",
       "  3],\n",
       " [6,\n",
       "  14,\n",
       "  12,\n",
       "  1,\n",
       "  24,\n",
       "  8,\n",
       "  18,\n",
       "  12,\n",
       "  1,\n",
       "  12,\n",
       "  22,\n",
       "  26,\n",
       "  8,\n",
       "  25,\n",
       "  15,\n",
       "  20,\n",
       "  19,\n",
       "  24,\n",
       "  1,\n",
       "  14,\n",
       "  8,\n",
       "  27,\n",
       "  12,\n",
       "  1,\n",
       "  25,\n",
       "  14,\n",
       "  12,\n",
       "  1,\n",
       "  24,\n",
       "  8,\n",
       "  18,\n",
       "  12,\n",
       "  1,\n",
       "  24,\n",
       "  20,\n",
       "  17,\n",
       "  26,\n",
       "  25,\n",
       "  15,\n",
       "  20,\n",
       "  19,\n",
       "  24,\n",
       "  3]]"
      ]
     },
     "execution_count": 49,
     "metadata": {},
     "output_type": "execute_result"
    }
   ],
   "source": [
    "x_data = list(map(lambda sentence : [char2idx.get(char) for char in sentence], sentences))\n",
    "\n",
    "x_data "
   ]
  },
  {
   "cell_type": "code",
   "execution_count": 51,
   "id": "caa9bad3",
   "metadata": {},
   "outputs": [
    {
     "name": "stdout",
     "output_type": "stream",
     "text": [
      "[42, 50, 58, 43]\n"
     ]
    }
   ],
   "source": [
    "x_data_len = list(map(lambda sentence : len(sentence), sentences))\n",
    "print(x_data_len)"
   ]
  },
  {
   "cell_type": "markdown",
   "id": "59dbfa0d",
   "metadata": {},
   "source": [
    "### padding "
   ]
  },
  {
   "cell_type": "code",
   "execution_count": 52,
   "id": "a3a6608d",
   "metadata": {},
   "outputs": [
    {
     "name": "stdout",
     "output_type": "stream",
     "text": [
      "[[ 7 14  8 25  1  5  1 10  8 19 19 20 25  1 10 23 12  8 25 12  2  1  5  1\n",
      "  11 20  1 19 20 25  1 26 19 11 12 23 24 25  8 19 11  3  0  0  0  0  0  0\n",
      "   0  0  0  0  0  0  0]\n",
      " [ 5 19 25 12 17 17 12 10 26  8 17 24  1 24 20 17 27 12  1 21 23 20  9 17\n",
      "  12 18 24  2  1 13 12 19 15 26 24 12 24  1 21 23 12 27 12 19 25  1 25 14\n",
      "  12 18  0  0  0  0  0]\n",
      " [ 4  1 21 12 23 24 20 19  1 28 14 20  1 19 12 27 12 23  1 18  8 11 12  1\n",
      "   8  1 18 15 24 25  8 16 12  1 19 12 27 12 23  1 25 15 12 11  1  8 19 29\n",
      "  25 14 15 19 13  1 19]\n",
      " [ 6 14 12  1 24  8 18 12  1 12 22 26  8 25 15 20 19 24  1 14  8 27 12  1\n",
      "  25 14 12  1 24  8 18 12  1 24 20 17 26 25 15 20 19 24  3  0  0  0  0  0\n",
      "   0  0  0  0  0  0  0]]\n",
      "[42, 50, 58, 43]\n",
      "[1, 0, 0, 1]\n"
     ]
    }
   ],
   "source": [
    "max_sequence = 55 \n",
    "\n",
    "x_data = pad_sequences(sequences=x_data, maxlen= max_sequence,\n",
    "                      padding = 'post', truncating = 'post')\n",
    "\n",
    "print(x_data)\n",
    "print(x_data_len)\n",
    "print(y_data)"
   ]
  },
  {
   "cell_type": "markdown",
   "id": "60ed6b30",
   "metadata": {},
   "source": [
    "## 모형 생성 "
   ]
  },
  {
   "cell_type": "markdown",
   "id": "be9a15f1",
   "metadata": {},
   "source": [
    "#####  Hyper Params. "
   ]
  },
  {
   "cell_type": "code",
   "execution_count": 53,
   "id": "f915a936",
   "metadata": {},
   "outputs": [],
   "source": [
    "# 최종 출력 게이트 수 \n",
    "num_classes = 2 \n",
    "# hidden dimension \n",
    "hidden_dims = [10,10]\n",
    "\n",
    "# embeding층 입력 \n",
    "input_dim = output_dim = len(char2idx)\n",
    "one_hot = np.eye(len(char2idx))"
   ]
  },
  {
   "cell_type": "code",
   "execution_count": 54,
   "id": "3512c8ee",
   "metadata": {
    "collapsed": true
   },
   "outputs": [],
   "source": [
    "model = Sequential()\n",
    "model.add(layers.Embedding(input_dim=input_dim, output_dim=output_dim,\n",
    "                          trainable=False, mask_zero = True,\n",
    "                          input_length=max_sequence,\n",
    "                          embeddings_initializer=keras.initializers.Constant(one_hot)))\n",
    "model.add(layers.SimpleRNN(units=hidden_dims[0], return_sequences=True))\n",
    "model.add(layers.TimeDistributed(layers.Dropout(rate=0.2)))\n",
    "model.add(layers.SimpleRNN(units=hidden_dims[1]))\n",
    "model.add(layers.Dropout(rate=0.2))\n",
    "model.add(layers.Dense(units=num_classes))"
   ]
  },
  {
   "cell_type": "markdown",
   "id": "8be6e165",
   "metadata": {},
   "source": [
    "Return Sequence는 첫번째 층의 각 시점에서의 hidden state을 다음 층의 입력으로 전달하기 위함 입니다. 이때, Dropout을 적용해도 각 시점의 hidden값이 정확하게 다음 층으로 전달할 수 있도록 도와주는 API가 TimeDistributed 입니다. "
   ]
  },
  {
   "cell_type": "code",
   "execution_count": 55,
   "id": "36245ac4",
   "metadata": {},
   "outputs": [
    {
     "name": "stdout",
     "output_type": "stream",
     "text": [
      "Model: \"sequential_3\"\n",
      "_________________________________________________________________\n",
      "Layer (type)                 Output Shape              Param #   \n",
      "=================================================================\n",
      "embedding_3 (Embedding)      (None, 55, 30)            900       \n",
      "_________________________________________________________________\n",
      "simple_rnn_4 (SimpleRNN)     (None, 55, 10)            410       \n",
      "_________________________________________________________________\n",
      "time_distributed (TimeDistri (None, 55, 10)            0         \n",
      "_________________________________________________________________\n",
      "simple_rnn_5 (SimpleRNN)     (None, 10)                210       \n",
      "_________________________________________________________________\n",
      "dropout_1 (Dropout)          (None, 10)                0         \n",
      "_________________________________________________________________\n",
      "dense_1 (Dense)              (None, 2)                 22        \n",
      "=================================================================\n",
      "Total params: 1,542\n",
      "Trainable params: 642\n",
      "Non-trainable params: 900\n",
      "_________________________________________________________________\n"
     ]
    }
   ],
   "source": [
    "model.summary()"
   ]
  },
  {
   "cell_type": "markdown",
   "id": "ccd56104",
   "metadata": {},
   "source": [
    "## Training!"
   ]
  },
  {
   "cell_type": "markdown",
   "id": "69f729c7",
   "metadata": {},
   "source": [
    "### loss의 정의 "
   ]
  },
  {
   "cell_type": "code",
   "execution_count": 56,
   "id": "409aa237",
   "metadata": {},
   "outputs": [],
   "source": [
    "def loss_fn(model, x, y, training):    \n",
    "    return tf.reduce_mean(tf.keras.losses.sparse_categorical_crossentropy(\n",
    "        y_true=y, y_pred=model(x, training), from_logits=True))"
   ]
  },
  {
   "cell_type": "markdown",
   "id": "40defbc4",
   "metadata": {},
   "source": [
    "### 하이퍼~ "
   ]
  },
  {
   "cell_type": "code",
   "execution_count": 57,
   "id": "85373477",
   "metadata": {},
   "outputs": [],
   "source": [
    "lr = .01\n",
    "epochs = 30\n",
    "batch_size = 2\n",
    "opt = tf.keras.optimizers.Adam(learning_rate = lr)"
   ]
  },
  {
   "cell_type": "markdown",
   "id": "3a05ffb8",
   "metadata": {},
   "source": [
    "### 데이터 파이프라이 심자! "
   ]
  },
  {
   "cell_type": "code",
   "execution_count": 58,
   "id": "339be008",
   "metadata": {},
   "outputs": [
    {
     "name": "stdout",
     "output_type": "stream",
     "text": [
      "<BatchDataset shapes: ((None, 55), (None,)), types: (tf.int32, tf.int32)>\n"
     ]
    }
   ],
   "source": [
    "tr_dataset = tf.data.Dataset.from_tensor_slices((x_data, y_data))\n",
    "tr_dataset = tr_dataset.shuffle(buffer_size=4)\n",
    "tr_dataset = tr_dataset.batch(batch_size=batch_size)\n",
    "\n",
    "print(tr_dataset)"
   ]
  },
  {
   "cell_type": "markdown",
   "id": "863714be",
   "metadata": {},
   "source": [
    "### 반복문을 활용한 학습 "
   ]
  },
  {
   "cell_type": "code",
   "execution_count": 59,
   "id": "48916041",
   "metadata": {},
   "outputs": [
    {
     "name": "stdout",
     "output_type": "stream",
     "text": [
      "epoch :   5, tr_loss : 0.093\n",
      "epoch :  10, tr_loss : 0.022\n",
      "epoch :  15, tr_loss : 0.013\n",
      "epoch :  20, tr_loss : 0.007\n",
      "epoch :  25, tr_loss : 0.005\n",
      "epoch :  30, tr_loss : 0.005\n"
     ]
    }
   ],
   "source": [
    "# training\n",
    "tr_loss_hist = []\n",
    "\n",
    "for epoch in range(epochs):\n",
    "    avg_tr_loss = 0\n",
    "    tr_step = 0\n",
    "    \n",
    "    for x_mb, y_mb in tr_dataset:\n",
    "        with tf.GradientTape() as tape:\n",
    "            tr_loss = loss_fn(model, x=x_mb, y=y_mb, training=True)\n",
    "        grads = tape.gradient(target=tr_loss, sources=model.variables)\n",
    "        opt.apply_gradients(grads_and_vars=zip(grads, model.variables))\n",
    "        avg_tr_loss += tr_loss\n",
    "        tr_step += 1\n",
    "    else:\n",
    "        avg_tr_loss /= tr_step\n",
    "        tr_loss_hist.append(avg_tr_loss)\n",
    "    \n",
    "    if (epoch + 1) % 5 ==0:\n",
    "        print('epoch : {:3}, tr_loss : {:.3f}'.format(epoch + 1, avg_tr_loss.numpy()))"
   ]
  },
  {
   "cell_type": "markdown",
   "id": "a9e993ff",
   "metadata": {},
   "source": [
    "## 성능 측정하기 "
   ]
  },
  {
   "cell_type": "code",
   "execution_count": 60,
   "id": "50b58d67",
   "metadata": {},
   "outputs": [
    {
     "name": "stdout",
     "output_type": "stream",
     "text": [
      "accuracy : 100.00%\n"
     ]
    }
   ],
   "source": [
    "yhat = model.predict(x_data)\n",
    "yhat = np.argmax(yhat, axis=-1)\n",
    "print('accuracy : {:.2%}'.format(np.mean(yhat == y_data)))"
   ]
  },
  {
   "cell_type": "code",
   "execution_count": 61,
   "id": "bc1805d7",
   "metadata": {},
   "outputs": [
    {
     "data": {
      "text/plain": [
       "[<matplotlib.lines.Line2D at 0x16150edddf0>]"
      ]
     },
     "execution_count": 61,
     "metadata": {},
     "output_type": "execute_result"
    },
    {
     "data": {
      "image/png": "[encoded data removed]",
      "text/plain": [
       "<Figure size 432x288 with 1 Axes>"
      ]
     },
     "metadata": {
      "needs_background": "light"
     },
     "output_type": "display_data"
    }
   ],
   "source": [
    "plt.plot(tr_loss_hist)"
   ]
  },
  {
   "cell_type": "markdown",
   "id": "2f9e28d5",
   "metadata": {},
   "source": [
    "# many to many \n",
    "* 문장 속 각 단어의 품사를 테깅해주는 형태소 분석기를 생성하는 예제를 만듭니다. \n",
    "* many to many 예제는 하나의 시퀀스 내에 있는 모든 은닉상태 값을 각각 출력해 각각의 예측을 수행합니다. \n",
    "* 또한, 각각의 토큰에 대한 예측과 해당 토큰의 실제 값을 비교하여 각각의 loss를 계산한 후, 이를 시퀀스 단위로 평균을 계산하여 Gradient Descent를 계산하고 이를 back propogation을 통해 가중치를 수정하는데 활용합니다."
   ]
  },
  {
   "cell_type": "markdown",
   "id": "7a5eef4f",
   "metadata": {},
   "source": [
    "![sequenceTagging.png](https://miro.medium.com/max/1838/1*_p0fvCt7noN7j6bXQcZjtQ.png)"
   ]
  },
  {
   "cell_type": "markdown",
   "id": "2df6d7b0",
   "metadata": {},
   "source": [
    "* sequence tagging의 대략적인 진행 방식은 아래의 그림과 같습니다. \n",
    "![SequenceTag.png](https://miro.medium.com/max/1400/1*3Lnln1txs1lys6fwbVKsJA.png)\n",
    "이러한 품사테깅을 위해서는 2개의 인덱싱 딕셔너리가 필요합니다.   \n",
    "    - 토큰의 정수 인덱스와 값을 담을 dict,, \n",
    "    - 정답으로 활용할 품사와 그에대한 키 인덱스가 포함되는 dict. "
   ]
  },
  {
   "cell_type": "markdown",
   "id": "4cab3aee",
   "metadata": {},
   "source": [
    "##### Masking \n",
    "* 시퀀스의 모든 token을 활용해 예측과 연산, loss의 계산을 진행하는 특성에 의해 우리는 Masking 작업을 진행해야 합니다. \n",
    "* masking이란 우리가 sequence의 길이를 맞추기 위해 Padding작업을 수행할때 포함시킨 \\<pad\\>토큰을 loss에서 고려하지 않는 것을 말합니다. \n",
    "* 패딩을 수행할때, \\<pad\\>토큰에 대한 정보를 1과0으로 이루어진 벡터로 생성하고, loss를 계산할때, 각각의 토큰의 로스가 담긴 배열과의 element wise(원소끼리의 곱)을 통해 연산에서 제외해주는 방식을 의미합니다. "
   ]
  },
  {
   "cell_type": "markdown",
   "id": "efff3202",
   "metadata": {},
   "source": [
    "## 필요한 라이브러리 불러오기 "
   ]
  },
  {
   "cell_type": "code",
   "execution_count": 1,
   "id": "c0b4d3bf",
   "metadata": {},
   "outputs": [],
   "source": [
    "import numpy as np \n",
    "import tensorflow as tf \n",
    "\n",
    "from tensorflow import keras \n",
    "from  tensorflow.keras import layers \n",
    "from tensorflow.keras import Sequential, Model \n",
    "from tensorflow.keras.preprocessing.sequence import pad_sequences \n",
    "\n",
    "import matplotlib.pyplot as plt "
   ]
  },
  {
   "cell_type": "markdown",
   "id": "bb1f53d0",
   "metadata": {},
   "source": [
    "## 데이터 준비하기 "
   ]
  },
  {
   "cell_type": "code",
   "execution_count": 2,
   "id": "94a61618",
   "metadata": {},
   "outputs": [],
   "source": [
    "# 단어로 이루어진 토큰으로 이루어진 문장의 vector로 구성된 matrix\n",
    "sentences = [['I', 'feel', 'hungry'],\n",
    "             ['tensorflow', 'is', 'very', 'difficult'],\n",
    "             ['tensorflow', 'is', 'a', 'framework', 'for', 'deep', 'learning'],\n",
    "             ['tensorflow', 'is', 'very', 'fast', 'changing']]\n",
    "\n",
    "# 각각의 토큰의 품사(정답) \n",
    "pos = [['pronoun', 'verb', 'adjective'],\n",
    "       ['noun', 'verb', 'adverb', 'adjective'],\n",
    "       ['noun', 'verb', 'determiner', 'noun', 'preposition', 'adjective', 'noun'],\n",
    "       ['noun', 'verb', 'adverb', 'adjective', 'verb']] "
   ]
  },
  {
   "cell_type": "markdown",
   "id": "6ab5726d",
   "metadata": {},
   "source": [
    "## dataset 전처리 \n",
    "* 토큰에 대한 dict \n",
    "* 품사에 대한 dict "
   ]
  },
  {
   "cell_type": "markdown",
   "id": "f109d376",
   "metadata": {},
   "source": [
    "### Token dictionary "
   ]
  },
  {
   "cell_type": "code",
   "execution_count": 3,
   "id": "68f81836",
   "metadata": {},
   "outputs": [
    {
     "data": {
      "text/plain": [
       "['I',\n",
       " 'feel',\n",
       " 'hungry',\n",
       " 'tensorflow',\n",
       " 'is',\n",
       " 'very',\n",
       " 'difficult',\n",
       " 'tensorflow',\n",
       " 'is',\n",
       " 'a',\n",
       " 'framework',\n",
       " 'for',\n",
       " 'deep',\n",
       " 'learning',\n",
       " 'tensorflow',\n",
       " 'is',\n",
       " 'very',\n",
       " 'fast',\n",
       " 'changing']"
      ]
     },
     "execution_count": 3,
     "metadata": {},
     "output_type": "execute_result"
    }
   ],
   "source": [
    "word_list = sum(sentences,[])\n",
    "word_list"
   ]
  },
  {
   "cell_type": "code",
   "execution_count": 4,
   "id": "78a785be",
   "metadata": {},
   "outputs": [
    {
     "data": {
      "text/plain": [
       "['I',\n",
       " 'a',\n",
       " 'changing',\n",
       " 'deep',\n",
       " 'difficult',\n",
       " 'fast',\n",
       " 'feel',\n",
       " 'for',\n",
       " 'framework',\n",
       " 'hungry',\n",
       " 'is',\n",
       " 'learning',\n",
       " 'tensorflow',\n",
       " 'very']"
      ]
     },
     "execution_count": 4,
     "metadata": {},
     "output_type": "execute_result"
    }
   ],
   "source": [
    "# 중복 제거 \n",
    "word_list = sorted(set(word_list))\n",
    "word_list"
   ]
  },
  {
   "cell_type": "code",
   "execution_count": 5,
   "id": "c61ee161",
   "metadata": {},
   "outputs": [
    {
     "name": "stdout",
     "output_type": "stream",
     "text": [
      "{'<pad>': 0, 'I': 1, 'a': 2, 'changing': 3, 'deep': 4, 'difficult': 5, 'fast': 6, 'feel': 7, 'for': 8, 'framework': 9, 'hungry': 10, 'is': 11, 'learning': 12, 'tensorflow': 13, 'very': 14}\n",
      "{0: '<pad>', 1: 'I', 2: 'a', 3: 'changing', 4: 'deep', 5: 'difficult', 6: 'fast', 7: 'feel', 8: 'for', 9: 'framework', 10: 'hungry', 11: 'is', 12: 'learning', 13: 'tensorflow', 14: 'very'}\n",
      "15\n"
     ]
    }
   ],
   "source": [
    "# 페트토큰 추가 \n",
    "word_list = ['<pad>'] + word_list \n",
    "\n",
    "# 딕셔너리 생성 \n",
    "word2idx = {word: idx for idx,word in enumerate(word_list)}\n",
    "idx2word = {idx: word for idx,word in enumerate(word_list)}\n",
    "\n",
    "print(word2idx)\n",
    "print(idx2word)\n",
    "print(len(word2idx))"
   ]
  },
  {
   "cell_type": "markdown",
   "id": "8f0e392d",
   "metadata": {},
   "source": [
    "### dict. for part of speech "
   ]
  },
  {
   "cell_type": "code",
   "execution_count": 7,
   "id": "eadb2af1",
   "metadata": {},
   "outputs": [
    {
     "name": "stdout",
     "output_type": "stream",
     "text": [
      "{'<pad>': 0, 'adjective': 1, 'adverb': 2, 'determiner': 3, 'noun': 4, 'preposition': 5, 'pronoun': 6, 'verb': 7}\n",
      "{0: '<pad>', 1: 'adjective', 2: 'adverb', 3: 'determiner', 4: 'noun', 5: 'preposition', 6: 'pronoun', 7: 'verb'}\n",
      "8\n"
     ]
    }
   ],
   "source": [
    "# 하나의 배열로 만들기 \n",
    "pos_list = sum(pos,[])\n",
    "# 중복 제거 및 정렬 \n",
    "pos_list = sorted(set(pos_list))\n",
    "# 패드토큰 추가 \n",
    "pos_list = [\"<pad>\"] + pos_list\n",
    "\n",
    "# 사전 구성 \n",
    "pos2idx = {pos : idx for idx,pos in enumerate(pos_list)}\n",
    "idx2pos = {idx : pos for idx,pos in enumerate(pos_list)}\n",
    "\n",
    "print(pos2idx)\n",
    "print(idx2pos)\n",
    "print(len(pos2idx))"
   ]
  },
  {
   "cell_type": "markdown",
   "id": "b7266175",
   "metadata": {},
   "source": [
    "### 정수 인코딩 및 Padding 진행 \n",
    "* 중요!! - 패딩을 진행할때, padding이 아닌 자리를 기억할 x_data_mask 를 생성합니다. \n",
    "* 또한, 실제 문장의 길이를 기억할 유효 자리수에 대한 정보도 기억해 주어야 합니다. "
   ]
  },
  {
   "cell_type": "code",
   "execution_count": 9,
   "id": "a05da5d9",
   "metadata": {},
   "outputs": [
    {
     "name": "stdout",
     "output_type": "stream",
     "text": [
      "[[ 1  7 10  0  0  0  0  0  0  0]\n",
      " [13 11 14  5  0  0  0  0  0  0]\n",
      " [13 11  2  9  8  4 12  0  0  0]\n",
      " [13 11 14  6  3  0  0  0  0  0]] [3, 4, 7, 5]\n",
      "[[1. 1. 1. 0. 0. 0. 0. 0. 0. 0.]\n",
      " [1. 1. 1. 1. 0. 0. 0. 0. 0. 0.]\n",
      " [1. 1. 1. 1. 1. 1. 1. 0. 0. 0.]\n",
      " [1. 1. 1. 1. 1. 0. 0. 0. 0. 0.]]\n",
      "[[6 7 1 0 0 0 0 0 0 0]\n",
      " [4 7 2 1 0 0 0 0 0 0]\n",
      " [4 7 3 4 5 1 4 0 0 0]\n",
      " [4 7 2 1 7 0 0 0 0 0]]\n"
     ]
    }
   ],
   "source": [
    "# 문장의 최대 길이 설정 \n",
    "max_sequence = 10 \n",
    "\n",
    "# 정수 인코딩 진행 \n",
    "x_data = list(map(lambda sentence: [word2idx.get(token) for token in sentence], sentences))\n",
    "y_data = list(map(lambda sentence : [pos2idx.get(token) for token in sentence], pos))\n",
    "\n",
    "# 패딩 진행, 동시에 패딩 과정에 대한 정보를 저장합니다, \n",
    "x_data = pad_sequences(sequences=x_data, maxlen=max_sequence, padding='post')\n",
    "## 이부분! \n",
    "x_data_mask = ((x_data != 0)*1).astype(np.float32)\n",
    "x_data_len = list(map(lambda sentence : len(sentence), sentences))\n",
    "\n",
    "y_data = pad_sequences(sequences=y_data, maxlen=max_sequence, padding='post')\n",
    "\n",
    "print(x_data, x_data_len)\n",
    "print(x_data_mask)\n",
    "print(y_data)"
   ]
  },
  {
   "cell_type": "markdown",
   "id": "fb8bfd34",
   "metadata": {},
   "source": [
    "## 모형 생성"
   ]
  },
  {
   "cell_type": "code",
   "execution_count": 10,
   "id": "5d01dd81",
   "metadata": {},
   "outputs": [],
   "source": [
    "# creating rnn for \"many to many\" sequence tagging\n",
    "num_classes = len(pos2idx)\n",
    "hidden_dim = 10\n",
    "\n",
    "input_dim = len(word2idx)\n",
    "output_dim = len(word2idx)\n",
    "one_hot = np.eye(len(word2idx))\n",
    "\n",
    "model = Sequential()\n",
    "model.add(layers.Embedding(input_dim=input_dim, output_dim=output_dim, mask_zero=True,\n",
    "                           trainable=False, input_length=max_sequence,\n",
    "                           embeddings_initializer=keras.initializers.Constant(one_hot)))\n",
    "model.add(layers.SimpleRNN(units=hidden_dim, return_sequences=True))\n",
    "model.add(layers.TimeDistributed(layers.Dense(units=num_classes)))"
   ]
  },
  {
   "cell_type": "markdown",
   "id": "f387d801",
   "metadata": {},
   "source": [
    "모든 시퀀스에서 정답을 내야 하므로 Return seuence를 통해 모든 은닉상태를 출력하고, 이를 모두 각각 Dense층으로 TimeDistributed를 통해 매칭해 전달하여, 최종적인 값을 도출했습니다."
   ]
  },
  {
   "cell_type": "code",
   "execution_count": 11,
   "id": "b65277a0",
   "metadata": {},
   "outputs": [
    {
     "data": {
      "text/plain": [
       "<bound method Model.summary of <tensorflow.python.keras.engine.sequential.Sequential object at 0x000001ABFFDBA6D0>>"
      ]
     },
     "execution_count": 11,
     "metadata": {},
     "output_type": "execute_result"
    }
   ],
   "source": [
    "model.summary"
   ]
  },
  {
   "cell_type": "markdown",
   "id": "40a5597d",
   "metadata": {},
   "source": [
    "## 학습 "
   ]
  },
  {
   "cell_type": "markdown",
   "id": "3d7b66a0",
   "metadata": {},
   "source": [
    "### loss 함수 정의 \n",
    "* 기본적인 컨셉은 sequence내의 모든 토큰에 대해, 예측과 실제를 비교하는 것입니다. \n",
    "* 이때, pad토큰은 연산에서 제외되어야 합니다. \n",
    "* 따라서, pad에 대한 loss에는 0을, 그 외에는 1을 곱해 pad에 대한 loss를 제외하고 이 값들을 모두 더하는 과정을 거칩니다. \n",
    "* 도출된 값을 pad를 제외한 유효 문장길이로 나누어 평균을 계산합니다. "
   ]
  },
  {
   "cell_type": "code",
   "execution_count": 12,
   "id": "92444617",
   "metadata": {},
   "outputs": [],
   "source": [
    "def loss_fn(model, x, y, x_len, max_sequence):\n",
    "    masking = tf.sequence_mask(x_len, maxlen=max_sequence, dtype=tf.float32)\n",
    "    valid_time_step = tf.cast(x_len,dtype=tf.float32)    \n",
    "    sequence_loss = tf.keras.losses.sparse_categorical_crossentropy(\n",
    "        y_true=y, y_pred=model(x), from_logits=True) * masking    \n",
    "    sequence_loss = tf.reduce_sum(sequence_loss, axis=-1) / valid_time_step    \n",
    "    sequence_loss = tf.reduce_mean(sequence_loss)    \n",
    "    return sequence_loss"
   ]
  },
  {
   "cell_type": "markdown",
   "id": "90ebfbc9",
   "metadata": {},
   "source": [
    "### Hyper Params "
   ]
  },
  {
   "cell_type": "code",
   "execution_count": 13,
   "id": "fa64ef6b",
   "metadata": {},
   "outputs": [],
   "source": [
    "learning_rate = 0.1 \n",
    "epochs = 30 \n",
    "batch_size = 2 \n",
    "optimizer = tf.keras.optimizers.Adam(learning_rate=learning_rate)"
   ]
  },
  {
   "cell_type": "markdown",
   "id": "500d89b8",
   "metadata": {},
   "source": [
    "### make data pipline "
   ]
  },
  {
   "cell_type": "code",
   "execution_count": 14,
   "id": "5c5f3b5f",
   "metadata": {},
   "outputs": [
    {
     "name": "stdout",
     "output_type": "stream",
     "text": [
      "<BatchDataset shapes: ((None, 10), (None, 10), (None,)), types: (tf.int32, tf.int32, tf.int32)>\n"
     ]
    }
   ],
   "source": [
    "training_dataset = tf.data.Dataset.from_tensor_slices((x_data,y_data,x_data_len))\n",
    "training_dataset = training_dataset.shuffle(buffer_size = 4)\n",
    "training_dataset = training_dataset.batch(batch_size=2)\n",
    "\n",
    "print(training_dataset)"
   ]
  },
  {
   "cell_type": "markdown",
   "id": "eca323e5",
   "metadata": {},
   "source": [
    "### training "
   ]
  },
  {
   "cell_type": "code",
   "execution_count": 16,
   "id": "4d822d38",
   "metadata": {},
   "outputs": [
    {
     "name": "stdout",
     "output_type": "stream",
     "text": [
      "epoch :   5, tr_loss : 0.224\n",
      "epoch :  10, tr_loss : 0.011\n",
      "epoch :  15, tr_loss : 0.003\n",
      "epoch :  20, tr_loss : 0.001\n",
      "epoch :  25, tr_loss : 0.001\n",
      "epoch :  30, tr_loss : 0.001\n"
     ]
    }
   ],
   "source": [
    "# training\n",
    "tr_loss_hist = []\n",
    "\n",
    "for epoch in range(epochs):\n",
    "    avg_tr_loss = 0\n",
    "    tr_step = 0\n",
    "    \n",
    "    for x_mb, y_mb, x_mb_len in training_dataset:\n",
    "        with tf.GradientTape() as tape:\n",
    "            tr_loss = loss_fn(model, x=x_mb, y=y_mb, x_len=x_mb_len, max_sequence=max_sequence)\n",
    "        grads = tape.gradient(target=tr_loss, sources=model.variables)\n",
    "        optimizer.apply_gradients(grads_and_vars=zip(grads, model.variables))\n",
    "        avg_tr_loss += tr_loss\n",
    "        tr_step += 1\n",
    "    else:\n",
    "        avg_tr_loss /= tr_step\n",
    "        tr_loss_hist.append(avg_tr_loss)\n",
    "    \n",
    "    if (epoch + 1) % 5 == 0:\n",
    "        print('epoch : {:3}, tr_loss : {:.3f}'.format(epoch + 1, avg_tr_loss))"
   ]
  },
  {
   "cell_type": "markdown",
   "id": "d5d61f9e",
   "metadata": {},
   "source": [
    "## 결과 확인하기 "
   ]
  },
  {
   "cell_type": "code",
   "execution_count": 20,
   "id": "6c5ee932",
   "metadata": {},
   "outputs": [
    {
     "name": "stdout",
     "output_type": "stream",
     "text": [
      "[['pronoun', 'verb', 'adjective', '<pad>', '<pad>', '<pad>', '<pad>', '<pad>', '<pad>', '<pad>'],\n",
      " ['noun', 'verb', 'adverb', 'adjective', '<pad>', '<pad>', '<pad>', '<pad>', '<pad>', '<pad>'],\n",
      " ['noun', 'verb', 'determiner', 'noun', 'preposition', 'adjective', 'noun', '<pad>', '<pad>', '<pad>'],\n",
      " ['noun', 'verb', 'adverb', 'adjective', 'verb', '<pad>', '<pad>', '<pad>', '<pad>', '<pad>']]\n",
      "[['pronoun', 'verb', 'adjective'],\n",
      " ['noun', 'verb', 'adverb', 'adjective'],\n",
      " ['noun', 'verb', 'determiner', 'noun', 'preposition', 'adjective', 'noun'],\n",
      " ['noun', 'verb', 'adverb', 'adjective', 'verb']]\n"
     ]
    }
   ],
   "source": [
    "from pprint import pprint \n",
    "\n",
    "yhat = model.predict(x_data)\n",
    "yhat = np.argmax(yhat, axis=-1) * x_data_mask\n",
    "\n",
    "pprint(list(map(lambda row : [idx2pos.get(elm) for elm in row],yhat.astype(np.int32).tolist())), width = 120)\n",
    "pprint(pos)"
   ]
  },
  {
   "cell_type": "code",
   "execution_count": 21,
   "id": "f6e7b587",
   "metadata": {},
   "outputs": [
    {
     "data": {
      "text/plain": [
       "[<matplotlib.lines.Line2D at 0x1ab8315d040>]"
      ]
     },
     "execution_count": 21,
     "metadata": {},
     "output_type": "execute_result"
    },
    {
     "data": {
      "image/png": "[encoded data removed]",
      "text/plain": [
       "<Figure size 432x288 with 1 Axes>"
      ]
     },
     "metadata": {
      "needs_background": "light"
     },
     "output_type": "display_data"
    }
   ],
   "source": [
    "plt.plot(tr_loss_hist)"
   ]
  },
  {
   "cell_type": "markdown",
   "id": "28b68433",
   "metadata": {},
   "source": [
    "# Bidirectional RNN (Many 2 Many) \n",
    "![bidirectional.png](https://miro.medium.com/max/1313/1*6QnPUSv_t9BY9Fv8_aLb-Q.png) \n",
    "* 양방향 RNN은 우리가 기존에 사용하던 RNN모형과 큰 차이가 존재합니다. 바로, 기존의 RNN이 은닉상태의 값을 단순히 앞에서 뒤로 전달하는 forward RNN 방식으로 작동하는 점과 다르게, Forward 방향과 Backward방향으로 동시에 은닉상태의 값을 전달하는 rnn 모형을 구성하는것 입니다. "
   ]
  },
  {
   "cell_type": "markdown",
   "id": "d7d02f76",
   "metadata": {},
   "source": [
    "* 해당 방식의 모형 구현은 기존의 모형의 각각의 은닉상태에서의 **정보의 양에 대한 불균형성**에서 비롯되었습니다. \n",
    "![bidirection2.png](https://blog.kakaocdn.net/dn/bPTdDN/btqDCb3soJP/615rYSKGD0OL6F3YmwBoSk/img.png) \n",
    "* 위의 그림은 정보의 불균형에 대한 기존 방식의 문제점과 bidirection model이 이를 해결해주는 방식을 자세히 보여줍니다. \n",
    "    - 기존의 forward방식만을 사용하면, 각 hidden state가 가지고 있는 정보의 양은 시점에 따라 크게 달라집니다. 첫번째 hidden state는 첫번째 입력에 대한 정보, 즉 1만큼의 정보만을 가지고 연산을 수행하는 반면에, 두번째 hidden state는 첫번째 층에서 전달된 이전시점의 hidden state에 대한 정보와 해당시점에서의 입력에 대한 정보를 포함해 총 2의 크기의 정보를 가지고 연산을 수행합니다. \n",
    "    - 이는 sequence의 길이가 길어질수록 중대한 문제가 됩니다. \n",
    "    - 또한, many to many모형에서는 특히, 정보의 양이 상대적으로 부족한 sequence의 초기 부분에서의 예측 및 분류 성능은 크게 떨어진다는 문제점을 지니고 있습니다.\n",
    "* Bidirectional Model은 정보를 뒤에서부터 읽는 backward방식의 계층을 추가적으로 사용하여, 각 시점에서의 hidden state를 계산할때 사용되는 정보의 양을 일정하게 유지해줍니다. \n",
    "    - 각 시점에서의 은닉상태의 계산에 있어, 각 시점에서 forward방식으로 도출된 값과 backward 방식으로 도출된 값을 모두 이용해 연산을 수행합니다. "
   ]
  },
  {
   "cell_type": "markdown",
   "id": "1e1635f3",
   "metadata": {},
   "source": [
    "* 구체적인 은닉상태의 계산방식은 아래와 같습니다. \n",
    "![cal_bidirection.png](https://blog.kakaocdn.net/dn/rOK7v/btqDyE0uYPz/1yO1crLwWks7nKIZBK9A0K/img.png)\n",
    "1. 해당시점에서 각각 Forward방식과 Backward 방식으로 도출된 은닉상태의 값을 concat하여 새로운 형태의 vector를 생성합니다. \n",
    "2. 새로운 vector에 weight와 bias를 붙여 예측값을 도출합니다. \n",
    "(단, weight와 bias matrix는 모든 sequence에서 공통으로 사용합니다.)  \n",
    "\n",
    "* loss의 계산은 기존의 many to many방식에서와 동일하게 각 은닉상태에 대한 loss를 계산하고, 이를 sequence별로 평균을 적용해 backpropogation을 진행합니다. \n",
    "* 또한 pad토큰에 대해 masking을 적용하는 방식도 이전과 동일합니다. "
   ]
  },
  {
   "cell_type": "markdown",
   "id": "8d98ab27",
   "metadata": {},
   "source": [
    "**설명은 다소 복잡할 수 있지만, 실제 구현에 있어서의 변경사항은 모형 구현시 한줄의 수정만 있으면 가능합니다.**"
   ]
  },
  {
   "cell_type": "markdown",
   "id": "70928beb",
   "metadata": {},
   "source": [
    "## 필요한 라이브러리 불러오기 "
   ]
  },
  {
   "cell_type": "code",
   "execution_count": 22,
   "id": "5d366c68",
   "metadata": {},
   "outputs": [],
   "source": [
    "import numpy as np \n",
    "import tensorflow as tf \n",
    "\n",
    "from tensorflow import keras \n",
    "from tensorflow.keras import Sequential, Model \n",
    "from tensorflow.keras import layers \n",
    "from tensorflow.keras.preprocessing.sequence import pad_sequences \n",
    "\n",
    "import matplotlib.pyplot as plt \n",
    "from pprint import pprint "
   ]
  },
  {
   "cell_type": "markdown",
   "id": "3b931bcd",
   "metadata": {},
   "source": [
    "## 데이터 준비하기 "
   ]
  },
  {
   "cell_type": "code",
   "execution_count": 23,
   "id": "2f5ea214",
   "metadata": {},
   "outputs": [],
   "source": [
    "# 이전의 문제와 동일한 예제를 풀이합니다.  \n",
    "# example data\n",
    "sentences = [['I', 'feel', 'hungry'],\n",
    "     ['tensorflow', 'is', 'very', 'difficult'],\n",
    "     ['tensorflow', 'is', 'a', 'framework', 'for', 'deep', 'learning'],\n",
    "     ['tensorflow', 'is', 'very', 'fast', 'changing']]\n",
    "pos = [['pronoun', 'verb', 'adjective'],\n",
    "     ['noun', 'verb', 'adverb', 'adjective'],\n",
    "     ['noun', 'verb', 'determiner', 'noun', 'preposition', 'adjective', 'noun'],\n",
    "     ['noun', 'verb', 'adverb', 'adjective', 'verb']]"
   ]
  },
  {
   "cell_type": "markdown",
   "id": "377bbc36",
   "metadata": {},
   "source": [
    "## 데이터 전처리 "
   ]
  },
  {
   "cell_type": "code",
   "execution_count": 24,
   "id": "80ee193a",
   "metadata": {},
   "outputs": [
    {
     "name": "stdout",
     "output_type": "stream",
     "text": [
      "{'<pad>': 0, 'I': 1, 'a': 2, 'changing': 3, 'deep': 4, 'difficult': 5, 'fast': 6, 'feel': 7, 'for': 8, 'framework': 9, 'hungry': 10, 'is': 11, 'learning': 12, 'tensorflow': 13, 'very': 14}\n",
      "{0: '<pad>', 1: 'I', 2: 'a', 3: 'changing', 4: 'deep', 5: 'difficult', 6: 'fast', 7: 'feel', 8: 'for', 9: 'framework', 10: 'hungry', 11: 'is', 12: 'learning', 13: 'tensorflow', 14: 'very'}\n",
      "15\n"
     ]
    }
   ],
   "source": [
    "# token dictionary 생성하기 \n",
    "word_list = sum(sentences, [])\n",
    "word_list = sorted(set(word_list))\n",
    "word_list = ['<pad>'] + word_list\n",
    "\n",
    "word2idx = {word:idx for idx, word in enumerate(word_list)}\n",
    "idx2word = {idx:word for idx, word in enumerate(word_list)}\n",
    "\n",
    "print(word2idx)\n",
    "print(idx2word)\n",
    "print(len(idx2word))"
   ]
  },
  {
   "cell_type": "code",
   "execution_count": 26,
   "id": "729e00e4",
   "metadata": {},
   "outputs": [
    {
     "name": "stdout",
     "output_type": "stream",
     "text": [
      "{'<pad>': 0, 'adjective': 1, 'adverb': 2, 'determiner': 3, 'noun': 4, 'preposition': 5, 'pronoun': 6, 'verb': 7}\n",
      "{0: '<pad>', 1: 'adjective', 2: 'adverb', 3: 'determiner', 4: 'noun', 5: 'preposition', 6: 'pronoun', 7: 'verb'}\n",
      "8\n"
     ]
    }
   ],
   "source": [
    "# 품사 dict 생성하기 \n",
    "pos_list = sum(pos,[])\n",
    "pos_list = sorted(set(pos_list))\n",
    "pos_list = ['<pad>'] + pos_list \n",
    "\n",
    "pos2idx = {pos:idx for idx,pos in enumerate(pos_list)}\n",
    "idx2pos = {idx:pos for idx,pos in enumerate(pos_list)}\n",
    "\n",
    "print(pos2idx)\n",
    "print(idx2pos)\n",
    "print(len(pos2idx))"
   ]
  },
  {
   "cell_type": "code",
   "execution_count": 27,
   "id": "399c73da",
   "metadata": {},
   "outputs": [],
   "source": [
    "# 각 배열을 정수 인코딩 하여 데이터 생성하기 \n",
    "max_sequence = 10 \n",
    "x_data = list(map(lambda sentence: [word2idx.get(token) for token in sentence], sentences))\n",
    "y_data = list(map(lambda sentence : [pos2idx.get(token) for token in sentence], pos))"
   ]
  },
  {
   "cell_type": "code",
   "execution_count": 28,
   "id": "658950c9",
   "metadata": {},
   "outputs": [],
   "source": [
    "# padding 진행하기, 이에 대한 정보를 담을 데이터도 생성합니다. \n",
    "x_data = pad_sequences(sequences=x_data, maxlen=max_sequence, padding='post')\n",
    "\n",
    "# 마스크 정보 및 데이터의 유효길이 담아두기 \n",
    "x_data_mask = ((x_data != 0)*1).astype(np.float32)\n",
    "x_data_len = list(map(lambda sentence : len(sentence), sentences))"
   ]
  },
  {
   "cell_type": "code",
   "execution_count": 34,
   "id": "b542349d",
   "metadata": {},
   "outputs": [],
   "source": [
    "# y데이터 패딩 \n",
    "y_data = pad_sequences(sequences=y_data, maxlen=max_sequence, padding='post')"
   ]
  },
  {
   "cell_type": "code",
   "execution_count": 35,
   "id": "6a0a0fb4",
   "metadata": {},
   "outputs": [
    {
     "name": "stdout",
     "output_type": "stream",
     "text": [
      "[[ 1  7 10  0  0  0  0  0  0  0]\n",
      " [13 11 14  5  0  0  0  0  0  0]\n",
      " [13 11  2  9  8  4 12  0  0  0]\n",
      " [13 11 14  6  3  0  0  0  0  0]] [3, 4, 7, 5]\n",
      "[[1. 1. 1. 0. 0. 0. 0. 0. 0. 0.]\n",
      " [1. 1. 1. 1. 0. 0. 0. 0. 0. 0.]\n",
      " [1. 1. 1. 1. 1. 1. 1. 0. 0. 0.]\n",
      " [1. 1. 1. 1. 1. 0. 0. 0. 0. 0.]]\n",
      "[[6 7 1 0 0 0 0 0 0 0]\n",
      " [4 7 2 1 0 0 0 0 0 0]\n",
      " [4 7 3 4 5 1 4 0 0 0]\n",
      " [4 7 2 1 7 0 0 0 0 0]]\n"
     ]
    }
   ],
   "source": [
    "# checking data\n",
    "print(x_data, x_data_len)\n",
    "print(x_data_mask)\n",
    "print(y_data)"
   ]
  },
  {
   "cell_type": "markdown",
   "id": "84eac472",
   "metadata": {},
   "source": [
    "## 모형 생성하기 \n",
    "* 기존의 rnn층을 Bidirectional로 감싸주면 간단하게 구현이 가능합니다. "
   ]
  },
  {
   "cell_type": "code",
   "execution_count": 36,
   "id": "2da823b3",
   "metadata": {},
   "outputs": [],
   "source": [
    "# creating bidirectional rnn for \"many to many\" sequence tagging\n",
    "num_classes = len(pos2idx)\n",
    "hidden_dim = 10\n",
    "\n",
    "input_dim = len(word2idx)\n",
    "output_dim = len(word2idx)\n",
    "one_hot = np.eye(len(word2idx))\n",
    "\n",
    "model = Sequential()\n",
    "model.add(layers.InputLayer(input_shape=(max_sequence,)))\n",
    "model.add(layers.Embedding(input_dim=input_dim, output_dim=output_dim, mask_zero=True,\n",
    "                                 trainable=False, input_length=max_sequence,\n",
    "                                 embeddings_initializer=keras.initializers.Constant(one_hot)))\n",
    "model.add(layers.Bidirectional(keras.layers.SimpleRNN(units=hidden_dim, return_sequences=True)))\n",
    "model.add(layers.TimeDistributed(keras.layers.Dense(units=num_classes)))"
   ]
  },
  {
   "cell_type": "markdown",
   "id": "93e6af78",
   "metadata": {},
   "source": [
    "## Training "
   ]
  },
  {
   "cell_type": "code",
   "execution_count": 37,
   "id": "19dee6d2",
   "metadata": {},
   "outputs": [],
   "source": [
    "# creating loss function\n",
    "def loss_fn(model, x, y, x_len, max_sequence):\n",
    "    masking = tf.sequence_mask(x_len, maxlen=max_sequence, dtype=tf.float32)\n",
    "    valid_time_step = tf.cast(x_len,dtype=tf.float32)\n",
    "    sequence_loss = tf.keras.losses.sparse_categorical_crossentropy(\n",
    "        y_true=y, y_pred=model(x), from_logits=True) * masking    \n",
    "    sequence_loss = tf.reduce_sum(sequence_loss, axis=-1) / valid_time_step\n",
    "    sequence_loss = tf.reduce_mean(sequence_loss)\n",
    "    return sequence_loss\n",
    "\n",
    "# creating and optimizer\n",
    "lr = 0.1\n",
    "epochs = 30\n",
    "batch_size = 2 \n",
    "opt = tf.keras.optimizers.Adam(learning_rate = lr)"
   ]
  },
  {
   "cell_type": "code",
   "execution_count": 38,
   "id": "bb2fed36",
   "metadata": {},
   "outputs": [
    {
     "name": "stdout",
     "output_type": "stream",
     "text": [
      "<BatchDataset shapes: ((None, 10), (None, 10), (None,)), types: (tf.int32, tf.int32, tf.int32)>\n"
     ]
    }
   ],
   "source": [
    "# generating data pipeline\n",
    "tr_dataset = tf.data.Dataset.from_tensor_slices((x_data, y_data, x_data_len))\n",
    "tr_dataset = tr_dataset.shuffle(buffer_size=4)\n",
    "tr_dataset = tr_dataset.batch(batch_size = 2)\n",
    "\n",
    "print(tr_dataset)"
   ]
  },
  {
   "cell_type": "code",
   "execution_count": 39,
   "id": "45d141e7",
   "metadata": {},
   "outputs": [
    {
     "name": "stdout",
     "output_type": "stream",
     "text": [
      "epoch :   5, tr_loss : 0.008\n",
      "epoch :  10, tr_loss : 0.000\n",
      "epoch :  15, tr_loss : 0.000\n",
      "epoch :  20, tr_loss : 0.000\n",
      "epoch :  25, tr_loss : 0.000\n",
      "epoch :  30, tr_loss : 0.000\n"
     ]
    }
   ],
   "source": [
    "# training\n",
    "tr_loss_hist = []\n",
    "\n",
    "for epoch in range(epochs):\n",
    "    avg_tr_loss = 0\n",
    "    tr_step = 0\n",
    "    \n",
    "    for x_mb, y_mb, x_mb_len in tr_dataset:\n",
    "        with tf.GradientTape() as tape:\n",
    "            tr_loss = loss_fn(model, x=x_mb, y=y_mb, x_len=x_mb_len, max_sequence=max_sequence)\n",
    "        grads = tape.gradient(target=tr_loss, sources=model.variables)\n",
    "        opt.apply_gradients(grads_and_vars=zip(grads, model.variables))\n",
    "        avg_tr_loss += tr_loss\n",
    "        tr_step += 1\n",
    "    else:\n",
    "        avg_tr_loss /= tr_step\n",
    "        tr_loss_hist.append(avg_tr_loss)\n",
    "    \n",
    "    if (epoch + 1) % 5 == 0:\n",
    "        print('epoch : {:3}, tr_loss : {:.3f}'.format(epoch + 1, avg_tr_loss))"
   ]
  },
  {
   "cell_type": "markdown",
   "id": "c27fa505",
   "metadata": {},
   "source": [
    "## 성능 확인하기 "
   ]
  },
  {
   "cell_type": "code",
   "execution_count": 40,
   "id": "5fecdbde",
   "metadata": {},
   "outputs": [
    {
     "name": "stdout",
     "output_type": "stream",
     "text": [
      "[['pronoun', 'verb', 'adjective', '<pad>', '<pad>', '<pad>', '<pad>', '<pad>', '<pad>', '<pad>'],\n",
      " ['noun', 'verb', 'adverb', 'adjective', '<pad>', '<pad>', '<pad>', '<pad>', '<pad>', '<pad>'],\n",
      " ['noun', 'verb', 'determiner', 'noun', 'preposition', 'adjective', 'noun', '<pad>', '<pad>', '<pad>'],\n",
      " ['noun', 'verb', 'adverb', 'adjective', 'verb', '<pad>', '<pad>', '<pad>', '<pad>', '<pad>']]\n",
      "[['pronoun', 'verb', 'adjective'],\n",
      " ['noun', 'verb', 'adverb', 'adjective'],\n",
      " ['noun', 'verb', 'determiner', 'noun', 'preposition', 'adjective', 'noun'],\n",
      " ['noun', 'verb', 'adverb', 'adjective', 'verb']]\n"
     ]
    }
   ],
   "source": [
    "yhat = model.predict(x_data)\n",
    "yhat = np.argmax(yhat, axis=-1) * x_data_mask\n",
    "\n",
    "pprint(list(map(lambda row : [idx2pos.get(elm) for elm in row],yhat.astype(np.int32).tolist())), width = 120)\n",
    "pprint(pos)"
   ]
  },
  {
   "cell_type": "code",
   "execution_count": 41,
   "id": "fc61d268",
   "metadata": {},
   "outputs": [
    {
     "data": {
      "text/plain": [
       "[<matplotlib.lines.Line2D at 0x1ab846f5850>]"
      ]
     },
     "execution_count": 41,
     "metadata": {},
     "output_type": "execute_result"
    },
    {
     "data": {
      "image/png": "[encoded data removed]",
      "text/plain": [
       "<Figure size 432x288 with 1 Axes>"
      ]
     },
     "metadata": {
      "needs_background": "light"
     },
     "output_type": "display_data"
    }
   ],
   "source": [
    "plt.plot(tr_loss_hist)"
   ]
  },
  {
   "cell_type": "markdown",
   "id": "fa65f937",
   "metadata": {},
   "source": [
    "기존의 many2many방식보다 training loss가 빨리 감소하며, 또한 loss가 0이 됨을 볼 수 있었습니다 . "
   ]
  },
  {
   "cell_type": "markdown",
   "id": "7d4cd858",
   "metadata": {},
   "source": [
    "# Sequence to Sequence \n",
    "* sequence to sequence 모형을 활용하여 가장 간단한 번역기를 만듭니다. \n",
    "* 가장 대표적인 활용 예시는 번역, 챗봇 등이 있습니다. \n",
    "* sequence2sequence 모형은 입력 문장과 정답 문장을 입력받아 학습을 진행합니다. \n",
    "* Sequence to Sequence 모형은 크게 입력값이 순차적으로 입력되는 Encoder 모듈과, 재귀적으로 출력값을 산출하는 Decoder 모듈로 이루어집니다. "
   ]
  },
  {
   "cell_type": "markdown",
   "id": "79b98b11",
   "metadata": {},
   "source": [
    "![seqmodel.png](https://blog.kakaocdn.net/dn/cByx3E/btqDyNiSnP2/GX8SnhRzTR8zRwTk2KBoJ0/img.png)\n",
    "* 특히, Decoder 모듈은 자신의 이전 출력값을 누적적으로 입력으로 다시 받아 다음 단어를 유추합니다. \n",
    "* 또한 문장의 시작과 끝의 정보를 인식할 수 있도록 \\<시작\\>토큰과 \\<End\\>토큰을 함께 토큰 dict.에 포함하여 모형을 구현합니다. \n"
   ]
  },
  {
   "cell_type": "markdown",
   "id": "50fb1fc8",
   "metadata": {},
   "source": [
    "![decoder.png](https://blog.kakaocdn.net/dn/VGRNm/btqDCb3D0Wn/MxXJ3uxfp8WrdSK0e9IdHK/img.png)"
   ]
  },
  {
   "cell_type": "markdown",
   "id": "31c86dc8",
   "metadata": {},
   "source": [
    "## 라이브러리 호출 "
   ]
  },
  {
   "cell_type": "code",
   "execution_count": 2,
   "id": "d6f78365",
   "metadata": {},
   "outputs": [],
   "source": [
    "import tensorflow as tf \n",
    "import numpy as np \n",
    "\n",
    "from sklearn.model_selection import train_test_split \n",
    "from tensorflow import keras \n",
    "from tensorflow.keras.preprocessing.sequence import pad_sequences\n",
    "\n",
    "from pprint import pprint \n",
    "import os \n",
    "\n",
    "import matplotlib.pyplot as plt \n",
    "from matplotlib import font_manager, rc \n",
    "\n",
    "rc('font', family='MalgunGothic')"
   ]
  },
  {
   "cell_type": "markdown",
   "id": "6b696133",
   "metadata": {},
   "source": [
    "## 데이터셋 준비 "
   ]
  },
  {
   "cell_type": "code",
   "execution_count": 3,
   "id": "6302303f",
   "metadata": {},
   "outputs": [],
   "source": [
    "# x 데이터 \n",
    "sources = [['I', 'feel', 'hungry'],\n",
    "     ['tensorflow', 'is', 'very', 'difficult'],\n",
    "     ['tensorflow', 'is', 'a', 'framework', 'for', 'deep', 'learning'],\n",
    "     ['tensorflow', 'is', 'very', 'fast', 'changing']]\n",
    "\n",
    "# 목적 데이터 \n",
    "targets = [['나는', '배가', '고프다'],\n",
    "           ['텐서플로우는', '매우', '어렵다'],\n",
    "           ['텐서플로우는', '딥러닝을', '위한', '프레임워크이다'],\n",
    "           ['텐서플로우는', '매우', '빠르게', '변화한다']]"
   ]
  },
  {
   "cell_type": "markdown",
   "id": "cb5ddfab",
   "metadata": {},
   "source": [
    "## 데이터 전처리 "
   ]
  },
  {
   "cell_type": "markdown",
   "id": "3c597e0c",
   "metadata": {},
   "source": [
    "### source의 토큰 dictionary 생성 "
   ]
  },
  {
   "cell_type": "code",
   "execution_count": 4,
   "id": "3e7177a3",
   "metadata": {},
   "outputs": [
    {
     "name": "stdout",
     "output_type": "stream",
     "text": [
      "{'<pad>': 0, 'I': 1, 'a': 2, 'changing': 3, 'deep': 4, 'difficult': 5, 'fast': 6, 'feel': 7, 'for': 8, 'framework': 9, 'hungry': 10, 'is': 11, 'learning': 12, 'tensorflow': 13, 'very': 14}\n"
     ]
    }
   ],
   "source": [
    "s_vocab = list(set(sum(sources, [])))\n",
    "s_vocab.sort()\n",
    "\n",
    "s_vocab = [\"<pad>\"] + s_vocab\n",
    "\n",
    "source2idx =  {word : idx for idx, word in enumerate(s_vocab)}\n",
    "idx2source = {idx : word for idx, word in enumerate(s_vocab)}\n",
    "\n",
    "print(source2idx)"
   ]
  },
  {
   "cell_type": "markdown",
   "id": "34226d85",
   "metadata": {},
   "source": [
    "### target에 대한 token dict 생성 "
   ]
  },
  {
   "cell_type": "code",
   "execution_count": 19,
   "id": "8c93e87c",
   "metadata": {},
   "outputs": [
    {
     "name": "stdout",
     "output_type": "stream",
     "text": [
      "{'<pad>': 0, '<bos>': 1, '<eos>': 2, '고프다': 3, '나는': 4, '딥러닝을': 5, '매우': 6, '배가': 7, '변화한다': 8, '빠르게': 9, '어렵다': 10, '위한': 11, '텐서플로우는': 12, '프레임워크이다': 13}\n"
     ]
    }
   ],
   "source": [
    "t_vocab = list(set(sum(targets, [])))\n",
    "t_vocab.sort()\n",
    "\n",
    "# decoder에 입력되는 데이터인 target은 문장의 시작과 끝을 구분할 특별한 토큰이 필요합니다. \n",
    "t_vocab = [\"<pad>\",\"<bos>\", \"<eos>\"] + t_vocab \n",
    "# begining of sentence / end of sentence \n",
    "\n",
    "target2idx = {word:idx for idx,word in enumerate(t_vocab)}\n",
    "idx2target = {idx:word for idx, word in enumerate(t_vocab)}\n",
    "\n",
    "print(target2idx)"
   ]
  },
  {
   "cell_type": "markdown",
   "id": "8e1d4b66",
   "metadata": {},
   "source": [
    "### 데이터 인덱싱 함수 구현\n",
    "* assert _ in [], '안내문장' 구문은 마치 C언어의 switch case구문처럼, 사용자의 입력에 따라 다른 실행을 산출하는 구문입니다. \n",
    "* 밑에서 동일한 함수를 source와 target에 대해 적용하기 위해 사용합니다. \n",
    "* 또, target문자열의 경우 입력과 출력 데이터를 각각 설정합니다. 각각의 문장을 아래의 방식으로 전처리 후 정수 인코딩과 패딩을 진행합니다.  \n",
    "    - 입력 : \\[\\<bos\\>, \"..\", \"..\", \"..\", \\<eos\\>\\] \n",
    "    - 출력 : \\[\"..\", \"..\", \"..\", \\<eos\\>\\] "
   ]
  },
  {
   "cell_type": "code",
   "execution_count": 6,
   "id": "981edc93",
   "metadata": {},
   "outputs": [],
   "source": [
    "# test = list(map(lambda sentence : sentence + ['<eos>'], targets))\n",
    "# test = t_input = list(map(lambda sentence : [target2idx.get(token) for token in sentence], test))\n",
    "\n",
    "# print(test )"
   ]
  },
  {
   "cell_type": "code",
   "execution_count": 16,
   "id": "31af74ed",
   "metadata": {},
   "outputs": [],
   "source": [
    "def preprocess(sequences, max_len, dic, mode = 'source'):\n",
    "    assert mode in ['source', 'target'], 'source와 target 중 원하는 모드를 선택해주세요'\n",
    "    \n",
    "    if mode == 'source':\n",
    "        # 인코더에 들어갈 데이터를 정수 인코딩합니다.\n",
    "        s_input = list(map(lambda sentence : [dic.get(token) for token in sentence], sequences))\n",
    "        s_len = list(map(lambda sentence : len(sentence), s_input))\n",
    "        s_input = pad_sequences(sequences = s_input, maxlen=max_len, padding='post', truncating='post')\n",
    "        \n",
    "        return s_len, s_input \n",
    "    \n",
    "    elif mode == 'target':\n",
    "        # 디코더의 입력으로 들어갈 target 데이터를 전처리 합니다. \n",
    "        # 입력과 정답의 데이터 두가지 형태를 생성합니다. \n",
    "        t_input = list(map(lambda sentence :['<bos>']+sentence+['<eos>'],sequences))\n",
    "        t_input = list(map(lambda sentence :[dic.get(token)for token in sentence] ,t_input))     \n",
    "        t_len = list(map(lambda sentence : len(sentence), t_input))\n",
    "        t_input = pad_sequences(sequences = t_input, maxlen = max_len, padding = 'post', truncating = 'post')\n",
    "        # 정답값 데이터를 만들어줍니다. \n",
    "        t_output = list(map(lambda sentence : sentence+['<eos>'], sequences))\n",
    "        t_output = list(map(lambda sentence : [dic.get(token) for token in sentence], t_output))\n",
    "        t_output = pad_sequences(sequences=t_output, maxlen=max_len, padding='post', truncating='post')\n",
    "        \n",
    "        return t_len, t_input, t_output"
   ]
  },
  {
   "cell_type": "markdown",
   "id": "971663c0",
   "metadata": {},
   "source": [
    "이제 생성한 함수를 이용해 전처리를 진행합니다. "
   ]
  },
  {
   "cell_type": "code",
   "execution_count": 17,
   "id": "b119e823",
   "metadata": {},
   "outputs": [
    {
     "name": "stdout",
     "output_type": "stream",
     "text": [
      "[3, 4, 7, 5] [[ 1  7 10  0  0  0  0  0  0  0]\n",
      " [13 11 14  5  0  0  0  0  0  0]\n",
      " [13 11  2  9  8  4 12  0  0  0]\n",
      " [13 11 14  6  3  0  0  0  0  0]]\n"
     ]
    }
   ],
   "source": [
    "# preprocessing for source\n",
    "s_max_len = 10\n",
    "s_len, s_input = preprocess(sequences = sources,\n",
    "                            max_len = s_max_len, dic = source2idx, mode = 'source')\n",
    "print(s_len, s_input)"
   ]
  },
  {
   "cell_type": "code",
   "execution_count": 20,
   "id": "5d5f6893",
   "metadata": {},
   "outputs": [
    {
     "name": "stdout",
     "output_type": "stream",
     "text": [
      "[5, 5, 6, 6] [[ 1  4  7  3  2  0  0  0  0  0  0  0]\n",
      " [ 1 12  6 10  2  0  0  0  0  0  0  0]\n",
      " [ 1 12  5 11 13  2  0  0  0  0  0  0]\n",
      " [ 1 12  6  9  8  2  0  0  0  0  0  0]] [[ 4  7  3  2  0  0  0  0  0  0  0  0]\n",
      " [12  6 10  2  0  0  0  0  0  0  0  0]\n",
      " [12  5 11 13  2  0  0  0  0  0  0  0]\n",
      " [12  6  9  8  2  0  0  0  0  0  0  0]]\n"
     ]
    }
   ],
   "source": [
    "# preprocessing for target\n",
    "t_max_len = 12\n",
    "t_len, t_input, t_output = preprocess(sequences = targets,\n",
    "                                      max_len = t_max_len, dic = target2idx, mode = 'target')\n",
    "print(t_len, t_input, t_output)"
   ]
  },
  {
   "cell_type": "markdown",
   "id": "14fffe3d",
   "metadata": {},
   "source": [
    "## Hyper-parameter 생성 "
   ]
  },
  {
   "cell_type": "code",
   "execution_count": 21,
   "id": "85a57305",
   "metadata": {},
   "outputs": [],
   "source": [
    "# hyper-parameters\n",
    "epochs = 200\n",
    "batch_size = 4\n",
    "learning_rate = .005\n",
    "total_step = epochs / batch_size\n",
    "buffer_size = 100\n",
    "n_batch = buffer_size//batch_size\n",
    "embedding_dim = 32\n",
    "units = 32"
   ]
  },
  {
   "cell_type": "code",
   "execution_count": 22,
   "id": "5aa2eb7d",
   "metadata": {},
   "outputs": [],
   "source": [
    "# input데이터 파이프라이닝 \n",
    "data = tf.data.Dataset.from_tensor_slices((s_len, s_input, t_len, t_input, t_output))\n",
    "data = data.shuffle(buffer_size = buffer_size)\n",
    "data = data.batch(batch_size = batch_size)\n",
    "# s_mb_len, s_mb_input, t_mb_len, t_mb_input, t_mb_output = iterator.get_next()"
   ]
  },
  {
   "cell_type": "markdown",
   "id": "18390ea6",
   "metadata": {},
   "source": [
    "## 모형 유닛 설정 "
   ]
  },
  {
   "cell_type": "code",
   "execution_count": 23,
   "id": "a0b17e95",
   "metadata": {},
   "outputs": [],
   "source": [
    "def gru(units):\n",
    "    return tf.keras.layers.GRU(units, \n",
    "                               return_sequences=True, \n",
    "                               return_state=True, \n",
    "                               recurrent_initializer='glorot_uniform')\n",
    "# xiavier initalization을 이용해 모형에 들어가는 모든 가중치를 초기화해 성능을 높입니다. "
   ]
  },
  {
   "cell_type": "raw",
   "id": "a1377069",
   "metadata": {},
   "source": [
    "##### 인코더 구조를 생성하는 class "
   ]
  },
  {
   "cell_type": "code",
   "execution_count": 27,
   "id": "e7b7d37e",
   "metadata": {},
   "outputs": [],
   "source": [
    "class Encoder(tf.keras.Model):\n",
    "    def __init__(self, vocab_size, embedding_dim, encoder_units, batch_size):\n",
    "        super(Encoder, self).__init__()\n",
    "        self.batch_size = batch_size\n",
    "        self.encoder_units = encoder_units \n",
    "        self.embedding = tf.keras.layers.Embedding(vocab_size, embedding_dim)\n",
    "        self.gru = gru(self.encoder_units)\n",
    "    # 모델 연결 \n",
    "    def call(self, x, hidden):\n",
    "        x = self.embedding(x)\n",
    "        output, state = self.gru(x, initial_state = hidden)\n",
    "        \n",
    "        return output, state \n",
    "    def initialize_hidden_state(self):\n",
    "        return tf.zeros((self.batch_size, self.encoder_units))"
   ]
  },
  {
   "cell_type": "markdown",
   "id": "9268c1ee",
   "metadata": {},
   "source": [
    "##### 디코더를 생성하는 class \n",
    "* 임베딩층을 타오 들어온 값이 순차적으로 gru를 통과한 후, FC layer의 입력에 맞게 펼쳐져 분류가 수행되는 모형입니다"
   ]
  },
  {
   "cell_type": "code",
   "execution_count": 25,
   "id": "2ef51235",
   "metadata": {},
   "outputs": [],
   "source": [
    "class Decoder(tf.keras.Model):\n",
    "    def __init__(self, vocab_size, embedding_dim, decoder_units, batch_size):\n",
    "        super(Decoder, self).__init__()\n",
    "        self.batch_size = batch_size\n",
    "        self.decoder_units = decoder_units\n",
    "        self.embedding = tf.keras.layers.Embedding(vocab_size, embedding_dim)\n",
    "        self.gru = gru(self.decoder_units)\n",
    "        self.fc = tf.keras.layers.Dense(vocab_size)\n",
    "                \n",
    "    def call(self, x, hidden, enc_output):\n",
    "        \n",
    "        x = self.embedding(x)\n",
    "        output, state = self.gru(x, initial_state = hidden)\n",
    "        \n",
    "        # output shape == (batch_size * 1, hidden_size)\n",
    "        output = tf.reshape(output, (-1, output.shape[2]))\n",
    "        \n",
    "        # output shape == (batch_size * 1, vocab)\n",
    "        x = self.fc(output)\n",
    "        \n",
    "        return x, state\n",
    "        \n",
    "    def initialize_hidden_state(self):\n",
    "        return tf.zeros((self.batch_sz, self.dec_units))"
   ]
  },
  {
   "cell_type": "markdown",
   "id": "c64263b2",
   "metadata": {},
   "source": [
    "##### 모형의 각 개체 생성"
   ]
  },
  {
   "cell_type": "code",
   "execution_count": 28,
   "id": "f4c0ec2f",
   "metadata": {},
   "outputs": [],
   "source": [
    "encoder = Encoder(len(source2idx), embedding_dim, units, batch_size)\n",
    "decoder = Decoder(len(target2idx), embedding_dim, units, batch_size)"
   ]
  },
  {
   "cell_type": "markdown",
   "id": "ac73a5e6",
   "metadata": {},
   "source": [
    "## 비용함수 정의 "
   ]
  },
  {
   "cell_type": "code",
   "execution_count": 30,
   "id": "73bcdbcf",
   "metadata": {},
   "outputs": [],
   "source": [
    "def loss_function(real, pred):\n",
    "    mask = 1 - np.equal(real, 0)\n",
    "    loss_ = tf.nn.sparse_softmax_cross_entropy_with_logits(labels=real, logits=pred) * mask\n",
    "    \n",
    "    return tf.reduce_mean(loss_)"
   ]
  },
  {
   "cell_type": "code",
   "execution_count": 29,
   "id": "4ea0a1bf",
   "metadata": {},
   "outputs": [],
   "source": [
    "# 1 - np.equal(real, 0)"
   ]
  },
  {
   "cell_type": "markdown",
   "id": "acdb3a54",
   "metadata": {},
   "source": [
    "## 옵티마이저"
   ]
  },
  {
   "cell_type": "code",
   "execution_count": 31,
   "id": "d29ed8c2",
   "metadata": {},
   "outputs": [],
   "source": [
    "optimizer = tf.keras.optimizers.Adam()"
   ]
  },
  {
   "cell_type": "code",
   "execution_count": 32,
   "id": "baa51706",
   "metadata": {},
   "outputs": [],
   "source": [
    "# checkpoint_dir = './data_out/training_checkpoints'\n",
    "# checkpoint_prefix = os.path.join(checkpoint_dir, 'ckpt')\n",
    "# checkpoint = tf.train.Checkpoint(optimizer=optimizer,\n",
    "#                                 encoder=encoder,\n",
    "#                                 decoder=decoder)"
   ]
  },
  {
   "cell_type": "markdown",
   "id": "81632495",
   "metadata": {},
   "source": [
    "## 학습"
   ]
  },
  {
   "cell_type": "code",
   "execution_count": 34,
   "id": "282eb2e6",
   "metadata": {},
   "outputs": [
    {
     "name": "stdout",
     "output_type": "stream",
     "text": [
      "Epoch 0 Loss 0.0397 Batch Loss 0.9924\n",
      "Epoch 10 Loss 0.0387 Batch Loss 0.9668\n",
      "Epoch 20 Loss 0.0372 Batch Loss 0.9311\n",
      "Epoch 30 Loss 0.0347 Batch Loss 0.8663\n",
      "Epoch 40 Loss 0.0302 Batch Loss 0.7559\n",
      "Epoch 50 Loss 0.0271 Batch Loss 0.6780\n",
      "Epoch 60 Loss 0.0242 Batch Loss 0.6043\n",
      "Epoch 70 Loss 0.0216 Batch Loss 0.5394\n",
      "Epoch 80 Loss 0.0191 Batch Loss 0.4772\n",
      "Epoch 90 Loss 0.0167 Batch Loss 0.4175\n",
      "Epoch 100 Loss 0.0144 Batch Loss 0.3602\n",
      "Epoch 110 Loss 0.0122 Batch Loss 0.3058\n",
      "Epoch 120 Loss 0.0103 Batch Loss 0.2563\n",
      "Epoch 130 Loss 0.0085 Batch Loss 0.2134\n",
      "Epoch 140 Loss 0.0071 Batch Loss 0.1780\n",
      "Epoch 150 Loss 0.0060 Batch Loss 0.1506\n",
      "Epoch 160 Loss 0.0052 Batch Loss 0.1304\n",
      "Epoch 170 Loss 0.0047 Batch Loss 0.1163\n",
      "Epoch 180 Loss 0.0043 Batch Loss 0.1065\n",
      "Epoch 190 Loss 0.0040 Batch Loss 0.0995\n"
     ]
    }
   ],
   "source": [
    "for epoch in range(epochs):\n",
    "    \n",
    "    hidden = encoder.initialize_hidden_state()\n",
    "    total_loss = 0\n",
    "    \n",
    "    for i, (s_len, s_input, t_len, t_input, t_output) in enumerate(data):\n",
    "        loss = 0\n",
    "        with tf.GradientTape() as tape:\n",
    "            enc_output, enc_hidden = encoder(s_input, hidden)\n",
    "\n",
    "            dec_hidden = enc_hidden\n",
    "            \n",
    "            dec_input = tf.expand_dims([target2idx['<bos>']] * batch_size, 1)\n",
    "            \n",
    "            #Teacher Forcing: feeding the target as the next input\n",
    "            for t in range(1, t_input.shape[1]):\n",
    "                \n",
    "                predictions, dec_hidden = decoder(dec_input, dec_hidden, enc_output)\n",
    "                \n",
    "                loss += loss_function(t_input[:, t], predictions)\n",
    "            \n",
    "                dec_input = tf.expand_dims(t_input[:, t], 1) #using teacher forcing\n",
    "                \n",
    "        batch_loss = (loss / int(t_input.shape[1]))\n",
    "        \n",
    "        total_loss += batch_loss\n",
    "        \n",
    "        variables = encoder.variables + decoder.variables\n",
    "        \n",
    "        gradient = tape.gradient(loss, variables)\n",
    "        \n",
    "        optimizer.apply_gradients(zip(gradient, variables))\n",
    "        \n",
    "    if epoch % 10 == 0:\n",
    "        #save model every 10 epoch\n",
    "        print('Epoch {} Loss {:.4f} Batch Loss {:.4f}'.format(epoch,\n",
    "                                            total_loss / n_batch,\n",
    "                                            batch_loss.numpy()))\n",
    "#         checkpoint.save(file_prefix = checkpoint_prefix)"
   ]
  },
  {
   "cell_type": "code",
   "execution_count": 33,
   "id": "ca803af4",
   "metadata": {},
   "outputs": [
    {
     "data": {
      "text/plain": [
       "<tf.Tensor: shape=(4, 1), dtype=int32, numpy=\n",
       "array([[1],\n",
       "       [1],\n",
       "       [1],\n",
       "       [1]])>"
      ]
     },
     "execution_count": 33,
     "metadata": {},
     "output_type": "execute_result"
    }
   ],
   "source": [
    "# tf.expand_dims([target2idx['<bos>']] * batch_size, 1)"
   ]
  },
  {
   "cell_type": "markdown",
   "id": "0c2b80bf",
   "metadata": {},
   "source": [
    "##### Teaching Force \n",
    "![TeachingForce.png](https://miro.medium.com/max/842/1*U3d8D_GnfW13Y3nDgvwJSw.png)\n",
    "* Teaching Force란 디코더의 예측성능 향상을 위해 모형의 각 상태의 입력에 이전 상태의 출력을 넣어주는것이 아니라, 실제 정답값을 직접 넣어주는 방식을 의미합니다. \n",
    "* 만약, 이러한 과정이 없다면, 첫 예측의 결과가 틀렸을때, 전체 문장의 정답이 달라지기 때문에 이를 방지하기 위해 이전 상태의 정답이 틀려도 실제 값을 넣어줌으로써 학습을 이어 진행하는 방식입니다. "
   ]
  },
  {
   "cell_type": "markdown",
   "id": "0225c64d",
   "metadata": {},
   "source": [
    "## 예측"
   ]
  },
  {
   "cell_type": "code",
   "execution_count": 35,
   "id": "9a6b04af",
   "metadata": {},
   "outputs": [],
   "source": [
    "#restore checkpoint\n",
    "\n",
    "# checkpoint.restore(tf.train.latest_checkpoint(checkpoint_dir))"
   ]
  },
  {
   "cell_type": "code",
   "execution_count": 36,
   "id": "88541196",
   "metadata": {},
   "outputs": [],
   "source": [
    "sentence = 'I feel hungry'"
   ]
  },
  {
   "cell_type": "code",
   "execution_count": 37,
   "id": "f0e91f44",
   "metadata": {},
   "outputs": [
    {
     "name": "stdout",
     "output_type": "stream",
     "text": [
      "I feel hungry\n",
      "나는 배가 고프다 <eos> \n"
     ]
    }
   ],
   "source": [
    "def prediction(sentence, encoder, decoder, inp_lang, targ_lang, max_length_inp, max_length_targ):\n",
    "    \n",
    "    inputs = [inp_lang[i] for i in sentence.split(' ')]\n",
    "    inputs = tf.keras.preprocessing.sequence.pad_sequences([inputs], maxlen=max_length_inp, padding='post')\n",
    "    inputs = tf.convert_to_tensor(inputs)\n",
    "        \n",
    "    result = ''\n",
    "    \n",
    "    hidden = [tf.zeros((1, units))]\n",
    "    enc_out, enc_hidden = encoder(inputs, hidden)\n",
    "        \n",
    "    dec_hidden = enc_hidden\n",
    "    dec_input = tf.expand_dims([targ_lang['<bos>']], 0)\n",
    "    \n",
    "    for t in range(max_length_targ):\n",
    "        predictions, dec_hidden = decoder(dec_input, dec_hidden, enc_out)\n",
    "        \n",
    "        predicted_id = tf.argmax(predictions[0]).numpy()\n",
    "\n",
    "        result += idx2target[predicted_id] + ' '\n",
    "\n",
    "        if idx2target.get(predicted_id) == '<eos>':\n",
    "            return result, sentence\n",
    "        \n",
    "        # the predicted ID is fed back into the model\n",
    "        dec_input = tf.expand_dims([predicted_id], 0)    \n",
    "    \n",
    "    return result, sentence\n",
    "    \n",
    "result, output_sentence = prediction(sentence, encoder, decoder, source2idx, target2idx, s_max_len, t_max_len)\n",
    "\n",
    "print(sentence)\n",
    "print(result)"
   ]
  },
  {
   "cell_type": "markdown",
   "id": "0b002948",
   "metadata": {},
   "source": [
    "모형의 구조가 상당부분 복잡해 복습이 필요합니다.."
   ]
  },
  {
   "cell_type": "code",
   "execution_count": null,
   "id": "bc213825",
   "metadata": {},
   "outputs": [],
   "source": []
  }
 ],
 "metadata": {
  "kernelspec": {
   "display_name": "Python 3",
   "language": "python",
   "name": "python3"
  },
  "language_info": {
   "codemirror_mode": {
    "name": "ipython",
    "version": 3
   },
   "file_extension": ".py",
   "mimetype": "text/x-python",
   "name": "python",
   "nbconvert_exporter": "python",
   "pygments_lexer": "ipython3",
   "version": "3.8.8"
  },
  "toc": {
   "base_numbering": 1,
   "nav_menu": {},
   "number_sections": true,
   "sideBar": true,
   "skip_h1_title": false,
   "title_cell": "Table of Contents",
   "title_sidebar": "Contents",
   "toc_cell": false,
   "toc_position": {
    "height": "calc(100% - 180px)",
    "left": "10px",
    "top": "150px",
    "width": "242px"
   },
   "toc_section_display": true,
   "toc_window_display": true
  }
 },
 "nbformat": 4,
 "nbformat_minor": 5
}
