{
 "cells": [
  {
   "cell_type": "markdown",
   "id": "44f6f483",
   "metadata": {},
   "source": [
    "# CNN (Convolution Neural Network, 합성곱 신경망)"
   ]
  },
  {
   "cell_type": "markdown",
   "id": "19f171e3",
   "metadata": {},
   "source": [
    "* 합성곱 신경망(Convolutional neural network, CNN)은 시각적 영상을 분석하는 데 사용되는 다층의 피드-포워드적인 인공신경망의 한 종류이다. \n",
    "*  딥 러닝에서 심층 신경망으로 분류되며, 시각적 영상 분석에 주로 적용된다. 또한 공유 가중치 구조와 변환 불변성 특성에 기초하여 변이 불변 또는 공간 불변 인공 신경망 (SIANN)으로도 알려져 있다. 영상 및 동영상 인식, 추천 시스템, 영상 분류, 의료 영상 분석 및 자연어 처리 등에 응용된다.\n",
    "![CNN.png](https://www.hanbit.co.kr/data/editor/20190619112507_cybcirlh.jpg)\n",
    "\n",
    "[합성곱_신경망](https://ko.wikipedia.org/wiki/%ED%95%A9%EC%84%B1%EA%B3%B1_%EC%8B%A0%EA%B2%BD%EB%A7%9D)\n",
    "\n",
    "![CNN_CAT.png](https://blog.kakaocdn.net/dn/nni6z/btqBD2aVqYg/uYXKGG1VB7LjZpua8OTOwK/img.png)\n",
    "\n",
    "* CNN은 1989년 “Backpropagation applied to handwritten zip code recognition, LeCun, 1989” 에서 처음 소개되었으며, 고양이가 어떠한 이미지를 볼 때, 뇌에서 일어나는 반응을 통해 고안되었다. \n",
    "* 고양이는 어떤 이미지를 인식할 때, 이미지를 부분 단위로 나누어 인지하며, 이에 대한 각각의 정보를 취합함으로써 이미지를 인지하는 모습을 보여 주었습니다. 따라서 이러한 배경에 착안하여 CNN에 대한 방법론이 발전하게 되었습니다. "
   ]
  },
  {
   "cell_type": "markdown",
   "id": "d6861b37",
   "metadata": {},
   "source": [
    "# CNN의 기본 Concept"
   ]
  },
  {
   "cell_type": "markdown",
   "id": "0e5b229b",
   "metadata": {},
   "source": [
    "## CNN의 Flow"
   ]
  },
  {
   "cell_type": "markdown",
   "id": "f5fda673",
   "metadata": {},
   "source": [
    "![CNN_flow.png](http://itwiki.kr/images/thumb/d/de/CNN2.jpeg/1200px-CNN2.jpeg)\n",
    "* CNN 모형의 흐름은 대략 아래의 과정을 거쳐 학습을 진행합니다. \n",
    "    1. 입력된 이미지를 다양하게 분할하여, convolution layer에 전달합니다. \n",
    "    2. 이는 곧 Relu 혹은 다양한 활성함수를 거쳐 다음 Convolution layer로 전달됩니다.  \n",
    "    3. 위의 두 과정을 여러번 거친 값들은 Pooling이라는 과정을 거치게 되고, 다음 Convolution layer로 전달되게 됩니다. \n",
    "    4. 위의 3가지 단계를 반복적으로 진행한뒤, 최종적인 Pooling과정을 진행합니다.  \n",
    "    5. 이후, 해당 값들은 Fully Connected Layer의 입력으로 전달됩니다. 이를 통해, 최종적으로는 각각의 범주(label)에 해당하는 값을 도츨하는 softmax classifier를 거쳐 최종적인 분류를 진행하게 됩니다.  \n",
    "![CNN_flow2.png](https://miro.medium.com/max/1400/1*GPBRUVqDhQxDuW8r6X5n7g.png)"
   ]
  },
  {
   "cell_type": "markdown",
   "id": "b1f5b95e",
   "metadata": {},
   "source": [
    "**이제 해당 아이디어의 세부 과정을 간단히 살펴보겠습니다.**"
   ]
  },
  {
   "cell_type": "markdown",
   "id": "ce408302",
   "metadata": {},
   "source": [
    "## 1. Convolution Layer"
   ]
  },
  {
   "cell_type": "markdown",
   "id": "f5bf89d2",
   "metadata": {},
   "source": [
    "![convolution_layer.png](https://indoml.files.wordpress.com/2018/03/convolution-with-multiple-filters2.png?w=979)\n",
    "* 합성곱 단계는 전체의 이미지를 부분으로 나누어 중첩적으로 살펴보는 과정입니다. \n",
    "* 한장의 convolution은 동일한 Filter(or kernal)을 가지고 이미지를 부분적으로 보며 이동하며, 이때 각각의 일부는 filter를 통해 하나의 값으로 수렴되게 됩니다. \n",
    "* 이러한 과정을 여러개의 filter를 통해 반복하여, 여러장의 convolution matrix를 생성해 다음 레이어로 넘겨주는 계층입니다. \n",
    "![convolution_layer2.png](https://blog.kakaocdn.net/dn/KFdhP/btqw7vinnlH/4DhWN8silAnmFNmLos2yAK/img.png)\n",
    "1. 이미지의 일부를 하나의 필터에 투과시키면, 해당 부분은 하나의 스칼라 값으로 변화합니다.  \n",
    "\n",
    "$$\\bar{y} = W_1x_1 + W_2x_2 + W_3x_3 + W_4x_4 + W_5x_5 + b $$  \n",
    "\n",
    "2. 동일한 필터(가중치 행렬)를 이용해 이미지의 전체를 한장의 행렬로 변환합니다. [W1~W5]\n",
    "![convolution_layer3.png](https://t1.daumcdn.net/cfile/tistory/999D0F335B61925F0F)  \n",
    "\n",
    "3. 동일한 과정을 여러개의 필터를 이용해 반복적으로 수행하여 \n",
    "![convolution_layer4.png](https://user-images.githubusercontent.com/31475037/59593108-50b2e280-912c-11e9-8619-798ff2464b9b.png)  \n",
    "\n",
    "4. 여러장의 행렬을 구성하여 다음 계증에 전달합니다.   \n",
    "\n",
    "![conv_example.png](https://anhreynolds.com/img/cnn.png)\n",
    "![conv_example2.png](https://cdn-images-1.medium.com/max/1600/1*7S266Kq-UCExS25iX_I_AQ.png)"
   ]
  },
  {
   "cell_type": "markdown",
   "id": "8442c7ed",
   "metadata": {},
   "source": [
    "##### 각각의 필터를 통해 도출된 output의 차원은? \n",
    "* 각 필터를 거친 한장의 그림의 차원은 **이미지의 크기**와 **필터의 크기**, **Stride**에 따라 달라집니다.  \n",
    "    1. filter의 크기는 곧, 이미지를 몇 칸씩 한 단위로 읽어들일 것인가를 의미하며,  \n",
    "    2. Stride는 한 이미지를 몇칸씩 띄워 살펴볼 것인지를 의미합니다. \n",
    "![out_shape.png](https://adeshpande3.github.io/assets/Stride1.png)    \n",
    "    - 예를들어, 위의 이미지의 입력은 7x7의 입력이며, filter의 크기는 3x3의 크기입니다.  \n",
    "    - 이때, 이미지를 좌로 한칸씩 이동하며, 세로에 대해서도 한칸씩 내려가며 이미지를 살펴본다고 가정해 봅시다.  \n",
    "    - 이때 1칸씩 이동한다는 의미는 **stride = 1**이라고 표현 가능합니다.\n",
    "    - 이러한 경우, 직접 확인해 본다면, output의 차원은 5x5가 됨을 알 수 있습니다. \n",
    "![stride2.png](https://blog.kakaocdn.net/dn/bsEbFY/btqKnpPtOMO/vTPHZbOunbRXkcHgRZ91x0/img.png) \n",
    "* 마찬가지로 stride가 2인 경우에는 위와 같은 차원을 얻을 수 있을 것입니다. \n",
    "  \n",
    "  **이를 일반화한 수식은 다음과 같습니다.**\n",
    "  $$Output Size = (\\frac{N-F}{stride}) +1 $$\n",
    "  ![fo.png](https://img1.daumcdn.net/thumb/R720x0.q80/?scode=mtistory2&fname=http%3A%2F%2Fcfile8.uf.tistory.com%2Fimage%2F261CE14F57AB46151178C3)"
   ]
  },
  {
   "cell_type": "markdown",
   "id": "4f31772c",
   "metadata": {},
   "source": [
    "## Padding"
   ]
  },
  {
   "cell_type": "markdown",
   "id": "3d1c6dd9",
   "metadata": {},
   "source": [
    "* 위와 같은 convolution 층을 거치면 간혹 문제가 발생할 수 있습니다. \n",
    "* 그 이유는, 너무 많은 레이어를 거친다면, 이미지의 크기가 점점 작아져, 이미지가 담고 있는 어떤 의미를 잃어버리게 되기 때문입니다. \n",
    "* 이를 해결하기 위해 **패딩**과정을 거치게 됩니다."
   ]
  },
  {
   "cell_type": "markdown",
   "id": "aaf14d55",
   "metadata": {},
   "source": [
    "![패딩.png](https://encrypted-tbn0.gstatic.com/images?q=tbn:ANd9GcRnc73zIMbjcd9BbU1NoqmO9jSqMfA9PpTz4ihYnHhHSs5UmvA6EM8peXkyHqL620vJ8yI&usqp=CAU)  \n",
    "* 패딩이란 : 이미지의 테두리에 일반적으로 0을 입력하여 감싸주는 작업을 의미합니다. \n",
    "* 패딩을 수행하는 이유는  \n",
    "    1. 이미지의 축소를 방지 \n",
    "    2. 모서리에 대한 위치적 정보 제공 \n",
    "    등에 있습니다.  \n",
    "![pading_result.png](https://img1.daumcdn.net/thumb/R720x0.q80/?scode=mtistory2&fname=http%3A%2F%2Fcfile9.uf.tistory.com%2Fimage%2F9992A2495BA9CB5C0A0811) \n",
    "* 예를들어 위의 그림의 경우, 패딩을 함으로써, 입력과 출력의 차원이 같아지는 마법을 경험할 수 있습니다."
   ]
  },
  {
   "cell_type": "markdown",
   "id": "cf9d0653",
   "metadata": {},
   "source": [
    "## 차원에 대한 이야기 "
   ]
  },
  {
   "cell_type": "markdown",
   "id": "a01db78f",
   "metadata": {},
   "source": [
    "![one_conv.png](https://seoyoungh.github.io/assets/images/Screen%20Shot%202019-10-19%20at%2010.20.50%20PM.png) \n",
    "* 6개의 필터를 지닌 convolution layer를 거치게 되면 차원은 위와 같이 변화 하게 됩니다. \n",
    "![two_conv.png](https://slidetodoc.com/presentation_image_h/fd763925fd0d4bcde56b2896942885e9/image-12.jpg)\n",
    "* 해당 과정은 다음 계층에서도 마찬가지로 일어납니다. \n",
    "* 이때, 가중치의 갯수는 차원에 대한 정보에서 알 수 있습니다.\n",
    "* 즉, 각 차원의 값을 모두 곱하면, 하나의 계층의 가중치의 갯수를 알 수 있습니다. "
   ]
  },
  {
   "cell_type": "markdown",
   "id": "a9ef81dc",
   "metadata": {},
   "source": [
    "## Pooling layer \n",
    "![pool.png](https://gblobscdn.gitbook.com/assets%2F-LvMRntv-nKvtl7WOpCz%2F-LvMRp9FltcwEeVxPYFs%2F-LvMRrqrlhiBpH5LD-_p%2FPooling_Simple_max.png?alt=media)\n",
    "* Pooling은 일정의 샘플링 방식입니다. \n",
    "* Cnvolution 계층에서 도출되는 행렬들의 뭉치에서, 각각의 행렬을 가져와 특정 방법으로 각각의 차원을 축소 요약한 뒤 다시 합쳐주는 방식입니다. "
   ]
  },
  {
   "cell_type": "markdown",
   "id": "a747ec65",
   "metadata": {},
   "source": [
    "##### MAX Pooling \n",
    "* 가장 대표적이고, 이해가 편리한 Polling 방식은 **MAX POOLing** 방식입니다. \n",
    "![MP.png](https://gblobscdn.gitbook.com/assets%2F-LvMRntv-nKvtl7WOpCz%2F-LvMRp9FltcwEeVxPYFs%2F-LvMRrqrlhiBpH5LD-_p%2FPooling_Simple_max.png?alt=media)\n",
    "* 위의 그림은 하나의 filter에 대한 결과 행렬입니다. 이때, max pooling은 한장의 일부씩 선택하여, 해당 조각에서 가장 큰 값을 골라 하나로 요약하는 방식입니다. \n",
    "\n",
    "* 이처럼, 합성층의 결과를 요약하여 정리하는 과정을 pooling이라고 합니다.   \n",
    "\n",
    "(아마도 제 생각에는, max pooling의 의미는, 가중치를 곱해 가장 큰 수가 나온다는것은 가장 큰 의미를 갖는 특성이라고 받아들여, 해당 값을 선택하는 것 같습니다.)"
   ]
  },
  {
   "cell_type": "markdown",
   "id": "25d61e06",
   "metadata": {},
   "source": [
    "## Fully connected Layer \n",
    "* Conv와 pooling과정을 여러번 거쳐 도출된 값은, 이후 분류를 위해, Fully connected layer의 입력으로 들어가 결과화 됩니다.\n",
    "![마지막.png](https://encrypted-tbn0.gstatic.com/images?q=tbn:ANd9GcQRCBcIt4KFH-55Qa7X3GsV0a2woNYXYt48HQ&usqp=CAU)"
   ]
  },
  {
   "cell_type": "markdown",
   "id": "c67baf29",
   "metadata": {},
   "source": [
    "# CNN Basic "
   ]
  },
  {
   "cell_type": "markdown",
   "id": "c65b0b4c",
   "metadata": {},
   "source": [
    "## CNN Basic : Convolution Layer 구현 "
   ]
  },
  {
   "cell_type": "markdown",
   "id": "44960028",
   "metadata": {},
   "source": [
    "### 분석환경 설정 "
   ]
  },
  {
   "cell_type": "markdown",
   "id": "4d09402a",
   "metadata": {},
   "source": [
    "#### 라이브러리 불러오기 "
   ]
  },
  {
   "cell_type": "code",
   "execution_count": 1,
   "id": "f4048f78",
   "metadata": {},
   "outputs": [],
   "source": [
    "import numpy as np \n",
    "import tensorflow as tf \n",
    "from tensorflow import keras \n",
    "\n",
    "import matplotlib.pyplot as plt "
   ]
  },
  {
   "cell_type": "markdown",
   "id": "24e1b473",
   "metadata": {},
   "source": [
    "#### Toy image 생성 "
   ]
  },
  {
   "cell_type": "code",
   "execution_count": 2,
   "id": "a2d9d407",
   "metadata": {},
   "outputs": [],
   "source": [
    "image = tf.constant([[[[1], [2], [3]],\n",
    "                    [[4], [5], [6]],\n",
    "                     [[7], [8], [9]]]], dtype= np.float32)\n"
   ]
  },
  {
   "cell_type": "code",
   "execution_count": 3,
   "id": "5d70c87b",
   "metadata": {},
   "outputs": [
    {
     "name": "stdout",
     "output_type": "stream",
     "text": [
      "(1, 3, 3, 1)\n"
     ]
    },
    {
     "data": {
      "image/png": "[encoded data removed]",
      "text/plain": [
       "<Figure size 432x288 with 1 Axes>"
      ]
     },
     "metadata": {
      "needs_background": "light"
     },
     "output_type": "display_data"
    }
   ],
   "source": [
    "# 이미지의 모양 출력 및 시각화 \n",
    "print(image.shape)\n",
    "\n",
    "# 시각화 부분 \n",
    "# imshow -> image show \n",
    "plt.imshow(image.numpy().reshape(3,3), cmap='Greys')\n",
    "plt.show()"
   ]
  },
  {
   "cell_type": "markdown",
   "id": "45ddda56",
   "metadata": {},
   "source": [
    "image.numpy() :: 텐서를 넘파이 어레이로 변환후 .reshape(3,3) :: 3x3 으로 크기 재 지정 "
   ]
  },
  {
   "cell_type": "markdown",
   "id": "647f7bfe",
   "metadata": {},
   "source": [
    "### 1 filter (2,2,1,1) with padding: VALID\n",
    "\n",
    "* (2,2,1,1) -> (width, heught, channel, # of filters)\n",
    "* padding --> Valid (패딩을 진행하지 않음)  \n",
    "![one_filter_valid.png](https://camo.githubusercontent.com/feef340e25d2a10a0bd1e96352777a32e4137f2a/68747470733a2f2f636c6f75642e67697468756275736572636f6e74656e742e636f6d2f6173736574732f3930313937352f32343833333337352f63306439633236322d316366392d313165372d396566632d3564643666653066656462302e706e67)"
   ]
  },
  {
   "cell_type": "code",
   "execution_count": 4,
   "id": "04fdd033",
   "metadata": {},
   "outputs": [
    {
     "name": "stdout",
     "output_type": "stream",
     "text": [
      "image.shape (1, 3, 3, 1)\n"
     ]
    }
   ],
   "source": [
    "# 이미지의 크기 정보 \n",
    "print(\"image.shape\", image.shape)"
   ]
  },
  {
   "cell_type": "markdown",
   "id": "7790fa41",
   "metadata": {},
   "source": [
    "* 텐서플로우의 데이터 차원 표현 방식에는 크게 **Channels_last**방식과 **Channels_first**방식이 있습니다. \n",
    "* 그중, **Channels_last**방식이 default로 적용 됩니다. \n",
    "* **Channels_last**방식의 표현 순서는 아래와 같습니다. \n",
    "    - (batch, height, width, channels)\n",
    "    - batch :: 입력된 이미지의 장 수\n",
    "    - channels :: 여기에서는 RGB "
   ]
  },
  {
   "cell_type": "code",
   "execution_count": 5,
   "id": "7af04518",
   "metadata": {},
   "outputs": [
    {
     "name": "stdout",
     "output_type": "stream",
     "text": [
      "weight.shape (2, 2, 1, 1)\n"
     ]
    }
   ],
   "source": [
    "# filter 설정, 즉, 가중치 설정 \n",
    "weight = np.array([[[[1.]],[[1.]]],\n",
    "                   [[[1.]],[[1.]]]])\n",
    "print(\"weight.shape\", weight.shape)"
   ]
  },
  {
   "cell_type": "markdown",
   "id": "edbdb733",
   "metadata": {},
   "source": [
    "* 필터의 차원 정보의 경우, 표현의 순서가 다소 다르게 나옴을 볼 수 있습니다. \n",
    "* (height, width, in_channel, out_channel)\n",
    "    - in_channel 은 이미지에서 들어오는 채널의 크기와 동일하게 설정합니다. \n",
    "    - out channel의 경우 필터의 수라고 보면 됩니다. 이는 다음층의 인체널의 크기와 동일 해야 합니다, "
   ]
  },
  {
   "cell_type": "code",
   "execution_count": 6,
   "id": "b224e5d4",
   "metadata": {},
   "outputs": [],
   "source": [
    "weight_init = tf.constant_initializer(weight)"
   ]
  },
  {
   "cell_type": "markdown",
   "id": "a8604427",
   "metadata": {},
   "source": [
    "##### 실제 convolution layer의 선언과 데이터 전달"
   ]
  },
  {
   "cell_type": "code",
   "execution_count": 7,
   "id": "b607f760",
   "metadata": {},
   "outputs": [],
   "source": [
    "conv2d = keras.layers.Conv2D(filters=1, kernel_size=2, padding='VALID', \n",
    "                             kernel_initializer=weight_init)(image)"
   ]
  },
  {
   "cell_type": "markdown",
   "id": "7e9c0b38",
   "metadata": {},
   "source": [
    "* keras.layer.Conv2D 를 이용합니다. \n",
    "    - filter : filter의 수를 입력합니다. \n",
    "    - kernal size의 경우, 2, (2,2), [2,2] 모두로 입력 가능합니다. \n",
    "    - padding 의 경우 'VALID', 'SAME' 두개의 옵션이 있습니다. \n",
    "    - kernal initalizer로 kernal(filter)의 초기 가중치를 전달하고 \n",
    "    - (image)를 통해 정보를 전달하여 변환합니다. "
   ]
  },
  {
   "attachments": {
    "image.png": {
     "image/png": "[encoded data removed]"
    }
   },
   "cell_type": "markdown",
   "id": "5a054197",
   "metadata": {},
   "source": [
    "![image.png](attachment:image.png)"
   ]
  },
  {
   "cell_type": "code",
   "execution_count": 8,
   "id": "3ce86fb6",
   "metadata": {},
   "outputs": [
    {
     "name": "stdout",
     "output_type": "stream",
     "text": [
      "conv2d.shape (1, 2, 2, 1)\n",
      "[[12. 16.]\n",
      " [24. 28.]]\n"
     ]
    }
   ],
   "source": [
    "print(\"conv2d.shape\", conv2d.shape)\n",
    "\n",
    "# 실제 값 출력 \n",
    "print(conv2d.numpy().reshape(2,2))"
   ]
  },
  {
   "cell_type": "code",
   "execution_count": 9,
   "id": "eaf18be3",
   "metadata": {},
   "outputs": [
    {
     "data": {
      "image/png": "[encoded data removed]",
      "text/plain": [
       "<Figure size 432x288 with 1 Axes>"
      ]
     },
     "metadata": {
      "needs_background": "light"
     },
     "output_type": "display_data"
    }
   ],
   "source": [
    "# 시각화 \n",
    "plt.imshow(conv2d.numpy().reshape(2,2), cmap='gray')\n",
    "plt.show()"
   ]
  },
  {
   "cell_type": "markdown",
   "id": "2ede7b28",
   "metadata": {},
   "source": [
    "### 1 filter (2,2,1,1) with padding: SAME \n",
    "\n",
    "* (2,2,1,1) -> (width, heught, channel, # of filters)\n",
    "* padding --> SAME (패딩을 진행, stride 1 을 기준으로 , 입력의 차원과 출력의 차원이 같도록 설정), (만약 stride 2 라면 출력의 크기는 입력의 크기의 반으로 줄어든다 ) \n",
    "![SAME.png](https://camo.githubusercontent.com/8e45f346468e2ebf8a27ae82c24776cc3b530ce6/68747470733a2f2f636c6f75642e67697468756275736572636f6e74656e742e636f6d2f6173736574732f3930313937352f32343833333338312f66643031383639652d316366392d313165372d396435392d6466303863376336653563342e706e67)"
   ]
  },
  {
   "cell_type": "code",
   "execution_count": 10,
   "id": "0e697606",
   "metadata": {},
   "outputs": [
    {
     "name": "stdout",
     "output_type": "stream",
     "text": [
      "image shape (1, 3, 3, 1)\n"
     ]
    }
   ],
   "source": [
    "# 입력 데이터 차원 정보 \n",
    "print(\"image shape\", image.shape)"
   ]
  },
  {
   "cell_type": "code",
   "execution_count": 11,
   "id": "551e4cbf",
   "metadata": {},
   "outputs": [
    {
     "data": {
      "text/plain": [
       "array([[1., 2., 3.],\n",
       "       [4., 5., 6.],\n",
       "       [7., 8., 9.]], dtype=float32)"
      ]
     },
     "execution_count": 11,
     "metadata": {},
     "output_type": "execute_result"
    }
   ],
   "source": [
    "# 입력데이터 형태 \n",
    "image.numpy().reshape(3,3)"
   ]
  },
  {
   "cell_type": "code",
   "execution_count": 12,
   "id": "69c7e93a",
   "metadata": {},
   "outputs": [
    {
     "data": {
      "text/plain": [
       "<matplotlib.image.AxesImage at 0x1d7676ffdf0>"
      ]
     },
     "execution_count": 12,
     "metadata": {},
     "output_type": "execute_result"
    },
    {
     "data": {
      "image/png": "[encoded data removed]",
      "text/plain": [
       "<Figure size 432x288 with 1 Axes>"
      ]
     },
     "metadata": {
      "needs_background": "light"
     },
     "output_type": "display_data"
    }
   ],
   "source": [
    "# 입력데이터 시각화 \n",
    "plt.imshow(image.numpy().reshape(3,3), cmap='Greys')"
   ]
  },
  {
   "cell_type": "code",
   "execution_count": 13,
   "id": "1cfb5e5b",
   "metadata": {},
   "outputs": [
    {
     "name": "stdout",
     "output_type": "stream",
     "text": [
      "(2, 2, 1, 1)\n"
     ]
    }
   ],
   "source": [
    "# filter의 weight 설정 \n",
    "weight = np.array([[[[1.]],[[1.]]],\n",
    "                  [[[1.]], [[1.]]]], dtype=np.float32)\n",
    "\n",
    "print(weight.shape)"
   ]
  },
  {
   "cell_type": "code",
   "execution_count": 14,
   "id": "1b322395",
   "metadata": {},
   "outputs": [],
   "source": [
    "# 텐서플로우의 형태에 맞게 초기화 선언 \n",
    "weight = tf.constant_initializer(weight)"
   ]
  },
  {
   "cell_type": "code",
   "execution_count": 15,
   "id": "4c31b08b",
   "metadata": {},
   "outputs": [],
   "source": [
    "# 실제 데이터 적합 \n",
    "conv2d = keras.layers.Conv2D(filters=1, kernel_size=2, \n",
    "                            padding = 'SAME', kernel_initializer = weight_init)(image)"
   ]
  },
  {
   "cell_type": "code",
   "execution_count": 16,
   "id": "aafa6261",
   "metadata": {},
   "outputs": [
    {
     "name": "stdout",
     "output_type": "stream",
     "text": [
      "conv2d.shape (1, 3, 3, 1)\n",
      "[[12. 16.  9.]\n",
      " [24. 28. 15.]\n",
      " [15. 17.  9.]]\n"
     ]
    }
   ],
   "source": [
    "print(\"conv2d.shape\", conv2d.shape)\n",
    "print(conv2d.numpy().reshape(3,3))"
   ]
  },
  {
   "cell_type": "code",
   "execution_count": 17,
   "id": "3eadc37b",
   "metadata": {},
   "outputs": [
    {
     "data": {
      "image/png": "[encoded data removed]",
      "text/plain": [
       "<Figure size 432x288 with 1 Axes>"
      ]
     },
     "metadata": {
      "needs_background": "light"
     },
     "output_type": "display_data"
    }
   ],
   "source": [
    "plt.imshow(conv2d.numpy().reshape(3,3), cmap='gray')\n",
    "plt.show()"
   ]
  },
  {
   "cell_type": "markdown",
   "id": "d0457076",
   "metadata": {},
   "source": [
    "### 3filter (2,2,1,3) "
   ]
  },
  {
   "cell_type": "code",
   "execution_count": 18,
   "id": "19a95f29",
   "metadata": {},
   "outputs": [
    {
     "name": "stdout",
     "output_type": "stream",
     "text": [
      "image.shape (1, 3, 3, 1)\n"
     ]
    }
   ],
   "source": [
    "print(\"image.shape\", image.shape)"
   ]
  },
  {
   "cell_type": "code",
   "execution_count": 19,
   "id": "0f479edb",
   "metadata": {},
   "outputs": [
    {
     "name": "stdout",
     "output_type": "stream",
     "text": [
      "weight.shape (2, 2, 1, 3)\n"
     ]
    }
   ],
   "source": [
    "weight = np.array([[[[1.,10.,-1.]],[[1.,10.,-1.]]],\n",
    "                   [[[1.,10.,-1.]],[[1.,10.,-1.]]]])\n",
    "print(\"weight.shape\", weight.shape)"
   ]
  },
  {
   "cell_type": "markdown",
   "id": "8d4776ae",
   "metadata": {},
   "source": [
    "##### 주의! 필터의 형태 \n",
    "* 3개의 필터의 형태는 다음과 같습니다.   \n",
    "\n",
    "[[1],[1],  \n",
    "[1], [1]]  \n",
    "  \n",
    "[[10], [10],  \n",
    "[10], [10]]  \n",
    "  \n",
    "[[-1], [-1],  \n",
    "[-1], [-1]]"
   ]
  },
  {
   "cell_type": "code",
   "execution_count": 20,
   "id": "985cb533",
   "metadata": {},
   "outputs": [],
   "source": [
    "weight_init = tf.constant_initializer(weight)"
   ]
  },
  {
   "cell_type": "code",
   "execution_count": 21,
   "id": "6257405a",
   "metadata": {},
   "outputs": [],
   "source": [
    "conv2d = keras.layers.Conv2D(filters=3, kernel_size=2, padding='SAME',\n",
    "                             kernel_initializer=weight_init)(image)"
   ]
  },
  {
   "cell_type": "code",
   "execution_count": 22,
   "id": "4f4bae83",
   "metadata": {},
   "outputs": [
    {
     "name": "stdout",
     "output_type": "stream",
     "text": [
      "conv2d.shape (1, 3, 3, 3)\n"
     ]
    }
   ],
   "source": [
    "print(\"conv2d.shape\", conv2d.shape)"
   ]
  },
  {
   "cell_type": "code",
   "execution_count": 23,
   "id": "fe1ea762",
   "metadata": {},
   "outputs": [
    {
     "name": "stdout",
     "output_type": "stream",
     "text": [
      "[[12. 16.  9.]\n",
      " [24. 28. 15.]\n",
      " [15. 17.  9.]]\n",
      "[[120. 160.  90.]\n",
      " [240. 280. 150.]\n",
      " [150. 170.  90.]]\n",
      "[[-12. -16.  -9.]\n",
      " [-24. -28. -15.]\n",
      " [-15. -17.  -9.]]\n"
     ]
    },
    {
     "data": {
      "image/png": "[encoded data removed]",
      "text/plain": [
       "<Figure size 432x288 with 3 Axes>"
      ]
     },
     "metadata": {
      "needs_background": "light"
     },
     "output_type": "display_data"
    }
   ],
   "source": [
    "feature_maps = np.swapaxes(conv2d, 0, 3)\n",
    "\n",
    "for i, feature_map in enumerate(feature_maps):\n",
    "    print(feature_map.reshape(3,3))\n",
    "    plt.subplot(1,3,i+1), plt.imshow(feature_map.reshape(3,3), cmap='gray')\n",
    "plt.show()"
   ]
  },
  {
   "cell_type": "markdown",
   "id": "40f49cb5",
   "metadata": {},
   "source": [
    "## CNN Basic : MAX Pooling "
   ]
  },
  {
   "cell_type": "markdown",
   "id": "cbc82c5e",
   "metadata": {},
   "source": [
    "* pooling 과정은 샘플링을 통해 데이터의 특성을 요약하는 방식입니다. \n",
    "    - max pooling은 각 조각에서 가장 큰 수를 추출하는 방식입니다. \n",
    "    ![maxpool.png](https://camo.githubusercontent.com/fbec3b209ab152abdfabf63f081c3fd047d5cffd/68747470733a2f2f636c6f75642e67697468756275736572636f6e74656e742e636f6d2f6173736574732f3930313937352f32333333373637362f62643135346461322d666333302d313165362d383838632d6438366263323230363036362e706e67)"
   ]
  },
  {
   "cell_type": "markdown",
   "id": "0228d54e",
   "metadata": {},
   "source": [
    "* 아래 형태의 데이터를 기준으로 max pooling을 짆행합니다. \n",
    "* 입력 데이터의 크기와 동일한 크기의 데이터를 얻기위해 padding을 적용합니다. \n",
    "![pool_origine.png](https://camo.githubusercontent.com/04831ba0a6fcb63640f3ea2c3b5d8479c08f8f49/68747470733a2f2f636c6f75642e67697468756275736572636f6e74656e742e636f6d2f6173736574732f3930313937352f32333334303335352f61346264336330382d666336662d313165362d386139392d3165336262626538363733332e706e67)"
   ]
  },
  {
   "cell_type": "code",
   "execution_count": 24,
   "id": "7bf0c215",
   "metadata": {},
   "outputs": [],
   "source": [
    "image = tf.constant([[[[4],[3]],\n",
    "                    [[2],[1]]]], dtype=np.float32)"
   ]
  },
  {
   "cell_type": "code",
   "execution_count": 25,
   "id": "8f6c7bcf",
   "metadata": {},
   "outputs": [
    {
     "name": "stdout",
     "output_type": "stream",
     "text": [
      "(1, 2, 2, 1)\n",
      "[[4. 3.]\n",
      " [2. 1.]]\n"
     ]
    },
    {
     "data": {
      "image/png": "[encoded data removed]",
      "text/plain": [
       "<Figure size 432x288 with 1 Axes>"
      ]
     },
     "metadata": {
      "needs_background": "light"
     },
     "output_type": "display_data"
    }
   ],
   "source": [
    "print(image.shape)\n",
    "\n",
    "print(image.numpy().reshape(2,2)) \n",
    "\n",
    "plt.imshow(image.numpy().reshape(2,2), cmap='Greys')\n",
    "plt.show()"
   ]
  },
  {
   "cell_type": "markdown",
   "id": "95a6ce57",
   "metadata": {},
   "source": [
    "### pooling without padding "
   ]
  },
  {
   "cell_type": "code",
   "execution_count": 26,
   "id": "bb0ad0d5",
   "metadata": {},
   "outputs": [],
   "source": [
    "pool = keras.layers.MaxPool2D(pool_size=(2,2), strides=1, padding='VALID')(image)"
   ]
  },
  {
   "cell_type": "code",
   "execution_count": 27,
   "id": "2e1287a1",
   "metadata": {},
   "outputs": [
    {
     "name": "stdout",
     "output_type": "stream",
     "text": [
      "(1, 1, 1, 1)\n",
      "[[[[4.]]]]\n"
     ]
    }
   ],
   "source": [
    "print(pool.shape)\n",
    "print(pool.numpy())"
   ]
  },
  {
   "cell_type": "markdown",
   "id": "8f577ef7",
   "metadata": {},
   "source": [
    "### pooling with padding \n",
    "* SAME : Zero padding \n",
    "![Zero padding.png ](https://camo.githubusercontent.com/9867aae562c82293ec18d75eaee213e723b3cc88/68747470733a2f2f636c6f75642e67697468756275736572636f6e74656e742e636f6d2f6173736574732f3930313937352f32333334303333372f37316232373635322d666336662d313165362d393665662d3736303939383735356637372e706e67)"
   ]
  },
  {
   "cell_type": "code",
   "execution_count": 28,
   "id": "16344c5c",
   "metadata": {},
   "outputs": [],
   "source": [
    "image = tf.constant([[[[4],[3]],\n",
    "                    [[2],[1]]]], dtype=np.float32)"
   ]
  },
  {
   "cell_type": "code",
   "execution_count": 29,
   "id": "b9d9f6e9",
   "metadata": {},
   "outputs": [
    {
     "name": "stdout",
     "output_type": "stream",
     "text": [
      "(1, 2, 2, 1)\n",
      "[[4. 3.]\n",
      " [2. 1.]]\n"
     ]
    },
    {
     "data": {
      "image/png": "[encoded data removed]",
      "text/plain": [
       "<Figure size 432x288 with 1 Axes>"
      ]
     },
     "metadata": {
      "needs_background": "light"
     },
     "output_type": "display_data"
    }
   ],
   "source": [
    "print(image.shape)\n",
    "\n",
    "print(image.numpy().reshape(2,2)) \n",
    "\n",
    "plt.imshow(image.numpy().reshape(2,2), cmap='Greys')\n",
    "plt.show()"
   ]
  },
  {
   "cell_type": "code",
   "execution_count": 30,
   "id": "1bebd753",
   "metadata": {},
   "outputs": [],
   "source": [
    "pool = keras.layers.MaxPool2D(pool_size=(2,2), strides=1, padding='SAME')(image)"
   ]
  },
  {
   "cell_type": "code",
   "execution_count": 31,
   "id": "fb5e71a9",
   "metadata": {},
   "outputs": [
    {
     "name": "stdout",
     "output_type": "stream",
     "text": [
      "(1, 2, 2, 1)\n",
      "[[[[4.]\n",
      "   [3.]]\n",
      "\n",
      "  [[2.]\n",
      "   [1.]]]]\n"
     ]
    }
   ],
   "source": [
    "print(pool.shape)\n",
    "print(pool.numpy())"
   ]
  },
  {
   "cell_type": "markdown",
   "id": "0e44d93e",
   "metadata": {},
   "source": [
    "## CNN Basic : Mnist "
   ]
  },
  {
   "cell_type": "markdown",
   "id": "6ff406dd",
   "metadata": {},
   "source": [
    "### 분석환경 구성 "
   ]
  },
  {
   "cell_type": "code",
   "execution_count": 32,
   "id": "5cd19b9c",
   "metadata": {},
   "outputs": [],
   "source": [
    "from tensorflow.keras.datasets import mnist"
   ]
  },
  {
   "cell_type": "code",
   "execution_count": 33,
   "id": "aaa52362",
   "metadata": {},
   "outputs": [],
   "source": [
    "class_names = ['0','1','2','3','4','5','6','7','8','9']"
   ]
  },
  {
   "cell_type": "code",
   "execution_count": 34,
   "id": "2d042dc8",
   "metadata": {},
   "outputs": [],
   "source": [
    "(train_images, train_labels), (test_images, test_labels) = mnist.load_data()"
   ]
  },
  {
   "cell_type": "code",
   "execution_count": 35,
   "id": "267c8a5d",
   "metadata": {},
   "outputs": [],
   "source": [
    "train_images = train_images.astype(np.float32)/ 255.\n",
    "test_images = test_images.astype(np.float32)/ 255."
   ]
  },
  {
   "cell_type": "markdown",
   "id": "492cbd87",
   "metadata": {},
   "source": [
    "### 이미지 확인 "
   ]
  },
  {
   "cell_type": "code",
   "execution_count": 36,
   "id": "6d32d0cb",
   "metadata": {},
   "outputs": [
    {
     "data": {
      "image/png": "[encoded data removed]",
      "text/plain": [
       "<Figure size 432x288 with 1 Axes>"
      ]
     },
     "metadata": {
      "needs_background": "light"
     },
     "output_type": "display_data"
    }
   ],
   "source": [
    "# 이미지 한장을 살펴봅니다. \n",
    "img = train_images[0]\n",
    "plt.imshow(img, cmap='gray')\n",
    "plt.show()"
   ]
  },
  {
   "cell_type": "markdown",
   "id": "76795373",
   "metadata": {},
   "source": [
    "### convolution layer에 투과하기 \n",
    "* 5개의 필터를 적용해 각각의 결과를 시각화합니다. \n",
    "* 이미지의 형태를 유지하기 위해 padding same 옵션을 적용해 진행합니다. "
   ]
  },
  {
   "cell_type": "code",
   "execution_count": 37,
   "id": "4b77a2f3",
   "metadata": {},
   "outputs": [
    {
     "data": {
      "text/plain": [
       "(28, 28)"
      ]
     },
     "execution_count": 37,
     "metadata": {},
     "output_type": "execute_result"
    }
   ],
   "source": [
    "# 이미지 한장의 형태를 봅니다.\n",
    "img.shape"
   ]
  },
  {
   "cell_type": "code",
   "execution_count": 38,
   "id": "1cc65db6",
   "metadata": {},
   "outputs": [
    {
     "data": {
      "text/plain": [
       "(1, 28, 28, 1)"
      ]
     },
     "execution_count": 38,
     "metadata": {},
     "output_type": "execute_result"
    }
   ],
   "source": [
    "# convolution layer의, 입력 형태에 맞도록 이미지의 차원을 수정합니다.\n",
    "img = img.reshape(-1,28,28,1)\n",
    "img.shape\n",
    "# (배치크기,넓이,높이,채널)"
   ]
  },
  {
   "cell_type": "code",
   "execution_count": 39,
   "id": "cddea377",
   "metadata": {},
   "outputs": [],
   "source": [
    "# 텐서로 전환\n",
    "img = tf.convert_to_tensor(img)"
   ]
  },
  {
   "cell_type": "code",
   "execution_count": 40,
   "id": "07e77820",
   "metadata": {},
   "outputs": [],
   "source": [
    "# 필터 가중치를 랜덤으로 설정해줄 기계 \n",
    "weight_init = keras.initializers.RandomNormal(stddev=0.01)"
   ]
  },
  {
   "cell_type": "code",
   "execution_count": 41,
   "id": "4b4cd0fa",
   "metadata": {},
   "outputs": [],
   "source": [
    "# 5개의 필터를 생성함과 동시에, 이미지를 각각 투과 \n",
    "conv2d = keras.layers.Conv2D(filters=5, kernel_size=3, strides=(2, 2), padding='SAME', \n",
    "                             kernel_initializer=weight_init)(img)"
   ]
  },
  {
   "cell_type": "code",
   "execution_count": 42,
   "id": "4fbcf0bf",
   "metadata": {},
   "outputs": [
    {
     "name": "stdout",
     "output_type": "stream",
     "text": [
      "(1, 14, 14, 5)\n"
     ]
    }
   ],
   "source": [
    "print(conv2d.shape)"
   ]
  },
  {
   "cell_type": "markdown",
   "id": "9a85c29c",
   "metadata": {},
   "source": [
    "필터의 수에 맞게 out channel이 5개가 생성됨을 볼 수 있습니다. "
   ]
  },
  {
   "cell_type": "code",
   "execution_count": 43,
   "id": "ddddbfb6",
   "metadata": {},
   "outputs": [
    {
     "data": {
      "image/png": "[encoded data removed]",
      "text/plain": [
       "<Figure size 432x288 with 5 Axes>"
      ]
     },
     "metadata": {
      "needs_background": "light"
     },
     "output_type": "display_data"
    }
   ],
   "source": [
    "feature_maps = np.swapaxes(conv2d, 0, 3)\n",
    "for i, feature_map in enumerate(feature_maps):\n",
    "    plt.subplot(1,5,i+1), plt.imshow(feature_map.reshape(14,14), cmap='gray')\n",
    "plt.show()"
   ]
  },
  {
   "cell_type": "markdown",
   "id": "8b5907d5",
   "metadata": {},
   "source": [
    "각각의 필터로 인해 생성된 이미지의 결과가 상이함을 볼 수 있습니다. "
   ]
  },
  {
   "cell_type": "markdown",
   "id": "37df39e2",
   "metadata": {},
   "source": [
    "### Pooling "
   ]
  },
  {
   "cell_type": "code",
   "execution_count": 44,
   "id": "9b0b42d3",
   "metadata": {},
   "outputs": [
    {
     "name": "stdout",
     "output_type": "stream",
     "text": [
      "(1, 7, 7, 5)\n"
     ]
    }
   ],
   "source": [
    "pool = keras.layers.MaxPool2D(pool_size=(2, 2), strides=(2, 2), padding='SAME')(conv2d)\n",
    "print(pool.shape)"
   ]
  },
  {
   "cell_type": "code",
   "execution_count": 45,
   "id": "a4586cfb",
   "metadata": {},
   "outputs": [
    {
     "data": {
      "image/png": "[encoded data removed]",
      "text/plain": [
       "<Figure size 432x288 with 5 Axes>"
      ]
     },
     "metadata": {
      "needs_background": "light"
     },
     "output_type": "display_data"
    }
   ],
   "source": [
    "feature_maps = np.swapaxes(pool, 0, 3)\n",
    "for i, feature_map in enumerate(feature_maps):\n",
    "    plt.subplot(1,5,i+1), plt.imshow(feature_map.reshape(7, 7), cmap='gray')\n",
    "plt.show()"
   ]
  },
  {
   "cell_type": "markdown",
   "id": "e8caab2a",
   "metadata": {},
   "source": [
    "# tf.Keras.Sequential  API를 활용한 CNN 모형 구현 \n",
    "* 텐서플로우에서 제공하는 sequential high level api를 활용하여 간단한 CNN모형을 구현합니다. \n",
    "![CNN_minist.png](https://miro.medium.com/max/1838/1*fGaM1r0T4LAJFkMJRMMA3g.png)\n",
    "* 모형의 전체적인 구조는 위와 같습니다. \n",
    "    - conv. layer with 32filter and stride 1, padding 'SAME'  \n",
    "        - max pooling with stride 2, padding = 'SAME' \n",
    "    - conv. layer with 64filter and stride 1, padding 'SAME'  \n",
    "        - max pooling with stride 2, padding = 'SAME'\n",
    "    - conv. layer with 128filter and stride 1, padding 'SAME'  \n",
    "        - max pooling with stride 2, padding = 'SAME'  \n",
    "    - Fully connected layer \n",
    "        - flatten layer \n",
    "        - 256 unit Dense\n",
    "        - 10 unit Dense for result "
   ]
  },
  {
   "cell_type": "markdown",
   "id": "35c5a879",
   "metadata": {},
   "source": [
    "## 분석환경 구성 "
   ]
  },
  {
   "cell_type": "code",
   "execution_count": 50,
   "id": "adad57d5",
   "metadata": {},
   "outputs": [
    {
     "name": "stderr",
     "output_type": "stream",
     "text": [
      "UsageError: Line magic function `%matplotlib.pyplot` not found.\n"
     ]
    }
   ],
   "source": [
    "import tensorflow as tf \n",
    "from tensorflow import keras \n",
    "\n",
    "# 레이블 원핫인코딩을 위한 라이브러리 \n",
    "from tensorflow.keras.utils import to_categorical\n",
    "\n",
    "# 텐서 연산 및 변환을 위한 라이브러리 \n",
    "import numpy as np \n",
    "\n",
    "# 이미지 시각화를 위한 도구 \n",
    "import matplotlib.pyplot as plt \n",
    "%matplotlib.pyplot inline \n",
    "\n",
    "# 체크포인트 경로 설정을 위한 운영체제 라이브러리  \n",
    "import os "
   ]
  },
  {
   "cell_type": "markdown",
   "id": "4ab89860",
   "metadata": {},
   "source": [
    "## Hyper parameter 구성 "
   ]
  },
  {
   "cell_type": "code",
   "execution_count": 51,
   "id": "f6469627",
   "metadata": {},
   "outputs": [],
   "source": [
    "# 학습률 지정 \n",
    "learning_rate = 0.001 \n",
    "# 에포크 15회 \n",
    "training_epochs = 1 \n",
    "# 배치크기 지정 \n",
    "batch_size = 100 \n",
    "\n",
    "# 랜덤시드 지정 \n",
    "tf.random.set_seed(777)"
   ]
  },
  {
   "cell_type": "markdown",
   "id": "f44c4f0a",
   "metadata": {},
   "source": [
    "## 모델 체크포인트 directory 설정 \n",
    "* 실습 내용에 언급되어 있긴 하지만, 해당 내용은 반영하지 않고 진행합니다. "
   ]
  },
  {
   "cell_type": "code",
   "execution_count": 52,
   "id": "6a61dd2d",
   "metadata": {},
   "outputs": [],
   "source": [
    "# cur_dir = os.getcwd()\n",
    "# ckpt_dir_name = 'checkpoints'\n",
    "# model_dir_name = 'minst_cnn_seq'\n",
    "\n",
    "# checkpoint_dir = os.path.join(cur_dir, ckpt_dir_name, model_dir_name)\n",
    "# os.makedirs(checkpoint_dir, exist_ok=True)\n",
    "\n",
    "# checkpoint_prefix = os.path.join(checkpoint_dir, model_dir_name)"
   ]
  },
  {
   "cell_type": "markdown",
   "id": "7b22f99d",
   "metadata": {},
   "source": [
    "## Dataset 불러오기 "
   ]
  },
  {
   "cell_type": "markdown",
   "id": "5da845ab",
   "metadata": {},
   "source": [
    "### MNIST 데이터 "
   ]
  },
  {
   "cell_type": "code",
   "execution_count": 53,
   "id": "3ad10ec6",
   "metadata": {},
   "outputs": [],
   "source": [
    "mnist = keras.datasets.mnist\n",
    "class_names = ['0', '1', '2', '3', '4', '5', '6', '7', '8', '9']"
   ]
  },
  {
   "cell_type": "markdown",
   "id": "dc6a0d85",
   "metadata": {},
   "source": [
    "### Fashion Mnist Data "
   ]
  },
  {
   "cell_type": "code",
   "execution_count": 54,
   "id": "7e8f801a",
   "metadata": {},
   "outputs": [],
   "source": [
    "## Fashion MNIST Dataset \n",
    "#Fmnist = keras.datasets.fashion_mnist\n",
    "#class_names = ['T-shirt/top', 'Trouser', 'Pullover', 'Dress', 'Coat', 'Sandal', 'Shirt', 'Sneaker', 'Bag', 'Ankle boot']\n"
   ]
  },
  {
   "cell_type": "markdown",
   "id": "77c11616",
   "metadata": {},
   "source": [
    "## Dataset 사전 처리 "
   ]
  },
  {
   "cell_type": "code",
   "execution_count": 55,
   "id": "48cded4b",
   "metadata": {},
   "outputs": [],
   "source": [
    "# 데이터 불러오기 및 학습 및 테스트 데이터로 나누기 \n",
    "(train_images, train_labels), (test_images, test_labels) = mnist.load_data()"
   ]
  },
  {
   "cell_type": "code",
   "execution_count": 56,
   "id": "53333333",
   "metadata": {},
   "outputs": [],
   "source": [
    "# 데이터 스케일링 \n",
    "# 각각의 픽셀에 들어있는 0~255의 밝기 값을 0~1 사이로 축소합니다. \n",
    "# 이는 모델의 성능을 개선하기 위해 분산을 축소하는 작업입니다. \n",
    "train_images = train_images.astype(np.float32)/255.\n",
    "test_images = test_images.astype(np.float32)/255."
   ]
  },
  {
   "cell_type": "code",
   "execution_count": 57,
   "id": "1a120800",
   "metadata": {},
   "outputs": [],
   "source": [
    "# 이미지의 차원에 채널을 추가하여 4D 구조로 만들어 줍니다. \n",
    "# 이는 CNN모형의 입력의 형태가 4D Tensor 구조여야 함을 반영하는것입니다. \n",
    "# 채널은 색상값을 입력합니다. \n",
    "train_images = np.expand_dims(train_images, axis=-1)\n",
    "test_images = np.expand_dims(test_images, axis=-1)"
   ]
  },
  {
   "cell_type": "code",
   "execution_count": 58,
   "id": "b0e14548",
   "metadata": {},
   "outputs": [],
   "source": [
    "# 레이블의 범주를 원핫인코딩 해줍니다. \n",
    "train_labels = to_categorical(train_labels, 10)\n",
    "test_labels = to_categorical(test_labels, 10)"
   ]
  },
  {
   "cell_type": "markdown",
   "id": "c0b87332",
   "metadata": {},
   "source": [
    "##### DATA PIPLineing \n",
    "* 이후 학습을 진행할때, 모형에 데이터를 배치의 크기만큼씩 끊어 올려주는 역할을 수행합니다. \n",
    "* 기본적으로 버퍼 자료구조를 이용하며, 텐서플로우에서 제공하는 Dataset.from tensorslice를 이용해 간단하게 구현이 가능합니다. \n",
    "* 기본 옵션 설명 \n",
    "    - dataset :: ()튜플구조로 데이터와 정답을 함께 입력합니다. \n",
    "    - shuffle :: 데이터를 수행시마다 섞어주어 과적합을 방지합니다. 이는 훈련 데이터에만 적용하면 됩니다. 이때, 버퍼의 크기를 함께 지정해줍니다. \n",
    "    - .batch() : 배치의 크기를 지정해줍니다.\n",
    "    \n",
    "* 활용 예시 및 설명 \n",
    "\"\"\" Graph Input using Dataset API \"\"\"\n",
    "train_dataset = tf.data.Dataset.from_tensor_slices((train_x, train_y)).\\//데이터 입력    \n",
    "    shuffle(buffer_size=100000).\\ //버퍼를 활용한 셔플링  \n",
    "    prefetch(buffer_size=batch_size).\\ // 다음 학습할 배치를 미리 메모리상에 준비합니다  \n",
    "    batch(batch_size, drop_remainder=True) // drop_remainder=True 한번 사용한 데이터는 제거  \n",
    "   "
   ]
  },
  {
   "cell_type": "code",
   "execution_count": 59,
   "id": "04497329",
   "metadata": {},
   "outputs": [],
   "source": [
    "train_dataset = tf.data.Dataset.from_tensor_slices((train_images, train_labels)).shuffle(\n",
    "                buffer_size=100000).batch(batch_size)\n",
    "test_dataset = tf.data.Dataset.from_tensor_slices((test_images, test_labels)).batch(batch_size)"
   ]
  },
  {
   "cell_type": "markdown",
   "id": "98856ebe",
   "metadata": {},
   "source": [
    "## 모형 생성 함수 구현 "
   ]
  },
  {
   "cell_type": "code",
   "execution_count": 62,
   "id": "4841c63f",
   "metadata": {},
   "outputs": [],
   "source": [
    "def create_model(): \n",
    "    model = tf.keras.Sequential()\n",
    "    model.add(keras.layers.Conv2D(filters=32, kernel_size=3, activation=tf.nn.relu, padding='SAME',\n",
    "                                  input_shape = (28,28,1))) # 가장 첫 레이어에는 입력 크기를 보여주는게 좋습니다. \n",
    "    model.add(keras.layers.MaxPool2D(padding='SAME'))\n",
    "    model.add(keras.layers.Conv2D(filters=64, kernel_size=3, activation=tf.nn.relu, padding='SAME')) \n",
    "    model.add(keras.layers.MaxPool2D(padding='SAME'))\n",
    "    model.add(keras.layers.Conv2D(filters=128, kernel_size=3, activation=tf.nn.relu, padding='SAME')) \n",
    "    model.add(keras.layers.MaxPool2D(padding='SAME'))\n",
    "    # FC layer 시작 ################################ \n",
    "    model.add(keras.layers.Flatten())\n",
    "    # 분류를 위한 FC 모형에는 반드시 일차원의 백터 형식의 입력이 필요합니다. \n",
    "    model.add(keras.layers.Dense(256, activation=tf.nn.relu))\n",
    "    # 위에서 가중치의 갯수가 너무 많아 40%의 드롭아웃을 적용합니다. \n",
    "    model.add(keras.layers.Dropout(0.4))\n",
    "    model.add(keras.layers.Dense(10))\n",
    "    return model "
   ]
  },
  {
   "cell_type": "code",
   "execution_count": 61,
   "id": "c1b1c90f",
   "metadata": {},
   "outputs": [],
   "source": [
    "# keras.layers.MaxPool2D? \n",
    "# 기본입력 : \n",
    "# stride 2 \n",
    "# 2 x 2 filter "
   ]
  },
  {
   "cell_type": "markdown",
   "id": "dfdd6086",
   "metadata": {},
   "source": [
    "개인적인 의문은 마지막 Dense층에 활성함수로 softmax함수를 왜 지정하지 않았는지 입니다. \n",
    "(Dense layer의 기본적인 activation 함수는 a(x) = x 의 선형함수입니다. "
   ]
  },
  {
   "cell_type": "code",
   "execution_count": 63,
   "id": "adb6cf4f",
   "metadata": {},
   "outputs": [
    {
     "name": "stdout",
     "output_type": "stream",
     "text": [
      "Model: \"sequential\"\n",
      "_________________________________________________________________\n",
      "Layer (type)                 Output Shape              Param #   \n",
      "=================================================================\n",
      "conv2d_4 (Conv2D)            (None, 28, 28, 32)        320       \n",
      "_________________________________________________________________\n",
      "max_pooling2d_3 (MaxPooling2 (None, 14, 14, 32)        0         \n",
      "_________________________________________________________________\n",
      "conv2d_5 (Conv2D)            (None, 14, 14, 64)        18496     \n",
      "_________________________________________________________________\n",
      "max_pooling2d_4 (MaxPooling2 (None, 7, 7, 64)          0         \n",
      "_________________________________________________________________\n",
      "conv2d_6 (Conv2D)            (None, 7, 7, 128)         73856     \n",
      "_________________________________________________________________\n",
      "max_pooling2d_5 (MaxPooling2 (None, 4, 4, 128)         0         \n",
      "_________________________________________________________________\n",
      "flatten (Flatten)            (None, 2048)              0         \n",
      "_________________________________________________________________\n",
      "dense (Dense)                (None, 256)               524544    \n",
      "_________________________________________________________________\n",
      "dropout (Dropout)            (None, 256)               0         \n",
      "_________________________________________________________________\n",
      "dense_1 (Dense)              (None, 10)                2570      \n",
      "=================================================================\n",
      "Total params: 619,786\n",
      "Trainable params: 619,786\n",
      "Non-trainable params: 0\n",
      "_________________________________________________________________\n"
     ]
    }
   ],
   "source": [
    "model = create_model()\n",
    "model.summary()"
   ]
  },
  {
   "cell_type": "markdown",
   "id": "6c1f3abc",
   "metadata": {},
   "source": [
    "## 손실함수 정의 \n",
    "* softmax regression이 적용됨으로 cross entropy를 지표로 사용합니다. "
   ]
  },
  {
   "cell_type": "code",
   "execution_count": 64,
   "id": "c72948bf",
   "metadata": {},
   "outputs": [],
   "source": [
    "def loss_fn(model, images, labels):\n",
    "    logits = model(images, training=True)\n",
    "    loss = tf.reduce_mean(tf.keras.losses.categorical_crossentropy(\n",
    "        y_pred=logits, y_true=labels, from_logits=True))    \n",
    "    return loss"
   ]
  },
  {
   "cell_type": "markdown",
   "id": "e0be5756",
   "metadata": {},
   "source": [
    "## 기울기 추적함수 정의 "
   ]
  },
  {
   "cell_type": "code",
   "execution_count": 65,
   "id": "8fff7abf",
   "metadata": {},
   "outputs": [],
   "source": [
    "def grad(model, images, labels):\n",
    "    with tf.GradientTape() as tape:\n",
    "        loss = loss_fn(model, images, labels)\n",
    "    return tape.gradient(loss, model.variables)"
   ]
  },
  {
   "cell_type": "markdown",
   "id": "bc49667a",
   "metadata": {},
   "source": [
    "## 모형 성능 지표 "
   ]
  },
  {
   "cell_type": "code",
   "execution_count": 66,
   "id": "dba45722",
   "metadata": {},
   "outputs": [],
   "source": [
    "def evaluate(model, images, labels):\n",
    "    logits = model(images, training=False)\n",
    "    correct_prediction = tf.equal(tf.argmax(logits, 1), tf.argmax(labels, 1))\n",
    "    accuracy = tf.reduce_mean(tf.cast(correct_prediction, tf.float32))\n",
    "    return accuracy"
   ]
  },
  {
   "cell_type": "markdown",
   "id": "43c58b37",
   "metadata": {},
   "source": [
    "## Optimizer 정의 \n",
    "* 기울기를 반영하여 가중치를 갱신해줄 최적화 도구입니다. \n",
    "* 가장 널리쓰이는 adam optimizer를 이용합니다 ."
   ]
  },
  {
   "cell_type": "code",
   "execution_count": 67,
   "id": "27a4dd3f",
   "metadata": {},
   "outputs": [],
   "source": [
    "optimizer = tf.keras.optimizers.Adam(learning_rate=learning_rate)"
   ]
  },
  {
   "cell_type": "markdown",
   "id": "cfca76b4",
   "metadata": {},
   "source": [
    "## 학습과정 "
   ]
  },
  {
   "cell_type": "markdown",
   "id": "85f3e3cf",
   "metadata": {},
   "source": [
    "### 체크포인트가 있는 버전 "
   ]
  },
  {
   "cell_type": "code",
   "execution_count": 68,
   "id": "ab68f163",
   "metadata": {},
   "outputs": [],
   "source": [
    "# checkpoint = tf.train.Checkpoint(cnn=model)"
   ]
  },
  {
   "cell_type": "code",
   "execution_count": 70,
   "id": "fd13e8b3",
   "metadata": {},
   "outputs": [],
   "source": [
    "# def train(model, images, labels):\n",
    "#     grads = grad(model, images, labels)\n",
    "#     optimizer.apply_gradients(zip(grads, model.trainable_variables))"
   ]
  },
  {
   "cell_type": "code",
   "execution_count": 71,
   "id": "35373d40",
   "metadata": {},
   "outputs": [],
   "source": [
    "# # train my model\n",
    "# print('Learning started. It takes sometime.')\n",
    "# for epoch in range(training_epochs):\n",
    "#     avg_loss = 0.\n",
    "#     avg_train_acc = 0.\n",
    "#     avg_test_acc = 0.\n",
    "#     train_step = 0\n",
    "#     test_step = 0    \n",
    "    \n",
    "#     for images, labels in train_dataset:\n",
    "#         train(model, images, labels)\n",
    "#         #grads = grad(model, images, labels)                \n",
    "#         #optimizer.apply_gradients(zip(grads, model.variables))\n",
    "#         loss = loss_fn(model, images, labels)\n",
    "#         acc = evaluate(model, images, labels)\n",
    "#         avg_loss = avg_loss + loss\n",
    "#         avg_train_acc = avg_train_acc + acc\n",
    "#         train_step += 1\n",
    "#     avg_loss = avg_loss / train_step\n",
    "#     avg_train_acc = avg_train_acc / train_step\n",
    "    \n",
    "#     for images, labels in test_dataset:        \n",
    "#         acc = evaluate(model, images, labels)        \n",
    "#         avg_test_acc = avg_test_acc + acc\n",
    "#         test_step += 1    \n",
    "#     avg_test_acc = avg_test_acc / test_step    \n",
    "\n",
    "#     print('Epoch:', '{}'.format(epoch + 1), 'loss =', '{:.8f}'.format(avg_loss), \n",
    "#           'train accuracy = ', '{:.4f}'.format(avg_train_acc), \n",
    "#           'test accuracy = ', '{:.4f}'.format(avg_test_acc))\n",
    "    \n",
    "#     checkpoint.save(file_prefix=checkpoint_prefix)\n",
    "\n",
    "# print('Learning Finished!')"
   ]
  },
  {
   "cell_type": "markdown",
   "id": "2e790722",
   "metadata": {},
   "source": [
    "### 체크포인트가 없는 버전 "
   ]
  },
  {
   "cell_type": "code",
   "execution_count": 79,
   "id": "6c6740e2",
   "metadata": {},
   "outputs": [
    {
     "name": "stdout",
     "output_type": "stream",
     "text": [
      "Learing started!\n",
      "Epoch: [ 0],training loss: [0.00508959], train_acc: [1.0000], test_acc: [1.0000]\n",
      "All epochs ended!! Learing completed!\n"
     ]
    }
   ],
   "source": [
    "print(\"Learing started!\")\n",
    "for epoch in range(training_epochs):\n",
    "    for idx, (train_input, train_label) in enumerate(train_dataset):\n",
    "        grads = grad(model, train_input, train_label)\n",
    "        optimizer.apply_gradients(grads_and_vars=zip(grads, model.variables))\n",
    "        \n",
    "        train_loss = loss_fn(model, train_input, train_label)\n",
    "        train_accuracy = evaluate(model, train_input, train_label)\n",
    "        \n",
    "    for test_input, test_label in test_dataset:\n",
    "        test_accuracy = evaluate(model, test_input, test_label)\n",
    "       \n",
    "    print(\"Epoch: [%2d],training loss: [%.8f], train_acc: [%.4f], test_acc: [%.4f]\"\\\n",
    "            %(epoch,train_loss, train_accuracy,test_accuracy))\n",
    "    \n",
    "print(\"All epochs ended!! Learing completed!\")"
   ]
  },
  {
   "cell_type": "markdown",
   "id": "3bd5ac41",
   "metadata": {},
   "source": [
    "모형의 복잡도로 인해 1에포크만을 확인합니다. \n",
    "상당히 높은 정확도와 낮은 손실을 보임을 확인할 수 있습니다. "
   ]
  },
  {
   "cell_type": "markdown",
   "id": "f3d15967",
   "metadata": {},
   "source": [
    "# keras의 Functional API를 통한 구현 \n",
    "* 개인적으로 감탄하며 보던 방법입니다. \n",
    "* 기존의 Sequencial API는 모형을 stack구조로 결합해 쌓아가는 구조였습니다.  \n",
    "  따라서, 조금 복잡한 모형의 경우에는 사용하지 못하는 한계를 가지고 있습니다. \n",
    "  이를 해결하기 위해, 각 층의 입력과 출력 정보를 직접 이어주는 방식입니다. "
   ]
  },
  {
   "cell_type": "markdown",
   "id": "1345c03c",
   "metadata": {},
   "source": [
    "##### Sequential API의 한계점 \n",
    "1. 여러개의 입력을 받는 모형을 생성하지 못합니다. 즉, 하나의 층이 여러 층으로 부터 들어오는 입력을 동시에 받아 처리하지 못합니다. \n",
    "2. 하나의 층에서 여러개의 다음층으로 값을 전달하지 못합니다. \n",
    "3. 하나의 층에 대한 출력을 여러번 활용하지 못한다는 단점이 존재합니다. \n",
    "4. 순서대로 다음단계로 넘어가는 sequential data flow가 아니라면 구현할 수 없다는 단점을 지닙니다. \n",
    "\n",
    "* 해당 문제들이 발생하는 모형의 예시로는 \n",
    "1. inception module \n",
    "![inception.png](https://paperswithcode.com/media/methods/Screen_Shot_2020-06-22_at_3.22.39_PM.png)  \n",
    "해당 모형에서, previous layer에서 여러 층에 처리 결과를 전달하는 경우나, 여러 층에서 filter concatenation으로 값을 동시에 전달하는 경우 처리가 불가능합니다. \n",
    "2. residual connections\n",
    "![residual_connections.png](https://paperswithcode.com/media/methods/resnet-e1548261477164.png)\n",
    "해당 모형에서 입력층의 값이 최종적으로 다시 더해지는 경우를 sequential 모형에서는 구현이 불가능합니다. "
   ]
  },
  {
   "cell_type": "markdown",
   "id": "6581a105",
   "metadata": {},
   "source": [
    "* Functional method를 이용하면 해당 문제점은 쉽게 구현이 가능합니다. \n",
    "* 아마도, 앙상블과 같은 기법을 이용할 때에 더욱 중요한 화두가 될 것 같습니다! "
   ]
  },
  {
   "cell_type": "markdown",
   "id": "d920870a",
   "metadata": {},
   "source": [
    "## Importing Libraries"
   ]
  },
  {
   "cell_type": "code",
   "execution_count": 80,
   "id": "569b443a",
   "metadata": {},
   "outputs": [],
   "source": [
    "import tensorflow as tf\n",
    "from tensorflow import keras\n",
    "from tensorflow.keras.utils import to_categorical\n",
    "import numpy as np\n",
    "import matplotlib.pyplot as plt\n",
    "import os\n"
   ]
  },
  {
   "cell_type": "markdown",
   "id": "a9497aa2",
   "metadata": {},
   "source": [
    "## Hyper Parameters"
   ]
  },
  {
   "cell_type": "code",
   "execution_count": 81,
   "id": "021fb212",
   "metadata": {},
   "outputs": [],
   "source": [
    "learning_rate = 0.001\n",
    "# training_epochs = 15\n",
    "training_epochs = 1\n",
    "batch_size = 100\n",
    "\n",
    "tf.random.set_seed(777)"
   ]
  },
  {
   "cell_type": "markdown",
   "id": "4cdb8fd6",
   "metadata": {},
   "source": [
    "## Creating a Checkpoint Directory"
   ]
  },
  {
   "cell_type": "code",
   "execution_count": 82,
   "id": "f9cbad3f",
   "metadata": {},
   "outputs": [],
   "source": [
    "# cur_dir = os.getcwd()\n",
    "# ckpt_dir_name = 'checkpoints'\n",
    "# model_dir_name = 'minst_cnn_func'\n",
    "\n",
    "# checkpoint_dir = os.path.join(cur_dir, ckpt_dir_name, model_dir_name)\n",
    "# os.makedirs(checkpoint_dir, exist_ok=True)\n",
    "\n",
    "# checkpoint_prefix = os.path.join(checkpoint_dir, model_dir_name)"
   ]
  },
  {
   "cell_type": "markdown",
   "id": "d2bea458",
   "metadata": {},
   "source": [
    "## Minist 객체 설정 "
   ]
  },
  {
   "cell_type": "code",
   "execution_count": 83,
   "id": "95f95427",
   "metadata": {},
   "outputs": [],
   "source": [
    "mnist = keras.datasets.mnist\n",
    "class_names = ['0', '1', '2', '3', '4', '5', '6', '7', '8', '9']"
   ]
  },
  {
   "cell_type": "markdown",
   "id": "7db0df20",
   "metadata": {},
   "source": [
    "## Datasets 사전 준비 "
   ]
  },
  {
   "cell_type": "code",
   "execution_count": 84,
   "id": "b67f8d80",
   "metadata": {},
   "outputs": [],
   "source": [
    "(train_images, train_labels), (test_images, test_labels) = mnist.load_data()    \n",
    "    \n",
    "train_images = train_images.astype(np.float32) / 255.\n",
    "test_images = test_images.astype(np.float32) / 255.\n",
    "train_images = np.expand_dims(train_images, axis=-1)\n",
    "test_images = np.expand_dims(test_images, axis=-1)\n",
    "    \n",
    "train_labels = to_categorical(train_labels, 10)\n",
    "test_labels = to_categorical(test_labels, 10)    \n",
    "    \n",
    "train_dataset = tf.data.Dataset.from_tensor_slices((train_images, train_labels)).shuffle(\n",
    "                buffer_size=100000).batch(batch_size)\n",
    "test_dataset = tf.data.Dataset.from_tensor_slices((test_images, test_labels)).batch(batch_size)"
   ]
  },
  {
   "cell_type": "markdown",
   "id": "25167a3c",
   "metadata": {},
   "source": [
    "## 중요!! - 모델생성 \n",
    "* 각 층을 변수로서 선언하고, 다음층의 입력에 직접 전달하는 형태로 구현합니다. "
   ]
  },
  {
   "cell_type": "code",
   "execution_count": 85,
   "id": "41eda7fe",
   "metadata": {},
   "outputs": [],
   "source": [
    "def create_model():\n",
    "    inputs = keras.Input(shape=(28, 28, 1))\n",
    "    conv1 = keras.layers.Conv2D(filters=32, kernel_size=[3, 3], padding='SAME', activation=tf.nn.relu)(inputs)\n",
    "    pool1 = keras.layers.MaxPool2D(padding='SAME')(conv1)\n",
    "    conv2 = keras.layers.Conv2D(filters=64, kernel_size=[3, 3], padding='SAME', activation=tf.nn.relu)(pool1)\n",
    "    pool2 = keras.layers.MaxPool2D(padding='SAME')(conv2)\n",
    "    conv3 = keras.layers.Conv2D(filters=128, kernel_size=[3, 3], padding='SAME', activation=tf.nn.relu)(pool2)\n",
    "    pool3 = keras.layers.MaxPool2D(padding='SAME')(conv3)\n",
    "    \n",
    "    # FC LAYER \n",
    "    pool3_flat = keras.layers.Flatten()(pool3)\n",
    "    dense4 = keras.layers.Dense(units=256, activation=tf.nn.relu)(pool3_flat)\n",
    "    drop4 = keras.layers.Dropout(rate=0.4)(dense4)\n",
    "    logits = keras.layers.Dense(units=10)(drop4)\n",
    "    return keras.Model(inputs=inputs, outputs=logits)"
   ]
  },
  {
   "cell_type": "markdown",
   "id": "7e4a39ac",
   "metadata": {},
   "source": [
    "return 층을 자세히 보면, Model 메소드의 인자로서 입력층과 출력층을 전달함으로써 전체 모형에 대한 정보를 연결지어 return을 수행함을 볼 수 있습니다. "
   ]
  },
  {
   "cell_type": "code",
   "execution_count": 86,
   "id": "7dd9c067",
   "metadata": {},
   "outputs": [
    {
     "name": "stdout",
     "output_type": "stream",
     "text": [
      "Model: \"model\"\n",
      "_________________________________________________________________\n",
      "Layer (type)                 Output Shape              Param #   \n",
      "=================================================================\n",
      "input_1 (InputLayer)         [(None, 28, 28, 1)]       0         \n",
      "_________________________________________________________________\n",
      "conv2d_7 (Conv2D)            (None, 28, 28, 32)        320       \n",
      "_________________________________________________________________\n",
      "max_pooling2d_6 (MaxPooling2 (None, 14, 14, 32)        0         \n",
      "_________________________________________________________________\n",
      "conv2d_8 (Conv2D)            (None, 14, 14, 64)        18496     \n",
      "_________________________________________________________________\n",
      "max_pooling2d_7 (MaxPooling2 (None, 7, 7, 64)          0         \n",
      "_________________________________________________________________\n",
      "conv2d_9 (Conv2D)            (None, 7, 7, 128)         73856     \n",
      "_________________________________________________________________\n",
      "max_pooling2d_8 (MaxPooling2 (None, 4, 4, 128)         0         \n",
      "_________________________________________________________________\n",
      "flatten_1 (Flatten)          (None, 2048)              0         \n",
      "_________________________________________________________________\n",
      "dense_2 (Dense)              (None, 256)               524544    \n",
      "_________________________________________________________________\n",
      "dropout_1 (Dropout)          (None, 256)               0         \n",
      "_________________________________________________________________\n",
      "dense_3 (Dense)              (None, 10)                2570      \n",
      "=================================================================\n",
      "Total params: 619,786\n",
      "Trainable params: 619,786\n",
      "Non-trainable params: 0\n",
      "_________________________________________________________________\n"
     ]
    }
   ],
   "source": [
    "model = create_model()\n",
    "model.summary()"
   ]
  },
  {
   "cell_type": "markdown",
   "id": "90d66d08",
   "metadata": {},
   "source": [
    "functional method 역시 summary기능을 사용가능합니다. "
   ]
  },
  {
   "cell_type": "markdown",
   "id": "f99dfa68",
   "metadata": {},
   "source": [
    "## 손실함수 정의 "
   ]
  },
  {
   "cell_type": "code",
   "execution_count": 87,
   "id": "60b8962e",
   "metadata": {},
   "outputs": [],
   "source": [
    "def loss_fn(model, images, labels):\n",
    "    logits = model(images, training=True)\n",
    "    loss = tf.reduce_mean(tf.keras.losses.categorical_crossentropy(\n",
    "        y_pred=logits, y_true=labels, from_logits=True))    \n",
    "    return loss"
   ]
  },
  {
   "cell_type": "markdown",
   "id": "ac1a80b8",
   "metadata": {},
   "source": [
    "## 기울기 계산 함수 정의 "
   ]
  },
  {
   "cell_type": "code",
   "execution_count": 88,
   "id": "9bfe73c5",
   "metadata": {},
   "outputs": [],
   "source": [
    "def grad(model, images, labels):\n",
    "    with tf.GradientTape() as tape:\n",
    "        loss = loss_fn(model, images, labels)\n",
    "    return tape.gradient(loss, model.variables)"
   ]
  },
  {
   "cell_type": "markdown",
   "id": "4a73877b",
   "metadata": {},
   "source": [
    "## 모델 성능 지표 "
   ]
  },
  {
   "cell_type": "code",
   "execution_count": 89,
   "id": "20643b5f",
   "metadata": {},
   "outputs": [],
   "source": [
    "def evaluate(model, images, labels):\n",
    "    logits = model(images, training=False)\n",
    "    correct_prediction = tf.equal(tf.argmax(logits, 1), tf.argmax(labels, 1))\n",
    "    accuracy = tf.reduce_mean(tf.cast(correct_prediction, tf.float32))\n",
    "    return accuracy"
   ]
  },
  {
   "cell_type": "markdown",
   "id": "da2fc889",
   "metadata": {},
   "source": [
    "## 옵티마이저 정의 "
   ]
  },
  {
   "cell_type": "code",
   "execution_count": 90,
   "id": "0bce7fdd",
   "metadata": {},
   "outputs": [],
   "source": [
    "optimizer = tf.keras.optimizers.Adam(learning_rate=learning_rate)"
   ]
  },
  {
   "cell_type": "markdown",
   "id": "d981e88c",
   "metadata": {},
   "source": [
    "## 체크포인트 설정 "
   ]
  },
  {
   "cell_type": "code",
   "execution_count": 91,
   "id": "f9851204",
   "metadata": {},
   "outputs": [],
   "source": [
    "# checkpoint = tf.train.Checkpoint(cnn=model)"
   ]
  },
  {
   "cell_type": "markdown",
   "id": "ea9c48bc",
   "metadata": {},
   "source": [
    "## training "
   ]
  },
  {
   "cell_type": "markdown",
   "id": "de7a306a",
   "metadata": {},
   "source": [
    "### check point 설정 ver. "
   ]
  },
  {
   "cell_type": "code",
   "execution_count": 92,
   "id": "4fc3cf8b",
   "metadata": {},
   "outputs": [],
   "source": [
    "# def train(model, images, labels):\n",
    "#     grads = grad(model, images, labels)\n",
    "#     optimizer.apply_gradients(zip(grads, model.trainable_variables))"
   ]
  },
  {
   "cell_type": "code",
   "execution_count": 93,
   "id": "b57e4b0a",
   "metadata": {},
   "outputs": [],
   "source": [
    "# # train my model\n",
    "# print('Learning started. It takes sometime.')\n",
    "# for epoch in range(training_epochs):\n",
    "#     avg_loss = 0.\n",
    "#     avg_train_acc = 0.\n",
    "#     avg_test_acc = 0.\n",
    "#     train_step = 0\n",
    "#     test_step = 0\n",
    "    \n",
    "#     for images, labels in train_dataset:\n",
    "#         train(model, images, labels)\n",
    "#         #grads = grad(model, images, labels)                \n",
    "#         #optimizer.apply_gradients(zip(grads, model.variables))\n",
    "#         loss = loss_fn(model, images, labels)\n",
    "#         acc = evaluate(model, images, labels)\n",
    "#         avg_loss = avg_loss + loss\n",
    "#         avg_train_acc = avg_train_acc + acc\n",
    "#         train_step += 1\n",
    "#     avg_loss = avg_loss / train_step\n",
    "#     avg_train_acc = avg_train_acc / train_step\n",
    "    \n",
    "#     for images, labels in test_dataset:        \n",
    "#         acc = evaluate(model, images, labels)        \n",
    "#         avg_test_acc = avg_test_acc + acc\n",
    "#         test_step += 1    \n",
    "#     avg_test_acc = avg_test_acc / test_step    \n",
    "\n",
    "#     print('Epoch:', '{}'.format(epoch + 1), 'loss =', '{:.8f}'.format(avg_loss), \n",
    "#           'train accuracy = ', '{:.4f}'.format(avg_train_acc), \n",
    "#           'test accuracy = ', '{:.4f}'.format(avg_test_acc))\n",
    "    \n",
    "#     checkpoint.save(file_prefix=checkpoint_prefix)\n",
    "\n",
    "# print('Learning Finished!')"
   ]
  },
  {
   "cell_type": "markdown",
   "id": "8f5a972d",
   "metadata": {},
   "source": [
    "### check point (x) ver. "
   ]
  },
  {
   "cell_type": "code",
   "execution_count": 95,
   "id": "77638b1d",
   "metadata": {},
   "outputs": [
    {
     "name": "stdout",
     "output_type": "stream",
     "text": [
      "Learning started!\n",
      "Epoch: 1 loss = 0.17901088 train accuracy =  0.9546 test accuracy =  0.9854\n"
     ]
    },
    {
     "ename": "KeyboardInterrupt",
     "evalue": "",
     "output_type": "error",
     "traceback": [
      "\u001b[1;31m---------------------------------------------------------------------------\u001b[0m",
      "\u001b[1;31mKeyboardInterrupt\u001b[0m                         Traceback (most recent call last)",
      "\u001b[1;32m<ipython-input-95-e1b0656f3708>\u001b[0m in \u001b[0;36m<module>\u001b[1;34m\u001b[0m\n\u001b[0;32m      9\u001b[0m     \u001b[1;32mfor\u001b[0m \u001b[0mimages\u001b[0m\u001b[1;33m,\u001b[0m \u001b[0mlabels\u001b[0m \u001b[1;32min\u001b[0m \u001b[0mtrain_dataset\u001b[0m\u001b[1;33m:\u001b[0m\u001b[1;33m\u001b[0m\u001b[1;33m\u001b[0m\u001b[0m\n\u001b[0;32m     10\u001b[0m \u001b[1;33m\u001b[0m\u001b[0m\n\u001b[1;32m---> 11\u001b[1;33m         \u001b[0mgrads\u001b[0m \u001b[1;33m=\u001b[0m \u001b[0mgrad\u001b[0m\u001b[1;33m(\u001b[0m\u001b[0mmodel\u001b[0m\u001b[1;33m,\u001b[0m \u001b[0mimages\u001b[0m\u001b[1;33m,\u001b[0m \u001b[0mlabels\u001b[0m\u001b[1;33m)\u001b[0m\u001b[1;33m\u001b[0m\u001b[1;33m\u001b[0m\u001b[0m\n\u001b[0m\u001b[0;32m     12\u001b[0m         \u001b[0moptimizer\u001b[0m\u001b[1;33m.\u001b[0m\u001b[0mapply_gradients\u001b[0m\u001b[1;33m(\u001b[0m\u001b[0mzip\u001b[0m\u001b[1;33m(\u001b[0m\u001b[0mgrads\u001b[0m\u001b[1;33m,\u001b[0m \u001b[0mmodel\u001b[0m\u001b[1;33m.\u001b[0m\u001b[0mvariables\u001b[0m\u001b[1;33m)\u001b[0m\u001b[1;33m)\u001b[0m\u001b[1;33m\u001b[0m\u001b[1;33m\u001b[0m\u001b[0m\n\u001b[0;32m     13\u001b[0m         \u001b[0mloss\u001b[0m \u001b[1;33m=\u001b[0m \u001b[0mloss_fn\u001b[0m\u001b[1;33m(\u001b[0m\u001b[0mmodel\u001b[0m\u001b[1;33m,\u001b[0m \u001b[0mimages\u001b[0m\u001b[1;33m,\u001b[0m \u001b[0mlabels\u001b[0m\u001b[1;33m)\u001b[0m\u001b[1;33m\u001b[0m\u001b[1;33m\u001b[0m\u001b[0m\n",
      "\u001b[1;32m<ipython-input-88-760e1ac7c6ca>\u001b[0m in \u001b[0;36mgrad\u001b[1;34m(model, images, labels)\u001b[0m\n\u001b[0;32m      2\u001b[0m     \u001b[1;32mwith\u001b[0m \u001b[0mtf\u001b[0m\u001b[1;33m.\u001b[0m\u001b[0mGradientTape\u001b[0m\u001b[1;33m(\u001b[0m\u001b[1;33m)\u001b[0m \u001b[1;32mas\u001b[0m \u001b[0mtape\u001b[0m\u001b[1;33m:\u001b[0m\u001b[1;33m\u001b[0m\u001b[1;33m\u001b[0m\u001b[0m\n\u001b[0;32m      3\u001b[0m         \u001b[0mloss\u001b[0m \u001b[1;33m=\u001b[0m \u001b[0mloss_fn\u001b[0m\u001b[1;33m(\u001b[0m\u001b[0mmodel\u001b[0m\u001b[1;33m,\u001b[0m \u001b[0mimages\u001b[0m\u001b[1;33m,\u001b[0m \u001b[0mlabels\u001b[0m\u001b[1;33m)\u001b[0m\u001b[1;33m\u001b[0m\u001b[1;33m\u001b[0m\u001b[0m\n\u001b[1;32m----> 4\u001b[1;33m     \u001b[1;32mreturn\u001b[0m \u001b[0mtape\u001b[0m\u001b[1;33m.\u001b[0m\u001b[0mgradient\u001b[0m\u001b[1;33m(\u001b[0m\u001b[0mloss\u001b[0m\u001b[1;33m,\u001b[0m \u001b[0mmodel\u001b[0m\u001b[1;33m.\u001b[0m\u001b[0mvariables\u001b[0m\u001b[1;33m)\u001b[0m\u001b[1;33m\u001b[0m\u001b[1;33m\u001b[0m\u001b[0m\n\u001b[0m",
      "\u001b[1;32m~\\anaconda3\\lib\\site-packages\\tensorflow\\python\\eager\\backprop.py\u001b[0m in \u001b[0;36mgradient\u001b[1;34m(self, target, sources, output_gradients, unconnected_gradients)\u001b[0m\n\u001b[0;32m   1072\u001b[0m                           for x in nest.flatten(output_gradients)]\n\u001b[0;32m   1073\u001b[0m \u001b[1;33m\u001b[0m\u001b[0m\n\u001b[1;32m-> 1074\u001b[1;33m     flat_grad = imperative_grad.imperative_grad(\n\u001b[0m\u001b[0;32m   1075\u001b[0m         \u001b[0mself\u001b[0m\u001b[1;33m.\u001b[0m\u001b[0m_tape\u001b[0m\u001b[1;33m,\u001b[0m\u001b[1;33m\u001b[0m\u001b[1;33m\u001b[0m\u001b[0m\n\u001b[0;32m   1076\u001b[0m         \u001b[0mflat_targets\u001b[0m\u001b[1;33m,\u001b[0m\u001b[1;33m\u001b[0m\u001b[1;33m\u001b[0m\u001b[0m\n",
      "\u001b[1;32m~\\anaconda3\\lib\\site-packages\\tensorflow\\python\\eager\\imperative_grad.py\u001b[0m in \u001b[0;36mimperative_grad\u001b[1;34m(tape, target, sources, output_gradients, sources_raw, unconnected_gradients)\u001b[0m\n\u001b[0;32m     69\u001b[0m         \"Unknown value for unconnected_gradients: %r\" % unconnected_gradients)\n\u001b[0;32m     70\u001b[0m \u001b[1;33m\u001b[0m\u001b[0m\n\u001b[1;32m---> 71\u001b[1;33m   return pywrap_tfe.TFE_Py_TapeGradient(\n\u001b[0m\u001b[0;32m     72\u001b[0m       \u001b[0mtape\u001b[0m\u001b[1;33m.\u001b[0m\u001b[0m_tape\u001b[0m\u001b[1;33m,\u001b[0m  \u001b[1;31m# pylint: disable=protected-access\u001b[0m\u001b[1;33m\u001b[0m\u001b[1;33m\u001b[0m\u001b[0m\n\u001b[0;32m     73\u001b[0m       \u001b[0mtarget\u001b[0m\u001b[1;33m,\u001b[0m\u001b[1;33m\u001b[0m\u001b[1;33m\u001b[0m\u001b[0m\n",
      "\u001b[1;32m~\\anaconda3\\lib\\site-packages\\tensorflow\\python\\eager\\backprop.py\u001b[0m in \u001b[0;36m_gradient_function\u001b[1;34m(op_name, attr_tuple, num_inputs, inputs, outputs, out_grads, skip_input_indices, forward_pass_name_scope)\u001b[0m\n\u001b[0;32m    157\u001b[0m       \u001b[0mgradient_name_scope\u001b[0m \u001b[1;33m+=\u001b[0m \u001b[0mforward_pass_name_scope\u001b[0m \u001b[1;33m+\u001b[0m \u001b[1;34m\"/\"\u001b[0m\u001b[1;33m\u001b[0m\u001b[1;33m\u001b[0m\u001b[0m\n\u001b[0;32m    158\u001b[0m     \u001b[1;32mwith\u001b[0m \u001b[0mops\u001b[0m\u001b[1;33m.\u001b[0m\u001b[0mname_scope\u001b[0m\u001b[1;33m(\u001b[0m\u001b[0mgradient_name_scope\u001b[0m\u001b[1;33m)\u001b[0m\u001b[1;33m:\u001b[0m\u001b[1;33m\u001b[0m\u001b[1;33m\u001b[0m\u001b[0m\n\u001b[1;32m--> 159\u001b[1;33m       \u001b[1;32mreturn\u001b[0m \u001b[0mgrad_fn\u001b[0m\u001b[1;33m(\u001b[0m\u001b[0mmock_op\u001b[0m\u001b[1;33m,\u001b[0m \u001b[1;33m*\u001b[0m\u001b[0mout_grads\u001b[0m\u001b[1;33m)\u001b[0m\u001b[1;33m\u001b[0m\u001b[1;33m\u001b[0m\u001b[0m\n\u001b[0m\u001b[0;32m    160\u001b[0m   \u001b[1;32melse\u001b[0m\u001b[1;33m:\u001b[0m\u001b[1;33m\u001b[0m\u001b[1;33m\u001b[0m\u001b[0m\n\u001b[0;32m    161\u001b[0m     \u001b[1;32mreturn\u001b[0m \u001b[0mgrad_fn\u001b[0m\u001b[1;33m(\u001b[0m\u001b[0mmock_op\u001b[0m\u001b[1;33m,\u001b[0m \u001b[1;33m*\u001b[0m\u001b[0mout_grads\u001b[0m\u001b[1;33m)\u001b[0m\u001b[1;33m\u001b[0m\u001b[1;33m\u001b[0m\u001b[0m\n",
      "\u001b[1;32m~\\anaconda3\\lib\\site-packages\\tensorflow\\python\\ops\\nn_grad.py\u001b[0m in \u001b[0;36m_Conv2DGrad\u001b[1;34m(op, grad)\u001b[0m\n\u001b[0;32m    589\u001b[0m           \u001b[0muse_cudnn_on_gpu\u001b[0m\u001b[1;33m=\u001b[0m\u001b[0muse_cudnn_on_gpu\u001b[0m\u001b[1;33m,\u001b[0m\u001b[1;33m\u001b[0m\u001b[1;33m\u001b[0m\u001b[0m\n\u001b[0;32m    590\u001b[0m           data_format=data_format),\n\u001b[1;32m--> 591\u001b[1;33m       gen_nn_ops.conv2d_backprop_filter(\n\u001b[0m\u001b[0;32m    592\u001b[0m           \u001b[0mop\u001b[0m\u001b[1;33m.\u001b[0m\u001b[0minputs\u001b[0m\u001b[1;33m[\u001b[0m\u001b[1;36m0\u001b[0m\u001b[1;33m]\u001b[0m\u001b[1;33m,\u001b[0m\u001b[1;33m\u001b[0m\u001b[1;33m\u001b[0m\u001b[0m\n\u001b[0;32m    593\u001b[0m           \u001b[0mshape_1\u001b[0m\u001b[1;33m,\u001b[0m\u001b[1;33m\u001b[0m\u001b[1;33m\u001b[0m\u001b[0m\n",
      "\u001b[1;32m~\\anaconda3\\lib\\site-packages\\tensorflow\\python\\ops\\gen_nn_ops.py\u001b[0m in \u001b[0;36mconv2d_backprop_filter\u001b[1;34m(input, filter_sizes, out_backprop, strides, padding, use_cudnn_on_gpu, explicit_paddings, data_format, dilations, name)\u001b[0m\n\u001b[0;32m   1077\u001b[0m   \u001b[1;32mif\u001b[0m \u001b[0mtld\u001b[0m\u001b[1;33m.\u001b[0m\u001b[0mis_eager\u001b[0m\u001b[1;33m:\u001b[0m\u001b[1;33m\u001b[0m\u001b[1;33m\u001b[0m\u001b[0m\n\u001b[0;32m   1078\u001b[0m     \u001b[1;32mtry\u001b[0m\u001b[1;33m:\u001b[0m\u001b[1;33m\u001b[0m\u001b[1;33m\u001b[0m\u001b[0m\n\u001b[1;32m-> 1079\u001b[1;33m       _result = pywrap_tfe.TFE_Py_FastPathExecute(\n\u001b[0m\u001b[0;32m   1080\u001b[0m         \u001b[0m_ctx\u001b[0m\u001b[1;33m,\u001b[0m \u001b[1;34m\"Conv2DBackpropFilter\"\u001b[0m\u001b[1;33m,\u001b[0m \u001b[0mname\u001b[0m\u001b[1;33m,\u001b[0m \u001b[0minput\u001b[0m\u001b[1;33m,\u001b[0m \u001b[0mfilter_sizes\u001b[0m\u001b[1;33m,\u001b[0m \u001b[0mout_backprop\u001b[0m\u001b[1;33m,\u001b[0m\u001b[1;33m\u001b[0m\u001b[1;33m\u001b[0m\u001b[0m\n\u001b[0;32m   1081\u001b[0m         \u001b[1;34m\"strides\"\u001b[0m\u001b[1;33m,\u001b[0m \u001b[0mstrides\u001b[0m\u001b[1;33m,\u001b[0m \u001b[1;34m\"use_cudnn_on_gpu\"\u001b[0m\u001b[1;33m,\u001b[0m \u001b[0muse_cudnn_on_gpu\u001b[0m\u001b[1;33m,\u001b[0m \u001b[1;34m\"padding\"\u001b[0m\u001b[1;33m,\u001b[0m\u001b[1;33m\u001b[0m\u001b[1;33m\u001b[0m\u001b[0m\n",
      "\u001b[1;31mKeyboardInterrupt\u001b[0m: "
     ]
    }
   ],
   "source": [
    "print(\"Learning started!\")\n",
    "for epoch in range(training_epochs):\n",
    "    avg_loss = 0.\n",
    "    avg_train_acc = 0.\n",
    "    avg_test_acc = 0.\n",
    "    train_step = 0\n",
    "    test_step = 0\n",
    "    \n",
    "    for images, labels in train_dataset:\n",
    "        \n",
    "        grads = grad(model, images, labels)                \n",
    "        optimizer.apply_gradients(zip(grads, model.variables))\n",
    "        loss = loss_fn(model, images, labels)\n",
    "        acc = evaluate(model, images, labels)\n",
    "        avg_loss = avg_loss + loss\n",
    "        avg_train_acc = avg_train_acc + acc\n",
    "        train_step += 1\n",
    "    avg_loss = avg_loss / train_step\n",
    "    avg_train_acc = avg_train_acc / train_step\n",
    "    \n",
    "    for images, labels in test_dataset:        \n",
    "        acc = evaluate(model, images, labels)        \n",
    "        avg_test_acc = avg_test_acc + acc\n",
    "        test_step += 1    \n",
    "    avg_test_acc = avg_test_acc / test_step    \n",
    "\n",
    "    print('Epoch:', '{}'.format(epoch + 1), 'loss =', '{:.8f}'.format(avg_loss), \n",
    "          'train accuracy = ', '{:.4f}'.format(avg_train_acc), \n",
    "          'test accuracy = ', '{:.4f}'.format(avg_test_acc))\n",
    "    \n",
    "\n",
    "print('Learning Finished!')"
   ]
  },
  {
   "cell_type": "markdown",
   "id": "e09b0e95",
   "metadata": {},
   "source": [
    "마찬가지로, 컴퓨터 성능 문제로 1에포크의 학습만을 진행합니다. "
   ]
  },
  {
   "cell_type": "markdown",
   "id": "ab6e3f49",
   "metadata": {},
   "source": [
    "# Tensorflow의 tf.keras.Model 을 subclassing하여 모형 구현하기"
   ]
  },
  {
   "cell_type": "markdown",
   "id": "b6e8a97d",
   "metadata": {},
   "source": [
    "* subclassing이란 상속받은 class의 일부 내용을 수정하여 조금 더 사용자에 맞는 사용법을 적용해 사용하는것을 말합니다. \n",
    "* 기본적으로 Functional API의 사용법과 유사하지만, 조금 더 class의 기능을 활용하는 버전입니다. \n",
    "* class를 통한 코딩은 코드의 재사용성을 높여 효율적인 코딩을 가능케 합니다. \n",
    "* 특히, 여러개의 모형을 인스턴스로서 동시에 생성하고 학습시키는데 용이합니다. \n",
    "* 따라서, 추후 앙상블 기법에서의 활용도가 높습니다.  \n",
    "  \n",
    "  (코드는 이전과 동일하게 모형을 구현하는 부분에서만 변형이 이루어집니다.)"
   ]
  },
  {
   "cell_type": "markdown",
   "id": "0d5f2d42",
   "metadata": {},
   "source": [
    "## 필요 라이브러리 호출 "
   ]
  },
  {
   "cell_type": "code",
   "execution_count": 3,
   "id": "e78f0f0a",
   "metadata": {},
   "outputs": [],
   "source": [
    "import tensorflow as tf\n",
    "from tensorflow import keras\n",
    "from tensorflow.keras.utils import to_categorical\n",
    "import numpy as np\n",
    "import matplotlib.pyplot as plt\n",
    "import os"
   ]
  },
  {
   "cell_type": "markdown",
   "id": "2fa5c2ce",
   "metadata": {},
   "source": [
    "## 하이퍼 파라미터 설정 "
   ]
  },
  {
   "cell_type": "code",
   "execution_count": 4,
   "id": "a6e1f686",
   "metadata": {},
   "outputs": [],
   "source": [
    "learning_rate = 0.001\n",
    "training_epochs = 15\n",
    "batch_size = 100\n",
    "\n",
    "tf.random.set_seed(777)"
   ]
  },
  {
   "cell_type": "markdown",
   "id": "9e258e8b",
   "metadata": {},
   "source": [
    "## 체크포인트 디랙터리 생성 "
   ]
  },
  {
   "cell_type": "code",
   "execution_count": 5,
   "id": "8e29e5f0",
   "metadata": {},
   "outputs": [],
   "source": [
    "# cur_dir = os.getcwd()\n",
    "# ckpt_dir_name = 'checkpoints'\n",
    "# model_dir_name = 'minst_cnn_subclass'\n",
    "\n",
    "# checkpoint_dir = os.path.join(cur_dir, ckpt_dir_name, model_dir_name)\n",
    "# os.makedirs(checkpoint_dir, exist_ok=True)\n",
    "\n",
    "# checkpoint_prefix = os.path.join(checkpoint_dir, model_dir_name)"
   ]
  },
  {
   "cell_type": "markdown",
   "id": "a6f7afd6",
   "metadata": {},
   "source": [
    "## Mnist Data 객체 설정 "
   ]
  },
  {
   "cell_type": "code",
   "execution_count": 6,
   "id": "8f4188b5",
   "metadata": {},
   "outputs": [],
   "source": [
    "mnist = keras.datasets.mnist\n",
    "class_names = ['0', '1', '2', '3', '4', '5', '6', '7', '8', '9']"
   ]
  },
  {
   "cell_type": "markdown",
   "id": "54881b01",
   "metadata": {},
   "source": [
    "## 데이터 로드 및 사전처리"
   ]
  },
  {
   "cell_type": "code",
   "execution_count": 7,
   "id": "3fd1e9cb",
   "metadata": {},
   "outputs": [],
   "source": [
    "(train_images, train_labels), (test_images, test_labels) = mnist.load_data()   "
   ]
  },
  {
   "cell_type": "code",
   "execution_count": 8,
   "id": "b1cbd8b9",
   "metadata": {},
   "outputs": [],
   "source": [
    "train_images = train_images.astype(np.float32) / 255.\n",
    "test_images = test_images.astype(np.float32) / 255."
   ]
  },
  {
   "cell_type": "code",
   "execution_count": 9,
   "id": "20214e8d",
   "metadata": {},
   "outputs": [],
   "source": [
    "train_images = np.expand_dims(train_images, axis=-1)\n",
    "test_images = np.expand_dims(test_images, axis=-1)"
   ]
  },
  {
   "cell_type": "code",
   "execution_count": 10,
   "id": "274a0a6c",
   "metadata": {},
   "outputs": [],
   "source": [
    "train_labels = to_categorical(train_labels, 10)\n",
    "test_labels = to_categorical(test_labels, 10)    "
   ]
  },
  {
   "cell_type": "code",
   "execution_count": 11,
   "id": "9c3e6a24",
   "metadata": {},
   "outputs": [],
   "source": [
    "# 데이터 파이프라이닝 \n",
    "train_dataset = tf.data.Dataset.from_tensor_slices((train_images, train_labels)).shuffle(\n",
    "                buffer_size=100000).batch(batch_size)\n",
    "test_dataset = tf.data.Dataset.from_tensor_slices((test_images, test_labels)).batch(batch_size)"
   ]
  },
  {
   "cell_type": "markdown",
   "id": "ec93409d",
   "metadata": {},
   "source": [
    "## Model Class 생성 "
   ]
  },
  {
   "cell_type": "markdown",
   "id": "3118459a",
   "metadata": {},
   "source": [
    "* **tf.keras.Model**을 상속받아 사용할 class를 선언합니다. \n",
    "* 모형의 customize 작업은 **\\_\\_init__** 메소드와 **call**메소드를 이용해 진행합니다.  \n",
    "    - \\_\\_init__ : 클레스 인스턴스의 attribute로 각 모형 계층에 대한 정보를 생성합니다. \n",
    "    - call : init매소드에서 생성한 attribute에 각각의 입력과 출력을 연결하여 모형을 생성하고 return합니다. "
   ]
  },
  {
   "cell_type": "code",
   "execution_count": 12,
   "id": "5f17f346",
   "metadata": {},
   "outputs": [],
   "source": [
    "class MNISTModel(tf.keras.Model):\n",
    "    def __init__(self):\n",
    "        # 부모 클레스의 init을 수행해 초기화를 진행합니다. \n",
    "        super(MNISTModel, self).__init__()\n",
    "        # 각 층의 모듈을 attribute(속성)으로서 선언합니다. \n",
    "        self.conv1 = keras.layers.Conv2D(filters=32, kernel_size=[3, 3], padding='SAME', activation=tf.nn.relu)\n",
    "        self.pool1 = keras.layers.MaxPool2D(padding='SAME')\n",
    "        self.conv2 = keras.layers.Conv2D(filters=64, kernel_size=[3, 3], padding='SAME', activation=tf.nn.relu)\n",
    "        self.pool2 = keras.layers.MaxPool2D(padding='SAME')\n",
    "        self.conv3 = keras.layers.Conv2D(filters=128, kernel_size=[3, 3], padding='SAME', activation=tf.nn.relu)\n",
    "        self.pool3 = keras.layers.MaxPool2D(padding='SAME')\n",
    "        self.pool3_flat = keras.layers.Flatten()\n",
    "        self.dense4 = keras.layers.Dense(units=256, activation=tf.nn.relu)\n",
    "        self.drop4 = keras.layers.Dropout(rate=0.4)\n",
    "        self.dense5 = keras.layers.Dense(units=10)\n",
    "        \n",
    "    # init에서 선언한 모듈들에 관계를 추가해 모형을 연결하고 return합니다.\n",
    "    def call(self, inputs, training=False):\n",
    "        net = self.conv1(inputs)\n",
    "        net = self.pool1(net)\n",
    "        net = self.conv2(net)\n",
    "        net = self.pool2(net)\n",
    "        net = self.conv3(net)\n",
    "        net = self.pool3(net)\n",
    "        net = self.pool3_flat(net)\n",
    "        net = self.dense4(net)\n",
    "        net = self.drop4(net)\n",
    "        net = self.dense5(net)\n",
    "        return net\n",
    "    "
   ]
  },
  {
   "cell_type": "code",
   "execution_count": 13,
   "id": "d2498f9d",
   "metadata": {},
   "outputs": [
    {
     "name": "stdout",
     "output_type": "stream",
     "text": [
      "Model: \"mnist_model\"\n",
      "_________________________________________________________________\n",
      "Layer (type)                 Output Shape              Param #   \n",
      "=================================================================\n",
      "conv2d (Conv2D)              multiple                  320       \n",
      "_________________________________________________________________\n",
      "max_pooling2d (MaxPooling2D) multiple                  0         \n",
      "_________________________________________________________________\n",
      "conv2d_1 (Conv2D)            multiple                  18496     \n",
      "_________________________________________________________________\n",
      "max_pooling2d_1 (MaxPooling2 multiple                  0         \n",
      "_________________________________________________________________\n",
      "conv2d_2 (Conv2D)            multiple                  73856     \n",
      "_________________________________________________________________\n",
      "max_pooling2d_2 (MaxPooling2 multiple                  0         \n",
      "_________________________________________________________________\n",
      "flatten (Flatten)            multiple                  0         \n",
      "_________________________________________________________________\n",
      "dense (Dense)                multiple                  524544    \n",
      "_________________________________________________________________\n",
      "dropout (Dropout)            multiple                  0         \n",
      "_________________________________________________________________\n",
      "dense_1 (Dense)              multiple                  2570      \n",
      "=================================================================\n",
      "Total params: 619,786\n",
      "Trainable params: 619,786\n",
      "Non-trainable params: 0\n",
      "_________________________________________________________________\n"
     ]
    }
   ],
   "source": [
    "model = MNISTModel()\n",
    "# class내부에서 다루기 어려운 input은 class 외부에서 생성후 \n",
    "temp_inputs = keras.Input(shape=(28, 28, 1))\n",
    "# 모형의 입력으로 넣어 줍니다. \n",
    "model(temp_inputs)\n",
    "model.summary()"
   ]
  },
  {
   "cell_type": "markdown",
   "id": "a0313eaf",
   "metadata": {},
   "source": [
    "## Loss 함수 정의 "
   ]
  },
  {
   "cell_type": "code",
   "execution_count": 14,
   "id": "96b4a656",
   "metadata": {},
   "outputs": [],
   "source": [
    "def loss_fn(model, images, labels):\n",
    "    logits = model(images, training=True)\n",
    "    loss = tf.reduce_mean(tf.keras.losses.categorical_crossentropy(\n",
    "        y_pred=logits, y_true=labels, from_logits=True))     \n",
    "    return loss"
   ]
  },
  {
   "cell_type": "markdown",
   "id": "69b28ab2",
   "metadata": {},
   "source": [
    "## 기울기 추적함수 정의 "
   ]
  },
  {
   "cell_type": "code",
   "execution_count": 15,
   "id": "ec78b46f",
   "metadata": {},
   "outputs": [],
   "source": [
    "def grad(model, images, labels):\n",
    "    with tf.GradientTape() as tape:\n",
    "        loss = loss_fn(model, images, labels)\n",
    "    return tape.gradient(loss, model.variables)"
   ]
  },
  {
   "cell_type": "markdown",
   "id": "44592689",
   "metadata": {},
   "source": [
    "## 성능평가 함수 "
   ]
  },
  {
   "cell_type": "code",
   "execution_count": 16,
   "id": "687b7eac",
   "metadata": {},
   "outputs": [],
   "source": [
    "def evaluate(model, images, labels):\n",
    "    logits = model(images, training=False)\n",
    "    correct_prediction = tf.equal(tf.argmax(logits, 1), tf.argmax(labels, 1))\n",
    "    accuracy = tf.reduce_mean(tf.cast(correct_prediction, tf.float32))\n",
    "    return accuracy"
   ]
  },
  {
   "cell_type": "markdown",
   "id": "8c175cf6",
   "metadata": {},
   "source": [
    "## 옵티마이져"
   ]
  },
  {
   "cell_type": "code",
   "execution_count": 17,
   "id": "a1b02ea3",
   "metadata": {},
   "outputs": [],
   "source": [
    "optimizer = tf.keras.optimizers.Adam(learning_rate=learning_rate)"
   ]
  },
  {
   "cell_type": "markdown",
   "id": "a9d5f53f",
   "metadata": {},
   "source": [
    "## 체크포인트 생성"
   ]
  },
  {
   "cell_type": "code",
   "execution_count": 18,
   "id": "7699ea9e",
   "metadata": {},
   "outputs": [],
   "source": [
    "# checkpoint = tf.train.Checkpoint(cnn=model)"
   ]
  },
  {
   "cell_type": "markdown",
   "id": "b190c0cc",
   "metadata": {},
   "source": [
    "## 학습 진행 "
   ]
  },
  {
   "cell_type": "code",
   "execution_count": 19,
   "id": "7901a7f3",
   "metadata": {},
   "outputs": [],
   "source": [
    "def train(model, images, labels):\n",
    "    grads = grad(model, images, labels)\n",
    "    optimizer.apply_gradients(zip(grads, model.trainable_variables))"
   ]
  },
  {
   "cell_type": "code",
   "execution_count": 20,
   "id": "f2b91195",
   "metadata": {},
   "outputs": [
    {
     "name": "stdout",
     "output_type": "stream",
     "text": [
      "Learning started. It takes sometime.\n",
      "Epoch: 1 loss = 0.17215252 train accuracy =  0.9593 test accuracy =  0.9848\n",
      "Epoch: 2 loss = 0.04417919 train accuracy =  0.9902 test accuracy =  0.9908\n",
      "Epoch: 3 loss = 0.03134910 train accuracy =  0.9932 test accuracy =  0.9920\n",
      "Epoch: 4 loss = 0.02307508 train accuracy =  0.9955 test accuracy =  0.9909\n",
      "Epoch: 5 loss = 0.01844095 train accuracy =  0.9963 test accuracy =  0.9907\n",
      "Epoch: 6 loss = 0.01552584 train accuracy =  0.9972 test accuracy =  0.9906\n",
      "Epoch: 7 loss = 0.01153636 train accuracy =  0.9979 test accuracy =  0.9940\n",
      "Epoch: 8 loss = 0.01032829 train accuracy =  0.9985 test accuracy =  0.9912\n",
      "Epoch: 9 loss = 0.00957207 train accuracy =  0.9989 test accuracy =  0.9910\n",
      "Epoch: 10 loss = 0.00884316 train accuracy =  0.9989 test accuracy =  0.9931\n",
      "Epoch: 11 loss = 0.00649182 train accuracy =  0.9993 test accuracy =  0.9929\n",
      "Epoch: 12 loss = 0.00610387 train accuracy =  0.9994 test accuracy =  0.9937\n",
      "Epoch: 13 loss = 0.00659746 train accuracy =  0.9992 test accuracy =  0.9926\n",
      "Epoch: 14 loss = 0.00625264 train accuracy =  0.9992 test accuracy =  0.9923\n",
      "Epoch: 15 loss = 0.00588144 train accuracy =  0.9994 test accuracy =  0.9923\n",
      "Learning Finished!\n"
     ]
    }
   ],
   "source": [
    "# train my model\n",
    "print('Learning started. It takes sometime.')\n",
    "for epoch in range(training_epochs):\n",
    "    avg_loss = 0.\n",
    "    avg_train_acc = 0.\n",
    "    avg_test_acc = 0.\n",
    "    train_step = 0\n",
    "    test_step = 0\n",
    "    \n",
    "    for images, labels in train_dataset:\n",
    "        train(model, images, labels)\n",
    "        #grads = grad(model, images, labels)                \n",
    "        #optimizer.apply_gradients(zip(grads, model.variables))\n",
    "        loss = loss_fn(model, images, labels)\n",
    "        acc = evaluate(model, images, labels)\n",
    "        avg_loss = avg_loss + loss\n",
    "        avg_train_acc = avg_train_acc + acc\n",
    "        train_step += 1\n",
    "    avg_loss = avg_loss / train_step\n",
    "    avg_train_acc = avg_train_acc / train_step\n",
    "    \n",
    "    for images, labels in test_dataset:        \n",
    "        acc = evaluate(model, images, labels)        \n",
    "        avg_test_acc = avg_test_acc + acc\n",
    "        test_step += 1    \n",
    "    avg_test_acc = avg_test_acc / test_step    \n",
    "\n",
    "    print('Epoch:', '{}'.format(epoch + 1), 'loss =', '{:.8f}'.format(avg_loss), \n",
    "          'train accuracy = ', '{:.4f}'.format(avg_train_acc), \n",
    "          'test accuracy = ', '{:.4f}'.format(avg_test_acc))\n",
    "    \n",
    "#     checkpoint.save(file_prefix=checkpoint_prefix)\n",
    "\n",
    "print('Learning Finished!')"
   ]
  },
  {
   "cell_type": "markdown",
   "id": "a1105c04",
   "metadata": {},
   "source": [
    "# CNN with ensemble \n",
    "\n",
    "![cnnensemble.png](https://i.ytimg.com/vi/c62uTWdhhMw/maxresdefault.jpg)\n",
    "* 해당 방법에서는 class를 통해 모형의 구조를 생성하고, 동일한 구조를 갖는 3개의 다른 모형을 이용해 진행합니다. \n",
    "* 각각의 모형에 대한 학습을 독립적으로 수행하고, 최종적인 결과로는 각각의 예측 로짓값을 더해서 최종값을 도출하는 방법을 사용합니다. "
   ]
  },
  {
   "cell_type": "markdown",
   "id": "a23cf735",
   "metadata": {},
   "source": [
    "## 라이브러리 호출 "
   ]
  },
  {
   "cell_type": "code",
   "execution_count": 21,
   "id": "6c431ae3",
   "metadata": {},
   "outputs": [],
   "source": [
    "import tensorflow as tf \n",
    "from tensorflow import  keras \n",
    "\n",
    "from tensorflow.keras.utils import to_categorical \n",
    "import numpy as np \n",
    "\n",
    "import matplotlib.pyplot as plt \n",
    "import os "
   ]
  },
  {
   "cell_type": "markdown",
   "id": "f1917baf",
   "metadata": {},
   "source": [
    "## Hyper Parameter 설정 "
   ]
  },
  {
   "cell_type": "code",
   "execution_count": 22,
   "id": "7631e89d",
   "metadata": {},
   "outputs": [],
   "source": [
    "learning_rate = 0.001 \n",
    "# training_epochs = 15\n",
    "training_epochs = 5\n",
    "batch_size = 100 \n",
    "\n",
    "tf.random.set_seed(777)"
   ]
  },
  {
   "cell_type": "markdown",
   "id": "39b5b383",
   "metadata": {},
   "source": [
    "## 체크포인트 디렉토리 생성 "
   ]
  },
  {
   "cell_type": "code",
   "execution_count": 23,
   "id": "ea5e4915",
   "metadata": {},
   "outputs": [],
   "source": [
    "# # 현재 디렉토리 \n",
    "# current_directory = os.getcwd()\n",
    "# # 모형 하위 디렉토리 이름 및 체크포인트 이름 설정 \n",
    "# checkpoint_name = 'checkpoints'\n",
    "# model_dir_name = 'mnist_cnn_ensemble'\n",
    "\n",
    "# # 실제 경로 명 생성 \n",
    "# checkpoint_dir = os.path.join(current_directory, ckpt_dir_name, model_dir_name)\n",
    "\n",
    "# # 해당 경로에 파일 생성 \n",
    "# os.makedirs(checkpoint_dir, exist_ok=True)\n",
    "\n",
    "# checkpoint_prefix = os.path.join(checkpoint_dir, model_dir_name)"
   ]
  },
  {
   "cell_type": "markdown",
   "id": "c08571e5",
   "metadata": {},
   "source": [
    "## 데이터 객체 "
   ]
  },
  {
   "cell_type": "code",
   "execution_count": 24,
   "id": "427e2c81",
   "metadata": {},
   "outputs": [],
   "source": [
    "## MNIST Dataset \n",
    "mnist = keras.datasets.mnist\n",
    "class_names = ['0', '1', '2', '3', '4', '5', '6', '7', '8', '9']"
   ]
  },
  {
   "cell_type": "markdown",
   "id": "a6d82c11",
   "metadata": {},
   "source": [
    "## 데이터 셋 정제 (동일)"
   ]
  },
  {
   "cell_type": "code",
   "execution_count": 25,
   "id": "cc5e54fe",
   "metadata": {},
   "outputs": [],
   "source": [
    "(train_images, train_labels), (test_images, test_labels) = mnist.load_data()    \n",
    "    \n",
    "train_images = train_images.astype(np.float32) / 255.\n",
    "test_images = test_images.astype(np.float32) / 255.\n",
    "train_images = np.expand_dims(train_images, axis=-1)\n",
    "test_images = np.expand_dims(test_images, axis=-1)\n",
    "    \n",
    "train_labels = to_categorical(train_labels, 10)\n",
    "test_labels = to_categorical(test_labels, 10)    \n",
    "    \n",
    "train_dataset = tf.data.Dataset.from_tensor_slices((train_images, train_labels)).shuffle(\n",
    "                buffer_size=100000).batch(batch_size)\n",
    "test_dataset = tf.data.Dataset.from_tensor_slices((test_images, test_labels)).batch(batch_size)"
   ]
  },
  {
   "cell_type": "markdown",
   "id": "3f2d8caa",
   "metadata": {},
   "source": [
    "## Model class 생성 "
   ]
  },
  {
   "cell_type": "code",
   "execution_count": 26,
   "id": "c2a0d2f0",
   "metadata": {},
   "outputs": [],
   "source": [
    "class MNISTModel(tf.keras.Model):\n",
    "    def __init__(self):\n",
    "        super(MNISTModel, self).__init__()\n",
    "        self.conv1 = keras.layers.Conv2D(filters=32, kernel_size=[3, 3], padding='SAME', activation=tf.nn.relu)\n",
    "        self.pool1 = keras.layers.MaxPool2D(padding='SAME')\n",
    "        self.conv2 = keras.layers.Conv2D(filters=64, kernel_size=[3, 3], padding='SAME', activation=tf.nn.relu)\n",
    "        self.pool2 = keras.layers.MaxPool2D(padding='SAME')\n",
    "        self.conv3 = keras.layers.Conv2D(filters=128, kernel_size=[3, 3], padding='SAME', activation=tf.nn.relu)\n",
    "        self.pool3 = keras.layers.MaxPool2D(padding='SAME')\n",
    "        self.pool3_flat = keras.layers.Flatten()\n",
    "        self.dense4 = keras.layers.Dense(units=256, activation=tf.nn.relu)\n",
    "        self.drop4 = keras.layers.Dropout(rate=0.4)\n",
    "        self.dense5 = keras.layers.Dense(units=10)\n",
    "    def call(self, inputs, training=False):\n",
    "        net = self.conv1(inputs)\n",
    "        net = self.pool1(net)\n",
    "        net = self.conv2(net)\n",
    "        net = self.pool2(net)\n",
    "        net = self.conv3(net)\n",
    "        net = self.pool3(net)\n",
    "        net = self.pool3_flat(net)\n",
    "        net = self.dense4(net)\n",
    "        net = self.drop4(net)\n",
    "        net = self.dense5(net)\n",
    "        return net"
   ]
  },
  {
   "cell_type": "markdown",
   "id": "2ade674b",
   "metadata": {},
   "source": [
    "### 변경! : 반복문을 통한 여러 모형 생성 "
   ]
  },
  {
   "cell_type": "code",
   "execution_count": 27,
   "id": "5578452c",
   "metadata": {},
   "outputs": [],
   "source": [
    "models = []\n",
    "num_models = 3\n",
    "for m in range(num_models):\n",
    "    models.append(MNISTModel())"
   ]
  },
  {
   "cell_type": "markdown",
   "id": "fdcfb5a3",
   "metadata": {},
   "source": [
    "## 손실함수(동일)"
   ]
  },
  {
   "cell_type": "code",
   "execution_count": 28,
   "id": "307b5b01",
   "metadata": {},
   "outputs": [],
   "source": [
    "def loss_fn(model, images, labels):\n",
    "    logits = model(images, training=True)\n",
    "    loss = tf.reduce_mean(tf.keras.losses.categorical_crossentropy(\n",
    "        y_pred=logits, y_true=labels, from_logits=True))\n",
    "    return loss"
   ]
  },
  {
   "cell_type": "markdown",
   "id": "bb9b3862",
   "metadata": {},
   "source": [
    "## 기울기 함수(동일) \n",
    "+ 각 모형에 각각 적용하기 때문에 동일한 형태 입니다. "
   ]
  },
  {
   "cell_type": "code",
   "execution_count": 29,
   "id": "0ef10b43",
   "metadata": {},
   "outputs": [],
   "source": [
    "def grad(model, images, labels):\n",
    "    with tf.GradientTape() as tape:\n",
    "        loss = loss_fn(model, images, labels)\n",
    "    return tape.gradient(loss, model.variables)"
   ]
  },
  {
   "cell_type": "markdown",
   "id": "b942d377",
   "metadata": {},
   "source": [
    "## 변경! : Accuracy함수\n",
    "* 각 모형의 로짓값을 모두 더해 하나의 로짓 텐서를 구성후 가장 큰 값을 고르는 방식입니다."
   ]
  },
  {
   "cell_type": "code",
   "execution_count": 30,
   "id": "e5afa4e7",
   "metadata": {},
   "outputs": [],
   "source": [
    "def evaluate(models, images, labels):\n",
    "    # label텐서와 같은 크기의 0으로 초기화된 텐서 생성 \n",
    "    predictions = np.zeros_like(labels)\n",
    "    # 각 모형을 돌며, prediction의 각 자리에 로짓값을 더해줌\n",
    "    for model in models:\n",
    "        logits = model(images, training=False)\n",
    "        predictions += logits\n",
    "    correct_prediction = tf.equal(tf.argmax(predictions, 1), tf.argmax(labels, 1))\n",
    "    accuracy = tf.reduce_mean(tf.cast(correct_prediction, tf.float32))\n",
    "    return accuracy"
   ]
  },
  {
   "cell_type": "markdown",
   "id": "f7b4bbf0",
   "metadata": {},
   "source": [
    "## 옵티마이저(동일) "
   ]
  },
  {
   "cell_type": "code",
   "execution_count": 31,
   "id": "f794bb8f",
   "metadata": {},
   "outputs": [],
   "source": [
    "optimizer = tf.keras.optimizers.Adam(learning_rate=learning_rate)"
   ]
  },
  {
   "cell_type": "markdown",
   "id": "e89c7029",
   "metadata": {},
   "source": [
    "## 체크포인트 생성(변경) \n",
    "* 각각의 모형에 대해 초기화 합니다. "
   ]
  },
  {
   "cell_type": "code",
   "execution_count": 32,
   "id": "94b5f007",
   "metadata": {},
   "outputs": [],
   "source": [
    "# checkpoints = []\n",
    "# for m in range(num_models):\n",
    "#     checkpoints.append(tf.train.Checkpoint(cnn=models[m]))"
   ]
  },
  {
   "cell_type": "markdown",
   "id": "aca7f416",
   "metadata": {},
   "source": [
    "## 학습 진행! "
   ]
  },
  {
   "cell_type": "code",
   "execution_count": 33,
   "id": "7d2eabca",
   "metadata": {},
   "outputs": [
    {
     "name": "stdout",
     "output_type": "stream",
     "text": [
      "Learning started. It takes sometime.\n",
      "Epoch: 1 loss = 0.16167782 train accuracy =  0.9655 test accuracy =  0.9906\n",
      "Epoch: 2 loss = 0.04036815 train accuracy =  0.9928 test accuracy =  0.9940\n",
      "Epoch: 3 loss = 0.02656560 train accuracy =  0.9957 test accuracy =  0.9934\n",
      "Epoch: 4 loss = 0.01988383 train accuracy =  0.9970 test accuracy =  0.9939\n",
      "Epoch: 5 loss = 0.01603344 train accuracy =  0.9983 test accuracy =  0.9941\n",
      "Learning Finished!\n"
     ]
    }
   ],
   "source": [
    "# train my model\n",
    "print('Learning started. It takes sometime.')\n",
    "for epoch in range(training_epochs):\n",
    "    avg_loss = 0.\n",
    "    avg_train_acc = 0.\n",
    "    avg_test_acc = 0.\n",
    "    train_step = 0\n",
    "    test_step = 0    \n",
    "    \n",
    "    for images, labels in train_dataset:\n",
    "        for model in models:\n",
    "            grads = grad(model, images, labels)                \n",
    "            optimizer.apply_gradients(zip(grads, model.variables))\n",
    "            loss = loss_fn(model, images, labels)\n",
    "            avg_loss += loss / num_models\n",
    "        acc = evaluate(models, images, labels)\n",
    "        avg_train_acc += acc\n",
    "        train_step += 1\n",
    "    avg_loss = avg_loss / train_step\n",
    "    avg_train_acc = avg_train_acc / train_step\n",
    "    \n",
    "    for images, labels in test_dataset:        \n",
    "        acc = evaluate(models, images, labels)        \n",
    "        avg_test_acc += acc\n",
    "        test_step += 1    \n",
    "    avg_test_acc = avg_test_acc / test_step    \n",
    "\n",
    "    print('Epoch:', '{}'.format(epoch + 1), 'loss =', '{:.8f}'.format(avg_loss), \n",
    "          'train accuracy = ', '{:.4f}'.format(avg_train_acc), \n",
    "          'test accuracy = ', '{:.4f}'.format(avg_test_acc))\n",
    "    \n",
    "    \n",
    "#     for idx, checkpoint in enumerate(checkpoints):\n",
    "#         checkpoint.save(file_prefix=checkpoint_prefix+'-{}'.format(idx))\n",
    "\n",
    "print('Learning Finished!')"
   ]
  },
  {
   "cell_type": "markdown",
   "id": "bf3c75df",
   "metadata": {},
   "source": [
    "에포크를 5회 실시하였음에도 불구하고, 높은 성능을 보임을 알 수 있습니다. "
   ]
  },
  {
   "cell_type": "markdown",
   "id": "0b001f89",
   "metadata": {},
   "source": [
    "# Master Piece of CNN "
   ]
  },
  {
   "cell_type": "markdown",
   "id": "6725c7a3",
   "metadata": {},
   "source": [
    "* 지금까지 학습한 여러가지 성능 향상 방법을 모두 활용하여 모형을 구현합니다. \n",
    "* 해당 모형에서 적용할 방법은 총 4가지 입니다. \n",
    "    - Data Augmentation : 이미지 데이터를 증가시키기 위해 이미지를 일부 변형하여 새로운 데이터를 생성합니다.   \n",
    "    \n",
    "    - Batch_Normalization :\n",
    "        * Batch nornalization은 각 layer에서 다음 층으로 출력되는 값을 중심성향을 기준으로 한정시킴으로써, 데이터의 분포를 안정적으로 만드는 방식입니다. \n",
    "        * 해당 변환 방식은 아래와 같습니다. \n",
    "            1. n-1번째 layer에서 출력되는 값 X에 대해 표준화를 각각 적용합니다. \n",
    "$$\\bar{x} = \\frac{x-\\mu_{Batch}}{\\sqrt{\\sigma_{Batch}^{2}+\\epsilon}}$$  \n",
    "            2. 각각의 출력에 가중치와 편향을 적용해 값을 전달합니다. \n",
    "$$\\hat{x} = \\gamma\\bar{x} + \\beta$$  \n",
    "    - Model ensemble \n",
    "    - Learning rate Decay : \n",
    "        + 해당 방안을 고안하는데 사용되는 방법으로는 크게 세가지가 있습니다.\n",
    "\n",
    "            1. Steping decay : 특정 반복횟수마다(or 특정 validation loss에서) 값을 변경시킵니다.\n",
    "            2. Exponentialdecay : a = a_0 x e^(kt), 즉 매 횟수(t)에 비례하여 지수승으로 값을 감소시킵니다. (k는 지정하는 상수)\n",
    "            3. 1/t decay : a = a_0/(1+kt)"
   ]
  },
  {
   "cell_type": "markdown",
   "id": "62e2c5ac",
   "metadata": {},
   "source": [
    "## 라이브러리 로드 \n",
    "* image augmentation을 도와줄 scipy클레스의 ndimage를 추가적으로 불러옵니다. "
   ]
  },
  {
   "cell_type": "code",
   "execution_count": 53,
   "id": "c2abda9e",
   "metadata": {},
   "outputs": [],
   "source": [
    "import tensorflow as tf \n",
    "from tensorflow import  keras \n",
    "from tensorflow.keras.utils import to_categorical \n",
    "import numpy as np \n",
    "import matplotlib.pyplot as plt \n",
    "import os\n",
    "\n",
    "# 이미지 회전 및 이동을 도와줄 우리친구~ \n",
    "from scipy import ndimage"
   ]
  },
  {
   "cell_type": "markdown",
   "id": "f5f424d6",
   "metadata": {},
   "source": [
    "## 하이퍼 파라미터 설정(동일) "
   ]
  },
  {
   "cell_type": "code",
   "execution_count": 54,
   "id": "e722c7b2",
   "metadata": {},
   "outputs": [],
   "source": [
    "learning_rate = 0.001 \n",
    "# training_epochs = 15 \n",
    "training_epochs = 3 \n",
    "batch_size = 100 "
   ]
  },
  {
   "cell_type": "code",
   "execution_count": 55,
   "id": "284e609c",
   "metadata": {},
   "outputs": [],
   "source": [
    "# cur_dir = os.getcwd()\n",
    "# ckpt_dir_name = 'checkpoints'\n",
    "# model_dir_name = 'minst_cnn_best'\n",
    "\n",
    "# checkpoint_dir = os.path.join(cur_dir, ckpt_dir_name, model_dir_name)\n",
    "# os.makedirs(checkpoint_dir, exist_ok=True)\n",
    "\n",
    "# checkpoint_prefix = os.path.join(checkpoint_dir, model_dir_name)"
   ]
  },
  {
   "cell_type": "markdown",
   "id": "31fab8be",
   "metadata": {},
   "source": [
    "## 데이터 객체 "
   ]
  },
  {
   "cell_type": "code",
   "execution_count": 56,
   "id": "af8523c5",
   "metadata": {},
   "outputs": [],
   "source": [
    "mnist = keras.datasets.mnist\n",
    "class_names = ['0', '1', '2', '3', '4', '5', '6', '7', '8', '9']"
   ]
  },
  {
   "cell_type": "markdown",
   "id": "b768b40e",
   "metadata": {},
   "source": [
    "## 중요!! : Data Augmentation 함수 구현 \n",
    "* 이미지 data augmentation이란 원본이미지에 적절한 변형(상하좌우 이동, 약간의 회전, 기울이기, 확대축소 ..)을 적용해 이미지의 갯수를 증대시키는 방법을 말합니다. \n",
    "* 이미지 데이터의 확보는 모형의 성능과 과적합의 방지와 밀접한 관계를 갖기 때문에 중요합니다. \n",
    "![귀여운고양이.png](https://nanonets.com/blog/content/images/2018/11/1_C8hNiOqur4OJyEZmC7OnzQ.png)\n"
   ]
  },
  {
   "cell_type": "code",
   "execution_count": 57,
   "id": "cf5b9819",
   "metadata": {},
   "outputs": [],
   "source": [
    "# 원본 이미지와 레이블을 만들어 4번의 반복을 통해 5배의 데이터를 생성합니다. \n",
    "def data_augmentation(images, labels):\n",
    "    # 원본 포함 새로운 이미지를 담을 배열 \n",
    "    aug_images = [] \n",
    "    aug_labels = [] \n",
    "    \n",
    "    # 각 이미지와 레이블 쌍을 한번씩 돌아가면서 \n",
    "    for x,y in zip(images, labels):\n",
    "        # 원본 이미지와 레이블 먼저 담기 \n",
    "        aug_images.append(x)\n",
    "        aug_labels.append(y)\n",
    "        \n",
    "        # 배경값 설정(색상값) --> 이후 이미지 변형을 진행한 후 각 이미지의 빈 공간을 채워줄 것입니다. \n",
    "        bg_value = np.median(x)\n",
    "        \n",
    "        # 이제 반복문을 4번 돌며 이미지를 생성후 추가 합니다. \n",
    "        # 회전을 시키고 -> 회전한 이미지를 상하좌우로 조정 -> 새로운 이미지 \n",
    "        for _ in range(4):\n",
    "            # 우선 이미지를 회전할 각도를 랜덤으로 1개 고릅니다. \n",
    "            angle = np.random.randint(-15,15,1)\n",
    "            # 회전을 적용 \n",
    "            rot_img = ndimage.rotate(x, angle[0], reshape=False, cval=bg_value)\n",
    "            \n",
    "            # 회전한 이미지를 대상으로 shift를 수행합니다. \n",
    "            # 두개의 랜덤 값을 받아(좌우, 상하) -> 인자로 함께 전달 \n",
    "            shift = np.random.randint(-2, 2, 2)\n",
    "            shift_img = ndimage.shift(rot_img, shift, cval=bg_value)\n",
    "            \n",
    "            # 값을 추가 후 \n",
    "            aug_images.append(shift_img)\n",
    "            aug_labels.append(y)\n",
    "            \n",
    "    # 변환후 리턴해줍니다.     \n",
    "    aug_images = np.array(aug_images)\n",
    "    aug_labels = np.array(aug_labels)\n",
    "    \n",
    "    return aug_images, aug_labels"
   ]
  },
  {
   "cell_type": "markdown",
   "id": "cef2ffd6",
   "metadata": {},
   "source": [
    "* ndimage.rotate(x, angle[0], reshape=False, cval=bg_value)\n",
    "    - (대상 이미지, 회전각. 원본수정여부. 빈 배경색 지정)\n",
    "* ndimage.shift(rot_img, shift, cval=bg_value)\n",
    "    - (대상 이미지, 이동값, 배경색 지정)"
   ]
  },
  {
   "cell_type": "markdown",
   "id": "143def30",
   "metadata": {},
   "source": [
    "## 데이터셋 설정 :: 중요!! - augment함수 즉각 적용 "
   ]
  },
  {
   "cell_type": "code",
   "execution_count": 58,
   "id": "a5debfce",
   "metadata": {},
   "outputs": [],
   "source": [
    "(train_images, train_labels), (test_images, test_labels) = mnist.load_data()\n",
    "\n",
    "## 중요!! \n",
    "train_images, train_labels = data_augmentation(train_images, train_labels)\n",
    "    \n",
    "train_images = train_images.astype(np.float32) / 255.\n",
    "test_images = test_images.astype(np.float32) / 255.\n",
    "train_images = np.expand_dims(train_images, axis=-1)\n",
    "test_images = np.expand_dims(test_images, axis=-1)\n",
    "    \n",
    "train_labels = to_categorical(train_labels, 10)\n",
    "test_labels = to_categorical(test_labels, 10)    \n",
    "    \n",
    "train_dataset = tf.data.Dataset.from_tensor_slices((train_images, train_labels)).shuffle(\n",
    "                buffer_size=500000).batch(batch_size)\n",
    "test_dataset = tf.data.Dataset.from_tensor_slices((test_images, test_labels)).batch(batch_size)"
   ]
  },
  {
   "cell_type": "markdown",
   "id": "dda1d55c",
   "metadata": {},
   "source": [
    "## 중요!! : Model class 생성 \n",
    "* batch normalization을 적용한 convolution layer와 Dense Relu layer는 별도의 클레스로 선언하고, 전체모형에서 인스턴스로서 불러와 모형을 구성합니다. \n",
    "* Batch Normalization과 관련된 학습 내용은 Basic of ML 노트북에 상세히 정리해 두었습니다. "
   ]
  },
  {
   "cell_type": "code",
   "execution_count": 59,
   "id": "491e33a4",
   "metadata": {},
   "outputs": [],
   "source": [
    "class ConvBNRelu(tf.keras.Model):\n",
    "    def __init__(self, filters, kernel_size=3, strides=1, padding='SAME'):\n",
    "        super(ConvBNRelu, self).__init__()\n",
    "        self.conv = keras.layers.Conv2D(filters=filters, kernel_size=kernel_size, strides=strides, \n",
    "                                        padding=padding, kernel_initializer='glorot_normal')\n",
    "        self.batchnorm = tf.keras.layers.BatchNormalization()\n",
    "    def call(self, inputs, training=False):\n",
    "        layer = self.conv(inputs)\n",
    "        layer = self.batchnorm(layer)\n",
    "        layer = tf.nn.relu(layer)\n",
    "        return layer"
   ]
  },
  {
   "cell_type": "code",
   "execution_count": 60,
   "id": "27ec6aaa",
   "metadata": {},
   "outputs": [],
   "source": [
    "class DenseBNRelu(tf.keras.Model):\n",
    "    def __init__(self, units):\n",
    "        super(DenseBNRelu, self).__init__()\n",
    "        self.dense = keras.layers.Dense(units=units, kernel_initializer='glorot_normal')\n",
    "        self.batchnorm = tf.keras.layers.BatchNormalization()\n",
    "    def call(self, inputs, training=False):\n",
    "        layer = self.dense(inputs)\n",
    "        layer = self.batchnorm(layer)\n",
    "        layer = tf.nn.relu(layer)\n",
    "        return layer"
   ]
  },
  {
   "cell_type": "code",
   "execution_count": 61,
   "id": "fa5456c3",
   "metadata": {},
   "outputs": [],
   "source": [
    "class MNISTModel(tf.keras.Model):\n",
    "    def __init__(self):\n",
    "        super(MNISTModel, self).__init__()\n",
    "        self.conv1 = ConvBNRelu(filters=32, kernel_size=[3, 3], padding='SAME')        \n",
    "        self.pool1 = keras.layers.MaxPool2D(padding='SAME')\n",
    "        self.conv2 = ConvBNRelu(filters=64, kernel_size=[3, 3], padding='SAME')\n",
    "        self.pool2 = keras.layers.MaxPool2D(padding='SAME')\n",
    "        self.conv3 = ConvBNRelu(filters=128, kernel_size=[3, 3], padding='SAME')\n",
    "        self.pool3 = keras.layers.MaxPool2D(padding='SAME')\n",
    "        self.pool3_flat = keras.layers.Flatten()\n",
    "        self.dense4 = DenseBNRelu(units=256)\n",
    "        self.drop4 = keras.layers.Dropout(rate=0.4)\n",
    "        self.dense5 = keras.layers.Dense(units=10, kernel_initializer='glorot_normal')\n",
    "    def call(self, inputs, training=False):\n",
    "        net = self.conv1(inputs)        \n",
    "        net = self.pool1(net)\n",
    "        net = self.conv2(net)\n",
    "        net = self.pool2(net)\n",
    "        net = self.conv3(net)\n",
    "        net = self.pool3(net)\n",
    "        net = self.pool3_flat(net)\n",
    "        net = self.dense4(net)\n",
    "        net = self.drop4(net)\n",
    "        net = self.dense5(net)"
   ]
  },
  {
   "cell_type": "code",
   "execution_count": 62,
   "id": "49fa1ca2",
   "metadata": {},
   "outputs": [],
   "source": [
    "models = []\n",
    "num_models = 5\n",
    "for m in range(num_models):\n",
    "    models.append(MNISTModel())"
   ]
  },
  {
   "cell_type": "markdown",
   "id": "da0c9423",
   "metadata": {},
   "source": [
    "## 손실함수 생성(동일)"
   ]
  },
  {
   "cell_type": "code",
   "execution_count": 63,
   "id": "a8d6f063",
   "metadata": {},
   "outputs": [],
   "source": [
    "def loss_fn(model, images, labels):\n",
    "    logits = model(images, training=True)\n",
    "    loss = tf.reduce_mean(tf.keras.losses.categorical_crossentropy(\n",
    "        y_pred=logits, y_true=labels, from_logits=True))    \n",
    "    return loss"
   ]
  },
  {
   "cell_type": "markdown",
   "id": "982aec77",
   "metadata": {},
   "source": [
    "## 기울기 추적 함수 "
   ]
  },
  {
   "cell_type": "code",
   "execution_count": 64,
   "id": "1ce89fd4",
   "metadata": {},
   "outputs": [],
   "source": [
    "def grad(model, images, labels):\n",
    "    with tf.GradientTape() as tape:\n",
    "        loss = loss_fn(model, images, labels)\n",
    "    return tape.gradient(loss, model.trainable_variables)"
   ]
  },
  {
   "cell_type": "markdown",
   "id": "0f1dadaa",
   "metadata": {},
   "source": [
    "## 모형 성능평가(앙상블 적용)"
   ]
  },
  {
   "cell_type": "code",
   "execution_count": 65,
   "id": "61756797",
   "metadata": {},
   "outputs": [],
   "source": [
    "def evaluate(models, images, labels):\n",
    "    predictions = np.zeros_like(labels)\n",
    "    for model in models:\n",
    "        logits = model(images, training=False)\n",
    "        predictions += logits\n",
    "    correct_prediction = tf.equal(tf.argmax(predictions, 1), tf.argmax(labels, 1))\n",
    "    accuracy = tf.reduce_mean(tf.cast(correct_prediction, tf.float32))\n",
    "    return accuracy"
   ]
  },
  {
   "cell_type": "markdown",
   "id": "f44648f0",
   "metadata": {},
   "source": [
    "## 옵티마이저 (learning rate decay 적용)"
   ]
  },
  {
   "cell_type": "code",
   "execution_count": 66,
   "id": "3ed415ba",
   "metadata": {},
   "outputs": [],
   "source": [
    "lr_decay = tf.keras.optimizers.schedules.ExponentialDecay(learning_rate,\n",
    "                                                          train_images.shape[0]/batch_size*num_models*5,\n",
    "                                                           0.5, staircase=True)"
   ]
  },
  {
   "cell_type": "code",
   "execution_count": 67,
   "id": "fee1ade6",
   "metadata": {},
   "outputs": [],
   "source": [
    "optimizer = tf.keras.optimizers.Adam(learning_rate=lr_decay)"
   ]
  },
  {
   "cell_type": "markdown",
   "id": "2ff757fc",
   "metadata": {},
   "source": [
    "## 체크포인트 생성"
   ]
  },
  {
   "cell_type": "code",
   "execution_count": 68,
   "id": "2a952749",
   "metadata": {},
   "outputs": [],
   "source": [
    "# checkpoints = []\n",
    "# for m in range(num_models):\n",
    "#     checkpoints.append(tf.train.Checkpoint(cnn=models[m]))"
   ]
  },
  {
   "cell_type": "markdown",
   "id": "adc1ea6a",
   "metadata": {},
   "source": [
    "## 학습 진행 "
   ]
  },
  {
   "cell_type": "code",
   "execution_count": 71,
   "id": "f53e12bc",
   "metadata": {},
   "outputs": [],
   "source": [
    "# # train my model\n",
    "# print('Learning started. It takes sometime.')\n",
    "# for epoch in range(training_epochs):\n",
    "#     avg_loss = 0.\n",
    "#     avg_train_acc = 0.\n",
    "#     avg_test_acc = 0.\n",
    "#     train_step = 0\n",
    "#     test_step = 0        \n",
    "#     for images, labels in train_dataset:\n",
    "#         for model in models:\n",
    "#             grads = grad(model, images, labels)                \n",
    "#             optimizer.apply_gradients(zip(grads, model.trainable_variables))            \n",
    "#             loss = loss_fn(model, images, labels)\n",
    "#             avg_loss += loss / num_models\n",
    "#         acc = evaluate(models, images, labels)\n",
    "#         avg_train_acc += acc\n",
    "#         train_step += 1\n",
    "#     avg_loss = avg_loss / train_step\n",
    "#     avg_train_acc = avg_train_acc / train_step\n",
    "    \n",
    "#     for images, labels in test_dataset:        \n",
    "#         acc = evaluate(models, images, labels)        \n",
    "#         avg_test_acc += acc\n",
    "#         test_step += 1    \n",
    "#     avg_test_acc = avg_test_acc / test_step    \n",
    "\n",
    "#     print('Epoch:', '{}'.format(epoch + 1), 'loss =', '{:.8f}'.format(avg_loss), \n",
    "#           'train accuracy = ', '{:.4f}'.format(avg_train_acc), \n",
    "#           'test accuracy = ', '{:.4f}'.format(avg_test_acc))\n",
    "    \n",
    "    \n",
    "# #     for idx, checkpoint in enumerate(checkpoints):\n",
    "# #         checkpoint.save(file_prefix=checkpoint_prefix+'-{}'.format(idx))\n",
    "\n",
    "# print('Learning Finished!')"
   ]
  },
  {
   "cell_type": "code",
   "execution_count": null,
   "id": "54ba191e",
   "metadata": {},
   "outputs": [],
   "source": []
  }
 ],
 "metadata": {
  "kernelspec": {
   "display_name": "Python 3",
   "language": "python",
   "name": "python3"
  },
  "language_info": {
   "codemirror_mode": {
    "name": "ipython",
    "version": 3
   },
   "file_extension": ".py",
   "mimetype": "text/x-python",
   "name": "python",
   "nbconvert_exporter": "python",
   "pygments_lexer": "ipython3",
   "version": "3.8.8"
  },
  "toc": {
   "base_numbering": 1,
   "nav_menu": {},
   "number_sections": true,
   "sideBar": true,
   "skip_h1_title": false,
   "title_cell": "Table of Contents",
   "title_sidebar": "Contents",
   "toc_cell": false,
   "toc_position": {
    "height": "calc(100% - 180px)",
    "left": "10px",
    "top": "150px",
    "width": "199.774px"
   },
   "toc_section_display": true,
   "toc_window_display": true
  }
 },
 "nbformat": 4,
 "nbformat_minor": 5
}
