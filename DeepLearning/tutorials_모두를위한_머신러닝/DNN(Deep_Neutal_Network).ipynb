{
 "cells": [
  {
   "cell_type": "markdown",
   "id": "d3ce93c5",
   "metadata": {},
   "source": [
    "# Neural Network "
   ]
  },
  {
   "cell_type": "markdown",
   "id": "6ce1ac23",
   "metadata": {},
   "source": [
    "# 학습 내용 "
   ]
  },
  {
   "cell_type": "markdown",
   "id": "07291633",
   "metadata": {},
   "source": [
    "## 신경망이란\n",
    "* Deep Learning이라는 개념은 Neural Network의 또 다른 이름 입니다. \n",
    "* 기본적으로 신경망 모형은 인간의 신경계를 모방하여, 기계가 사람의 사고를 구현할 수 있게 하는것에 목적을 두고 있습니다. "
   ]
  },
  {
   "cell_type": "markdown",
   "id": "f90c8e20",
   "metadata": {},
   "source": [
    "## 퍼셉트론 \n",
    "* 퍼셉트론(perceptron)은 인공신경망의 한 종류로서, 1957년에 코넬 항공 연구소(Cornell Aeronautical Lab)의 프랑크 로젠블라트 (Frank Rosenblatt)에 의해 고안되었다. 이것은 가장 간단한 형태의 피드포워드(Feedforward) 네트워크 - 선형분류기- 로도 볼 수 있다.[위키백과 || 퍼셉트론](https://ko.wikipedia.org/wiki/%ED%8D%BC%EC%85%89%ED%8A%B8%EB%A1%A0)\n",
    "* 다시 말해, 우리가 앞서 살펴보던 하나의 회귀 모델을 퍼셉트론이라고 할 수 있다. \n",
    "* 하나의 퍼셉트론의 구조는 아래와 같이 구성되어 있다. \n",
    "![perceptron1.png](https://t1.daumcdn.net/cfile/tistory/261AC64E56C2D0E724)\n",
    "  이전에 보았던 모습처럼, 각 입력에 대해 각각의 가중치가 곱해져, 선형 방정식이 도출되며, 이 방정식을 일정한 활성화 함수의 입력으로 하여, 결과 값을 도출하는 구조이다.  \n",
    "  하지만, 하나의 퍼셉트론 연산을 통해 구할 수 있는 결과에는 한계가 있었다. 대표적인 예시로는 XOR문제이며, 이를 해결하기 위해 심층 신경망의 개념이 고안되었다."
   ]
  },
  {
   "cell_type": "markdown",
   "id": "4adb861a",
   "metadata": {},
   "source": [
    "## 신경망(Neural Network) \n",
    "* 신경망은 여러개의 퍼셉트론을 순차적으로 연결하여, 하나의 모형으로 사용하는 기법이다. \n",
    "![neuralnetwork1.png](https://dnddnjs.gitbooks.io/rl/content/dqn14.png)\n",
    "* 이전 layer의 결과값이 다음 layer의 입력값으로 이를통한 결과 값이, 다음 층의 입력으로 도입되며, 최종적인 결과값을 도출하는 방식이다. \n",
    "* 위의 그림에서, 각각의 동그라미는 하나의 퍼셉트론을 의미하며, 각각의 퍼셉트론은 서로 다른 가중치W와 편향 b를 갖고 있다.\n",
    "* 신경망의 학습 과정은 순전파(forward propagation)와 역전파(backpropagation)과정을 통해 이루어진다. \n",
    "    - 순전파(forward propagation) : 입력으로 부터, 결과까지 순차적으로 값이 계산되며 이전의 입력의 결과가 다음 layer의 입력으로 전달되는 과정을 의미한다. \n",
    "    - 역전파(backpropagation) : 최종적으로 도출된 예측값과 실제값의 차이를 기반으로 계산된 cost값을 줄이기 위해, 제일 마지막 layer부터 입력 layer까지 순차적으로 가중치를 개선해 나가는 과정을 의미"
   ]
  },
  {
   "cell_type": "markdown",
   "id": "0b00dc78",
   "metadata": {},
   "source": [
    "![NN.png](https://blog.kakaocdn.net/dn/br8TAC/btqCFyHetkC/4aBXyx2wwkgmzlAdrEMi6K/img.png)\n",
    "* 위의 그림은 3개의 퍼셉트론을 연결한 2layer model의 예시이다. 여기서 눈여겨 볼 점은 1layer층의 두개의 퍼셉트론을 하나의 행렬 구조를 통해 나타낼 수 있다는 점이다. (이는 이전에 사용해봤던 Tensorflow의 sequencial 모형에서 Dense(128)이 사실은 하나의 행렬의 구조 안에 128개의 층이 함께 있다는것을 보여주는것 같다."
   ]
  },
  {
   "cell_type": "markdown",
   "id": "aa7fa1c1",
   "metadata": {},
   "source": [
    "## Cost Minimization 과 Backpropagation\n",
    "* 이전에 살펴본 회귀, 분류 모형에서는 기본적으로, 실제값과 예측값의 차이를 통해 비용함수를 정의하고, 이에 학습률을 적용해 가중치를 갱신했습니다. \n",
    ".    \n",
    "* 단순선형 회귀모형에서의 가설함수와 비용함수 \n",
    "$$H(x) = W*x + b$$\n",
    "$$cost(W) = 1/m * \\sum_{i=1}^{m} (H(x_i) -y_i)^2$$\n",
    "(cost함수를 가중치W와 편향 b로 각각 미분하여 값을 갱신) \n",
    ".  \n",
    "* 하지만, 가중치가 수없이 많은 신경망에서는 가중치를 갱신하는것은 매우 복잡한 일입니다. "
   ]
  },
  {
   "cell_type": "markdown",
   "id": "03c43df5",
   "metadata": {},
   "source": [
    "##### Backpropagation\n",
    "![back.png](https://joohyoungblog.files.wordpress.com/2019/05/e18489e185b3e1848fe185b3e18485e185b5e186abe18489e185a3e186ba-2019-05-03-e1848be185a9e18492e185ae-4.57.28-e1556870573600.png?w=600)\n",
    "* 역전파 알고리즘은 신경망 모형에서 가장 흔하게 사용되는 가중치 업데이트 방식입니다. \n",
    "* 예측이나 분류의 결과와 실제값의 차이를 통해 계산된 cost function을 각 노드의 변수로 편미분 하여 이를 최소화 합니다. \n",
    "* 편미분은 chain Rule을 통해 이루어집니다. \n",
    "![chain.png](https://slidetodoc.com/presentation_image/21ed0371295dd3978ced8de2d7082387/image-7.jpg)"
   ]
  },
  {
   "cell_type": "markdown",
   "id": "1702f2a9",
   "metadata": {},
   "source": [
    "# XOR problem \n",
    "* 초기 신경망 이론은 논리 연산에 대한 구현 시도를 목적으로 했습니다.  \n",
    "  처음 기본적인 AND와 OR에 대한 학습은 성공적으로 구현하였으나, XOR 즉, 배타적논리합의 구현은 하나의 퍼셉트론으로 학습시킬 수 없다는 결론을 얻었습니다.   \n",
    "  이는, 추후 다층신경망의 등장으로 해결이 되었습니다."
   ]
  },
  {
   "cell_type": "markdown",
   "id": "cd2d7191",
   "metadata": {},
   "source": [
    "## Logistic Regression을 통한 구현\n",
    "* 초기 하나의 퍼셉트론을 통해 구현을 시도했던 방식을 실시해봅니다. "
   ]
  },
  {
   "cell_type": "markdown",
   "id": "df7f061e",
   "metadata": {},
   "source": [
    "### 분석 환경 설정하기 "
   ]
  },
  {
   "cell_type": "code",
   "execution_count": 1,
   "id": "7e348f44",
   "metadata": {},
   "outputs": [],
   "source": [
    "import numpy as np \n",
    "import matplotlib.pyplot as plt \n",
    "%matplotlib inline \n",
    "\n",
    "import tensorflow as tf \n",
    "tf.random.set_seed(777)"
   ]
  },
  {
   "cell_type": "markdown",
   "id": "62417178",
   "metadata": {},
   "source": [
    "### 데이터셋 준비하기\n",
    "* x_data가 2차원 배열이기에 2차원 공간에 표현하여 x1과 x2를 기준으로 y_data 0과 1로 구분하는 예제입니다\n",
    "* 붉은색과 푸른색으로 0과 1을 표시해 보도록 하겠습니다."
   ]
  },
  {
   "cell_type": "code",
   "execution_count": 2,
   "id": "c34cf8e6",
   "metadata": {},
   "outputs": [
    {
     "data": {
      "image/png": "[encoded data removed]",
      "text/plain": [
       "<Figure size 432x288 with 1 Axes>"
      ]
     },
     "metadata": {
      "needs_background": "light"
     },
     "output_type": "display_data"
    }
   ],
   "source": [
    "x_data = [[0, 0],\n",
    "          [0, 1],\n",
    "          [1, 0],\n",
    "          [1, 1]]\n",
    "y_data = [[0],\n",
    "          [1],\n",
    "          [1],\n",
    "          [0]]\n",
    "\n",
    "plt.scatter(x_data[0][0],x_data[0][1], c='red' , marker='^')\n",
    "plt.scatter(x_data[3][0],x_data[3][1], c='red' , marker='^')\n",
    "plt.scatter(x_data[1][0],x_data[1][1], c='blue' , marker='^')\n",
    "plt.scatter(x_data[2][0],x_data[2][1], c='blue' , marker='^')\n",
    "\n",
    "plt.xlabel(\"x1\")\n",
    "plt.ylabel(\"x2\")\n",
    "plt.show()"
   ]
  },
  {
   "cell_type": "markdown",
   "id": "972a511a",
   "metadata": {},
   "source": [
    "### 데이터를 tensorflow의 모형에 들어갈 수 있는 구조로 변환 "
   ]
  },
  {
   "cell_type": "code",
   "execution_count": 3,
   "id": "a104b18e",
   "metadata": {},
   "outputs": [],
   "source": [
    "dataset = tf.data.Dataset.from_tensor_slices((x_data,y_data)).batch(len(x_data))"
   ]
  },
  {
   "cell_type": "code",
   "execution_count": 4,
   "id": "db34be9c",
   "metadata": {},
   "outputs": [
    {
     "name": "stdout",
     "output_type": "stream",
     "text": [
      "[(<tf.Tensor: shape=(4, 2), dtype=int32, numpy=\n",
      "array([[0, 0],\n",
      "       [0, 1],\n",
      "       [1, 0],\n",
      "       [1, 1]])>, <tf.Tensor: shape=(4, 1), dtype=int32, numpy=\n",
      "array([[0],\n",
      "       [1],\n",
      "       [1],\n",
      "       [0]])>)]\n"
     ]
    }
   ],
   "source": [
    "print(list(dataset))"
   ]
  },
  {
   "cell_type": "markdown",
   "id": "10d0feae",
   "metadata": {},
   "source": [
    "tf.data.Dataset.from_tensor_slices 함수는 tf.data.Dataset 를 생성하는 함수로 입력된 텐서로부터 slices를 생성합니다. 예를 들어 MNIST의 학습데이터 (60000, 28, 28)가 입력되면, 60000개의 slices로 만들고 각각의 slice는 28×28의 이미지 크기를 갖게 됩니다.  \n",
    ".batch()는 데이터 배치의 크기를 괄호안의 숫자의 크기로 지정하는 메소드 입니다.   \n",
    "[텐서플로우 dataset 강좌](https://www.youtube.com/watch?v=b74Y7mpb98o)"
   ]
  },
  {
   "cell_type": "code",
   "execution_count": 5,
   "id": "65b91030",
   "metadata": {},
   "outputs": [],
   "source": [
    "def preprocess_data(features, labels):\n",
    "    features = tf.cast(features, tf.float32)\n",
    "    labels = tf.cast(labels, tf.float32)\n",
    "    return features, labels"
   ]
  },
  {
   "cell_type": "markdown",
   "id": "b692a83e",
   "metadata": {},
   "source": [
    "cast메소드는 인자로 받은 행렬 혹은 텐서의 내부에 있는 각 데이텀들의 자료형을 뒤에 나오는 데이터 형으로 변환하는 메소드입니다. "
   ]
  },
  {
   "cell_type": "markdown",
   "id": "08c34967",
   "metadata": {},
   "source": [
    "### 초기 가중치 설정 "
   ]
  },
  {
   "cell_type": "code",
   "execution_count": 6,
   "id": "ee43cb2d",
   "metadata": {},
   "outputs": [
    {
     "name": "stdout",
     "output_type": "stream",
     "text": [
      "W = [[0.]\n",
      " [0.]], B = [0.]\n"
     ]
    }
   ],
   "source": [
    "W = tf.Variable(tf.zeros((2,1)), name='weight')\n",
    "b = tf.Variable(tf.zeros((1,)), name= 'bias')\n",
    "\n",
    "print(\"W = {}, B = {}\".format(W.numpy(), b.numpy()))"
   ]
  },
  {
   "cell_type": "markdown",
   "id": "3d35e6d7",
   "metadata": {},
   "source": [
    "### 가설함수 정의 : sigmoid 함수를 가설로 선언합니다. \n",
    "\n",
    "* Sigmoid는 아래 그래프와 같이 0과 1의 값만을 리턴합니다 tf.sigmoid(tf.matmul(X, W) + b)와 같습니다\n",
    "$$ \\begin{align} sigmoid(x) & = \\frac{1}{1+e^{-x}} \\\\\\\\\\ \\end{align} $$"
   ]
  },
  {
   "cell_type": "code",
   "execution_count": 7,
   "id": "db026560",
   "metadata": {},
   "outputs": [],
   "source": [
    "def logistic_regression(features):\n",
    "    hypothesis  = tf.divide(1., 1. + tf.exp(tf.matmul(features, W) + b))\n",
    "    return hypothesis"
   ]
  },
  {
   "cell_type": "markdown",
   "id": "f28a866e",
   "metadata": {},
   "source": [
    "### Cost 함수 정의 \n",
    "* 가설을 검증할 cost함수를 정의 합니다. \n",
    "$$ \\begin{align} cost(h(x),y) & = −log(h(x)) & if & y=1 \\\\\\\\\\\n",
    "cost(h(x),y) & = -log(1−h(x)) & if & y=0 \\end{align} $$\n",
    "* 위 두수식을 합치면 아래과 같습니다 \n",
    "$$ \\begin{align} cost(h(x),y) & = −y log(h(x))−(1−y)log(1−h(x)) \\end{align} $$"
   ]
  },
  {
   "cell_type": "code",
   "execution_count": 8,
   "id": "ec0278c2",
   "metadata": {},
   "outputs": [],
   "source": [
    "def loss_fn(hypothesis, features, labels):\n",
    "    cost = -tf.reduce_mean(labels * tf.math.log(logistic_regression(features)) + (1 - labels) * tf.math.log(1 - hypothesis))\n",
    "    return cost\n",
    "\n",
    "optimizer = tf.keras.optimizers.SGD(learning_rate=0.01)"
   ]
  },
  {
   "cell_type": "markdown",
   "id": "f06fa6ec",
   "metadata": {},
   "source": [
    "### accuracy 함수 정의 \n",
    "* 추론한 값은 0.5를 기준(Sigmoid 그래프 참조)로 0과 1의 값을 리턴합니다.\n",
    "* Sigmoid 함수를 통해 예측값이 0.5보다 크면 1을 반환하고 0.5보다 작으면 0으로 반환합니다."
   ]
  },
  {
   "cell_type": "code",
   "execution_count": 9,
   "id": "eaabd14d",
   "metadata": {},
   "outputs": [],
   "source": [
    "def accuracy_fn(hypothesis, labels):\n",
    "    predicted = tf.cast(hypothesis > 0.5, dtype=tf.float32)\n",
    "    accuracy = tf.reduce_mean(tf.cast(tf.equal(predicted, labels), dtype=tf.float32))\n",
    "    return accuracy"
   ]
  },
  {
   "cell_type": "markdown",
   "id": "fecb6e69",
   "metadata": {},
   "source": [
    "### Gradient 값 계산 함수 구현 \n",
    "* GradientTape를 통해 경사값을 계산합니다."
   ]
  },
  {
   "cell_type": "code",
   "execution_count": 10,
   "id": "c2cd6ebe",
   "metadata": {},
   "outputs": [],
   "source": [
    "def grad(hypothesis, features, labels):\n",
    "    with tf.GradientTape() as tape:\n",
    "        loss_value = loss_fn(logistic_regression(features),features,labels)\n",
    "    return tape.gradient(loss_value, [W,b])"
   ]
  },
  {
   "cell_type": "markdown",
   "id": "d5a89330",
   "metadata": {},
   "source": [
    "### 전체 학습 모형 구현 "
   ]
  },
  {
   "cell_type": "code",
   "execution_count": 11,
   "id": "0d708c64",
   "metadata": {},
   "outputs": [
    {
     "name": "stdout",
     "output_type": "stream",
     "text": [
      "Iter: 0, Loss: 0.6931\n",
      "Iter: 100, Loss: 0.6931\n",
      "Iter: 200, Loss: 0.6931\n",
      "Iter: 300, Loss: 0.6931\n",
      "Iter: 400, Loss: 0.6931\n",
      "Iter: 500, Loss: 0.6931\n",
      "Iter: 600, Loss: 0.6931\n",
      "Iter: 700, Loss: 0.6931\n",
      "Iter: 800, Loss: 0.6931\n",
      "Iter: 900, Loss: 0.6931\n",
      "Iter: 1000, Loss: 0.6931\n",
      "W = [[0.]\n",
      " [0.]], B = [0.]\n",
      "Testset Accuracy: 0.5000\n"
     ]
    }
   ],
   "source": [
    "EPOCHS = 1001\n",
    "\n",
    "for step in range(EPOCHS):\n",
    "    for features, labels  in dataset:\n",
    "        features, labels = preprocess_data(features, labels)\n",
    "        grads = grad(logistic_regression(features), features, labels)\n",
    "        optimizer.apply_gradients(grads_and_vars=zip(grads,[W,b]))\n",
    "        if step % 100 == 0:\n",
    "            print(\"Iter: {}, Loss: {:.4f}\".format(step, loss_fn(logistic_regression(features),features,labels)))\n",
    "print(\"W = {}, B = {}\".format(W.numpy(), b.numpy()))\n",
    "x_data, y_data = preprocess_data(x_data, y_data)\n",
    "test_acc = accuracy_fn(logistic_regression(x_data),y_data)\n",
    "print(\"Testset Accuracy: {:.4f}\".format(test_acc))"
   ]
  },
  {
   "cell_type": "markdown",
   "id": "48247c42",
   "metadata": {},
   "source": [
    "Loss가 반복에도 감소하지 않음을 볼 수 있으며, 정확도가 언제나 최대 0.5임을 확인 할 수 있습니다."
   ]
  },
  {
   "cell_type": "markdown",
   "id": "af1e5f03",
   "metadata": {},
   "source": [
    "## NN을 통한 구현 \n",
    "![nn.png](https://encrypted-tbn0.gstatic.com/images?q=tbn:ANd9GcRkaOBvADbVev4lzQmoQ1LiaSW0gxccHY1iiA&usqp=CAU)\n",
    "* 위의 그림과 같이 총 3개의 퍼셉트론으로 구성된 모형을 만듭니다. "
   ]
  },
  {
   "cell_type": "markdown",
   "id": "c37b89eb",
   "metadata": {},
   "source": [
    "### 분석환경 설정하기"
   ]
  },
  {
   "cell_type": "code",
   "execution_count": 12,
   "id": "626c30d8",
   "metadata": {},
   "outputs": [],
   "source": [
    "import numpy as np\n",
    "import matplotlib.pyplot as plt\n",
    "%matplotlib inline\n",
    "import tensorflow as tf\n",
    "\n",
    "tf.random.set_seed(1)  # for reproducibility"
   ]
  },
  {
   "cell_type": "markdown",
   "id": "782385e2",
   "metadata": {},
   "source": [
    "### 데이터셋 준비하기 "
   ]
  },
  {
   "cell_type": "code",
   "execution_count": 13,
   "id": "b1f17176",
   "metadata": {},
   "outputs": [
    {
     "data": {
      "image/png": "[encoded data removed]",
      "text/plain": [
       "<Figure size 432x288 with 1 Axes>"
      ]
     },
     "metadata": {
      "needs_background": "light"
     },
     "output_type": "display_data"
    }
   ],
   "source": [
    "x_data = [[0, 0],\n",
    "          [0, 1],\n",
    "          [1, 0],\n",
    "          [1, 1]]\n",
    "y_data = [[0],\n",
    "          [1],\n",
    "          [1],\n",
    "          [0]]\n",
    "\n",
    "plt.scatter(x_data[0][0],x_data[0][1], c='red' , marker='^')\n",
    "plt.scatter(x_data[3][0],x_data[3][1], c='red' , marker='^')\n",
    "plt.scatter(x_data[1][0],x_data[1][1], c='blue' , marker='^')\n",
    "plt.scatter(x_data[2][0],x_data[2][1], c='blue' , marker='^')\n",
    "\n",
    "plt.xlabel(\"x1\")\n",
    "plt.ylabel(\"x2\")\n",
    "plt.show()"
   ]
  },
  {
   "cell_type": "markdown",
   "id": "9e4c26b5",
   "metadata": {},
   "source": [
    "### 데이터를 tensorflow의 모형에 들어갈 수 있는 구조로 변환 "
   ]
  },
  {
   "cell_type": "code",
   "execution_count": 14,
   "id": "933f69c0",
   "metadata": {},
   "outputs": [],
   "source": [
    "dataset = tf.data.Dataset.from_tensor_slices((x_data, y_data)).batch(len(x_data))\n",
    "\n",
    "def preprocess_data(features, labels):\n",
    "    features = tf.cast(features, tf.float32)\n",
    "    labels = tf.cast(labels, tf.float32)\n",
    "    return features, labels"
   ]
  },
  {
   "cell_type": "markdown",
   "id": "9d440146",
   "metadata": {},
   "source": [
    "### 초기 가중치 설정 \n",
    "* 3개의 퍼셉트론 각각에 가중치와 편향값을 전달합니다. "
   ]
  },
  {
   "cell_type": "code",
   "execution_count": 15,
   "id": "4656c95e",
   "metadata": {},
   "outputs": [],
   "source": [
    "# layer 1 -1 \n",
    "W1 = tf.Variable(tf.random.normal((2, 1)), name='weight1')\n",
    "b1 = tf.Variable(tf.random.normal((1,)), name='bias1')\n",
    "# layer 1 - 2\n",
    "W2 = tf.Variable(tf.random.normal((2, 1)), name='weight2')\n",
    "b2 = tf.Variable(tf.random.normal((1,)), name='bias2')\n",
    "\n",
    "# layer 2\n",
    "W3 = tf.Variable(tf.random.normal((2, 1)), name='weight3')\n",
    "b3 = tf.Variable(tf.random.normal((1,)), name='bias3')"
   ]
  },
  {
   "cell_type": "markdown",
   "id": "1335fc66",
   "metadata": {},
   "source": [
    "### 모형 구성 및 학습 "
   ]
  },
  {
   "cell_type": "code",
   "execution_count": 16,
   "id": "1292bf04",
   "metadata": {},
   "outputs": [],
   "source": [
    "# 신경망 모형을 구현하는 함수 - concat과 reshape 이후 모습에 대해 보다 자세히 살펴보자 \n",
    "def neural_net(features):\n",
    "    layer1 = tf.sigmoid(tf.matmul(features, W1) + b1)\n",
    "    layer2 = tf.sigmoid(tf.matmul(features, W2) + b2)\n",
    "    layer3 = tf.concat([layer1, layer2],-1)\n",
    "    layer3 = tf.reshape(layer3, shape = [-1,2])\n",
    "    hypothesis = tf.sigmoid(tf.matmul(layer3, W3) + b3)\n",
    "    return hypothesis\n",
    "\n"
   ]
  },
  {
   "cell_type": "code",
   "execution_count": 17,
   "id": "5310c198",
   "metadata": {},
   "outputs": [],
   "source": [
    "# # 위 함수의 결과를 직관적으로 이해하기 위한 확인작업입니다! \n",
    "\n",
    "# layer1 = tf.sigmoid(tf.matmul(features, W1) + b1)\n",
    "# print(layer1) # 시그모이드를 거친 값은 각각의 자리의 확률값을 갖기 때문에 총 4행1열 \n",
    "\n",
    "# layer2 = tf.sigmoid(tf.matmul(features, W2) + b2)\n",
    "# print(layer2)\n",
    "\n",
    "# layer3 = tf.concat([layer1, layer2],-1)\n",
    "# print(layer3)\n",
    "# # tf.concat은 두 텐서를 연결 짓는 함수로서, 뒤에 따라오는 옵션에 따라, 붙이는 방법이 달라집니다. \n",
    "# # 텐서의 구조가 (가장큰차원, 행, 열) 구조라면 \n",
    "# # (0 or -3)은 가장 큰 차원을 기준으로 합치며 \n",
    "# # (1 or -2)는 행을 기준으로 \n",
    "# # (2 or -1)은 열을 기준으로 데이터를 통합합니다. \n",
    "\n",
    "# layer3 = tf.reshape(layer3, shape = [-1,2])\n",
    "# print(layer3)"
   ]
  },
  {
   "cell_type": "markdown",
   "id": "313758ee",
   "metadata": {},
   "source": [
    "[tf.concat 설명](https://supermemi.tistory.com/11)"
   ]
  },
  {
   "cell_type": "code",
   "execution_count": 18,
   "id": "9d1c5a6c",
   "metadata": {},
   "outputs": [],
   "source": [
    "# 비용함수 정의\n",
    "# 가설함수를 통해 도출된 값과 실제 레이블의 차이를 통해 값을 도출합니다. \n",
    "def loss_fn(hypothesis, labels):\n",
    "    cost = -tf.reduce_mean(labels * tf.math.log(hypothesis) + (1 - labels) * tf.math.log(1 - hypothesis))\n",
    "    return cost"
   ]
  },
  {
   "cell_type": "code",
   "execution_count": 19,
   "id": "ae183dca",
   "metadata": {},
   "outputs": [],
   "source": [
    "# 도출된 비용의 기울기를 반영하는 옵티마이져 선언 \n",
    "optimizer = tf.keras.optimizers.SGD(learning_rate=0.01)"
   ]
  },
  {
   "cell_type": "code",
   "execution_count": 20,
   "id": "881663a6",
   "metadata": {},
   "outputs": [],
   "source": [
    "def accuracy_fn(hypothesis, labels):\n",
    "    predicted = tf.cast(hypothesis > 0.5, dtype=tf.float32)\n",
    "    accuracy = tf.reduce_mean(tf.cast(tf.equal(predicted, labels), dtype=tf.float32))\n",
    "    return accuracy"
   ]
  },
  {
   "cell_type": "code",
   "execution_count": 21,
   "id": "17e34fe7",
   "metadata": {},
   "outputs": [],
   "source": [
    "def grad(hypothesis, features, labels):\n",
    "    with tf.GradientTape() as tape:\n",
    "        loss_value = loss_fn(neural_net(features),labels)\n",
    "    return tape.gradient(loss_value, [W1, W2, W3, b1, b2, b3])"
   ]
  },
  {
   "cell_type": "code",
   "execution_count": 22,
   "id": "7cfe706d",
   "metadata": {},
   "outputs": [
    {
     "name": "stdout",
     "output_type": "stream",
     "text": [
      "Iter: 0, Loss: 0.7217\n",
      "Iter: 5000, Loss: 0.6913\n",
      "Iter: 10000, Loss: 0.6871\n",
      "Iter: 15000, Loss: 0.6819\n",
      "Iter: 20000, Loss: 0.6723\n",
      "Iter: 25000, Loss: 0.6551\n",
      "Testset Accuracy: 0.7500\n"
     ]
    }
   ],
   "source": [
    "# EPOCHS = 50000\n",
    "EPOCHS = 30000\n",
    "\n",
    "# 전체 데이터를 epochs 만큼 돌려줍니다. 한번의 epoeh에 데이터 전체가 반복적으로 입력됩니다. \n",
    "for step in range(EPOCHS):\n",
    "    for features, labels  in dataset:\n",
    "        # 위에서 선언한 함수를 이용해 데이터의 자료형을 변환합니다. \n",
    "        features, labels = preprocess_data(features, labels)\n",
    "        grads = grad(neural_net(features), features, labels)\n",
    "        optimizer.apply_gradients(grads_and_vars=zip(grads,[W1, W2, W3, b1, b2, b3]))\n",
    "        if step % 5000 == 0:\n",
    "            print(\"Iter: {}, Loss: {:.4f}\".format(step, loss_fn(neural_net(features),labels)))\n",
    "x_data, y_data = preprocess_data(x_data, y_data)\n",
    "test_acc = accuracy_fn(neural_net(x_data),y_data)\n",
    "print(\"Testset Accuracy: {:.4f}\".format(test_acc))"
   ]
  },
  {
   "cell_type": "code",
   "execution_count": 23,
   "id": "eafe31c8",
   "metadata": {},
   "outputs": [],
   "source": [
    "# for features, labels in dataset:\n",
    "#     print('features: ' ,features,'labels: ' ,labels)"
   ]
  },
  {
   "cell_type": "code",
   "execution_count": 24,
   "id": "b8815e06",
   "metadata": {},
   "outputs": [
    {
     "name": "stdout",
     "output_type": "stream",
     "text": [
      "2.5.0\n"
     ]
    }
   ],
   "source": [
    "print(tf.__version__)"
   ]
  },
  {
   "cell_type": "markdown",
   "id": "92407c60",
   "metadata": {},
   "source": [
    "# Relu 활성함수"
   ]
  },
  {
   "cell_type": "markdown",
   "id": "7108aa03",
   "metadata": {},
   "source": [
    "* 기본적으로 신경망 모형은 실제값과 예측값의 차이를 통해 Cost의 값을 구하고,  \n",
    "  이를 미분한 Gradient값을 모형의 끝부터 가장 앞까지의 가중치에 반영하는  \n",
    "  **Backpropagation** 과정을 거쳐 학습을 진행합니다. \n",
    "  \n",
    "* 하지만, softmax 혹은 sigmoid함수를 이용할 경우 신경망의 깊이가 깊어질 수록  앞부분에 전달되는 gradient의 값이 0에 가까워져 학습이 불가능한 **기울기 손실 문제 (Vanishing Gradient)** 가 발생하기도 합니다. \n",
    "  \n",
    "  이는 sigmoid함수의 미분값의 특성에 의한 문제이며, 이를 해소하기 위해 Relu함수 뿐만 아닌 다양한 활성 함수를 이용하기도 합니다. "
   ]
  },
  {
   "cell_type": "markdown",
   "id": "370b97eb",
   "metadata": {},
   "source": [
    "##### 왜 Relu인가? \n",
    "![sigmoid_d.png](https://miro.medium.com/max/381/1*qPi-T6gffkCHr0NV0iYF3w.png)\n",
    "* 위의 그림은 하나의 sigmoid 함수와 그 미분값의 그래프 입니다. 위에서 보이는 바와 같이, 시그모이드 함수의 양 끝단에서의 미분값은 0에 수렴합니다.  \n",
    "  따라서, 이러한 시그모이드 함수를 이용하는 층이 여러겹으로 쌓일수록, 0에 가까운 값이 많이 곱해지며, 결국 신경망의 앞부분에 전달되는 error term의 값이 0에 가까워 학습이 더이상 진행되지 않습니다. "
   ]
  },
  {
   "cell_type": "markdown",
   "id": "71d91078",
   "metadata": {},
   "source": [
    "##### Relu\n",
    "![relu_d.png](https://blog.kakaocdn.net/dn/bMTr5U/btqEN9yAUyV/TZoRwPulghnYjFxKNiItJK/img.png)\n",
    "* 위의 그림은 Relu함수의 모습을 보여줍니다. 보이는 바와 같이 Relu함수는 0이상의 x에 대해서는 x의 값을 그대로 반환하며, 0이하의 값에서는 0을 반환하는 함수 입니다. \n",
    "* 따라서, 해당 함수의 기울기는 0이상에서는 1, 0이하에서는 0의 기울기를 갖습니다. \n",
    "* 하지만, 이 렐루 함수 또한 0이하인 구간에서는 0의 기울기를 갖기 때문에 이러한 경우에는 vanishing gradient 문제를 해결하지 못합니다. "
   ]
  },
  {
   "cell_type": "markdown",
   "id": "b1970b3c",
   "metadata": {},
   "source": [
    "##### leaky Relu 와 다양한 활성화 함수 \n",
    "![active.png](https://thebook.io/img/080228/122.jpg) \n",
    "* 따라서 최근에는, 이러한 단점을 보완하는 다양한 종류의 활성함수를 사용하기도 합니다. "
   ]
  },
  {
   "cell_type": "markdown",
   "id": "ab704a8c",
   "metadata": {},
   "source": [
    "## sigmoid 활성함수를 이용한 학습 \n",
    "* 숫자에 대한 이미지와 정답에 대한 데이터가 들어있는 minist 데이터를 분류합니다. \n",
    "* 우선 sigmoid 함수의 vanishing gradient problem을 확인해봅니다. "
   ]
  },
  {
   "cell_type": "markdown",
   "id": "b200ed18",
   "metadata": {},
   "source": [
    "### 주요 라이브러리 import "
   ]
  },
  {
   "cell_type": "code",
   "execution_count": 25,
   "id": "af75de4c",
   "metadata": {},
   "outputs": [],
   "source": [
    "import tensorflow as tf \n",
    "import numpy as np \n",
    "\n",
    "# 원핫인코딩을 위한 라이브러리 \n",
    "from tensorflow.keras.utils import to_categorical\n",
    "\n",
    "# 데이터셋을 포함하는 라이브러리 \n",
    "from tensorflow.keras.datasets import mnist\n",
    "\n",
    "from time import time \n",
    "import os "
   ]
  },
  {
   "cell_type": "markdown",
   "id": "c7014eb1",
   "metadata": {},
   "source": [
    "### checkpoint 함수 구현 \n",
    "* 모형이 학습 중, 예기치 못한 일로 학습을 중단했을때, 종료 이전에 각각의 가중치와 loss값을 저장해두는 함수를 구현합니다. "
   ]
  },
  {
   "cell_type": "code",
   "execution_count": 26,
   "id": "84be8a77",
   "metadata": {},
   "outputs": [],
   "source": [
    "# 1. 저장된 값을 불러오는 load함수 \n",
    "def load(model, checkpoint_dir):\n",
    "    print(\" [*] Reading checkpoints...\")\n",
    "\n",
    "    ckpt = tf.train.get_checkpoint_state(checkpoint_dir) # checkpoint_dir에 기존에 학습해둔 모델이 있는지 확인 \n",
    "    if ckpt :\n",
    "        # 기존에 사용하던 모델이 있는 경우 \n",
    "        ckpt_name = os.path.basename(ckpt.model_checkpoint_path)\n",
    "        checkpoint = tf.train.Checkpoint(dnn=model)\n",
    "        checkpoint.restore(save_path=os.path.join(checkpoint_dir, ckpt_name))\n",
    "        counter = int(ckpt_name.split('-')[1])\n",
    "        print(\" [*] Success to read {}\".format(ckpt_name))\n",
    "        return True, counter\n",
    "    else:\n",
    "        print(\" [*] Failed to find a checkpoint\")\n",
    "        return False, 0"
   ]
  },
  {
   "cell_type": "code",
   "execution_count": 27,
   "id": "640b83ce",
   "metadata": {},
   "outputs": [],
   "source": [
    "# 저장할 폴더 경로가 없으면, 해당 폴더를 생성하는 함수 \n",
    "def check_folder(dir):\n",
    "    if not os.path.exists(dir):\n",
    "        os.makedirs(dir)\n",
    "    return dir"
   ]
  },
  {
   "cell_type": "markdown",
   "id": "cde0a6bb",
   "metadata": {},
   "source": [
    "### 데이터 불러오기\n",
    "* 데이터는 tensorflow에서 제공하는 minist 데이터를 이용합니다. \n",
    "* mnist 데이터 설명 \n",
    "    - mnist데이터는 총 8만장의 이미지와 정답값으로 이루어져 있습니다. \n",
    "    - 한장의 이미지는 (28 x 28)의 그리드로 이루어져 있으며, 총 784칸으로 구성되어 있습니다.  \n",
    "    - 한 칸에는 밝기 값을 나타내는 (0~255) 사이의 숫자가 존재합니다.(흑백만 구분)  \n",
    "    ![mnist.png](data:image/jpeg;base64,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)"
   ]
  },
  {
   "cell_type": "markdown",
   "id": "5ea1536c",
   "metadata": {},
   "source": [
    "##### Tensor 구조 기초 \n",
    "![tensor1.png](https://mblogthumb-phinf.pstatic.net/MjAyMDA1MjVfMjQ0/MDAxNTkwMzcxNTgxMjgx.zVM_8O3aWx1DUjeKFx-FRXeHS1KVHWfdSiOBE2--1k4g.6z_U8ssbX1lwelBEqUxjtyutk2y6HSNTvk5a7pTYIWkg.PNG.nabilera1/image.png?type=w800)\n",
    "![tensor2.png](https://lh3.googleusercontent.com/proxy/kNPmmH8eN_V9OOYOFLTYnkLWjI9cdIplM7E03mdZG80bN41eaiU172TYP_YnXPkuBzG2jkbDtUiHsJHqHWZt5Mt9O9yf0i7VQxKxyC8c4g)\n",
    "\n",
    "![channel.png](https://cphinf.pstatic.net/mooc/20210716_235/1626420513368wU8Kt_PNG/mceclip0.png)"
   ]
  },
  {
   "cell_type": "code",
   "execution_count": 28,
   "id": "7115b5ef",
   "metadata": {},
   "outputs": [],
   "source": [
    "def load_mnist():\n",
    "    (train_data, train_labels),(test_data, test_labels) = mnist.load_data()\n",
    "    \n",
    "    # 데이터에 channel에 대한 차원을 추가 합니다. \n",
    "    # 기본적으로  이미지 분류에서는 한칸마다 각각의 rgb값을 담기 위한 (3개의 채널)을 갖지먼, 미니스트의 경우 흑백의 채널 1가지만 갖습니다. \n",
    "    train_data = np.expand_dims(train_data, axis=-1) # [N, 28, 28] -> [N, 28, 28, 1]\n",
    "    test_data = np.expand_dims(test_data, axis=-1) # [N, 28, 28] -> [N, 28, 28, 1]\n",
    "    \n",
    "    # 각각의 값의 범위가 0~255로 매우 크기 때문에 정규화를 진행합니다. \n",
    "    train_data, test_data = normalize(train_data, test_data)\n",
    "    \n",
    "    # 각각의 레이블값을 범주화 시킵니다(원핫인코딩 )\n",
    "    train_labels = to_categorical(train_labels, 10) # [N,] -> [N, 10]\n",
    "    test_labels = to_categorical(test_labels, 10) # [N,] -> [N, 10]\n",
    "    \n",
    "    return train_data, train_labels, test_data, test_labels"
   ]
  },
  {
   "cell_type": "code",
   "execution_count": 29,
   "id": "548dcab9",
   "metadata": {},
   "outputs": [],
   "source": [
    "# 위에서 이용한 정규화 함수를 구현합니다. \n",
    "# 단순히 각각의 자리를 255로 나누어 0~1사의의 값으로 한정지어 줍니다. \n",
    "def normalize(train_data, test_data):\n",
    "    train_data = train_data.astype(np.float32) / 255.0\n",
    "    test_data = test_data.astype(np.float32) / 255.0\n",
    "\n",
    "    return train_data, test_data"
   ]
  },
  {
   "cell_type": "markdown",
   "id": "ee39a1e8",
   "metadata": {},
   "source": [
    "### 수행중 성과 지표 함수 정의 \n",
    "* 비용함수와\n",
    "* accuracy 계산 함수\n",
    "* 기울기 함수를 구현합니다. "
   ]
  },
  {
   "cell_type": "code",
   "execution_count": 30,
   "id": "27f850e5",
   "metadata": {},
   "outputs": [],
   "source": [
    "def loss_fn(model, images, labels):\n",
    "    # 모형에 학습용데이터(images)를 입력하여 예측값을 구합니다. \n",
    "    # 동시에 해당 데이터는 학습에 이용합니다. \n",
    "    logits = model(images, training = True)\n",
    "    \n",
    "    # 도출된 예측 레이블과 실제 레이블을 통해 cross enstropy를 계산합니다.\n",
    "    loss = tf.reduce_mean(tf.keras.losses.categorical_crossentropy(y_pred=logits,\n",
    "                                                                  y_true = labels,\n",
    "                                                                  from_logits = True))\n",
    "    return loss "
   ]
  },
  {
   "cell_type": "markdown",
   "id": "d4500525",
   "metadata": {},
   "source": [
    "* tf.keras.losses.categorical_crossentropy\n",
    "    - categorical 데이터 사이의 크로스엔트로피를 계산해줍니다. \n",
    "    - logit = True는 모델의 출력값이 sigmoid 또는 linear를 거쳐서 확률이 아닌 값이 나오게 된다면, logit=True라고 표현할 수 있습니다.(말 그대로 확률이 아니라 logit) \n",
    "    - 해당 클래스의 범위에서의 확률을 출력한다면, 이를 logit=False라고 표현할 수 있습니다\n",
    "    [상세설명 출처](https://hwiyong.tistory.com/335)"
   ]
  },
  {
   "cell_type": "code",
   "execution_count": 31,
   "id": "3cd81922",
   "metadata": {},
   "outputs": [],
   "source": [
    "# 정확도 함수 구현 \n",
    "def accuracy_fn(model, images, labels):\n",
    "    logits = model(images, training=False) # 검증만을 위해 사용 -> false\n",
    "    prediction = tf.equal(tf.argmax(logits, -1), tf.argmax(labels, -1))\n",
    "    accuracy = tf.reduce_mean(tf.cast(prediction, tf.float32))\n",
    "    return accuracy"
   ]
  },
  {
   "cell_type": "code",
   "execution_count": 32,
   "id": "a22b5dc3",
   "metadata": {},
   "outputs": [],
   "source": [
    "# 기울기를 구해주는 함수 \n",
    "def grad(model, images, labels):\n",
    "    with tf.GradientTape() as tape:\n",
    "        loss = loss_fn(model, images, labels)\n",
    "    return tape.gradient(loss, model.variables) \n",
    "# 각각의 변수에 대한 미분값을 모두 리턴 \n",
    "# model.variable 메소드는 각각의 가중치를 모두 리스트 형태로 반환하는듯 "
   ]
  },
  {
   "cell_type": "markdown",
   "id": "8afaec04",
   "metadata": {},
   "source": [
    "### 모형 구현하기 \n",
    "* 클레스와 함수로 모두 구현이 가능하다. "
   ]
  },
  {
   "cell_type": "code",
   "execution_count": 33,
   "id": "da0cdf7f",
   "metadata": {},
   "outputs": [],
   "source": [
    "# flatten 함수 구현하기 \n",
    "def flatten():\n",
    "    return tf.keras.layers.Flatten()"
   ]
  },
  {
   "cell_type": "code",
   "execution_count": 34,
   "id": "4f5dbf2a",
   "metadata": {},
   "outputs": [],
   "source": [
    "# dense 층 선언\n",
    "def dense(label_dim, weight_init):\n",
    "    return tf.keras.layers.Dense(units=label_dim, use_bias=True, \n",
    "                                 kernel_initializer= weight_init)\n",
    "# units는 출력계층의 수 --> 기본적으로 마지막 레이어를 가정하여 ouyput dimension을 초기값으로 줍니다. \n",
    "# use_bias 는 편향값 b를 포함함을 의미합니다. 4\n",
    "# kernal_initalizer로는 추후 랜덤으로 계수값을 지정하는 함수를 전달합니다. \n"
   ]
  },
  {
   "cell_type": "code",
   "execution_count": 35,
   "id": "fc28ecc2",
   "metadata": {},
   "outputs": [],
   "source": [
    "# 활성함수인 sigmoid 함수 선언 \n",
    "def sigmoid():\n",
    "    return tf.keras.layers.Activation(tf.keras.activations.sigmoid)\n",
    "\n",
    "# 활성 노드층을 정의합니다. 내부의 인자로 sigmoid를 지정합니다/"
   ]
  },
  {
   "cell_type": "markdown",
   "id": "e9f4b308",
   "metadata": {},
   "source": [
    "#### Class를 활용한 구현 "
   ]
  },
  {
   "cell_type": "code",
   "execution_count": 36,
   "id": "1f3d6b28",
   "metadata": {},
   "outputs": [],
   "source": [
    "class create_model_class(tf.keras.Model):\n",
    "    def __init__(self, label_dim):\n",
    "        super(create_model_class, self).__init__()\n",
    "        weight_init = tf.keras.initializers.RandomNormal()\n",
    "\n",
    "        self.model = tf.keras.Sequential()\n",
    "        self.model.add(flatten())\n",
    "\n",
    "        for i in range(2):\n",
    "            self.model.add(dense(256, weight_init))\n",
    "            self.model.add(sigmoid())\n",
    "\n",
    "        self.model.add(dense(label_dim, weight_init))\n",
    "\n",
    "    def call(self, x, training=None, mask=None):\n",
    "        x = self.model(x)\n",
    "\n",
    "        return x"
   ]
  },
  {
   "cell_type": "markdown",
   "id": "e32f8465",
   "metadata": {},
   "source": [
    "class 를 통한 선언은 직관적인 이해가 다소 어려운점이 존재해, 함수 형태의 선언을 다시한번 살펴보겠습니다. "
   ]
  },
  {
   "cell_type": "markdown",
   "id": "da2436fc",
   "metadata": {},
   "source": [
    "#### 함수를 통한 구현"
   ]
  },
  {
   "cell_type": "code",
   "execution_count": 37,
   "id": "45363ea3",
   "metadata": {},
   "outputs": [],
   "source": [
    "def create_model_function(label_dim) :\n",
    "    weight_init = tf.keras.initializers.RandomNormal()\n",
    "\n",
    "    model = tf.keras.Sequential()\n",
    "    # 모형의 입력을 직선형태로 전환해주는 메소드 \n",
    "    model.add(flatten())\n",
    "\n",
    "    for i in range(2) :\n",
    "        model.add(dense(256, weight_init))\n",
    "        model.add(sigmoid())\n",
    "\n",
    "    model.add(dense(label_dim, weight_init))\n",
    "\n",
    "    return model"
   ]
  },
  {
   "cell_type": "markdown",
   "id": "a2211bf9",
   "metadata": {},
   "source": [
    "Dense와 같이 분류를 위한 학습 레이어에서는 1차원 데이터로 바꾸어서 학습이 되어야 한다. 이때 Flatten Layer가 2차원 데이터를 1차원 데이터로 바꾸는 역할을 한다.\n",
    "\n",
    "![flatten.png](https://img1.daumcdn.net/thumb/R1280x0/?scode=mtistory2&fname=https%3A%2F%2Fblog.kakaocdn.net%2Fdn%2Ft1t1z%2FbtqSZxFUCGY%2FCpIqnWBCezGpcqySMOWO50%2Fimg.png)"
   ]
  },
  {
   "cell_type": "markdown",
   "id": "46990b40",
   "metadata": {},
   "source": [
    "### 데이터 불러오기"
   ]
  },
  {
   "cell_type": "code",
   "execution_count": 38,
   "id": "6e10d969",
   "metadata": {},
   "outputs": [],
   "source": [
    "train_x, train_y, test_x, test_y = load_mnist()"
   ]
  },
  {
   "cell_type": "code",
   "execution_count": 39,
   "id": "7d4c27d0",
   "metadata": {},
   "outputs": [
    {
     "name": "stdout",
     "output_type": "stream",
     "text": [
      "(60000, 28, 28, 1)\n",
      "(60000, 10)\n",
      "(10000, 28, 28, 1)\n",
      "(10000, 10)\n"
     ]
    }
   ],
   "source": [
    "print(train_x.shape)\n",
    "print(train_y.shape)\n",
    "\n",
    "print(test_x.shape)\n",
    "print(test_y.shape)"
   ]
  },
  {
   "cell_type": "markdown",
   "id": "31b6d0ef",
   "metadata": {},
   "source": [
    "* 학습용 데이터\n",
    "    - 이미지수 60000개 \n",
    "    - 하나의 이미지 당, 가로 28 세로 28 \n",
    "    - 1칸당 1개의 값 \n",
    "* 평가용 데이터 \n",
    "    - 이미지 수 10000개 \n",
    "    - 나머지 사항은 동일 "
   ]
  },
  {
   "cell_type": "markdown",
   "id": "ee387be5",
   "metadata": {},
   "source": [
    "### 하이퍼 파라미터 정의 "
   ]
  },
  {
   "cell_type": "code",
   "execution_count": 40,
   "id": "c249a05c",
   "metadata": {},
   "outputs": [],
   "source": [
    "# 학습율 \n",
    "learning_rate = 0.001\n",
    "\n",
    "# batch size 정의 \n",
    "# 한번에 6만여건의 데이터를 넣어주면 컴퓨터 메모리에 큰 과부하를 불러옵니다. \n",
    "# 따라서 배치사이즈 만큼의 데이터만을 모델상에 올려줍니다. \n",
    "batch_size = 128\n",
    "\n",
    "# epoch 정하기 \n",
    "# 전체 훈련용 데이터를 모형에 몇번 넣어줄 것인가? \n",
    "training_epochs = 1 \n",
    "# 따라서, 전체 데이터를 128로 나누어 한번에 반복수를 결정합니다. \n",
    "training_iterations = len(train_x)//batch_size\n",
    "\n",
    "# 최종 출력 레이블의 수 \n",
    "label_dim = 10 \n",
    "\n",
    "# ??? \n",
    "train_flag = True"
   ]
  },
  {
   "cell_type": "code",
   "execution_count": 41,
   "id": "47f33981",
   "metadata": {},
   "outputs": [],
   "source": [
    "# 학습을 기록할 파일 경로에 대한 정보 \n",
    "\n",
    "\"\"\" Writer \"\"\"\n",
    "checkpoint_dir = 'checkpoints'\n",
    "logs_dir = 'logs'\n",
    "\n",
    "model_dir = 'nn_softmax'\n",
    "\n",
    "checkpoint_dir = os.path.join(checkpoint_dir, model_dir)\n",
    "check_folder(checkpoint_dir)\n",
    "checkpoint_prefix = os.path.join(checkpoint_dir, model_dir)\n",
    "logs_dir = os.path.join(logs_dir, model_dir)\n"
   ]
  },
  {
   "cell_type": "code",
   "execution_count": 42,
   "id": "2e86436d",
   "metadata": {},
   "outputs": [],
   "source": [
    "# checkpoint_dir = 'checkpoints'\n",
    "# logs_dir = 'logs'\n",
    "\n",
    "# model_dir = 'nn_softmax'\n",
    "\n",
    "# checkpoint_dir = os.path.join(checkpoint_dir, model_dir)\n",
    "# print(checkpoint_dir)\n",
    "\n",
    "# print(check_folder(checkpoint_dir))\n",
    "\n",
    "# checkpoint_prefix = os.path.join(checkpoint_dir, model_dir)\n",
    "# print(checkpoint_prefix)\n",
    "\n",
    "# logs_dir = os.path.join(logs_dir, model_dir)\n",
    "# # print(logs_dir)"
   ]
  },
  {
   "cell_type": "code",
   "execution_count": 43,
   "id": "ecdad4fd",
   "metadata": {},
   "outputs": [],
   "source": [
    "\"\"\" Graph Input using Dataset API \"\"\"\n",
    "train_dataset = tf.data.Dataset.from_tensor_slices((train_x, train_y)).\\\n",
    "    shuffle(buffer_size=100000).\\\n",
    "    prefetch(buffer_size=batch_size).\\\n",
    "    batch(batch_size, drop_remainder=True)\n",
    "\n",
    "test_dataset = tf.data.Dataset.from_tensor_slices((test_x, test_y)).\\\n",
    "    shuffle(buffer_size=100000).\\\n",
    "    prefetch(buffer_size=len(test_x)).\\\n",
    "    batch(len(test_x))"
   ]
  },
  {
   "attachments": {
    "image.png": {
     "image/png": "[encoded data removed]"
    }
   },
   "cell_type": "markdown",
   "id": "34bf39c7",
   "metadata": {},
   "source": [
    "![image.png](attachment:image.png)"
   ]
  },
  {
   "cell_type": "markdown",
   "id": "7952ae31",
   "metadata": {},
   "source": [
    "### 학습 진행하기\n",
    "* 앞서 설정한 Flag 변수가 True이면, 학습 내용을 지속 저장하며 학습을 진행합니다. "
   ]
  },
  {
   "cell_type": "code",
   "execution_count": 44,
   "id": "2669beb3",
   "metadata": {},
   "outputs": [],
   "source": [
    "network = create_model_function(label_dim)"
   ]
  },
  {
   "cell_type": "code",
   "execution_count": 45,
   "id": "aa64a336",
   "metadata": {},
   "outputs": [
    {
     "name": "stdout",
     "output_type": "stream",
     "text": [
      " [*] Reading checkpoints...\n",
      " [*] Success to read nn_softmax-468-1\n",
      " [*] Load SUCCESS\n"
     ]
    }
   ],
   "source": [
    "if train_flag :\n",
    "\n",
    "    checkpoint = tf.train.Checkpoint(dnn=network)\n",
    "\n",
    "    # create writer for tensorboard\n",
    "    summary_writer = tf.summary.create_file_writer(logdir=logs_dir)\n",
    "    start_time = time()\n",
    "\n",
    "    # restore check-point if it exits\n",
    "    could_load, checkpoint_counter = load(network, checkpoint_dir)    \n",
    "\n",
    "    if could_load:\n",
    "        start_epoch = (int)(checkpoint_counter / training_iterations)        \n",
    "        counter = checkpoint_counter        \n",
    "        print(\" [*] Load SUCCESS\")\n",
    "    else:\n",
    "        start_epoch = 0\n",
    "        start_iteration = 0\n",
    "        counter = 0\n",
    "        print(\" [!] Load failed...\")\n",
    "    \n",
    "    # train phase\n",
    "    with summary_writer.as_default():  # for tensorboard\n",
    "        for epoch in range(start_epoch, training_epochs):\n",
    "            for idx, (train_input, train_label) in enumerate(train_dataset):            \n",
    "                grads = grad(network, train_input, train_label)\n",
    "                optimizer.apply_gradients(grads_and_vars=zip(grads, network.variables))\n",
    "\n",
    "                train_loss = loss_fn(network, train_input, train_label)\n",
    "                train_accuracy = accuracy_fn(network, train_input, train_label)\n",
    "                \n",
    "                for test_input, test_label in test_dataset:                \n",
    "                    test_accuracy = accuracy_fn(network, test_input, test_label)\n",
    "\n",
    "                tf.summary.scalar(name='train_loss', data=train_loss, step=counter)\n",
    "                tf.summary.scalar(name='train_accuracy', data=train_accuracy, step=counter)\n",
    "                tf.summary.scalar(name='test_accuracy', data=test_accuracy, step=counter)\n",
    "\n",
    "                print(\n",
    "                    \"Epoch: [%2d] [%5d/%5d] time: %4.4f, train_loss: %.8f, train_accuracy: %.4f, test_Accuracy: %.4f\" \\\n",
    "                    % (epoch, idx, training_iterations, time() - start_time, train_loss, train_accuracy,\n",
    "                       test_accuracy))\n",
    "                counter += 1                \n",
    "        checkpoint.save(file_prefix=checkpoint_prefix + '-{}'.format(counter))\n",
    "        \n",
    "# test phase      \n",
    "else :\n",
    "    _, _ = load(network, checkpoint_dir)\n",
    "    for test_input, test_label in test_dataset:    \n",
    "        test_accuracy = accuracy_fn(network, test_input, test_label)\n",
    "\n",
    "    print(\"test_Accuracy: %.4f\" % (test_accuracy))"
   ]
  },
  {
   "cell_type": "markdown",
   "id": "cf7a28a8",
   "metadata": {},
   "source": [
    "loss 값이 큰 상태에서 더이상 내려가지 않는 현상을 보입니다. "
   ]
  },
  {
   "cell_type": "markdown",
   "id": "89364d23",
   "metadata": {},
   "source": [
    "## Relu 함수를 통한 구현 "
   ]
  },
  {
   "cell_type": "markdown",
   "id": "cc84092f",
   "metadata": {},
   "source": [
    "### 분석환경 구성"
   ]
  },
  {
   "cell_type": "code",
   "execution_count": 46,
   "id": "85519b13",
   "metadata": {},
   "outputs": [],
   "source": [
    "import tensorflow as tf \n",
    "import numpy as np \n",
    "\n",
    "# 비용함수(cross entropy)를 구하기 위한 내장 유틸리티 함수 \n",
    "from tensorflow.keras.utils import to_categorical\n",
    "\n",
    "# 데이터셋 \n",
    "from tensorflow.keras.datasets import mnist \n",
    "\n",
    "# 데이터 중간 저장을 위한 모듈 \n",
    "from time import time \n",
    "# 경로 설정을 위한 모듈 \n",
    "import os"
   ]
  },
  {
   "cell_type": "markdown",
   "id": "36aeb7b2",
   "metadata": {},
   "source": [
    "### checkpoint 함수 "
   ]
  },
  {
   "cell_type": "code",
   "execution_count": 47,
   "id": "fa582752",
   "metadata": {},
   "outputs": [],
   "source": [
    "# 학습이 진행되던 모형이 있으면 불러옵니다. \n",
    "def load(model, checkpoint_dir):\n",
    "    print(\" [*] Reading checkpoints...\")\n",
    "    \n",
    "    ckpt = tf.train.get_checkpoint_state(checkpoint_dir)\n",
    "    # 만약 읽어온 체크포인트가 있다면 \n",
    "    if ckpt:\n",
    "        ckpt_name = os.path.basename(ckpt.model_checkpoint_path)\n",
    "        # 그 안에 있는 모델에 대한 정보를 받아놓고\n",
    "        checkpoint = tf.train.Checkpoint(dnn = model)\n",
    "        # 해당 위치에 있는 정보에 대한 주소를 넘겨줌\n",
    "        checkpoint.restore(save_path=os.path.join(checkpoint_dir, ckpt_name))\n",
    "        counter = int(ckpt_name.split('-')[1])\n",
    "        print(\" [*] Success to read {}\".format(ckpt_name))\n",
    "        return True, counter\n",
    "    else:\n",
    "        print(\" [*] Failed to find a checkpoint\")\n",
    "        return False, 0"
   ]
  },
  {
   "cell_type": "code",
   "execution_count": 48,
   "id": "9c32137d",
   "metadata": {},
   "outputs": [],
   "source": [
    "# 디렉토리가 존재하지 않을때 새로 만드는 함수 \n",
    "def check_folder(dir):\n",
    "    if not os.path.exists(dir):\n",
    "        os.makedirs(dir)\n",
    "    return dir\n"
   ]
  },
  {
   "cell_type": "markdown",
   "id": "8c641814",
   "metadata": {},
   "source": [
    "### 데이터 호출 및 전처리 함수"
   ]
  },
  {
   "cell_type": "code",
   "execution_count": 49,
   "id": "580f241d",
   "metadata": {},
   "outputs": [],
   "source": [
    "def load_mnist():\n",
    "    # 데이터를 받아 옵니다. \n",
    "    (train_data, train_labels), (test_data, test_labels) = mnist.load_data()\n",
    "    \n",
    "    # 데이터에 차원을 넓혀, 채널에 대한 정보를 보여줍니다. \n",
    "    train_data = np.expand_dims(train_data, axis=-1) # -1은 제일 마지막 인덱스를 의미 \n",
    "    test_data = np.expand_dims(test_data, axis=-1)\n",
    "    \n",
    "    # 각각의 데이터를 정규화 하여 0~255 사이의 값을 0~1의 범위로 축소시켜 줍니다. \n",
    "    train_data, test_data = normalize(train_data, test_data)\n",
    "    \n",
    "    # 레이블의 값은 0~ 10까지의 값을 갖습니다. \n",
    "    # 따라서 해당 변수 하나하나를 명목화 시켜줍니다. \n",
    "    train_labels = to_categorical(train_labels,10)\n",
    "    test_labels = to_categorical(test_labels, 10)\n",
    "    \n",
    "    return train_data, train_labels, test_data, test_labels\n",
    "\n",
    "def normalize(train_data, test_data):\n",
    "    train_data = train_data.astype(np.float32)/255.0\n",
    "    test_data = test_data.astype(np.float32)/255.0\n",
    "    \n",
    "    return train_data, test_data"
   ]
  },
  {
   "cell_type": "markdown",
   "id": "22615fb4",
   "metadata": {},
   "source": [
    "### 모델을 구성하는 함수"
   ]
  },
  {
   "cell_type": "code",
   "execution_count": 50,
   "id": "8a2f216c",
   "metadata": {},
   "outputs": [],
   "source": [
    "def flatten() :\n",
    "    return tf.keras.layers.Flatten()\n",
    "\n",
    "def dense(label_dim, weight_init) :\n",
    "    return tf.keras.layers.Dense(units=label_dim, use_bias=True, kernel_initializer=weight_init)\n",
    "\n",
    "def relu() :\n",
    "    return tf.keras.layers.Activation(tf.keras.activations.relu)"
   ]
  },
  {
   "cell_type": "markdown",
   "id": "152959fd",
   "metadata": {},
   "source": [
    "### class ver. 모델 생성 "
   ]
  },
  {
   "cell_type": "code",
   "execution_count": 51,
   "id": "a9411ad1",
   "metadata": {},
   "outputs": [],
   "source": [
    "# 클레스에 매게변수를 전달하는것을 상속이라 합니다. \n",
    "# tf.keras,Model 클레스를 상속받음으로써, 해당 모형에서 사용하는 메소드를 직접 사용 가능합니다. \n",
    "class create_model_class(tf.keras.Model):\n",
    "    def __init__(self, label_dim):\n",
    "        # create_model_class가 상속받은 부모클레스, 즉 tf.keras.model의 init부분을 실행해 해당 init메소드가 부모의 init메소드를 오버라이딩 하지 않고 별개로 실행되되록 만듭니다.\n",
    "        super(create_model_class, self).__init__()\n",
    "        \n",
    "        # 초기 가중치 설정 \n",
    "        # f.keras.initializers.RandomNormal()는 평균이 0 분산이 1인 가우시안 분포로 랜덤한 수를 생성\n",
    "        # 지역변수로 설정되며, 추후 각 층에 매게변수로 전달 \n",
    "        weight_init = tf.keras.initializers.RandomNormal()\n",
    "        \n",
    "        # 네트워크는 convolution이나 fullt connected를 층층히 쌓아나가는 과정인데 이는 리스트를 계속 더해주는 과정이라고 할 수 있다. # 따라서 tf.keras.Sequential()는 어떤 리스트 자료구조타입이므로 이를 이용한다. \n",
    "        self.model = tf.keras.Sequential() \n",
    "        # fully connected를 이용할 것이므로 이미지의 shape을 [N,28,28,1] -> [N, 784]로 변경 (convolution을 이용할 경우 flatten의 과정을 필요하지 않다.)\n",
    "        self.model.add(flatten())\n",
    "        \n",
    "        # 히든 레이어 설정 \n",
    "        for i in range(2) :\n",
    "            model.add(dense(256, weight_init))\n",
    "            model.add(relu())\n",
    "            \n",
    "        # 출력층 생성 \n",
    "        self.model.add(dense(label_dim, weight_init))\n",
    "         \n",
    "        # 생성된 모델을 호출하는 메소드 \n",
    "        # 인자로 모델의 전달사항을 지정 \n",
    "        def call(self, x, training=None, mask=None):\n",
    "            x = self.model(x)\n",
    "\n",
    "        return x"
   ]
  },
  {
   "cell_type": "code",
   "execution_count": 52,
   "id": "ef146603",
   "metadata": {},
   "outputs": [
    {
     "name": "stdout",
     "output_type": "stream",
     "text": [
      "3\n"
     ]
    }
   ],
   "source": [
    "# 막간을 이용한 상속과 오버라이딩 개념 복습 \n",
    "class parents():\n",
    "    def __init__(self,c1,c2):\n",
    "        self.c1 = c1\n",
    "        self.c2 = c2 \n",
    "    \n",
    "    def add(self):\n",
    "        print(self.c1+self.c2)\n",
    "        \n",
    "pt = parents(1,2)\n",
    "pt.add()\n",
    "        "
   ]
  },
  {
   "cell_type": "code",
   "execution_count": 53,
   "id": "eb88d3cb",
   "metadata": {},
   "outputs": [],
   "source": [
    "# # 막간을 이용한 상속과 오버라이딩 개념 복습 \n",
    "# class parents():\n",
    "#     def __init__(self,c1,c2):\n",
    "#         self.c1 = c1\n",
    "#         self.c2 = c2 \n",
    "    \n",
    "#     def add(self):\n",
    "#         print(self.c1+self.c2)\n",
    "        \n",
    "# # 상속 ver1 \n",
    "# class child1(parents):\n",
    "#     def __init__(self,v1,v2):\n",
    "#         self.v1 = v1\n",
    "#         self.v2 = v2\n",
    "#     def sub(self):\n",
    "#         print(self.v1 - self.v2)\n",
    "        \n",
    "# child1 = child1(1,2)\n",
    "# child1.sub()\n",
    "# child1.add()\n",
    "\n",
    "# # 에러.. 부모가 가지고 있는 변수인 c1과 c2를 입력하지 않아 발생 \n"
   ]
  },
  {
   "cell_type": "code",
   "execution_count": 54,
   "id": "53f8319c",
   "metadata": {},
   "outputs": [
    {
     "name": "stdout",
     "output_type": "stream",
     "text": [
      "-1\n",
      "3\n"
     ]
    }
   ],
   "source": [
    "# 막간을 이용한 상속과 오버라이딩 개념 복습 \n",
    "class parents():\n",
    "    def __init__(self,c1,c2):\n",
    "        self.c1 = c1\n",
    "        self.c2 = c2 \n",
    "    \n",
    "    def add(self):\n",
    "        print(self.c1+self.c2)\n",
    "        \n",
    "# 상속 ver1 \n",
    "class child1(parents):\n",
    "    def __init__(self,v1,v2):\n",
    "        self.v1 = v1\n",
    "        self.v2 = v2\n",
    "        super().__init__(v1,v2)\n",
    "        super(child1, self).__init__(v1,v2)\n",
    "    def sub(self):\n",
    "        print(self.v1 - self.v2)\n",
    "        \n",
    "child1 = child1(1,2)\n",
    "child1.sub()\n",
    "child1.add()\n"
   ]
  },
  {
   "cell_type": "markdown",
   "id": "829f82fd",
   "metadata": {},
   "source": [
    "supper() 메소드는 부모 클레스의 특정 부분을 실행해야 하는 경우 사용됩니다.  \n",
    "해당 경우에서는 자식클레스의 인자를 더하기 위해서는, 해당 값들을 부모클레스에 전달하는 과정을 거쳐야 함으로, v1과 v2를 부모의 초기화 함수의 인자로 넣어 실행해 주어야 합니다. \n",
    "\n",
    "[참조1 || 딥러닝 class에서의 상속](https://velog.io/@gwkoo/%ED%81%B4%EB%9E%98%EC%8A%A4-%EC%83%81%EC%86%8D-%EB%B0%8F-super-%ED%95%A8%EC%88%98%EC%9D%98-%EC%97%AD%ED%95%A0)\n",
    "[참조2 || 코딩도장](https://dojang.io/mod/page/view.php?id=2386)"
   ]
  },
  {
   "cell_type": "markdown",
   "id": "12b2b037",
   "metadata": {},
   "source": [
    "### Function ver. 모형생성 "
   ]
  },
  {
   "cell_type": "code",
   "execution_count": 55,
   "id": "0a9fb8bd",
   "metadata": {},
   "outputs": [],
   "source": [
    "def create_model_function(label_dim) :\n",
    "    weight_init = tf.keras.initializers.RandomNormal()\n",
    "\n",
    "    model = tf.keras.Sequential()\n",
    "    model.add(flatten())\n",
    "\n",
    "    for i in range(2) :\n",
    "        model.add(dense(256, weight_init))\n",
    "        model.add(relu())\n",
    "\n",
    "    model.add(dense(label_dim, weight_init))\n",
    "\n",
    "    return model"
   ]
  },
  {
   "cell_type": "markdown",
   "id": "fe08fcc7",
   "metadata": {},
   "source": [
    "모형의 형태는 다음과 같습니다.  \n",
    "||flatten|| --> ||dense + relu|| --> ||dense + relu|| --> ||dense||"
   ]
  },
  {
   "cell_type": "markdown",
   "id": "86fe1bf8",
   "metadata": {},
   "source": [
    "### 데이터 불러오기 및 하이퍼 파라미터 정의 "
   ]
  },
  {
   "cell_type": "code",
   "execution_count": 56,
   "id": "9e9537b4",
   "metadata": {},
   "outputs": [],
   "source": [
    "\"\"\" dataset \"\"\"\n",
    "# 이전에 선언한 함수를 이용\n",
    "train_x, train_y, test_x, test_y = load_mnist()"
   ]
  },
  {
   "cell_type": "code",
   "execution_count": 57,
   "id": "0c5b7a18",
   "metadata": {},
   "outputs": [],
   "source": [
    "\"\"\" parameters \"\"\"\n",
    "learning_rate = 0.001\n",
    "batch_size = 128\n",
    "\n",
    "training_epochs = 1\n",
    "training_iterations = len(train_x) // batch_size\n",
    "\n",
    "label_dim = 10"
   ]
  },
  {
   "cell_type": "code",
   "execution_count": 58,
   "id": "91eccc7a",
   "metadata": {},
   "outputs": [],
   "source": [
    "train_flag = True"
   ]
  },
  {
   "cell_type": "code",
   "execution_count": 59,
   "id": "bb5772de",
   "metadata": {},
   "outputs": [],
   "source": [
    "\n",
    "\"\"\" Graph Input using Dataset API \"\"\"\n",
    "train_dataset = tf.data.Dataset.from_tensor_slices((train_x, train_y)).\\\n",
    "    shuffle(buffer_size=100000).\\\n",
    "    prefetch(buffer_size=batch_size).\\\n",
    "    batch(batch_size, drop_remainder=True)\n",
    "\n",
    "test_dataset = tf.data.Dataset.from_tensor_slices((test_x, test_y)).\\\n",
    "    shuffle(buffer_size=100000).\\\n",
    "    prefetch(buffer_size=len(test_x)).\\\n",
    "    batch(len(test_x))"
   ]
  },
  {
   "cell_type": "markdown",
   "id": "8639dcec",
   "metadata": {},
   "source": [
    "### 모형 생성 및 옵티마이저 생성, log writer 생성 "
   ]
  },
  {
   "cell_type": "code",
   "execution_count": 60,
   "id": "ee22d5d9",
   "metadata": {},
   "outputs": [],
   "source": [
    "\"\"\" Model \"\"\"\n",
    "network = create_model_function(label_dim)"
   ]
  },
  {
   "cell_type": "code",
   "execution_count": 61,
   "id": "0cdf4826",
   "metadata": {},
   "outputs": [],
   "source": [
    "\"\"\" Training \"\"\"\n",
    "# 계산된 비용에 대한 정보를 모형에 반영하는 옵티마이져 \n",
    "# adam을 사용합니다. \n",
    "optimizer = tf.keras.optimizers.Adam(learning_rate=learning_rate)"
   ]
  },
  {
   "cell_type": "code",
   "execution_count": 62,
   "id": "9d3deb1d",
   "metadata": {},
   "outputs": [],
   "source": [
    "\"\"\" Writer \"\"\"\n",
    "checkpoint_dir = 'checkpoints'\n",
    "logs_dir = 'logs'\n",
    "\n",
    "model_dir = 'nn_relu'\n",
    "\n",
    "checkpoint_dir = os.path.join(checkpoint_dir, model_dir)\n",
    "check_folder(checkpoint_dir)\n",
    "checkpoint_prefix = os.path.join(checkpoint_dir, model_dir)\n",
    "logs_dir = os.path.join(logs_dir, model_dir)"
   ]
  },
  {
   "cell_type": "markdown",
   "id": "87c02c0a",
   "metadata": {},
   "source": [
    "### Restore checkpoint & start train or test phase"
   ]
  },
  {
   "cell_type": "code",
   "execution_count": 63,
   "id": "19312b8f",
   "metadata": {},
   "outputs": [
    {
     "name": "stdout",
     "output_type": "stream",
     "text": [
      " [*] Reading checkpoints...\n",
      " [*] Success to read nn_relu-468-1\n",
      " [*] Load SUCCESS\n"
     ]
    }
   ],
   "source": [
    "if train_flag :\n",
    "\n",
    "    checkpoint = tf.train.Checkpoint(dnn=network)\n",
    "\n",
    "    # create writer for tensorboard\n",
    "    summary_writer = tf.summary.create_file_writer(logdir=logs_dir)\n",
    "    start_time = time()\n",
    "\n",
    "    # restore check-point if it exits\n",
    "    could_load, checkpoint_counter = load(network, checkpoint_dir)    \n",
    "\n",
    "    if could_load:\n",
    "        start_epoch = (int)(checkpoint_counter / training_iterations)        \n",
    "        counter = checkpoint_counter        \n",
    "        print(\" [*] Load SUCCESS\")\n",
    "    else:\n",
    "        start_epoch = 0\n",
    "        start_iteration = 0\n",
    "        counter = 0\n",
    "        print(\" [!] Load failed...\")\n",
    "    \n",
    "    # train phase\n",
    "    with summary_writer.as_default():  # for tensorboard\n",
    "        for epoch in range(start_epoch, training_epochs):\n",
    "            for idx, (train_input, train_label) in enumerate(train_dataset):                \n",
    "                grads = grad(network, train_input, train_label)\n",
    "                optimizer.apply_gradients(grads_and_vars=zip(grads, network.variables))\n",
    "\n",
    "                train_loss = loss_fn(network, train_input, train_label)\n",
    "                train_accuracy = accuracy_fn(network, train_input, train_label)\n",
    "\n",
    "                for test_input, test_label in test_dataset:                \n",
    "                    test_accuracy = accuracy_fn(network, test_input, test_label)\n",
    "\n",
    "                tf.summary.scalar(name='train_loss', data=train_loss, step=counter)\n",
    "                tf.summary.scalar(name='train_accuracy', data=train_accuracy, step=counter)\n",
    "                tf.summary.scalar(name='test_accuracy', data=test_accuracy, step=counter)\n",
    "\n",
    "                print(\n",
    "                    \"Epoch: [%2d] [%5d/%5d] time: %4.4f, train_loss: %.8f, train_accuracy: %.4f, test_Accuracy: %.4f\" \\\n",
    "                    % (epoch, idx, training_iterations, time() - start_time, train_loss, train_accuracy,\n",
    "                       test_accuracy))\n",
    "                counter += 1\n",
    "        checkpoint.save(file_prefix=checkpoint_prefix + '-{}'.format(counter))\n",
    "        \n",
    "# test phase      \n",
    "else :\n",
    "    _, _ = load(network, checkpoint_dir)\n",
    "    for test_input, test_label in test_dataset:    \n",
    "        test_accuracy = accuracy_fn(network, test_input, test_label)\n",
    "\n",
    "    print(\"test_Accuracy: %.4f\" % (test_accuracy))"
   ]
  },
  {
   "cell_type": "markdown",
   "id": "1008fd10",
   "metadata": {},
   "source": [
    "정확도가 대폭 증가했음을 볼 수 있습니다. "
   ]
  },
  {
   "cell_type": "markdown",
   "id": "a2f56e41",
   "metadata": {},
   "source": [
    "## 초기 가중치 설정을 통한 성능 향상"
   ]
  },
  {
   "cell_type": "markdown",
   "id": "ccd49a77",
   "metadata": {},
   "source": [
    "### 학습 내용 \n",
    "* 초기 가중치 설정을 잘 해야 하는 이유는 크게 두가지가 있습니다. \n",
    "1. 우선, 초기의 가중치가 0이라고 가정한다면, 특정 위치에서 비용함수를 미분한 값이 0으로 수렴하기 때문에, 해당 계층 이전의 신경망에 대한 미분값은 chain rule을 적용한다면 모두 0으로 수렴하게 됩니다. 따라서, 모형이 학습되지 않는 문제를 발생시킵니다.  \n",
    "2. 또한, global min과 Local min이라는 개념입니다. 우리가 진행하는 학습의 목표는 모형의 loss를 최소화 시키는 가중치를 찾는 일입니다. ![cost1.png](https://miro.medium.com/max/600/1*hf_5r1yZr7JiOWc48TKv9g.jpeg) 위와 같은 포락선 형태의 비용함수가 정의된다면, 어느 위치 값을 초기 가중치로 지정한다 해도 정상적인 학습이 가능할 것입니다.  ![cost2.png](https://skill-lync-portal.nyc3.digitaloceanspaces.com/tinymce/05_20/15900802955804.jpg) 하지만, 대부분의 비용함수는 포락선의 구조보다는 다소 복잡한 특성을 지니기 때문에 초기 가중치의 부여에 따라, 최종적인 목적지가 Local min이 되기도 합니다. "
   ]
  },
  {
   "cell_type": "markdown",
   "id": "2f6da234",
   "metadata": {},
   "source": [
    "* Hinton의 \"Deep Belief Nets\"(DBN) - 가중치 초기화 방식으로 Restrict Boatman Machine(RBM) 사용 \n",
    "    - 2006년 제프리 힌튼은 새로운 가중치 초기화 방식을 고안합니다.![RBM.png](https://blog.kakaocdn.net/dn/bripjr/btqCqNShTAZ/gRIikkpz0sDp0kiRcooXlK/img.png)RBM 방식은 여러개의 층으로 이루어진 심층 신경망이 존재할 때, 신경망의 앞 부분 부터, 하나의 층과 그 다음층 사이의 관계를 통해 가중치를 설정합니다.  \n",
    "    - 예를들어, 위의 그림에서는 첫번째 layer와 두번째 layer만을 두고 아래의 과정을 진행합니다.  \n",
    "    - 1. 우선 처음 입력된 X에 임의의 가중치 W를 곱해 다음 계층으로 값을 전달합니다.  \n",
    "    - 2. 다음으로는 해당 값을 전달받은 계층에서 역으로 같은 가중치 W를 곱해 이전 계층으로 전달합니다. \n",
    "    - 3. 이때, 실제값 X와 역으로 계산된 X^ 의 값의 차이가 최소가 되는 방식으로 가중치를 설정하며, 모형의 끝 까지 가중치를 설정합니다. \n",
    "    "
   ]
  },
  {
   "cell_type": "markdown",
   "id": "80677a1a",
   "metadata": {},
   "source": [
    "* 하지만, 최근에는 이보다 단순하고 성능이 우월한 다양한 초기화 방식이 발전하고 있으며, 그 대표적인 방식으로는 Xavier initalization(= Glorot initalization) 방식과 Relu함수의 가중치 초기화에 특화된 He initalization 방식이 있습니다. \n",
    "##### Xavier initalization \n",
    "- 하나의 노드에 들어오는 입력의 채널 수와 출력 채널의 수를 고려한 가중치 설정 방식 \n",
    "- 평균 : 0 \n",
    "- 분산 : $$\\sigma^2 = \\frac{2}{Channel(in) + Channel(out)}$$\n",
    "##### He initalization\n",
    "- Relu함수와 쓰일때 가장 효율적인 방식 \n",
    "- 평균 : 0 \n",
    "- 분산 : $$\\sigma^2 = \\frac{4}{Channel(in) + Channel(out)}$$"
   ]
  },
  {
   "cell_type": "markdown",
   "id": "693c6689",
   "metadata": {},
   "source": [
    "### 코드로 구현하기"
   ]
  },
  {
   "cell_type": "markdown",
   "id": "544b71a0",
   "metadata": {},
   "source": [
    "* 체크 포인트를 구성하는 방식을 제외하고 성능을 확인해봅니다. "
   ]
  },
  {
   "cell_type": "code",
   "execution_count": 64,
   "id": "80018282",
   "metadata": {},
   "outputs": [],
   "source": [
    "import tensorflow as tf \n",
    "import numpy as np \n",
    "\n",
    "from tensorflow.keras.utils import to_categorical\n",
    "\n",
    "from tensorflow.keras.datasets import mnist\n"
   ]
  },
  {
   "cell_type": "code",
   "execution_count": 65,
   "id": "3d7c49a9",
   "metadata": {},
   "outputs": [],
   "source": [
    "# 데이터 셋 로드 함수 \n",
    "def load_mnist(): \n",
    "    # 데이터를 불러옵니다. \n",
    "    (train_data, train_label), (test_data, test_label) = mnist.load_data()\n",
    "    \n",
    "    # 데이터에 채널 차원을 추가합니다. \n",
    "    train_data = np.expand_dims(train_data, axis=-1) # [N, 28, 28] -> [N, 28, 28, 1] \n",
    "    test_data = np.expand_dims(test_data, axis = -1) # [N, 28, 28] -> [N, 28, 28, 1]\n",
    "    \n",
    "    # 밝기값이 0~255 --> 0~1로 축소 \n",
    "    train_data, test_data = normalize(train_data, test_data)\n",
    "    \n",
    "    # 0~10 까지의 레이블을 원핫인코딩 진행 \n",
    "    train_label = to_categorical(train_label,10) # [N,] -> [N, 10]\n",
    "    test_label = to_categorical(test_label, 10) # [N,] -> [N, 10]\n",
    "    \n",
    "    return train_data, train_label, test_data, test_label\n",
    "\n",
    "# 위에서 사용한 정규화 함수 구현 \n",
    "def normalize(train_data, test_data):\n",
    "    train_data = train_data.astype(np.float32) / 255.0\n",
    "    test_data = test_data.astype(np.float32) / 255.0\n",
    "    \n",
    "    return train_data, test_data"
   ]
  },
  {
   "cell_type": "code",
   "execution_count": 66,
   "id": "38d41990",
   "metadata": {},
   "outputs": [],
   "source": [
    "# loss 함수 구현 \n",
    "# def loss_fn(model, images, labels):\n",
    "#     # 예측값 함수 \n",
    "#     logits = model(images, training = True)\n",
    "#     # 비용함수 생성 \n",
    "#     # cross entropy를 자동으로 계산해주는 내장함수 사용 \n",
    "#     loss = tf.reduce_mean(tf.keras.losses.categorical_crossentropy(y_pred=logits,\n",
    "#                                                                   y_true = labels,\n",
    "#                                                                   from_logits = True))\n",
    "#     # logit True는 예측 로짓값(확률 행렬)을 그대로 넘겨준다는것을 의미 \n",
    "#     return loss \n",
    "def loss_fn(model, images, labels):\n",
    "    logits = model(images, training=True)\n",
    "    loss = tf.reduce_mean(tf.keras.losses.categorical_crossentropy(y_pred=logits, y_true=labels, \n",
    "                                                                   from_logits=True))\n",
    "    return loss"
   ]
  },
  {
   "cell_type": "code",
   "execution_count": 67,
   "id": "5d3446a8",
   "metadata": {},
   "outputs": [],
   "source": [
    "# 정확도 측정 함수 구현 \n",
    "# test data를 통해 정확도를 측정하는 함수를 구현합니다. \n",
    "# 실제값과 예측값을 비교해 참 1 거짓0 --> 평균 \n",
    "def accuracy_fn(model, images, labels):\n",
    "    # 예측 수행 \n",
    "    logits = model(images, training = False)\n",
    "    # 확률이 가장 높은 값을 기준으로 비교 \n",
    "    prediction = tf.equal(tf.argmax(logits, -1), tf.argmax(labels, -1))\n",
    "    # 평균 계산 \n",
    "    accuracy = tf.reduce_mean(tf.cast(prediction, tf.float32))\n",
    "    return accuracy"
   ]
  },
  {
   "cell_type": "code",
   "execution_count": 68,
   "id": "71b974ab",
   "metadata": {},
   "outputs": [],
   "source": [
    "# 미분 계산 함수 \n",
    "# tf제공 Gradient Tape을 활용한 계산 \n",
    "def grad(model, images, labels):\n",
    "    with tf.GradientTape() as tape:\n",
    "        loss = loss_fn(model, images, labels)\n",
    "    return tape.gradient(loss, model.variables)"
   ]
  },
  {
   "cell_type": "code",
   "execution_count": 69,
   "id": "ecd88de7",
   "metadata": {},
   "outputs": [],
   "source": [
    "# flatten함수 구현 \n",
    "# fully connected model에서는 값을 선형으로 잡어 넣어 주어야 한다. \n",
    "def flatten() :\n",
    "    return tf.keras.layers.Flatten()\n",
    "# 추후 flatten layer로 입력층 정의시 사용 \n",
    "# [N,28,28] -> [N,784]"
   ]
  },
  {
   "cell_type": "code",
   "execution_count": 70,
   "id": "9635bcb1",
   "metadata": {},
   "outputs": [],
   "source": [
    "# dense layer \n",
    "def dense(label_dim, weight_init) :\n",
    "    return tf.keras.layers.Dense(units=label_dim, use_bias=True, kernel_initializer=weight_init)\n",
    "\n",
    "# units옵션은 출력 채널의 갯수를 의미합니다. \n",
    "# use_bias는 편향치를 사용할지를 물어봅니다. \n",
    "# kernel_initializer=weight_init 가중치 초기화 도구 입력 "
   ]
  },
  {
   "cell_type": "code",
   "execution_count": 71,
   "id": "b2c142f8",
   "metadata": {},
   "outputs": [],
   "source": [
    "def relu() :\n",
    "    return tf.keras.layers.Activation(tf.keras.activations.relu)"
   ]
  },
  {
   "cell_type": "markdown",
   "id": "fa59259c",
   "metadata": {},
   "source": [
    "##### 변경부분"
   ]
  },
  {
   "cell_type": "code",
   "execution_count": 72,
   "id": "2c4b0edc",
   "metadata": {},
   "outputs": [],
   "source": [
    "# 모형 생성 \n",
    "# 이 부분에서 다양한 initializer를 사용해봅시다. \n",
    "\n",
    "def create_model_function(label_dim) :\n",
    "    # weight_init = tf.keras.initializers.RandomNormal()\n",
    "    weight_init = tf.keras.initializers.glorot_uniform()\n",
    "    # weight_init = tf.keras.initializers.he_uniform()\n",
    "\n",
    "\n",
    "    model = tf.keras.Sequential()\n",
    "    model.add(flatten())\n",
    "\n",
    "    for i in range(2) :\n",
    "        model.add(dense(256, weight_init))\n",
    "        model.add(relu())\n",
    "\n",
    "    model.add(dense(label_dim, weight_init))\n",
    "\n",
    "    return model"
   ]
  },
  {
   "cell_type": "code",
   "execution_count": 73,
   "id": "d6ed1bb5",
   "metadata": {},
   "outputs": [],
   "source": [
    "\"\"\" dataset \"\"\"\n",
    "train_x, train_y, test_x, test_y = load_mnist()"
   ]
  },
  {
   "cell_type": "code",
   "execution_count": 74,
   "id": "2412aaa7",
   "metadata": {},
   "outputs": [],
   "source": [
    "\"\"\" parameters \"\"\"\n",
    "learning_rate = 0.001\n",
    "batch_size = 128\n",
    "\n",
    "training_epochs = 1\n",
    "training_iterations = len(train_x) // batch_size\n",
    "\n",
    "label_dim = 10"
   ]
  },
  {
   "cell_type": "code",
   "execution_count": 75,
   "id": "72a230f7",
   "metadata": {},
   "outputs": [],
   "source": [
    "\"\"\" Graph Input using Dataset API \"\"\"\n",
    "train_dataset = tf.data.Dataset.from_tensor_slices((train_x, train_y)).\\\n",
    "    shuffle(buffer_size=100000).\\\n",
    "    prefetch(buffer_size=batch_size).\\\n",
    "    batch(batch_size, drop_remainder=True)\n",
    "\n",
    "test_dataset = tf.data.Dataset.from_tensor_slices((test_x, test_y)).\\\n",
    "    shuffle(buffer_size=100000).\\\n",
    "    prefetch(buffer_size=len(test_x)).\\\n",
    "    batch(len(test_x))"
   ]
  },
  {
   "cell_type": "code",
   "execution_count": 76,
   "id": "30f65166",
   "metadata": {},
   "outputs": [],
   "source": [
    "\"\"\" Model \"\"\"\n",
    "network = create_model_function(label_dim)"
   ]
  },
  {
   "cell_type": "code",
   "execution_count": 77,
   "id": "f9bd7a14",
   "metadata": {},
   "outputs": [],
   "source": [
    "\"\"\" Training \"\"\"\n",
    "optimizer = tf.keras.optimizers.Adam(learning_rate=learning_rate)"
   ]
  },
  {
   "cell_type": "code",
   "execution_count": 78,
   "id": "20801aaf",
   "metadata": {},
   "outputs": [
    {
     "name": "stdout",
     "output_type": "stream",
     "text": [
      "Epoch: [ 0], batch: [    0/  468], training loss: [2.06317616], train_acc: [0.4375], test_acc: [0.2760]\n",
      "Epoch: [ 0], batch: [    1/  468], training loss: [1.91225195], train_acc: [0.4688], test_acc: [0.3525]\n",
      "Epoch: [ 0], batch: [    2/  468], training loss: [1.93908083], train_acc: [0.4375], test_acc: [0.4600]\n",
      "Epoch: [ 0], batch: [    3/  468], training loss: [1.83171368], train_acc: [0.5312], test_acc: [0.5871]\n",
      "Epoch: [ 0], batch: [    4/  468], training loss: [1.70389509], train_acc: [0.6719], test_acc: [0.6550]\n",
      "Epoch: [ 0], batch: [    5/  468], training loss: [1.53497541], train_acc: [0.7656], test_acc: [0.7012]\n",
      "Epoch: [ 0], batch: [    6/  468], training loss: [1.39252663], train_acc: [0.8125], test_acc: [0.7219]\n",
      "Epoch: [ 0], batch: [    7/  468], training loss: [1.34741354], train_acc: [0.7188], test_acc: [0.7426]\n",
      "Epoch: [ 0], batch: [    8/  468], training loss: [1.14287615], train_acc: [0.7578], test_acc: [0.7583]\n",
      "Epoch: [ 0], batch: [    9/  468], training loss: [1.11872625], train_acc: [0.7344], test_acc: [0.7865]\n",
      "Epoch: [ 0], batch: [   10/  468], training loss: [1.04204774], train_acc: [0.8047], test_acc: [0.8021]\n",
      "Epoch: [ 0], batch: [   11/  468], training loss: [0.77646697], train_acc: [0.8672], test_acc: [0.8066]\n",
      "Epoch: [ 0], batch: [   12/  468], training loss: [0.78121716], train_acc: [0.8359], test_acc: [0.8021]\n",
      "Epoch: [ 0], batch: [   13/  468], training loss: [0.65335333], train_acc: [0.8594], test_acc: [0.7957]\n",
      "Epoch: [ 0], batch: [   14/  468], training loss: [0.78570092], train_acc: [0.7734], test_acc: [0.8118]\n",
      "Epoch: [ 0], batch: [   15/  468], training loss: [0.68114233], train_acc: [0.7891], test_acc: [0.8217]\n",
      "Epoch: [ 0], batch: [   16/  468], training loss: [0.61224091], train_acc: [0.8594], test_acc: [0.8237]\n",
      "Epoch: [ 0], batch: [   17/  468], training loss: [0.63711369], train_acc: [0.8125], test_acc: [0.8163]\n",
      "Epoch: [ 0], batch: [   18/  468], training loss: [0.64550394], train_acc: [0.7969], test_acc: [0.8112]\n",
      "Epoch: [ 0], batch: [   19/  468], training loss: [0.63399148], train_acc: [0.7812], test_acc: [0.8210]\n",
      "Epoch: [ 0], batch: [   20/  468], training loss: [0.54378051], train_acc: [0.8438], test_acc: [0.8414]\n",
      "Epoch: [ 0], batch: [   21/  468], training loss: [0.44048822], train_acc: [0.8906], test_acc: [0.8609]\n",
      "Epoch: [ 0], batch: [   22/  468], training loss: [0.51283598], train_acc: [0.8516], test_acc: [0.8637]\n",
      "Epoch: [ 0], batch: [   23/  468], training loss: [0.43725669], train_acc: [0.8906], test_acc: [0.8527]\n",
      "Epoch: [ 0], batch: [   24/  468], training loss: [0.68361765], train_acc: [0.8047], test_acc: [0.8494]\n",
      "Epoch: [ 0], batch: [   25/  468], training loss: [0.45523643], train_acc: [0.8516], test_acc: [0.8605]\n",
      "Epoch: [ 0], batch: [   26/  468], training loss: [0.34680709], train_acc: [0.8984], test_acc: [0.8672]\n",
      "Epoch: [ 0], batch: [   27/  468], training loss: [0.44556212], train_acc: [0.8828], test_acc: [0.8743]\n",
      "Epoch: [ 0], batch: [   28/  468], training loss: [0.48993325], train_acc: [0.8516], test_acc: [0.8828]\n",
      "Epoch: [ 0], batch: [   29/  468], training loss: [0.40012515], train_acc: [0.8984], test_acc: [0.8838]\n",
      "Epoch: [ 0], batch: [   30/  468], training loss: [0.45086929], train_acc: [0.8984], test_acc: [0.8770]\n",
      "Epoch: [ 0], batch: [   31/  468], training loss: [0.37667575], train_acc: [0.8438], test_acc: [0.8778]\n",
      "Epoch: [ 0], batch: [   32/  468], training loss: [0.44528008], train_acc: [0.8906], test_acc: [0.8824]\n",
      "Epoch: [ 0], batch: [   33/  468], training loss: [0.25156018], train_acc: [0.9219], test_acc: [0.8879]\n",
      "Epoch: [ 0], batch: [   34/  468], training loss: [0.39312601], train_acc: [0.9062], test_acc: [0.8876]\n",
      "Epoch: [ 0], batch: [   35/  468], training loss: [0.36161509], train_acc: [0.8750], test_acc: [0.8877]\n",
      "Epoch: [ 0], batch: [   36/  468], training loss: [0.40570951], train_acc: [0.8672], test_acc: [0.8865]\n",
      "Epoch: [ 0], batch: [   37/  468], training loss: [0.34494293], train_acc: [0.9219], test_acc: [0.8858]\n",
      "Epoch: [ 0], batch: [   38/  468], training loss: [0.36204904], train_acc: [0.8906], test_acc: [0.8851]\n",
      "Epoch: [ 0], batch: [   39/  468], training loss: [0.27602583], train_acc: [0.8906], test_acc: [0.8878]\n",
      "Epoch: [ 0], batch: [   40/  468], training loss: [0.41319853], train_acc: [0.8984], test_acc: [0.8835]\n",
      "Epoch: [ 0], batch: [   41/  468], training loss: [0.41073710], train_acc: [0.8594], test_acc: [0.8817]\n",
      "Epoch: [ 0], batch: [   42/  468], training loss: [0.22986566], train_acc: [0.9219], test_acc: [0.8822]\n",
      "Epoch: [ 0], batch: [   43/  468], training loss: [0.43539304], train_acc: [0.8516], test_acc: [0.8899]\n",
      "Epoch: [ 0], batch: [   44/  468], training loss: [0.38782287], train_acc: [0.8828], test_acc: [0.8940]\n",
      "Epoch: [ 0], batch: [   45/  468], training loss: [0.27766651], train_acc: [0.9219], test_acc: [0.8932]\n",
      "Epoch: [ 0], batch: [   46/  468], training loss: [0.33271044], train_acc: [0.8906], test_acc: [0.8916]\n",
      "Epoch: [ 0], batch: [   47/  468], training loss: [0.41578105], train_acc: [0.8750], test_acc: [0.8919]\n",
      "Epoch: [ 0], batch: [   48/  468], training loss: [0.36779118], train_acc: [0.8672], test_acc: [0.8989]\n",
      "Epoch: [ 0], batch: [   49/  468], training loss: [0.47471893], train_acc: [0.8984], test_acc: [0.9009]\n",
      "Epoch: [ 0], batch: [   50/  468], training loss: [0.18726741], train_acc: [0.9453], test_acc: [0.8995]\n",
      "Epoch: [ 0], batch: [   51/  468], training loss: [0.29835850], train_acc: [0.9453], test_acc: [0.8991]\n",
      "Epoch: [ 0], batch: [   52/  468], training loss: [0.15779674], train_acc: [0.9609], test_acc: [0.8957]\n",
      "Epoch: [ 0], batch: [   53/  468], training loss: [0.29989165], train_acc: [0.9062], test_acc: [0.8942]\n",
      "Epoch: [ 0], batch: [   54/  468], training loss: [0.36108723], train_acc: [0.9219], test_acc: [0.8938]\n",
      "Epoch: [ 0], batch: [   55/  468], training loss: [0.27039009], train_acc: [0.9141], test_acc: [0.8936]\n",
      "Epoch: [ 0], batch: [   56/  468], training loss: [0.19087428], train_acc: [0.9453], test_acc: [0.8902]\n",
      "Epoch: [ 0], batch: [   57/  468], training loss: [0.29253703], train_acc: [0.8906], test_acc: [0.8907]\n",
      "Epoch: [ 0], batch: [   58/  468], training loss: [0.26334044], train_acc: [0.9062], test_acc: [0.8937]\n",
      "Epoch: [ 0], batch: [   59/  468], training loss: [0.28148067], train_acc: [0.8984], test_acc: [0.8961]\n",
      "Epoch: [ 0], batch: [   60/  468], training loss: [0.37134507], train_acc: [0.8828], test_acc: [0.9000]\n",
      "Epoch: [ 0], batch: [   61/  468], training loss: [0.36091772], train_acc: [0.9062], test_acc: [0.9033]\n",
      "Epoch: [ 0], batch: [   62/  468], training loss: [0.35875297], train_acc: [0.8516], test_acc: [0.9058]\n",
      "Epoch: [ 0], batch: [   63/  468], training loss: [0.27440935], train_acc: [0.9297], test_acc: [0.9047]\n",
      "Epoch: [ 0], batch: [   64/  468], training loss: [0.40719569], train_acc: [0.8984], test_acc: [0.9035]\n",
      "Epoch: [ 0], batch: [   65/  468], training loss: [0.31362489], train_acc: [0.9219], test_acc: [0.9043]\n",
      "Epoch: [ 0], batch: [   66/  468], training loss: [0.24011147], train_acc: [0.9297], test_acc: [0.9054]\n",
      "Epoch: [ 0], batch: [   67/  468], training loss: [0.20059629], train_acc: [0.9531], test_acc: [0.9077]\n",
      "Epoch: [ 0], batch: [   68/  468], training loss: [0.20970508], train_acc: [0.9219], test_acc: [0.9111]\n",
      "Epoch: [ 0], batch: [   69/  468], training loss: [0.33202708], train_acc: [0.9062], test_acc: [0.9105]\n",
      "Epoch: [ 0], batch: [   70/  468], training loss: [0.37819308], train_acc: [0.9062], test_acc: [0.9130]\n",
      "Epoch: [ 0], batch: [   71/  468], training loss: [0.32939601], train_acc: [0.8906], test_acc: [0.9151]\n",
      "Epoch: [ 0], batch: [   72/  468], training loss: [0.39699620], train_acc: [0.8828], test_acc: [0.9158]\n",
      "Epoch: [ 0], batch: [   73/  468], training loss: [0.30730698], train_acc: [0.9062], test_acc: [0.9162]\n",
      "Epoch: [ 0], batch: [   74/  468], training loss: [0.46340275], train_acc: [0.8828], test_acc: [0.9173]\n",
      "Epoch: [ 0], batch: [   75/  468], training loss: [0.18220168], train_acc: [0.9453], test_acc: [0.9139]\n",
      "Epoch: [ 0], batch: [   76/  468], training loss: [0.18103346], train_acc: [0.9531], test_acc: [0.9103]\n",
      "Epoch: [ 0], batch: [   77/  468], training loss: [0.37890610], train_acc: [0.8750], test_acc: [0.9101]\n",
      "Epoch: [ 0], batch: [   78/  468], training loss: [0.26572335], train_acc: [0.9219], test_acc: [0.9135]\n",
      "Epoch: [ 0], batch: [   79/  468], training loss: [0.31679592], train_acc: [0.9062], test_acc: [0.9161]\n"
     ]
    },
    {
     "name": "stdout",
     "output_type": "stream",
     "text": [
      "Epoch: [ 0], batch: [   80/  468], training loss: [0.30259189], train_acc: [0.9062], test_acc: [0.9185]\n",
      "Epoch: [ 0], batch: [   81/  468], training loss: [0.20902933], train_acc: [0.9375], test_acc: [0.9190]\n",
      "Epoch: [ 0], batch: [   82/  468], training loss: [0.26802915], train_acc: [0.9375], test_acc: [0.9185]\n",
      "Epoch: [ 0], batch: [   83/  468], training loss: [0.21413162], train_acc: [0.9297], test_acc: [0.9175]\n",
      "Epoch: [ 0], batch: [   84/  468], training loss: [0.24117382], train_acc: [0.9219], test_acc: [0.9172]\n",
      "Epoch: [ 0], batch: [   85/  468], training loss: [0.18385139], train_acc: [0.9453], test_acc: [0.9182]\n",
      "Epoch: [ 0], batch: [   86/  468], training loss: [0.35866028], train_acc: [0.9297], test_acc: [0.9189]\n",
      "Epoch: [ 0], batch: [   87/  468], training loss: [0.30564338], train_acc: [0.9219], test_acc: [0.9186]\n",
      "Epoch: [ 0], batch: [   88/  468], training loss: [0.40369505], train_acc: [0.8516], test_acc: [0.9168]\n",
      "Epoch: [ 0], batch: [   89/  468], training loss: [0.27077526], train_acc: [0.8984], test_acc: [0.9170]\n",
      "Epoch: [ 0], batch: [   90/  468], training loss: [0.26773673], train_acc: [0.9219], test_acc: [0.9131]\n",
      "Epoch: [ 0], batch: [   91/  468], training loss: [0.28887206], train_acc: [0.9141], test_acc: [0.9142]\n",
      "Epoch: [ 0], batch: [   92/  468], training loss: [0.14607096], train_acc: [0.9531], test_acc: [0.9150]\n",
      "Epoch: [ 0], batch: [   93/  468], training loss: [0.35936514], train_acc: [0.8984], test_acc: [0.9152]\n",
      "Epoch: [ 0], batch: [   94/  468], training loss: [0.23467031], train_acc: [0.9453], test_acc: [0.9185]\n",
      "Epoch: [ 0], batch: [   95/  468], training loss: [0.20623735], train_acc: [0.9375], test_acc: [0.9186]\n",
      "Epoch: [ 0], batch: [   96/  468], training loss: [0.27697462], train_acc: [0.9297], test_acc: [0.9161]\n",
      "Epoch: [ 0], batch: [   97/  468], training loss: [0.14467107], train_acc: [0.9609], test_acc: [0.9165]\n",
      "Epoch: [ 0], batch: [   98/  468], training loss: [0.30882251], train_acc: [0.9375], test_acc: [0.9208]\n",
      "Epoch: [ 0], batch: [   99/  468], training loss: [0.30381835], train_acc: [0.9219], test_acc: [0.9255]\n",
      "Epoch: [ 0], batch: [  100/  468], training loss: [0.25350058], train_acc: [0.9062], test_acc: [0.9282]\n",
      "Epoch: [ 0], batch: [  101/  468], training loss: [0.16686292], train_acc: [0.9453], test_acc: [0.9268]\n",
      "Epoch: [ 0], batch: [  102/  468], training loss: [0.18375136], train_acc: [0.9609], test_acc: [0.9218]\n",
      "Epoch: [ 0], batch: [  103/  468], training loss: [0.18267958], train_acc: [0.9531], test_acc: [0.9167]\n",
      "Epoch: [ 0], batch: [  104/  468], training loss: [0.26849213], train_acc: [0.9297], test_acc: [0.9147]\n",
      "Epoch: [ 0], batch: [  105/  468], training loss: [0.35293254], train_acc: [0.8672], test_acc: [0.9179]\n",
      "Epoch: [ 0], batch: [  106/  468], training loss: [0.21319932], train_acc: [0.9219], test_acc: [0.9209]\n",
      "Epoch: [ 0], batch: [  107/  468], training loss: [0.14062275], train_acc: [0.9609], test_acc: [0.9274]\n",
      "Epoch: [ 0], batch: [  108/  468], training loss: [0.17240348], train_acc: [0.9609], test_acc: [0.9292]\n",
      "Epoch: [ 0], batch: [  109/  468], training loss: [0.27937734], train_acc: [0.9141], test_acc: [0.9286]\n",
      "Epoch: [ 0], batch: [  110/  468], training loss: [0.15757774], train_acc: [0.9531], test_acc: [0.9283]\n",
      "Epoch: [ 0], batch: [  111/  468], training loss: [0.18909395], train_acc: [0.9609], test_acc: [0.9277]\n",
      "Epoch: [ 0], batch: [  112/  468], training loss: [0.26909399], train_acc: [0.9141], test_acc: [0.9297]\n",
      "Epoch: [ 0], batch: [  113/  468], training loss: [0.15754238], train_acc: [0.9531], test_acc: [0.9330]\n",
      "Epoch: [ 0], batch: [  114/  468], training loss: [0.19343120], train_acc: [0.9531], test_acc: [0.9326]\n",
      "Epoch: [ 0], batch: [  115/  468], training loss: [0.15395045], train_acc: [0.9766], test_acc: [0.9304]\n",
      "Epoch: [ 0], batch: [  116/  468], training loss: [0.16831370], train_acc: [0.9531], test_acc: [0.9286]\n",
      "Epoch: [ 0], batch: [  117/  468], training loss: [0.26232088], train_acc: [0.8984], test_acc: [0.9278]\n",
      "Epoch: [ 0], batch: [  118/  468], training loss: [0.26186773], train_acc: [0.9375], test_acc: [0.9291]\n",
      "Epoch: [ 0], batch: [  119/  468], training loss: [0.17452073], train_acc: [0.9531], test_acc: [0.9313]\n",
      "Epoch: [ 0], batch: [  120/  468], training loss: [0.23360521], train_acc: [0.9062], test_acc: [0.9324]\n",
      "Epoch: [ 0], batch: [  121/  468], training loss: [0.18593563], train_acc: [0.9531], test_acc: [0.9339]\n",
      "Epoch: [ 0], batch: [  122/  468], training loss: [0.16362697], train_acc: [0.9531], test_acc: [0.9322]\n",
      "Epoch: [ 0], batch: [  123/  468], training loss: [0.32729238], train_acc: [0.9141], test_acc: [0.9293]\n",
      "Epoch: [ 0], batch: [  124/  468], training loss: [0.22958899], train_acc: [0.9297], test_acc: [0.9245]\n",
      "Epoch: [ 0], batch: [  125/  468], training loss: [0.26079580], train_acc: [0.9297], test_acc: [0.9214]\n",
      "Epoch: [ 0], batch: [  126/  468], training loss: [0.15200414], train_acc: [0.9609], test_acc: [0.9237]\n",
      "Epoch: [ 0], batch: [  127/  468], training loss: [0.30605966], train_acc: [0.9062], test_acc: [0.9277]\n",
      "Epoch: [ 0], batch: [  128/  468], training loss: [0.14516893], train_acc: [0.9688], test_acc: [0.9293]\n",
      "Epoch: [ 0], batch: [  129/  468], training loss: [0.18631423], train_acc: [0.9219], test_acc: [0.9301]\n",
      "Epoch: [ 0], batch: [  130/  468], training loss: [0.33275822], train_acc: [0.8750], test_acc: [0.9289]\n",
      "Epoch: [ 0], batch: [  131/  468], training loss: [0.16024479], train_acc: [0.9688], test_acc: [0.9275]\n",
      "Epoch: [ 0], batch: [  132/  468], training loss: [0.16824827], train_acc: [0.9219], test_acc: [0.9265]\n",
      "Epoch: [ 0], batch: [  133/  468], training loss: [0.26220042], train_acc: [0.9297], test_acc: [0.9270]\n",
      "Epoch: [ 0], batch: [  134/  468], training loss: [0.28220254], train_acc: [0.9141], test_acc: [0.9302]\n",
      "Epoch: [ 0], batch: [  135/  468], training loss: [0.27299303], train_acc: [0.9062], test_acc: [0.9343]\n",
      "Epoch: [ 0], batch: [  136/  468], training loss: [0.21465543], train_acc: [0.9375], test_acc: [0.9367]\n",
      "Epoch: [ 0], batch: [  137/  468], training loss: [0.17060800], train_acc: [0.9531], test_acc: [0.9342]\n",
      "Epoch: [ 0], batch: [  138/  468], training loss: [0.20280398], train_acc: [0.9375], test_acc: [0.9318]\n",
      "Epoch: [ 0], batch: [  139/  468], training loss: [0.23600687], train_acc: [0.9375], test_acc: [0.9285]\n",
      "Epoch: [ 0], batch: [  140/  468], training loss: [0.21291408], train_acc: [0.9375], test_acc: [0.9271]\n",
      "Epoch: [ 0], batch: [  141/  468], training loss: [0.32838434], train_acc: [0.9062], test_acc: [0.9308]\n",
      "Epoch: [ 0], batch: [  142/  468], training loss: [0.30017868], train_acc: [0.9062], test_acc: [0.9355]\n",
      "Epoch: [ 0], batch: [  143/  468], training loss: [0.24005854], train_acc: [0.9531], test_acc: [0.9357]\n",
      "Epoch: [ 0], batch: [  144/  468], training loss: [0.14785913], train_acc: [0.9453], test_acc: [0.9307]\n",
      "Epoch: [ 0], batch: [  145/  468], training loss: [0.16033584], train_acc: [0.9375], test_acc: [0.9225]\n",
      "Epoch: [ 0], batch: [  146/  468], training loss: [0.35594496], train_acc: [0.8672], test_acc: [0.9201]\n",
      "Epoch: [ 0], batch: [  147/  468], training loss: [0.25252572], train_acc: [0.9531], test_acc: [0.9245]\n",
      "Epoch: [ 0], batch: [  148/  468], training loss: [0.43354321], train_acc: [0.8750], test_acc: [0.9318]\n",
      "Epoch: [ 0], batch: [  149/  468], training loss: [0.22984129], train_acc: [0.9375], test_acc: [0.9380]\n",
      "Epoch: [ 0], batch: [  150/  468], training loss: [0.17413947], train_acc: [0.9531], test_acc: [0.9400]\n",
      "Epoch: [ 0], batch: [  151/  468], training loss: [0.20222707], train_acc: [0.9531], test_acc: [0.9368]\n",
      "Epoch: [ 0], batch: [  152/  468], training loss: [0.24234718], train_acc: [0.9297], test_acc: [0.9336]\n",
      "Epoch: [ 0], batch: [  153/  468], training loss: [0.27554226], train_acc: [0.9062], test_acc: [0.9317]\n",
      "Epoch: [ 0], batch: [  154/  468], training loss: [0.35130757], train_acc: [0.8984], test_acc: [0.9330]\n",
      "Epoch: [ 0], batch: [  155/  468], training loss: [0.17446780], train_acc: [0.9297], test_acc: [0.9345]\n",
      "Epoch: [ 0], batch: [  156/  468], training loss: [0.20461330], train_acc: [0.9297], test_acc: [0.9379]\n",
      "Epoch: [ 0], batch: [  157/  468], training loss: [0.16079679], train_acc: [0.9609], test_acc: [0.9353]\n",
      "Epoch: [ 0], batch: [  158/  468], training loss: [0.19741568], train_acc: [0.9531], test_acc: [0.9324]\n",
      "Epoch: [ 0], batch: [  159/  468], training loss: [0.21273720], train_acc: [0.9297], test_acc: [0.9302]\n"
     ]
    },
    {
     "name": "stdout",
     "output_type": "stream",
     "text": [
      "Epoch: [ 0], batch: [  160/  468], training loss: [0.15514831], train_acc: [0.9453], test_acc: [0.9280]\n",
      "Epoch: [ 0], batch: [  161/  468], training loss: [0.28705525], train_acc: [0.9141], test_acc: [0.9285]\n",
      "Epoch: [ 0], batch: [  162/  468], training loss: [0.28769395], train_acc: [0.9062], test_acc: [0.9323]\n",
      "Epoch: [ 0], batch: [  163/  468], training loss: [0.22128436], train_acc: [0.9375], test_acc: [0.9354]\n",
      "Epoch: [ 0], batch: [  164/  468], training loss: [0.17846763], train_acc: [0.9609], test_acc: [0.9371]\n",
      "Epoch: [ 0], batch: [  165/  468], training loss: [0.27893904], train_acc: [0.9219], test_acc: [0.9369]\n",
      "Epoch: [ 0], batch: [  166/  468], training loss: [0.14636195], train_acc: [0.9609], test_acc: [0.9342]\n",
      "Epoch: [ 0], batch: [  167/  468], training loss: [0.15362225], train_acc: [0.9609], test_acc: [0.9341]\n",
      "Epoch: [ 0], batch: [  168/  468], training loss: [0.18212496], train_acc: [0.9688], test_acc: [0.9363]\n",
      "Epoch: [ 0], batch: [  169/  468], training loss: [0.18730861], train_acc: [0.9531], test_acc: [0.9385]\n",
      "Epoch: [ 0], batch: [  170/  468], training loss: [0.23619244], train_acc: [0.9375], test_acc: [0.9386]\n",
      "Epoch: [ 0], batch: [  171/  468], training loss: [0.23224470], train_acc: [0.9453], test_acc: [0.9382]\n",
      "Epoch: [ 0], batch: [  172/  468], training loss: [0.14656174], train_acc: [0.9453], test_acc: [0.9388]\n",
      "Epoch: [ 0], batch: [  173/  468], training loss: [0.28254610], train_acc: [0.9297], test_acc: [0.9370]\n",
      "Epoch: [ 0], batch: [  174/  468], training loss: [0.09629511], train_acc: [0.9766], test_acc: [0.9356]\n",
      "Epoch: [ 0], batch: [  175/  468], training loss: [0.14672238], train_acc: [0.9609], test_acc: [0.9342]\n",
      "Epoch: [ 0], batch: [  176/  468], training loss: [0.21827373], train_acc: [0.9375], test_acc: [0.9357]\n",
      "Epoch: [ 0], batch: [  177/  468], training loss: [0.22153896], train_acc: [0.9375], test_acc: [0.9373]\n",
      "Epoch: [ 0], batch: [  178/  468], training loss: [0.20353559], train_acc: [0.9453], test_acc: [0.9402]\n",
      "Epoch: [ 0], batch: [  179/  468], training loss: [0.29868782], train_acc: [0.9297], test_acc: [0.9418]\n",
      "Epoch: [ 0], batch: [  180/  468], training loss: [0.22684589], train_acc: [0.9453], test_acc: [0.9415]\n",
      "Epoch: [ 0], batch: [  181/  468], training loss: [0.22867055], train_acc: [0.9609], test_acc: [0.9412]\n",
      "Epoch: [ 0], batch: [  182/  468], training loss: [0.13586214], train_acc: [0.9453], test_acc: [0.9390]\n",
      "Epoch: [ 0], batch: [  183/  468], training loss: [0.33148596], train_acc: [0.9375], test_acc: [0.9393]\n",
      "Epoch: [ 0], batch: [  184/  468], training loss: [0.13553569], train_acc: [0.9766], test_acc: [0.9383]\n",
      "Epoch: [ 0], batch: [  185/  468], training loss: [0.17672336], train_acc: [0.9453], test_acc: [0.9383]\n",
      "Epoch: [ 0], batch: [  186/  468], training loss: [0.17876475], train_acc: [0.9297], test_acc: [0.9388]\n",
      "Epoch: [ 0], batch: [  187/  468], training loss: [0.20161393], train_acc: [0.9219], test_acc: [0.9416]\n",
      "Epoch: [ 0], batch: [  188/  468], training loss: [0.23564000], train_acc: [0.9453], test_acc: [0.9459]\n",
      "Epoch: [ 0], batch: [  189/  468], training loss: [0.22669859], train_acc: [0.9141], test_acc: [0.9437]\n",
      "Epoch: [ 0], batch: [  190/  468], training loss: [0.08650144], train_acc: [0.9844], test_acc: [0.9431]\n",
      "Epoch: [ 0], batch: [  191/  468], training loss: [0.25973645], train_acc: [0.9062], test_acc: [0.9405]\n",
      "Epoch: [ 0], batch: [  192/  468], training loss: [0.27808467], train_acc: [0.9453], test_acc: [0.9387]\n",
      "Epoch: [ 0], batch: [  193/  468], training loss: [0.10448817], train_acc: [0.9609], test_acc: [0.9350]\n",
      "Epoch: [ 0], batch: [  194/  468], training loss: [0.25108251], train_acc: [0.9141], test_acc: [0.9359]\n",
      "Epoch: [ 0], batch: [  195/  468], training loss: [0.14159586], train_acc: [0.9453], test_acc: [0.9347]\n",
      "Epoch: [ 0], batch: [  196/  468], training loss: [0.19583108], train_acc: [0.9531], test_acc: [0.9339]\n",
      "Epoch: [ 0], batch: [  197/  468], training loss: [0.17371403], train_acc: [0.9453], test_acc: [0.9333]\n",
      "Epoch: [ 0], batch: [  198/  468], training loss: [0.11724833], train_acc: [0.9453], test_acc: [0.9341]\n",
      "Epoch: [ 0], batch: [  199/  468], training loss: [0.30824074], train_acc: [0.9453], test_acc: [0.9367]\n",
      "Epoch: [ 0], batch: [  200/  468], training loss: [0.16480130], train_acc: [0.9609], test_acc: [0.9390]\n",
      "Epoch: [ 0], batch: [  201/  468], training loss: [0.11243318], train_acc: [0.9688], test_acc: [0.9424]\n",
      "Epoch: [ 0], batch: [  202/  468], training loss: [0.14517444], train_acc: [0.9609], test_acc: [0.9451]\n",
      "Epoch: [ 0], batch: [  203/  468], training loss: [0.19226091], train_acc: [0.9531], test_acc: [0.9463]\n",
      "Epoch: [ 0], batch: [  204/  468], training loss: [0.35089931], train_acc: [0.8906], test_acc: [0.9462]\n",
      "Epoch: [ 0], batch: [  205/  468], training loss: [0.12640190], train_acc: [0.9688], test_acc: [0.9478]\n",
      "Epoch: [ 0], batch: [  206/  468], training loss: [0.16595334], train_acc: [0.9531], test_acc: [0.9469]\n",
      "Epoch: [ 0], batch: [  207/  468], training loss: [0.28657687], train_acc: [0.8984], test_acc: [0.9453]\n",
      "Epoch: [ 0], batch: [  208/  468], training loss: [0.15078306], train_acc: [0.9453], test_acc: [0.9444]\n",
      "Epoch: [ 0], batch: [  209/  468], training loss: [0.21692950], train_acc: [0.9453], test_acc: [0.9443]\n",
      "Epoch: [ 0], batch: [  210/  468], training loss: [0.19028156], train_acc: [0.9531], test_acc: [0.9456]\n",
      "Epoch: [ 0], batch: [  211/  468], training loss: [0.12718505], train_acc: [0.9688], test_acc: [0.9475]\n",
      "Epoch: [ 0], batch: [  212/  468], training loss: [0.13474295], train_acc: [0.9453], test_acc: [0.9478]\n",
      "Epoch: [ 0], batch: [  213/  468], training loss: [0.21631512], train_acc: [0.9453], test_acc: [0.9465]\n",
      "Epoch: [ 0], batch: [  214/  468], training loss: [0.08577981], train_acc: [0.9766], test_acc: [0.9461]\n",
      "Epoch: [ 0], batch: [  215/  468], training loss: [0.06307196], train_acc: [0.9922], test_acc: [0.9439]\n",
      "Epoch: [ 0], batch: [  216/  468], training loss: [0.18823773], train_acc: [0.9688], test_acc: [0.9421]\n",
      "Epoch: [ 0], batch: [  217/  468], training loss: [0.16511443], train_acc: [0.9688], test_acc: [0.9410]\n",
      "Epoch: [ 0], batch: [  218/  468], training loss: [0.13859707], train_acc: [0.9531], test_acc: [0.9408]\n",
      "Epoch: [ 0], batch: [  219/  468], training loss: [0.22834942], train_acc: [0.9297], test_acc: [0.9413]\n",
      "Epoch: [ 0], batch: [  220/  468], training loss: [0.16120112], train_acc: [0.9609], test_acc: [0.9417]\n",
      "Epoch: [ 0], batch: [  221/  468], training loss: [0.14426498], train_acc: [0.9453], test_acc: [0.9422]\n",
      "Epoch: [ 0], batch: [  222/  468], training loss: [0.17501745], train_acc: [0.9609], test_acc: [0.9429]\n",
      "Epoch: [ 0], batch: [  223/  468], training loss: [0.14358518], train_acc: [0.9609], test_acc: [0.9461]\n",
      "Epoch: [ 0], batch: [  224/  468], training loss: [0.23841864], train_acc: [0.9219], test_acc: [0.9467]\n",
      "Epoch: [ 0], batch: [  225/  468], training loss: [0.14299551], train_acc: [0.9609], test_acc: [0.9473]\n",
      "Epoch: [ 0], batch: [  226/  468], training loss: [0.24765232], train_acc: [0.9453], test_acc: [0.9482]\n",
      "Epoch: [ 0], batch: [  227/  468], training loss: [0.10221347], train_acc: [0.9688], test_acc: [0.9481]\n",
      "Epoch: [ 0], batch: [  228/  468], training loss: [0.11127976], train_acc: [0.9688], test_acc: [0.9470]\n",
      "Epoch: [ 0], batch: [  229/  468], training loss: [0.24534495], train_acc: [0.9375], test_acc: [0.9468]\n",
      "Epoch: [ 0], batch: [  230/  468], training loss: [0.14604698], train_acc: [0.9531], test_acc: [0.9467]\n",
      "Epoch: [ 0], batch: [  231/  468], training loss: [0.10437299], train_acc: [0.9922], test_acc: [0.9473]\n",
      "Epoch: [ 0], batch: [  232/  468], training loss: [0.16584261], train_acc: [0.9609], test_acc: [0.9469]\n",
      "Epoch: [ 0], batch: [  233/  468], training loss: [0.12230422], train_acc: [0.9766], test_acc: [0.9459]\n",
      "Epoch: [ 0], batch: [  234/  468], training loss: [0.19885163], train_acc: [0.9297], test_acc: [0.9468]\n",
      "Epoch: [ 0], batch: [  235/  468], training loss: [0.23163326], train_acc: [0.9375], test_acc: [0.9473]\n",
      "Epoch: [ 0], batch: [  236/  468], training loss: [0.07496587], train_acc: [0.9766], test_acc: [0.9482]\n",
      "Epoch: [ 0], batch: [  237/  468], training loss: [0.19722991], train_acc: [0.9297], test_acc: [0.9490]\n",
      "Epoch: [ 0], batch: [  238/  468], training loss: [0.11199819], train_acc: [0.9766], test_acc: [0.9485]\n",
      "Epoch: [ 0], batch: [  239/  468], training loss: [0.30134773], train_acc: [0.9141], test_acc: [0.9482]\n"
     ]
    },
    {
     "name": "stdout",
     "output_type": "stream",
     "text": [
      "Epoch: [ 0], batch: [  240/  468], training loss: [0.15740809], train_acc: [0.9609], test_acc: [0.9496]\n",
      "Epoch: [ 0], batch: [  241/  468], training loss: [0.12527189], train_acc: [0.9531], test_acc: [0.9509]\n",
      "Epoch: [ 0], batch: [  242/  468], training loss: [0.13617249], train_acc: [0.9609], test_acc: [0.9511]\n",
      "Epoch: [ 0], batch: [  243/  468], training loss: [0.19819610], train_acc: [0.9531], test_acc: [0.9516]\n",
      "Epoch: [ 0], batch: [  244/  468], training loss: [0.07851814], train_acc: [0.9844], test_acc: [0.9490]\n",
      "Epoch: [ 0], batch: [  245/  468], training loss: [0.22366491], train_acc: [0.9453], test_acc: [0.9481]\n",
      "Epoch: [ 0], batch: [  246/  468], training loss: [0.23079696], train_acc: [0.9297], test_acc: [0.9465]\n",
      "Epoch: [ 0], batch: [  247/  468], training loss: [0.25784835], train_acc: [0.9219], test_acc: [0.9466]\n",
      "Epoch: [ 0], batch: [  248/  468], training loss: [0.18771413], train_acc: [0.9453], test_acc: [0.9464]\n",
      "Epoch: [ 0], batch: [  249/  468], training loss: [0.14308871], train_acc: [0.9688], test_acc: [0.9478]\n",
      "Epoch: [ 0], batch: [  250/  468], training loss: [0.21878295], train_acc: [0.9141], test_acc: [0.9500]\n",
      "Epoch: [ 0], batch: [  251/  468], training loss: [0.17172301], train_acc: [0.9531], test_acc: [0.9533]\n",
      "Epoch: [ 0], batch: [  252/  468], training loss: [0.20622674], train_acc: [0.9531], test_acc: [0.9518]\n",
      "Epoch: [ 0], batch: [  253/  468], training loss: [0.25820863], train_acc: [0.9297], test_acc: [0.9505]\n",
      "Epoch: [ 0], batch: [  254/  468], training loss: [0.18545943], train_acc: [0.9531], test_acc: [0.9495]\n",
      "Epoch: [ 0], batch: [  255/  468], training loss: [0.14124818], train_acc: [0.9531], test_acc: [0.9491]\n",
      "Epoch: [ 0], batch: [  256/  468], training loss: [0.09777968], train_acc: [0.9531], test_acc: [0.9497]\n",
      "Epoch: [ 0], batch: [  257/  468], training loss: [0.14009124], train_acc: [0.9609], test_acc: [0.9493]\n",
      "Epoch: [ 0], batch: [  258/  468], training loss: [0.18992528], train_acc: [0.9609], test_acc: [0.9496]\n",
      "Epoch: [ 0], batch: [  259/  468], training loss: [0.17011985], train_acc: [0.9609], test_acc: [0.9508]\n",
      "Epoch: [ 0], batch: [  260/  468], training loss: [0.23126952], train_acc: [0.9219], test_acc: [0.9512]\n",
      "Epoch: [ 0], batch: [  261/  468], training loss: [0.23974982], train_acc: [0.9375], test_acc: [0.9484]\n",
      "Epoch: [ 0], batch: [  262/  468], training loss: [0.20630890], train_acc: [0.9141], test_acc: [0.9465]\n",
      "Epoch: [ 0], batch: [  263/  468], training loss: [0.15870686], train_acc: [0.9609], test_acc: [0.9450]\n",
      "Epoch: [ 0], batch: [  264/  468], training loss: [0.12358148], train_acc: [0.9609], test_acc: [0.9437]\n",
      "Epoch: [ 0], batch: [  265/  468], training loss: [0.21259043], train_acc: [0.9297], test_acc: [0.9455]\n",
      "Epoch: [ 0], batch: [  266/  468], training loss: [0.21754950], train_acc: [0.9609], test_acc: [0.9476]\n",
      "Epoch: [ 0], batch: [  267/  468], training loss: [0.13115433], train_acc: [0.9688], test_acc: [0.9507]\n",
      "Epoch: [ 0], batch: [  268/  468], training loss: [0.06550513], train_acc: [0.9922], test_acc: [0.9528]\n",
      "Epoch: [ 0], batch: [  269/  468], training loss: [0.15104604], train_acc: [0.9609], test_acc: [0.9514]\n",
      "Epoch: [ 0], batch: [  270/  468], training loss: [0.17131746], train_acc: [0.9531], test_acc: [0.9502]\n",
      "Epoch: [ 0], batch: [  271/  468], training loss: [0.20255281], train_acc: [0.9609], test_acc: [0.9489]\n",
      "Epoch: [ 0], batch: [  272/  468], training loss: [0.08218886], train_acc: [0.9766], test_acc: [0.9484]\n",
      "Epoch: [ 0], batch: [  273/  468], training loss: [0.17614383], train_acc: [0.9453], test_acc: [0.9488]\n",
      "Epoch: [ 0], batch: [  274/  468], training loss: [0.14848739], train_acc: [0.9766], test_acc: [0.9491]\n",
      "Epoch: [ 0], batch: [  275/  468], training loss: [0.23878604], train_acc: [0.9141], test_acc: [0.9503]\n",
      "Epoch: [ 0], batch: [  276/  468], training loss: [0.11814874], train_acc: [0.9688], test_acc: [0.9518]\n",
      "Epoch: [ 0], batch: [  277/  468], training loss: [0.15525213], train_acc: [0.9609], test_acc: [0.9537]\n",
      "Epoch: [ 0], batch: [  278/  468], training loss: [0.18881354], train_acc: [0.9453], test_acc: [0.9533]\n",
      "Epoch: [ 0], batch: [  279/  468], training loss: [0.16645105], train_acc: [0.9531], test_acc: [0.9530]\n",
      "Epoch: [ 0], batch: [  280/  468], training loss: [0.16785210], train_acc: [0.9375], test_acc: [0.9526]\n",
      "Epoch: [ 0], batch: [  281/  468], training loss: [0.17703460], train_acc: [0.9453], test_acc: [0.9517]\n",
      "Epoch: [ 0], batch: [  282/  468], training loss: [0.12558685], train_acc: [0.9609], test_acc: [0.9514]\n",
      "Epoch: [ 0], batch: [  283/  468], training loss: [0.16613185], train_acc: [0.9453], test_acc: [0.9513]\n",
      "Epoch: [ 0], batch: [  284/  468], training loss: [0.21470645], train_acc: [0.9141], test_acc: [0.9514]\n",
      "Epoch: [ 0], batch: [  285/  468], training loss: [0.11730056], train_acc: [0.9688], test_acc: [0.9507]\n",
      "Epoch: [ 0], batch: [  286/  468], training loss: [0.19044316], train_acc: [0.9453], test_acc: [0.9499]\n",
      "Epoch: [ 0], batch: [  287/  468], training loss: [0.16075829], train_acc: [0.9609], test_acc: [0.9500]\n",
      "Epoch: [ 0], batch: [  288/  468], training loss: [0.19702320], train_acc: [0.9219], test_acc: [0.9502]\n",
      "Epoch: [ 0], batch: [  289/  468], training loss: [0.16665329], train_acc: [0.9609], test_acc: [0.9515]\n",
      "Epoch: [ 0], batch: [  290/  468], training loss: [0.15984008], train_acc: [0.9531], test_acc: [0.9520]\n",
      "Epoch: [ 0], batch: [  291/  468], training loss: [0.10839088], train_acc: [0.9609], test_acc: [0.9521]\n",
      "Epoch: [ 0], batch: [  292/  468], training loss: [0.15816295], train_acc: [0.9609], test_acc: [0.9517]\n",
      "Epoch: [ 0], batch: [  293/  468], training loss: [0.13775049], train_acc: [0.9531], test_acc: [0.9524]\n",
      "Epoch: [ 0], batch: [  294/  468], training loss: [0.17582688], train_acc: [0.9609], test_acc: [0.9514]\n",
      "Epoch: [ 0], batch: [  295/  468], training loss: [0.09155325], train_acc: [0.9688], test_acc: [0.9509]\n",
      "Epoch: [ 0], batch: [  296/  468], training loss: [0.16492665], train_acc: [0.9531], test_acc: [0.9512]\n",
      "Epoch: [ 0], batch: [  297/  468], training loss: [0.14766210], train_acc: [0.9688], test_acc: [0.9520]\n",
      "Epoch: [ 0], batch: [  298/  468], training loss: [0.20153002], train_acc: [0.9531], test_acc: [0.9518]\n",
      "Epoch: [ 0], batch: [  299/  468], training loss: [0.20787543], train_acc: [0.9453], test_acc: [0.9523]\n",
      "Epoch: [ 0], batch: [  300/  468], training loss: [0.18181342], train_acc: [0.9688], test_acc: [0.9526]\n",
      "Epoch: [ 0], batch: [  301/  468], training loss: [0.15923780], train_acc: [0.9375], test_acc: [0.9536]\n",
      "Epoch: [ 0], batch: [  302/  468], training loss: [0.10740934], train_acc: [0.9844], test_acc: [0.9525]\n",
      "Epoch: [ 0], batch: [  303/  468], training loss: [0.13493733], train_acc: [0.9688], test_acc: [0.9519]\n",
      "Epoch: [ 0], batch: [  304/  468], training loss: [0.12754145], train_acc: [0.9531], test_acc: [0.9504]\n",
      "Epoch: [ 0], batch: [  305/  468], training loss: [0.14519003], train_acc: [0.9453], test_acc: [0.9490]\n",
      "Epoch: [ 0], batch: [  306/  468], training loss: [0.15422425], train_acc: [0.9453], test_acc: [0.9507]\n",
      "Epoch: [ 0], batch: [  307/  468], training loss: [0.14776763], train_acc: [0.9453], test_acc: [0.9511]\n",
      "Epoch: [ 0], batch: [  308/  468], training loss: [0.17162031], train_acc: [0.9609], test_acc: [0.9518]\n",
      "Epoch: [ 0], batch: [  309/  468], training loss: [0.15635334], train_acc: [0.9609], test_acc: [0.9514]\n",
      "Epoch: [ 0], batch: [  310/  468], training loss: [0.09440958], train_acc: [0.9922], test_acc: [0.9492]\n",
      "Epoch: [ 0], batch: [  311/  468], training loss: [0.14894876], train_acc: [0.9609], test_acc: [0.9505]\n",
      "Epoch: [ 0], batch: [  312/  468], training loss: [0.10238995], train_acc: [0.9609], test_acc: [0.9527]\n",
      "Epoch: [ 0], batch: [  313/  468], training loss: [0.19296554], train_acc: [0.9375], test_acc: [0.9546]\n",
      "Epoch: [ 0], batch: [  314/  468], training loss: [0.17351612], train_acc: [0.9609], test_acc: [0.9567]\n",
      "Epoch: [ 0], batch: [  315/  468], training loss: [0.09637683], train_acc: [0.9766], test_acc: [0.9565]\n",
      "Epoch: [ 0], batch: [  316/  468], training loss: [0.08607146], train_acc: [0.9688], test_acc: [0.9561]\n",
      "Epoch: [ 0], batch: [  317/  468], training loss: [0.17198054], train_acc: [0.9453], test_acc: [0.9566]\n",
      "Epoch: [ 0], batch: [  318/  468], training loss: [0.20940536], train_acc: [0.9141], test_acc: [0.9561]\n",
      "Epoch: [ 0], batch: [  319/  468], training loss: [0.09142677], train_acc: [0.9766], test_acc: [0.9564]\n"
     ]
    },
    {
     "name": "stdout",
     "output_type": "stream",
     "text": [
      "Epoch: [ 0], batch: [  320/  468], training loss: [0.14867315], train_acc: [0.9766], test_acc: [0.9552]\n",
      "Epoch: [ 0], batch: [  321/  468], training loss: [0.08820929], train_acc: [0.9766], test_acc: [0.9528]\n",
      "Epoch: [ 0], batch: [  322/  468], training loss: [0.16860336], train_acc: [0.9688], test_acc: [0.9501]\n",
      "Epoch: [ 0], batch: [  323/  468], training loss: [0.17229298], train_acc: [0.9375], test_acc: [0.9497]\n",
      "Epoch: [ 0], batch: [  324/  468], training loss: [0.13757636], train_acc: [0.9609], test_acc: [0.9509]\n",
      "Epoch: [ 0], batch: [  325/  468], training loss: [0.10418489], train_acc: [0.9609], test_acc: [0.9505]\n",
      "Epoch: [ 0], batch: [  326/  468], training loss: [0.20799762], train_acc: [0.9375], test_acc: [0.9527]\n",
      "Epoch: [ 0], batch: [  327/  468], training loss: [0.32851416], train_acc: [0.9219], test_acc: [0.9531]\n",
      "Epoch: [ 0], batch: [  328/  468], training loss: [0.20301177], train_acc: [0.9375], test_acc: [0.9537]\n",
      "Epoch: [ 0], batch: [  329/  468], training loss: [0.08824778], train_acc: [0.9609], test_acc: [0.9538]\n",
      "Epoch: [ 0], batch: [  330/  468], training loss: [0.10500370], train_acc: [0.9609], test_acc: [0.9518]\n",
      "Epoch: [ 0], batch: [  331/  468], training loss: [0.16307802], train_acc: [0.9531], test_acc: [0.9532]\n",
      "Epoch: [ 0], batch: [  332/  468], training loss: [0.15184158], train_acc: [0.9453], test_acc: [0.9545]\n",
      "Epoch: [ 0], batch: [  333/  468], training loss: [0.09338048], train_acc: [0.9609], test_acc: [0.9528]\n",
      "Epoch: [ 0], batch: [  334/  468], training loss: [0.18272012], train_acc: [0.9609], test_acc: [0.9541]\n",
      "Epoch: [ 0], batch: [  335/  468], training loss: [0.19316304], train_acc: [0.9375], test_acc: [0.9562]\n",
      "Epoch: [ 0], batch: [  336/  468], training loss: [0.09175015], train_acc: [0.9844], test_acc: [0.9574]\n",
      "Epoch: [ 0], batch: [  337/  468], training loss: [0.17935579], train_acc: [0.9453], test_acc: [0.9585]\n",
      "Epoch: [ 0], batch: [  338/  468], training loss: [0.16252159], train_acc: [0.9375], test_acc: [0.9577]\n",
      "Epoch: [ 0], batch: [  339/  468], training loss: [0.13507944], train_acc: [0.9609], test_acc: [0.9589]\n",
      "Epoch: [ 0], batch: [  340/  468], training loss: [0.10340554], train_acc: [0.9766], test_acc: [0.9608]\n",
      "Epoch: [ 0], batch: [  341/  468], training loss: [0.18017006], train_acc: [0.9531], test_acc: [0.9614]\n",
      "Epoch: [ 0], batch: [  342/  468], training loss: [0.11688604], train_acc: [0.9609], test_acc: [0.9605]\n",
      "Epoch: [ 0], batch: [  343/  468], training loss: [0.11997151], train_acc: [0.9531], test_acc: [0.9592]\n",
      "Epoch: [ 0], batch: [  344/  468], training loss: [0.15219000], train_acc: [0.9531], test_acc: [0.9602]\n",
      "Epoch: [ 0], batch: [  345/  468], training loss: [0.15445688], train_acc: [0.9297], test_acc: [0.9596]\n",
      "Epoch: [ 0], batch: [  346/  468], training loss: [0.23063934], train_acc: [0.9375], test_acc: [0.9607]\n",
      "Epoch: [ 0], batch: [  347/  468], training loss: [0.12735568], train_acc: [0.9688], test_acc: [0.9614]\n",
      "Epoch: [ 0], batch: [  348/  468], training loss: [0.15934125], train_acc: [0.9531], test_acc: [0.9617]\n",
      "Epoch: [ 0], batch: [  349/  468], training loss: [0.03971005], train_acc: [0.9922], test_acc: [0.9608]\n",
      "Epoch: [ 0], batch: [  350/  468], training loss: [0.07325833], train_acc: [0.9844], test_acc: [0.9606]\n",
      "Epoch: [ 0], batch: [  351/  468], training loss: [0.13268392], train_acc: [0.9688], test_acc: [0.9607]\n",
      "Epoch: [ 0], batch: [  352/  468], training loss: [0.10528830], train_acc: [0.9766], test_acc: [0.9606]\n",
      "Epoch: [ 0], batch: [  353/  468], training loss: [0.09198806], train_acc: [0.9688], test_acc: [0.9604]\n",
      "Epoch: [ 0], batch: [  354/  468], training loss: [0.10519119], train_acc: [0.9688], test_acc: [0.9599]\n",
      "Epoch: [ 0], batch: [  355/  468], training loss: [0.14944197], train_acc: [0.9688], test_acc: [0.9611]\n",
      "Epoch: [ 0], batch: [  356/  468], training loss: [0.12150541], train_acc: [0.9531], test_acc: [0.9616]\n",
      "Epoch: [ 0], batch: [  357/  468], training loss: [0.09220634], train_acc: [0.9844], test_acc: [0.9604]\n",
      "Epoch: [ 0], batch: [  358/  468], training loss: [0.06453342], train_acc: [0.9844], test_acc: [0.9595]\n",
      "Epoch: [ 0], batch: [  359/  468], training loss: [0.15852764], train_acc: [0.9453], test_acc: [0.9598]\n",
      "Epoch: [ 0], batch: [  360/  468], training loss: [0.16744547], train_acc: [0.9688], test_acc: [0.9604]\n",
      "Epoch: [ 0], batch: [  361/  468], training loss: [0.05541711], train_acc: [0.9922], test_acc: [0.9592]\n",
      "Epoch: [ 0], batch: [  362/  468], training loss: [0.08940996], train_acc: [0.9766], test_acc: [0.9591]\n",
      "Epoch: [ 0], batch: [  363/  468], training loss: [0.10382077], train_acc: [0.9688], test_acc: [0.9578]\n",
      "Epoch: [ 0], batch: [  364/  468], training loss: [0.16412300], train_acc: [0.9375], test_acc: [0.9573]\n",
      "Epoch: [ 0], batch: [  365/  468], training loss: [0.16392343], train_acc: [0.9531], test_acc: [0.9579]\n",
      "Epoch: [ 0], batch: [  366/  468], training loss: [0.10743403], train_acc: [0.9688], test_acc: [0.9587]\n",
      "Epoch: [ 0], batch: [  367/  468], training loss: [0.12264583], train_acc: [0.9609], test_acc: [0.9591]\n",
      "Epoch: [ 0], batch: [  368/  468], training loss: [0.17184162], train_acc: [0.9766], test_acc: [0.9588]\n",
      "Epoch: [ 0], batch: [  369/  468], training loss: [0.07582204], train_acc: [0.9766], test_acc: [0.9589]\n",
      "Epoch: [ 0], batch: [  370/  468], training loss: [0.11305918], train_acc: [0.9688], test_acc: [0.9587]\n",
      "Epoch: [ 0], batch: [  371/  468], training loss: [0.11253832], train_acc: [0.9688], test_acc: [0.9596]\n",
      "Epoch: [ 0], batch: [  372/  468], training loss: [0.10777031], train_acc: [0.9766], test_acc: [0.9601]\n",
      "Epoch: [ 0], batch: [  373/  468], training loss: [0.11190068], train_acc: [0.9688], test_acc: [0.9591]\n",
      "Epoch: [ 0], batch: [  374/  468], training loss: [0.25355998], train_acc: [0.9453], test_acc: [0.9591]\n",
      "Epoch: [ 0], batch: [  375/  468], training loss: [0.22323331], train_acc: [0.9375], test_acc: [0.9590]\n",
      "Epoch: [ 0], batch: [  376/  468], training loss: [0.14896877], train_acc: [0.9375], test_acc: [0.9595]\n",
      "Epoch: [ 0], batch: [  377/  468], training loss: [0.13750398], train_acc: [0.9531], test_acc: [0.9594]\n",
      "Epoch: [ 0], batch: [  378/  468], training loss: [0.12017205], train_acc: [0.9453], test_acc: [0.9591]\n",
      "Epoch: [ 0], batch: [  379/  468], training loss: [0.17328793], train_acc: [0.9375], test_acc: [0.9582]\n",
      "Epoch: [ 0], batch: [  380/  468], training loss: [0.11525019], train_acc: [0.9844], test_acc: [0.9578]\n",
      "Epoch: [ 0], batch: [  381/  468], training loss: [0.14106281], train_acc: [0.9688], test_acc: [0.9561]\n",
      "Epoch: [ 0], batch: [  382/  468], training loss: [0.11731471], train_acc: [0.9766], test_acc: [0.9552]\n",
      "Epoch: [ 0], batch: [  383/  468], training loss: [0.15229011], train_acc: [0.9531], test_acc: [0.9552]\n",
      "Epoch: [ 0], batch: [  384/  468], training loss: [0.10888306], train_acc: [0.9688], test_acc: [0.9553]\n",
      "Epoch: [ 0], batch: [  385/  468], training loss: [0.09843684], train_acc: [0.9609], test_acc: [0.9538]\n",
      "Epoch: [ 0], batch: [  386/  468], training loss: [0.10053033], train_acc: [0.9688], test_acc: [0.9531]\n",
      "Epoch: [ 0], batch: [  387/  468], training loss: [0.15979341], train_acc: [0.9609], test_acc: [0.9558]\n",
      "Epoch: [ 0], batch: [  388/  468], training loss: [0.21849829], train_acc: [0.9453], test_acc: [0.9594]\n",
      "Epoch: [ 0], batch: [  389/  468], training loss: [0.16313580], train_acc: [0.9531], test_acc: [0.9613]\n",
      "Epoch: [ 0], batch: [  390/  468], training loss: [0.09239776], train_acc: [0.9609], test_acc: [0.9612]\n",
      "Epoch: [ 0], batch: [  391/  468], training loss: [0.16278175], train_acc: [0.9297], test_acc: [0.9621]\n",
      "Epoch: [ 0], batch: [  392/  468], training loss: [0.07888329], train_acc: [0.9922], test_acc: [0.9619]\n",
      "Epoch: [ 0], batch: [  393/  468], training loss: [0.09451649], train_acc: [0.9688], test_acc: [0.9621]\n",
      "Epoch: [ 0], batch: [  394/  468], training loss: [0.11648588], train_acc: [0.9688], test_acc: [0.9615]\n",
      "Epoch: [ 0], batch: [  395/  468], training loss: [0.05076561], train_acc: [0.9922], test_acc: [0.9618]\n",
      "Epoch: [ 0], batch: [  396/  468], training loss: [0.07997103], train_acc: [0.9766], test_acc: [0.9617]\n",
      "Epoch: [ 0], batch: [  397/  468], training loss: [0.08560297], train_acc: [0.9844], test_acc: [0.9594]\n",
      "Epoch: [ 0], batch: [  398/  468], training loss: [0.08981841], train_acc: [0.9688], test_acc: [0.9604]\n",
      "Epoch: [ 0], batch: [  399/  468], training loss: [0.16916047], train_acc: [0.9453], test_acc: [0.9607]\n"
     ]
    },
    {
     "name": "stdout",
     "output_type": "stream",
     "text": [
      "Epoch: [ 0], batch: [  400/  468], training loss: [0.10698613], train_acc: [0.9609], test_acc: [0.9609]\n",
      "Epoch: [ 0], batch: [  401/  468], training loss: [0.12795018], train_acc: [0.9688], test_acc: [0.9604]\n",
      "Epoch: [ 0], batch: [  402/  468], training loss: [0.21068734], train_acc: [0.9375], test_acc: [0.9621]\n",
      "Epoch: [ 0], batch: [  403/  468], training loss: [0.11180699], train_acc: [0.9844], test_acc: [0.9626]\n",
      "Epoch: [ 0], batch: [  404/  468], training loss: [0.12529993], train_acc: [0.9609], test_acc: [0.9638]\n",
      "Epoch: [ 0], batch: [  405/  468], training loss: [0.08565387], train_acc: [0.9688], test_acc: [0.9644]\n",
      "Epoch: [ 0], batch: [  406/  468], training loss: [0.12075074], train_acc: [0.9766], test_acc: [0.9638]\n",
      "Epoch: [ 0], batch: [  407/  468], training loss: [0.06087184], train_acc: [0.9922], test_acc: [0.9635]\n",
      "Epoch: [ 0], batch: [  408/  468], training loss: [0.08995792], train_acc: [0.9688], test_acc: [0.9630]\n",
      "Epoch: [ 0], batch: [  409/  468], training loss: [0.06866360], train_acc: [0.9688], test_acc: [0.9622]\n",
      "Epoch: [ 0], batch: [  410/  468], training loss: [0.05904418], train_acc: [0.9766], test_acc: [0.9612]\n",
      "Epoch: [ 0], batch: [  411/  468], training loss: [0.08844722], train_acc: [0.9766], test_acc: [0.9601]\n",
      "Epoch: [ 0], batch: [  412/  468], training loss: [0.14572637], train_acc: [0.9609], test_acc: [0.9600]\n",
      "Epoch: [ 0], batch: [  413/  468], training loss: [0.19195928], train_acc: [0.9375], test_acc: [0.9602]\n",
      "Epoch: [ 0], batch: [  414/  468], training loss: [0.15718162], train_acc: [0.9609], test_acc: [0.9596]\n",
      "Epoch: [ 0], batch: [  415/  468], training loss: [0.14836919], train_acc: [0.9375], test_acc: [0.9587]\n",
      "Epoch: [ 0], batch: [  416/  468], training loss: [0.25532159], train_acc: [0.9219], test_acc: [0.9586]\n",
      "Epoch: [ 0], batch: [  417/  468], training loss: [0.09207111], train_acc: [0.9766], test_acc: [0.9602]\n",
      "Epoch: [ 0], batch: [  418/  468], training loss: [0.16791570], train_acc: [0.9531], test_acc: [0.9606]\n",
      "Epoch: [ 0], batch: [  419/  468], training loss: [0.05898343], train_acc: [0.9844], test_acc: [0.9608]\n",
      "Epoch: [ 0], batch: [  420/  468], training loss: [0.22142601], train_acc: [0.9375], test_acc: [0.9616]\n",
      "Epoch: [ 0], batch: [  421/  468], training loss: [0.15512986], train_acc: [0.9531], test_acc: [0.9610]\n",
      "Epoch: [ 0], batch: [  422/  468], training loss: [0.05540237], train_acc: [0.9844], test_acc: [0.9592]\n",
      "Epoch: [ 0], batch: [  423/  468], training loss: [0.06845987], train_acc: [0.9844], test_acc: [0.9590]\n",
      "Epoch: [ 0], batch: [  424/  468], training loss: [0.11036398], train_acc: [0.9688], test_acc: [0.9596]\n",
      "Epoch: [ 0], batch: [  425/  468], training loss: [0.09045954], train_acc: [0.9922], test_acc: [0.9612]\n",
      "Epoch: [ 0], batch: [  426/  468], training loss: [0.17485970], train_acc: [0.9531], test_acc: [0.9615]\n",
      "Epoch: [ 0], batch: [  427/  468], training loss: [0.08687735], train_acc: [0.9609], test_acc: [0.9606]\n",
      "Epoch: [ 0], batch: [  428/  468], training loss: [0.17019963], train_acc: [0.9688], test_acc: [0.9614]\n",
      "Epoch: [ 0], batch: [  429/  468], training loss: [0.15230814], train_acc: [0.9531], test_acc: [0.9617]\n",
      "Epoch: [ 0], batch: [  430/  468], training loss: [0.12539004], train_acc: [0.9766], test_acc: [0.9609]\n",
      "Epoch: [ 0], batch: [  431/  468], training loss: [0.13092226], train_acc: [0.9688], test_acc: [0.9610]\n",
      "Epoch: [ 0], batch: [  432/  468], training loss: [0.12382855], train_acc: [0.9531], test_acc: [0.9605]\n",
      "Epoch: [ 0], batch: [  433/  468], training loss: [0.14265081], train_acc: [0.9609], test_acc: [0.9600]\n",
      "Epoch: [ 0], batch: [  434/  468], training loss: [0.10760643], train_acc: [0.9688], test_acc: [0.9585]\n",
      "Epoch: [ 0], batch: [  435/  468], training loss: [0.15828228], train_acc: [0.9531], test_acc: [0.9585]\n",
      "Epoch: [ 0], batch: [  436/  468], training loss: [0.13256964], train_acc: [0.9609], test_acc: [0.9599]\n",
      "Epoch: [ 0], batch: [  437/  468], training loss: [0.15137523], train_acc: [0.9688], test_acc: [0.9611]\n",
      "Epoch: [ 0], batch: [  438/  468], training loss: [0.08643716], train_acc: [0.9766], test_acc: [0.9615]\n",
      "Epoch: [ 0], batch: [  439/  468], training loss: [0.11083344], train_acc: [0.9844], test_acc: [0.9621]\n",
      "Epoch: [ 0], batch: [  440/  468], training loss: [0.13242745], train_acc: [0.9609], test_acc: [0.9612]\n",
      "Epoch: [ 0], batch: [  441/  468], training loss: [0.21050766], train_acc: [0.9609], test_acc: [0.9612]\n",
      "Epoch: [ 0], batch: [  442/  468], training loss: [0.11732259], train_acc: [0.9609], test_acc: [0.9608]\n",
      "Epoch: [ 0], batch: [  443/  468], training loss: [0.04893475], train_acc: [0.9766], test_acc: [0.9614]\n",
      "Epoch: [ 0], batch: [  444/  468], training loss: [0.14164364], train_acc: [0.9609], test_acc: [0.9616]\n",
      "Epoch: [ 0], batch: [  445/  468], training loss: [0.10203567], train_acc: [0.9766], test_acc: [0.9623]\n",
      "Epoch: [ 0], batch: [  446/  468], training loss: [0.11047081], train_acc: [0.9766], test_acc: [0.9619]\n",
      "Epoch: [ 0], batch: [  447/  468], training loss: [0.09451405], train_acc: [0.9688], test_acc: [0.9606]\n",
      "Epoch: [ 0], batch: [  448/  468], training loss: [0.14825819], train_acc: [0.9609], test_acc: [0.9592]\n",
      "Epoch: [ 0], batch: [  449/  468], training loss: [0.23528551], train_acc: [0.9531], test_acc: [0.9608]\n",
      "Epoch: [ 0], batch: [  450/  468], training loss: [0.25443667], train_acc: [0.9297], test_acc: [0.9634]\n",
      "Epoch: [ 0], batch: [  451/  468], training loss: [0.20533462], train_acc: [0.9609], test_acc: [0.9642]\n",
      "Epoch: [ 0], batch: [  452/  468], training loss: [0.09437019], train_acc: [0.9688], test_acc: [0.9650]\n",
      "Epoch: [ 0], batch: [  453/  468], training loss: [0.09917577], train_acc: [0.9688], test_acc: [0.9642]\n",
      "Epoch: [ 0], batch: [  454/  468], training loss: [0.11605173], train_acc: [0.9609], test_acc: [0.9635]\n",
      "Epoch: [ 0], batch: [  455/  468], training loss: [0.09660263], train_acc: [0.9531], test_acc: [0.9625]\n",
      "Epoch: [ 0], batch: [  456/  468], training loss: [0.06738299], train_acc: [0.9766], test_acc: [0.9604]\n",
      "Epoch: [ 0], batch: [  457/  468], training loss: [0.06945875], train_acc: [0.9922], test_acc: [0.9595]\n",
      "Epoch: [ 0], batch: [  458/  468], training loss: [0.05512560], train_acc: [0.9844], test_acc: [0.9603]\n",
      "Epoch: [ 0], batch: [  459/  468], training loss: [0.05057315], train_acc: [0.9922], test_acc: [0.9617]\n",
      "Epoch: [ 0], batch: [  460/  468], training loss: [0.12258491], train_acc: [0.9531], test_acc: [0.9623]\n",
      "Epoch: [ 0], batch: [  461/  468], training loss: [0.13284731], train_acc: [0.9688], test_acc: [0.9630]\n",
      "Epoch: [ 0], batch: [  462/  468], training loss: [0.13148858], train_acc: [0.9453], test_acc: [0.9640]\n",
      "Epoch: [ 0], batch: [  463/  468], training loss: [0.07434417], train_acc: [0.9766], test_acc: [0.9608]\n",
      "Epoch: [ 0], batch: [  464/  468], training loss: [0.13010348], train_acc: [0.9453], test_acc: [0.9606]\n",
      "Epoch: [ 0], batch: [  465/  468], training loss: [0.06303605], train_acc: [0.9844], test_acc: [0.9603]\n",
      "Epoch: [ 0], batch: [  466/  468], training loss: [0.14923479], train_acc: [0.9609], test_acc: [0.9592]\n",
      "Epoch: [ 0], batch: [  467/  468], training loss: [0.08283052], train_acc: [0.9766], test_acc: [0.9585]\n"
     ]
    }
   ],
   "source": [
    "for epoch in range(training_epochs):\n",
    "    for idx, (train_input, train_label) in enumerate(train_dataset):\n",
    "        grads = grad(network, train_input, train_label)\n",
    "        optimizer.apply_gradients(grads_and_vars=zip(grads, network.variables))\n",
    "        \n",
    "        train_loss = loss_fn(network, train_input, train_label)\n",
    "        train_accuracy = accuracy_fn(network, train_input, train_label)\n",
    "        \n",
    "        for test_input, test_label in test_dataset:\n",
    "            test_accuracy = accuracy_fn(network, test_input, test_label)\n",
    "       \n",
    "        print(\"Epoch: [%2d], batch: [%5d/%5d], training loss: [%.8f], train_acc: [%.4f], test_acc: [%.4f]\"\\\n",
    "              %(epoch, idx, training_iterations,train_loss, train_accuracy,test_accuracy))"
   ]
  },
  {
   "cell_type": "markdown",
   "id": "565789d3",
   "metadata": {},
   "source": [
    "가중치 초기화 방식만을 개선했음에도 test정확도가 크게 증가함을 볼 수 있습니다"
   ]
  },
  {
   "cell_type": "markdown",
   "id": "719a96e4",
   "metadata": {},
   "source": [
    "![initializer.png](https://t1.daumcdn.net/cfile/tistory/991D9B425B4305D34F)\n",
    "초기화 방식은 이밖에 다수 존재하며, 아직까지는 어떤 방식이 절대적으로 우위를 갖는다고는 말할 수 없습니다. "
   ]
  },
  {
   "cell_type": "markdown",
   "id": "a8769878",
   "metadata": {},
   "source": [
    "## Dropout을 통한 성능 향상 "
   ]
  },
  {
   "cell_type": "markdown",
   "id": "a5771f63",
   "metadata": {},
   "source": [
    "### 학습내용 \n",
    "* Dropout은 과적합을 방지하기 위해 하나의 네트워크를 구성하는 일정 비율의 노드를 비활성화 시키는 방법을 말합니다. \n",
    "\n",
    "##### 가중치의 갯수와 Overfitting \n",
    "![modelComplexity_overfitting.png](https://encrypted-tbn0.gstatic.com/images?q=tbn:ANd9GcQJo_BKmazScjXhO4xY-J-XdfEVA6YPIlo3zrTCUxZmDj8N5OBbSeL0QLoIKCbWKb5HvEg&usqp=CAU)\n",
    "* 일반적으로 모형이 복잡해질수록, 즉 모형의 layer가 깊어지거나 넓어져 가중치의 갯수가 증가할 수록, 과적합의 발생 가능성이 높아집니다. \n",
    "![exam_over.png](https://img1.daumcdn.net/thumb/R800x0/?scode=mtistory2&fname=https%3A%2F%2Ft1.daumcdn.net%2Fcfile%2Ftistory%2F99E3E23F5C3459982A) \n",
    "* 예를들어, 위의 그림과 같이 모형의 복잡도가 올라갈수록, 모형이 도출하는 Hyper_plane(초평면)이 train data에 과도하게 맞춰져 test데이터를 일반적으로 맞출수 없게 됩니다. 따라서, 우리는 이러한 현상을 막기 위해 DropOut 기법을 활용합니다. \n",
    "![Dropout.png](https://media.springernature.com/original/springer-static/image/chp%3A10.1007%2F978-3-030-16841-4_21/MediaObjects/481859_1_En_21_Fig1_HTML.png)\n",
    "* Dropout은 학습과정에서, 매 단계마다 랜덤하게 일부의 노드를 비활성화 시켜 학습을 진행시킨 이후에, 모형을 취합시켜 예측을 수행하는 방식을 의미합니다. \n"
   ]
  },
  {
   "cell_type": "markdown",
   "id": "9953799e",
   "metadata": {},
   "source": [
    "### 코드를 통한 구현 \n",
    "* 이번에도 마찬가지로 checkpoint를 남기지 않고 진행하겠습니다. "
   ]
  },
  {
   "cell_type": "code",
   "execution_count": 79,
   "id": "8f35703a",
   "metadata": {},
   "outputs": [
    {
     "name": "stdout",
     "output_type": "stream",
     "text": [
      "2.5.0\n"
     ]
    }
   ],
   "source": [
    "# 연산을 위한 라이브러리 \n",
    "import tensorflow as tf \n",
    "import numpy as np \n",
    "\n",
    "# 레이블 원핫인코딩 \n",
    "from tensorflow.keras.utils import to_categorical\n",
    "\n",
    "# 데이터셋 \n",
    "from tensorflow.keras.datasets import mnist\n",
    "\n",
    "print(tf.__version__)"
   ]
  },
  {
   "cell_type": "code",
   "execution_count": 80,
   "id": "675ec7c3",
   "metadata": {},
   "outputs": [],
   "source": [
    "# 데이터 호출 함수 \n",
    "# 상세사항은 위에서 정리한것을 참조합니다. \n",
    "def load_mnist():\n",
    "    (train_data, train_labels), (test_data, test_labels) = mnist.load_data()\n",
    "    \n",
    "    train_data = np.expand_dims(train_data, axis=-1)\n",
    "    test_data = np.expand_dims(test_data, axis =-1)\n",
    "    \n",
    "    train_data = train_data.astype(np.float32)/255.0\n",
    "    test_data = test_data.astype(np.float32)/255.0\n",
    "    \n",
    "    train_labels = to_categorical(train_labels, 10)\n",
    "    test_labels = to_categorical(test_labels, 10)\n",
    "    \n",
    "    return train_data, train_labels, test_data, test_labels"
   ]
  },
  {
   "cell_type": "code",
   "execution_count": 81,
   "id": "cd48cfd4",
   "metadata": {},
   "outputs": [],
   "source": [
    "# 손실함수 정의 \n",
    "def loss_fn(model, images, labels):\n",
    "    logits = model(images, training = True)\n",
    "    loss = tf.reduce_mean(tf.keras.losses.categorical_crossentropy(y_pred=logits,\n",
    "                                                                  y_true=labels,\n",
    "                                                                  from_logits = True))\n",
    "    return loss "
   ]
  },
  {
   "cell_type": "code",
   "execution_count": 82,
   "id": "13d417b6",
   "metadata": {},
   "outputs": [],
   "source": [
    "# 정확도 함수 정의 \n",
    "def accuracy_fn(model, images, labels):\n",
    "    logits = model(images, training= False)\n",
    "    prediction = tf.equal(tf.argmax(logits, -1), tf.argmax(labels, -1))\n",
    "    acc = tf.reduce_mean(tf.cast(prediction, tf.float32))\n",
    "    return acc"
   ]
  },
  {
   "cell_type": "markdown",
   "id": "bcd2d005",
   "metadata": {},
   "source": [
    "##### Training 옵션을 통한 Dropout의 적용 \n",
    "* 텐서플로우를 통한 model에서 training = True 옵션 을 지정하면 Dropout층이 활성화 되어, Dropout을 실행한다. \n",
    "* 하지만, test과정에서는 모든 노드를 동원하여 예측하여야 하기 때문에, training옵션에 False를 지정하면 Dropout이 자동적으로 비활성화 된다. \n",
    "\n",
    "* 이를 low level에서 활용하는 방식은 다음 4.5에서 포함하여 다룰 예정이다. "
   ]
  },
  {
   "cell_type": "code",
   "execution_count": 83,
   "id": "a2f5a8aa",
   "metadata": {},
   "outputs": [],
   "source": [
    "# 기울기 추적 함수 \n",
    "def grad(model, images, labels):\n",
    "    with tf.GradientTape() as tape:\n",
    "        loss = loss_fn(model, images, labels)\n",
    "    return tape.gradient(loss, model.variables)"
   ]
  },
  {
   "cell_type": "code",
   "execution_count": 84,
   "id": "6d3d9c73",
   "metadata": {},
   "outputs": [],
   "source": [
    "# 모형 구성 층 함수 \n",
    "\n",
    "def flatten() :\n",
    "    return tf.keras.layers.Flatten()\n",
    "\n",
    "def dense(label_dim, weight_init) :\n",
    "    return tf.keras.layers.Dense(units=label_dim, use_bias=True, kernel_initializer=weight_init)\n",
    "\n",
    "def relu() :\n",
    "    return tf.keras.layers.Activation(tf.keras.activations.relu)\n"
   ]
  },
  {
   "cell_type": "markdown",
   "id": "eb94c911",
   "metadata": {},
   "source": [
    "##### Dropout층 \n",
    "* rate: Float between 0 and 1. Fraction of the input units to drop.  \n",
    "  - rate옵션은 0~1 사이의 값으로 만약 0.2 입력시 매번 수행마다 자동적으로 20%의 값이 드롭아웃된다."
   ]
  },
  {
   "cell_type": "code",
   "execution_count": 92,
   "id": "6522624d",
   "metadata": {},
   "outputs": [],
   "source": [
    "def dropout(rate) :\n",
    "    return tf.keras.layers.Dropout(rate)"
   ]
  },
  {
   "cell_type": "code",
   "execution_count": 85,
   "id": "0c6c32c1",
   "metadata": {},
   "outputs": [],
   "source": [
    "# tf.keras.layers.Dropout?"
   ]
  },
  {
   "cell_type": "code",
   "execution_count": 86,
   "id": "b35a5639",
   "metadata": {},
   "outputs": [],
   "source": [
    "# # Create model (class version)\n",
    "# class create_model_class(tf.keras.Model):\n",
    "#     def __init__(self, label_dim):\n",
    "#         super(create_model_class, self).__init__()\n",
    "#         weight_init = tf.keras.initializers.glorot_uniform()\n",
    "\n",
    "#         self.model = tf.keras.Sequential()\n",
    "#         self.model.add(flatten())\n",
    "\n",
    "#         for i in range(4):\n",
    "#             self.model.add(dense(512, weight_init))\n",
    "#             self.model.add(relu())\n",
    "#             self.model.add(dropout(rate=0.5))\n",
    "\n",
    "#         self.model.add(dense(label_dim, weight_init))\n",
    "\n",
    "#     def call(self, x, training=None, mask=None):\n",
    "\n",
    "#         x = self.model(x)\n",
    "\n",
    "#         return x"
   ]
  },
  {
   "cell_type": "markdown",
   "id": "4352fb98",
   "metadata": {},
   "source": [
    "##### 모형 생성시  Dropout층 추가 "
   ]
  },
  {
   "cell_type": "code",
   "execution_count": 87,
   "id": "e1684de2",
   "metadata": {},
   "outputs": [],
   "source": [
    "def create_model_function(label_dim) :\n",
    "    weight_init = tf.keras.initializers.glorot_uniform()\n",
    "\n",
    "    model = tf.keras.Sequential()\n",
    "    model.add(flatten())\n",
    "\n",
    "    for i in range(4) :\n",
    "        model.add(dense(512, weight_init))\n",
    "        model.add(relu())\n",
    "        model.add(dropout(rate=0.5))\n",
    "\n",
    "    model.add(dense(label_dim, weight_init))\n",
    "\n",
    "    return model"
   ]
  },
  {
   "cell_type": "markdown",
   "id": "70c14f7e",
   "metadata": {},
   "source": [
    "* 각 layer에서 Dropout층의 위치는 다양한 방식으로 사용되지만, 아래와 같은 방식이 가장 많이 사용된다.\n",
    "    - 1. layer >>> activation >>> Dropout "
   ]
  },
  {
   "cell_type": "code",
   "execution_count": 88,
   "id": "408b5b92",
   "metadata": {},
   "outputs": [],
   "source": [
    "\"\"\" dataset \"\"\"\n",
    "train_x, train_y, test_x, test_y = load_mnist()"
   ]
  },
  {
   "cell_type": "code",
   "execution_count": 89,
   "id": "53d75b02",
   "metadata": {},
   "outputs": [],
   "source": [
    "\"\"\" parameters \"\"\"\n",
    "learning_rate = 0.001\n",
    "batch_size = 128\n",
    "\n",
    "training_epochs = 1\n",
    "training_iterations = len(train_x) // batch_size\n",
    "\n",
    "label_dim = 10\n",
    "\n",
    "train_flag = True"
   ]
  },
  {
   "cell_type": "code",
   "execution_count": 90,
   "id": "06b487cf",
   "metadata": {},
   "outputs": [],
   "source": [
    "\"\"\" Graph Input using Dataset API \"\"\"\n",
    "train_dataset = tf.data.Dataset.from_tensor_slices((train_x, train_y)).\\\n",
    "    shuffle(buffer_size=100000).\\\n",
    "    prefetch(buffer_size=batch_size).\\\n",
    "    batch(batch_size, drop_remainder=True)\n",
    "\n",
    "test_dataset = tf.data.Dataset.from_tensor_slices((test_x, test_y)).\\\n",
    "    shuffle(buffer_size=100000).\\\n",
    "    prefetch(buffer_size=len(test_x)).\\\n",
    "    batch(len(test_x))"
   ]
  },
  {
   "cell_type": "code",
   "execution_count": 93,
   "id": "378d4830",
   "metadata": {},
   "outputs": [],
   "source": [
    "\"\"\" Model \"\"\"\n",
    "network = create_model_function(label_dim)\n",
    "\n",
    "\"\"\" Training \"\"\"\n",
    "optimizer = tf.keras.optimizers.Adam(learning_rate=learning_rate)"
   ]
  },
  {
   "cell_type": "code",
   "execution_count": 94,
   "id": "5518a6f8",
   "metadata": {},
   "outputs": [
    {
     "name": "stdout",
     "output_type": "stream",
     "text": [
      "Epoch: [ 0], batch: [    0/  468], training loss: [2.36862159], train_acc: [0.1719], test_acc: [0.1038]\n",
      "Epoch: [ 0], batch: [    1/  468], training loss: [2.31953859], train_acc: [0.0625], test_acc: [0.1047]\n",
      "Epoch: [ 0], batch: [    2/  468], training loss: [2.32758689], train_acc: [0.1484], test_acc: [0.1425]\n",
      "Epoch: [ 0], batch: [    3/  468], training loss: [2.21729946], train_acc: [0.2734], test_acc: [0.2186]\n",
      "Epoch: [ 0], batch: [    4/  468], training loss: [2.21575451], train_acc: [0.2969], test_acc: [0.2907]\n",
      "Epoch: [ 0], batch: [    5/  468], training loss: [2.30938387], train_acc: [0.3359], test_acc: [0.3030]\n",
      "Epoch: [ 0], batch: [    6/  468], training loss: [2.33364058], train_acc: [0.3672], test_acc: [0.3406]\n",
      "Epoch: [ 0], batch: [    7/  468], training loss: [2.26559496], train_acc: [0.4141], test_acc: [0.3951]\n",
      "Epoch: [ 0], batch: [    8/  468], training loss: [2.23806000], train_acc: [0.4609], test_acc: [0.4547]\n",
      "Epoch: [ 0], batch: [    9/  468], training loss: [2.14988804], train_acc: [0.4844], test_acc: [0.4913]\n",
      "Epoch: [ 0], batch: [   10/  468], training loss: [2.19646907], train_acc: [0.3984], test_acc: [0.5347]\n",
      "Epoch: [ 0], batch: [   11/  468], training loss: [2.08794665], train_acc: [0.5938], test_acc: [0.5642]\n",
      "Epoch: [ 0], batch: [   12/  468], training loss: [2.01690388], train_acc: [0.6562], test_acc: [0.5941]\n",
      "Epoch: [ 0], batch: [   13/  468], training loss: [2.04234838], train_acc: [0.5312], test_acc: [0.6016]\n",
      "Epoch: [ 0], batch: [   14/  468], training loss: [2.05861044], train_acc: [0.5391], test_acc: [0.5988]\n",
      "Epoch: [ 0], batch: [   15/  468], training loss: [1.91704857], train_acc: [0.5938], test_acc: [0.5976]\n",
      "Epoch: [ 0], batch: [   16/  468], training loss: [1.85489464], train_acc: [0.6406], test_acc: [0.5829]\n",
      "Epoch: [ 0], batch: [   17/  468], training loss: [1.87143469], train_acc: [0.6172], test_acc: [0.5834]\n",
      "Epoch: [ 0], batch: [   18/  468], training loss: [1.92319334], train_acc: [0.5312], test_acc: [0.5983]\n",
      "Epoch: [ 0], batch: [   19/  468], training loss: [1.83770204], train_acc: [0.6406], test_acc: [0.6029]\n",
      "Epoch: [ 0], batch: [   20/  468], training loss: [1.81122756], train_acc: [0.5781], test_acc: [0.6146]\n",
      "Epoch: [ 0], batch: [   21/  468], training loss: [1.68999290], train_acc: [0.6250], test_acc: [0.6119]\n",
      "Epoch: [ 0], batch: [   22/  468], training loss: [1.70373726], train_acc: [0.6094], test_acc: [0.6221]\n",
      "Epoch: [ 0], batch: [   23/  468], training loss: [1.62134957], train_acc: [0.6016], test_acc: [0.6392]\n",
      "Epoch: [ 0], batch: [   24/  468], training loss: [1.45152199], train_acc: [0.6562], test_acc: [0.6573]\n",
      "Epoch: [ 0], batch: [   25/  468], training loss: [1.37952304], train_acc: [0.6641], test_acc: [0.6714]\n",
      "Epoch: [ 0], batch: [   26/  468], training loss: [1.46342349], train_acc: [0.6562], test_acc: [0.6824]\n",
      "Epoch: [ 0], batch: [   27/  468], training loss: [1.62249684], train_acc: [0.6172], test_acc: [0.6914]\n",
      "Epoch: [ 0], batch: [   28/  468], training loss: [1.42798090], train_acc: [0.6953], test_acc: [0.7055]\n",
      "Epoch: [ 0], batch: [   29/  468], training loss: [1.20172858], train_acc: [0.7578], test_acc: [0.7122]\n",
      "Epoch: [ 0], batch: [   30/  468], training loss: [1.47425389], train_acc: [0.6641], test_acc: [0.7179]\n",
      "Epoch: [ 0], batch: [   31/  468], training loss: [1.17103171], train_acc: [0.7656], test_acc: [0.7384]\n",
      "Epoch: [ 0], batch: [   32/  468], training loss: [1.23336339], train_acc: [0.7266], test_acc: [0.7603]\n",
      "Epoch: [ 0], batch: [   33/  468], training loss: [1.09809709], train_acc: [0.7656], test_acc: [0.7827]\n",
      "Epoch: [ 0], batch: [   34/  468], training loss: [1.13820314], train_acc: [0.7891], test_acc: [0.7973]\n",
      "Epoch: [ 0], batch: [   35/  468], training loss: [0.96080291], train_acc: [0.7734], test_acc: [0.7940]\n",
      "Epoch: [ 0], batch: [   36/  468], training loss: [1.21753407], train_acc: [0.7500], test_acc: [0.7872]\n",
      "Epoch: [ 0], batch: [   37/  468], training loss: [1.05022573], train_acc: [0.7891], test_acc: [0.7859]\n",
      "Epoch: [ 0], batch: [   38/  468], training loss: [0.87813520], train_acc: [0.8203], test_acc: [0.7910]\n",
      "Epoch: [ 0], batch: [   39/  468], training loss: [1.00711393], train_acc: [0.8281], test_acc: [0.7950]\n",
      "Epoch: [ 0], batch: [   40/  468], training loss: [1.15490365], train_acc: [0.7734], test_acc: [0.7978]\n",
      "Epoch: [ 0], batch: [   41/  468], training loss: [1.00416279], train_acc: [0.7344], test_acc: [0.7963]\n",
      "Epoch: [ 0], batch: [   42/  468], training loss: [0.87888384], train_acc: [0.8438], test_acc: [0.7950]\n",
      "Epoch: [ 0], batch: [   43/  468], training loss: [0.91032922], train_acc: [0.7734], test_acc: [0.7947]\n",
      "Epoch: [ 0], batch: [   44/  468], training loss: [0.95843184], train_acc: [0.7812], test_acc: [0.7985]\n",
      "Epoch: [ 0], batch: [   45/  468], training loss: [0.88873553], train_acc: [0.7969], test_acc: [0.8140]\n",
      "Epoch: [ 0], batch: [   46/  468], training loss: [0.87512112], train_acc: [0.8516], test_acc: [0.8303]\n",
      "Epoch: [ 0], batch: [   47/  468], training loss: [1.01144671], train_acc: [0.8281], test_acc: [0.8372]\n",
      "Epoch: [ 0], batch: [   48/  468], training loss: [0.81761062], train_acc: [0.8828], test_acc: [0.8385]\n",
      "Epoch: [ 0], batch: [   49/  468], training loss: [0.84188163], train_acc: [0.8125], test_acc: [0.8377]\n",
      "Epoch: [ 0], batch: [   50/  468], training loss: [0.66876125], train_acc: [0.8594], test_acc: [0.8364]\n",
      "Epoch: [ 0], batch: [   51/  468], training loss: [0.75592571], train_acc: [0.8516], test_acc: [0.8329]\n",
      "Epoch: [ 0], batch: [   52/  468], training loss: [0.74144936], train_acc: [0.8359], test_acc: [0.8326]\n",
      "Epoch: [ 0], batch: [   53/  468], training loss: [0.73241627], train_acc: [0.8672], test_acc: [0.8343]\n",
      "Epoch: [ 0], batch: [   54/  468], training loss: [0.69369566], train_acc: [0.8281], test_acc: [0.8425]\n",
      "Epoch: [ 0], batch: [   55/  468], training loss: [0.65423912], train_acc: [0.8594], test_acc: [0.8505]\n",
      "Epoch: [ 0], batch: [   56/  468], training loss: [0.69029188], train_acc: [0.8828], test_acc: [0.8525]\n",
      "Epoch: [ 0], batch: [   57/  468], training loss: [0.63537854], train_acc: [0.8438], test_acc: [0.8532]\n",
      "Epoch: [ 0], batch: [   58/  468], training loss: [0.76320207], train_acc: [0.8672], test_acc: [0.8548]\n",
      "Epoch: [ 0], batch: [   59/  468], training loss: [0.77856892], train_acc: [0.8828], test_acc: [0.8566]\n",
      "Epoch: [ 0], batch: [   60/  468], training loss: [0.72264588], train_acc: [0.8125], test_acc: [0.8621]\n",
      "Epoch: [ 0], batch: [   61/  468], training loss: [0.73510325], train_acc: [0.9062], test_acc: [0.8682]\n",
      "Epoch: [ 0], batch: [   62/  468], training loss: [0.62038660], train_acc: [0.8672], test_acc: [0.8711]\n",
      "Epoch: [ 0], batch: [   63/  468], training loss: [0.80957150], train_acc: [0.8438], test_acc: [0.8772]\n",
      "Epoch: [ 0], batch: [   64/  468], training loss: [0.57230425], train_acc: [0.9141], test_acc: [0.8796]\n",
      "Epoch: [ 0], batch: [   65/  468], training loss: [0.72065324], train_acc: [0.8516], test_acc: [0.8820]\n",
      "Epoch: [ 0], batch: [   66/  468], training loss: [0.50572169], train_acc: [0.8984], test_acc: [0.8832]\n",
      "Epoch: [ 0], batch: [   67/  468], training loss: [0.64568156], train_acc: [0.8906], test_acc: [0.8804]\n",
      "Epoch: [ 0], batch: [   68/  468], training loss: [0.47617644], train_acc: [0.9141], test_acc: [0.8795]\n",
      "Epoch: [ 0], batch: [   69/  468], training loss: [0.49102485], train_acc: [0.9141], test_acc: [0.8790]\n",
      "Epoch: [ 0], batch: [   70/  468], training loss: [0.54290062], train_acc: [0.8750], test_acc: [0.8814]\n",
      "Epoch: [ 0], batch: [   71/  468], training loss: [0.53628516], train_acc: [0.9141], test_acc: [0.8801]\n",
      "Epoch: [ 0], batch: [   72/  468], training loss: [0.61713541], train_acc: [0.8828], test_acc: [0.8823]\n",
      "Epoch: [ 0], batch: [   73/  468], training loss: [0.50892591], train_acc: [0.8984], test_acc: [0.8819]\n",
      "Epoch: [ 0], batch: [   74/  468], training loss: [0.55002373], train_acc: [0.8594], test_acc: [0.8827]\n",
      "Epoch: [ 0], batch: [   75/  468], training loss: [0.68073118], train_acc: [0.8750], test_acc: [0.8852]\n",
      "Epoch: [ 0], batch: [   76/  468], training loss: [0.53137141], train_acc: [0.8750], test_acc: [0.8837]\n",
      "Epoch: [ 0], batch: [   77/  468], training loss: [0.53593034], train_acc: [0.8672], test_acc: [0.8861]\n",
      "Epoch: [ 0], batch: [   78/  468], training loss: [0.59617996], train_acc: [0.8984], test_acc: [0.8932]\n"
     ]
    },
    {
     "name": "stdout",
     "output_type": "stream",
     "text": [
      "Epoch: [ 0], batch: [   79/  468], training loss: [0.57022578], train_acc: [0.8984], test_acc: [0.8962]\n",
      "Epoch: [ 0], batch: [   80/  468], training loss: [0.40485448], train_acc: [0.9453], test_acc: [0.8986]\n",
      "Epoch: [ 0], batch: [   81/  468], training loss: [0.48055804], train_acc: [0.8828], test_acc: [0.8997]\n",
      "Epoch: [ 0], batch: [   82/  468], training loss: [0.56918019], train_acc: [0.8594], test_acc: [0.9008]\n",
      "Epoch: [ 0], batch: [   83/  468], training loss: [0.51864123], train_acc: [0.8750], test_acc: [0.9010]\n",
      "Epoch: [ 0], batch: [   84/  468], training loss: [0.56237912], train_acc: [0.9141], test_acc: [0.9039]\n",
      "Epoch: [ 0], batch: [   85/  468], training loss: [0.53297913], train_acc: [0.8750], test_acc: [0.9062]\n",
      "Epoch: [ 0], batch: [   86/  468], training loss: [0.52222234], train_acc: [0.8906], test_acc: [0.9063]\n",
      "Epoch: [ 0], batch: [   87/  468], training loss: [0.51880038], train_acc: [0.8828], test_acc: [0.9041]\n",
      "Epoch: [ 0], batch: [   88/  468], training loss: [0.47013259], train_acc: [0.9062], test_acc: [0.9023]\n",
      "Epoch: [ 0], batch: [   89/  468], training loss: [0.50566924], train_acc: [0.8672], test_acc: [0.9022]\n",
      "Epoch: [ 0], batch: [   90/  468], training loss: [0.58346748], train_acc: [0.9375], test_acc: [0.9027]\n",
      "Epoch: [ 0], batch: [   91/  468], training loss: [0.58400619], train_acc: [0.8672], test_acc: [0.9034]\n",
      "Epoch: [ 0], batch: [   92/  468], training loss: [0.51635557], train_acc: [0.8750], test_acc: [0.9039]\n",
      "Epoch: [ 0], batch: [   93/  468], training loss: [0.53332269], train_acc: [0.9062], test_acc: [0.9047]\n",
      "Epoch: [ 0], batch: [   94/  468], training loss: [0.57339495], train_acc: [0.8672], test_acc: [0.9052]\n",
      "Epoch: [ 0], batch: [   95/  468], training loss: [0.60114717], train_acc: [0.8750], test_acc: [0.9062]\n",
      "Epoch: [ 0], batch: [   96/  468], training loss: [0.44464025], train_acc: [0.9141], test_acc: [0.9076]\n",
      "Epoch: [ 0], batch: [   97/  468], training loss: [0.46033537], train_acc: [0.9219], test_acc: [0.9086]\n",
      "Epoch: [ 0], batch: [   98/  468], training loss: [0.39948779], train_acc: [0.8984], test_acc: [0.9084]\n",
      "Epoch: [ 0], batch: [   99/  468], training loss: [0.32597029], train_acc: [0.9766], test_acc: [0.9096]\n",
      "Epoch: [ 0], batch: [  100/  468], training loss: [0.42820898], train_acc: [0.8594], test_acc: [0.9102]\n",
      "Epoch: [ 0], batch: [  101/  468], training loss: [0.47658557], train_acc: [0.9062], test_acc: [0.9114]\n",
      "Epoch: [ 0], batch: [  102/  468], training loss: [0.48468038], train_acc: [0.9141], test_acc: [0.9125]\n",
      "Epoch: [ 0], batch: [  103/  468], training loss: [0.40507954], train_acc: [0.9453], test_acc: [0.9125]\n",
      "Epoch: [ 0], batch: [  104/  468], training loss: [0.54264408], train_acc: [0.8984], test_acc: [0.9142]\n",
      "Epoch: [ 0], batch: [  105/  468], training loss: [0.39960623], train_acc: [0.9297], test_acc: [0.9162]\n",
      "Epoch: [ 0], batch: [  106/  468], training loss: [0.55870712], train_acc: [0.9141], test_acc: [0.9159]\n",
      "Epoch: [ 0], batch: [  107/  468], training loss: [0.41523647], train_acc: [0.8906], test_acc: [0.9171]\n",
      "Epoch: [ 0], batch: [  108/  468], training loss: [0.46419784], train_acc: [0.8828], test_acc: [0.9170]\n",
      "Epoch: [ 0], batch: [  109/  468], training loss: [0.41933978], train_acc: [0.9219], test_acc: [0.9174]\n",
      "Epoch: [ 0], batch: [  110/  468], training loss: [0.52590412], train_acc: [0.8594], test_acc: [0.9180]\n",
      "Epoch: [ 0], batch: [  111/  468], training loss: [0.54203057], train_acc: [0.9141], test_acc: [0.9181]\n",
      "Epoch: [ 0], batch: [  112/  468], training loss: [0.43206042], train_acc: [0.9062], test_acc: [0.9169]\n",
      "Epoch: [ 0], batch: [  113/  468], training loss: [0.45853454], train_acc: [0.9219], test_acc: [0.9159]\n",
      "Epoch: [ 0], batch: [  114/  468], training loss: [0.38672140], train_acc: [0.8984], test_acc: [0.9164]\n",
      "Epoch: [ 0], batch: [  115/  468], training loss: [0.41767824], train_acc: [0.9141], test_acc: [0.9158]\n",
      "Epoch: [ 0], batch: [  116/  468], training loss: [0.40230215], train_acc: [0.9375], test_acc: [0.9152]\n",
      "Epoch: [ 0], batch: [  117/  468], training loss: [0.61039889], train_acc: [0.9219], test_acc: [0.9146]\n",
      "Epoch: [ 0], batch: [  118/  468], training loss: [0.43964648], train_acc: [0.8984], test_acc: [0.9147]\n",
      "Epoch: [ 0], batch: [  119/  468], training loss: [0.43573040], train_acc: [0.8906], test_acc: [0.9138]\n",
      "Epoch: [ 0], batch: [  120/  468], training loss: [0.56405151], train_acc: [0.8672], test_acc: [0.9144]\n",
      "Epoch: [ 0], batch: [  121/  468], training loss: [0.50831640], train_acc: [0.8828], test_acc: [0.9163]\n",
      "Epoch: [ 0], batch: [  122/  468], training loss: [0.43735024], train_acc: [0.8906], test_acc: [0.9177]\n",
      "Epoch: [ 0], batch: [  123/  468], training loss: [0.43726271], train_acc: [0.9062], test_acc: [0.9186]\n",
      "Epoch: [ 0], batch: [  124/  468], training loss: [0.46850723], train_acc: [0.9062], test_acc: [0.9191]\n",
      "Epoch: [ 0], batch: [  125/  468], training loss: [0.28281575], train_acc: [0.9297], test_acc: [0.9186]\n",
      "Epoch: [ 0], batch: [  126/  468], training loss: [0.32910419], train_acc: [0.9375], test_acc: [0.9172]\n",
      "Epoch: [ 0], batch: [  127/  468], training loss: [0.38873237], train_acc: [0.9219], test_acc: [0.9162]\n",
      "Epoch: [ 0], batch: [  128/  468], training loss: [0.37882319], train_acc: [0.9219], test_acc: [0.9176]\n",
      "Epoch: [ 0], batch: [  129/  468], training loss: [0.29964691], train_acc: [0.8984], test_acc: [0.9214]\n",
      "Epoch: [ 0], batch: [  130/  468], training loss: [0.38429922], train_acc: [0.9453], test_acc: [0.9237]\n",
      "Epoch: [ 0], batch: [  131/  468], training loss: [0.47021407], train_acc: [0.8984], test_acc: [0.9267]\n",
      "Epoch: [ 0], batch: [  132/  468], training loss: [0.52935743], train_acc: [0.8672], test_acc: [0.9267]\n",
      "Epoch: [ 0], batch: [  133/  468], training loss: [0.28371027], train_acc: [0.9375], test_acc: [0.9282]\n",
      "Epoch: [ 0], batch: [  134/  468], training loss: [0.36999124], train_acc: [0.9453], test_acc: [0.9271]\n",
      "Epoch: [ 0], batch: [  135/  468], training loss: [0.36717921], train_acc: [0.9453], test_acc: [0.9262]\n",
      "Epoch: [ 0], batch: [  136/  468], training loss: [0.39193425], train_acc: [0.9375], test_acc: [0.9225]\n",
      "Epoch: [ 0], batch: [  137/  468], training loss: [0.41128600], train_acc: [0.9141], test_acc: [0.9186]\n",
      "Epoch: [ 0], batch: [  138/  468], training loss: [0.49238285], train_acc: [0.9219], test_acc: [0.9180]\n",
      "Epoch: [ 0], batch: [  139/  468], training loss: [0.44749242], train_acc: [0.9062], test_acc: [0.9194]\n",
      "Epoch: [ 0], batch: [  140/  468], training loss: [0.27875224], train_acc: [0.9297], test_acc: [0.9215]\n",
      "Epoch: [ 0], batch: [  141/  468], training loss: [0.42830789], train_acc: [0.9453], test_acc: [0.9234]\n",
      "Epoch: [ 0], batch: [  142/  468], training loss: [0.24659005], train_acc: [0.9531], test_acc: [0.9235]\n",
      "Epoch: [ 0], batch: [  143/  468], training loss: [0.52544630], train_acc: [0.9062], test_acc: [0.9248]\n",
      "Epoch: [ 0], batch: [  144/  468], training loss: [0.40169454], train_acc: [0.9141], test_acc: [0.9231]\n",
      "Epoch: [ 0], batch: [  145/  468], training loss: [0.40666765], train_acc: [0.9297], test_acc: [0.9224]\n",
      "Epoch: [ 0], batch: [  146/  468], training loss: [0.41854206], train_acc: [0.8750], test_acc: [0.9216]\n",
      "Epoch: [ 0], batch: [  147/  468], training loss: [0.44623950], train_acc: [0.9141], test_acc: [0.9198]\n",
      "Epoch: [ 0], batch: [  148/  468], training loss: [0.34132412], train_acc: [0.9375], test_acc: [0.9205]\n",
      "Epoch: [ 0], batch: [  149/  468], training loss: [0.27605343], train_acc: [0.9297], test_acc: [0.9233]\n",
      "Epoch: [ 0], batch: [  150/  468], training loss: [0.47578403], train_acc: [0.9141], test_acc: [0.9251]\n",
      "Epoch: [ 0], batch: [  151/  468], training loss: [0.28322771], train_acc: [0.9453], test_acc: [0.9286]\n",
      "Epoch: [ 0], batch: [  152/  468], training loss: [0.22948666], train_acc: [0.9453], test_acc: [0.9312]\n",
      "Epoch: [ 0], batch: [  153/  468], training loss: [0.33591130], train_acc: [0.9219], test_acc: [0.9320]\n",
      "Epoch: [ 0], batch: [  154/  468], training loss: [0.29486775], train_acc: [0.9531], test_acc: [0.9327]\n",
      "Epoch: [ 0], batch: [  155/  468], training loss: [0.32883868], train_acc: [0.9453], test_acc: [0.9301]\n",
      "Epoch: [ 0], batch: [  156/  468], training loss: [0.30960581], train_acc: [0.9219], test_acc: [0.9276]\n",
      "Epoch: [ 0], batch: [  157/  468], training loss: [0.47475493], train_acc: [0.8984], test_acc: [0.9279]\n"
     ]
    },
    {
     "name": "stdout",
     "output_type": "stream",
     "text": [
      "Epoch: [ 0], batch: [  158/  468], training loss: [0.33273947], train_acc: [0.9297], test_acc: [0.9275]\n",
      "Epoch: [ 0], batch: [  159/  468], training loss: [0.29465669], train_acc: [0.8984], test_acc: [0.9275]\n",
      "Epoch: [ 0], batch: [  160/  468], training loss: [0.45888755], train_acc: [0.8984], test_acc: [0.9275]\n",
      "Epoch: [ 0], batch: [  161/  468], training loss: [0.38518536], train_acc: [0.9219], test_acc: [0.9264]\n",
      "Epoch: [ 0], batch: [  162/  468], training loss: [0.69223487], train_acc: [0.8750], test_acc: [0.9280]\n",
      "Epoch: [ 0], batch: [  163/  468], training loss: [0.42777279], train_acc: [0.9453], test_acc: [0.9290]\n",
      "Epoch: [ 0], batch: [  164/  468], training loss: [0.49097046], train_acc: [0.9297], test_acc: [0.9274]\n",
      "Epoch: [ 0], batch: [  165/  468], training loss: [0.33284491], train_acc: [0.9141], test_acc: [0.9258]\n",
      "Epoch: [ 0], batch: [  166/  468], training loss: [0.50880986], train_acc: [0.9219], test_acc: [0.9239]\n",
      "Epoch: [ 0], batch: [  167/  468], training loss: [0.55757934], train_acc: [0.9141], test_acc: [0.9219]\n",
      "Epoch: [ 0], batch: [  168/  468], training loss: [0.55448961], train_acc: [0.9141], test_acc: [0.9242]\n",
      "Epoch: [ 0], batch: [  169/  468], training loss: [0.48538241], train_acc: [0.9062], test_acc: [0.9284]\n",
      "Epoch: [ 0], batch: [  170/  468], training loss: [0.29841185], train_acc: [0.9531], test_acc: [0.9324]\n",
      "Epoch: [ 0], batch: [  171/  468], training loss: [0.44683617], train_acc: [0.9141], test_acc: [0.9345]\n",
      "Epoch: [ 0], batch: [  172/  468], training loss: [0.32599330], train_acc: [0.9375], test_acc: [0.9355]\n",
      "Epoch: [ 0], batch: [  173/  468], training loss: [0.51742256], train_acc: [0.9141], test_acc: [0.9351]\n",
      "Epoch: [ 0], batch: [  174/  468], training loss: [0.29396766], train_acc: [0.9453], test_acc: [0.9320]\n",
      "Epoch: [ 0], batch: [  175/  468], training loss: [0.41894555], train_acc: [0.8906], test_acc: [0.9288]\n",
      "Epoch: [ 0], batch: [  176/  468], training loss: [0.32776576], train_acc: [0.9531], test_acc: [0.9296]\n",
      "Epoch: [ 0], batch: [  177/  468], training loss: [0.22169366], train_acc: [0.9531], test_acc: [0.9300]\n",
      "Epoch: [ 0], batch: [  178/  468], training loss: [0.38450730], train_acc: [0.9531], test_acc: [0.9303]\n",
      "Epoch: [ 0], batch: [  179/  468], training loss: [0.51594222], train_acc: [0.9062], test_acc: [0.9333]\n",
      "Epoch: [ 0], batch: [  180/  468], training loss: [0.37692517], train_acc: [0.9219], test_acc: [0.9357]\n",
      "Epoch: [ 0], batch: [  181/  468], training loss: [0.61541224], train_acc: [0.8906], test_acc: [0.9369]\n",
      "Epoch: [ 0], batch: [  182/  468], training loss: [0.25817236], train_acc: [0.9453], test_acc: [0.9356]\n",
      "Epoch: [ 0], batch: [  183/  468], training loss: [0.34982753], train_acc: [0.9766], test_acc: [0.9332]\n",
      "Epoch: [ 0], batch: [  184/  468], training loss: [0.26060459], train_acc: [0.9453], test_acc: [0.9301]\n",
      "Epoch: [ 0], batch: [  185/  468], training loss: [0.33884674], train_acc: [0.9531], test_acc: [0.9304]\n",
      "Epoch: [ 0], batch: [  186/  468], training loss: [0.38517046], train_acc: [0.9453], test_acc: [0.9299]\n",
      "Epoch: [ 0], batch: [  187/  468], training loss: [0.40141851], train_acc: [0.9219], test_acc: [0.9300]\n",
      "Epoch: [ 0], batch: [  188/  468], training loss: [0.30028740], train_acc: [0.9297], test_acc: [0.9314]\n",
      "Epoch: [ 0], batch: [  189/  468], training loss: [0.34099096], train_acc: [0.9531], test_acc: [0.9292]\n",
      "Epoch: [ 0], batch: [  190/  468], training loss: [0.36256915], train_acc: [0.9141], test_acc: [0.9280]\n",
      "Epoch: [ 0], batch: [  191/  468], training loss: [0.31752101], train_acc: [0.9219], test_acc: [0.9284]\n",
      "Epoch: [ 0], batch: [  192/  468], training loss: [0.22457914], train_acc: [0.9531], test_acc: [0.9285]\n",
      "Epoch: [ 0], batch: [  193/  468], training loss: [0.32118309], train_acc: [0.9297], test_acc: [0.9286]\n",
      "Epoch: [ 0], batch: [  194/  468], training loss: [0.20418072], train_acc: [0.9531], test_acc: [0.9289]\n",
      "Epoch: [ 0], batch: [  195/  468], training loss: [0.25261438], train_acc: [0.9453], test_acc: [0.9289]\n",
      "Epoch: [ 0], batch: [  196/  468], training loss: [0.19839096], train_acc: [0.9297], test_acc: [0.9300]\n",
      "Epoch: [ 0], batch: [  197/  468], training loss: [0.32386619], train_acc: [0.9219], test_acc: [0.9319]\n",
      "Epoch: [ 0], batch: [  198/  468], training loss: [0.25508130], train_acc: [0.9531], test_acc: [0.9335]\n",
      "Epoch: [ 0], batch: [  199/  468], training loss: [0.32310089], train_acc: [0.9219], test_acc: [0.9346]\n",
      "Epoch: [ 0], batch: [  200/  468], training loss: [0.33591124], train_acc: [0.9375], test_acc: [0.9346]\n",
      "Epoch: [ 0], batch: [  201/  468], training loss: [0.32327911], train_acc: [0.9219], test_acc: [0.9350]\n",
      "Epoch: [ 0], batch: [  202/  468], training loss: [0.29157671], train_acc: [0.9531], test_acc: [0.9348]\n",
      "Epoch: [ 0], batch: [  203/  468], training loss: [0.22674274], train_acc: [0.9609], test_acc: [0.9341]\n",
      "Epoch: [ 0], batch: [  204/  468], training loss: [0.29353225], train_acc: [0.9531], test_acc: [0.9326]\n",
      "Epoch: [ 0], batch: [  205/  468], training loss: [0.25640687], train_acc: [0.9688], test_acc: [0.9324]\n",
      "Epoch: [ 0], batch: [  206/  468], training loss: [0.41498798], train_acc: [0.9297], test_acc: [0.9327]\n",
      "Epoch: [ 0], batch: [  207/  468], training loss: [0.26129594], train_acc: [0.9297], test_acc: [0.9326]\n",
      "Epoch: [ 0], batch: [  208/  468], training loss: [0.33140063], train_acc: [0.9375], test_acc: [0.9337]\n",
      "Epoch: [ 0], batch: [  209/  468], training loss: [0.22665465], train_acc: [0.9531], test_acc: [0.9358]\n",
      "Epoch: [ 0], batch: [  210/  468], training loss: [0.37814319], train_acc: [0.9141], test_acc: [0.9366]\n",
      "Epoch: [ 0], batch: [  211/  468], training loss: [0.38540244], train_acc: [0.9297], test_acc: [0.9377]\n",
      "Epoch: [ 0], batch: [  212/  468], training loss: [0.38764346], train_acc: [0.9297], test_acc: [0.9395]\n",
      "Epoch: [ 0], batch: [  213/  468], training loss: [0.30583474], train_acc: [0.9531], test_acc: [0.9404]\n",
      "Epoch: [ 0], batch: [  214/  468], training loss: [0.34606725], train_acc: [0.9297], test_acc: [0.9396]\n",
      "Epoch: [ 0], batch: [  215/  468], training loss: [0.49505651], train_acc: [0.9219], test_acc: [0.9392]\n",
      "Epoch: [ 0], batch: [  216/  468], training loss: [0.32886738], train_acc: [0.9375], test_acc: [0.9372]\n",
      "Epoch: [ 0], batch: [  217/  468], training loss: [0.39874426], train_acc: [0.9062], test_acc: [0.9358]\n",
      "Epoch: [ 0], batch: [  218/  468], training loss: [0.38587517], train_acc: [0.9375], test_acc: [0.9341]\n",
      "Epoch: [ 0], batch: [  219/  468], training loss: [0.50688565], train_acc: [0.9141], test_acc: [0.9340]\n",
      "Epoch: [ 0], batch: [  220/  468], training loss: [0.29731351], train_acc: [0.9297], test_acc: [0.9361]\n",
      "Epoch: [ 0], batch: [  221/  468], training loss: [0.28512955], train_acc: [0.9375], test_acc: [0.9375]\n",
      "Epoch: [ 0], batch: [  222/  468], training loss: [0.33559284], train_acc: [0.9219], test_acc: [0.9387]\n",
      "Epoch: [ 0], batch: [  223/  468], training loss: [0.39196327], train_acc: [0.9531], test_acc: [0.9395]\n",
      "Epoch: [ 0], batch: [  224/  468], training loss: [0.37595561], train_acc: [0.9453], test_acc: [0.9396]\n",
      "Epoch: [ 0], batch: [  225/  468], training loss: [0.45941418], train_acc: [0.9141], test_acc: [0.9387]\n",
      "Epoch: [ 0], batch: [  226/  468], training loss: [0.25008318], train_acc: [0.9453], test_acc: [0.9397]\n",
      "Epoch: [ 0], batch: [  227/  468], training loss: [0.23891197], train_acc: [0.9766], test_acc: [0.9393]\n",
      "Epoch: [ 0], batch: [  228/  468], training loss: [0.27976960], train_acc: [0.9453], test_acc: [0.9394]\n",
      "Epoch: [ 0], batch: [  229/  468], training loss: [0.24011698], train_acc: [0.9688], test_acc: [0.9398]\n",
      "Epoch: [ 0], batch: [  230/  468], training loss: [0.30417132], train_acc: [0.9375], test_acc: [0.9410]\n",
      "Epoch: [ 0], batch: [  231/  468], training loss: [0.31905186], train_acc: [0.9531], test_acc: [0.9426]\n",
      "Epoch: [ 0], batch: [  232/  468], training loss: [0.23518550], train_acc: [0.9453], test_acc: [0.9438]\n",
      "Epoch: [ 0], batch: [  233/  468], training loss: [0.27879277], train_acc: [0.9453], test_acc: [0.9443]\n",
      "Epoch: [ 0], batch: [  234/  468], training loss: [0.45398107], train_acc: [0.9297], test_acc: [0.9455]\n",
      "Epoch: [ 0], batch: [  235/  468], training loss: [0.47568357], train_acc: [0.9219], test_acc: [0.9464]\n",
      "Epoch: [ 0], batch: [  236/  468], training loss: [0.28250942], train_acc: [0.9375], test_acc: [0.9456]\n"
     ]
    },
    {
     "name": "stdout",
     "output_type": "stream",
     "text": [
      "Epoch: [ 0], batch: [  237/  468], training loss: [0.44048688], train_acc: [0.9141], test_acc: [0.9455]\n",
      "Epoch: [ 0], batch: [  238/  468], training loss: [0.31967866], train_acc: [0.9297], test_acc: [0.9449]\n",
      "Epoch: [ 0], batch: [  239/  468], training loss: [0.42216760], train_acc: [0.9219], test_acc: [0.9441]\n",
      "Epoch: [ 0], batch: [  240/  468], training loss: [0.18395206], train_acc: [0.9531], test_acc: [0.9426]\n",
      "Epoch: [ 0], batch: [  241/  468], training loss: [0.48267773], train_acc: [0.8906], test_acc: [0.9428]\n",
      "Epoch: [ 0], batch: [  242/  468], training loss: [0.30560219], train_acc: [0.9609], test_acc: [0.9449]\n",
      "Epoch: [ 0], batch: [  243/  468], training loss: [0.40665999], train_acc: [0.9141], test_acc: [0.9440]\n",
      "Epoch: [ 0], batch: [  244/  468], training loss: [0.38220143], train_acc: [0.9375], test_acc: [0.9434]\n",
      "Epoch: [ 0], batch: [  245/  468], training loss: [0.33570322], train_acc: [0.9453], test_acc: [0.9412]\n",
      "Epoch: [ 0], batch: [  246/  468], training loss: [0.18978798], train_acc: [0.9609], test_acc: [0.9408]\n",
      "Epoch: [ 0], batch: [  247/  468], training loss: [0.30921856], train_acc: [0.9453], test_acc: [0.9400]\n",
      "Epoch: [ 0], batch: [  248/  468], training loss: [0.45983562], train_acc: [0.9141], test_acc: [0.9421]\n",
      "Epoch: [ 0], batch: [  249/  468], training loss: [0.35030690], train_acc: [0.9531], test_acc: [0.9428]\n",
      "Epoch: [ 0], batch: [  250/  468], training loss: [0.35842121], train_acc: [0.9141], test_acc: [0.9435]\n",
      "Epoch: [ 0], batch: [  251/  468], training loss: [0.28485042], train_acc: [0.9453], test_acc: [0.9443]\n",
      "Epoch: [ 0], batch: [  252/  468], training loss: [0.27560917], train_acc: [0.9688], test_acc: [0.9424]\n",
      "Epoch: [ 0], batch: [  253/  468], training loss: [0.38449064], train_acc: [0.9375], test_acc: [0.9426]\n",
      "Epoch: [ 0], batch: [  254/  468], training loss: [0.25374168], train_acc: [0.9297], test_acc: [0.9427]\n",
      "Epoch: [ 0], batch: [  255/  468], training loss: [0.27861458], train_acc: [0.9453], test_acc: [0.9427]\n",
      "Epoch: [ 0], batch: [  256/  468], training loss: [0.23055597], train_acc: [0.9531], test_acc: [0.9423]\n",
      "Epoch: [ 0], batch: [  257/  468], training loss: [0.27247432], train_acc: [0.9609], test_acc: [0.9416]\n",
      "Epoch: [ 0], batch: [  258/  468], training loss: [0.24794284], train_acc: [0.9453], test_acc: [0.9414]\n",
      "Epoch: [ 0], batch: [  259/  468], training loss: [0.23484197], train_acc: [0.9609], test_acc: [0.9424]\n",
      "Epoch: [ 0], batch: [  260/  468], training loss: [0.30849004], train_acc: [0.9453], test_acc: [0.9431]\n",
      "Epoch: [ 0], batch: [  261/  468], training loss: [0.45363688], train_acc: [0.9375], test_acc: [0.9435]\n",
      "Epoch: [ 0], batch: [  262/  468], training loss: [0.25684589], train_acc: [0.9375], test_acc: [0.9421]\n",
      "Epoch: [ 0], batch: [  263/  468], training loss: [0.37184176], train_acc: [0.9453], test_acc: [0.9410]\n",
      "Epoch: [ 0], batch: [  264/  468], training loss: [0.29250032], train_acc: [0.9531], test_acc: [0.9385]\n",
      "Epoch: [ 0], batch: [  265/  468], training loss: [0.37439695], train_acc: [0.9219], test_acc: [0.9361]\n",
      "Epoch: [ 0], batch: [  266/  468], training loss: [0.20954853], train_acc: [0.9531], test_acc: [0.9346]\n",
      "Epoch: [ 0], batch: [  267/  468], training loss: [0.39021897], train_acc: [0.9375], test_acc: [0.9344]\n",
      "Epoch: [ 0], batch: [  268/  468], training loss: [0.37958869], train_acc: [0.9141], test_acc: [0.9360]\n",
      "Epoch: [ 0], batch: [  269/  468], training loss: [0.40991974], train_acc: [0.9141], test_acc: [0.9372]\n",
      "Epoch: [ 0], batch: [  270/  468], training loss: [0.43555114], train_acc: [0.9219], test_acc: [0.9401]\n",
      "Epoch: [ 0], batch: [  271/  468], training loss: [0.22705796], train_acc: [0.9609], test_acc: [0.9419]\n",
      "Epoch: [ 0], batch: [  272/  468], training loss: [0.35297430], train_acc: [0.9531], test_acc: [0.9424]\n",
      "Epoch: [ 0], batch: [  273/  468], training loss: [0.21872181], train_acc: [0.9766], test_acc: [0.9445]\n",
      "Epoch: [ 0], batch: [  274/  468], training loss: [0.33314496], train_acc: [0.9219], test_acc: [0.9458]\n",
      "Epoch: [ 0], batch: [  275/  468], training loss: [0.31134489], train_acc: [0.9688], test_acc: [0.9458]\n",
      "Epoch: [ 0], batch: [  276/  468], training loss: [0.39183623], train_acc: [0.9219], test_acc: [0.9459]\n",
      "Epoch: [ 0], batch: [  277/  468], training loss: [0.42954308], train_acc: [0.9453], test_acc: [0.9463]\n",
      "Epoch: [ 0], batch: [  278/  468], training loss: [0.33969647], train_acc: [0.9453], test_acc: [0.9450]\n",
      "Epoch: [ 0], batch: [  279/  468], training loss: [0.39597255], train_acc: [0.9141], test_acc: [0.9466]\n",
      "Epoch: [ 0], batch: [  280/  468], training loss: [0.21960962], train_acc: [0.9688], test_acc: [0.9478]\n",
      "Epoch: [ 0], batch: [  281/  468], training loss: [0.33578515], train_acc: [0.9453], test_acc: [0.9489]\n",
      "Epoch: [ 0], batch: [  282/  468], training loss: [0.26962939], train_acc: [0.9531], test_acc: [0.9489]\n",
      "Epoch: [ 0], batch: [  283/  468], training loss: [0.25323433], train_acc: [0.9375], test_acc: [0.9487]\n",
      "Epoch: [ 0], batch: [  284/  468], training loss: [0.28840834], train_acc: [0.9297], test_acc: [0.9485]\n",
      "Epoch: [ 0], batch: [  285/  468], training loss: [0.39445347], train_acc: [0.9141], test_acc: [0.9490]\n",
      "Epoch: [ 0], batch: [  286/  468], training loss: [0.40818954], train_acc: [0.9141], test_acc: [0.9500]\n",
      "Epoch: [ 0], batch: [  287/  468], training loss: [0.15726659], train_acc: [0.9766], test_acc: [0.9479]\n",
      "Epoch: [ 0], batch: [  288/  468], training loss: [0.20836741], train_acc: [0.9531], test_acc: [0.9464]\n",
      "Epoch: [ 0], batch: [  289/  468], training loss: [0.26073760], train_acc: [0.9609], test_acc: [0.9456]\n",
      "Epoch: [ 0], batch: [  290/  468], training loss: [0.41026592], train_acc: [0.9219], test_acc: [0.9459]\n",
      "Epoch: [ 0], batch: [  291/  468], training loss: [0.21400021], train_acc: [0.9688], test_acc: [0.9464]\n",
      "Epoch: [ 0], batch: [  292/  468], training loss: [0.43317902], train_acc: [0.9062], test_acc: [0.9462]\n",
      "Epoch: [ 0], batch: [  293/  468], training loss: [0.30071887], train_acc: [0.9219], test_acc: [0.9464]\n",
      "Epoch: [ 0], batch: [  294/  468], training loss: [0.53991300], train_acc: [0.9062], test_acc: [0.9476]\n",
      "Epoch: [ 0], batch: [  295/  468], training loss: [0.25850070], train_acc: [0.9766], test_acc: [0.9494]\n",
      "Epoch: [ 0], batch: [  296/  468], training loss: [0.35574335], train_acc: [0.9297], test_acc: [0.9523]\n",
      "Epoch: [ 0], batch: [  297/  468], training loss: [0.23095168], train_acc: [0.9688], test_acc: [0.9516]\n",
      "Epoch: [ 0], batch: [  298/  468], training loss: [0.36457425], train_acc: [0.9375], test_acc: [0.9514]\n",
      "Epoch: [ 0], batch: [  299/  468], training loss: [0.33739486], train_acc: [0.9375], test_acc: [0.9518]\n",
      "Epoch: [ 0], batch: [  300/  468], training loss: [0.34036988], train_acc: [0.9375], test_acc: [0.9516]\n",
      "Epoch: [ 0], batch: [  301/  468], training loss: [0.31377125], train_acc: [0.9219], test_acc: [0.9518]\n",
      "Epoch: [ 0], batch: [  302/  468], training loss: [0.30290008], train_acc: [0.9531], test_acc: [0.9516]\n",
      "Epoch: [ 0], batch: [  303/  468], training loss: [0.19999862], train_acc: [0.9688], test_acc: [0.9508]\n",
      "Epoch: [ 0], batch: [  304/  468], training loss: [0.15585497], train_acc: [0.9766], test_acc: [0.9501]\n",
      "Epoch: [ 0], batch: [  305/  468], training loss: [0.20062937], train_acc: [0.9609], test_acc: [0.9496]\n",
      "Epoch: [ 0], batch: [  306/  468], training loss: [0.18814632], train_acc: [0.9766], test_acc: [0.9492]\n",
      "Epoch: [ 0], batch: [  307/  468], training loss: [0.24654329], train_acc: [0.9531], test_acc: [0.9486]\n",
      "Epoch: [ 0], batch: [  308/  468], training loss: [0.44826674], train_acc: [0.9297], test_acc: [0.9487]\n",
      "Epoch: [ 0], batch: [  309/  468], training loss: [0.16658224], train_acc: [0.9609], test_acc: [0.9483]\n",
      "Epoch: [ 0], batch: [  310/  468], training loss: [0.34712285], train_acc: [0.9531], test_acc: [0.9507]\n",
      "Epoch: [ 0], batch: [  311/  468], training loss: [0.36394712], train_acc: [0.9375], test_acc: [0.9509]\n",
      "Epoch: [ 0], batch: [  312/  468], training loss: [0.27377170], train_acc: [0.9531], test_acc: [0.9502]\n",
      "Epoch: [ 0], batch: [  313/  468], training loss: [0.31200883], train_acc: [0.9531], test_acc: [0.9497]\n",
      "Epoch: [ 0], batch: [  314/  468], training loss: [0.21296479], train_acc: [0.9609], test_acc: [0.9491]\n",
      "Epoch: [ 0], batch: [  315/  468], training loss: [0.50952661], train_acc: [0.9453], test_acc: [0.9479]\n"
     ]
    },
    {
     "name": "stdout",
     "output_type": "stream",
     "text": [
      "Epoch: [ 0], batch: [  316/  468], training loss: [0.47668028], train_acc: [0.9297], test_acc: [0.9479]\n",
      "Epoch: [ 0], batch: [  317/  468], training loss: [0.19672750], train_acc: [0.9688], test_acc: [0.9484]\n",
      "Epoch: [ 0], batch: [  318/  468], training loss: [0.36621720], train_acc: [0.9453], test_acc: [0.9490]\n",
      "Epoch: [ 0], batch: [  319/  468], training loss: [0.16380998], train_acc: [0.9688], test_acc: [0.9490]\n",
      "Epoch: [ 0], batch: [  320/  468], training loss: [0.21746318], train_acc: [0.9531], test_acc: [0.9484]\n",
      "Epoch: [ 0], batch: [  321/  468], training loss: [0.18252905], train_acc: [0.9609], test_acc: [0.9496]\n",
      "Epoch: [ 0], batch: [  322/  468], training loss: [0.31927973], train_acc: [0.9453], test_acc: [0.9490]\n",
      "Epoch: [ 0], batch: [  323/  468], training loss: [0.23017788], train_acc: [0.9219], test_acc: [0.9493]\n",
      "Epoch: [ 0], batch: [  324/  468], training loss: [0.28302592], train_acc: [0.9297], test_acc: [0.9497]\n",
      "Epoch: [ 0], batch: [  325/  468], training loss: [0.22512150], train_acc: [0.9688], test_acc: [0.9515]\n",
      "Epoch: [ 0], batch: [  326/  468], training loss: [0.32147044], train_acc: [0.9531], test_acc: [0.9510]\n",
      "Epoch: [ 0], batch: [  327/  468], training loss: [0.25321034], train_acc: [0.9531], test_acc: [0.9513]\n",
      "Epoch: [ 0], batch: [  328/  468], training loss: [0.12904245], train_acc: [0.9922], test_acc: [0.9511]\n",
      "Epoch: [ 0], batch: [  329/  468], training loss: [0.41248554], train_acc: [0.9375], test_acc: [0.9499]\n",
      "Epoch: [ 0], batch: [  330/  468], training loss: [0.13784374], train_acc: [0.9766], test_acc: [0.9493]\n",
      "Epoch: [ 0], batch: [  331/  468], training loss: [0.30067128], train_acc: [0.9531], test_acc: [0.9485]\n",
      "Epoch: [ 0], batch: [  332/  468], training loss: [0.23997620], train_acc: [0.9688], test_acc: [0.9479]\n",
      "Epoch: [ 0], batch: [  333/  468], training loss: [0.17441836], train_acc: [0.9766], test_acc: [0.9480]\n",
      "Epoch: [ 0], batch: [  334/  468], training loss: [0.24482478], train_acc: [0.9375], test_acc: [0.9478]\n",
      "Epoch: [ 0], batch: [  335/  468], training loss: [0.25740677], train_acc: [0.9531], test_acc: [0.9488]\n",
      "Epoch: [ 0], batch: [  336/  468], training loss: [0.27815443], train_acc: [0.9297], test_acc: [0.9488]\n",
      "Epoch: [ 0], batch: [  337/  468], training loss: [0.19739822], train_acc: [0.9531], test_acc: [0.9489]\n",
      "Epoch: [ 0], batch: [  338/  468], training loss: [0.22001281], train_acc: [0.9688], test_acc: [0.9491]\n",
      "Epoch: [ 0], batch: [  339/  468], training loss: [0.13633376], train_acc: [0.9766], test_acc: [0.9487]\n",
      "Epoch: [ 0], batch: [  340/  468], training loss: [0.17877948], train_acc: [0.9609], test_acc: [0.9485]\n",
      "Epoch: [ 0], batch: [  341/  468], training loss: [0.20418929], train_acc: [0.9688], test_acc: [0.9486]\n",
      "Epoch: [ 0], batch: [  342/  468], training loss: [0.33076015], train_acc: [0.9531], test_acc: [0.9485]\n",
      "Epoch: [ 0], batch: [  343/  468], training loss: [0.23588009], train_acc: [0.9531], test_acc: [0.9495]\n",
      "Epoch: [ 0], batch: [  344/  468], training loss: [0.19172698], train_acc: [0.9688], test_acc: [0.9491]\n",
      "Epoch: [ 0], batch: [  345/  468], training loss: [0.29393405], train_acc: [0.9453], test_acc: [0.9491]\n",
      "Epoch: [ 0], batch: [  346/  468], training loss: [0.24408501], train_acc: [0.9609], test_acc: [0.9489]\n",
      "Epoch: [ 0], batch: [  347/  468], training loss: [0.25263664], train_acc: [0.9609], test_acc: [0.9498]\n",
      "Epoch: [ 0], batch: [  348/  468], training loss: [0.29413694], train_acc: [0.9531], test_acc: [0.9493]\n",
      "Epoch: [ 0], batch: [  349/  468], training loss: [0.27209759], train_acc: [0.9453], test_acc: [0.9501]\n",
      "Epoch: [ 0], batch: [  350/  468], training loss: [0.21104531], train_acc: [0.9609], test_acc: [0.9500]\n",
      "Epoch: [ 0], batch: [  351/  468], training loss: [0.31893325], train_acc: [0.9609], test_acc: [0.9502]\n",
      "Epoch: [ 0], batch: [  352/  468], training loss: [0.31671584], train_acc: [0.9453], test_acc: [0.9508]\n",
      "Epoch: [ 0], batch: [  353/  468], training loss: [0.38131559], train_acc: [0.9062], test_acc: [0.9508]\n",
      "Epoch: [ 0], batch: [  354/  468], training loss: [0.30454111], train_acc: [0.9375], test_acc: [0.9508]\n",
      "Epoch: [ 0], batch: [  355/  468], training loss: [0.40027836], train_acc: [0.9297], test_acc: [0.9508]\n",
      "Epoch: [ 0], batch: [  356/  468], training loss: [0.30960631], train_acc: [0.9531], test_acc: [0.9495]\n",
      "Epoch: [ 0], batch: [  357/  468], training loss: [0.23979354], train_acc: [0.9688], test_acc: [0.9482]\n",
      "Epoch: [ 0], batch: [  358/  468], training loss: [0.40554264], train_acc: [0.9297], test_acc: [0.9487]\n",
      "Epoch: [ 0], batch: [  359/  468], training loss: [0.31861210], train_acc: [0.9688], test_acc: [0.9481]\n",
      "Epoch: [ 0], batch: [  360/  468], training loss: [0.29576561], train_acc: [0.9609], test_acc: [0.9493]\n",
      "Epoch: [ 0], batch: [  361/  468], training loss: [0.13000327], train_acc: [0.9766], test_acc: [0.9504]\n",
      "Epoch: [ 0], batch: [  362/  468], training loss: [0.19132255], train_acc: [0.9531], test_acc: [0.9499]\n",
      "Epoch: [ 0], batch: [  363/  468], training loss: [0.26596397], train_acc: [0.9453], test_acc: [0.9500]\n",
      "Epoch: [ 0], batch: [  364/  468], training loss: [0.25742060], train_acc: [0.9844], test_acc: [0.9482]\n",
      "Epoch: [ 0], batch: [  365/  468], training loss: [0.31426400], train_acc: [0.9453], test_acc: [0.9479]\n",
      "Epoch: [ 0], batch: [  366/  468], training loss: [0.19978905], train_acc: [0.9453], test_acc: [0.9475]\n",
      "Epoch: [ 0], batch: [  367/  468], training loss: [0.28187329], train_acc: [0.9609], test_acc: [0.9477]\n",
      "Epoch: [ 0], batch: [  368/  468], training loss: [0.22769520], train_acc: [0.9688], test_acc: [0.9487]\n",
      "Epoch: [ 0], batch: [  369/  468], training loss: [0.25349075], train_acc: [0.9609], test_acc: [0.9506]\n",
      "Epoch: [ 0], batch: [  370/  468], training loss: [0.23961219], train_acc: [0.9688], test_acc: [0.9501]\n",
      "Epoch: [ 0], batch: [  371/  468], training loss: [0.26632553], train_acc: [0.9609], test_acc: [0.9494]\n",
      "Epoch: [ 0], batch: [  372/  468], training loss: [0.28132859], train_acc: [0.9609], test_acc: [0.9510]\n",
      "Epoch: [ 0], batch: [  373/  468], training loss: [0.16901985], train_acc: [0.9688], test_acc: [0.9501]\n",
      "Epoch: [ 0], batch: [  374/  468], training loss: [0.16715026], train_acc: [0.9688], test_acc: [0.9495]\n",
      "Epoch: [ 0], batch: [  375/  468], training loss: [0.17430714], train_acc: [0.9531], test_acc: [0.9489]\n",
      "Epoch: [ 0], batch: [  376/  468], training loss: [0.36560988], train_acc: [0.9453], test_acc: [0.9486]\n",
      "Epoch: [ 0], batch: [  377/  468], training loss: [0.34578851], train_acc: [0.9609], test_acc: [0.9495]\n",
      "Epoch: [ 0], batch: [  378/  468], training loss: [0.37414804], train_acc: [0.9297], test_acc: [0.9500]\n",
      "Epoch: [ 0], batch: [  379/  468], training loss: [0.29638717], train_acc: [0.9531], test_acc: [0.9505]\n",
      "Epoch: [ 0], batch: [  380/  468], training loss: [0.20795108], train_acc: [0.9531], test_acc: [0.9504]\n",
      "Epoch: [ 0], batch: [  381/  468], training loss: [0.39062795], train_acc: [0.8984], test_acc: [0.9500]\n",
      "Epoch: [ 0], batch: [  382/  468], training loss: [0.23383708], train_acc: [0.9531], test_acc: [0.9506]\n",
      "Epoch: [ 0], batch: [  383/  468], training loss: [0.40463203], train_acc: [0.9453], test_acc: [0.9512]\n",
      "Epoch: [ 0], batch: [  384/  468], training loss: [0.20189306], train_acc: [0.9844], test_acc: [0.9513]\n",
      "Epoch: [ 0], batch: [  385/  468], training loss: [0.23389846], train_acc: [0.9531], test_acc: [0.9515]\n",
      "Epoch: [ 0], batch: [  386/  468], training loss: [0.15525976], train_acc: [0.9609], test_acc: [0.9500]\n",
      "Epoch: [ 0], batch: [  387/  468], training loss: [0.32230061], train_acc: [0.9297], test_acc: [0.9497]\n",
      "Epoch: [ 0], batch: [  388/  468], training loss: [0.20652619], train_acc: [0.9688], test_acc: [0.9488]\n",
      "Epoch: [ 0], batch: [  389/  468], training loss: [0.41452459], train_acc: [0.8984], test_acc: [0.9491]\n",
      "Epoch: [ 0], batch: [  390/  468], training loss: [0.18084627], train_acc: [0.9922], test_acc: [0.9501]\n",
      "Epoch: [ 0], batch: [  391/  468], training loss: [0.39201313], train_acc: [0.9766], test_acc: [0.9514]\n",
      "Epoch: [ 0], batch: [  392/  468], training loss: [0.31431031], train_acc: [0.9375], test_acc: [0.9515]\n",
      "Epoch: [ 0], batch: [  393/  468], training loss: [0.26443136], train_acc: [0.9531], test_acc: [0.9515]\n",
      "Epoch: [ 0], batch: [  394/  468], training loss: [0.21001101], train_acc: [0.9688], test_acc: [0.9515]\n"
     ]
    },
    {
     "name": "stdout",
     "output_type": "stream",
     "text": [
      "Epoch: [ 0], batch: [  395/  468], training loss: [0.21478081], train_acc: [0.9609], test_acc: [0.9506]\n",
      "Epoch: [ 0], batch: [  396/  468], training loss: [0.19520450], train_acc: [0.9531], test_acc: [0.9510]\n",
      "Epoch: [ 0], batch: [  397/  468], training loss: [0.23981965], train_acc: [0.9297], test_acc: [0.9522]\n",
      "Epoch: [ 0], batch: [  398/  468], training loss: [0.30557424], train_acc: [0.9531], test_acc: [0.9529]\n",
      "Epoch: [ 0], batch: [  399/  468], training loss: [0.30409974], train_acc: [0.9453], test_acc: [0.9535]\n",
      "Epoch: [ 0], batch: [  400/  468], training loss: [0.11583491], train_acc: [0.9766], test_acc: [0.9531]\n",
      "Epoch: [ 0], batch: [  401/  468], training loss: [0.18419145], train_acc: [0.9531], test_acc: [0.9531]\n",
      "Epoch: [ 0], batch: [  402/  468], training loss: [0.24837868], train_acc: [0.9688], test_acc: [0.9541]\n",
      "Epoch: [ 0], batch: [  403/  468], training loss: [0.21666071], train_acc: [0.9609], test_acc: [0.9534]\n",
      "Epoch: [ 0], batch: [  404/  468], training loss: [0.23958758], train_acc: [0.9297], test_acc: [0.9528]\n",
      "Epoch: [ 0], batch: [  405/  468], training loss: [0.37794453], train_acc: [0.9297], test_acc: [0.9525]\n",
      "Epoch: [ 0], batch: [  406/  468], training loss: [0.35137886], train_acc: [0.9453], test_acc: [0.9531]\n",
      "Epoch: [ 0], batch: [  407/  468], training loss: [0.22302002], train_acc: [0.9375], test_acc: [0.9534]\n",
      "Epoch: [ 0], batch: [  408/  468], training loss: [0.18033451], train_acc: [0.9609], test_acc: [0.9534]\n",
      "Epoch: [ 0], batch: [  409/  468], training loss: [0.29663384], train_acc: [0.9297], test_acc: [0.9528]\n",
      "Epoch: [ 0], batch: [  410/  468], training loss: [0.26179495], train_acc: [0.9609], test_acc: [0.9535]\n",
      "Epoch: [ 0], batch: [  411/  468], training loss: [0.25616214], train_acc: [0.9609], test_acc: [0.9517]\n",
      "Epoch: [ 0], batch: [  412/  468], training loss: [0.35963619], train_acc: [0.9062], test_acc: [0.9502]\n",
      "Epoch: [ 0], batch: [  413/  468], training loss: [0.22145784], train_acc: [0.9375], test_acc: [0.9495]\n",
      "Epoch: [ 0], batch: [  414/  468], training loss: [0.20094952], train_acc: [0.9609], test_acc: [0.9489]\n",
      "Epoch: [ 0], batch: [  415/  468], training loss: [0.40765589], train_acc: [0.9375], test_acc: [0.9490]\n",
      "Epoch: [ 0], batch: [  416/  468], training loss: [0.38019934], train_acc: [0.9453], test_acc: [0.9509]\n",
      "Epoch: [ 0], batch: [  417/  468], training loss: [0.27515820], train_acc: [0.9531], test_acc: [0.9523]\n",
      "Epoch: [ 0], batch: [  418/  468], training loss: [0.23522949], train_acc: [0.9453], test_acc: [0.9538]\n",
      "Epoch: [ 0], batch: [  419/  468], training loss: [0.27018368], train_acc: [0.9531], test_acc: [0.9546]\n",
      "Epoch: [ 0], batch: [  420/  468], training loss: [0.19999990], train_acc: [0.9766], test_acc: [0.9547]\n",
      "Epoch: [ 0], batch: [  421/  468], training loss: [0.41569930], train_acc: [0.9219], test_acc: [0.9543]\n",
      "Epoch: [ 0], batch: [  422/  468], training loss: [0.23410934], train_acc: [0.9688], test_acc: [0.9538]\n",
      "Epoch: [ 0], batch: [  423/  468], training loss: [0.22010008], train_acc: [0.9688], test_acc: [0.9547]\n",
      "Epoch: [ 0], batch: [  424/  468], training loss: [0.37483400], train_acc: [0.9531], test_acc: [0.9544]\n",
      "Epoch: [ 0], batch: [  425/  468], training loss: [0.33236730], train_acc: [0.9375], test_acc: [0.9545]\n",
      "Epoch: [ 0], batch: [  426/  468], training loss: [0.22662817], train_acc: [0.9688], test_acc: [0.9549]\n",
      "Epoch: [ 0], batch: [  427/  468], training loss: [0.21431974], train_acc: [0.9531], test_acc: [0.9556]\n",
      "Epoch: [ 0], batch: [  428/  468], training loss: [0.19396146], train_acc: [0.9453], test_acc: [0.9552]\n",
      "Epoch: [ 0], batch: [  429/  468], training loss: [0.19060470], train_acc: [0.9844], test_acc: [0.9554]\n",
      "Epoch: [ 0], batch: [  430/  468], training loss: [0.42685664], train_acc: [0.9141], test_acc: [0.9554]\n",
      "Epoch: [ 0], batch: [  431/  468], training loss: [0.15740289], train_acc: [0.9766], test_acc: [0.9551]\n",
      "Epoch: [ 0], batch: [  432/  468], training loss: [0.40018058], train_acc: [0.9297], test_acc: [0.9560]\n",
      "Epoch: [ 0], batch: [  433/  468], training loss: [0.22957382], train_acc: [0.9766], test_acc: [0.9561]\n",
      "Epoch: [ 0], batch: [  434/  468], training loss: [0.28630394], train_acc: [0.9609], test_acc: [0.9560]\n",
      "Epoch: [ 0], batch: [  435/  468], training loss: [0.28152570], train_acc: [0.9531], test_acc: [0.9552]\n",
      "Epoch: [ 0], batch: [  436/  468], training loss: [0.20494932], train_acc: [0.9688], test_acc: [0.9562]\n",
      "Epoch: [ 0], batch: [  437/  468], training loss: [0.19063362], train_acc: [0.9531], test_acc: [0.9573]\n",
      "Epoch: [ 0], batch: [  438/  468], training loss: [0.18891390], train_acc: [0.9844], test_acc: [0.9563]\n",
      "Epoch: [ 0], batch: [  439/  468], training loss: [0.18517199], train_acc: [0.9609], test_acc: [0.9564]\n",
      "Epoch: [ 0], batch: [  440/  468], training loss: [0.27528396], train_acc: [0.9609], test_acc: [0.9552]\n",
      "Epoch: [ 0], batch: [  441/  468], training loss: [0.15087987], train_acc: [0.9609], test_acc: [0.9542]\n",
      "Epoch: [ 0], batch: [  442/  468], training loss: [0.19807827], train_acc: [0.9766], test_acc: [0.9545]\n",
      "Epoch: [ 0], batch: [  443/  468], training loss: [0.15116553], train_acc: [0.9766], test_acc: [0.9546]\n",
      "Epoch: [ 0], batch: [  444/  468], training loss: [0.33913824], train_acc: [0.9531], test_acc: [0.9553]\n",
      "Epoch: [ 0], batch: [  445/  468], training loss: [0.44613785], train_acc: [0.9375], test_acc: [0.9560]\n",
      "Epoch: [ 0], batch: [  446/  468], training loss: [0.31146032], train_acc: [0.9531], test_acc: [0.9570]\n",
      "Epoch: [ 0], batch: [  447/  468], training loss: [0.22011855], train_acc: [0.9766], test_acc: [0.9579]\n",
      "Epoch: [ 0], batch: [  448/  468], training loss: [0.10920338], train_acc: [0.9922], test_acc: [0.9584]\n",
      "Epoch: [ 0], batch: [  449/  468], training loss: [0.23526651], train_acc: [0.9453], test_acc: [0.9586]\n",
      "Epoch: [ 0], batch: [  450/  468], training loss: [0.33243072], train_acc: [0.9297], test_acc: [0.9592]\n",
      "Epoch: [ 0], batch: [  451/  468], training loss: [0.19293928], train_acc: [0.9609], test_acc: [0.9592]\n",
      "Epoch: [ 0], batch: [  452/  468], training loss: [0.22038397], train_acc: [0.9531], test_acc: [0.9587]\n",
      "Epoch: [ 0], batch: [  453/  468], training loss: [0.18010305], train_acc: [0.9844], test_acc: [0.9576]\n",
      "Epoch: [ 0], batch: [  454/  468], training loss: [0.07947385], train_acc: [0.9766], test_acc: [0.9563]\n",
      "Epoch: [ 0], batch: [  455/  468], training loss: [0.21543129], train_acc: [0.9766], test_acc: [0.9554]\n",
      "Epoch: [ 0], batch: [  456/  468], training loss: [0.29685208], train_acc: [0.9062], test_acc: [0.9542]\n",
      "Epoch: [ 0], batch: [  457/  468], training loss: [0.15598559], train_acc: [0.9766], test_acc: [0.9546]\n",
      "Epoch: [ 0], batch: [  458/  468], training loss: [0.27860504], train_acc: [0.9766], test_acc: [0.9543]\n",
      "Epoch: [ 0], batch: [  459/  468], training loss: [0.20100363], train_acc: [0.9688], test_acc: [0.9550]\n",
      "Epoch: [ 0], batch: [  460/  468], training loss: [0.35188976], train_acc: [0.9219], test_acc: [0.9558]\n",
      "Epoch: [ 0], batch: [  461/  468], training loss: [0.22504562], train_acc: [0.9531], test_acc: [0.9560]\n",
      "Epoch: [ 0], batch: [  462/  468], training loss: [0.27517143], train_acc: [0.9453], test_acc: [0.9574]\n",
      "Epoch: [ 0], batch: [  463/  468], training loss: [0.22770743], train_acc: [0.9531], test_acc: [0.9590]\n",
      "Epoch: [ 0], batch: [  464/  468], training loss: [0.17753856], train_acc: [0.9531], test_acc: [0.9588]\n",
      "Epoch: [ 0], batch: [  465/  468], training loss: [0.27551639], train_acc: [0.9375], test_acc: [0.9583]\n",
      "Epoch: [ 0], batch: [  466/  468], training loss: [0.22357778], train_acc: [0.9531], test_acc: [0.9573]\n",
      "Epoch: [ 0], batch: [  467/  468], training loss: [0.41216004], train_acc: [0.9062], test_acc: [0.9575]\n"
     ]
    }
   ],
   "source": [
    "for epoch in range(training_epochs):\n",
    "    for idx, (train_input, train_label) in enumerate(train_dataset):\n",
    "        grads = grad(network, train_input, train_label)\n",
    "        optimizer.apply_gradients(grads_and_vars=zip(grads, network.variables))\n",
    "        \n",
    "        train_loss = loss_fn(network, train_input, train_label)\n",
    "        train_accuracy = accuracy_fn(network, train_input, train_label)\n",
    "        \n",
    "        for test_input, test_label in test_dataset:\n",
    "            test_accuracy = accuracy_fn(network, test_input, test_label)\n",
    "       \n",
    "        print(\"Epoch: [%2d], batch: [%5d/%5d], training loss: [%.8f], train_acc: [%.4f], test_acc: [%.4f]\"\\\n",
    "              %(epoch, idx, training_iterations,train_loss, train_accuracy,test_accuracy))"
   ]
  },
  {
   "cell_type": "markdown",
   "id": "e7544e87",
   "metadata": {},
   "source": [
    "1번의 에포크 만으로도 95% 이상의 테스트 정확도를 보임을 알 수 있습니다! "
   ]
  },
  {
   "cell_type": "markdown",
   "id": "e7cf498f",
   "metadata": {},
   "source": [
    "## Batch Normalization 을 통한 성능 향상 "
   ]
  },
  {
   "cell_type": "markdown",
   "id": "d7599abb",
   "metadata": {},
   "source": [
    "### 학습내용 "
   ]
  },
  {
   "cell_type": "markdown",
   "id": "09ba8e47",
   "metadata": {},
   "source": [
    "##### Internal Covariate Shift \n",
    "![ICS.png](https://kjhov195.github.io/post_img/200109/image3.png)\n",
    "* 신경망을 학습시키는 과정에서, 입력 데이터가 각 Layer를 거칠 때 마다 분포가 비 정형적으로 왜곡되는 현상을 Internal Covariatr Shift 문제라고 한다. \n",
    "* 이러한 현상이 발생하는 경우에는 데이터의 의미가 소실되어 학습을 저하하는 문제릴 발생시킵니다. "
   ]
  },
  {
   "cell_type": "markdown",
   "id": "471d96bc",
   "metadata": {},
   "source": [
    "##### 구원투수 : Batch Normalization \n",
    "* 이러한 문제를 해소하기 위한 방식으로는 Batch nornalization이 있습니다. (사실 이후 수식을 살펴보면 정규화보다는 표준화 방식이라고 말하는게 적합해 보이기는 합니다:) )[정규화와 표준화](https://rucrazia.tistory.com/90)  \n",
    "* Batch nornalization은 각 layer에서 다음 층으로 출력되는 값을 중심성향을 기준으로 한정시킴으로써, 데이터의 분포를 안정적으로 만드는 방식입니다. \n",
    "* 해당 변환 방식은 아래와 같습니다. \n",
    "    1. n-1번째 layer에서 출력되는 값 X에 대해 표준화를 각각 적용합니다. \n",
    "$$\\bar{x} = \\frac{x-\\mu_{Batch}}{\\sqrt{\\sigma_{Batch}^{2}+\\epsilon}}$$  \n",
    "    2. 각각의 출력에 가중치와 편향을 적용해 값을 전달합니다. \n",
    "$$\\hat{x} = \\gamma\\bar{x} + \\beta$$"
   ]
  },
  {
   "cell_type": "markdown",
   "id": "6ed9eab9",
   "metadata": {},
   "source": [
    "### 실제 코드를 통한 구현 "
   ]
  },
  {
   "cell_type": "code",
   "execution_count": 114,
   "id": "9154ba48",
   "metadata": {},
   "outputs": [
    {
     "name": "stdout",
     "output_type": "stream",
     "text": [
      "2.5.0\n"
     ]
    }
   ],
   "source": [
    "# 연산을 위한 라이브러리 \n",
    "import tensorflow as tf \n",
    "import numpy as np \n",
    "\n",
    "# 레이블 원핫인코딩 \n",
    "from tensorflow.keras.utils import to_categorical\n",
    "\n",
    "# 데이터셋 \n",
    "from tensorflow.keras.datasets import mnist\n",
    "\n",
    "print(tf.__version__)"
   ]
  },
  {
   "cell_type": "code",
   "execution_count": 115,
   "id": "04a423f6",
   "metadata": {},
   "outputs": [],
   "source": [
    "# 데이터 호출 함수 \n",
    "# 상세사항은 위에서 정리한것을 참조합니다. \n",
    "def load_mnist():\n",
    "    (train_data, train_labels), (test_data, test_labels) = mnist.load_data()\n",
    "    \n",
    "    train_data = np.expand_dims(train_data, axis=-1)\n",
    "    test_data = np.expand_dims(test_data, axis =-1)\n",
    "    \n",
    "    train_data = train_data.astype(np.float32)/255.0\n",
    "    test_data = test_data.astype(np.float32)/255.0\n",
    "    \n",
    "    train_labels = to_categorical(train_labels, 10)\n",
    "    test_labels = to_categorical(test_labels, 10)\n",
    "    \n",
    "    return train_data, train_labels, test_data, test_labels"
   ]
  },
  {
   "cell_type": "code",
   "execution_count": 116,
   "id": "82f96405",
   "metadata": {},
   "outputs": [],
   "source": [
    "# 손실함수 정의 \n",
    "def loss_fn(model, images, labels):\n",
    "    logits = model(images, training = True)\n",
    "    loss = tf.reduce_mean(tf.keras.losses.categorical_crossentropy(y_pred=logits,\n",
    "                                                                  y_true=labels,\n",
    "                                                                  from_logits = True))\n",
    "    return loss "
   ]
  },
  {
   "cell_type": "code",
   "execution_count": 117,
   "id": "a25e2228",
   "metadata": {},
   "outputs": [],
   "source": [
    "# 정확도 함수 정의 \n",
    "def accuracy_fn(model, images, labels):\n",
    "    logits = model(images, training= False)\n",
    "    prediction = tf.equal(tf.argmax(logits, -1), tf.argmax(labels, -1))\n",
    "    acc = tf.reduce_mean(tf.cast(prediction, tf.float32))\n",
    "    return acc"
   ]
  },
  {
   "cell_type": "code",
   "execution_count": 142,
   "id": "6af24794",
   "metadata": {},
   "outputs": [],
   "source": [
    "# 기울기 추적 함수 \n",
    "def grad(model, images, labels):\n",
    "    with tf.GradientTape() as tape:\n",
    "        loss = loss_fn(model, images, labels)\n",
    "\n",
    "    x= tape.gradient(loss, model.trainable_variables) \n",
    "    return x"
   ]
  },
  {
   "cell_type": "markdown",
   "id": "4867b4e2",
   "metadata": {},
   "source": [
    "그런데 이전 코드에서 batch_norm() 만 추가해서 실행시키면 에러가 나더라고요. 그래서 뭔인을 찾아보니, 다음의 코드에 수정이 필요했습니다.\n",
    "\n",
    "return tape.gradient(loss, model.variables) 를 return tape.gradient(loss, model.trainable_variables) 로 바꿔주어야 오류 없이 코드가 돌아가는 것 같습니다."
   ]
  },
  {
   "cell_type": "code",
   "execution_count": 129,
   "id": "1b92a032",
   "metadata": {},
   "outputs": [],
   "source": [
    "# 모형 구성 층 함수 \n",
    "\n",
    "def flatten() :\n",
    "    return tf.keras.layers.Flatten()\n",
    "\n",
    "def dense(label_dim, weight_init) :\n",
    "    return tf.keras.layers.Dense(units=label_dim, use_bias=True, kernel_initializer=weight_init)\n",
    "\n",
    "def relu() :\n",
    "    return tf.keras.layers.Activation(tf.keras.activations.relu)\n"
   ]
  },
  {
   "cell_type": "code",
   "execution_count": 130,
   "id": "5e5347eb",
   "metadata": {},
   "outputs": [],
   "source": [
    "def dropout(rate) :\n",
    "    return tf.keras.layers.Dropout(rate)"
   ]
  },
  {
   "cell_type": "markdown",
   "id": "b5e0b9a4",
   "metadata": {},
   "source": [
    "##### Batch norm. 구현 "
   ]
  },
  {
   "cell_type": "code",
   "execution_count": 131,
   "id": "c36bd0d1",
   "metadata": {},
   "outputs": [],
   "source": [
    "def batch_norm() :\n",
    "    return tf.keras.layers.BatchNormalization()"
   ]
  },
  {
   "cell_type": "markdown",
   "id": "2010e6b0",
   "metadata": {},
   "source": [
    "##### Batch norm 층을 포함한 모형 구현 "
   ]
  },
  {
   "cell_type": "code",
   "execution_count": 132,
   "id": "e40e5f07",
   "metadata": {},
   "outputs": [],
   "source": [
    "def create_model_function(label_dim) :\n",
    "    weight_init = tf.keras.initializers.glorot_uniform()\n",
    "\n",
    "    model = tf.keras.Sequential()\n",
    "    model.add(flatten())\n",
    "\n",
    "    for i in range(4) :\n",
    "        model.add(dense(512, weight_init))\n",
    "        model.add(batch_norm())\n",
    "        model.add(relu())\n",
    "        #model.add(dropout(rate=0.5))\n",
    "\n",
    "    model.add(dense(label_dim, weight_init))\n",
    "\n",
    "    return model"
   ]
  },
  {
   "cell_type": "code",
   "execution_count": 133,
   "id": "39bd8701",
   "metadata": {},
   "outputs": [],
   "source": [
    "def create_model_function_alpha(label_dim) :\n",
    "    weight_init = tf.keras.initializers.glorot_uniform()\n",
    "\n",
    "    model = tf.keras.Sequential()\n",
    "    model.add(flatten())\n",
    "\n",
    "    for i in range(4) :\n",
    "        model.add(dense(512, weight_init))\n",
    "        model.add(batch_norm())\n",
    "        model.add(relu())\n",
    "        model.add(dropout(rate=0.5))\n",
    "\n",
    "    model.add(dense(label_dim, weight_init))\n",
    "\n",
    "    return model"
   ]
  },
  {
   "cell_type": "code",
   "execution_count": 134,
   "id": "716eb74c",
   "metadata": {},
   "outputs": [],
   "source": [
    "\"\"\" dataset \"\"\"\n",
    "train_x, train_y, test_x, test_y = load_mnist()\n",
    "\n",
    "\"\"\" parameters \"\"\"\n",
    "learning_rate = 0.001\n",
    "batch_size = 128\n",
    "\n",
    "training_epochs = 1\n",
    "training_iterations = len(train_x) // batch_size\n",
    "\n",
    "label_dim = 10\n",
    "\n",
    "train_flag = True\n"
   ]
  },
  {
   "cell_type": "code",
   "execution_count": 135,
   "id": "86fd76f6",
   "metadata": {},
   "outputs": [],
   "source": [
    "\"\"\" Graph Input using Dataset API \"\"\"\n",
    "train_dataset = tf.data.Dataset.from_tensor_slices((train_x, train_y)).\\\n",
    "    shuffle(buffer_size=100000).\\\n",
    "    prefetch(buffer_size=batch_size).\\\n",
    "    batch(batch_size, drop_remainder=True)\n",
    "\n",
    "test_dataset = tf.data.Dataset.from_tensor_slices((test_x, test_y)).\\\n",
    "    shuffle(buffer_size=100000).\\\n",
    "    prefetch(buffer_size=len(test_x)).\\\n",
    "    batch(len(test_x))"
   ]
  },
  {
   "cell_type": "code",
   "execution_count": 136,
   "id": "d06922f4",
   "metadata": {},
   "outputs": [],
   "source": [
    "\"\"\" Model \"\"\"\n",
    "network = create_model_function(label_dim)\n",
    "\n",
    "\"\"\" Training \"\"\"\n",
    "optimizer = tf.keras.optimizers.Adam(learning_rate=learning_rate)\n"
   ]
  },
  {
   "cell_type": "code",
   "execution_count": 143,
   "id": "647d8319",
   "metadata": {},
   "outputs": [
    {
     "name": "stdout",
     "output_type": "stream",
     "text": [
      "Epoch: [ 0], batch: [    0/  468], training loss: [0.03354156], train_acc: [0.9922], test_acc: [0.9658]\n",
      "Epoch: [ 0], batch: [    1/  468], training loss: [0.05275929], train_acc: [0.9844], test_acc: [0.9662]\n",
      "Epoch: [ 0], batch: [    2/  468], training loss: [0.05619360], train_acc: [0.9766], test_acc: [0.9650]\n",
      "Epoch: [ 0], batch: [    3/  468], training loss: [0.07026189], train_acc: [0.9766], test_acc: [0.9652]\n",
      "Epoch: [ 0], batch: [    4/  468], training loss: [0.05155361], train_acc: [0.9922], test_acc: [0.9656]\n",
      "Epoch: [ 0], batch: [    5/  468], training loss: [0.03694142], train_acc: [0.9922], test_acc: [0.9660]\n",
      "Epoch: [ 0], batch: [    6/  468], training loss: [0.04054080], train_acc: [0.9844], test_acc: [0.9658]\n",
      "Epoch: [ 0], batch: [    7/  468], training loss: [0.05321918], train_acc: [0.9688], test_acc: [0.9654]\n",
      "Epoch: [ 0], batch: [    8/  468], training loss: [0.06080364], train_acc: [0.9766], test_acc: [0.9656]\n",
      "Epoch: [ 0], batch: [    9/  468], training loss: [0.03280349], train_acc: [0.9844], test_acc: [0.9666]\n",
      "Epoch: [ 0], batch: [   10/  468], training loss: [0.06517524], train_acc: [0.9609], test_acc: [0.9668]\n",
      "Epoch: [ 0], batch: [   11/  468], training loss: [0.04355824], train_acc: [0.9688], test_acc: [0.9684]\n",
      "Epoch: [ 0], batch: [   12/  468], training loss: [0.06435943], train_acc: [0.9688], test_acc: [0.9678]\n",
      "Epoch: [ 0], batch: [   13/  468], training loss: [0.08545059], train_acc: [0.9766], test_acc: [0.9674]\n",
      "Epoch: [ 0], batch: [   14/  468], training loss: [0.02121280], train_acc: [1.0000], test_acc: [0.9690]\n",
      "Epoch: [ 0], batch: [   15/  468], training loss: [0.07805164], train_acc: [0.9844], test_acc: [0.9687]\n",
      "Epoch: [ 0], batch: [   16/  468], training loss: [0.04940145], train_acc: [0.9922], test_acc: [0.9689]\n",
      "Epoch: [ 0], batch: [   17/  468], training loss: [0.07015168], train_acc: [0.9766], test_acc: [0.9689]\n",
      "Epoch: [ 0], batch: [   18/  468], training loss: [0.09797678], train_acc: [0.9766], test_acc: [0.9684]\n",
      "Epoch: [ 0], batch: [   19/  468], training loss: [0.03190714], train_acc: [0.9766], test_acc: [0.9680]\n",
      "Epoch: [ 0], batch: [   20/  468], training loss: [0.04478758], train_acc: [0.9922], test_acc: [0.9680]\n",
      "Epoch: [ 0], batch: [   21/  468], training loss: [0.01822381], train_acc: [1.0000], test_acc: [0.9678]\n",
      "Epoch: [ 0], batch: [   22/  468], training loss: [0.05270696], train_acc: [0.9922], test_acc: [0.9681]\n",
      "Epoch: [ 0], batch: [   23/  468], training loss: [0.02719283], train_acc: [0.9922], test_acc: [0.9683]\n",
      "Epoch: [ 0], batch: [   24/  468], training loss: [0.05177422], train_acc: [0.9922], test_acc: [0.9692]\n",
      "Epoch: [ 0], batch: [   25/  468], training loss: [0.03009956], train_acc: [0.9844], test_acc: [0.9693]\n",
      "Epoch: [ 0], batch: [   26/  468], training loss: [0.03800381], train_acc: [0.9922], test_acc: [0.9698]\n",
      "Epoch: [ 0], batch: [   27/  468], training loss: [0.02328325], train_acc: [0.9922], test_acc: [0.9700]\n",
      "Epoch: [ 0], batch: [   28/  468], training loss: [0.04722154], train_acc: [0.9766], test_acc: [0.9701]\n",
      "Epoch: [ 0], batch: [   29/  468], training loss: [0.05146360], train_acc: [0.9922], test_acc: [0.9710]\n",
      "Epoch: [ 0], batch: [   30/  468], training loss: [0.01447754], train_acc: [1.0000], test_acc: [0.9713]\n",
      "Epoch: [ 0], batch: [   31/  468], training loss: [0.06229952], train_acc: [0.9688], test_acc: [0.9714]\n",
      "Epoch: [ 0], batch: [   32/  468], training loss: [0.02684569], train_acc: [0.9922], test_acc: [0.9722]\n",
      "Epoch: [ 0], batch: [   33/  468], training loss: [0.02781112], train_acc: [0.9844], test_acc: [0.9731]\n",
      "Epoch: [ 0], batch: [   34/  468], training loss: [0.01690472], train_acc: [1.0000], test_acc: [0.9735]\n",
      "Epoch: [ 0], batch: [   35/  468], training loss: [0.05228101], train_acc: [0.9922], test_acc: [0.9736]\n",
      "Epoch: [ 0], batch: [   36/  468], training loss: [0.06282855], train_acc: [0.9766], test_acc: [0.9742]\n",
      "Epoch: [ 0], batch: [   37/  468], training loss: [0.06557027], train_acc: [0.9922], test_acc: [0.9748]\n",
      "Epoch: [ 0], batch: [   38/  468], training loss: [0.02306645], train_acc: [1.0000], test_acc: [0.9756]\n",
      "Epoch: [ 0], batch: [   39/  468], training loss: [0.04736615], train_acc: [0.9922], test_acc: [0.9757]\n",
      "Epoch: [ 0], batch: [   40/  468], training loss: [0.04553430], train_acc: [0.9922], test_acc: [0.9757]\n",
      "Epoch: [ 0], batch: [   41/  468], training loss: [0.03665642], train_acc: [0.9922], test_acc: [0.9759]\n",
      "Epoch: [ 0], batch: [   42/  468], training loss: [0.05729897], train_acc: [0.9844], test_acc: [0.9758]\n",
      "Epoch: [ 0], batch: [   43/  468], training loss: [0.01672944], train_acc: [0.9922], test_acc: [0.9760]\n",
      "Epoch: [ 0], batch: [   44/  468], training loss: [0.02451218], train_acc: [1.0000], test_acc: [0.9754]\n",
      "Epoch: [ 0], batch: [   45/  468], training loss: [0.00851761], train_acc: [1.0000], test_acc: [0.9751]\n",
      "Epoch: [ 0], batch: [   46/  468], training loss: [0.04242603], train_acc: [0.9922], test_acc: [0.9747]\n",
      "Epoch: [ 0], batch: [   47/  468], training loss: [0.03936761], train_acc: [1.0000], test_acc: [0.9744]\n",
      "Epoch: [ 0], batch: [   48/  468], training loss: [0.05528138], train_acc: [0.9844], test_acc: [0.9736]\n",
      "Epoch: [ 0], batch: [   49/  468], training loss: [0.08717640], train_acc: [0.9688], test_acc: [0.9742]\n",
      "Epoch: [ 0], batch: [   50/  468], training loss: [0.06118353], train_acc: [0.9766], test_acc: [0.9742]\n",
      "Epoch: [ 0], batch: [   51/  468], training loss: [0.06134960], train_acc: [0.9844], test_acc: [0.9744]\n",
      "Epoch: [ 0], batch: [   52/  468], training loss: [0.05847498], train_acc: [0.9844], test_acc: [0.9748]\n",
      "Epoch: [ 0], batch: [   53/  468], training loss: [0.04811085], train_acc: [0.9922], test_acc: [0.9738]\n",
      "Epoch: [ 0], batch: [   54/  468], training loss: [0.05762597], train_acc: [0.9922], test_acc: [0.9737]\n",
      "Epoch: [ 0], batch: [   55/  468], training loss: [0.03276853], train_acc: [0.9844], test_acc: [0.9729]\n",
      "Epoch: [ 0], batch: [   56/  468], training loss: [0.07628509], train_acc: [0.9922], test_acc: [0.9724]\n",
      "Epoch: [ 0], batch: [   57/  468], training loss: [0.03449320], train_acc: [1.0000], test_acc: [0.9715]\n",
      "Epoch: [ 0], batch: [   58/  468], training loss: [0.01700439], train_acc: [0.9922], test_acc: [0.9706]\n",
      "Epoch: [ 0], batch: [   59/  468], training loss: [0.03851816], train_acc: [0.9922], test_acc: [0.9698]\n",
      "Epoch: [ 0], batch: [   60/  468], training loss: [0.04877294], train_acc: [0.9844], test_acc: [0.9687]\n",
      "Epoch: [ 0], batch: [   61/  468], training loss: [0.04102634], train_acc: [0.9844], test_acc: [0.9692]\n",
      "Epoch: [ 0], batch: [   62/  468], training loss: [0.04701113], train_acc: [0.9688], test_acc: [0.9695]\n",
      "Epoch: [ 0], batch: [   63/  468], training loss: [0.02890050], train_acc: [1.0000], test_acc: [0.9700]\n",
      "Epoch: [ 0], batch: [   64/  468], training loss: [0.06631432], train_acc: [0.9766], test_acc: [0.9698]\n",
      "Epoch: [ 0], batch: [   65/  468], training loss: [0.03047014], train_acc: [0.9844], test_acc: [0.9703]\n",
      "Epoch: [ 0], batch: [   66/  468], training loss: [0.02468617], train_acc: [1.0000], test_acc: [0.9703]\n",
      "Epoch: [ 0], batch: [   67/  468], training loss: [0.02904658], train_acc: [0.9688], test_acc: [0.9703]\n",
      "Epoch: [ 0], batch: [   68/  468], training loss: [0.07245311], train_acc: [0.9609], test_acc: [0.9702]\n",
      "Epoch: [ 0], batch: [   69/  468], training loss: [0.08182192], train_acc: [0.9922], test_acc: [0.9697]\n",
      "Epoch: [ 0], batch: [   70/  468], training loss: [0.05200553], train_acc: [0.9688], test_acc: [0.9699]\n",
      "Epoch: [ 0], batch: [   71/  468], training loss: [0.06139011], train_acc: [0.9844], test_acc: [0.9706]\n",
      "Epoch: [ 0], batch: [   72/  468], training loss: [0.04714022], train_acc: [0.9766], test_acc: [0.9708]\n",
      "Epoch: [ 0], batch: [   73/  468], training loss: [0.02381171], train_acc: [0.9922], test_acc: [0.9704]\n",
      "Epoch: [ 0], batch: [   74/  468], training loss: [0.04300677], train_acc: [0.9844], test_acc: [0.9700]\n",
      "Epoch: [ 0], batch: [   75/  468], training loss: [0.04008842], train_acc: [0.9609], test_acc: [0.9700]\n",
      "Epoch: [ 0], batch: [   76/  468], training loss: [0.04250643], train_acc: [0.9688], test_acc: [0.9703]\n",
      "Epoch: [ 0], batch: [   77/  468], training loss: [0.03483802], train_acc: [0.9688], test_acc: [0.9703]\n",
      "Epoch: [ 0], batch: [   78/  468], training loss: [0.05271897], train_acc: [0.9922], test_acc: [0.9705]\n"
     ]
    },
    {
     "name": "stdout",
     "output_type": "stream",
     "text": [
      "Epoch: [ 0], batch: [   79/  468], training loss: [0.01816952], train_acc: [1.0000], test_acc: [0.9705]\n",
      "Epoch: [ 0], batch: [   80/  468], training loss: [0.04216591], train_acc: [0.9844], test_acc: [0.9708]\n",
      "Epoch: [ 0], batch: [   81/  468], training loss: [0.04500364], train_acc: [0.9688], test_acc: [0.9718]\n",
      "Epoch: [ 0], batch: [   82/  468], training loss: [0.03818472], train_acc: [1.0000], test_acc: [0.9725]\n",
      "Epoch: [ 0], batch: [   83/  468], training loss: [0.06615342], train_acc: [0.9688], test_acc: [0.9728]\n",
      "Epoch: [ 0], batch: [   84/  468], training loss: [0.03053495], train_acc: [0.9922], test_acc: [0.9736]\n",
      "Epoch: [ 0], batch: [   85/  468], training loss: [0.08848628], train_acc: [0.9688], test_acc: [0.9737]\n",
      "Epoch: [ 0], batch: [   86/  468], training loss: [0.06213185], train_acc: [0.9688], test_acc: [0.9741]\n",
      "Epoch: [ 0], batch: [   87/  468], training loss: [0.02823506], train_acc: [0.9844], test_acc: [0.9747]\n",
      "Epoch: [ 0], batch: [   88/  468], training loss: [0.02729086], train_acc: [0.9922], test_acc: [0.9755]\n",
      "Epoch: [ 0], batch: [   89/  468], training loss: [0.02578228], train_acc: [0.9922], test_acc: [0.9751]\n",
      "Epoch: [ 0], batch: [   90/  468], training loss: [0.03083625], train_acc: [0.9766], test_acc: [0.9746]\n",
      "Epoch: [ 0], batch: [   91/  468], training loss: [0.01297982], train_acc: [0.9922], test_acc: [0.9750]\n",
      "Epoch: [ 0], batch: [   92/  468], training loss: [0.03465655], train_acc: [0.9844], test_acc: [0.9743]\n",
      "Epoch: [ 0], batch: [   93/  468], training loss: [0.03550677], train_acc: [0.9766], test_acc: [0.9737]\n",
      "Epoch: [ 0], batch: [   94/  468], training loss: [0.06705466], train_acc: [0.9766], test_acc: [0.9738]\n",
      "Epoch: [ 0], batch: [   95/  468], training loss: [0.02149870], train_acc: [0.9922], test_acc: [0.9733]\n",
      "Epoch: [ 0], batch: [   96/  468], training loss: [0.01855828], train_acc: [0.9922], test_acc: [0.9734]\n",
      "Epoch: [ 0], batch: [   97/  468], training loss: [0.05092438], train_acc: [0.9922], test_acc: [0.9726]\n",
      "Epoch: [ 0], batch: [   98/  468], training loss: [0.09596342], train_acc: [0.9844], test_acc: [0.9727]\n",
      "Epoch: [ 0], batch: [   99/  468], training loss: [0.04067389], train_acc: [0.9766], test_acc: [0.9727]\n",
      "Epoch: [ 0], batch: [  100/  468], training loss: [0.01800359], train_acc: [1.0000], test_acc: [0.9712]\n",
      "Epoch: [ 0], batch: [  101/  468], training loss: [0.03681020], train_acc: [0.9609], test_acc: [0.9700]\n",
      "Epoch: [ 0], batch: [  102/  468], training loss: [0.03427927], train_acc: [1.0000], test_acc: [0.9691]\n",
      "Epoch: [ 0], batch: [  103/  468], training loss: [0.10680532], train_acc: [0.9531], test_acc: [0.9697]\n",
      "Epoch: [ 0], batch: [  104/  468], training loss: [0.07461879], train_acc: [0.9766], test_acc: [0.9696]\n",
      "Epoch: [ 0], batch: [  105/  468], training loss: [0.02401584], train_acc: [0.9844], test_acc: [0.9687]\n",
      "Epoch: [ 0], batch: [  106/  468], training loss: [0.02494629], train_acc: [0.9844], test_acc: [0.9691]\n",
      "Epoch: [ 0], batch: [  107/  468], training loss: [0.06030179], train_acc: [0.9844], test_acc: [0.9684]\n",
      "Epoch: [ 0], batch: [  108/  468], training loss: [0.05325758], train_acc: [0.9766], test_acc: [0.9684]\n",
      "Epoch: [ 0], batch: [  109/  468], training loss: [0.02424304], train_acc: [0.9922], test_acc: [0.9682]\n",
      "Epoch: [ 0], batch: [  110/  468], training loss: [0.04985972], train_acc: [0.9688], test_acc: [0.9681]\n",
      "Epoch: [ 0], batch: [  111/  468], training loss: [0.07511674], train_acc: [0.9766], test_acc: [0.9677]\n",
      "Epoch: [ 0], batch: [  112/  468], training loss: [0.08068231], train_acc: [0.9609], test_acc: [0.9674]\n",
      "Epoch: [ 0], batch: [  113/  468], training loss: [0.04113450], train_acc: [0.9922], test_acc: [0.9664]\n",
      "Epoch: [ 0], batch: [  114/  468], training loss: [0.03892022], train_acc: [0.9844], test_acc: [0.9668]\n",
      "Epoch: [ 0], batch: [  115/  468], training loss: [0.01402462], train_acc: [0.9922], test_acc: [0.9660]\n",
      "Epoch: [ 0], batch: [  116/  468], training loss: [0.01370665], train_acc: [1.0000], test_acc: [0.9642]\n",
      "Epoch: [ 0], batch: [  117/  468], training loss: [0.05479705], train_acc: [0.9766], test_acc: [0.9639]\n",
      "Epoch: [ 0], batch: [  118/  468], training loss: [0.07027982], train_acc: [0.9609], test_acc: [0.9652]\n",
      "Epoch: [ 0], batch: [  119/  468], training loss: [0.06876496], train_acc: [0.9844], test_acc: [0.9648]\n",
      "Epoch: [ 0], batch: [  120/  468], training loss: [0.03018653], train_acc: [0.9844], test_acc: [0.9652]\n",
      "Epoch: [ 0], batch: [  121/  468], training loss: [0.04240847], train_acc: [0.9922], test_acc: [0.9647]\n",
      "Epoch: [ 0], batch: [  122/  468], training loss: [0.02888272], train_acc: [0.9922], test_acc: [0.9648]\n",
      "Epoch: [ 0], batch: [  123/  468], training loss: [0.03055340], train_acc: [0.9844], test_acc: [0.9650]\n",
      "Epoch: [ 0], batch: [  124/  468], training loss: [0.09450220], train_acc: [0.9609], test_acc: [0.9647]\n",
      "Epoch: [ 0], batch: [  125/  468], training loss: [0.03030350], train_acc: [0.9844], test_acc: [0.9648]\n",
      "Epoch: [ 0], batch: [  126/  468], training loss: [0.03522089], train_acc: [0.9766], test_acc: [0.9639]\n",
      "Epoch: [ 0], batch: [  127/  468], training loss: [0.05226127], train_acc: [0.9688], test_acc: [0.9658]\n",
      "Epoch: [ 0], batch: [  128/  468], training loss: [0.02450587], train_acc: [0.9844], test_acc: [0.9671]\n",
      "Epoch: [ 0], batch: [  129/  468], training loss: [0.01512814], train_acc: [0.9922], test_acc: [0.9679]\n",
      "Epoch: [ 0], batch: [  130/  468], training loss: [0.03634646], train_acc: [0.9844], test_acc: [0.9691]\n",
      "Epoch: [ 0], batch: [  131/  468], training loss: [0.08198866], train_acc: [0.9844], test_acc: [0.9688]\n",
      "Epoch: [ 0], batch: [  132/  468], training loss: [0.02790783], train_acc: [0.9844], test_acc: [0.9695]\n",
      "Epoch: [ 0], batch: [  133/  468], training loss: [0.03263990], train_acc: [0.9922], test_acc: [0.9688]\n",
      "Epoch: [ 0], batch: [  134/  468], training loss: [0.01641093], train_acc: [0.9922], test_acc: [0.9691]\n",
      "Epoch: [ 0], batch: [  135/  468], training loss: [0.07380807], train_acc: [0.9844], test_acc: [0.9691]\n",
      "Epoch: [ 0], batch: [  136/  468], training loss: [0.01266386], train_acc: [0.9922], test_acc: [0.9680]\n",
      "Epoch: [ 0], batch: [  137/  468], training loss: [0.01783232], train_acc: [1.0000], test_acc: [0.9673]\n",
      "Epoch: [ 0], batch: [  138/  468], training loss: [0.03592569], train_acc: [0.9844], test_acc: [0.9678]\n",
      "Epoch: [ 0], batch: [  139/  468], training loss: [0.02434168], train_acc: [0.9922], test_acc: [0.9676]\n",
      "Epoch: [ 0], batch: [  140/  468], training loss: [0.04763002], train_acc: [0.9844], test_acc: [0.9678]\n",
      "Epoch: [ 0], batch: [  141/  468], training loss: [0.03825919], train_acc: [0.9922], test_acc: [0.9686]\n",
      "Epoch: [ 0], batch: [  142/  468], training loss: [0.01215722], train_acc: [0.9922], test_acc: [0.9689]\n",
      "Epoch: [ 0], batch: [  143/  468], training loss: [0.04049012], train_acc: [0.9922], test_acc: [0.9694]\n",
      "Epoch: [ 0], batch: [  144/  468], training loss: [0.04849400], train_acc: [0.9766], test_acc: [0.9699]\n",
      "Epoch: [ 0], batch: [  145/  468], training loss: [0.03098881], train_acc: [0.9922], test_acc: [0.9703]\n",
      "Epoch: [ 0], batch: [  146/  468], training loss: [0.02058335], train_acc: [0.9922], test_acc: [0.9703]\n",
      "Epoch: [ 0], batch: [  147/  468], training loss: [0.02043894], train_acc: [0.9766], test_acc: [0.9710]\n",
      "Epoch: [ 0], batch: [  148/  468], training loss: [0.02354174], train_acc: [0.9922], test_acc: [0.9718]\n",
      "Epoch: [ 0], batch: [  149/  468], training loss: [0.05541927], train_acc: [0.9922], test_acc: [0.9717]\n",
      "Epoch: [ 0], batch: [  150/  468], training loss: [0.02215813], train_acc: [1.0000], test_acc: [0.9717]\n",
      "Epoch: [ 0], batch: [  151/  468], training loss: [0.02722637], train_acc: [0.9766], test_acc: [0.9718]\n",
      "Epoch: [ 0], batch: [  152/  468], training loss: [0.04349886], train_acc: [0.9766], test_acc: [0.9717]\n",
      "Epoch: [ 0], batch: [  153/  468], training loss: [0.02766721], train_acc: [0.9922], test_acc: [0.9711]\n",
      "Epoch: [ 0], batch: [  154/  468], training loss: [0.02184224], train_acc: [0.9922], test_acc: [0.9708]\n",
      "Epoch: [ 0], batch: [  155/  468], training loss: [0.09603707], train_acc: [0.9922], test_acc: [0.9710]\n",
      "Epoch: [ 0], batch: [  156/  468], training loss: [0.01262926], train_acc: [1.0000], test_acc: [0.9714]\n",
      "Epoch: [ 0], batch: [  157/  468], training loss: [0.02192340], train_acc: [1.0000], test_acc: [0.9716]\n"
     ]
    },
    {
     "name": "stdout",
     "output_type": "stream",
     "text": [
      "Epoch: [ 0], batch: [  158/  468], training loss: [0.05025548], train_acc: [0.9766], test_acc: [0.9715]\n",
      "Epoch: [ 0], batch: [  159/  468], training loss: [0.05190221], train_acc: [0.9844], test_acc: [0.9714]\n",
      "Epoch: [ 0], batch: [  160/  468], training loss: [0.02309888], train_acc: [0.9922], test_acc: [0.9717]\n",
      "Epoch: [ 0], batch: [  161/  468], training loss: [0.03060837], train_acc: [0.9922], test_acc: [0.9714]\n",
      "Epoch: [ 0], batch: [  162/  468], training loss: [0.02145824], train_acc: [1.0000], test_acc: [0.9716]\n",
      "Epoch: [ 0], batch: [  163/  468], training loss: [0.07117575], train_acc: [0.9844], test_acc: [0.9719]\n",
      "Epoch: [ 0], batch: [  164/  468], training loss: [0.03292055], train_acc: [1.0000], test_acc: [0.9718]\n",
      "Epoch: [ 0], batch: [  165/  468], training loss: [0.03533996], train_acc: [0.9844], test_acc: [0.9706]\n",
      "Epoch: [ 0], batch: [  166/  468], training loss: [0.03311861], train_acc: [0.9844], test_acc: [0.9706]\n",
      "Epoch: [ 0], batch: [  167/  468], training loss: [0.01660478], train_acc: [1.0000], test_acc: [0.9701]\n",
      "Epoch: [ 0], batch: [  168/  468], training loss: [0.04391460], train_acc: [0.9922], test_acc: [0.9706]\n",
      "Epoch: [ 0], batch: [  169/  468], training loss: [0.04871432], train_acc: [1.0000], test_acc: [0.9704]\n",
      "Epoch: [ 0], batch: [  170/  468], training loss: [0.01727839], train_acc: [1.0000], test_acc: [0.9699]\n",
      "Epoch: [ 0], batch: [  171/  468], training loss: [0.02834293], train_acc: [1.0000], test_acc: [0.9703]\n",
      "Epoch: [ 0], batch: [  172/  468], training loss: [0.01483490], train_acc: [1.0000], test_acc: [0.9698]\n",
      "Epoch: [ 0], batch: [  173/  468], training loss: [0.10461208], train_acc: [0.9688], test_acc: [0.9707]\n",
      "Epoch: [ 0], batch: [  174/  468], training loss: [0.03644977], train_acc: [0.9844], test_acc: [0.9710]\n",
      "Epoch: [ 0], batch: [  175/  468], training loss: [0.05301850], train_acc: [0.9844], test_acc: [0.9713]\n",
      "Epoch: [ 0], batch: [  176/  468], training loss: [0.02676780], train_acc: [1.0000], test_acc: [0.9711]\n",
      "Epoch: [ 0], batch: [  177/  468], training loss: [0.03609422], train_acc: [0.9688], test_acc: [0.9715]\n",
      "Epoch: [ 0], batch: [  178/  468], training loss: [0.01119821], train_acc: [0.9922], test_acc: [0.9709]\n",
      "Epoch: [ 0], batch: [  179/  468], training loss: [0.02734421], train_acc: [0.9766], test_acc: [0.9715]\n",
      "Epoch: [ 0], batch: [  180/  468], training loss: [0.06864403], train_acc: [0.9844], test_acc: [0.9713]\n",
      "Epoch: [ 0], batch: [  181/  468], training loss: [0.05132120], train_acc: [0.9766], test_acc: [0.9714]\n",
      "Epoch: [ 0], batch: [  182/  468], training loss: [0.02607270], train_acc: [0.9766], test_acc: [0.9713]\n",
      "Epoch: [ 0], batch: [  183/  468], training loss: [0.01351655], train_acc: [1.0000], test_acc: [0.9709]\n",
      "Epoch: [ 0], batch: [  184/  468], training loss: [0.02062929], train_acc: [0.9922], test_acc: [0.9709]\n",
      "Epoch: [ 0], batch: [  185/  468], training loss: [0.00914994], train_acc: [0.9922], test_acc: [0.9709]\n",
      "Epoch: [ 0], batch: [  186/  468], training loss: [0.01685012], train_acc: [1.0000], test_acc: [0.9710]\n",
      "Epoch: [ 0], batch: [  187/  468], training loss: [0.04942510], train_acc: [0.9844], test_acc: [0.9712]\n",
      "Epoch: [ 0], batch: [  188/  468], training loss: [0.02802690], train_acc: [0.9922], test_acc: [0.9711]\n",
      "Epoch: [ 0], batch: [  189/  468], training loss: [0.01182791], train_acc: [0.9922], test_acc: [0.9716]\n",
      "Epoch: [ 0], batch: [  190/  468], training loss: [0.01173602], train_acc: [1.0000], test_acc: [0.9712]\n",
      "Epoch: [ 0], batch: [  191/  468], training loss: [0.08223635], train_acc: [0.9766], test_acc: [0.9713]\n",
      "Epoch: [ 0], batch: [  192/  468], training loss: [0.04297803], train_acc: [0.9922], test_acc: [0.9710]\n",
      "Epoch: [ 0], batch: [  193/  468], training loss: [0.05415957], train_acc: [0.9844], test_acc: [0.9718]\n",
      "Epoch: [ 0], batch: [  194/  468], training loss: [0.02508150], train_acc: [0.9922], test_acc: [0.9722]\n",
      "Epoch: [ 0], batch: [  195/  468], training loss: [0.00884829], train_acc: [0.9922], test_acc: [0.9726]\n",
      "Epoch: [ 0], batch: [  196/  468], training loss: [0.03815503], train_acc: [0.9844], test_acc: [0.9719]\n",
      "Epoch: [ 0], batch: [  197/  468], training loss: [0.02586623], train_acc: [0.9844], test_acc: [0.9725]\n",
      "Epoch: [ 0], batch: [  198/  468], training loss: [0.02087792], train_acc: [1.0000], test_acc: [0.9729]\n",
      "Epoch: [ 0], batch: [  199/  468], training loss: [0.02600294], train_acc: [0.9922], test_acc: [0.9720]\n",
      "Epoch: [ 0], batch: [  200/  468], training loss: [0.02026921], train_acc: [1.0000], test_acc: [0.9719]\n",
      "Epoch: [ 0], batch: [  201/  468], training loss: [0.07246649], train_acc: [0.9844], test_acc: [0.9708]\n",
      "Epoch: [ 0], batch: [  202/  468], training loss: [0.07118358], train_acc: [0.9766], test_acc: [0.9712]\n",
      "Epoch: [ 0], batch: [  203/  468], training loss: [0.06386736], train_acc: [0.9844], test_acc: [0.9713]\n",
      "Epoch: [ 0], batch: [  204/  468], training loss: [0.10549170], train_acc: [0.9688], test_acc: [0.9722]\n",
      "Epoch: [ 0], batch: [  205/  468], training loss: [0.03362881], train_acc: [1.0000], test_acc: [0.9724]\n",
      "Epoch: [ 0], batch: [  206/  468], training loss: [0.09696181], train_acc: [0.9609], test_acc: [0.9723]\n",
      "Epoch: [ 0], batch: [  207/  468], training loss: [0.06109848], train_acc: [0.9922], test_acc: [0.9728]\n",
      "Epoch: [ 0], batch: [  208/  468], training loss: [0.05466812], train_acc: [0.9922], test_acc: [0.9733]\n",
      "Epoch: [ 0], batch: [  209/  468], training loss: [0.03038371], train_acc: [0.9922], test_acc: [0.9734]\n",
      "Epoch: [ 0], batch: [  210/  468], training loss: [0.03112235], train_acc: [0.9844], test_acc: [0.9734]\n",
      "Epoch: [ 0], batch: [  211/  468], training loss: [0.01663587], train_acc: [1.0000], test_acc: [0.9729]\n",
      "Epoch: [ 0], batch: [  212/  468], training loss: [0.03297403], train_acc: [0.9922], test_acc: [0.9727]\n",
      "Epoch: [ 0], batch: [  213/  468], training loss: [0.02727124], train_acc: [1.0000], test_acc: [0.9715]\n",
      "Epoch: [ 0], batch: [  214/  468], training loss: [0.05405002], train_acc: [0.9844], test_acc: [0.9706]\n",
      "Epoch: [ 0], batch: [  215/  468], training loss: [0.03546088], train_acc: [0.9844], test_acc: [0.9692]\n",
      "Epoch: [ 0], batch: [  216/  468], training loss: [0.06149259], train_acc: [1.0000], test_acc: [0.9687]\n",
      "Epoch: [ 0], batch: [  217/  468], training loss: [0.07037046], train_acc: [0.9844], test_acc: [0.9680]\n",
      "Epoch: [ 0], batch: [  218/  468], training loss: [0.04278533], train_acc: [0.9766], test_acc: [0.9684]\n",
      "Epoch: [ 0], batch: [  219/  468], training loss: [0.03804988], train_acc: [1.0000], test_acc: [0.9683]\n",
      "Epoch: [ 0], batch: [  220/  468], training loss: [0.09524625], train_acc: [0.9531], test_acc: [0.9682]\n",
      "Epoch: [ 0], batch: [  221/  468], training loss: [0.05863252], train_acc: [0.9844], test_acc: [0.9683]\n",
      "Epoch: [ 0], batch: [  222/  468], training loss: [0.02565977], train_acc: [0.9844], test_acc: [0.9683]\n",
      "Epoch: [ 0], batch: [  223/  468], training loss: [0.08920953], train_acc: [0.9531], test_acc: [0.9678]\n",
      "Epoch: [ 0], batch: [  224/  468], training loss: [0.13897231], train_acc: [0.9609], test_acc: [0.9684]\n",
      "Epoch: [ 0], batch: [  225/  468], training loss: [0.05644925], train_acc: [0.9766], test_acc: [0.9673]\n",
      "Epoch: [ 0], batch: [  226/  468], training loss: [0.06979395], train_acc: [0.9766], test_acc: [0.9686]\n",
      "Epoch: [ 0], batch: [  227/  468], training loss: [0.01378748], train_acc: [0.9922], test_acc: [0.9689]\n",
      "Epoch: [ 0], batch: [  228/  468], training loss: [0.03238506], train_acc: [0.9922], test_acc: [0.9676]\n",
      "Epoch: [ 0], batch: [  229/  468], training loss: [0.04913404], train_acc: [0.9844], test_acc: [0.9672]\n",
      "Epoch: [ 0], batch: [  230/  468], training loss: [0.02081357], train_acc: [0.9922], test_acc: [0.9667]\n",
      "Epoch: [ 0], batch: [  231/  468], training loss: [0.02563597], train_acc: [0.9844], test_acc: [0.9648]\n",
      "Epoch: [ 0], batch: [  232/  468], training loss: [0.05473308], train_acc: [0.9688], test_acc: [0.9650]\n",
      "Epoch: [ 0], batch: [  233/  468], training loss: [0.05287448], train_acc: [0.9844], test_acc: [0.9658]\n",
      "Epoch: [ 0], batch: [  234/  468], training loss: [0.02848566], train_acc: [1.0000], test_acc: [0.9659]\n",
      "Epoch: [ 0], batch: [  235/  468], training loss: [0.04167541], train_acc: [0.9766], test_acc: [0.9655]\n",
      "Epoch: [ 0], batch: [  236/  468], training loss: [0.04303003], train_acc: [0.9766], test_acc: [0.9654]\n"
     ]
    },
    {
     "name": "stdout",
     "output_type": "stream",
     "text": [
      "Epoch: [ 0], batch: [  237/  468], training loss: [0.04298863], train_acc: [0.9844], test_acc: [0.9659]\n",
      "Epoch: [ 0], batch: [  238/  468], training loss: [0.03523767], train_acc: [0.9922], test_acc: [0.9660]\n",
      "Epoch: [ 0], batch: [  239/  468], training loss: [0.03993823], train_acc: [0.9766], test_acc: [0.9673]\n",
      "Epoch: [ 0], batch: [  240/  468], training loss: [0.05241570], train_acc: [0.9922], test_acc: [0.9658]\n",
      "Epoch: [ 0], batch: [  241/  468], training loss: [0.09863783], train_acc: [0.9375], test_acc: [0.9649]\n",
      "Epoch: [ 0], batch: [  242/  468], training loss: [0.01460557], train_acc: [0.9922], test_acc: [0.9646]\n",
      "Epoch: [ 0], batch: [  243/  468], training loss: [0.06195747], train_acc: [0.9453], test_acc: [0.9654]\n",
      "Epoch: [ 0], batch: [  244/  468], training loss: [0.05186494], train_acc: [0.9844], test_acc: [0.9682]\n",
      "Epoch: [ 0], batch: [  245/  468], training loss: [0.01969795], train_acc: [0.9922], test_acc: [0.9678]\n",
      "Epoch: [ 0], batch: [  246/  468], training loss: [0.04112409], train_acc: [0.9609], test_acc: [0.9671]\n",
      "Epoch: [ 0], batch: [  247/  468], training loss: [0.06014571], train_acc: [0.9766], test_acc: [0.9674]\n",
      "Epoch: [ 0], batch: [  248/  468], training loss: [0.04477288], train_acc: [0.9922], test_acc: [0.9671]\n",
      "Epoch: [ 0], batch: [  249/  468], training loss: [0.03762943], train_acc: [0.9922], test_acc: [0.9664]\n",
      "Epoch: [ 0], batch: [  250/  468], training loss: [0.05980592], train_acc: [0.9531], test_acc: [0.9661]\n",
      "Epoch: [ 0], batch: [  251/  468], training loss: [0.06572852], train_acc: [0.9609], test_acc: [0.9659]\n",
      "Epoch: [ 0], batch: [  252/  468], training loss: [0.01302959], train_acc: [0.9922], test_acc: [0.9655]\n",
      "Epoch: [ 0], batch: [  253/  468], training loss: [0.03323241], train_acc: [0.9844], test_acc: [0.9653]\n",
      "Epoch: [ 0], batch: [  254/  468], training loss: [0.05640417], train_acc: [0.9766], test_acc: [0.9650]\n",
      "Epoch: [ 0], batch: [  255/  468], training loss: [0.10603503], train_acc: [0.9844], test_acc: [0.9657]\n",
      "Epoch: [ 0], batch: [  256/  468], training loss: [0.02184970], train_acc: [1.0000], test_acc: [0.9677]\n",
      "Epoch: [ 0], batch: [  257/  468], training loss: [0.07512522], train_acc: [0.9766], test_acc: [0.9679]\n",
      "Epoch: [ 0], batch: [  258/  468], training loss: [0.04178755], train_acc: [1.0000], test_acc: [0.9678]\n",
      "Epoch: [ 0], batch: [  259/  468], training loss: [0.09253936], train_acc: [0.9766], test_acc: [0.9673]\n",
      "Epoch: [ 0], batch: [  260/  468], training loss: [0.02764833], train_acc: [0.9922], test_acc: [0.9675]\n",
      "Epoch: [ 0], batch: [  261/  468], training loss: [0.03450011], train_acc: [0.9766], test_acc: [0.9671]\n",
      "Epoch: [ 0], batch: [  262/  468], training loss: [0.04816237], train_acc: [0.9844], test_acc: [0.9682]\n",
      "Epoch: [ 0], batch: [  263/  468], training loss: [0.07712874], train_acc: [0.9844], test_acc: [0.9668]\n",
      "Epoch: [ 0], batch: [  264/  468], training loss: [0.11489026], train_acc: [0.9766], test_acc: [0.9665]\n",
      "Epoch: [ 0], batch: [  265/  468], training loss: [0.03933517], train_acc: [0.9844], test_acc: [0.9652]\n",
      "Epoch: [ 0], batch: [  266/  468], training loss: [0.01981017], train_acc: [0.9922], test_acc: [0.9651]\n",
      "Epoch: [ 0], batch: [  267/  468], training loss: [0.11146499], train_acc: [0.9688], test_acc: [0.9653]\n",
      "Epoch: [ 0], batch: [  268/  468], training loss: [0.07324582], train_acc: [0.9844], test_acc: [0.9648]\n",
      "Epoch: [ 0], batch: [  269/  468], training loss: [0.05871291], train_acc: [0.9766], test_acc: [0.9649]\n",
      "Epoch: [ 0], batch: [  270/  468], training loss: [0.08617648], train_acc: [0.9766], test_acc: [0.9657]\n",
      "Epoch: [ 0], batch: [  271/  468], training loss: [0.04334586], train_acc: [0.9844], test_acc: [0.9666]\n",
      "Epoch: [ 0], batch: [  272/  468], training loss: [0.04574613], train_acc: [0.9688], test_acc: [0.9665]\n",
      "Epoch: [ 0], batch: [  273/  468], training loss: [0.05233583], train_acc: [0.9766], test_acc: [0.9675]\n",
      "Epoch: [ 0], batch: [  274/  468], training loss: [0.01446123], train_acc: [1.0000], test_acc: [0.9665]\n",
      "Epoch: [ 0], batch: [  275/  468], training loss: [0.06983429], train_acc: [0.9609], test_acc: [0.9671]\n",
      "Epoch: [ 0], batch: [  276/  468], training loss: [0.03735535], train_acc: [0.9922], test_acc: [0.9674]\n",
      "Epoch: [ 0], batch: [  277/  468], training loss: [0.03060176], train_acc: [0.9766], test_acc: [0.9678]\n",
      "Epoch: [ 0], batch: [  278/  468], training loss: [0.03012795], train_acc: [0.9922], test_acc: [0.9685]\n",
      "Epoch: [ 0], batch: [  279/  468], training loss: [0.05088880], train_acc: [0.9844], test_acc: [0.9699]\n",
      "Epoch: [ 0], batch: [  280/  468], training loss: [0.02670527], train_acc: [0.9922], test_acc: [0.9695]\n",
      "Epoch: [ 0], batch: [  281/  468], training loss: [0.08361480], train_acc: [0.9688], test_acc: [0.9684]\n",
      "Epoch: [ 0], batch: [  282/  468], training loss: [0.08561745], train_acc: [0.9609], test_acc: [0.9702]\n",
      "Epoch: [ 0], batch: [  283/  468], training loss: [0.06174435], train_acc: [0.9766], test_acc: [0.9703]\n",
      "Epoch: [ 0], batch: [  284/  468], training loss: [0.11188144], train_acc: [0.9531], test_acc: [0.9713]\n",
      "Epoch: [ 0], batch: [  285/  468], training loss: [0.05997790], train_acc: [0.9766], test_acc: [0.9714]\n",
      "Epoch: [ 0], batch: [  286/  468], training loss: [0.08444228], train_acc: [0.9844], test_acc: [0.9714]\n",
      "Epoch: [ 0], batch: [  287/  468], training loss: [0.01704148], train_acc: [1.0000], test_acc: [0.9721]\n",
      "Epoch: [ 0], batch: [  288/  468], training loss: [0.02438416], train_acc: [1.0000], test_acc: [0.9720]\n",
      "Epoch: [ 0], batch: [  289/  468], training loss: [0.05691379], train_acc: [0.9844], test_acc: [0.9715]\n",
      "Epoch: [ 0], batch: [  290/  468], training loss: [0.04993514], train_acc: [0.9766], test_acc: [0.9715]\n",
      "Epoch: [ 0], batch: [  291/  468], training loss: [0.10758360], train_acc: [0.9531], test_acc: [0.9717]\n",
      "Epoch: [ 0], batch: [  292/  468], training loss: [0.03275709], train_acc: [0.9922], test_acc: [0.9715]\n",
      "Epoch: [ 0], batch: [  293/  468], training loss: [0.03345275], train_acc: [0.9844], test_acc: [0.9709]\n",
      "Epoch: [ 0], batch: [  294/  468], training loss: [0.06634369], train_acc: [0.9844], test_acc: [0.9701]\n",
      "Epoch: [ 0], batch: [  295/  468], training loss: [0.04599070], train_acc: [0.9609], test_acc: [0.9695]\n",
      "Epoch: [ 0], batch: [  296/  468], training loss: [0.01994027], train_acc: [0.9922], test_acc: [0.9692]\n",
      "Epoch: [ 0], batch: [  297/  468], training loss: [0.04253791], train_acc: [0.9766], test_acc: [0.9692]\n",
      "Epoch: [ 0], batch: [  298/  468], training loss: [0.06001543], train_acc: [0.9766], test_acc: [0.9678]\n",
      "Epoch: [ 0], batch: [  299/  468], training loss: [0.06826874], train_acc: [0.9766], test_acc: [0.9685]\n",
      "Epoch: [ 0], batch: [  300/  468], training loss: [0.04439308], train_acc: [0.9844], test_acc: [0.9689]\n",
      "Epoch: [ 0], batch: [  301/  468], training loss: [0.08009931], train_acc: [0.9688], test_acc: [0.9700]\n",
      "Epoch: [ 0], batch: [  302/  468], training loss: [0.10052795], train_acc: [0.9609], test_acc: [0.9710]\n",
      "Epoch: [ 0], batch: [  303/  468], training loss: [0.06342795], train_acc: [0.9844], test_acc: [0.9727]\n",
      "Epoch: [ 0], batch: [  304/  468], training loss: [0.05675368], train_acc: [0.9844], test_acc: [0.9739]\n",
      "Epoch: [ 0], batch: [  305/  468], training loss: [0.17292479], train_acc: [0.9688], test_acc: [0.9753]\n",
      "Epoch: [ 0], batch: [  306/  468], training loss: [0.04730920], train_acc: [0.9844], test_acc: [0.9756]\n",
      "Epoch: [ 0], batch: [  307/  468], training loss: [0.02225985], train_acc: [0.9844], test_acc: [0.9756]\n",
      "Epoch: [ 0], batch: [  308/  468], training loss: [0.02442696], train_acc: [1.0000], test_acc: [0.9750]\n",
      "Epoch: [ 0], batch: [  309/  468], training loss: [0.03498050], train_acc: [0.9844], test_acc: [0.9749]\n",
      "Epoch: [ 0], batch: [  310/  468], training loss: [0.02608359], train_acc: [1.0000], test_acc: [0.9739]\n",
      "Epoch: [ 0], batch: [  311/  468], training loss: [0.02495392], train_acc: [1.0000], test_acc: [0.9724]\n",
      "Epoch: [ 0], batch: [  312/  468], training loss: [0.02715713], train_acc: [0.9922], test_acc: [0.9712]\n",
      "Epoch: [ 0], batch: [  313/  468], training loss: [0.05853534], train_acc: [0.9766], test_acc: [0.9695]\n",
      "Epoch: [ 0], batch: [  314/  468], training loss: [0.04182801], train_acc: [1.0000], test_acc: [0.9689]\n",
      "Epoch: [ 0], batch: [  315/  468], training loss: [0.06657653], train_acc: [0.9922], test_acc: [0.9685]\n"
     ]
    },
    {
     "name": "stdout",
     "output_type": "stream",
     "text": [
      "Epoch: [ 0], batch: [  316/  468], training loss: [0.06863812], train_acc: [0.9688], test_acc: [0.9691]\n",
      "Epoch: [ 0], batch: [  317/  468], training loss: [0.02297287], train_acc: [0.9922], test_acc: [0.9689]\n",
      "Epoch: [ 0], batch: [  318/  468], training loss: [0.03108316], train_acc: [0.9922], test_acc: [0.9694]\n",
      "Epoch: [ 0], batch: [  319/  468], training loss: [0.03287807], train_acc: [0.9766], test_acc: [0.9707]\n",
      "Epoch: [ 0], batch: [  320/  468], training loss: [0.05368334], train_acc: [0.9766], test_acc: [0.9712]\n",
      "Epoch: [ 0], batch: [  321/  468], training loss: [0.05699257], train_acc: [0.9844], test_acc: [0.9714]\n",
      "Epoch: [ 0], batch: [  322/  468], training loss: [0.04870804], train_acc: [0.9766], test_acc: [0.9722]\n",
      "Epoch: [ 0], batch: [  323/  468], training loss: [0.02870574], train_acc: [1.0000], test_acc: [0.9727]\n",
      "Epoch: [ 0], batch: [  324/  468], training loss: [0.03178144], train_acc: [0.9844], test_acc: [0.9718]\n",
      "Epoch: [ 0], batch: [  325/  468], training loss: [0.02992922], train_acc: [0.9844], test_acc: [0.9719]\n",
      "Epoch: [ 0], batch: [  326/  468], training loss: [0.01612067], train_acc: [0.9922], test_acc: [0.9710]\n",
      "Epoch: [ 0], batch: [  327/  468], training loss: [0.02751640], train_acc: [1.0000], test_acc: [0.9703]\n",
      "Epoch: [ 0], batch: [  328/  468], training loss: [0.04338928], train_acc: [0.9688], test_acc: [0.9708]\n",
      "Epoch: [ 0], batch: [  329/  468], training loss: [0.09269389], train_acc: [0.9688], test_acc: [0.9700]\n",
      "Epoch: [ 0], batch: [  330/  468], training loss: [0.04917153], train_acc: [0.9688], test_acc: [0.9700]\n",
      "Epoch: [ 0], batch: [  331/  468], training loss: [0.02962384], train_acc: [0.9844], test_acc: [0.9699]\n",
      "Epoch: [ 0], batch: [  332/  468], training loss: [0.04590951], train_acc: [0.9766], test_acc: [0.9690]\n",
      "Epoch: [ 0], batch: [  333/  468], training loss: [0.09369941], train_acc: [0.9766], test_acc: [0.9694]\n",
      "Epoch: [ 0], batch: [  334/  468], training loss: [0.07897941], train_acc: [0.9844], test_acc: [0.9693]\n",
      "Epoch: [ 0], batch: [  335/  468], training loss: [0.05963521], train_acc: [0.9922], test_acc: [0.9686]\n",
      "Epoch: [ 0], batch: [  336/  468], training loss: [0.04244468], train_acc: [1.0000], test_acc: [0.9688]\n",
      "Epoch: [ 0], batch: [  337/  468], training loss: [0.01662051], train_acc: [0.9922], test_acc: [0.9692]\n",
      "Epoch: [ 0], batch: [  338/  468], training loss: [0.09847066], train_acc: [0.9766], test_acc: [0.9692]\n",
      "Epoch: [ 0], batch: [  339/  468], training loss: [0.06337489], train_acc: [0.9844], test_acc: [0.9694]\n",
      "Epoch: [ 0], batch: [  340/  468], training loss: [0.04555801], train_acc: [0.9844], test_acc: [0.9699]\n",
      "Epoch: [ 0], batch: [  341/  468], training loss: [0.02153002], train_acc: [0.9922], test_acc: [0.9706]\n",
      "Epoch: [ 0], batch: [  342/  468], training loss: [0.03558040], train_acc: [1.0000], test_acc: [0.9711]\n",
      "Epoch: [ 0], batch: [  343/  468], training loss: [0.06714915], train_acc: [0.9766], test_acc: [0.9710]\n",
      "Epoch: [ 0], batch: [  344/  468], training loss: [0.02065592], train_acc: [1.0000], test_acc: [0.9711]\n",
      "Epoch: [ 0], batch: [  345/  468], training loss: [0.02350814], train_acc: [0.9922], test_acc: [0.9719]\n",
      "Epoch: [ 0], batch: [  346/  468], training loss: [0.02190293], train_acc: [0.9922], test_acc: [0.9718]\n",
      "Epoch: [ 0], batch: [  347/  468], training loss: [0.01988433], train_acc: [0.9922], test_acc: [0.9714]\n",
      "Epoch: [ 0], batch: [  348/  468], training loss: [0.04126564], train_acc: [0.9844], test_acc: [0.9707]\n",
      "Epoch: [ 0], batch: [  349/  468], training loss: [0.16351327], train_acc: [0.9688], test_acc: [0.9719]\n",
      "Epoch: [ 0], batch: [  350/  468], training loss: [0.02049732], train_acc: [0.9922], test_acc: [0.9725]\n",
      "Epoch: [ 0], batch: [  351/  468], training loss: [0.07105867], train_acc: [0.9609], test_acc: [0.9730]\n",
      "Epoch: [ 0], batch: [  352/  468], training loss: [0.03089949], train_acc: [0.9922], test_acc: [0.9734]\n",
      "Epoch: [ 0], batch: [  353/  468], training loss: [0.07281359], train_acc: [0.9766], test_acc: [0.9737]\n",
      "Epoch: [ 0], batch: [  354/  468], training loss: [0.04938144], train_acc: [0.9688], test_acc: [0.9729]\n",
      "Epoch: [ 0], batch: [  355/  468], training loss: [0.02817604], train_acc: [0.9844], test_acc: [0.9731]\n",
      "Epoch: [ 0], batch: [  356/  468], training loss: [0.03272220], train_acc: [0.9922], test_acc: [0.9727]\n",
      "Epoch: [ 0], batch: [  357/  468], training loss: [0.02795702], train_acc: [0.9922], test_acc: [0.9728]\n",
      "Epoch: [ 0], batch: [  358/  468], training loss: [0.05050012], train_acc: [0.9766], test_acc: [0.9723]\n",
      "Epoch: [ 0], batch: [  359/  468], training loss: [0.01557469], train_acc: [1.0000], test_acc: [0.9728]\n",
      "Epoch: [ 0], batch: [  360/  468], training loss: [0.01825329], train_acc: [0.9844], test_acc: [0.9725]\n",
      "Epoch: [ 0], batch: [  361/  468], training loss: [0.04023158], train_acc: [1.0000], test_acc: [0.9723]\n",
      "Epoch: [ 0], batch: [  362/  468], training loss: [0.08262511], train_acc: [0.9922], test_acc: [0.9727]\n",
      "Epoch: [ 0], batch: [  363/  468], training loss: [0.02614632], train_acc: [1.0000], test_acc: [0.9727]\n",
      "Epoch: [ 0], batch: [  364/  468], training loss: [0.06183400], train_acc: [0.9688], test_acc: [0.9734]\n",
      "Epoch: [ 0], batch: [  365/  468], training loss: [0.03268594], train_acc: [0.9688], test_acc: [0.9742]\n",
      "Epoch: [ 0], batch: [  366/  468], training loss: [0.02025134], train_acc: [1.0000], test_acc: [0.9745]\n",
      "Epoch: [ 0], batch: [  367/  468], training loss: [0.02537971], train_acc: [0.9922], test_acc: [0.9743]\n",
      "Epoch: [ 0], batch: [  368/  468], training loss: [0.05133744], train_acc: [0.9844], test_acc: [0.9748]\n",
      "Epoch: [ 0], batch: [  369/  468], training loss: [0.06360082], train_acc: [0.9844], test_acc: [0.9745]\n",
      "Epoch: [ 0], batch: [  370/  468], training loss: [0.06319095], train_acc: [0.9766], test_acc: [0.9743]\n",
      "Epoch: [ 0], batch: [  371/  468], training loss: [0.08799422], train_acc: [0.9688], test_acc: [0.9742]\n",
      "Epoch: [ 0], batch: [  372/  468], training loss: [0.06662650], train_acc: [0.9922], test_acc: [0.9738]\n",
      "Epoch: [ 0], batch: [  373/  468], training loss: [0.03037560], train_acc: [1.0000], test_acc: [0.9735]\n",
      "Epoch: [ 0], batch: [  374/  468], training loss: [0.05158357], train_acc: [0.9688], test_acc: [0.9729]\n",
      "Epoch: [ 0], batch: [  375/  468], training loss: [0.03987295], train_acc: [0.9766], test_acc: [0.9735]\n",
      "Epoch: [ 0], batch: [  376/  468], training loss: [0.05157375], train_acc: [0.9844], test_acc: [0.9732]\n",
      "Epoch: [ 0], batch: [  377/  468], training loss: [0.04348313], train_acc: [0.9922], test_acc: [0.9730]\n",
      "Epoch: [ 0], batch: [  378/  468], training loss: [0.05643609], train_acc: [0.9844], test_acc: [0.9714]\n",
      "Epoch: [ 0], batch: [  379/  468], training loss: [0.03563932], train_acc: [0.9766], test_acc: [0.9697]\n",
      "Epoch: [ 0], batch: [  380/  468], training loss: [0.03411495], train_acc: [0.9922], test_acc: [0.9682]\n",
      "Epoch: [ 0], batch: [  381/  468], training loss: [0.06001811], train_acc: [0.9688], test_acc: [0.9667]\n",
      "Epoch: [ 0], batch: [  382/  468], training loss: [0.03703510], train_acc: [0.9922], test_acc: [0.9656]\n",
      "Epoch: [ 0], batch: [  383/  468], training loss: [0.05965076], train_acc: [0.9531], test_acc: [0.9651]\n",
      "Epoch: [ 0], batch: [  384/  468], training loss: [0.03528745], train_acc: [0.9688], test_acc: [0.9667]\n",
      "Epoch: [ 0], batch: [  385/  468], training loss: [0.02090332], train_acc: [0.9922], test_acc: [0.9691]\n",
      "Epoch: [ 0], batch: [  386/  468], training loss: [0.03506522], train_acc: [0.9922], test_acc: [0.9713]\n",
      "Epoch: [ 0], batch: [  387/  468], training loss: [0.06643558], train_acc: [0.9609], test_acc: [0.9725]\n",
      "Epoch: [ 0], batch: [  388/  468], training loss: [0.01157153], train_acc: [1.0000], test_acc: [0.9725]\n",
      "Epoch: [ 0], batch: [  389/  468], training loss: [0.05681332], train_acc: [0.9844], test_acc: [0.9724]\n",
      "Epoch: [ 0], batch: [  390/  468], training loss: [0.03261688], train_acc: [0.9844], test_acc: [0.9719]\n",
      "Epoch: [ 0], batch: [  391/  468], training loss: [0.05446781], train_acc: [0.9844], test_acc: [0.9729]\n",
      "Epoch: [ 0], batch: [  392/  468], training loss: [0.05343566], train_acc: [0.9844], test_acc: [0.9734]\n",
      "Epoch: [ 0], batch: [  393/  468], training loss: [0.01239108], train_acc: [0.9844], test_acc: [0.9735]\n",
      "Epoch: [ 0], batch: [  394/  468], training loss: [0.07895575], train_acc: [0.9844], test_acc: [0.9741]\n"
     ]
    },
    {
     "name": "stdout",
     "output_type": "stream",
     "text": [
      "Epoch: [ 0], batch: [  395/  468], training loss: [0.06292757], train_acc: [0.9844], test_acc: [0.9741]\n",
      "Epoch: [ 0], batch: [  396/  468], training loss: [0.04205932], train_acc: [0.9766], test_acc: [0.9740]\n",
      "Epoch: [ 0], batch: [  397/  468], training loss: [0.07023285], train_acc: [0.9688], test_acc: [0.9737]\n",
      "Epoch: [ 0], batch: [  398/  468], training loss: [0.01554001], train_acc: [1.0000], test_acc: [0.9734]\n",
      "Epoch: [ 0], batch: [  399/  468], training loss: [0.03150307], train_acc: [0.9766], test_acc: [0.9733]\n",
      "Epoch: [ 0], batch: [  400/  468], training loss: [0.05385920], train_acc: [0.9844], test_acc: [0.9725]\n",
      "Epoch: [ 0], batch: [  401/  468], training loss: [0.01333956], train_acc: [1.0000], test_acc: [0.9725]\n",
      "Epoch: [ 0], batch: [  402/  468], training loss: [0.02677396], train_acc: [1.0000], test_acc: [0.9720]\n",
      "Epoch: [ 0], batch: [  403/  468], training loss: [0.06360447], train_acc: [0.9766], test_acc: [0.9709]\n",
      "Epoch: [ 0], batch: [  404/  468], training loss: [0.05259874], train_acc: [0.9766], test_acc: [0.9704]\n",
      "Epoch: [ 0], batch: [  405/  468], training loss: [0.01983552], train_acc: [0.9922], test_acc: [0.9706]\n",
      "Epoch: [ 0], batch: [  406/  468], training loss: [0.03842712], train_acc: [0.9922], test_acc: [0.9702]\n",
      "Epoch: [ 0], batch: [  407/  468], training loss: [0.04845086], train_acc: [0.9609], test_acc: [0.9704]\n",
      "Epoch: [ 0], batch: [  408/  468], training loss: [0.03217606], train_acc: [0.9922], test_acc: [0.9707]\n",
      "Epoch: [ 0], batch: [  409/  468], training loss: [0.03937491], train_acc: [0.9844], test_acc: [0.9711]\n",
      "Epoch: [ 0], batch: [  410/  468], training loss: [0.13818955], train_acc: [0.9688], test_acc: [0.9714]\n",
      "Epoch: [ 0], batch: [  411/  468], training loss: [0.02481824], train_acc: [0.9922], test_acc: [0.9717]\n",
      "Epoch: [ 0], batch: [  412/  468], training loss: [0.06009823], train_acc: [0.9766], test_acc: [0.9717]\n",
      "Epoch: [ 0], batch: [  413/  468], training loss: [0.04842729], train_acc: [0.9844], test_acc: [0.9724]\n",
      "Epoch: [ 0], batch: [  414/  468], training loss: [0.04082026], train_acc: [0.9766], test_acc: [0.9726]\n",
      "Epoch: [ 0], batch: [  415/  468], training loss: [0.02190965], train_acc: [0.9922], test_acc: [0.9717]\n",
      "Epoch: [ 0], batch: [  416/  468], training loss: [0.05228285], train_acc: [0.9766], test_acc: [0.9723]\n",
      "Epoch: [ 0], batch: [  417/  468], training loss: [0.07841048], train_acc: [0.9844], test_acc: [0.9731]\n",
      "Epoch: [ 0], batch: [  418/  468], training loss: [0.03145130], train_acc: [0.9844], test_acc: [0.9728]\n",
      "Epoch: [ 0], batch: [  419/  468], training loss: [0.03300109], train_acc: [0.9922], test_acc: [0.9733]\n",
      "Epoch: [ 0], batch: [  420/  468], training loss: [0.04744875], train_acc: [0.9766], test_acc: [0.9735]\n",
      "Epoch: [ 0], batch: [  421/  468], training loss: [0.03170738], train_acc: [0.9922], test_acc: [0.9735]\n",
      "Epoch: [ 0], batch: [  422/  468], training loss: [0.01851501], train_acc: [0.9922], test_acc: [0.9731]\n",
      "Epoch: [ 0], batch: [  423/  468], training loss: [0.01829482], train_acc: [0.9922], test_acc: [0.9738]\n",
      "Epoch: [ 0], batch: [  424/  468], training loss: [0.03695744], train_acc: [0.9922], test_acc: [0.9737]\n",
      "Epoch: [ 0], batch: [  425/  468], training loss: [0.03349055], train_acc: [1.0000], test_acc: [0.9736]\n",
      "Epoch: [ 0], batch: [  426/  468], training loss: [0.01504281], train_acc: [1.0000], test_acc: [0.9735]\n",
      "Epoch: [ 0], batch: [  427/  468], training loss: [0.03940262], train_acc: [0.9844], test_acc: [0.9735]\n",
      "Epoch: [ 0], batch: [  428/  468], training loss: [0.03607484], train_acc: [0.9766], test_acc: [0.9735]\n",
      "Epoch: [ 0], batch: [  429/  468], training loss: [0.02500605], train_acc: [1.0000], test_acc: [0.9742]\n",
      "Epoch: [ 0], batch: [  430/  468], training loss: [0.10773531], train_acc: [0.9766], test_acc: [0.9741]\n",
      "Epoch: [ 0], batch: [  431/  468], training loss: [0.04799653], train_acc: [0.9844], test_acc: [0.9742]\n",
      "Epoch: [ 0], batch: [  432/  468], training loss: [0.02303738], train_acc: [0.9922], test_acc: [0.9735]\n",
      "Epoch: [ 0], batch: [  433/  468], training loss: [0.02498170], train_acc: [0.9922], test_acc: [0.9728]\n",
      "Epoch: [ 0], batch: [  434/  468], training loss: [0.04583461], train_acc: [0.9844], test_acc: [0.9732]\n",
      "Epoch: [ 0], batch: [  435/  468], training loss: [0.04324409], train_acc: [0.9922], test_acc: [0.9723]\n",
      "Epoch: [ 0], batch: [  436/  468], training loss: [0.05157691], train_acc: [0.9688], test_acc: [0.9724]\n",
      "Epoch: [ 0], batch: [  437/  468], training loss: [0.11543936], train_acc: [0.9609], test_acc: [0.9718]\n",
      "Epoch: [ 0], batch: [  438/  468], training loss: [0.02675262], train_acc: [0.9844], test_acc: [0.9711]\n",
      "Epoch: [ 0], batch: [  439/  468], training loss: [0.05871239], train_acc: [0.9844], test_acc: [0.9701]\n",
      "Epoch: [ 0], batch: [  440/  468], training loss: [0.01938229], train_acc: [0.9844], test_acc: [0.9687]\n",
      "Epoch: [ 0], batch: [  441/  468], training loss: [0.03076371], train_acc: [0.9922], test_acc: [0.9668]\n",
      "Epoch: [ 0], batch: [  442/  468], training loss: [0.02004911], train_acc: [0.9922], test_acc: [0.9658]\n",
      "Epoch: [ 0], batch: [  443/  468], training loss: [0.02632810], train_acc: [0.9844], test_acc: [0.9651]\n",
      "Epoch: [ 0], batch: [  444/  468], training loss: [0.13976261], train_acc: [0.9688], test_acc: [0.9648]\n",
      "Epoch: [ 0], batch: [  445/  468], training loss: [0.05732135], train_acc: [0.9688], test_acc: [0.9638]\n",
      "Epoch: [ 0], batch: [  446/  468], training loss: [0.04374781], train_acc: [0.9844], test_acc: [0.9628]\n",
      "Epoch: [ 0], batch: [  447/  468], training loss: [0.12343419], train_acc: [0.9531], test_acc: [0.9630]\n",
      "Epoch: [ 0], batch: [  448/  468], training loss: [0.01971901], train_acc: [1.0000], test_acc: [0.9638]\n",
      "Epoch: [ 0], batch: [  449/  468], training loss: [0.05911996], train_acc: [0.9609], test_acc: [0.9636]\n",
      "Epoch: [ 0], batch: [  450/  468], training loss: [0.07729816], train_acc: [0.9766], test_acc: [0.9652]\n",
      "Epoch: [ 0], batch: [  451/  468], training loss: [0.04672323], train_acc: [0.9844], test_acc: [0.9666]\n",
      "Epoch: [ 0], batch: [  452/  468], training loss: [0.06162968], train_acc: [0.9609], test_acc: [0.9674]\n",
      "Epoch: [ 0], batch: [  453/  468], training loss: [0.04890299], train_acc: [0.9844], test_acc: [0.9690]\n",
      "Epoch: [ 0], batch: [  454/  468], training loss: [0.01974465], train_acc: [1.0000], test_acc: [0.9691]\n",
      "Epoch: [ 0], batch: [  455/  468], training loss: [0.02097992], train_acc: [0.9766], test_acc: [0.9697]\n",
      "Epoch: [ 0], batch: [  456/  468], training loss: [0.10309509], train_acc: [0.9688], test_acc: [0.9698]\n",
      "Epoch: [ 0], batch: [  457/  468], training loss: [0.05447098], train_acc: [0.9844], test_acc: [0.9704]\n",
      "Epoch: [ 0], batch: [  458/  468], training loss: [0.01418387], train_acc: [1.0000], test_acc: [0.9709]\n",
      "Epoch: [ 0], batch: [  459/  468], training loss: [0.09286726], train_acc: [0.9844], test_acc: [0.9713]\n",
      "Epoch: [ 0], batch: [  460/  468], training loss: [0.03720627], train_acc: [1.0000], test_acc: [0.9700]\n",
      "Epoch: [ 0], batch: [  461/  468], training loss: [0.00656587], train_acc: [1.0000], test_acc: [0.9692]\n",
      "Epoch: [ 0], batch: [  462/  468], training loss: [0.11828841], train_acc: [0.9609], test_acc: [0.9695]\n",
      "Epoch: [ 0], batch: [  463/  468], training loss: [0.01606732], train_acc: [0.9766], test_acc: [0.9688]\n",
      "Epoch: [ 0], batch: [  464/  468], training loss: [0.12311310], train_acc: [0.9531], test_acc: [0.9689]\n",
      "Epoch: [ 0], batch: [  465/  468], training loss: [0.01174982], train_acc: [0.9922], test_acc: [0.9684]\n",
      "Epoch: [ 0], batch: [  466/  468], training loss: [0.04900890], train_acc: [0.9688], test_acc: [0.9696]\n",
      "Epoch: [ 0], batch: [  467/  468], training loss: [0.03930691], train_acc: [0.9844], test_acc: [0.9701]\n"
     ]
    }
   ],
   "source": [
    "for epoch in range(training_epochs):\n",
    "    for idx, (train_input, train_label) in enumerate(train_dataset):\n",
    "        grads = grad(network, train_input, train_label)\n",
    "        optimizer.apply_gradients(grads_and_vars=zip(grads, network.trainable_variables))\n",
    "        \n",
    "        train_loss = loss_fn(network, train_input, train_label)\n",
    "        train_accuracy = accuracy_fn(network, train_input, train_label)\n",
    "        \n",
    "        for test_input, test_label in test_dataset:\n",
    "            test_accuracy = accuracy_fn(network, test_input, test_label)\n",
    "       \n",
    "        print(\"Epoch: [%2d], batch: [%5d/%5d], training loss: [%.8f], train_acc: [%.4f], test_acc: [%.4f]\"\\\n",
    "              %(epoch, idx, training_iterations,train_loss, train_accuracy,test_accuracy))"
   ]
  },
  {
   "cell_type": "markdown",
   "id": "147cbe7e",
   "metadata": {},
   "source": [
    "학습에서 기울기를 적용할때에도 optimizer.apply_gradients(grads_and_vars=zip(grads, network.trainable_variables))로 바꿔줍니다. "
   ]
  },
  {
   "cell_type": "code",
   "execution_count": null,
   "id": "897b8b8a",
   "metadata": {},
   "outputs": [],
   "source": []
  },
  {
   "cell_type": "code",
   "execution_count": null,
   "id": "aa32a4e8",
   "metadata": {},
   "outputs": [],
   "source": []
  }
 ],
 "metadata": {
  "kernelspec": {
   "display_name": "Python 3",
   "language": "python",
   "name": "python3"
  },
  "language_info": {
   "codemirror_mode": {
    "name": "ipython",
    "version": 3
   },
   "file_extension": ".py",
   "mimetype": "text/x-python",
   "name": "python",
   "nbconvert_exporter": "python",
   "pygments_lexer": "ipython3",
   "version": "3.8.8"
  },
  "toc": {
   "base_numbering": 1,
   "nav_menu": {},
   "number_sections": true,
   "sideBar": true,
   "skip_h1_title": false,
   "title_cell": "Table of Contents",
   "title_sidebar": "Contents",
   "toc_cell": false,
   "toc_position": {
    "height": "calc(100% - 180px)",
    "left": "10px",
    "top": "150px",
    "width": "197.514px"
   },
   "toc_section_display": true,
   "toc_window_display": true
  }
 },
 "nbformat": 4,
 "nbformat_minor": 5
}
