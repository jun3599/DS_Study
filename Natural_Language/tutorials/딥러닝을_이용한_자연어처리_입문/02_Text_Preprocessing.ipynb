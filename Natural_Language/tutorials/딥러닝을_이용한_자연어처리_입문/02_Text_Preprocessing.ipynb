{
 "cells": [
  {
   "cell_type": "markdown",
   "id": "b06fd6e2",
   "metadata": {},
   "source": [
    "# 제 2강 Text Preprocessing\n",
    "* 텍스트 분석의 핵심부인 전처리 과정에 대해 학습합니다. \n",
    "* 해당 강의 자료는 [유원준 | 딥러닝을 이용한 자연어 처리 입문](https://wikidocs.net/21694)의 내용을 참고하여 작성되었습니다. "
   ]
  },
  {
   "cell_type": "markdown",
   "id": "fdcd01a3",
   "metadata": {},
   "source": [
    "# Tokenization(토큰화) \n",
    "* 자연어 처리에 앞서, 습득한 데이터를 분석에 맞게 변환하는 과정에는 크게 **토큰화(Tokenization)**, **정제(Cleaning)**, **정규화(Normalization)** 등이 있습니다. \n",
    "* 그 중, **토큰화**는 습득한 corpus에서 문장을 **토큰**이라 불리는 작은 단위로 나누는 작업을 의미합니다. \n",
    "* 이때, **토큰**에 대한 정의는 다양하지만 일반적으로 `의미를 가지는 가장 기본적인 언어의 단위`를 의미합니다."
   ]
  },
  {
   "cell_type": "markdown",
   "id": "a1936b59",
   "metadata": {},
   "source": [
    "## 단어 토큰화(word Tokenization) \n",
    "* 일반적으로 영미권 언어의 경우 `단어 토큰화`방식의 적용이 다수 존재합니다. `단어토큰화란: 토큰의 기준을 각각의 단어로 지정하는 방식`을 의미합니다. 이후 설명을 추가하겠지만, 한글의 경우 이보다 복잡한 `형태소 단위의 토큰화`를 진행합니다. "
   ]
  },
  {
   "cell_type": "markdown",
   "id": "e4677c50",
   "metadata": {},
   "source": [
    "예를 들어보겠습니다. 아래의 입력으로부터 구두점(punctuation)과 같은 문자는 제외시키는 간단한 단어 토큰화 작업을 해봅시다. 구두점이란 마침표(.), 컴마(,), 물음표(?), 세미콜론(;), 느낌표(!) 등과 같은 기호를 말합니다.  \n",
    "  \n",
    "입력: Time is an illusion. Lunchtime double so!  \n",
    "  \n",
    "이러한 입력으로부터 구두점을 제외시킨 토큰화 작업의 결과는 다음과 같습니다.  \n",
    "  \n",
    "출력 : \"Time\", \"is\", \"an\", \"illustion\", \"Lunchtime\", \"double\", \"so\"  \n",
    "  \n",
    "이 예제에서 토큰화 작업은 굉장히 간단합니다. 구두점을 지운 뒤에 띄어쓰기(whitespace)를 기준으로 잘라냈습니다. 하지만 이 예제는 토큰화의 가장 기초적인 예제를 보여준 것에 불과합니다.  \n",
    "  \n",
    "보통 토큰화 작업은 단순히 구두점이나 특수문자를 전부 제거하는 정제(cleaning) 작업을 수행하는 것만으로 해결되지 않습니다. 구두점이나 특수문자를 전부 제거하면 토큰이 의미를 잃어버리는 경우가 발생하기도 합니다. 심지어 띄어쓰기 단위로 자르면 사실상 단어 토큰이 구분되는 영어와 달리, 한국어는 띄어쓰기만으로는 단어 토큰을 구분하기 어렵습니다. 그 이유는 뒤에서 언급하겠습니다.  "
   ]
  },
  {
   "cell_type": "markdown",
   "id": "9111aa6f",
   "metadata": {},
   "source": [
    "## 토큰화 과정의 어려움\n",
    "* 토큰화를 진행하다 보면, 어떤 규칙성을 전체 말뭉치에 적용하기 힘든 경우가 발생합니다. 예를들어 영어에서의 가장 대표적인 예시는 **아포스트로피(apostrophe)** 의 문제가 있습니다."
   ]
  },
  {
   "cell_type": "markdown",
   "id": "8c18dec8",
   "metadata": {},
   "source": [
    "``Don't be fooled by the dark sounding name, Mr. Jone's Orphanage is as cheery as cheery goes for a pastry shop.``    \n",
    "  \n",
    "아포스트로피가 들어간 상황에서 Don't와 Jone's는 어떻게 토큰화할 수 있을까요? 다양한 선택지가 있습니다.  \n",
    "\n",
    "`Don't | Don t | Dont | Do n't`  \n",
    "`Jone's | Jone s | Jone | Jones`  \n",
    "이 중 사용자가 원하는 결과가 나오도록 토큰화 도구를 직접 설계할 수도 있겠지만, 기존에 공개된 도구들을 사용하였을 때의 결과가 사용자의 목적과 일치한다면 해당 도구를 사용할 수도 있을 것입니다. NLTK는 영어 코퍼스를 토큰화하기 위한 도구들을 제공합니다. 그 중 word_tokenize와 WordPunctTokenizer를 사용해서 아포스트로피를 어떻게 처리하는지 확인해보겠습니다."
   ]
  },
  {
   "cell_type": "code",
   "execution_count": 1,
   "id": "5ebf9fe8",
   "metadata": {},
   "outputs": [],
   "source": [
    "from nltk.tokenize import word_tokenize \n",
    "from nltk.tokenize import WordPunctTokenizer\n",
    "from tensorflow.keras.preprocessing.text import text_to_word_sequence"
   ]
  },
  {
   "cell_type": "code",
   "execution_count": 2,
   "id": "27d29ad9",
   "metadata": {},
   "outputs": [],
   "source": [
    "target_sentence = \"Don't be fooled by the dark sounding name, Mr. Jone's Orphanage is as cheery as cheery goes for a pastry shop.\" "
   ]
  },
  {
   "cell_type": "markdown",
   "id": "7fd56108",
   "metadata": {},
   "source": [
    "##### word tokenize의 경우 "
   ]
  },
  {
   "cell_type": "code",
   "execution_count": 3,
   "id": "f61bc57f",
   "metadata": {},
   "outputs": [
    {
     "name": "stdout",
     "output_type": "stream",
     "text": [
      "word tokenize 수행결과:  ['Do', \"n't\", 'be', 'fooled', 'by', 'the', 'dark', 'sounding', 'name', ',', 'Mr.', 'Jone', \"'s\", 'Orphanage', 'is', 'as', 'cheery', 'as', 'cheery', 'goes', 'for', 'a', 'pastry', 'shop', '.']\n"
     ]
    }
   ],
   "source": [
    "print(\"word tokenize 수행결과: \", word_tokenize(target_sentence))"
   ]
  },
  {
   "cell_type": "markdown",
   "id": "9c072c20",
   "metadata": {},
   "source": [
    "* word tokenize의 결과는 의미를 가진 단어를 기준으로 토큰화가 진행되었음을 확인할 수 있습니다. \n",
    "* `Don't`의 경우 D0와 N't(Not)로, `jone's`의 경우 jone과 's(is)로 분리되었습니다."
   ]
  },
  {
   "cell_type": "markdown",
   "id": "8c48d972",
   "metadata": {},
   "source": [
    "##### wordPunctTokenizer의 경우 "
   ]
  },
  {
   "cell_type": "code",
   "execution_count": 5,
   "id": "a4b9022a",
   "metadata": {},
   "outputs": [
    {
     "name": "stdout",
     "output_type": "stream",
     "text": [
      "wordPunctTokenizer의 수행결과:  ['Don', \"'\", 't', 'be', 'fooled', 'by', 'the', 'dark', 'sounding', 'name', ',', 'Mr', '.', 'Jone', \"'\", 's', 'Orphanage', 'is', 'as', 'cheery', 'as', 'cheery', 'goes', 'for', 'a', 'pastry', 'shop', '.']\n"
     ]
    }
   ],
   "source": [
    "print(\"wordPunctTokenizer의 수행결과: \", WordPunctTokenizer().tokenize(target_sentence))"
   ]
  },
  {
   "cell_type": "markdown",
   "id": "46a007f0",
   "metadata": {},
   "source": [
    "* WordPunctTokenizer는 구두점을 별도로 분류하는 특징을 갖고 있기때문에, 앞서 확인했던 word_tokenize와는 달리 `Don't`를 Don과 '와 t로 분리하였으며, 이와 마찬가지로 `Jone's`를 Jone과 '와 s로 분리한 것을 확인할 수 있습니다. "
   ]
  },
  {
   "cell_type": "markdown",
   "id": "e20e0b21",
   "metadata": {},
   "source": [
    "##### 케라스의 토큰화 유틸 text_to_word_sequence의 경우 "
   ]
  },
  {
   "cell_type": "code",
   "execution_count": 6,
   "id": "b0a7d690",
   "metadata": {},
   "outputs": [
    {
     "name": "stdout",
     "output_type": "stream",
     "text": [
      "text_to_word_sequence 수행결과 : [\"don't\", 'be', 'fooled', 'by', 'the', 'dark', 'sounding', 'name', 'mr', \"jone's\", 'orphanage', 'is', 'as', 'cheery', 'as', 'cheery', 'goes', 'for', 'a', 'pastry', 'shop']\n"
     ]
    }
   ],
   "source": [
    "print('text_to_word_sequence 수행결과 :',text_to_word_sequence(target_sentence))\n"
   ]
  },
  {
   "cell_type": "markdown",
   "id": "412349d7",
   "metadata": {},
   "source": [
    "케라스의 text_to_word_sequence는 기본적으로 모든 알파벳을 소문자로 바꾸면서 마침표나 컴마, 느낌표 등의 구두점을 제거합니다. 하지만 don't나 jone's와 같은 경우 아포스트로피는 보존하는 것을 볼 수 있습니다."
   ]
  },
  {
   "cell_type": "markdown",
   "id": "8cd49c0c",
   "metadata": {},
   "source": [
    "## 토큰화시 고려사항 "
   ]
  },
  {
   "cell_type": "markdown",
   "id": "8986dcc9",
   "metadata": {},
   "source": [
    "##### 1) 구두점 및 특수문자를 단순히 제외하면 안된다. \n",
    "* 특정 구두점 및 특수문자는 단순한 기호적 의미를 갖는것이 아닌, 사용되는 문서에 따라 여러 의미를 내포할 수 있습니다.   \n",
    "따라서, 텍스트의 특성에 맞는 전처리 방식의 결정이 필요합니다.  \n",
    "\n",
    "##### 2) 줄임말과 단어 내에 띄어쓰기가 있는 경우 \n",
    "토큰화 작업에서 종종 영어권 언어의 아포스트로피(')는 압축된 단어를 다시 펼치는 역할을 하기도 합니다. 예를 들어 what're는 what are의 줄임말이며, we're는 we are의 줄임말입니다. 위의 예에서 re를 접어(clitic)이라고 합니다. 즉, 단어가 줄임말로 쓰일 때 생기는 형태를 말합니다. 가령 I am을 줄인 I'm이 있을 때, m을 접어라고 합니다.  \n",
    "  \n",
    "New York이라는 단어나 rock 'n' roll이라는 단어를 봅시다. 이 단어들은 하나의 단어이지만 중간에 띄어쓰기가 존재합니다. 사용 용도에 따라서, 하나의 단어 사이에 띄어쓰기가 있는 경우에도 하나의 토큰으로 봐야하는 경우도 있을 수 있으므로, 토큰화 작업은 저러한 단어를 하나로 인식할 수 있는 능력도 가져야합니다.\n",
    "##### 3) 표준 토큰화 예제\n",
    "이해를 돕기 위해 표준으로 쓰이고 있는 토큰화 방법 중 하나인 Penn Treebank Tokenization의 규칙에 대해서 소개하고, 토큰화의 결과를 확인해보겠습니다.  \n",
    "  \n",
    "규칙 1. 하이푼으로 구성된 단어는 하나로 유지한다.  \n",
    "규칙 2. doesn't와 같이 아포스트로피로 '접어'가 함께하는 단어는 분리해준다.  \n",
    "  \n",
    "해당 표준에 아래의 문장을 입력으로 넣어봅니다.  \n",
    "\"Starting a home-based restaurant may be an ideal. it doesn't have a food chain or restaurant of their own.\"  "
   ]
  },
  {
   "cell_type": "code",
   "execution_count": 7,
   "id": "6242872a",
   "metadata": {},
   "outputs": [],
   "source": [
    "from nltk.tokenize import TreebankWordTokenizer "
   ]
  },
  {
   "cell_type": "code",
   "execution_count": 8,
   "id": "a0aaf176",
   "metadata": {},
   "outputs": [],
   "source": [
    "target_sentence = \"Starting a home-based restaurant may be an ideal. it doesn't have a food chain or restaurant of their own.\" "
   ]
  },
  {
   "cell_type": "code",
   "execution_count": 9,
   "id": "b8b0170e",
   "metadata": {},
   "outputs": [
    {
     "name": "stdout",
     "output_type": "stream",
     "text": [
      "트리뱅크 워드토크나이저 : ['Starting', 'a', 'home-based', 'restaurant', 'may', 'be', 'an', 'ideal.', 'it', 'does', \"n't\", 'have', 'a', 'food', 'chain', 'or', 'restaurant', 'of', 'their', 'own', '.']\n"
     ]
    }
   ],
   "source": [
    "tokenizer = TreebankWordTokenizer()\n",
    "\n",
    "print('트리뱅크 워드토크나이저 :',tokenizer.tokenize(target_sentence))"
   ]
  },
  {
   "cell_type": "markdown",
   "id": "a26c51cf",
   "metadata": {},
   "source": [
    "## 문장 토큰화(sentence Tokenization) \n",
    "* 토큰의 단위가 문장일 경우, 즉, 말뭉치를 각각의 문장으로 나누는 작업을 문장 토큰화라 칭합니다. \n",
    "* 보통의 생각으로는 물음표나 마침표등을 활용할 수 있겠지만, 일부 경우에서는 잘 작동하지 않습니다. 예를들어, \n",
    "    - 좌표: 128.25 \n",
    "    - IP: 121.000.00.01\n",
    "    - 줄임말: Ph.D, E.D.A, U.S\n",
    "* 사용하는 코퍼스가 어떤 국적의 언어인지, 또는 해당 코퍼스 내에서 특수문자들이 어떻게 사용되고 있는지에 따라서 직접 규칙들을 정의해볼 수 있겠습니다. 100% 정확도를 얻는 일은 쉬운 일이 아닌데, 갖고있는 코퍼스 데이터에 오타나, 문장의 구성이 엉망이라면 정해놓은 규칙이 소용이 없을 수 있기 때문입니다.\n",
    "\n"
   ]
  },
  {
   "cell_type": "markdown",
   "id": "504fe610",
   "metadata": {},
   "source": [
    "##### nltk - Sent tokenize \n",
    "* NLTK에서는 영어 문장의 토큰화를 수행하는 sent_tokenize를 지원하고 있습니다. NLTK를 통해 문장 토큰화를 실습해보겠습니다."
   ]
  },
  {
   "cell_type": "code",
   "execution_count": 10,
   "id": "25df3197",
   "metadata": {},
   "outputs": [],
   "source": [
    "from nltk.tokenize import sent_tokenize"
   ]
  },
  {
   "cell_type": "code",
   "execution_count": 11,
   "id": "d372b3c2",
   "metadata": {},
   "outputs": [
    {
     "name": "stdout",
     "output_type": "stream",
     "text": [
      "문장 토큰화1 : ['His barber kept his word.', 'But keeping such a huge secret to himself was driving him crazy.', 'Finally, the barber went up a mountain and almost to the edge of a cliff.', 'He dug a hole in the midst of some reeds.', 'He looked about, to make sure no one was near.']\n"
     ]
    }
   ],
   "source": [
    "text = \"His barber kept his word. But keeping such a huge secret to himself was driving him crazy. Finally, the barber went up a mountain and almost to the edge of a cliff. He dug a hole in the midst of some reeds. He looked about, to make sure no one was near.\"\n",
    "print('문장 토큰화1 :',sent_tokenize(text))"
   ]
  },
  {
   "cell_type": "markdown",
   "id": "c81d0e1b",
   "metadata": {},
   "source": [
    "위 코드는 text에 저장된 여러 개의 문장들로부터 문장을 구분하는 코드입니다. 출력 결과를 보면 성공적으로 모든 문장을 구분해내었음을 볼 수 있습니다. 그렇다면 이번에는 문장 중간에 마침표가 다수 등장하는 경우에 대해서도 실습해보겠습니다."
   ]
  },
  {
   "cell_type": "code",
   "execution_count": 12,
   "id": "9fb3da4f",
   "metadata": {},
   "outputs": [
    {
     "name": "stdout",
     "output_type": "stream",
     "text": [
      "문장 토큰화2 : ['I am actively looking for Ph.D. students.', 'and you are a Ph.D student.']\n"
     ]
    }
   ],
   "source": [
    "text = \"I am actively looking for Ph.D. students. and you are a Ph.D student.\"\n",
    "print('문장 토큰화2 :',sent_tokenize(text))"
   ]
  },
  {
   "cell_type": "markdown",
   "id": "4da51b4f",
   "metadata": {},
   "source": [
    "NLTK는 단순히 마침표를 구분자로 하여 문장을 구분하지 않았기 때문에, Ph.D.를 문장 내의 단어로 인식하여 성공적으로 인식하는 것을 볼 수 있습니다. "
   ]
  },
  {
   "cell_type": "markdown",
   "id": "fc685b5d",
   "metadata": {},
   "source": [
    "##### 한국어 문장 단위 토큰화 - KSS \n",
    "한국어에 대한 문장 토큰화 도구 또한 존재합니다. 한국어의 경우에는 박상길님이 개발한 KSS(Korean Sentence Splitter)를 추천합니다."
   ]
  },
  {
   "cell_type": "code",
   "execution_count": 14,
   "id": "42e8b4e2",
   "metadata": {},
   "outputs": [],
   "source": [
    "# pip install kss "
   ]
  },
  {
   "cell_type": "code",
   "execution_count": 15,
   "id": "c8e41e75",
   "metadata": {},
   "outputs": [
    {
     "name": "stderr",
     "output_type": "stream",
     "text": [
      "[Korean Sentence Splitter]: Initializing Pynori...\n"
     ]
    },
    {
     "name": "stdout",
     "output_type": "stream",
     "text": [
      "한국어 문장 토큰화 : ['딥 러닝 자연어 처리가 재미있기는 합니다.', '그런데 문제는 영어보다 한국어로 할 때 너무 어렵습니다.', '이제 해보면 알걸요?']\n"
     ]
    }
   ],
   "source": [
    "import kss\n",
    "\n",
    "text = '딥 러닝 자연어 처리가 재미있기는 합니다. 그런데 문제는 영어보다 한국어로 할 때 너무 어렵습니다. 이제 해보면 알걸요?'\n",
    "print('한국어 문장 토큰화 :',kss.split_sentences(text))"
   ]
  },
  {
   "cell_type": "markdown",
   "id": "fa1dd741",
   "metadata": {},
   "source": [
    "## 한국어 전처리 및 토큰화의 어려움"
   ]
  },
  {
   "cell_type": "markdown",
   "id": "d6dcee2a",
   "metadata": {},
   "source": [
    "영어는 New York과 같은 합성어나 he's 와 같이 줄임말에 대한 예외처리만 한다면, 띄어쓰기(whitespace)를 기준으로 하는 띄어쓰기 토큰화를 수행해도 단어 토큰화가 잘 작동합니다. 거의 대부분의 경우에서 단어 단위로 띄어쓰기가 이루어지기 때문에 띄어쓰기 토큰화와 단어 토큰화가 거의 같기 때문입니다.  \n",
    "  \n",
    "하지만 한국어는 영어와는 달리 띄어쓰기만으로는 토큰화를 하기에 부족합니다. 한국어의 경우에는 띄어쓰기 단위가 되는 단위를 '어절'이라고 하는데 어절 토큰화는 한국어 NLP에서 지양되고 있습니다. 어절 토큰화와 단어 토큰화는 같지 않기 때문입니다. 그 근본적인 이유는 한국어가 영어와는 다른 형태를 가지는 언어인 교착어라는 점에서 기인합니다. 교착어란 조사, 어미 등을 붙여서 말을 만드는 언어를 말합니다.  \n",
    "\n",
    "1) 교착어의 특성  \n",
    "예를 들어봅시다. 영어와는 달리 한국어에는 조사라는 것이 존재합니다. 예를 들어 한국어에 그(he/him)라는 주어나 목적어가 들어간 문장이 있다고 합시다. 이 경우, 그라는 단어 하나에도 '그가', '그에게', '그를', '그와', '그는'과 같이 다양한 조사가 '그'라는 글자 뒤에 띄어쓰기 없이 바로 붙게됩니다. 자연어 처리를 하다보면 같은 단어임에도 서로 다른 조사가 붙어서 다른 단어로 인식이 되면 자연어 처리가 힘들고 번거로워지는 경우가 많습니다. 대부분의 한국어 NLP에서 조사는 분리해줄 필요가 있습니다.  \n",
    "  \n",
    "띄어쓰기 단위가 영어처럼 독립적인 단어라면 띄어쓰기 단위로 토큰화를 하면 되겠지만 한국어는 어절이 독립적인 단어로 구성되는 것이 아니라 조사 등의 무언가가 붙어있는 경우가 많아서 이를 전부 분리해줘야 한다는 의미입니다.  \n",
    "  \n",
    "한국어 토큰화에서는 형태소(morpheme) 란 개념을 반드시 이해해야 합니다. 형태소(morpheme)란 뜻을 가진 가장 작은 말의 단위를 말합니다. 이 형태소에는 두 가지 형태소가 있는데 자립 형태소와 의존 형태소입니다.  \n",
    "  \n",
    "자립 형태소 : 접사, 어미, 조사와 상관없이 자립하여 사용할 수 있는 형태소. 그 자체로 단어가 된다. 체언(명사, 대명사, 수사), 수식언(관형사, 부사), 감탄사 등이 있다.  \n",
    "의존 형태소 : 다른 형태소와 결합하여 사용되는 형태소. 접사, 어미, 조사, 어간를 말한다.  \n",
    "예를 들어 다음과 같은 문장이 있다고 합시다.  \n",
    "  \n",
    "문장 : 에디가 책을 읽었다  \n",
    "이 문장을 띄어쓰기 단위 토큰화를 수행한다면 다음과 같은 결과를 얻습니다.  \n",
    "  \n",
    "['에디가', '책을', '읽었다']  \n",
    "하지만 이를 형태소 단위로 분해하면 다음과 같습니다.  \n",
    "  \n",
    "자립 형태소 : 에디, 책  \n",
    "의존 형태소 : -가, -을, 읽-, -었, -다  \n",
    "  \n",
    "'에디'라는 사람 이름과 '책'이라는 명사를 얻어낼 수 있습니다. 이를 통해 유추할 수 있는 것은 한국어에서 영어에서의 단어 토큰화와 유사한 형태를 얻으려면 어절 토큰화가 아니라 형태소 토큰화를 수행해야한다는 겁니다.  \n",
    "  \n",
    "2) 한국어는 띄어쓰기가 영어보다 잘 지켜지지 않는다.  \n",
    "사용하는 한국어 코퍼스가 뉴스 기사와 같이 띄어쓰기를 철저하게 지키려고 노력하는 글이라면 좋겠지만, 많은 경우에 띄어쓰기가 틀렸거나 지켜지지 않는 코퍼스가 많습니다.  \n",
    "  \n",
    "한국어는 영어권 언어와 비교하여 띄어쓰기가 어렵고 잘 지켜지지 않는 경향이 있습니다. 그 이유는 여러 견해가 있으나, 가장 기본적인 견해는 한국어의 경우 띄어쓰기가 지켜지지 않아도 글을 쉽게 이해할 수 있는 언어라는 점입니다. 띄어쓰기가 없던 한국어에 띄어쓰기가 보편화된 것도 근대(1933년, 한글맞춤법통일안)의 일입니다. 띄어쓰기를 전혀 하지 않은 한국어와 영어 두 가지 경우를 봅시다.  \n",
    "    \n",
    "EX1) 제가이렇게띄어쓰기를전혀하지않고글을썼다고하더라도글을이해할수있습니다.  \n",
    "  \n",
    "EX2) Tobeornottobethatisthequestion  \n",
    "  \n",
    "영어의 경우에는 띄어쓰기를 하지 않으면 손쉽게 알아보기 어려운 문장들이 생깁니다. 이는 한국어(모아쓰기 방식)와 영어(풀어쓰기 방식)라는 언어적 특성의 차이에 기인합니다. 이 책에서는 모아쓰기와 풀어쓰기에 대한 설명은 하지 않겠습니다. 다만, 결론적으로 한국어는 수많은 코퍼스에서 띄어쓰기가 무시되는 경우가 많아 자연어 처리가 어려워졌다는 것입니다.  "
   ]
  },
  {
   "cell_type": "markdown",
   "id": "785b8610",
   "metadata": {},
   "source": [
    "## 품사 테킹(Part-of-speech Tagging) \n",
    "단어는 표기는 같지만 품사에 따라서 단어의 의미가 달라지기도 합니다. 예를 들어서 영어 단어 'fly'는 동사로는 '날다'라는 의미를 갖지만, 명사로는 '파리'라는 의미를 갖고있습니다. 한국어도 마찬가지입니다. '못'이라는 단어는 명사로서는 망치를 사용해서 목재 따위를 고정하는 물건을 의미합니다. 하지만 부사로서의 '못'은 '먹는다', '달린다'와 같은 동작 동사를 할 수 없다는 의미로 쓰입니다. 결국 단어의 의미를 제대로 파악하기 위해서는 해당 단어가 어떤 품사로 쓰였는지 보는 것이 주요 지표가 될 수도 있습니다. 그에 따라 단어 토큰화 과정에서 각 단어가 어떤 품사로 쓰였는지를 구분해놓기도 하는데, 이 작업을 품사 태깅(part-of-speech tagging)이라고 합니다. NLTK와 KoNLPy를 통해 품사 태깅 실습을 진행합니다.\n",
    "\n"
   ]
  },
  {
   "cell_type": "markdown",
   "id": "b89af0dc",
   "metadata": {},
   "source": [
    "## NLTK와 KoNLPy를 이용한 영어, 한국어 토큰화 실습"
   ]
  },
  {
   "cell_type": "markdown",
   "id": "4e0393fe",
   "metadata": {},
   "source": [
    "### 영어의 경우 "
   ]
  },
  {
   "cell_type": "code",
   "execution_count": 16,
   "id": "86c1f55a",
   "metadata": {},
   "outputs": [
    {
     "name": "stdout",
     "output_type": "stream",
     "text": [
      "단어 토큰화 : ['I', 'am', 'actively', 'looking', 'for', 'Ph.D.', 'students', '.', 'and', 'you', 'are', 'a', 'Ph.D.', 'student', '.']\n",
      "품사 태깅 : [('I', 'PRP'), ('am', 'VBP'), ('actively', 'RB'), ('looking', 'VBG'), ('for', 'IN'), ('Ph.D.', 'NNP'), ('students', 'NNS'), ('.', '.'), ('and', 'CC'), ('you', 'PRP'), ('are', 'VBP'), ('a', 'DT'), ('Ph.D.', 'NNP'), ('student', 'NN'), ('.', '.')]\n"
     ]
    }
   ],
   "source": [
    "from nltk.tokenize import word_tokenize\n",
    "from nltk.tag import pos_tag\n",
    "\n",
    "text = \"I am actively looking for Ph.D. students. and you are a Ph.D. student.\"\n",
    "tokenized_sentence = word_tokenize(text)\n",
    "\n",
    "print('단어 토큰화 :',tokenized_sentence)\n",
    "print('품사 태깅 :',pos_tag(tokenized_sentence))"
   ]
  },
  {
   "cell_type": "markdown",
   "id": "ff7cded1",
   "metadata": {},
   "source": [
    "### 한국어의 경우 "
   ]
  },
  {
   "cell_type": "code",
   "execution_count": 17,
   "id": "e21eac09",
   "metadata": {},
   "outputs": [
    {
     "name": "stdout",
     "output_type": "stream",
     "text": [
      "OKT 형태소 분석 : ['열심히', '코딩', '한', '당신', ',', '연휴', '에는', '여행', '을', '가봐요']\n",
      "OKT 품사 태깅 : [('열심히', 'Adverb'), ('코딩', 'Noun'), ('한', 'Josa'), ('당신', 'Noun'), (',', 'Punctuation'), ('연휴', 'Noun'), ('에는', 'Josa'), ('여행', 'Noun'), ('을', 'Josa'), ('가봐요', 'Verb')]\n",
      "OKT 명사 추출 : ['코딩', '당신', '연휴', '여행']\n"
     ]
    }
   ],
   "source": [
    "from konlpy.tag import Okt\n",
    "from konlpy.tag import Kkma\n",
    "\n",
    "okt = Okt()\n",
    "kkma = Kkma()\n",
    "\n",
    "print('OKT 형태소 분석 :',okt.morphs(\"열심히 코딩한 당신, 연휴에는 여행을 가봐요\"))\n",
    "print('OKT 품사 태깅 :',okt.pos(\"열심히 코딩한 당신, 연휴에는 여행을 가봐요\"))\n",
    "print('OKT 명사 추출 :',okt.nouns(\"열심히 코딩한 당신, 연휴에는 여행을 가봐요\")) "
   ]
  },
  {
   "cell_type": "markdown",
   "id": "0e82c9cc",
   "metadata": {},
   "source": [
    "위의 예제는 Okt 형태소 분석기로 토큰화를 시도해본 예제입니다. 각각의 메소드는 아래와 같은 기능을 갖고 있습니다.  \n",
    "  \n",
    "1) morphs : 형태소 추출  \n",
    "2) pos : 품사 태깅(Part-of-speech tagging)  \n",
    "3) nouns : 명사 추출    \n",
    "    \n",
    "앞서 언급한 코엔엘파이의 형태소 분석기들은 공통적으로 이 메소드들을 제공하고 있습니다. 위 예제에서 형태소 추출과 품사 태깅 메소드의 결과를 보면 조사를 기본적으로 분리하고 있음을 확인할 수 있습니다. 한국어 NLP에서 전처리에 형태소 분석기를 사용하는 것은 굉장히 유용합니다. 이번에는 꼬꼬마 형태소 분석기를 사용하여 같은 문장에 대해서 토큰화를 진행해봅시다.  "
   ]
  },
  {
   "cell_type": "code",
   "execution_count": 18,
   "id": "cf94ec73",
   "metadata": {},
   "outputs": [
    {
     "name": "stdout",
     "output_type": "stream",
     "text": [
      "꼬꼬마 형태소 분석 : ['열심히', '코딩', '하', 'ㄴ', '당신', ',', '연휴', '에', '는', '여행', '을', '가보', '아요']\n",
      "꼬꼬마 품사 태깅 : [('열심히', 'MAG'), ('코딩', 'NNG'), ('하', 'XSV'), ('ㄴ', 'ETD'), ('당신', 'NP'), (',', 'SP'), ('연휴', 'NNG'), ('에', 'JKM'), ('는', 'JX'), ('여행', 'NNG'), ('을', 'JKO'), ('가보', 'VV'), ('아요', 'EFN')]\n",
      "꼬꼬마 명사 추출 : ['코딩', '당신', '연휴', '여행']\n"
     ]
    }
   ],
   "source": [
    "print('꼬꼬마 형태소 분석 :',kkma.morphs(\"열심히 코딩한 당신, 연휴에는 여행을 가봐요\"))\n",
    "print('꼬꼬마 품사 태깅 :',kkma.pos(\"열심히 코딩한 당신, 연휴에는 여행을 가봐요\"))\n",
    "print('꼬꼬마 명사 추출 :',kkma.nouns(\"열심히 코딩한 당신, 연휴에는 여행을 가봐요\")) "
   ]
  },
  {
   "cell_type": "markdown",
   "id": "4b09e687",
   "metadata": {},
   "source": [
    "앞서 사용한 Okt 형태소 분석기와 결과가 다른 것을 볼 수 있습니다. 각 형태소 분석기는 성능과 결과가 다르게 나오기 때문에, 형태소 분석기의 선택은 사용하고자 하는 필요 용도에 어떤 형태소 분석기가 가장 적절한지를 판단하고 사용하면 됩니다. 예를 들어서 속도를 중시한다면 메캅을 사용할 수 있습니다.\n",
    "\n"
   ]
  },
  {
   "cell_type": "markdown",
   "id": "8b3d7dc0",
   "metadata": {},
   "source": [
    "# 정제(Cleaning) and 정규화(Normalization) "
   ]
  },
  {
   "cell_type": "markdown",
   "id": "f14b5b9f",
   "metadata": {},
   "source": [
    "# 어간추출(Stemming) and 표제어 추출(Lemmatization) "
   ]
  },
  {
   "cell_type": "markdown",
   "id": "00656737",
   "metadata": {},
   "source": [
    "# 불용어(Stopwords)처리 "
   ]
  },
  {
   "cell_type": "markdown",
   "id": "c41472d3",
   "metadata": {},
   "source": [
    "# 정규표현식(Regular Expression) "
   ]
  },
  {
   "cell_type": "markdown",
   "id": "1a5e4cca",
   "metadata": {},
   "source": [
    "# 정수 인코딩(Integer Encoding) "
   ]
  },
  {
   "cell_type": "markdown",
   "id": "9d72e004",
   "metadata": {},
   "source": [
    "# 패딩(Padding) "
   ]
  },
  {
   "cell_type": "markdown",
   "id": "2da1a556",
   "metadata": {},
   "source": [
    "# 원-핫 인코딩(One-Hot Encoding) "
   ]
  },
  {
   "cell_type": "markdown",
   "id": "0e0a3bb0",
   "metadata": {},
   "source": [
    "# 데이터의 분리 "
   ]
  },
  {
   "cell_type": "markdown",
   "id": "1197f09a",
   "metadata": {},
   "source": [
    "# 한국어 전처리 패키지"
   ]
  },
  {
   "cell_type": "code",
   "execution_count": null,
   "id": "28dc3aa8",
   "metadata": {},
   "outputs": [],
   "source": []
  }
 ],
 "metadata": {
  "kernelspec": {
   "display_name": "Python 3 (ipykernel)",
   "language": "python",
   "name": "python3"
  },
  "language_info": {
   "codemirror_mode": {
    "name": "ipython",
    "version": 3
   },
   "file_extension": ".py",
   "mimetype": "text/x-python",
   "name": "python",
   "nbconvert_exporter": "python",
   "pygments_lexer": "ipython3",
   "version": "3.8.8"
  },
  "toc": {
   "base_numbering": 1,
   "nav_menu": {},
   "number_sections": true,
   "sideBar": true,
   "skip_h1_title": false,
   "title_cell": "Table of Contents",
   "title_sidebar": "Contents",
   "toc_cell": false,
   "toc_position": {},
   "toc_section_display": true,
   "toc_window_display": true
  }
 },
 "nbformat": 4,
 "nbformat_minor": 5
}
