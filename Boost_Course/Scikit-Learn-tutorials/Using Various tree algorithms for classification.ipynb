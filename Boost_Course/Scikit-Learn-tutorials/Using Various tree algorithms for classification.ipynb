{
 "cells": [
  {
   "cell_type": "markdown",
   "id": "72e99026",
   "metadata": {},
   "source": [
    "# Use Various tree algorithms for classification\n",
    "\n",
    "* Random Forest \n",
    "* Gradient Boosting\n",
    "* RamdomSearchCV 로 여러 알고리즘의 최적의 하이퍼 파라미터를 찾기(1)\n",
    "* RamdomSearchCV 로 여러 알고리즘의 최적의 하이퍼 파라미터를 찾기(2)"
   ]
  },
  {
   "cell_type": "markdown",
   "id": "c6b0b566",
   "metadata": {},
   "source": [
    "# 분석 환경 구성 "
   ]
  },
  {
   "cell_type": "markdown",
   "id": "b9e62951",
   "metadata": {},
   "source": [
    "## 필요 라이브러리 로드 "
   ]
  },
  {
   "cell_type": "code",
   "execution_count": 1,
   "id": "6c7907cc",
   "metadata": {},
   "outputs": [],
   "source": [
    "# 데이터 분석을 위한 pandas, 수치계산을 위한 numpy\n",
    "# 시각화를 위한 seaborn, matplotlib.pyplot 을 로드합니다. \n",
    "\n",
    "import pandas as pd\n",
    "import numpy as np\n",
    "import seaborn as sns\n",
    "import matplotlib.pyplot as plt\n",
    "\n",
    "%matplotlib inline"
   ]
  },
  {
   "cell_type": "markdown",
   "id": "0851135f",
   "metadata": {},
   "source": [
    "## 데이터셋 로드 "
   ]
  },
  {
   "cell_type": "markdown",
   "id": "b512f1dc",
   "metadata": {},
   "source": [
    "##### 데이터셋 출처\n",
    "* Pima Indians Diabetes Database | Kaggle\n",
    "* https://scikit-learn.org/stable/modules/generated/sklearn.datasets.load_diabetes.html  \n",
    "\n",
    "##### 데이터 구성\n",
    "* Pregnancies : 임신 횟수\n",
    "* Glucose : 2시간 동안의 경구 포도당 내성 검사에서 혈장 포도당 농도\n",
    "* BloodPressure : 이완기 혈압 (mm Hg)\n",
    "* SkinThickness : 삼두근 피부 주름 두께 (mm), 체지방을 추정하는데 사용되는 값\n",
    "* Insulin : 2시간 혈청 인슐린 (mu U / ml)\n",
    "* BMI : 체질량 지수 (체중kg / 키(m)^2)\n",
    "* DiabetesPedigreeFunction : 당뇨병 혈통 기능\n",
    "* Age : 나이\n",
    "* Outcome : 768개 중에 268개의 결과 클래스 변수(0 또는 1)는 1이고 나머지는 0입니다."
   ]
  },
  {
   "cell_type": "code",
   "execution_count": 2,
   "id": "615b94f5",
   "metadata": {},
   "outputs": [],
   "source": [
    "df = pd.read_csv(\"./datasets/diabetes_feature.csv\") # 앞선 강의에서 전처리를 완료한 데이터를 불러옵니다. "
   ]
  },
  {
   "cell_type": "code",
   "execution_count": 3,
   "id": "908e4483",
   "metadata": {},
   "outputs": [
    {
     "name": "stdout",
     "output_type": "stream",
     "text": [
      "(768, 13)\n"
     ]
    },
    {
     "data": {
      "text/html": [
       "<div>\n",
       "<style scoped>\n",
       "    .dataframe tbody tr th:only-of-type {\n",
       "        vertical-align: middle;\n",
       "    }\n",
       "\n",
       "    .dataframe tbody tr th {\n",
       "        vertical-align: top;\n",
       "    }\n",
       "\n",
       "    .dataframe thead th {\n",
       "        text-align: right;\n",
       "    }\n",
       "</style>\n",
       "<table border=\"1\" class=\"dataframe\">\n",
       "  <thead>\n",
       "    <tr style=\"text-align: right;\">\n",
       "      <th></th>\n",
       "      <th>Pregnancies</th>\n",
       "      <th>Glucose</th>\n",
       "      <th>BloodPressure</th>\n",
       "      <th>SkinThickness</th>\n",
       "      <th>Insulin</th>\n",
       "      <th>BMI</th>\n",
       "      <th>DiabetesPedigreeFunction</th>\n",
       "      <th>Age</th>\n",
       "      <th>Outcome</th>\n",
       "      <th>Pregnancies_high</th>\n",
       "      <th>Insulin_nan</th>\n",
       "      <th>Insulin_log</th>\n",
       "      <th>low_glu_insulin</th>\n",
       "    </tr>\n",
       "  </thead>\n",
       "  <tbody>\n",
       "    <tr>\n",
       "      <th>0</th>\n",
       "      <td>6</td>\n",
       "      <td>148</td>\n",
       "      <td>72</td>\n",
       "      <td>35</td>\n",
       "      <td>0</td>\n",
       "      <td>33.6</td>\n",
       "      <td>0.627</td>\n",
       "      <td>50</td>\n",
       "      <td>1</td>\n",
       "      <td>False</td>\n",
       "      <td>169.5</td>\n",
       "      <td>5.138735</td>\n",
       "      <td>False</td>\n",
       "    </tr>\n",
       "    <tr>\n",
       "      <th>1</th>\n",
       "      <td>1</td>\n",
       "      <td>85</td>\n",
       "      <td>66</td>\n",
       "      <td>29</td>\n",
       "      <td>0</td>\n",
       "      <td>26.6</td>\n",
       "      <td>0.351</td>\n",
       "      <td>31</td>\n",
       "      <td>0</td>\n",
       "      <td>False</td>\n",
       "      <td>102.5</td>\n",
       "      <td>4.639572</td>\n",
       "      <td>True</td>\n",
       "    </tr>\n",
       "    <tr>\n",
       "      <th>2</th>\n",
       "      <td>8</td>\n",
       "      <td>183</td>\n",
       "      <td>64</td>\n",
       "      <td>0</td>\n",
       "      <td>0</td>\n",
       "      <td>23.3</td>\n",
       "      <td>0.672</td>\n",
       "      <td>32</td>\n",
       "      <td>1</td>\n",
       "      <td>True</td>\n",
       "      <td>169.5</td>\n",
       "      <td>5.138735</td>\n",
       "      <td>False</td>\n",
       "    </tr>\n",
       "    <tr>\n",
       "      <th>3</th>\n",
       "      <td>1</td>\n",
       "      <td>89</td>\n",
       "      <td>66</td>\n",
       "      <td>23</td>\n",
       "      <td>94</td>\n",
       "      <td>28.1</td>\n",
       "      <td>0.167</td>\n",
       "      <td>21</td>\n",
       "      <td>0</td>\n",
       "      <td>False</td>\n",
       "      <td>94.0</td>\n",
       "      <td>4.553877</td>\n",
       "      <td>True</td>\n",
       "    </tr>\n",
       "    <tr>\n",
       "      <th>4</th>\n",
       "      <td>0</td>\n",
       "      <td>137</td>\n",
       "      <td>40</td>\n",
       "      <td>35</td>\n",
       "      <td>168</td>\n",
       "      <td>43.1</td>\n",
       "      <td>2.288</td>\n",
       "      <td>33</td>\n",
       "      <td>1</td>\n",
       "      <td>False</td>\n",
       "      <td>168.0</td>\n",
       "      <td>5.129899</td>\n",
       "      <td>False</td>\n",
       "    </tr>\n",
       "  </tbody>\n",
       "</table>\n",
       "</div>"
      ],
      "text/plain": [
       "   Pregnancies  Glucose  BloodPressure  SkinThickness  Insulin   BMI  \\\n",
       "0            6      148             72             35        0  33.6   \n",
       "1            1       85             66             29        0  26.6   \n",
       "2            8      183             64              0        0  23.3   \n",
       "3            1       89             66             23       94  28.1   \n",
       "4            0      137             40             35      168  43.1   \n",
       "\n",
       "   DiabetesPedigreeFunction  Age  Outcome  Pregnancies_high  Insulin_nan  \\\n",
       "0                     0.627   50        1             False        169.5   \n",
       "1                     0.351   31        0             False        102.5   \n",
       "2                     0.672   32        1              True        169.5   \n",
       "3                     0.167   21        0             False         94.0   \n",
       "4                     2.288   33        1             False        168.0   \n",
       "\n",
       "   Insulin_log  low_glu_insulin  \n",
       "0     5.138735            False  \n",
       "1     4.639572             True  \n",
       "2     5.138735            False  \n",
       "3     4.553877             True  \n",
       "4     5.129899            False  "
      ]
     },
     "execution_count": 3,
     "metadata": {},
     "output_type": "execute_result"
    }
   ],
   "source": [
    "# 데이터셋을 미리보기 합니다.\n",
    "print(df.shape)\n",
    "df.head()"
   ]
  },
  {
   "cell_type": "markdown",
   "id": "c991d77c",
   "metadata": {},
   "source": [
    "## 학습과 예측에 사용할 데이터셋 만들기 "
   ]
  },
  {
   "cell_type": "code",
   "execution_count": 4,
   "id": "c738b12c",
   "metadata": {},
   "outputs": [
    {
     "data": {
      "text/plain": [
       "Index(['Pregnancies', 'Glucose', 'BloodPressure', 'SkinThickness', 'Insulin',\n",
       "       'BMI', 'DiabetesPedigreeFunction', 'Age', 'Outcome', 'Pregnancies_high',\n",
       "       'Insulin_nan', 'Insulin_log', 'low_glu_insulin'],\n",
       "      dtype='object')"
      ]
     },
     "execution_count": 4,
     "metadata": {},
     "output_type": "execute_result"
    }
   ],
   "source": [
    "df.columns"
   ]
  },
  {
   "cell_type": "code",
   "execution_count": 5,
   "id": "18eda8ef",
   "metadata": {},
   "outputs": [
    {
     "data": {
      "text/plain": [
       "(768, 9)"
      ]
     },
     "execution_count": 5,
     "metadata": {},
     "output_type": "execute_result"
    }
   ],
   "source": [
    "# 설명변수로 사용할 값들만 분리합니다. \n",
    "X = df[['Glucose', 'BloodPressure', 'SkinThickness',\n",
    "       'BMI', 'DiabetesPedigreeFunction', 'Age', 'Pregnancies_high',\n",
    "       'Insulin_nan', 'low_glu_insulin']]\n",
    "X.shape"
   ]
  },
  {
   "cell_type": "code",
   "execution_count": 6,
   "id": "e001101c",
   "metadata": {},
   "outputs": [
    {
     "data": {
      "text/plain": [
       "(768,)"
      ]
     },
     "execution_count": 6,
     "metadata": {},
     "output_type": "execute_result"
    }
   ],
   "source": [
    "# 예측목표인 label 값을 설정합니다.  \n",
    "\n",
    "y = df['Outcome']\n",
    "y.shape"
   ]
  },
  {
   "cell_type": "code",
   "execution_count": 7,
   "id": "94d231b1",
   "metadata": {},
   "outputs": [],
   "source": [
    "# 사이킷런에서 제공하는 model_selection 의 train_test_split 으로 만듭니다.\n",
    "\n",
    "from sklearn.model_selection import train_test_split\n",
    "\n",
    "X_train, X_test, y_train, y_test = train_test_split(\n",
    "    X, y, test_size=0.2, random_state=42) # 80:20 비율로 분할해줍니다. "
   ]
  },
  {
   "cell_type": "code",
   "execution_count": 8,
   "id": "a7ee1048",
   "metadata": {},
   "outputs": [
    {
     "data": {
      "text/plain": [
       "((614, 9), (614,))"
      ]
     },
     "execution_count": 8,
     "metadata": {},
     "output_type": "execute_result"
    }
   ],
   "source": [
    "# train 세트의 문제와 정답의 데이터 수를 확인합니다.\n",
    "\n",
    "X_train.shape, y_train.shape"
   ]
  },
  {
   "cell_type": "code",
   "execution_count": 9,
   "id": "a1bf64a6",
   "metadata": {},
   "outputs": [
    {
     "data": {
      "text/plain": [
       "((154, 9), (154,))"
      ]
     },
     "execution_count": 9,
     "metadata": {},
     "output_type": "execute_result"
    }
   ],
   "source": [
    "# test 세트의 문제와 정답의 데이터 수를 확인합니다.\n",
    "X_test.shape, y_test.shape"
   ]
  },
  {
   "cell_type": "markdown",
   "id": "9aae969c",
   "metadata": {},
   "source": [
    "# 다양한 머신러닝 기법 활용하기 \n",
    "* [결정 트리 - 위키백과, 우리 모두의 백과사전](https://ko.wikipedia.org/wiki/%EA%B2%B0%EC%A0%95_%ED%8A%B8%EB%A6%AC)\n",
    "* [결정 트리 학습법 - 위키백과, 우리 모두의 백과사전](https://ko.wikipedia.org/wiki/%EA%B2%B0%EC%A0%95_%ED%8A%B8%EB%A6%AC_%ED%95%99%EC%8A%B5%EB%B2%95)\n",
    "* [랜덤 포레스트 - 위키백과, 우리 모두의 백과사전](https://ko.wikipedia.org/wiki/%EB%9E%9C%EB%8D%A4_%ED%8F%AC%EB%A0%88%EC%8A%A4%ED%8A%B8)\n",
    "* [배깅 - 위키백과, 우리 모두의 백과사전](https://ko.wikipedia.org/wiki/%EB%B0%B0%EA%B9%85)\n",
    "\n",
    "* [배깅과 부스팅의 차이](https://bkshin.tistory.com/entry/%EB%A8%B8%EC%8B%A0%EB%9F%AC%EB%8B%9D-11-%EC%95%99%EC%83%81%EB%B8%94-%ED%95%99%EC%8A%B5-Ensemble-Learning-%EB%B0%B0%EA%B9%85Bagging%EA%B3%BC-%EB%B6%80%EC%8A%A4%ED%8C%85Boosting)"
   ]
  },
  {
   "cell_type": "markdown",
   "id": "dfffe538",
   "metadata": {},
   "source": [
    "앙상블은 조화 또는 통일을 의미합니다.  \n",
    "앙상블 학습법에는 두 가지가 있습니다. 배깅(Bagging)과 부스팅(Boosting)입니다.   "
   ]
  },
  {
   "cell_type": "markdown",
   "id": "c0803ae1",
   "metadata": {},
   "source": [
    "##### 배깅(Bootstraping Aggregation)   \n",
    "배깅은 샘플을 여러 번 뽑아(Bootstrap) 각 모델을 학습시켜 결과물을 집계(Aggregration)하는 방법입니다.  \n",
    "![image-1.png](https://img1.daumcdn.net/thumb/R1280x0/?scode=mtistory2&fname=https%3A%2F%2Fblog.kakaocdn.net%2Fdn%2Fb4wG8O%2FbtqyfYW98AS%2FYZBtUJy3jZLyuik1R0aGNk%2Fimg.png)  \n",
    "우선, 데이터로부터 부트스트랩을 합니다. (복원 랜덤 샘플링) 부트스트랩한 데이터로 모델을 학습시킵니다. 그리고 학습된 모델의 결과를 집계하여 최종 결과 값을 구합니다.  \n",
    "* 최종 결과 값 도출 방식  \n",
    "    - Categorical Data : 투표 방식(Votinig)으로 결과를 집계  \n",
    "    - Continuous Data : 평균으로 집계     \n",
    "    \n",
    "Categorical Data일 때, 투표 방식으로 한다는 것은 전체 모델에서 예측한 값 중 가장 많은 값을 최종 예측값으로 선정한다는 것입니다. 6개의 결정 트리 모델이 있다고 합시다. 4개는 A로 예측했고, 2개는 B로 예측했다면 투표에 의해 4개의 모델이 선택한 A를 최종 결과로 예측한다는 것입니다.   \n",
    "평균으로 집계한다는 것은 말 그대로 각각의 결정 트리 모델이 예측한 값에 평균을 취해 최종 Bagging Model의 예측값을 결정한다는 것입니다.  \n",
    "\n",
    "배깅은 간단하면서도 파워풀한 방법입니다. 배깅 기법을 활용한 모델이 바로 랜덤 포레스트입니다.  "
   ]
  },
  {
   "cell_type": "markdown",
   "id": "0e1fc11c",
   "metadata": {},
   "source": [
    "##### 부스팅(Boosting)\n",
    "부스팅은 가중치를 활용하여 약 분류기를 강 분류기로 만드는 방법입니다. 배깅은 Deicison Tree1과 Decision Tree2가 서로 독립적으로 결과를 예측합니다. 여러 개의 독립적인 결정 트리가 각각 값을 예측한 뒤, 그 결과 값을 집계해 최종 결과 값을 예측하는 방식입니다.  \n",
    "  \n",
    "하지만 부스팅은 모델 간 팀워크가 이루어집니다. 처음 모델이 예측을 하면 그 예측 결과에 따라 데이터에 가중치가 부여되고, 부여된 가중치가 다음 모델에 영향을 줍니다. 잘못 분류된 데이터에 집중하여 새로운 분류 규칙을 만드는 단계를 반복합니다. 아래 그림을 통해 설명해보겠습니다.  \n",
    "![image-2.png](https://img1.daumcdn.net/thumb/R1280x0/?scode=mtistory2&fname=https%3A%2F%2Fblog.kakaocdn.net%2Fdn%2FkCejr%2FbtqyghvqEZB%2F9o3rKTEsuSIDHEfelYFJlk%2Fimg.png)  \n",
    "즉,첫번째 트리의 결과가 연이은 트리들의 학습에 영향을 미치는 방식으로 작동합니다. "
   ]
  },
  {
   "cell_type": "markdown",
   "id": "cc389422",
   "metadata": {},
   "source": [
    "## 일반적인 Descision Tree "
   ]
  },
  {
   "cell_type": "code",
   "execution_count": 10,
   "id": "fa20ec57",
   "metadata": {},
   "outputs": [
    {
     "data": {
      "text/plain": [
       "DecisionTreeClassifier(random_state=42)"
      ]
     },
     "execution_count": 10,
     "metadata": {},
     "output_type": "execute_result"
    }
   ],
   "source": [
    "from sklearn.tree import DecisionTreeClassifier\n",
    "\n",
    "model = DecisionTreeClassifier(random_state = 42)\n",
    "model "
   ]
  },
  {
   "cell_type": "code",
   "execution_count": 11,
   "id": "17535334",
   "metadata": {},
   "outputs": [
    {
     "data": {
      "text/plain": [
       "DecisionTreeClassifier(random_state=42)"
      ]
     },
     "execution_count": 11,
     "metadata": {},
     "output_type": "execute_result"
    }
   ],
   "source": [
    "# 학습 \n",
    "model.fit(X_train,y_train)"
   ]
  },
  {
   "cell_type": "code",
   "execution_count": 12,
   "id": "6d50bfeb",
   "metadata": {},
   "outputs": [],
   "source": [
    "# 예측 \n",
    "pred_y = model.predict(X_test)"
   ]
  },
  {
   "cell_type": "code",
   "execution_count": 13,
   "id": "a4a671fc",
   "metadata": {},
   "outputs": [
    {
     "data": {
      "text/plain": [
       "28"
      ]
     },
     "execution_count": 13,
     "metadata": {},
     "output_type": "execute_result"
    }
   ],
   "source": [
    "# 다르게 예측한 갯수를 구해서 diff_count 에 할당해 줍니다.\n",
    "# DT : 28\n",
    "# RF : 20\n",
    "# GB : 24\n",
    "(pred_y != y_test).sum()"
   ]
  },
  {
   "cell_type": "code",
   "execution_count": 14,
   "id": "348b789c",
   "metadata": {},
   "outputs": [
    {
     "data": {
      "text/plain": [
       "81.81818181818183"
      ]
     },
     "execution_count": 14,
     "metadata": {},
     "output_type": "execute_result"
    }
   ],
   "source": [
    "# 예측력 평가 \n",
    "# accuracy score를 구합니다.\n",
    "from sklearn.metrics import accuracy_score\n",
    "\n",
    "accuracy_score(y_test, pred_y) * 100"
   ]
  },
  {
   "cell_type": "markdown",
   "id": "123e02e0",
   "metadata": {},
   "source": [
    "## Bagging : Random Forest Model "
   ]
  },
  {
   "cell_type": "markdown",
   "id": "c6732f59",
   "metadata": {},
   "source": [
    "앙상블 방법이라고 불리는 기법들은 입력된 자료로부터 한 개 이상의 결정 트리를 생성한다.   \n",
    "**초기 앙상블 방법**인 **배깅(Bootstrap aggregating) 결정 트리**는 반복적으로 교체 과정을 수행하는 것과 함께 훈련 데이터를 재 샘플링하고, 합의 예측을 위한 트리를 선택하는 것으로 다수의 의사 결정 트리를 생성한다."
   ]
  },
  {
   "cell_type": "markdown",
   "id": "509a0de9",
   "metadata": {},
   "source": [
    "![image-3.png](https://t1.daumcdn.net/cfile/tistory/995E54485BD801BD36)\n",
    "랜덤포레스트의 경우, 위의 그림과 같이, 전체 데이터중 일부를 각각 샘플링하여 각각의 트리를 그리고, 최종적으로 최적의 트리로 연결 짓는 방식입니다.   \n",
    "따라서 해당 방법은 효과적으로 과적합을 방지해줍니다.  \n",
    "해당 방법처럼 샘플링을 하는 방식을 **부트스트랩핑**이라고 합니다. "
   ]
  },
  {
   "cell_type": "markdown",
   "id": "ec7d53dc",
   "metadata": {},
   "source": [
    "### 모형 생성 "
   ]
  },
  {
   "cell_type": "code",
   "execution_count": 15,
   "id": "ab50a682",
   "metadata": {},
   "outputs": [],
   "source": [
    "from sklearn.ensemble import RandomForestClassifier"
   ]
  },
  {
   "cell_type": "code",
   "execution_count": 16,
   "id": "93031271",
   "metadata": {},
   "outputs": [],
   "source": [
    "# 모형 생성 및 초기화 \n",
    "model = RandomForestClassifier(random_state=42)"
   ]
  },
  {
   "cell_type": "markdown",
   "id": "22e364ba",
   "metadata": {},
   "source": [
    "### 모형 학습 및 예측 "
   ]
  },
  {
   "cell_type": "code",
   "execution_count": 17,
   "id": "897332bf",
   "metadata": {},
   "outputs": [
    {
     "data": {
      "text/plain": [
       "RandomForestClassifier(random_state=42)"
      ]
     },
     "execution_count": 17,
     "metadata": {},
     "output_type": "execute_result"
    }
   ],
   "source": [
    "# 모형 학습 \n",
    "model.fit(X_train,y_train)"
   ]
  },
  {
   "cell_type": "code",
   "execution_count": 18,
   "id": "e71431d9",
   "metadata": {},
   "outputs": [],
   "source": [
    "# 예측 \n",
    "pred_y = model.predict(X_test)"
   ]
  },
  {
   "cell_type": "markdown",
   "id": "365912d7",
   "metadata": {},
   "source": [
    "### 정확도 평가 "
   ]
  },
  {
   "cell_type": "code",
   "execution_count": 19,
   "id": "4d7d2791",
   "metadata": {},
   "outputs": [
    {
     "data": {
      "text/plain": [
       "20"
      ]
     },
     "execution_count": 19,
     "metadata": {},
     "output_type": "execute_result"
    }
   ],
   "source": [
    "# 다르게 예측한 갯수를 구해서 diff_count 에 할당해 줍니다.\n",
    "# DT : 28\n",
    "# RF : 20\n",
    "# GB : 24\n",
    "(pred_y != y_test).sum()"
   ]
  },
  {
   "cell_type": "code",
   "execution_count": 20,
   "id": "aabb5b28",
   "metadata": {},
   "outputs": [
    {
     "data": {
      "text/plain": [
       "87.01298701298701"
      ]
     },
     "execution_count": 20,
     "metadata": {},
     "output_type": "execute_result"
    }
   ],
   "source": [
    "# 예측력 평가 \n",
    "# accuracy score를 구합니다.\n",
    "from sklearn.metrics import accuracy_score\n",
    "\n",
    "accuracy_score(y_test, pred_y) * 100"
   ]
  },
  {
   "cell_type": "markdown",
   "id": "033f1a29",
   "metadata": {},
   "source": [
    "일반적인 Decision Tree를 이용할 때 보다 정확도가 높은 폭으로 증가함을 볼 수 있습니다.   \n",
    "하지만, Random Forest의 경우에는 트리의 결과가 **n_estimators** 옵션의 값 만큼 그려집니다(Default = 100).. 따라서, 결과의 시각화 및 해석에 있어 불리한 측면이 있습니다. "
   ]
  },
  {
   "cell_type": "markdown",
   "id": "baf3dca8",
   "metadata": {},
   "source": [
    "### 시각화 "
   ]
  },
  {
   "cell_type": "code",
   "execution_count": 21,
   "id": "9bb742f8",
   "metadata": {},
   "outputs": [
    {
     "data": {
      "text/plain": [
       "<AxesSubplot:>"
      ]
     },
     "execution_count": 21,
     "metadata": {},
     "output_type": "execute_result"
    },
    {
     "data": {
      "image/png": "[encoded data removed]",
      "text/plain": [
       "<Figure size 432x288 with 1 Axes>"
      ]
     },
     "metadata": {
      "needs_background": "light"
     },
     "output_type": "display_data"
    }
   ],
   "source": [
    "# feature importance 시각화 하기 \n",
    "feature_names = X_train.columns.to_list()\n",
    "feature_importance = model.feature_importances_\n",
    "\n",
    "sns.barplot(x=feature_importance, y=feature_names)"
   ]
  },
  {
   "cell_type": "markdown",
   "id": "5320691c",
   "metadata": {},
   "source": [
    "모든 트리계열 알고리즘이 피처의 중요도를 알 수 있지만, Decision Tree 를 제외하고 직접적으로 트리를 시각화 하지는 못합니다.  "
   ]
  },
  {
   "cell_type": "markdown",
   "id": "94ce0cbe",
   "metadata": {},
   "source": [
    "## Boosting : Gradient Boosting\n",
    "* https://quantdare.com/what-is-the-difference-between-bagging-and-boosting/\n",
    "* 배깅과 부스팅의 차이 \n",
    "![image-4.png](https://img1.daumcdn.net/thumb/R1280x0/?scode=mtistory2&fname=https%3A%2F%2Fblog.kakaocdn.net%2Fdn%2Fbwr6JW%2FbtqygiHRbRk%2Fcy5hbDAPpTjCG7xa6UWxi0%2Fimg.png)\n",
    "위 그림에서 나타내는 바와 같이 배깅은 병렬로 학습하는 반면, 부스팅은 순차적으로 학습합니다. 한번 학습이 끝난 후 결과에 따라 가중치를 부여합니다. 그렇게 부여된 가중치가 다음 모델의 결과 예측에 영향을 줍니다."
   ]
  },
  {
   "cell_type": "markdown",
   "id": "9e73bac3",
   "metadata": {},
   "source": [
    "오답에 대해서는 높은 가중치를 부여하고, 정답에 대해서는 낮은 가중치를 부여합니다. 따라서 오답을 정답으로 맞추기 위해 오답에 더 집중할 수 있게 되는 것입니다. \n",
    "\n",
    "부스팅은 배깅에 비해 error가 적습니다. 즉, 성능이 좋습니다. 하지만 속도가 느리고 오버 피팅이 될 가능성이 있습니다. 그렇다면 실제 사용할 때는 배깅과 부스팅 중 어떤 것을 선택해야 할까요? 상황에 따라 다르다고 할 수 있습니다. 개별 결정 트리의 낮은 성능이 문제라면 부스팅이 적합하고, 오버 피팅이 문제라면 배깅이 적합합니다."
   ]
  },
  {
   "cell_type": "markdown",
   "id": "f3d69cb2",
   "metadata": {},
   "source": [
    "### 모형 생성 "
   ]
  },
  {
   "cell_type": "code",
   "execution_count": 22,
   "id": "cc6651d4",
   "metadata": {},
   "outputs": [],
   "source": [
    "from sklearn.ensemble import GradientBoostingClassifier"
   ]
  },
  {
   "cell_type": "code",
   "execution_count": 23,
   "id": "3cb3fb7d",
   "metadata": {},
   "outputs": [
    {
     "data": {
      "text/plain": [
       "GradientBoostingClassifier(random_state=42)"
      ]
     },
     "execution_count": 23,
     "metadata": {},
     "output_type": "execute_result"
    }
   ],
   "source": [
    "model = GradientBoostingClassifier(random_state=42)\n",
    "model "
   ]
  },
  {
   "cell_type": "markdown",
   "id": "2ebf63c6",
   "metadata": {},
   "source": [
    "Init signature:  \n",
    "GradientBoostingClassifier(  \n",
    "    *,  \n",
    "    loss='deviance',  \n",
    "    learning_rate=0.1,  \n",
    "    n_estimators=100,  \n",
    "    subsample=1.0,  \n",
    "    criterion='friedman_mse',  \n",
    "    min_samples_split=2,  \n",
    "    min_samples_leaf=1,  \n",
    "    min_weight_fraction_leaf=0.0,  \n",
    "    max_depth=3,  \n",
    "    min_impurity_decrease=0.0,  \n",
    "    min_impurity_split=None,  \n",
    "    init=None,  \n",
    "    random_state =None,  \n",
    "    max_features=None,  \n",
    "    verbose=0,  \n",
    "    max_leaf_nodes=None,  \n",
    "    warm_start=False,  \n",
    "    validation_fraction=0.1,  \n",
    "    n_iter_no_change=None,  \n",
    "    tol=0.0001,  \n",
    "    ccp_alpha=0.0,  \n",
    ")"
   ]
  },
  {
   "cell_type": "markdown",
   "id": "369ec445",
   "metadata": {},
   "source": [
    "### 학습 및 예측 진행 "
   ]
  },
  {
   "cell_type": "code",
   "execution_count": 24,
   "id": "644ed194",
   "metadata": {},
   "outputs": [
    {
     "data": {
      "text/plain": [
       "GradientBoostingClassifier(random_state=42)"
      ]
     },
     "execution_count": 24,
     "metadata": {},
     "output_type": "execute_result"
    }
   ],
   "source": [
    "# 모형 학습 \n",
    "model.fit(X_train,y_train)"
   ]
  },
  {
   "cell_type": "code",
   "execution_count": 25,
   "id": "e854935f",
   "metadata": {},
   "outputs": [],
   "source": [
    "# 예측 수행 \n",
    "pred_y = model.predict(X_test)"
   ]
  },
  {
   "cell_type": "markdown",
   "id": "6b07d63f",
   "metadata": {},
   "source": [
    "### 정확도 측정 "
   ]
  },
  {
   "cell_type": "code",
   "execution_count": 26,
   "id": "f749a85a",
   "metadata": {
    "scrolled": true
   },
   "outputs": [
    {
     "data": {
      "text/plain": [
       "24"
      ]
     },
     "execution_count": 26,
     "metadata": {},
     "output_type": "execute_result"
    }
   ],
   "source": [
    "# 다르게 예측한 갯수를 구해서 diff_count 에 할당해 줍니다.\n",
    "# DT : 28\n",
    "# RF : 20\n",
    "# GB : 24\n",
    "(pred_y != y_test).sum()"
   ]
  },
  {
   "cell_type": "code",
   "execution_count": 27,
   "id": "506a55df",
   "metadata": {},
   "outputs": [
    {
     "data": {
      "text/plain": [
       "0.8441558441558441"
      ]
     },
     "execution_count": 27,
     "metadata": {},
     "output_type": "execute_result"
    }
   ],
   "source": [
    "# accuracy score를 구합니다.\n",
    "# DT: 0.818\n",
    "# RF: 0.870\n",
    "# GBL 0.844\n",
    "from sklearn.metrics import accuracy_score\n",
    "\n",
    "accuracy_score(y_test, pred_y)"
   ]
  },
  {
   "cell_type": "markdown",
   "id": "9cf48671",
   "metadata": {},
   "source": [
    "### 시각화 \n",
    "* Decision Tree 와 다르게, 트리 전체의 모습은 시각화가 불가능합니다. \n",
    "* 다만, 모든 트리 알고리즘의 장점인 feature importance의 추적은 가능합니다. "
   ]
  },
  {
   "cell_type": "code",
   "execution_count": 28,
   "id": "1dd97ceb",
   "metadata": {},
   "outputs": [
    {
     "data": {
      "text/plain": [
       "<AxesSubplot:>"
      ]
     },
     "execution_count": 28,
     "metadata": {},
     "output_type": "execute_result"
    },
    {
     "data": {
      "image/png": "[encoded data removed]",
      "text/plain": [
       "<Figure size 432x288 with 1 Axes>"
      ]
     },
     "metadata": {
      "needs_background": "light"
     },
     "output_type": "display_data"
    }
   ],
   "source": [
    "# feature importance 시각화 하기 \n",
    "feature_names = X_train.columns.to_list()\n",
    "feature_importance = model.feature_importances_\n",
    "\n",
    "sns.barplot(x=feature_importance, y=feature_names)"
   ]
  },
  {
   "cell_type": "markdown",
   "id": "50dc4bf3",
   "metadata": {},
   "source": [
    "# Hyper Parameter Tuning을 통해 최적 모형 결정하기 \n",
    "* RandomSearchCV 를 활용해 최적 모형을 결정합니다. "
   ]
  },
  {
   "cell_type": "code",
   "execution_count": 29,
   "id": "f8f7f865",
   "metadata": {},
   "outputs": [],
   "source": [
    "from sklearn.tree import DecisionTreeClassifier\n",
    "from sklearn.ensemble import RandomForestClassifier, GradientBoostingClassifier"
   ]
  },
  {
   "cell_type": "code",
   "execution_count": 30,
   "id": "4d5498e7",
   "metadata": {},
   "outputs": [
    {
     "data": {
      "text/plain": [
       "[DecisionTreeClassifier(random_state=42),\n",
       " RandomForestClassifier(random_state=42),\n",
       " GradientBoostingClassifier(random_state=42)]"
      ]
     },
     "execution_count": 30,
     "metadata": {},
     "output_type": "execute_result"
    }
   ],
   "source": [
    "# 모형들을 하나의 인자로 넘겨 주기 위해, 하나의 리스트에 담습니다. \n",
    "estimators = [DecisionTreeClassifier(random_state=42),\n",
    "             RandomForestClassifier(random_state=42),\n",
    "             GradientBoostingClassifier(random_state=42)\n",
    "            ]\n",
    "estimators"
   ]
  },
  {
   "cell_type": "code",
   "execution_count": 31,
   "id": "46608f71",
   "metadata": {},
   "outputs": [
    {
     "name": "stdout",
     "output_type": "stream",
     "text": [
      "Fitting 5 folds for each of 100 candidates, totalling 500 fits\n",
      "Fitting 5 folds for each of 100 candidates, totalling 500 fits\n",
      "Fitting 5 folds for each of 100 candidates, totalling 500 fits\n"
     ]
    }
   ],
   "source": [
    "from sklearn.model_selection import RandomizedSearchCV \n",
    "\n",
    "# 트리의 깊이와 사용할 feature의 비율 랜덤으로 결정하기 \n",
    "max_depth = np.random.randint(2,20, 10) # 2에서 20사이의 정수 10개를 무작위로 선택합니다. \n",
    "max_features = np.random.uniform(0.3, 1.0, 10) # 0.3에서 1.0사이의 값을 단일 분포에서 랜덤하게 추출해 줍니다 .\n",
    "\n",
    "# param_distribution 결정하기 \n",
    "param_distributions = {\"max_depth\":max_depth,\n",
    "                      \"max_features\":max_features}\n",
    "\n",
    "# results 리스트에 각각의 모형별 최적의 파라미터와 예측 점수 담기 \n",
    "# 반복문을 통해 각각의 estimator에 대한 RandomSearch를 진행합니다. \n",
    "results = []\n",
    "for estimator in estimators:\n",
    "    # 각 모형에 대한 정보를 담을 리스트 내부의 임시 리스트 \n",
    "    result = []\n",
    "    # Decision Tree와는 다르게, 나머지 2개의 알고리즘은 트리의 갯수를 설정해야 한다 \n",
    "    # 따라서 if문을 통해 나머지 두개의 경우 해당 옵션을 반영하여 randomsearch를 진행한다. \n",
    "    if estimator.__class__.__name__ != 'DecisionTreeClassifier':\n",
    "        param_distributions[\"n_estimators\"] = np.random.randint(100, 200, 10)\n",
    "        \n",
    "    clf = RandomizedSearchCV(estimator, \n",
    "                       param_distributions, \n",
    "                       n_iter=100,\n",
    "                       scoring=\"accuracy\",\n",
    "                       n_jobs=-1,\n",
    "                       cv=5, \n",
    "                       verbose=2\n",
    "                      )\n",
    "    # 성능평가 지표는 \"accuracy\"를 기준으로 진행합니다. \n",
    "\n",
    "    clf.fit(X_train, y_train)\n",
    "    # 각 모형에 대한 정보 중, 이름만 가져옴 (cf)모형은 하나의 클레스 이기 때문에 다양한 정보가 하나의 클레스에 담겨있음) \n",
    "    result.append(estimator.__class__.__name__)\n",
    "    \n",
    "    result.append(clf.best_params_)\n",
    "    result.append(clf.best_score_)\n",
    "    result.append(clf.score(X_test, y_test))\n",
    "    result.append(clf.cv_results_)\n",
    "    results.append(result)"
   ]
  },
  {
   "cell_type": "code",
   "execution_count": 32,
   "id": "5bc608ea",
   "metadata": {},
   "outputs": [
    {
     "data": {
      "text/html": [
       "<div>\n",
       "<style scoped>\n",
       "    .dataframe tbody tr th:only-of-type {\n",
       "        vertical-align: middle;\n",
       "    }\n",
       "\n",
       "    .dataframe tbody tr th {\n",
       "        vertical-align: top;\n",
       "    }\n",
       "\n",
       "    .dataframe thead th {\n",
       "        text-align: right;\n",
       "    }\n",
       "</style>\n",
       "<table border=\"1\" class=\"dataframe\">\n",
       "  <thead>\n",
       "    <tr style=\"text-align: right;\">\n",
       "      <th></th>\n",
       "      <th>estimator</th>\n",
       "      <th>best_params</th>\n",
       "      <th>train_score</th>\n",
       "      <th>test_score</th>\n",
       "      <th>cv_result</th>\n",
       "    </tr>\n",
       "  </thead>\n",
       "  <tbody>\n",
       "    <tr>\n",
       "      <th>0</th>\n",
       "      <td>DecisionTreeClassifier</td>\n",
       "      <td>{'max_features': 0.49358061963700617, 'max_dep...</td>\n",
       "      <td>0.856724</td>\n",
       "      <td>0.798701</td>\n",
       "      <td>{'mean_fit_time': [0.024330854415893555, 0.022...</td>\n",
       "    </tr>\n",
       "    <tr>\n",
       "      <th>1</th>\n",
       "      <td>RandomForestClassifier</td>\n",
       "      <td>{'n_estimators': 134, 'max_features': 0.570000...</td>\n",
       "      <td>0.902359</td>\n",
       "      <td>0.850649</td>\n",
       "      <td>{'mean_fit_time': [0.470473051071167, 0.668711...</td>\n",
       "    </tr>\n",
       "    <tr>\n",
       "      <th>2</th>\n",
       "      <td>GradientBoostingClassifier</td>\n",
       "      <td>{'n_estimators': 116, 'max_features': 0.406174...</td>\n",
       "      <td>0.905598</td>\n",
       "      <td>0.870130</td>\n",
       "      <td>{'mean_fit_time': [1.339749002456665, 1.716584...</td>\n",
       "    </tr>\n",
       "  </tbody>\n",
       "</table>\n",
       "</div>"
      ],
      "text/plain": [
       "                    estimator  \\\n",
       "0      DecisionTreeClassifier   \n",
       "1      RandomForestClassifier   \n",
       "2  GradientBoostingClassifier   \n",
       "\n",
       "                                         best_params  train_score  test_score  \\\n",
       "0  {'max_features': 0.49358061963700617, 'max_dep...     0.856724    0.798701   \n",
       "1  {'n_estimators': 134, 'max_features': 0.570000...     0.902359    0.850649   \n",
       "2  {'n_estimators': 116, 'max_features': 0.406174...     0.905598    0.870130   \n",
       "\n",
       "                                           cv_result  \n",
       "0  {'mean_fit_time': [0.024330854415893555, 0.022...  \n",
       "1  {'mean_fit_time': [0.470473051071167, 0.668711...  \n",
       "2  {'mean_fit_time': [1.339749002456665, 1.716584...  "
      ]
     },
     "execution_count": 32,
     "metadata": {},
     "output_type": "execute_result"
    }
   ],
   "source": [
    "# results에 담긴 cv 결과를 데이터 프레임으로 전환후 살펴보기 \n",
    "df = pd.DataFrame(results, \n",
    "             columns=[\"estimator\", \"best_params\", \"train_score\", \"test_score\", \"cv_result\"])\n",
    "df"
   ]
  },
  {
   "cell_type": "code",
   "execution_count": 33,
   "id": "29a18490",
   "metadata": {},
   "outputs": [
    {
     "data": {
      "text/html": [
       "<div>\n",
       "<style scoped>\n",
       "    .dataframe tbody tr th:only-of-type {\n",
       "        vertical-align: middle;\n",
       "    }\n",
       "\n",
       "    .dataframe tbody tr th {\n",
       "        vertical-align: top;\n",
       "    }\n",
       "\n",
       "    .dataframe thead th {\n",
       "        text-align: right;\n",
       "    }\n",
       "</style>\n",
       "<table border=\"1\" class=\"dataframe\">\n",
       "  <thead>\n",
       "    <tr style=\"text-align: right;\">\n",
       "      <th></th>\n",
       "      <th>mean_fit_time</th>\n",
       "      <th>std_fit_time</th>\n",
       "      <th>mean_score_time</th>\n",
       "      <th>std_score_time</th>\n",
       "      <th>param_n_estimators</th>\n",
       "      <th>param_max_features</th>\n",
       "      <th>param_max_depth</th>\n",
       "      <th>params</th>\n",
       "      <th>split0_test_score</th>\n",
       "      <th>split1_test_score</th>\n",
       "      <th>split2_test_score</th>\n",
       "      <th>split3_test_score</th>\n",
       "      <th>split4_test_score</th>\n",
       "      <th>mean_test_score</th>\n",
       "      <th>std_test_score</th>\n",
       "      <th>rank_test_score</th>\n",
       "    </tr>\n",
       "  </thead>\n",
       "  <tbody>\n",
       "    <tr>\n",
       "      <th>62</th>\n",
       "      <td>0.492798</td>\n",
       "      <td>0.015965</td>\n",
       "      <td>0.031316</td>\n",
       "      <td>0.004911</td>\n",
       "      <td>134</td>\n",
       "      <td>0.570001</td>\n",
       "      <td>13</td>\n",
       "      <td>{'n_estimators': 134, 'max_features': 0.570000...</td>\n",
       "      <td>0.886179</td>\n",
       "      <td>0.934959</td>\n",
       "      <td>0.853659</td>\n",
       "      <td>0.886179</td>\n",
       "      <td>0.950820</td>\n",
       "      <td>0.902359</td>\n",
       "      <td>0.035515</td>\n",
       "      <td>1</td>\n",
       "    </tr>\n",
       "    <tr>\n",
       "      <th>5</th>\n",
       "      <td>0.551250</td>\n",
       "      <td>0.099623</td>\n",
       "      <td>0.048684</td>\n",
       "      <td>0.010844</td>\n",
       "      <td>134</td>\n",
       "      <td>0.570001</td>\n",
       "      <td>16</td>\n",
       "      <td>{'n_estimators': 134, 'max_features': 0.570000...</td>\n",
       "      <td>0.886179</td>\n",
       "      <td>0.934959</td>\n",
       "      <td>0.853659</td>\n",
       "      <td>0.886179</td>\n",
       "      <td>0.950820</td>\n",
       "      <td>0.902359</td>\n",
       "      <td>0.035515</td>\n",
       "      <td>1</td>\n",
       "    </tr>\n",
       "    <tr>\n",
       "      <th>18</th>\n",
       "      <td>0.632052</td>\n",
       "      <td>0.070904</td>\n",
       "      <td>0.022740</td>\n",
       "      <td>0.002630</td>\n",
       "      <td>131</td>\n",
       "      <td>0.570001</td>\n",
       "      <td>19</td>\n",
       "      <td>{'n_estimators': 131, 'max_features': 0.570000...</td>\n",
       "      <td>0.886179</td>\n",
       "      <td>0.934959</td>\n",
       "      <td>0.853659</td>\n",
       "      <td>0.886179</td>\n",
       "      <td>0.950820</td>\n",
       "      <td>0.902359</td>\n",
       "      <td>0.035515</td>\n",
       "      <td>1</td>\n",
       "    </tr>\n",
       "    <tr>\n",
       "      <th>83</th>\n",
       "      <td>0.415112</td>\n",
       "      <td>0.014639</td>\n",
       "      <td>0.026131</td>\n",
       "      <td>0.000746</td>\n",
       "      <td>113</td>\n",
       "      <td>0.570001</td>\n",
       "      <td>16</td>\n",
       "      <td>{'n_estimators': 113, 'max_features': 0.570000...</td>\n",
       "      <td>0.886179</td>\n",
       "      <td>0.934959</td>\n",
       "      <td>0.853659</td>\n",
       "      <td>0.886179</td>\n",
       "      <td>0.950820</td>\n",
       "      <td>0.902359</td>\n",
       "      <td>0.035515</td>\n",
       "      <td>1</td>\n",
       "    </tr>\n",
       "    <tr>\n",
       "      <th>78</th>\n",
       "      <td>0.397863</td>\n",
       "      <td>0.020454</td>\n",
       "      <td>0.026034</td>\n",
       "      <td>0.002756</td>\n",
       "      <td>110</td>\n",
       "      <td>0.570001</td>\n",
       "      <td>16</td>\n",
       "      <td>{'n_estimators': 110, 'max_features': 0.570000...</td>\n",
       "      <td>0.886179</td>\n",
       "      <td>0.934959</td>\n",
       "      <td>0.861789</td>\n",
       "      <td>0.886179</td>\n",
       "      <td>0.942623</td>\n",
       "      <td>0.902346</td>\n",
       "      <td>0.031156</td>\n",
       "      <td>5</td>\n",
       "    </tr>\n",
       "    <tr>\n",
       "      <th>...</th>\n",
       "      <td>...</td>\n",
       "      <td>...</td>\n",
       "      <td>...</td>\n",
       "      <td>...</td>\n",
       "      <td>...</td>\n",
       "      <td>...</td>\n",
       "      <td>...</td>\n",
       "      <td>...</td>\n",
       "      <td>...</td>\n",
       "      <td>...</td>\n",
       "      <td>...</td>\n",
       "      <td>...</td>\n",
       "      <td>...</td>\n",
       "      <td>...</td>\n",
       "      <td>...</td>\n",
       "      <td>...</td>\n",
       "    </tr>\n",
       "    <tr>\n",
       "      <th>72</th>\n",
       "      <td>0.436074</td>\n",
       "      <td>0.009544</td>\n",
       "      <td>0.025435</td>\n",
       "      <td>0.001476</td>\n",
       "      <td>110</td>\n",
       "      <td>0.781382</td>\n",
       "      <td>9</td>\n",
       "      <td>{'n_estimators': 110, 'max_features': 0.781382...</td>\n",
       "      <td>0.869919</td>\n",
       "      <td>0.934959</td>\n",
       "      <td>0.845528</td>\n",
       "      <td>0.894309</td>\n",
       "      <td>0.918033</td>\n",
       "      <td>0.892550</td>\n",
       "      <td>0.032169</td>\n",
       "      <td>96</td>\n",
       "    </tr>\n",
       "    <tr>\n",
       "      <th>49</th>\n",
       "      <td>0.475989</td>\n",
       "      <td>0.015846</td>\n",
       "      <td>0.032114</td>\n",
       "      <td>0.003857</td>\n",
       "      <td>131</td>\n",
       "      <td>0.53527</td>\n",
       "      <td>8</td>\n",
       "      <td>{'n_estimators': 131, 'max_features': 0.535269...</td>\n",
       "      <td>0.861789</td>\n",
       "      <td>0.934959</td>\n",
       "      <td>0.861789</td>\n",
       "      <td>0.886179</td>\n",
       "      <td>0.918033</td>\n",
       "      <td>0.892550</td>\n",
       "      <td>0.029601</td>\n",
       "      <td>96</td>\n",
       "    </tr>\n",
       "    <tr>\n",
       "      <th>87</th>\n",
       "      <td>0.411720</td>\n",
       "      <td>0.013685</td>\n",
       "      <td>0.028127</td>\n",
       "      <td>0.001594</td>\n",
       "      <td>113</td>\n",
       "      <td>0.493581</td>\n",
       "      <td>8</td>\n",
       "      <td>{'n_estimators': 113, 'max_features': 0.493580...</td>\n",
       "      <td>0.853659</td>\n",
       "      <td>0.934959</td>\n",
       "      <td>0.869919</td>\n",
       "      <td>0.886179</td>\n",
       "      <td>0.918033</td>\n",
       "      <td>0.892550</td>\n",
       "      <td>0.030044</td>\n",
       "      <td>98</td>\n",
       "    </tr>\n",
       "    <tr>\n",
       "      <th>22</th>\n",
       "      <td>0.574079</td>\n",
       "      <td>0.017837</td>\n",
       "      <td>0.029927</td>\n",
       "      <td>0.003522</td>\n",
       "      <td>164</td>\n",
       "      <td>0.869201</td>\n",
       "      <td>19</td>\n",
       "      <td>{'n_estimators': 164, 'max_features': 0.869200...</td>\n",
       "      <td>0.869919</td>\n",
       "      <td>0.934959</td>\n",
       "      <td>0.853659</td>\n",
       "      <td>0.869919</td>\n",
       "      <td>0.926230</td>\n",
       "      <td>0.890937</td>\n",
       "      <td>0.033036</td>\n",
       "      <td>99</td>\n",
       "    </tr>\n",
       "    <tr>\n",
       "      <th>3</th>\n",
       "      <td>0.715302</td>\n",
       "      <td>0.052631</td>\n",
       "      <td>0.037698</td>\n",
       "      <td>0.003536</td>\n",
       "      <td>197</td>\n",
       "      <td>0.493581</td>\n",
       "      <td>16</td>\n",
       "      <td>{'n_estimators': 197, 'max_features': 0.493580...</td>\n",
       "      <td>0.861789</td>\n",
       "      <td>0.934959</td>\n",
       "      <td>0.845528</td>\n",
       "      <td>0.894309</td>\n",
       "      <td>0.918033</td>\n",
       "      <td>0.890924</td>\n",
       "      <td>0.033452</td>\n",
       "      <td>100</td>\n",
       "    </tr>\n",
       "  </tbody>\n",
       "</table>\n",
       "<p>100 rows × 16 columns</p>\n",
       "</div>"
      ],
      "text/plain": [
       "    mean_fit_time  std_fit_time  mean_score_time  std_score_time  \\\n",
       "62       0.492798      0.015965         0.031316        0.004911   \n",
       "5        0.551250      0.099623         0.048684        0.010844   \n",
       "18       0.632052      0.070904         0.022740        0.002630   \n",
       "83       0.415112      0.014639         0.026131        0.000746   \n",
       "78       0.397863      0.020454         0.026034        0.002756   \n",
       "..            ...           ...              ...             ...   \n",
       "72       0.436074      0.009544         0.025435        0.001476   \n",
       "49       0.475989      0.015846         0.032114        0.003857   \n",
       "87       0.411720      0.013685         0.028127        0.001594   \n",
       "22       0.574079      0.017837         0.029927        0.003522   \n",
       "3        0.715302      0.052631         0.037698        0.003536   \n",
       "\n",
       "   param_n_estimators param_max_features param_max_depth  \\\n",
       "62                134           0.570001              13   \n",
       "5                 134           0.570001              16   \n",
       "18                131           0.570001              19   \n",
       "83                113           0.570001              16   \n",
       "78                110           0.570001              16   \n",
       "..                ...                ...             ...   \n",
       "72                110           0.781382               9   \n",
       "49                131            0.53527               8   \n",
       "87                113           0.493581               8   \n",
       "22                164           0.869201              19   \n",
       "3                 197           0.493581              16   \n",
       "\n",
       "                                               params  split0_test_score  \\\n",
       "62  {'n_estimators': 134, 'max_features': 0.570000...           0.886179   \n",
       "5   {'n_estimators': 134, 'max_features': 0.570000...           0.886179   \n",
       "18  {'n_estimators': 131, 'max_features': 0.570000...           0.886179   \n",
       "83  {'n_estimators': 113, 'max_features': 0.570000...           0.886179   \n",
       "78  {'n_estimators': 110, 'max_features': 0.570000...           0.886179   \n",
       "..                                                ...                ...   \n",
       "72  {'n_estimators': 110, 'max_features': 0.781382...           0.869919   \n",
       "49  {'n_estimators': 131, 'max_features': 0.535269...           0.861789   \n",
       "87  {'n_estimators': 113, 'max_features': 0.493580...           0.853659   \n",
       "22  {'n_estimators': 164, 'max_features': 0.869200...           0.869919   \n",
       "3   {'n_estimators': 197, 'max_features': 0.493580...           0.861789   \n",
       "\n",
       "    split1_test_score  split2_test_score  split3_test_score  \\\n",
       "62           0.934959           0.853659           0.886179   \n",
       "5            0.934959           0.853659           0.886179   \n",
       "18           0.934959           0.853659           0.886179   \n",
       "83           0.934959           0.853659           0.886179   \n",
       "78           0.934959           0.861789           0.886179   \n",
       "..                ...                ...                ...   \n",
       "72           0.934959           0.845528           0.894309   \n",
       "49           0.934959           0.861789           0.886179   \n",
       "87           0.934959           0.869919           0.886179   \n",
       "22           0.934959           0.853659           0.869919   \n",
       "3            0.934959           0.845528           0.894309   \n",
       "\n",
       "    split4_test_score  mean_test_score  std_test_score  rank_test_score  \n",
       "62           0.950820         0.902359        0.035515                1  \n",
       "5            0.950820         0.902359        0.035515                1  \n",
       "18           0.950820         0.902359        0.035515                1  \n",
       "83           0.950820         0.902359        0.035515                1  \n",
       "78           0.942623         0.902346        0.031156                5  \n",
       "..                ...              ...             ...              ...  \n",
       "72           0.918033         0.892550        0.032169               96  \n",
       "49           0.918033         0.892550        0.029601               96  \n",
       "87           0.918033         0.892550        0.030044               98  \n",
       "22           0.926230         0.890937        0.033036               99  \n",
       "3            0.918033         0.890924        0.033452              100  \n",
       "\n",
       "[100 rows x 16 columns]"
      ]
     },
     "execution_count": 33,
     "metadata": {},
     "output_type": "execute_result"
    }
   ],
   "source": [
    "pd.DataFrame(df.loc[1, \"cv_result\"]).sort_values(by=\"rank_test_score\")"
   ]
  },
  {
   "cell_type": "code",
   "execution_count": null,
   "id": "edcd6fb8",
   "metadata": {},
   "outputs": [],
   "source": []
  }
 ],
 "metadata": {
  "kernelspec": {
   "display_name": "Python 3",
   "language": "python",
   "name": "python3"
  },
  "language_info": {
   "codemirror_mode": {
    "name": "ipython",
    "version": 3
   },
   "file_extension": ".py",
   "mimetype": "text/x-python",
   "name": "python",
   "nbconvert_exporter": "python",
   "pygments_lexer": "ipython3",
   "version": "3.8.8"
  },
  "toc": {
   "base_numbering": 1,
   "nav_menu": {},
   "number_sections": true,
   "sideBar": true,
   "skip_h1_title": false,
   "title_cell": "Table of Contents",
   "title_sidebar": "Contents",
   "toc_cell": false,
   "toc_position": {
    "height": "calc(100% - 180px)",
    "left": "10px",
    "top": "150px",
    "width": "194.188px"
   },
   "toc_section_display": true,
   "toc_window_display": true
  }
 },
 "nbformat": 4,
 "nbformat_minor": 5
}
