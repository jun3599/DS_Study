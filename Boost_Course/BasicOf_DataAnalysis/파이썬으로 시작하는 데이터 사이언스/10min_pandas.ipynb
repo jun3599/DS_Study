{
 "cells": [
  {
   "cell_type": "markdown",
   "metadata": {},
   "source": [
    "# 10 minutes to Pandas와 Pandas Cheat sheet  "
   ]
  },
  {
   "cell_type": "code",
   "execution_count": 1,
   "metadata": {},
   "outputs": [],
   "source": [
    "# pandas는 주로 numpy 모듈과 함께 호출된다. \n",
    "# numpy 모듈은 선형대수 밑 다양한 수학적 기능을 제공하는 모듈 \n",
    "import numpy as np\n",
    "import pandas as pd "
   ]
  },
  {
   "cell_type": "code",
   "execution_count": 2,
   "metadata": {},
   "outputs": [
    {
     "data": {
      "text/plain": [
       "1"
      ]
     },
     "execution_count": 2,
     "metadata": {},
     "output_type": "execute_result"
    }
   ],
   "source": [
    "# 호출되었는지 확인(내가한거)\n",
    "np.abs(-1)"
   ]
  },
  {
   "cell_type": "code",
   "execution_count": 4,
   "metadata": {},
   "outputs": [
    {
     "data": {
      "text/html": [
       "<div>\n",
       "<style scoped>\n",
       "    .dataframe tbody tr th:only-of-type {\n",
       "        vertical-align: middle;\n",
       "    }\n",
       "\n",
       "    .dataframe tbody tr th {\n",
       "        vertical-align: top;\n",
       "    }\n",
       "\n",
       "    .dataframe thead th {\n",
       "        text-align: right;\n",
       "    }\n",
       "</style>\n",
       "<table border=\"1\" class=\"dataframe\">\n",
       "  <thead>\n",
       "    <tr style=\"text-align: right;\">\n",
       "      <th></th>\n",
       "      <th>a</th>\n",
       "      <th>b</th>\n",
       "    </tr>\n",
       "  </thead>\n",
       "  <tbody>\n",
       "    <tr>\n",
       "      <th>1</th>\n",
       "      <td>1</td>\n",
       "      <td>3</td>\n",
       "    </tr>\n",
       "    <tr>\n",
       "      <th>2</th>\n",
       "      <td>2</td>\n",
       "      <td>4</td>\n",
       "    </tr>\n",
       "  </tbody>\n",
       "</table>\n",
       "</div>"
      ],
      "text/plain": [
       "   a  b\n",
       "1  1  3\n",
       "2  2  4"
      ]
     },
     "execution_count": 4,
     "metadata": {},
     "output_type": "execute_result"
    }
   ],
   "source": [
    "# 확인2 \n",
    "pd.DataFrame({\"a\":[1,2],\n",
    "             \"b\":[3,4]},\n",
    "            index = (1,2))\n",
    "\n",
    "# 두 모듈 모두 정상 작동중! "
   ]
  },
  {
   "cell_type": "markdown",
   "metadata": {},
   "source": [
    "## Object creation : 객체 생성 \n",
    "\n",
    "see the data structure intro section.   \n",
    "creating a **series** by passing a list of values, letting pandas create a default integer index : "
   ]
  },
  {
   "cell_type": "code",
   "execution_count": 9,
   "metadata": {},
   "outputs": [
    {
     "data": {
      "text/plain": [
       "0    1.0\n",
       "1    3.0\n",
       "2    5.0\n",
       "3    NaN\n",
       "4    6.0\n",
       "5    8.0\n",
       "dtype: float64"
      ]
     },
     "execution_count": 9,
     "metadata": {},
     "output_type": "execute_result"
    }
   ],
   "source": [
    "# 값들의 리스트로 시리즈 생성하기 \n",
    "## 인덱스로 정수를 받는다.\n",
    "s = pd.Series([1,3,5,np.nan,6,8])\n",
    "s"
   ]
  },
  {
   "cell_type": "code",
   "execution_count": 11,
   "metadata": {},
   "outputs": [
    {
     "data": {
      "text/plain": [
       "DatetimeIndex(['2020-01-13', '2020-01-14', '2020-01-15', '2020-01-16',\n",
       "               '2020-01-17', '2020-01-18'],\n",
       "              dtype='datetime64[ns]', freq='D')"
      ]
     },
     "execution_count": 11,
     "metadata": {},
     "output_type": "execute_result"
    }
   ],
   "source": [
    "# 날짜/시간 인덱스 및 레이블이 지정된 열을 사용하여 numpy 배열을 전달하여 데이터 프레임 생성하기 \n",
    "\n",
    "dates = pd.date_range('20200113', periods = 6)\n",
    "dates"
   ]
  },
  {
   "cell_type": "code",
   "execution_count": 13,
   "metadata": {},
   "outputs": [
    {
     "data": {
      "text/html": [
       "<div>\n",
       "<style scoped>\n",
       "    .dataframe tbody tr th:only-of-type {\n",
       "        vertical-align: middle;\n",
       "    }\n",
       "\n",
       "    .dataframe tbody tr th {\n",
       "        vertical-align: top;\n",
       "    }\n",
       "\n",
       "    .dataframe thead th {\n",
       "        text-align: right;\n",
       "    }\n",
       "</style>\n",
       "<table border=\"1\" class=\"dataframe\">\n",
       "  <thead>\n",
       "    <tr style=\"text-align: right;\">\n",
       "      <th></th>\n",
       "      <th>A</th>\n",
       "      <th>B</th>\n",
       "      <th>C</th>\n",
       "      <th>D</th>\n",
       "    </tr>\n",
       "  </thead>\n",
       "  <tbody>\n",
       "    <tr>\n",
       "      <th>2020-01-13</th>\n",
       "      <td>0.833899</td>\n",
       "      <td>-0.872515</td>\n",
       "      <td>-0.813788</td>\n",
       "      <td>-1.645875</td>\n",
       "    </tr>\n",
       "    <tr>\n",
       "      <th>2020-01-14</th>\n",
       "      <td>0.277676</td>\n",
       "      <td>-1.331656</td>\n",
       "      <td>-0.967133</td>\n",
       "      <td>-1.806257</td>\n",
       "    </tr>\n",
       "    <tr>\n",
       "      <th>2020-01-15</th>\n",
       "      <td>-0.245389</td>\n",
       "      <td>0.693681</td>\n",
       "      <td>-0.071120</td>\n",
       "      <td>-0.571377</td>\n",
       "    </tr>\n",
       "    <tr>\n",
       "      <th>2020-01-16</th>\n",
       "      <td>-2.778540</td>\n",
       "      <td>0.455089</td>\n",
       "      <td>-0.455797</td>\n",
       "      <td>-1.227055</td>\n",
       "    </tr>\n",
       "    <tr>\n",
       "      <th>2020-01-17</th>\n",
       "      <td>-0.421423</td>\n",
       "      <td>1.601856</td>\n",
       "      <td>-0.362986</td>\n",
       "      <td>1.223342</td>\n",
       "    </tr>\n",
       "    <tr>\n",
       "      <th>2020-01-18</th>\n",
       "      <td>-0.269509</td>\n",
       "      <td>0.821051</td>\n",
       "      <td>-0.588988</td>\n",
       "      <td>-1.800808</td>\n",
       "    </tr>\n",
       "  </tbody>\n",
       "</table>\n",
       "</div>"
      ],
      "text/plain": [
       "                   A         B         C         D\n",
       "2020-01-13  0.833899 -0.872515 -0.813788 -1.645875\n",
       "2020-01-14  0.277676 -1.331656 -0.967133 -1.806257\n",
       "2020-01-15 -0.245389  0.693681 -0.071120 -0.571377\n",
       "2020-01-16 -2.778540  0.455089 -0.455797 -1.227055\n",
       "2020-01-17 -0.421423  1.601856 -0.362986  1.223342\n",
       "2020-01-18 -0.269509  0.821051 -0.588988 -1.800808"
      ]
     },
     "execution_count": 13,
     "metadata": {},
     "output_type": "execute_result"
    }
   ],
   "source": [
    "df = pd.DataFrame(np.random.randn(6,4), index = dates, columns = list(\"ABCD\"))\n",
    "# randn(6,4) 는 정규분포에서 6행 4열의 난수를 받아온다 . \n",
    "# index는 행 번호를 지정한다. \n",
    "# coiumns 옵션은 열 이름을 지정한다. (list(\"ABCD\")가 왜 하나씩 나눠지는지는 신기하다. )\n",
    "df"
   ]
  },
  {
   "cell_type": "code",
   "execution_count": 20,
   "metadata": {},
   "outputs": [
    {
     "data": {
      "text/html": [
       "<div>\n",
       "<style scoped>\n",
       "    .dataframe tbody tr th:only-of-type {\n",
       "        vertical-align: middle;\n",
       "    }\n",
       "\n",
       "    .dataframe tbody tr th {\n",
       "        vertical-align: top;\n",
       "    }\n",
       "\n",
       "    .dataframe thead th {\n",
       "        text-align: right;\n",
       "    }\n",
       "</style>\n",
       "<table border=\"1\" class=\"dataframe\">\n",
       "  <thead>\n",
       "    <tr style=\"text-align: right;\">\n",
       "      <th></th>\n",
       "      <th>A</th>\n",
       "      <th>B</th>\n",
       "      <th>C</th>\n",
       "      <th>D</th>\n",
       "      <th>E</th>\n",
       "      <th>F</th>\n",
       "    </tr>\n",
       "  </thead>\n",
       "  <tbody>\n",
       "    <tr>\n",
       "      <th>0</th>\n",
       "      <td>1.0</td>\n",
       "      <td>2021-01-13</td>\n",
       "      <td>1.0</td>\n",
       "      <td>3</td>\n",
       "      <td>test</td>\n",
       "      <td>foo</td>\n",
       "    </tr>\n",
       "    <tr>\n",
       "      <th>1</th>\n",
       "      <td>1.0</td>\n",
       "      <td>2021-01-13</td>\n",
       "      <td>1.0</td>\n",
       "      <td>3</td>\n",
       "      <td>train</td>\n",
       "      <td>foo</td>\n",
       "    </tr>\n",
       "    <tr>\n",
       "      <th>2</th>\n",
       "      <td>1.0</td>\n",
       "      <td>2021-01-13</td>\n",
       "      <td>1.0</td>\n",
       "      <td>3</td>\n",
       "      <td>test</td>\n",
       "      <td>foo</td>\n",
       "    </tr>\n",
       "    <tr>\n",
       "      <th>3</th>\n",
       "      <td>1.0</td>\n",
       "      <td>2021-01-13</td>\n",
       "      <td>1.0</td>\n",
       "      <td>3</td>\n",
       "      <td>train</td>\n",
       "      <td>foo</td>\n",
       "    </tr>\n",
       "  </tbody>\n",
       "</table>\n",
       "</div>"
      ],
      "text/plain": [
       "     A          B    C  D      E    F\n",
       "0  1.0 2021-01-13  1.0  3   test  foo\n",
       "1  1.0 2021-01-13  1.0  3  train  foo\n",
       "2  1.0 2021-01-13  1.0  3   test  foo\n",
       "3  1.0 2021-01-13  1.0  3  train  foo"
      ]
     },
     "execution_count": 20,
     "metadata": {},
     "output_type": "execute_result"
    }
   ],
   "source": [
    "# 시리즈 형태로 전환이 가능한 객체들을 받아적어 내려감으로써 데이터프레임 생성하기 \n",
    "df2 = pd.DataFrame({'A': 1.,\n",
    "                   'B' : pd.Timestamp('20210113'),\n",
    "                   'C' : pd.Series(1, index = list(range(4)), dtype='float32'),\n",
    "                   'D' : np.array([3]*4, dtype = 'int32'),\n",
    "                   'E' : pd.Categorical(['test','train','test','train']),\n",
    "                   'F' : 'foo'}\n",
    "                  ,index = (0,1,2,3))\n",
    "# 기본적으로 한개의 원소만 입력시 같은 값이 반복적으로 입력됨을 볼 수 있다. \n",
    "# pandas의 타임스템프 옵션을 이용하면 시간 데이터 타입을 생성가능. 상세사항은 사용시 tab 키를 활용할 것 \n",
    "# pandas의 시리즈 옵션은 시리즈를 생성함. 모두 1을 값으로 갖고, 인덱스 즉 열의 번호는 지정한바와 같이 4까지의 범위로 지정, 데이터 타입 float32는 32비트의 소수를 의미한다. \n",
    "# numpy의 array 옵션을 이용하면 배열형태의 자료구조를 생성가능 \n",
    "# Pandas에는 정수 기반의 범주형 데이터를 표현(인코딩)할 수 있는 **Categorical**형이라고 하는 특수한 데이터형이 존재한다.\n",
    "# np.nan 은 결측치 NaN을 생성한다. \n",
    "df2"
   ]
  },
  {
   "cell_type": "code",
   "execution_count": 23,
   "metadata": {},
   "outputs": [
    {
     "data": {
      "text/plain": [
       "A           float64\n",
       "B    datetime64[ns]\n",
       "C           float32\n",
       "D             int32\n",
       "E          category\n",
       "F            object\n",
       "dtype: object"
      ]
     },
     "execution_count": 23,
     "metadata": {},
     "output_type": "execute_result"
    }
   ],
   "source": [
    "# 데이터프레임의 각 컬럼의 데이터 형태를 받아보기. \n",
    "df2.dtypes\n",
    "\n",
    "# 괄호가 들어가지 않는다는 점이 특이하니 주의할것! "
   ]
  },
  {
   "cell_type": "code",
   "execution_count": 24,
   "metadata": {},
   "outputs": [],
   "source": [
    "#If you’re using IPython, tab completion for column names (as well as public attributes) is automatically enabled. Here’s a subset of the attributes that will be completed:\n",
    "# IPython을 사용하는 경우 열 이름(공용 속성)에 대한 탭 완료가 자동으로 활성화됩니다. 다음은 완료되는 속성의 하위 집합입니다.\n",
    "\n",
    "# 함수 입력후 shift tab tab 시에 : 적절한 에트리뷰트들을 보여쥼 \n",
    "# 객체. + tab : 추천 메소드들이 나타남 \n",
    "# 객체 . 함수 입력중 + tab : 문장 자동완성 "
   ]
  },
  {
   "cell_type": "markdown",
   "metadata": {},
   "source": [
    "## Viewing data \n",
    "* 데이터의 구조 및 특성 파악을 위해, 데이터를 확인할 때 주로 사용합니다. "
   ]
  },
  {
   "cell_type": "code",
   "execution_count": 25,
   "metadata": {},
   "outputs": [
    {
     "data": {
      "text/html": [
       "<div>\n",
       "<style scoped>\n",
       "    .dataframe tbody tr th:only-of-type {\n",
       "        vertical-align: middle;\n",
       "    }\n",
       "\n",
       "    .dataframe tbody tr th {\n",
       "        vertical-align: top;\n",
       "    }\n",
       "\n",
       "    .dataframe thead th {\n",
       "        text-align: right;\n",
       "    }\n",
       "</style>\n",
       "<table border=\"1\" class=\"dataframe\">\n",
       "  <thead>\n",
       "    <tr style=\"text-align: right;\">\n",
       "      <th></th>\n",
       "      <th>A</th>\n",
       "      <th>B</th>\n",
       "      <th>C</th>\n",
       "      <th>D</th>\n",
       "    </tr>\n",
       "  </thead>\n",
       "  <tbody>\n",
       "    <tr>\n",
       "      <th>2020-01-13</th>\n",
       "      <td>0.833899</td>\n",
       "      <td>-0.872515</td>\n",
       "      <td>-0.813788</td>\n",
       "      <td>-1.645875</td>\n",
       "    </tr>\n",
       "    <tr>\n",
       "      <th>2020-01-14</th>\n",
       "      <td>0.277676</td>\n",
       "      <td>-1.331656</td>\n",
       "      <td>-0.967133</td>\n",
       "      <td>-1.806257</td>\n",
       "    </tr>\n",
       "    <tr>\n",
       "      <th>2020-01-15</th>\n",
       "      <td>-0.245389</td>\n",
       "      <td>0.693681</td>\n",
       "      <td>-0.071120</td>\n",
       "      <td>-0.571377</td>\n",
       "    </tr>\n",
       "    <tr>\n",
       "      <th>2020-01-16</th>\n",
       "      <td>-2.778540</td>\n",
       "      <td>0.455089</td>\n",
       "      <td>-0.455797</td>\n",
       "      <td>-1.227055</td>\n",
       "    </tr>\n",
       "    <tr>\n",
       "      <th>2020-01-17</th>\n",
       "      <td>-0.421423</td>\n",
       "      <td>1.601856</td>\n",
       "      <td>-0.362986</td>\n",
       "      <td>1.223342</td>\n",
       "    </tr>\n",
       "  </tbody>\n",
       "</table>\n",
       "</div>"
      ],
      "text/plain": [
       "                   A         B         C         D\n",
       "2020-01-13  0.833899 -0.872515 -0.813788 -1.645875\n",
       "2020-01-14  0.277676 -1.331656 -0.967133 -1.806257\n",
       "2020-01-15 -0.245389  0.693681 -0.071120 -0.571377\n",
       "2020-01-16 -2.778540  0.455089 -0.455797 -1.227055\n",
       "2020-01-17 -0.421423  1.601856 -0.362986  1.223342"
      ]
     },
     "execution_count": 25,
     "metadata": {},
     "output_type": "execute_result"
    }
   ],
   "source": [
    "# 데이터의 상단, 혹은 하단 자료 일부를 확인할때 사용합니다. \n",
    "df.head()"
   ]
  },
  {
   "cell_type": "code",
   "execution_count": 27,
   "metadata": {},
   "outputs": [
    {
     "data": {
      "text/html": [
       "<div>\n",
       "<style scoped>\n",
       "    .dataframe tbody tr th:only-of-type {\n",
       "        vertical-align: middle;\n",
       "    }\n",
       "\n",
       "    .dataframe tbody tr th {\n",
       "        vertical-align: top;\n",
       "    }\n",
       "\n",
       "    .dataframe thead th {\n",
       "        text-align: right;\n",
       "    }\n",
       "</style>\n",
       "<table border=\"1\" class=\"dataframe\">\n",
       "  <thead>\n",
       "    <tr style=\"text-align: right;\">\n",
       "      <th></th>\n",
       "      <th>A</th>\n",
       "      <th>B</th>\n",
       "      <th>C</th>\n",
       "      <th>D</th>\n",
       "    </tr>\n",
       "  </thead>\n",
       "  <tbody>\n",
       "    <tr>\n",
       "      <th>2020-01-16</th>\n",
       "      <td>-2.778540</td>\n",
       "      <td>0.455089</td>\n",
       "      <td>-0.455797</td>\n",
       "      <td>-1.227055</td>\n",
       "    </tr>\n",
       "    <tr>\n",
       "      <th>2020-01-17</th>\n",
       "      <td>-0.421423</td>\n",
       "      <td>1.601856</td>\n",
       "      <td>-0.362986</td>\n",
       "      <td>1.223342</td>\n",
       "    </tr>\n",
       "    <tr>\n",
       "      <th>2020-01-18</th>\n",
       "      <td>-0.269509</td>\n",
       "      <td>0.821051</td>\n",
       "      <td>-0.588988</td>\n",
       "      <td>-1.800808</td>\n",
       "    </tr>\n",
       "  </tbody>\n",
       "</table>\n",
       "</div>"
      ],
      "text/plain": [
       "                   A         B         C         D\n",
       "2020-01-16 -2.778540  0.455089 -0.455797 -1.227055\n",
       "2020-01-17 -0.421423  1.601856 -0.362986  1.223342\n",
       "2020-01-18 -0.269509  0.821051 -0.588988 -1.800808"
      ]
     },
     "execution_count": 27,
     "metadata": {},
     "output_type": "execute_result"
    }
   ],
   "source": [
    "df.tail(3)\n",
    "# 위의 두 메소드 모두, 디폴트값은 6행을 보여주며, \n",
    "# 원하는 열의 수를 괄호 안에 입력함으로써, 출력 데이터 크기를 지정 가능합니다. "
   ]
  },
  {
   "cell_type": "code",
   "execution_count": 28,
   "metadata": {},
   "outputs": [
    {
     "data": {
      "text/plain": [
       "DatetimeIndex(['2020-01-13', '2020-01-14', '2020-01-15', '2020-01-16',\n",
       "               '2020-01-17', '2020-01-18'],\n",
       "              dtype='datetime64[ns]', freq='D')"
      ]
     },
     "execution_count": 28,
     "metadata": {},
     "output_type": "execute_result"
    }
   ],
   "source": [
    "# Display the index and columns \n",
    "# index (행 이름) 와 columns(열 이름) 확인하기 \n",
    "\n",
    "df.index"
   ]
  },
  {
   "cell_type": "code",
   "execution_count": 29,
   "metadata": {},
   "outputs": [
    {
     "data": {
      "text/plain": [
       "Index(['A', 'B', 'C', 'D'], dtype='object')"
      ]
     },
     "execution_count": 29,
     "metadata": {},
     "output_type": "execute_result"
    }
   ],
   "source": [
    "df.columns"
   ]
  },
  {
   "cell_type": "markdown",
   "metadata": {},
   "source": [
    "DataFrame.to_numpy() gives a NumPy representation of the underlying data. Note that this can be an expensive operation when your DataFrame has columns with different data types, which comes down to a fundamental difference between pandas and NumPy: NumPy arrays have one dtype for the entire array, while pandas DataFrames have one dtype per column. When you call DataFrame.to_numpy(), pandas will find the NumPy dtype that can hold all of the dtypes in the DataFrame. This may end up being object, which requires casting every value to a Python object.\n",
    "\n",
    "For df, our DataFrame of all floating-point values, DataFrame.to_numpy() is fast and doesn’t require copying data."
   ]
  },
  {
   "cell_type": "code",
   "execution_count": 30,
   "metadata": {},
   "outputs": [
    {
     "data": {
      "text/plain": [
       "array([[ 0.83389917, -0.87251468, -0.81378766, -1.6458748 ],\n",
       "       [ 0.27767573, -1.33165625, -0.96713267, -1.80625741],\n",
       "       [-0.24538906,  0.69368089, -0.07111971, -0.57137717],\n",
       "       [-2.77854   ,  0.45508876, -0.45579703, -1.22705546],\n",
       "       [-0.42142262,  1.60185612, -0.3629862 ,  1.22334232],\n",
       "       [-0.26950886,  0.8210513 , -0.58898833, -1.80080829]])"
      ]
     },
     "execution_count": 30,
     "metadata": {},
     "output_type": "execute_result"
    }
   ],
   "source": [
    "df.to_numpy()"
   ]
  },
  {
   "cell_type": "code",
   "execution_count": 32,
   "metadata": {},
   "outputs": [
    {
     "data": {
      "text/plain": [
       "array([[1.0, Timestamp('2021-01-13 00:00:00'), 1.0, 3, 'test', 'foo'],\n",
       "       [1.0, Timestamp('2021-01-13 00:00:00'), 1.0, 3, 'train', 'foo'],\n",
       "       [1.0, Timestamp('2021-01-13 00:00:00'), 1.0, 3, 'test', 'foo'],\n",
       "       [1.0, Timestamp('2021-01-13 00:00:00'), 1.0, 3, 'train', 'foo']],\n",
       "      dtype=object)"
      ]
     },
     "execution_count": 32,
     "metadata": {},
     "output_type": "execute_result"
    }
   ],
   "source": [
    "df2.to_numpy()\n",
    "\n",
    "# 위의 두개는 정말 모르겠다. 근데 대충 데이터프레임을 넘피의 배열구조로 전환하는 함수인것 같다. \n",
    "\n",
    "## 데이터프레임 . to_numpy() 메소드는 인덱스나 컬럼 레이블을 포함하지 않고, 값만을 가져온다. "
   ]
  },
  {
   "cell_type": "code",
   "execution_count": 33,
   "metadata": {},
   "outputs": [
    {
     "data": {
      "text/html": [
       "<div>\n",
       "<style scoped>\n",
       "    .dataframe tbody tr th:only-of-type {\n",
       "        vertical-align: middle;\n",
       "    }\n",
       "\n",
       "    .dataframe tbody tr th {\n",
       "        vertical-align: top;\n",
       "    }\n",
       "\n",
       "    .dataframe thead th {\n",
       "        text-align: right;\n",
       "    }\n",
       "</style>\n",
       "<table border=\"1\" class=\"dataframe\">\n",
       "  <thead>\n",
       "    <tr style=\"text-align: right;\">\n",
       "      <th></th>\n",
       "      <th>A</th>\n",
       "      <th>B</th>\n",
       "      <th>C</th>\n",
       "      <th>D</th>\n",
       "    </tr>\n",
       "  </thead>\n",
       "  <tbody>\n",
       "    <tr>\n",
       "      <th>count</th>\n",
       "      <td>6.000000</td>\n",
       "      <td>6.000000</td>\n",
       "      <td>6.000000</td>\n",
       "      <td>6.000000</td>\n",
       "    </tr>\n",
       "    <tr>\n",
       "      <th>mean</th>\n",
       "      <td>-0.433881</td>\n",
       "      <td>0.227918</td>\n",
       "      <td>-0.543302</td>\n",
       "      <td>-0.971338</td>\n",
       "    </tr>\n",
       "    <tr>\n",
       "      <th>std</th>\n",
       "      <td>1.238847</td>\n",
       "      <td>1.109169</td>\n",
       "      <td>0.321872</td>\n",
       "      <td>1.173209</td>\n",
       "    </tr>\n",
       "    <tr>\n",
       "      <th>min</th>\n",
       "      <td>-2.778540</td>\n",
       "      <td>-1.331656</td>\n",
       "      <td>-0.967133</td>\n",
       "      <td>-1.806257</td>\n",
       "    </tr>\n",
       "    <tr>\n",
       "      <th>25%</th>\n",
       "      <td>-0.383444</td>\n",
       "      <td>-0.540614</td>\n",
       "      <td>-0.757588</td>\n",
       "      <td>-1.762075</td>\n",
       "    </tr>\n",
       "    <tr>\n",
       "      <th>50%</th>\n",
       "      <td>-0.257449</td>\n",
       "      <td>0.574385</td>\n",
       "      <td>-0.522393</td>\n",
       "      <td>-1.436465</td>\n",
       "    </tr>\n",
       "    <tr>\n",
       "      <th>75%</th>\n",
       "      <td>0.146910</td>\n",
       "      <td>0.789209</td>\n",
       "      <td>-0.386189</td>\n",
       "      <td>-0.735297</td>\n",
       "    </tr>\n",
       "    <tr>\n",
       "      <th>max</th>\n",
       "      <td>0.833899</td>\n",
       "      <td>1.601856</td>\n",
       "      <td>-0.071120</td>\n",
       "      <td>1.223342</td>\n",
       "    </tr>\n",
       "  </tbody>\n",
       "</table>\n",
       "</div>"
      ],
      "text/plain": [
       "              A         B         C         D\n",
       "count  6.000000  6.000000  6.000000  6.000000\n",
       "mean  -0.433881  0.227918 -0.543302 -0.971338\n",
       "std    1.238847  1.109169  0.321872  1.173209\n",
       "min   -2.778540 -1.331656 -0.967133 -1.806257\n",
       "25%   -0.383444 -0.540614 -0.757588 -1.762075\n",
       "50%   -0.257449  0.574385 -0.522393 -1.436465\n",
       "75%    0.146910  0.789209 -0.386189 -0.735297\n",
       "max    0.833899  1.601856 -0.071120  1.223342"
      ]
     },
     "execution_count": 33,
     "metadata": {},
     "output_type": "execute_result"
    }
   ],
   "source": [
    "# .describe() 메소드는 데이터의 빠른 통계적 요약을 보여준다. \n",
    "\n",
    "df.describe()"
   ]
  },
  {
   "cell_type": "code",
   "execution_count": 34,
   "metadata": {},
   "outputs": [
    {
     "data": {
      "text/html": [
       "<div>\n",
       "<style scoped>\n",
       "    .dataframe tbody tr th:only-of-type {\n",
       "        vertical-align: middle;\n",
       "    }\n",
       "\n",
       "    .dataframe tbody tr th {\n",
       "        vertical-align: top;\n",
       "    }\n",
       "\n",
       "    .dataframe thead th {\n",
       "        text-align: right;\n",
       "    }\n",
       "</style>\n",
       "<table border=\"1\" class=\"dataframe\">\n",
       "  <thead>\n",
       "    <tr style=\"text-align: right;\">\n",
       "      <th></th>\n",
       "      <th>2020-01-13</th>\n",
       "      <th>2020-01-14</th>\n",
       "      <th>2020-01-15</th>\n",
       "      <th>2020-01-16</th>\n",
       "      <th>2020-01-17</th>\n",
       "      <th>2020-01-18</th>\n",
       "    </tr>\n",
       "  </thead>\n",
       "  <tbody>\n",
       "    <tr>\n",
       "      <th>A</th>\n",
       "      <td>0.833899</td>\n",
       "      <td>0.277676</td>\n",
       "      <td>-0.245389</td>\n",
       "      <td>-2.778540</td>\n",
       "      <td>-0.421423</td>\n",
       "      <td>-0.269509</td>\n",
       "    </tr>\n",
       "    <tr>\n",
       "      <th>B</th>\n",
       "      <td>-0.872515</td>\n",
       "      <td>-1.331656</td>\n",
       "      <td>0.693681</td>\n",
       "      <td>0.455089</td>\n",
       "      <td>1.601856</td>\n",
       "      <td>0.821051</td>\n",
       "    </tr>\n",
       "    <tr>\n",
       "      <th>C</th>\n",
       "      <td>-0.813788</td>\n",
       "      <td>-0.967133</td>\n",
       "      <td>-0.071120</td>\n",
       "      <td>-0.455797</td>\n",
       "      <td>-0.362986</td>\n",
       "      <td>-0.588988</td>\n",
       "    </tr>\n",
       "    <tr>\n",
       "      <th>D</th>\n",
       "      <td>-1.645875</td>\n",
       "      <td>-1.806257</td>\n",
       "      <td>-0.571377</td>\n",
       "      <td>-1.227055</td>\n",
       "      <td>1.223342</td>\n",
       "      <td>-1.800808</td>\n",
       "    </tr>\n",
       "  </tbody>\n",
       "</table>\n",
       "</div>"
      ],
      "text/plain": [
       "   2020-01-13  2020-01-14  2020-01-15  2020-01-16  2020-01-17  2020-01-18\n",
       "A    0.833899    0.277676   -0.245389   -2.778540   -0.421423   -0.269509\n",
       "B   -0.872515   -1.331656    0.693681    0.455089    1.601856    0.821051\n",
       "C   -0.813788   -0.967133   -0.071120   -0.455797   -0.362986   -0.588988\n",
       "D   -1.645875   -1.806257   -0.571377   -1.227055    1.223342   -1.800808"
      ]
     },
     "execution_count": 34,
     "metadata": {},
     "output_type": "execute_result"
    }
   ],
   "source": [
    "# Transing data \n",
    "# 데이터의 트렌스포즈 형태 구하기 (행과 열을 뒤집으셔따...!)\n",
    "df.T"
   ]
  },
  {
   "cell_type": "code",
   "execution_count": 37,
   "metadata": {},
   "outputs": [
    {
     "data": {
      "text/html": [
       "<div>\n",
       "<style scoped>\n",
       "    .dataframe tbody tr th:only-of-type {\n",
       "        vertical-align: middle;\n",
       "    }\n",
       "\n",
       "    .dataframe tbody tr th {\n",
       "        vertical-align: top;\n",
       "    }\n",
       "\n",
       "    .dataframe thead th {\n",
       "        text-align: right;\n",
       "    }\n",
       "</style>\n",
       "<table border=\"1\" class=\"dataframe\">\n",
       "  <thead>\n",
       "    <tr style=\"text-align: right;\">\n",
       "      <th></th>\n",
       "      <th>D</th>\n",
       "      <th>C</th>\n",
       "      <th>B</th>\n",
       "      <th>A</th>\n",
       "    </tr>\n",
       "  </thead>\n",
       "  <tbody>\n",
       "    <tr>\n",
       "      <th>2020-01-13</th>\n",
       "      <td>-1.645875</td>\n",
       "      <td>-0.813788</td>\n",
       "      <td>-0.872515</td>\n",
       "      <td>0.833899</td>\n",
       "    </tr>\n",
       "    <tr>\n",
       "      <th>2020-01-14</th>\n",
       "      <td>-1.806257</td>\n",
       "      <td>-0.967133</td>\n",
       "      <td>-1.331656</td>\n",
       "      <td>0.277676</td>\n",
       "    </tr>\n",
       "    <tr>\n",
       "      <th>2020-01-15</th>\n",
       "      <td>-0.571377</td>\n",
       "      <td>-0.071120</td>\n",
       "      <td>0.693681</td>\n",
       "      <td>-0.245389</td>\n",
       "    </tr>\n",
       "    <tr>\n",
       "      <th>2020-01-16</th>\n",
       "      <td>-1.227055</td>\n",
       "      <td>-0.455797</td>\n",
       "      <td>0.455089</td>\n",
       "      <td>-2.778540</td>\n",
       "    </tr>\n",
       "    <tr>\n",
       "      <th>2020-01-17</th>\n",
       "      <td>1.223342</td>\n",
       "      <td>-0.362986</td>\n",
       "      <td>1.601856</td>\n",
       "      <td>-0.421423</td>\n",
       "    </tr>\n",
       "    <tr>\n",
       "      <th>2020-01-18</th>\n",
       "      <td>-1.800808</td>\n",
       "      <td>-0.588988</td>\n",
       "      <td>0.821051</td>\n",
       "      <td>-0.269509</td>\n",
       "    </tr>\n",
       "  </tbody>\n",
       "</table>\n",
       "</div>"
      ],
      "text/plain": [
       "                   D         C         B         A\n",
       "2020-01-13 -1.645875 -0.813788 -0.872515  0.833899\n",
       "2020-01-14 -1.806257 -0.967133 -1.331656  0.277676\n",
       "2020-01-15 -0.571377 -0.071120  0.693681 -0.245389\n",
       "2020-01-16 -1.227055 -0.455797  0.455089 -2.778540\n",
       "2020-01-17  1.223342 -0.362986  1.601856 -0.421423\n",
       "2020-01-18 -1.800808 -0.588988  0.821051 -0.269509"
      ]
     },
     "execution_count": 37,
     "metadata": {},
     "output_type": "execute_result"
    }
   ],
   "source": [
    "# sorting by an axis \n",
    "# 하나의 축을 기준으로 정렬하기 \n",
    "\n",
    "# axis = 0 은 행 =1 은 열 ! \n",
    "df.sort_index(axis=1, ascending = False ) \n",
    "# 여기서 ascending은 오름차순을 이야기함 --> False를 지정함으로서 내림차순 정렬 \n"
   ]
  },
  {
   "cell_type": "code",
   "execution_count": 38,
   "metadata": {},
   "outputs": [
    {
     "data": {
      "text/html": [
       "<div>\n",
       "<style scoped>\n",
       "    .dataframe tbody tr th:only-of-type {\n",
       "        vertical-align: middle;\n",
       "    }\n",
       "\n",
       "    .dataframe tbody tr th {\n",
       "        vertical-align: top;\n",
       "    }\n",
       "\n",
       "    .dataframe thead th {\n",
       "        text-align: right;\n",
       "    }\n",
       "</style>\n",
       "<table border=\"1\" class=\"dataframe\">\n",
       "  <thead>\n",
       "    <tr style=\"text-align: right;\">\n",
       "      <th></th>\n",
       "      <th>A</th>\n",
       "      <th>B</th>\n",
       "      <th>C</th>\n",
       "      <th>D</th>\n",
       "    </tr>\n",
       "  </thead>\n",
       "  <tbody>\n",
       "    <tr>\n",
       "      <th>2020-01-14</th>\n",
       "      <td>0.277676</td>\n",
       "      <td>-1.331656</td>\n",
       "      <td>-0.967133</td>\n",
       "      <td>-1.806257</td>\n",
       "    </tr>\n",
       "    <tr>\n",
       "      <th>2020-01-13</th>\n",
       "      <td>0.833899</td>\n",
       "      <td>-0.872515</td>\n",
       "      <td>-0.813788</td>\n",
       "      <td>-1.645875</td>\n",
       "    </tr>\n",
       "    <tr>\n",
       "      <th>2020-01-16</th>\n",
       "      <td>-2.778540</td>\n",
       "      <td>0.455089</td>\n",
       "      <td>-0.455797</td>\n",
       "      <td>-1.227055</td>\n",
       "    </tr>\n",
       "    <tr>\n",
       "      <th>2020-01-15</th>\n",
       "      <td>-0.245389</td>\n",
       "      <td>0.693681</td>\n",
       "      <td>-0.071120</td>\n",
       "      <td>-0.571377</td>\n",
       "    </tr>\n",
       "    <tr>\n",
       "      <th>2020-01-18</th>\n",
       "      <td>-0.269509</td>\n",
       "      <td>0.821051</td>\n",
       "      <td>-0.588988</td>\n",
       "      <td>-1.800808</td>\n",
       "    </tr>\n",
       "    <tr>\n",
       "      <th>2020-01-17</th>\n",
       "      <td>-0.421423</td>\n",
       "      <td>1.601856</td>\n",
       "      <td>-0.362986</td>\n",
       "      <td>1.223342</td>\n",
       "    </tr>\n",
       "  </tbody>\n",
       "</table>\n",
       "</div>"
      ],
      "text/plain": [
       "                   A         B         C         D\n",
       "2020-01-14  0.277676 -1.331656 -0.967133 -1.806257\n",
       "2020-01-13  0.833899 -0.872515 -0.813788 -1.645875\n",
       "2020-01-16 -2.778540  0.455089 -0.455797 -1.227055\n",
       "2020-01-15 -0.245389  0.693681 -0.071120 -0.571377\n",
       "2020-01-18 -0.269509  0.821051 -0.588988 -1.800808\n",
       "2020-01-17 -0.421423  1.601856 -0.362986  1.223342"
      ]
     },
     "execution_count": 38,
     "metadata": {},
     "output_type": "execute_result"
    }
   ],
   "source": [
    "# 값을 기준으로 정렬하기 \n",
    "df.sort_values(by = 'B')\n",
    "\n",
    "# B내부의 값을 기준으로 소팅해준다. "
   ]
  },
  {
   "cell_type": "markdown",
   "metadata": {},
   "source": [
    "## Selection \n",
    "* getting \n",
    "* selection by lable \n",
    "* selection by position \n",
    "* Boolean indexing \n",
    "* setting \n"
   ]
  },
  {
   "cell_type": "markdown",
   "metadata": {},
   "source": [
    "### Getting \n",
    "\n",
    "* 특정 정보 가져오기 "
   ]
  },
  {
   "cell_type": "code",
   "execution_count": 40,
   "metadata": {},
   "outputs": [
    {
     "data": {
      "text/plain": [
       "2020-01-13    0.833899\n",
       "2020-01-14    0.277676\n",
       "2020-01-15   -0.245389\n",
       "2020-01-16   -2.778540\n",
       "2020-01-17   -0.421423\n",
       "2020-01-18   -0.269509\n",
       "Freq: D, Name: A, dtype: float64"
      ]
     },
     "execution_count": 40,
     "metadata": {},
     "output_type": "execute_result"
    }
   ],
   "source": [
    "# 하나의 열을 가져오기 --> 해당 결과는 series형 구조를 반환한다.. \n",
    "\n",
    "df[\"A\"] \n",
    "\n",
    "# 위의 코드의 결과는 df.A 의 결과와 동일하다. "
   ]
  },
  {
   "cell_type": "code",
   "execution_count": 42,
   "metadata": {},
   "outputs": [
    {
     "data": {
      "text/html": [
       "<div>\n",
       "<style scoped>\n",
       "    .dataframe tbody tr th:only-of-type {\n",
       "        vertical-align: middle;\n",
       "    }\n",
       "\n",
       "    .dataframe tbody tr th {\n",
       "        vertical-align: top;\n",
       "    }\n",
       "\n",
       "    .dataframe thead th {\n",
       "        text-align: right;\n",
       "    }\n",
       "</style>\n",
       "<table border=\"1\" class=\"dataframe\">\n",
       "  <thead>\n",
       "    <tr style=\"text-align: right;\">\n",
       "      <th></th>\n",
       "      <th>A</th>\n",
       "      <th>B</th>\n",
       "      <th>C</th>\n",
       "      <th>D</th>\n",
       "    </tr>\n",
       "  </thead>\n",
       "  <tbody>\n",
       "    <tr>\n",
       "      <th>2020-01-13</th>\n",
       "      <td>0.833899</td>\n",
       "      <td>-0.872515</td>\n",
       "      <td>-0.813788</td>\n",
       "      <td>-1.645875</td>\n",
       "    </tr>\n",
       "    <tr>\n",
       "      <th>2020-01-14</th>\n",
       "      <td>0.277676</td>\n",
       "      <td>-1.331656</td>\n",
       "      <td>-0.967133</td>\n",
       "      <td>-1.806257</td>\n",
       "    </tr>\n",
       "    <tr>\n",
       "      <th>2020-01-15</th>\n",
       "      <td>-0.245389</td>\n",
       "      <td>0.693681</td>\n",
       "      <td>-0.071120</td>\n",
       "      <td>-0.571377</td>\n",
       "    </tr>\n",
       "  </tbody>\n",
       "</table>\n",
       "</div>"
      ],
      "text/plain": [
       "                   A         B         C         D\n",
       "2020-01-13  0.833899 -0.872515 -0.813788 -1.645875\n",
       "2020-01-14  0.277676 -1.331656 -0.967133 -1.806257\n",
       "2020-01-15 -0.245389  0.693681 -0.071120 -0.571377"
      ]
     },
     "execution_count": 42,
     "metadata": {},
     "output_type": "execute_result"
    }
   ],
   "source": [
    "# [ ]을 통해 선택하면, 열을 슬라이싱 해준다. \n",
    "\n",
    "df[0:3]\n",
    "\n",
    "# 해당 명령은 df 에서 0 1 2 번째 행들을 따로 불러준다. "
   ]
  },
  {
   "cell_type": "markdown",
   "metadata": {},
   "source": [
    "### Selection by lable \n",
    "\n",
    "* 레이블을 이용하여 선택하기 "
   ]
  },
  {
   "cell_type": "code",
   "execution_count": 43,
   "metadata": {},
   "outputs": [
    {
     "data": {
      "text/plain": [
       "A    0.833899\n",
       "B   -0.872515\n",
       "C   -0.813788\n",
       "D   -1.645875\n",
       "Name: 2020-01-13 00:00:00, dtype: float64"
      ]
     },
     "execution_count": 43,
     "metadata": {},
     "output_type": "execute_result"
    }
   ],
   "source": [
    "# 레이블을 이용해 데이터의 단면(Cross section) 불러오기 \n",
    "df.loc[dates[0]]\n",
    "\n",
    "# 데이트를 기준으로 0번째 열들의 정보를 불러옴 "
   ]
  },
  {
   "cell_type": "code",
   "execution_count": 46,
   "metadata": {},
   "outputs": [
    {
     "data": {
      "text/html": [
       "<div>\n",
       "<style scoped>\n",
       "    .dataframe tbody tr th:only-of-type {\n",
       "        vertical-align: middle;\n",
       "    }\n",
       "\n",
       "    .dataframe tbody tr th {\n",
       "        vertical-align: top;\n",
       "    }\n",
       "\n",
       "    .dataframe thead th {\n",
       "        text-align: right;\n",
       "    }\n",
       "</style>\n",
       "<table border=\"1\" class=\"dataframe\">\n",
       "  <thead>\n",
       "    <tr style=\"text-align: right;\">\n",
       "      <th></th>\n",
       "      <th>A</th>\n",
       "      <th>B</th>\n",
       "    </tr>\n",
       "  </thead>\n",
       "  <tbody>\n",
       "    <tr>\n",
       "      <th>2020-01-13</th>\n",
       "      <td>0.833899</td>\n",
       "      <td>-0.872515</td>\n",
       "    </tr>\n",
       "    <tr>\n",
       "      <th>2020-01-14</th>\n",
       "      <td>0.277676</td>\n",
       "      <td>-1.331656</td>\n",
       "    </tr>\n",
       "    <tr>\n",
       "      <th>2020-01-15</th>\n",
       "      <td>-0.245389</td>\n",
       "      <td>0.693681</td>\n",
       "    </tr>\n",
       "    <tr>\n",
       "      <th>2020-01-16</th>\n",
       "      <td>-2.778540</td>\n",
       "      <td>0.455089</td>\n",
       "    </tr>\n",
       "    <tr>\n",
       "      <th>2020-01-17</th>\n",
       "      <td>-0.421423</td>\n",
       "      <td>1.601856</td>\n",
       "    </tr>\n",
       "    <tr>\n",
       "      <th>2020-01-18</th>\n",
       "      <td>-0.269509</td>\n",
       "      <td>0.821051</td>\n",
       "    </tr>\n",
       "  </tbody>\n",
       "</table>\n",
       "</div>"
      ],
      "text/plain": [
       "                   A         B\n",
       "2020-01-13  0.833899 -0.872515\n",
       "2020-01-14  0.277676 -1.331656\n",
       "2020-01-15 -0.245389  0.693681\n",
       "2020-01-16 -2.778540  0.455089\n",
       "2020-01-17 -0.421423  1.601856\n",
       "2020-01-18 -0.269509  0.821051"
      ]
     },
     "execution_count": 46,
     "metadata": {},
     "output_type": "execute_result"
    }
   ],
   "source": [
    "# 레이블로 다수의 축 선택하기 \n",
    "df.loc[:,[\"A\",\"B\"]]\n",
    "\n",
    "# 모든 열을 기준으로 (:), [\"A\",\"B\"] 두개의 열들 호출 "
   ]
  },
  {
   "cell_type": "code",
   "execution_count": 47,
   "metadata": {},
   "outputs": [
    {
     "data": {
      "text/html": [
       "<div>\n",
       "<style scoped>\n",
       "    .dataframe tbody tr th:only-of-type {\n",
       "        vertical-align: middle;\n",
       "    }\n",
       "\n",
       "    .dataframe tbody tr th {\n",
       "        vertical-align: top;\n",
       "    }\n",
       "\n",
       "    .dataframe thead th {\n",
       "        text-align: right;\n",
       "    }\n",
       "</style>\n",
       "<table border=\"1\" class=\"dataframe\">\n",
       "  <thead>\n",
       "    <tr style=\"text-align: right;\">\n",
       "      <th></th>\n",
       "      <th>A</th>\n",
       "      <th>B</th>\n",
       "    </tr>\n",
       "  </thead>\n",
       "  <tbody>\n",
       "    <tr>\n",
       "      <th>2020-01-13</th>\n",
       "      <td>0.833899</td>\n",
       "      <td>-0.872515</td>\n",
       "    </tr>\n",
       "    <tr>\n",
       "      <th>2020-01-14</th>\n",
       "      <td>0.277676</td>\n",
       "      <td>-1.331656</td>\n",
       "    </tr>\n",
       "    <tr>\n",
       "      <th>2020-01-15</th>\n",
       "      <td>-0.245389</td>\n",
       "      <td>0.693681</td>\n",
       "    </tr>\n",
       "    <tr>\n",
       "      <th>2020-01-16</th>\n",
       "      <td>-2.778540</td>\n",
       "      <td>0.455089</td>\n",
       "    </tr>\n",
       "  </tbody>\n",
       "</table>\n",
       "</div>"
      ],
      "text/plain": [
       "                   A         B\n",
       "2020-01-13  0.833899 -0.872515\n",
       "2020-01-14  0.277676 -1.331656\n",
       "2020-01-15 -0.245389  0.693681\n",
       "2020-01-16 -2.778540  0.455089"
      ]
     },
     "execution_count": 47,
     "metadata": {},
     "output_type": "execute_result"
    }
   ],
   "source": [
    "# 행과 열의 범위를 모두 지정하여 슬라이싱하기 \n",
    "df.loc['20200113':'20200116',[\"A\",\"B\"]]"
   ]
  },
  {
   "cell_type": "code",
   "execution_count": 48,
   "metadata": {},
   "outputs": [
    {
     "data": {
      "text/plain": [
       "A    0.833899\n",
       "B   -0.872515\n",
       "Name: 2020-01-13 00:00:00, dtype: float64"
      ]
     },
     "execution_count": 48,
     "metadata": {},
     "output_type": "execute_result"
    }
   ],
   "source": [
    "# 위의 예제코드에서 결과값의 차원 줄이기 \n",
    "df.loc['20200113',[\"A\",\"B\"]]"
   ]
  },
  {
   "cell_type": "code",
   "execution_count": 49,
   "metadata": {},
   "outputs": [
    {
     "data": {
      "text/plain": [
       "0.8338991735916195"
      ]
     },
     "execution_count": 49,
     "metadata": {},
     "output_type": "execute_result"
    }
   ],
   "source": [
    "# 한번더 줄여 이번에는 스칼라를 받아보자 \n",
    "df.loc[dates[0],\"A\"]"
   ]
  },
  {
   "cell_type": "code",
   "execution_count": 50,
   "metadata": {},
   "outputs": [
    {
     "data": {
      "text/plain": [
       "0.8338991735916195"
      ]
     },
     "execution_count": 50,
     "metadata": {},
     "output_type": "execute_result"
    }
   ],
   "source": [
    "# 바로 위의 코드를 좀더 빠르게 작성 \n",
    "df.at[dates[0],'A']"
   ]
  },
  {
   "cell_type": "markdown",
   "metadata": {},
   "source": [
    "### Selection by position \n",
    "* 위치를 활용하여 선택하기 "
   ]
  },
  {
   "cell_type": "code",
   "execution_count": 51,
   "metadata": {},
   "outputs": [
    {
     "data": {
      "text/plain": [
       "A   -2.778540\n",
       "B    0.455089\n",
       "C   -0.455797\n",
       "D   -1.227055\n",
       "Name: 2020-01-16 00:00:00, dtype: float64"
      ]
     },
     "execution_count": 51,
     "metadata": {},
     "output_type": "execute_result"
    }
   ],
   "source": [
    "# select via the position of rhe passed integer : \n",
    "# 전달된 정수의 위치를 통해 선택합니다,. \n",
    "df.iloc[3]\n",
    "\n",
    "# 4 번째에 위치한 열의 정보 를 가져옵니다. (0 1 2 \"3\")"
   ]
  },
  {
   "cell_type": "code",
   "execution_count": 52,
   "metadata": {},
   "outputs": [
    {
     "data": {
      "text/html": [
       "<div>\n",
       "<style scoped>\n",
       "    .dataframe tbody tr th:only-of-type {\n",
       "        vertical-align: middle;\n",
       "    }\n",
       "\n",
       "    .dataframe tbody tr th {\n",
       "        vertical-align: top;\n",
       "    }\n",
       "\n",
       "    .dataframe thead th {\n",
       "        text-align: right;\n",
       "    }\n",
       "</style>\n",
       "<table border=\"1\" class=\"dataframe\">\n",
       "  <thead>\n",
       "    <tr style=\"text-align: right;\">\n",
       "      <th></th>\n",
       "      <th>A</th>\n",
       "      <th>B</th>\n",
       "    </tr>\n",
       "  </thead>\n",
       "  <tbody>\n",
       "    <tr>\n",
       "      <th>2020-01-16</th>\n",
       "      <td>-2.778540</td>\n",
       "      <td>0.455089</td>\n",
       "    </tr>\n",
       "    <tr>\n",
       "      <th>2020-01-17</th>\n",
       "      <td>-0.421423</td>\n",
       "      <td>1.601856</td>\n",
       "    </tr>\n",
       "  </tbody>\n",
       "</table>\n",
       "</div>"
      ],
      "text/plain": [
       "                   A         B\n",
       "2020-01-16 -2.778540  0.455089\n",
       "2020-01-17 -0.421423  1.601856"
      ]
     },
     "execution_count": 52,
     "metadata": {},
     "output_type": "execute_result"
    }
   ],
   "source": [
    "# By integer slices, acting similar to numpy/python:\n",
    "# 파이썬의 넘피와 유사하게 정수 슬라이싱을 활용하여 정보를 가져올 수 있습니다. \n",
    "df.iloc[3:5,0:2]"
   ]
  },
  {
   "cell_type": "code",
   "execution_count": 53,
   "metadata": {},
   "outputs": [
    {
     "data": {
      "text/html": [
       "<div>\n",
       "<style scoped>\n",
       "    .dataframe tbody tr th:only-of-type {\n",
       "        vertical-align: middle;\n",
       "    }\n",
       "\n",
       "    .dataframe tbody tr th {\n",
       "        vertical-align: top;\n",
       "    }\n",
       "\n",
       "    .dataframe thead th {\n",
       "        text-align: right;\n",
       "    }\n",
       "</style>\n",
       "<table border=\"1\" class=\"dataframe\">\n",
       "  <thead>\n",
       "    <tr style=\"text-align: right;\">\n",
       "      <th></th>\n",
       "      <th>A</th>\n",
       "      <th>C</th>\n",
       "    </tr>\n",
       "  </thead>\n",
       "  <tbody>\n",
       "    <tr>\n",
       "      <th>2020-01-14</th>\n",
       "      <td>0.277676</td>\n",
       "      <td>-0.967133</td>\n",
       "    </tr>\n",
       "    <tr>\n",
       "      <th>2020-01-15</th>\n",
       "      <td>-0.245389</td>\n",
       "      <td>-0.071120</td>\n",
       "    </tr>\n",
       "    <tr>\n",
       "      <th>2020-01-17</th>\n",
       "      <td>-0.421423</td>\n",
       "      <td>-0.362986</td>\n",
       "    </tr>\n",
       "  </tbody>\n",
       "</table>\n",
       "</div>"
      ],
      "text/plain": [
       "                   A         C\n",
       "2020-01-14  0.277676 -0.967133\n",
       "2020-01-15 -0.245389 -0.071120\n",
       "2020-01-17 -0.421423 -0.362986"
      ]
     },
     "execution_count": 53,
     "metadata": {},
     "output_type": "execute_result"
    }
   ],
   "source": [
    "# 위치의 정보를 담고있는 배열을 인자로 주어 슬라이싱합니다. \n",
    "df.iloc[[1,2,4],[0,2]]"
   ]
  },
  {
   "cell_type": "code",
   "execution_count": 54,
   "metadata": {},
   "outputs": [
    {
     "data": {
      "text/html": [
       "<div>\n",
       "<style scoped>\n",
       "    .dataframe tbody tr th:only-of-type {\n",
       "        vertical-align: middle;\n",
       "    }\n",
       "\n",
       "    .dataframe tbody tr th {\n",
       "        vertical-align: top;\n",
       "    }\n",
       "\n",
       "    .dataframe thead th {\n",
       "        text-align: right;\n",
       "    }\n",
       "</style>\n",
       "<table border=\"1\" class=\"dataframe\">\n",
       "  <thead>\n",
       "    <tr style=\"text-align: right;\">\n",
       "      <th></th>\n",
       "      <th>A</th>\n",
       "      <th>B</th>\n",
       "      <th>C</th>\n",
       "      <th>D</th>\n",
       "    </tr>\n",
       "  </thead>\n",
       "  <tbody>\n",
       "    <tr>\n",
       "      <th>2020-01-14</th>\n",
       "      <td>0.277676</td>\n",
       "      <td>-1.331656</td>\n",
       "      <td>-0.967133</td>\n",
       "      <td>-1.806257</td>\n",
       "    </tr>\n",
       "    <tr>\n",
       "      <th>2020-01-15</th>\n",
       "      <td>-0.245389</td>\n",
       "      <td>0.693681</td>\n",
       "      <td>-0.071120</td>\n",
       "      <td>-0.571377</td>\n",
       "    </tr>\n",
       "  </tbody>\n",
       "</table>\n",
       "</div>"
      ],
      "text/plain": [
       "                   A         B         C         D\n",
       "2020-01-14  0.277676 -1.331656 -0.967133 -1.806257\n",
       "2020-01-15 -0.245389  0.693681 -0.071120 -0.571377"
      ]
     },
     "execution_count": 54,
     "metadata": {},
     "output_type": "execute_result"
    }
   ],
   "source": [
    "# 행을 명시적으로(?) 자르기 \n",
    "df.iloc[1:3,:]"
   ]
  },
  {
   "cell_type": "code",
   "execution_count": 55,
   "metadata": {},
   "outputs": [
    {
     "data": {
      "text/html": [
       "<div>\n",
       "<style scoped>\n",
       "    .dataframe tbody tr th:only-of-type {\n",
       "        vertical-align: middle;\n",
       "    }\n",
       "\n",
       "    .dataframe tbody tr th {\n",
       "        vertical-align: top;\n",
       "    }\n",
       "\n",
       "    .dataframe thead th {\n",
       "        text-align: right;\n",
       "    }\n",
       "</style>\n",
       "<table border=\"1\" class=\"dataframe\">\n",
       "  <thead>\n",
       "    <tr style=\"text-align: right;\">\n",
       "      <th></th>\n",
       "      <th>B</th>\n",
       "      <th>C</th>\n",
       "    </tr>\n",
       "  </thead>\n",
       "  <tbody>\n",
       "    <tr>\n",
       "      <th>2020-01-13</th>\n",
       "      <td>-0.872515</td>\n",
       "      <td>-0.813788</td>\n",
       "    </tr>\n",
       "    <tr>\n",
       "      <th>2020-01-14</th>\n",
       "      <td>-1.331656</td>\n",
       "      <td>-0.967133</td>\n",
       "    </tr>\n",
       "    <tr>\n",
       "      <th>2020-01-15</th>\n",
       "      <td>0.693681</td>\n",
       "      <td>-0.071120</td>\n",
       "    </tr>\n",
       "    <tr>\n",
       "      <th>2020-01-16</th>\n",
       "      <td>0.455089</td>\n",
       "      <td>-0.455797</td>\n",
       "    </tr>\n",
       "    <tr>\n",
       "      <th>2020-01-17</th>\n",
       "      <td>1.601856</td>\n",
       "      <td>-0.362986</td>\n",
       "    </tr>\n",
       "    <tr>\n",
       "      <th>2020-01-18</th>\n",
       "      <td>0.821051</td>\n",
       "      <td>-0.588988</td>\n",
       "    </tr>\n",
       "  </tbody>\n",
       "</table>\n",
       "</div>"
      ],
      "text/plain": [
       "                   B         C\n",
       "2020-01-13 -0.872515 -0.813788\n",
       "2020-01-14 -1.331656 -0.967133\n",
       "2020-01-15  0.693681 -0.071120\n",
       "2020-01-16  0.455089 -0.455797\n",
       "2020-01-17  1.601856 -0.362986\n",
       "2020-01-18  0.821051 -0.588988"
      ]
     },
     "execution_count": 55,
     "metadata": {},
     "output_type": "execute_result"
    }
   ],
   "source": [
    "# 열을 명시적으로 자르기 \n",
    "df.iloc[:,1:3]"
   ]
  },
  {
   "cell_type": "code",
   "execution_count": 56,
   "metadata": {},
   "outputs": [
    {
     "data": {
      "text/plain": [
       "-1.3316562451968224"
      ]
     },
     "execution_count": 56,
     "metadata": {},
     "output_type": "execute_result"
    }
   ],
   "source": [
    "# 명시적으로 특정 값만 받아오기 \n",
    "df.iloc[1,1]"
   ]
  },
  {
   "cell_type": "code",
   "execution_count": 58,
   "metadata": {},
   "outputs": [
    {
     "data": {
      "text/plain": [
       "-1.3316562451968224"
      ]
     },
     "execution_count": 58,
     "metadata": {},
     "output_type": "execute_result"
    }
   ],
   "source": [
    "# 위의 코드를 좀더 빠르게 \n",
    "df.iat[1,1]\n",
    "# i + at "
   ]
  },
  {
   "cell_type": "markdown",
   "metadata": {},
   "source": [
    "### Boolean indexing\n",
    "* 블리언타입을 활용하여 가져오기  \n",
    "  (보통, 조건을 걸어 --> 만족하는 정보만을 가져온다.) \n",
    " "
   ]
  },
  {
   "cell_type": "code",
   "execution_count": 60,
   "metadata": {},
   "outputs": [
    {
     "data": {
      "text/html": [
       "<div>\n",
       "<style scoped>\n",
       "    .dataframe tbody tr th:only-of-type {\n",
       "        vertical-align: middle;\n",
       "    }\n",
       "\n",
       "    .dataframe tbody tr th {\n",
       "        vertical-align: top;\n",
       "    }\n",
       "\n",
       "    .dataframe thead th {\n",
       "        text-align: right;\n",
       "    }\n",
       "</style>\n",
       "<table border=\"1\" class=\"dataframe\">\n",
       "  <thead>\n",
       "    <tr style=\"text-align: right;\">\n",
       "      <th></th>\n",
       "      <th>A</th>\n",
       "      <th>B</th>\n",
       "      <th>C</th>\n",
       "      <th>D</th>\n",
       "    </tr>\n",
       "  </thead>\n",
       "  <tbody>\n",
       "    <tr>\n",
       "      <th>2020-01-13</th>\n",
       "      <td>0.833899</td>\n",
       "      <td>-0.872515</td>\n",
       "      <td>-0.813788</td>\n",
       "      <td>-1.645875</td>\n",
       "    </tr>\n",
       "    <tr>\n",
       "      <th>2020-01-14</th>\n",
       "      <td>0.277676</td>\n",
       "      <td>-1.331656</td>\n",
       "      <td>-0.967133</td>\n",
       "      <td>-1.806257</td>\n",
       "    </tr>\n",
       "  </tbody>\n",
       "</table>\n",
       "</div>"
      ],
      "text/plain": [
       "                   A         B         C         D\n",
       "2020-01-13  0.833899 -0.872515 -0.813788 -1.645875\n",
       "2020-01-14  0.277676 -1.331656 -0.967133 -1.806257"
      ]
     },
     "execution_count": 60,
     "metadata": {},
     "output_type": "execute_result"
    }
   ],
   "source": [
    "# 하나의 컬럼 값을 활용하여 데이터 선택하기 \n",
    "df[df['A']>0]"
   ]
  },
  {
   "cell_type": "code",
   "execution_count": 63,
   "metadata": {},
   "outputs": [
    {
     "data": {
      "text/html": [
       "<div>\n",
       "<style scoped>\n",
       "    .dataframe tbody tr th:only-of-type {\n",
       "        vertical-align: middle;\n",
       "    }\n",
       "\n",
       "    .dataframe tbody tr th {\n",
       "        vertical-align: top;\n",
       "    }\n",
       "\n",
       "    .dataframe thead th {\n",
       "        text-align: right;\n",
       "    }\n",
       "</style>\n",
       "<table border=\"1\" class=\"dataframe\">\n",
       "  <thead>\n",
       "    <tr style=\"text-align: right;\">\n",
       "      <th></th>\n",
       "      <th>A</th>\n",
       "      <th>B</th>\n",
       "      <th>C</th>\n",
       "      <th>D</th>\n",
       "    </tr>\n",
       "  </thead>\n",
       "  <tbody>\n",
       "    <tr>\n",
       "      <th>2020-01-13</th>\n",
       "      <td>0.833899</td>\n",
       "      <td>NaN</td>\n",
       "      <td>NaN</td>\n",
       "      <td>NaN</td>\n",
       "    </tr>\n",
       "    <tr>\n",
       "      <th>2020-01-14</th>\n",
       "      <td>0.277676</td>\n",
       "      <td>NaN</td>\n",
       "      <td>NaN</td>\n",
       "      <td>NaN</td>\n",
       "    </tr>\n",
       "    <tr>\n",
       "      <th>2020-01-15</th>\n",
       "      <td>NaN</td>\n",
       "      <td>0.693681</td>\n",
       "      <td>NaN</td>\n",
       "      <td>NaN</td>\n",
       "    </tr>\n",
       "    <tr>\n",
       "      <th>2020-01-16</th>\n",
       "      <td>NaN</td>\n",
       "      <td>0.455089</td>\n",
       "      <td>NaN</td>\n",
       "      <td>NaN</td>\n",
       "    </tr>\n",
       "    <tr>\n",
       "      <th>2020-01-17</th>\n",
       "      <td>NaN</td>\n",
       "      <td>1.601856</td>\n",
       "      <td>NaN</td>\n",
       "      <td>1.223342</td>\n",
       "    </tr>\n",
       "    <tr>\n",
       "      <th>2020-01-18</th>\n",
       "      <td>NaN</td>\n",
       "      <td>0.821051</td>\n",
       "      <td>NaN</td>\n",
       "      <td>NaN</td>\n",
       "    </tr>\n",
       "  </tbody>\n",
       "</table>\n",
       "</div>"
      ],
      "text/plain": [
       "                   A         B   C         D\n",
       "2020-01-13  0.833899       NaN NaN       NaN\n",
       "2020-01-14  0.277676       NaN NaN       NaN\n",
       "2020-01-15       NaN  0.693681 NaN       NaN\n",
       "2020-01-16       NaN  0.455089 NaN       NaN\n",
       "2020-01-17       NaN  1.601856 NaN  1.223342\n",
       "2020-01-18       NaN  0.821051 NaN       NaN"
      ]
     },
     "execution_count": 63,
     "metadata": {},
     "output_type": "execute_result"
    }
   ],
   "source": [
    "# 데이터 프레임 전체에서 특정 조건을 만족하는 값들만 가져오기 \n",
    "df[df > 0 ]  \n",
    "\n",
    "# 조건을 만족하지 않으면, 결측치가 된다. "
   ]
  },
  {
   "cell_type": "code",
   "execution_count": 67,
   "metadata": {},
   "outputs": [
    {
     "data": {
      "text/html": [
       "<div>\n",
       "<style scoped>\n",
       "    .dataframe tbody tr th:only-of-type {\n",
       "        vertical-align: middle;\n",
       "    }\n",
       "\n",
       "    .dataframe tbody tr th {\n",
       "        vertical-align: top;\n",
       "    }\n",
       "\n",
       "    .dataframe thead th {\n",
       "        text-align: right;\n",
       "    }\n",
       "</style>\n",
       "<table border=\"1\" class=\"dataframe\">\n",
       "  <thead>\n",
       "    <tr style=\"text-align: right;\">\n",
       "      <th></th>\n",
       "      <th>A</th>\n",
       "      <th>B</th>\n",
       "      <th>C</th>\n",
       "      <th>D</th>\n",
       "      <th>E</th>\n",
       "    </tr>\n",
       "  </thead>\n",
       "  <tbody>\n",
       "    <tr>\n",
       "      <th>2020-01-15</th>\n",
       "      <td>-0.245389</td>\n",
       "      <td>0.693681</td>\n",
       "      <td>-0.071120</td>\n",
       "      <td>-0.571377</td>\n",
       "      <td>two</td>\n",
       "    </tr>\n",
       "    <tr>\n",
       "      <th>2020-01-17</th>\n",
       "      <td>-0.421423</td>\n",
       "      <td>1.601856</td>\n",
       "      <td>-0.362986</td>\n",
       "      <td>1.223342</td>\n",
       "      <td>four</td>\n",
       "    </tr>\n",
       "  </tbody>\n",
       "</table>\n",
       "</div>"
      ],
      "text/plain": [
       "                   A         B         C         D     E\n",
       "2020-01-15 -0.245389  0.693681 -0.071120 -0.571377   two\n",
       "2020-01-17 -0.421423  1.601856 -0.362986  1.223342  four"
      ]
     },
     "execution_count": 67,
     "metadata": {},
     "output_type": "execute_result"
    }
   ],
   "source": [
    "# 필터링을 위해 isin() 메소드 활용하기 \n",
    "\n",
    "# 우선 활용을 위해 환경조성하기 \n",
    "df2 = df.copy() # df를 복제하여 df2 생성 \n",
    "df2\n",
    "df2[\"E\"] = [\"one\",\"one\",\"two\",\"three\",\"four\",\"three\"] # E열을 새로 생성함 \n",
    "df2\n",
    "\n",
    "## isin() 메소드는 다음과 같이 활용된다. \n",
    "df2[df2[\"E\"].isin(['two','four'])] # df의 행들 중, df2의 E열에 two 혹은 four을 포함하는 열을 가져온다.  \n"
   ]
  },
  {
   "cell_type": "markdown",
   "metadata": {},
   "source": [
    "### Setting\n",
    "*새로운 열 설정(추가)하기\n"
   ]
  },
  {
   "cell_type": "code",
   "execution_count": 78,
   "metadata": {},
   "outputs": [
    {
     "data": {
      "text/plain": [
       "2020-01-13    1\n",
       "2020-01-14    2\n",
       "2020-01-15    3\n",
       "2020-01-16    4\n",
       "2020-01-17    5\n",
       "2020-01-18    6\n",
       "Freq: D, dtype: int64"
      ]
     },
     "execution_count": 78,
     "metadata": {},
     "output_type": "execute_result"
    }
   ],
   "source": [
    "#Setting a new column automatically aligns the data by the indexes.</br> : 새로운 열을 설정하면 인덱스별로 데이터가 자동 정렬됩니다. \n",
    "# 새 열을 설정하면 인덱스별로 데이터가 자동으로 정렬됩니다.\n",
    "\n",
    "s1 = pd.Series([1,2,3,4,5,6],index = pd.date_range('20200113',periods = 6))\n",
    "s1\n"
   ]
  },
  {
   "cell_type": "code",
   "execution_count": 79,
   "metadata": {},
   "outputs": [
    {
     "data": {
      "text/html": [
       "<div>\n",
       "<style scoped>\n",
       "    .dataframe tbody tr th:only-of-type {\n",
       "        vertical-align: middle;\n",
       "    }\n",
       "\n",
       "    .dataframe tbody tr th {\n",
       "        vertical-align: top;\n",
       "    }\n",
       "\n",
       "    .dataframe thead th {\n",
       "        text-align: right;\n",
       "    }\n",
       "</style>\n",
       "<table border=\"1\" class=\"dataframe\">\n",
       "  <thead>\n",
       "    <tr style=\"text-align: right;\">\n",
       "      <th></th>\n",
       "      <th>A</th>\n",
       "      <th>B</th>\n",
       "      <th>C</th>\n",
       "      <th>D</th>\n",
       "      <th>E</th>\n",
       "      <th>F</th>\n",
       "    </tr>\n",
       "  </thead>\n",
       "  <tbody>\n",
       "    <tr>\n",
       "      <th>2020-01-13</th>\n",
       "      <td>0.833899</td>\n",
       "      <td>-0.872515</td>\n",
       "      <td>-0.813788</td>\n",
       "      <td>-1.645875</td>\n",
       "      <td>one</td>\n",
       "      <td>1</td>\n",
       "    </tr>\n",
       "    <tr>\n",
       "      <th>2020-01-14</th>\n",
       "      <td>0.277676</td>\n",
       "      <td>-1.331656</td>\n",
       "      <td>-0.967133</td>\n",
       "      <td>-1.806257</td>\n",
       "      <td>one</td>\n",
       "      <td>2</td>\n",
       "    </tr>\n",
       "    <tr>\n",
       "      <th>2020-01-15</th>\n",
       "      <td>-0.245389</td>\n",
       "      <td>0.693681</td>\n",
       "      <td>-0.071120</td>\n",
       "      <td>-0.571377</td>\n",
       "      <td>two</td>\n",
       "      <td>3</td>\n",
       "    </tr>\n",
       "    <tr>\n",
       "      <th>2020-01-16</th>\n",
       "      <td>-2.778540</td>\n",
       "      <td>0.455089</td>\n",
       "      <td>-0.455797</td>\n",
       "      <td>-1.227055</td>\n",
       "      <td>three</td>\n",
       "      <td>4</td>\n",
       "    </tr>\n",
       "    <tr>\n",
       "      <th>2020-01-17</th>\n",
       "      <td>-0.421423</td>\n",
       "      <td>1.601856</td>\n",
       "      <td>-0.362986</td>\n",
       "      <td>1.223342</td>\n",
       "      <td>four</td>\n",
       "      <td>5</td>\n",
       "    </tr>\n",
       "    <tr>\n",
       "      <th>2020-01-18</th>\n",
       "      <td>-0.269509</td>\n",
       "      <td>0.821051</td>\n",
       "      <td>-0.588988</td>\n",
       "      <td>-1.800808</td>\n",
       "      <td>three</td>\n",
       "      <td>6</td>\n",
       "    </tr>\n",
       "  </tbody>\n",
       "</table>\n",
       "</div>"
      ],
      "text/plain": [
       "                   A         B         C         D      E  F\n",
       "2020-01-13  0.833899 -0.872515 -0.813788 -1.645875    one  1\n",
       "2020-01-14  0.277676 -1.331656 -0.967133 -1.806257    one  2\n",
       "2020-01-15 -0.245389  0.693681 -0.071120 -0.571377    two  3\n",
       "2020-01-16 -2.778540  0.455089 -0.455797 -1.227055  three  4\n",
       "2020-01-17 -0.421423  1.601856 -0.362986  1.223342   four  5\n",
       "2020-01-18 -0.269509  0.821051 -0.588988 -1.800808  three  6"
      ]
     },
     "execution_count": 79,
     "metadata": {},
     "output_type": "execute_result"
    }
   ],
   "source": [
    "df2['F'] = s1\n",
    "df2"
   ]
  },
  {
   "cell_type": "code",
   "execution_count": 81,
   "metadata": {},
   "outputs": [
    {
     "data": {
      "text/html": [
       "<div>\n",
       "<style scoped>\n",
       "    .dataframe tbody tr th:only-of-type {\n",
       "        vertical-align: middle;\n",
       "    }\n",
       "\n",
       "    .dataframe tbody tr th {\n",
       "        vertical-align: top;\n",
       "    }\n",
       "\n",
       "    .dataframe thead th {\n",
       "        text-align: right;\n",
       "    }\n",
       "</style>\n",
       "<table border=\"1\" class=\"dataframe\">\n",
       "  <thead>\n",
       "    <tr style=\"text-align: right;\">\n",
       "      <th></th>\n",
       "      <th>A</th>\n",
       "      <th>B</th>\n",
       "      <th>C</th>\n",
       "      <th>D</th>\n",
       "      <th>E</th>\n",
       "      <th>F</th>\n",
       "    </tr>\n",
       "  </thead>\n",
       "  <tbody>\n",
       "    <tr>\n",
       "      <th>2020-01-13</th>\n",
       "      <td>0.000000</td>\n",
       "      <td>-0.872515</td>\n",
       "      <td>-0.813788</td>\n",
       "      <td>-1.645875</td>\n",
       "      <td>one</td>\n",
       "      <td>1</td>\n",
       "    </tr>\n",
       "    <tr>\n",
       "      <th>2020-01-14</th>\n",
       "      <td>0.277676</td>\n",
       "      <td>-1.331656</td>\n",
       "      <td>-0.967133</td>\n",
       "      <td>-1.806257</td>\n",
       "      <td>one</td>\n",
       "      <td>2</td>\n",
       "    </tr>\n",
       "    <tr>\n",
       "      <th>2020-01-15</th>\n",
       "      <td>-0.245389</td>\n",
       "      <td>0.693681</td>\n",
       "      <td>-0.071120</td>\n",
       "      <td>-0.571377</td>\n",
       "      <td>two</td>\n",
       "      <td>3</td>\n",
       "    </tr>\n",
       "    <tr>\n",
       "      <th>2020-01-16</th>\n",
       "      <td>-2.778540</td>\n",
       "      <td>0.455089</td>\n",
       "      <td>-0.455797</td>\n",
       "      <td>-1.227055</td>\n",
       "      <td>three</td>\n",
       "      <td>4</td>\n",
       "    </tr>\n",
       "    <tr>\n",
       "      <th>2020-01-17</th>\n",
       "      <td>-0.421423</td>\n",
       "      <td>1.601856</td>\n",
       "      <td>-0.362986</td>\n",
       "      <td>1.223342</td>\n",
       "      <td>four</td>\n",
       "      <td>5</td>\n",
       "    </tr>\n",
       "    <tr>\n",
       "      <th>2020-01-18</th>\n",
       "      <td>-0.269509</td>\n",
       "      <td>0.821051</td>\n",
       "      <td>-0.588988</td>\n",
       "      <td>-1.800808</td>\n",
       "      <td>three</td>\n",
       "      <td>6</td>\n",
       "    </tr>\n",
       "  </tbody>\n",
       "</table>\n",
       "</div>"
      ],
      "text/plain": [
       "                   A         B         C         D      E  F\n",
       "2020-01-13  0.000000 -0.872515 -0.813788 -1.645875    one  1\n",
       "2020-01-14  0.277676 -1.331656 -0.967133 -1.806257    one  2\n",
       "2020-01-15 -0.245389  0.693681 -0.071120 -0.571377    two  3\n",
       "2020-01-16 -2.778540  0.455089 -0.455797 -1.227055  three  4\n",
       "2020-01-17 -0.421423  1.601856 -0.362986  1.223342   four  5\n",
       "2020-01-18 -0.269509  0.821051 -0.588988 -1.800808  three  6"
      ]
     },
     "execution_count": 81,
     "metadata": {},
     "output_type": "execute_result"
    }
   ],
   "source": [
    "# 레이블을 활용하여 값 설정하기 \n",
    "df2.at[dates[0],'A'] = 0  #첫번째 일자의 A열 값을 0으로 수정  \n",
    "df2"
   ]
  },
  {
   "cell_type": "code",
   "execution_count": 83,
   "metadata": {},
   "outputs": [
    {
     "data": {
      "text/html": [
       "<div>\n",
       "<style scoped>\n",
       "    .dataframe tbody tr th:only-of-type {\n",
       "        vertical-align: middle;\n",
       "    }\n",
       "\n",
       "    .dataframe tbody tr th {\n",
       "        vertical-align: top;\n",
       "    }\n",
       "\n",
       "    .dataframe thead th {\n",
       "        text-align: right;\n",
       "    }\n",
       "</style>\n",
       "<table border=\"1\" class=\"dataframe\">\n",
       "  <thead>\n",
       "    <tr style=\"text-align: right;\">\n",
       "      <th></th>\n",
       "      <th>A</th>\n",
       "      <th>B</th>\n",
       "      <th>C</th>\n",
       "      <th>D</th>\n",
       "      <th>E</th>\n",
       "      <th>F</th>\n",
       "    </tr>\n",
       "  </thead>\n",
       "  <tbody>\n",
       "    <tr>\n",
       "      <th>2020-01-13</th>\n",
       "      <td>0.000000</td>\n",
       "      <td>1.000000</td>\n",
       "      <td>-0.813788</td>\n",
       "      <td>-1.645875</td>\n",
       "      <td>one</td>\n",
       "      <td>1</td>\n",
       "    </tr>\n",
       "    <tr>\n",
       "      <th>2020-01-14</th>\n",
       "      <td>0.277676</td>\n",
       "      <td>-1.331656</td>\n",
       "      <td>-0.967133</td>\n",
       "      <td>-1.806257</td>\n",
       "      <td>one</td>\n",
       "      <td>2</td>\n",
       "    </tr>\n",
       "    <tr>\n",
       "      <th>2020-01-15</th>\n",
       "      <td>-0.245389</td>\n",
       "      <td>0.693681</td>\n",
       "      <td>-0.071120</td>\n",
       "      <td>-0.571377</td>\n",
       "      <td>two</td>\n",
       "      <td>3</td>\n",
       "    </tr>\n",
       "    <tr>\n",
       "      <th>2020-01-16</th>\n",
       "      <td>-2.778540</td>\n",
       "      <td>0.455089</td>\n",
       "      <td>-0.455797</td>\n",
       "      <td>-1.227055</td>\n",
       "      <td>three</td>\n",
       "      <td>4</td>\n",
       "    </tr>\n",
       "    <tr>\n",
       "      <th>2020-01-17</th>\n",
       "      <td>-0.421423</td>\n",
       "      <td>1.601856</td>\n",
       "      <td>-0.362986</td>\n",
       "      <td>1.223342</td>\n",
       "      <td>four</td>\n",
       "      <td>5</td>\n",
       "    </tr>\n",
       "    <tr>\n",
       "      <th>2020-01-18</th>\n",
       "      <td>-0.269509</td>\n",
       "      <td>0.821051</td>\n",
       "      <td>-0.588988</td>\n",
       "      <td>-1.800808</td>\n",
       "      <td>three</td>\n",
       "      <td>6</td>\n",
       "    </tr>\n",
       "  </tbody>\n",
       "</table>\n",
       "</div>"
      ],
      "text/plain": [
       "                   A         B         C         D      E  F\n",
       "2020-01-13  0.000000  1.000000 -0.813788 -1.645875    one  1\n",
       "2020-01-14  0.277676 -1.331656 -0.967133 -1.806257    one  2\n",
       "2020-01-15 -0.245389  0.693681 -0.071120 -0.571377    two  3\n",
       "2020-01-16 -2.778540  0.455089 -0.455797 -1.227055  three  4\n",
       "2020-01-17 -0.421423  1.601856 -0.362986  1.223342   four  5\n",
       "2020-01-18 -0.269509  0.821051 -0.588988 -1.800808  three  6"
      ]
     },
     "execution_count": 83,
     "metadata": {},
     "output_type": "execute_result"
    }
   ],
   "source": [
    "# 위치를 이용하여 값 설정\n",
    "df2.iat[0,1] = 1\n",
    "df2\n"
   ]
  },
  {
   "cell_type": "code",
   "execution_count": 85,
   "metadata": {},
   "outputs": [
    {
     "data": {
      "text/html": [
       "<div>\n",
       "<style scoped>\n",
       "    .dataframe tbody tr th:only-of-type {\n",
       "        vertical-align: middle;\n",
       "    }\n",
       "\n",
       "    .dataframe tbody tr th {\n",
       "        vertical-align: top;\n",
       "    }\n",
       "\n",
       "    .dataframe thead th {\n",
       "        text-align: right;\n",
       "    }\n",
       "</style>\n",
       "<table border=\"1\" class=\"dataframe\">\n",
       "  <thead>\n",
       "    <tr style=\"text-align: right;\">\n",
       "      <th></th>\n",
       "      <th>A</th>\n",
       "      <th>B</th>\n",
       "      <th>C</th>\n",
       "      <th>D</th>\n",
       "      <th>E</th>\n",
       "      <th>F</th>\n",
       "    </tr>\n",
       "  </thead>\n",
       "  <tbody>\n",
       "    <tr>\n",
       "      <th>2020-01-13</th>\n",
       "      <td>0.000000</td>\n",
       "      <td>1.000000</td>\n",
       "      <td>-0.813788</td>\n",
       "      <td>5</td>\n",
       "      <td>one</td>\n",
       "      <td>1</td>\n",
       "    </tr>\n",
       "    <tr>\n",
       "      <th>2020-01-14</th>\n",
       "      <td>0.277676</td>\n",
       "      <td>-1.331656</td>\n",
       "      <td>-0.967133</td>\n",
       "      <td>5</td>\n",
       "      <td>one</td>\n",
       "      <td>2</td>\n",
       "    </tr>\n",
       "    <tr>\n",
       "      <th>2020-01-15</th>\n",
       "      <td>-0.245389</td>\n",
       "      <td>0.693681</td>\n",
       "      <td>-0.071120</td>\n",
       "      <td>5</td>\n",
       "      <td>two</td>\n",
       "      <td>3</td>\n",
       "    </tr>\n",
       "    <tr>\n",
       "      <th>2020-01-16</th>\n",
       "      <td>-2.778540</td>\n",
       "      <td>0.455089</td>\n",
       "      <td>-0.455797</td>\n",
       "      <td>5</td>\n",
       "      <td>three</td>\n",
       "      <td>4</td>\n",
       "    </tr>\n",
       "    <tr>\n",
       "      <th>2020-01-17</th>\n",
       "      <td>-0.421423</td>\n",
       "      <td>1.601856</td>\n",
       "      <td>-0.362986</td>\n",
       "      <td>5</td>\n",
       "      <td>four</td>\n",
       "      <td>5</td>\n",
       "    </tr>\n",
       "    <tr>\n",
       "      <th>2020-01-18</th>\n",
       "      <td>-0.269509</td>\n",
       "      <td>0.821051</td>\n",
       "      <td>-0.588988</td>\n",
       "      <td>5</td>\n",
       "      <td>three</td>\n",
       "      <td>6</td>\n",
       "    </tr>\n",
       "  </tbody>\n",
       "</table>\n",
       "</div>"
      ],
      "text/plain": [
       "                   A         B         C  D      E  F\n",
       "2020-01-13  0.000000  1.000000 -0.813788  5    one  1\n",
       "2020-01-14  0.277676 -1.331656 -0.967133  5    one  2\n",
       "2020-01-15 -0.245389  0.693681 -0.071120  5    two  3\n",
       "2020-01-16 -2.778540  0.455089 -0.455797  5  three  4\n",
       "2020-01-17 -0.421423  1.601856 -0.362986  5   four  5\n",
       "2020-01-18 -0.269509  0.821051 -0.588988  5  three  6"
      ]
     },
     "execution_count": 85,
     "metadata": {},
     "output_type": "execute_result"
    }
   ],
   "source": [
    "# NumPy의 배열을 할당하여 값 지정하기 \n",
    "df2.loc[:,'D'] = np.array([5]*len(df))\n",
    "df2"
   ]
  },
  {
   "cell_type": "code",
   "execution_count": 94,
   "metadata": {},
   "outputs": [
    {
     "data": {
      "text/html": [
       "<div>\n",
       "<style scoped>\n",
       "    .dataframe tbody tr th:only-of-type {\n",
       "        vertical-align: middle;\n",
       "    }\n",
       "\n",
       "    .dataframe tbody tr th {\n",
       "        vertical-align: top;\n",
       "    }\n",
       "\n",
       "    .dataframe thead th {\n",
       "        text-align: right;\n",
       "    }\n",
       "</style>\n",
       "<table border=\"1\" class=\"dataframe\">\n",
       "  <thead>\n",
       "    <tr style=\"text-align: right;\">\n",
       "      <th></th>\n",
       "      <th>A</th>\n",
       "      <th>B</th>\n",
       "      <th>C</th>\n",
       "      <th>D</th>\n",
       "    </tr>\n",
       "  </thead>\n",
       "  <tbody>\n",
       "    <tr>\n",
       "      <th>2020-01-13</th>\n",
       "      <td>-0.833899</td>\n",
       "      <td>-0.872515</td>\n",
       "      <td>-0.813788</td>\n",
       "      <td>-5</td>\n",
       "    </tr>\n",
       "    <tr>\n",
       "      <th>2020-01-14</th>\n",
       "      <td>-0.277676</td>\n",
       "      <td>-1.331656</td>\n",
       "      <td>-0.967133</td>\n",
       "      <td>-5</td>\n",
       "    </tr>\n",
       "    <tr>\n",
       "      <th>2020-01-15</th>\n",
       "      <td>-0.245389</td>\n",
       "      <td>-0.693681</td>\n",
       "      <td>-0.071120</td>\n",
       "      <td>-5</td>\n",
       "    </tr>\n",
       "    <tr>\n",
       "      <th>2020-01-16</th>\n",
       "      <td>-2.778540</td>\n",
       "      <td>-0.455089</td>\n",
       "      <td>-0.455797</td>\n",
       "      <td>-5</td>\n",
       "    </tr>\n",
       "    <tr>\n",
       "      <th>2020-01-17</th>\n",
       "      <td>-0.421423</td>\n",
       "      <td>-1.601856</td>\n",
       "      <td>-0.362986</td>\n",
       "      <td>-5</td>\n",
       "    </tr>\n",
       "    <tr>\n",
       "      <th>2020-01-18</th>\n",
       "      <td>-0.269509</td>\n",
       "      <td>-0.821051</td>\n",
       "      <td>-0.588988</td>\n",
       "      <td>-5</td>\n",
       "    </tr>\n",
       "  </tbody>\n",
       "</table>\n",
       "</div>"
      ],
      "text/plain": [
       "                   A         B         C  D\n",
       "2020-01-13 -0.833899 -0.872515 -0.813788 -5\n",
       "2020-01-14 -0.277676 -1.331656 -0.967133 -5\n",
       "2020-01-15 -0.245389 -0.693681 -0.071120 -5\n",
       "2020-01-16 -2.778540 -0.455089 -0.455797 -5\n",
       "2020-01-17 -0.421423 -1.601856 -0.362986 -5\n",
       "2020-01-18 -0.269509 -0.821051 -0.588988 -5"
      ]
     },
     "execution_count": 94,
     "metadata": {},
     "output_type": "execute_result"
    }
   ],
   "source": [
    "# 세팅과 동시에 연산 \n",
    "\n",
    "df\n",
    "df3 = df.copy()\n",
    "\n",
    "df3[df3>0] = -df3 \n",
    "df3 \n",
    "\n"
   ]
  },
  {
   "cell_type": "markdown",
   "metadata": {},
   "source": [
    "## Missing Data\n",
    "\n",
    "* pandas는 기본적으로 결측데이터를 대표하여 np.nan라는 값을 사용한다.  \n",
    "* 해당 값은 기본적으로 연산에는 포함되지 않는다. \n"
   ]
  },
  {
   "cell_type": "code",
   "execution_count": 95,
   "metadata": {},
   "outputs": [
    {
     "data": {
      "text/html": [
       "<div>\n",
       "<style scoped>\n",
       "    .dataframe tbody tr th:only-of-type {\n",
       "        vertical-align: middle;\n",
       "    }\n",
       "\n",
       "    .dataframe tbody tr th {\n",
       "        vertical-align: top;\n",
       "    }\n",
       "\n",
       "    .dataframe thead th {\n",
       "        text-align: right;\n",
       "    }\n",
       "</style>\n",
       "<table border=\"1\" class=\"dataframe\">\n",
       "  <thead>\n",
       "    <tr style=\"text-align: right;\">\n",
       "      <th></th>\n",
       "      <th>A</th>\n",
       "      <th>B</th>\n",
       "      <th>C</th>\n",
       "      <th>D</th>\n",
       "      <th>E</th>\n",
       "    </tr>\n",
       "  </thead>\n",
       "  <tbody>\n",
       "    <tr>\n",
       "      <th>2020-01-13</th>\n",
       "      <td>0.833899</td>\n",
       "      <td>-0.872515</td>\n",
       "      <td>-0.813788</td>\n",
       "      <td>5</td>\n",
       "      <td>1.0</td>\n",
       "    </tr>\n",
       "    <tr>\n",
       "      <th>2020-01-14</th>\n",
       "      <td>0.277676</td>\n",
       "      <td>-1.331656</td>\n",
       "      <td>-0.967133</td>\n",
       "      <td>5</td>\n",
       "      <td>1.0</td>\n",
       "    </tr>\n",
       "    <tr>\n",
       "      <th>2020-01-15</th>\n",
       "      <td>-0.245389</td>\n",
       "      <td>0.693681</td>\n",
       "      <td>-0.071120</td>\n",
       "      <td>5</td>\n",
       "      <td>NaN</td>\n",
       "    </tr>\n",
       "    <tr>\n",
       "      <th>2020-01-16</th>\n",
       "      <td>-2.778540</td>\n",
       "      <td>0.455089</td>\n",
       "      <td>-0.455797</td>\n",
       "      <td>5</td>\n",
       "      <td>NaN</td>\n",
       "    </tr>\n",
       "  </tbody>\n",
       "</table>\n",
       "</div>"
      ],
      "text/plain": [
       "                   A         B         C  D    E\n",
       "2020-01-13  0.833899 -0.872515 -0.813788  5  1.0\n",
       "2020-01-14  0.277676 -1.331656 -0.967133  5  1.0\n",
       "2020-01-15 -0.245389  0.693681 -0.071120  5  NaN\n",
       "2020-01-16 -2.778540  0.455089 -0.455797  5  NaN"
      ]
     },
     "execution_count": 95,
     "metadata": {},
     "output_type": "execute_result"
    }
   ],
   "source": [
    "# 인덱싱을 다시하는것 (Reindexing)은  특정 축에서의 인덱스를 수정/추가/삭제하도록 해줍니다. \n",
    "# 이는 데이터의 복사본을 반환해줍니다. \n",
    "\n",
    "df1 = df.reindex(index = dates[0:4],columns = list(df.columns) + ['E'])\n",
    "df1.loc[dates[0]:dates[1],\"E\"] = 1 \n",
    "df1"
   ]
  },
  {
   "cell_type": "code",
   "execution_count": 98,
   "metadata": {},
   "outputs": [
    {
     "data": {
      "text/html": [
       "<div>\n",
       "<style scoped>\n",
       "    .dataframe tbody tr th:only-of-type {\n",
       "        vertical-align: middle;\n",
       "    }\n",
       "\n",
       "    .dataframe tbody tr th {\n",
       "        vertical-align: top;\n",
       "    }\n",
       "\n",
       "    .dataframe thead th {\n",
       "        text-align: right;\n",
       "    }\n",
       "</style>\n",
       "<table border=\"1\" class=\"dataframe\">\n",
       "  <thead>\n",
       "    <tr style=\"text-align: right;\">\n",
       "      <th></th>\n",
       "      <th>A</th>\n",
       "      <th>B</th>\n",
       "      <th>C</th>\n",
       "      <th>D</th>\n",
       "      <th>E</th>\n",
       "    </tr>\n",
       "  </thead>\n",
       "  <tbody>\n",
       "    <tr>\n",
       "      <th>2020-01-13</th>\n",
       "      <td>0.833899</td>\n",
       "      <td>-0.872515</td>\n",
       "      <td>-0.813788</td>\n",
       "      <td>5</td>\n",
       "      <td>1.0</td>\n",
       "    </tr>\n",
       "    <tr>\n",
       "      <th>2020-01-14</th>\n",
       "      <td>0.277676</td>\n",
       "      <td>-1.331656</td>\n",
       "      <td>-0.967133</td>\n",
       "      <td>5</td>\n",
       "      <td>1.0</td>\n",
       "    </tr>\n",
       "  </tbody>\n",
       "</table>\n",
       "</div>"
      ],
      "text/plain": [
       "                   A         B         C  D    E\n",
       "2020-01-13  0.833899 -0.872515 -0.813788  5  1.0\n",
       "2020-01-14  0.277676 -1.331656 -0.967133  5  1.0"
      ]
     },
     "execution_count": 98,
     "metadata": {},
     "output_type": "execute_result"
    }
   ],
   "source": [
    "# 결측치를 하나라도 갖는 열은 무조건 제거\n",
    "df1.dropna(how = \"any\")"
   ]
  },
  {
   "cell_type": "code",
   "execution_count": 99,
   "metadata": {},
   "outputs": [
    {
     "data": {
      "text/html": [
       "<div>\n",
       "<style scoped>\n",
       "    .dataframe tbody tr th:only-of-type {\n",
       "        vertical-align: middle;\n",
       "    }\n",
       "\n",
       "    .dataframe tbody tr th {\n",
       "        vertical-align: top;\n",
       "    }\n",
       "\n",
       "    .dataframe thead th {\n",
       "        text-align: right;\n",
       "    }\n",
       "</style>\n",
       "<table border=\"1\" class=\"dataframe\">\n",
       "  <thead>\n",
       "    <tr style=\"text-align: right;\">\n",
       "      <th></th>\n",
       "      <th>A</th>\n",
       "      <th>B</th>\n",
       "      <th>C</th>\n",
       "      <th>D</th>\n",
       "    </tr>\n",
       "  </thead>\n",
       "  <tbody>\n",
       "    <tr>\n",
       "      <th>2020-01-13</th>\n",
       "      <td>0.833899</td>\n",
       "      <td>-0.872515</td>\n",
       "      <td>-0.813788</td>\n",
       "      <td>5</td>\n",
       "    </tr>\n",
       "    <tr>\n",
       "      <th>2020-01-14</th>\n",
       "      <td>0.277676</td>\n",
       "      <td>-1.331656</td>\n",
       "      <td>-0.967133</td>\n",
       "      <td>5</td>\n",
       "    </tr>\n",
       "    <tr>\n",
       "      <th>2020-01-15</th>\n",
       "      <td>-0.245389</td>\n",
       "      <td>0.693681</td>\n",
       "      <td>-0.071120</td>\n",
       "      <td>5</td>\n",
       "    </tr>\n",
       "    <tr>\n",
       "      <th>2020-01-16</th>\n",
       "      <td>-2.778540</td>\n",
       "      <td>0.455089</td>\n",
       "      <td>-0.455797</td>\n",
       "      <td>5</td>\n",
       "    </tr>\n",
       "    <tr>\n",
       "      <th>2020-01-17</th>\n",
       "      <td>-0.421423</td>\n",
       "      <td>1.601856</td>\n",
       "      <td>-0.362986</td>\n",
       "      <td>5</td>\n",
       "    </tr>\n",
       "    <tr>\n",
       "      <th>2020-01-18</th>\n",
       "      <td>-0.269509</td>\n",
       "      <td>0.821051</td>\n",
       "      <td>-0.588988</td>\n",
       "      <td>5</td>\n",
       "    </tr>\n",
       "  </tbody>\n",
       "</table>\n",
       "</div>"
      ],
      "text/plain": [
       "                   A         B         C  D\n",
       "2020-01-13  0.833899 -0.872515 -0.813788  5\n",
       "2020-01-14  0.277676 -1.331656 -0.967133  5\n",
       "2020-01-15 -0.245389  0.693681 -0.071120  5\n",
       "2020-01-16 -2.778540  0.455089 -0.455797  5\n",
       "2020-01-17 -0.421423  1.601856 -0.362986  5\n",
       "2020-01-18 -0.269509  0.821051 -0.588988  5"
      ]
     },
     "execution_count": 99,
     "metadata": {},
     "output_type": "execute_result"
    }
   ],
   "source": [
    "# 결측치를 갖는 값을 모두 채워줌 \n",
    "df.fillna(value = 5)"
   ]
  },
  {
   "cell_type": "code",
   "execution_count": 100,
   "metadata": {},
   "outputs": [
    {
     "data": {
      "text/html": [
       "<div>\n",
       "<style scoped>\n",
       "    .dataframe tbody tr th:only-of-type {\n",
       "        vertical-align: middle;\n",
       "    }\n",
       "\n",
       "    .dataframe tbody tr th {\n",
       "        vertical-align: top;\n",
       "    }\n",
       "\n",
       "    .dataframe thead th {\n",
       "        text-align: right;\n",
       "    }\n",
       "</style>\n",
       "<table border=\"1\" class=\"dataframe\">\n",
       "  <thead>\n",
       "    <tr style=\"text-align: right;\">\n",
       "      <th></th>\n",
       "      <th>A</th>\n",
       "      <th>B</th>\n",
       "      <th>C</th>\n",
       "      <th>D</th>\n",
       "      <th>E</th>\n",
       "    </tr>\n",
       "  </thead>\n",
       "  <tbody>\n",
       "    <tr>\n",
       "      <th>2020-01-13</th>\n",
       "      <td>False</td>\n",
       "      <td>False</td>\n",
       "      <td>False</td>\n",
       "      <td>False</td>\n",
       "      <td>False</td>\n",
       "    </tr>\n",
       "    <tr>\n",
       "      <th>2020-01-14</th>\n",
       "      <td>False</td>\n",
       "      <td>False</td>\n",
       "      <td>False</td>\n",
       "      <td>False</td>\n",
       "      <td>False</td>\n",
       "    </tr>\n",
       "    <tr>\n",
       "      <th>2020-01-15</th>\n",
       "      <td>False</td>\n",
       "      <td>False</td>\n",
       "      <td>False</td>\n",
       "      <td>False</td>\n",
       "      <td>True</td>\n",
       "    </tr>\n",
       "    <tr>\n",
       "      <th>2020-01-16</th>\n",
       "      <td>False</td>\n",
       "      <td>False</td>\n",
       "      <td>False</td>\n",
       "      <td>False</td>\n",
       "      <td>True</td>\n",
       "    </tr>\n",
       "  </tbody>\n",
       "</table>\n",
       "</div>"
      ],
      "text/plain": [
       "                A      B      C      D      E\n",
       "2020-01-13  False  False  False  False  False\n",
       "2020-01-14  False  False  False  False  False\n",
       "2020-01-15  False  False  False  False   True\n",
       "2020-01-16  False  False  False  False   True"
      ]
     },
     "execution_count": 100,
     "metadata": {},
     "output_type": "execute_result"
    }
   ],
   "source": [
    "# 결측치를 갖는 원소가 있는 부분을 가려내어 블리언으로 표현 \n",
    "\n",
    "pd.isna(df1)"
   ]
  },
  {
   "cell_type": "markdown",
   "metadata": {},
   "source": [
    "## Operation "
   ]
  },
  {
   "cell_type": "markdown",
   "metadata": {},
   "source": [
    "### Stats (통계) \n",
    "* 연산은 일반적으로 결측치를 제외하고 수행된다. "
   ]
  },
  {
   "cell_type": "code",
   "execution_count": 101,
   "metadata": {},
   "outputs": [
    {
     "data": {
      "text/plain": [
       "A   -0.478089\n",
       "B   -0.263850\n",
       "C   -0.576959\n",
       "D    5.000000\n",
       "E    1.000000\n",
       "dtype: float64"
      ]
     },
     "execution_count": 101,
     "metadata": {},
     "output_type": "execute_result"
    }
   ],
   "source": [
    "# Performing a descriptive statistic:\n",
    "# 기술통계량을 구해봅시다! \n",
    "\n",
    "df1.mean()"
   ]
  },
  {
   "cell_type": "code",
   "execution_count": 102,
   "metadata": {},
   "outputs": [
    {
     "data": {
      "text/plain": [
       "2020-01-13    1.036899\n",
       "2020-01-14    0.744722\n",
       "2020-01-15    1.344293\n",
       "2020-01-16    0.555188\n",
       "2020-01-17    1.454362\n",
       "2020-01-18    1.240639\n",
       "Freq: D, dtype: float64"
      ]
     },
     "execution_count": 102,
     "metadata": {},
     "output_type": "execute_result"
    }
   ],
   "source": [
    "#다른 축에 대해서도 구해봅시다 \n",
    "df.mean(1)"
   ]
  },
  {
   "cell_type": "code",
   "execution_count": 109,
   "metadata": {},
   "outputs": [
    {
     "data": {
      "text/plain": [
       "'\\n2020-01-13    1.0\\n2020-01-14    3.0\\n2020-01-15    5.0\\n2020-01-16    NaN\\n2020-01-17    6.0\\n2020-01-18    8.0\\nFreq: D, dtype: float64\\n이 결과는 shift를 입력하지 않았을때의 결과값        \\n'"
      ]
     },
     "execution_count": 109,
     "metadata": {},
     "output_type": "execute_result"
    }
   ],
   "source": [
    "# 차수가 다르고 정렬이 필요한 객체들로 연산을 진행합니다. \n",
    "# 거기에 더해, 판다스는 자동으로 \n",
    "s = pd.Series([1, 3, 5, np.nan, 6, 8], index=dates).shift(2)\n",
    "s\n",
    "\n",
    "# . shift(2) 역할은? \n",
    "'''\n",
    "2020-01-13    1.0\n",
    "2020-01-14    3.0\n",
    "2020-01-15    5.0\n",
    "2020-01-16    NaN\n",
    "2020-01-17    6.0\n",
    "2020-01-18    8.0\n",
    "Freq: D, dtype: float64\n",
    "이 결과는 shift를 입력하지 않았을때의 결과값        \n",
    "'''"
   ]
  },
  {
   "cell_type": "markdown",
   "metadata": {},
   "source": [
    "###  Apply \n",
    "\n",
    "* applying functions to data:\n"
   ]
  },
  {
   "cell_type": "code",
   "execution_count": 110,
   "metadata": {},
   "outputs": [
    {
     "data": {
      "text/html": [
       "<div>\n",
       "<style scoped>\n",
       "    .dataframe tbody tr th:only-of-type {\n",
       "        vertical-align: middle;\n",
       "    }\n",
       "\n",
       "    .dataframe tbody tr th {\n",
       "        vertical-align: top;\n",
       "    }\n",
       "\n",
       "    .dataframe thead th {\n",
       "        text-align: right;\n",
       "    }\n",
       "</style>\n",
       "<table border=\"1\" class=\"dataframe\">\n",
       "  <thead>\n",
       "    <tr style=\"text-align: right;\">\n",
       "      <th></th>\n",
       "      <th>A</th>\n",
       "      <th>B</th>\n",
       "      <th>C</th>\n",
       "      <th>D</th>\n",
       "    </tr>\n",
       "  </thead>\n",
       "  <tbody>\n",
       "    <tr>\n",
       "      <th>2020-01-13</th>\n",
       "      <td>0.833899</td>\n",
       "      <td>-0.872515</td>\n",
       "      <td>-0.813788</td>\n",
       "      <td>5</td>\n",
       "    </tr>\n",
       "    <tr>\n",
       "      <th>2020-01-14</th>\n",
       "      <td>1.111575</td>\n",
       "      <td>-2.204171</td>\n",
       "      <td>-1.780920</td>\n",
       "      <td>10</td>\n",
       "    </tr>\n",
       "    <tr>\n",
       "      <th>2020-01-15</th>\n",
       "      <td>0.866186</td>\n",
       "      <td>-1.510490</td>\n",
       "      <td>-1.852040</td>\n",
       "      <td>15</td>\n",
       "    </tr>\n",
       "    <tr>\n",
       "      <th>2020-01-16</th>\n",
       "      <td>-1.912354</td>\n",
       "      <td>-1.055401</td>\n",
       "      <td>-2.307837</td>\n",
       "      <td>20</td>\n",
       "    </tr>\n",
       "    <tr>\n",
       "      <th>2020-01-17</th>\n",
       "      <td>-2.333777</td>\n",
       "      <td>0.546455</td>\n",
       "      <td>-2.670823</td>\n",
       "      <td>25</td>\n",
       "    </tr>\n",
       "    <tr>\n",
       "      <th>2020-01-18</th>\n",
       "      <td>-2.603286</td>\n",
       "      <td>1.367506</td>\n",
       "      <td>-3.259812</td>\n",
       "      <td>30</td>\n",
       "    </tr>\n",
       "  </tbody>\n",
       "</table>\n",
       "</div>"
      ],
      "text/plain": [
       "                   A         B         C   D\n",
       "2020-01-13  0.833899 -0.872515 -0.813788   5\n",
       "2020-01-14  1.111575 -2.204171 -1.780920  10\n",
       "2020-01-15  0.866186 -1.510490 -1.852040  15\n",
       "2020-01-16 -1.912354 -1.055401 -2.307837  20\n",
       "2020-01-17 -2.333777  0.546455 -2.670823  25\n",
       "2020-01-18 -2.603286  1.367506 -3.259812  30"
      ]
     },
     "execution_count": 110,
     "metadata": {},
     "output_type": "execute_result"
    }
   ],
   "source": [
    "df.apply(np.cumsum)"
   ]
  },
  {
   "cell_type": "code",
   "execution_count": 111,
   "metadata": {},
   "outputs": [
    {
     "data": {
      "text/plain": [
       "A    3.612439\n",
       "B    2.933512\n",
       "C    0.896013\n",
       "D    0.000000\n",
       "dtype: float64"
      ]
     },
     "execution_count": 111,
     "metadata": {},
     "output_type": "execute_result"
    }
   ],
   "source": [
    "df.apply(lambda x: x.max() - x.min())"
   ]
  },
  {
   "cell_type": "markdown",
   "metadata": {},
   "source": [
    "### Histogramming \n",
    "* See more at Histogramming and Discretization."
   ]
  },
  {
   "cell_type": "code",
   "execution_count": 112,
   "metadata": {},
   "outputs": [
    {
     "data": {
      "text/plain": [
       "0    2\n",
       "1    2\n",
       "2    1\n",
       "3    6\n",
       "4    5\n",
       "5    3\n",
       "6    1\n",
       "7    6\n",
       "8    6\n",
       "9    1\n",
       "dtype: int32"
      ]
     },
     "execution_count": 112,
     "metadata": {},
     "output_type": "execute_result"
    }
   ],
   "source": [
    "s = pd.Series(np.random.randint(0, 7, size=10))\n",
    "s"
   ]
  },
  {
   "cell_type": "code",
   "execution_count": 113,
   "metadata": {},
   "outputs": [
    {
     "data": {
      "text/plain": [
       "6    3\n",
       "1    3\n",
       "2    2\n",
       "5    1\n",
       "3    1\n",
       "dtype: int64"
      ]
     },
     "execution_count": 113,
     "metadata": {},
     "output_type": "execute_result"
    }
   ],
   "source": [
    "s.value_counts()"
   ]
  },
  {
   "cell_type": "markdown",
   "metadata": {},
   "source": [
    "### String Method \n",
    "* 시리즈는 아래 코드 조각에서처럼 배열의 각 요소에서 쉽게 작동할 수 있도록 문자열 처리 방법 집합을 갖추고 있습니다.\n",
    "* Note that pattern-matching in str generally uses regular expressions by default (and in some cases always uses them). See more at Vectorized String Methods.\n"
   ]
  },
  {
   "cell_type": "code",
   "execution_count": 114,
   "metadata": {},
   "outputs": [
    {
     "data": {
      "text/plain": [
       "0       a\n",
       "1       b\n",
       "2       c\n",
       "3    aaba\n",
       "4    baca\n",
       "5     NaN\n",
       "6    caba\n",
       "7     dog\n",
       "8     cat\n",
       "dtype: object"
      ]
     },
     "execution_count": 114,
     "metadata": {},
     "output_type": "execute_result"
    }
   ],
   "source": [
    "s = pd.Series(['A','B','C','Aaba','Baca',np.nan,'CABA','dog','cat'])\n",
    "s.str.lower()"
   ]
  },
  {
   "cell_type": "markdown",
   "metadata": {},
   "source": [
    "## Merge"
   ]
  },
  {
   "cell_type": "markdown",
   "metadata": {},
   "source": [
    "### Concat  \n",
    "**문자열 여러개를 하나의 문자열로 합치는 함수 \n",
    "* panda는 Series 객체와 DataFrame 객체를 쉽게 결합할 수 있는 다양한 기능을 제공하며, join/merge 유형 작업의 경우 인덱스 및 관계 대수 기능을 위한 다양한 세트 로직과 함께 제공합니다."
   ]
  },
  {
   "cell_type": "code",
   "execution_count": 118,
   "metadata": {},
   "outputs": [
    {
     "data": {
      "text/plain": [
       "[          0         1         2         3\n",
       " 0  0.673029 -0.805831  0.447282 -0.591855\n",
       " 1  0.358038  1.115053 -1.551074  1.467791\n",
       " 2  0.029054 -0.558324 -2.413614  0.079538,\n",
       "           0         1         2         3\n",
       " 3  0.401881 -0.355043  0.067636  1.347746\n",
       " 4  1.192414 -2.021514 -0.121981  1.248193\n",
       " 5  1.108870  0.845287  0.293543  1.043709\n",
       " 6  1.395938  0.412775  0.727156  1.255054,\n",
       "           0         1         2         3\n",
       " 7  0.869099  2.247950 -0.514337 -1.093525\n",
       " 8 -0.578717  0.351596  1.300532 -1.277711\n",
       " 9  0.322347  0.517697 -1.417394  0.570293]"
      ]
     },
     "execution_count": 118,
     "metadata": {},
     "output_type": "execute_result"
    }
   ],
   "source": [
    "# 판다스 객체들을 concat() 함수로 하나로 만들기 \n",
    "df = pd.DataFrame(np.random.randn(10,4)) #10행 4열의 난수 추출 후 데이터 프레임에 담는 작업 \n",
    "df\n",
    "# 해당 데이터 프레임을 작은 그룹으로 분할 \n",
    "pieces = [df[:3],df[3:7],df[7:]]\n",
    "pieces "
   ]
  },
  {
   "cell_type": "code",
   "execution_count": 119,
   "metadata": {},
   "outputs": [
    {
     "data": {
      "text/html": [
       "<div>\n",
       "<style scoped>\n",
       "    .dataframe tbody tr th:only-of-type {\n",
       "        vertical-align: middle;\n",
       "    }\n",
       "\n",
       "    .dataframe tbody tr th {\n",
       "        vertical-align: top;\n",
       "    }\n",
       "\n",
       "    .dataframe thead th {\n",
       "        text-align: right;\n",
       "    }\n",
       "</style>\n",
       "<table border=\"1\" class=\"dataframe\">\n",
       "  <thead>\n",
       "    <tr style=\"text-align: right;\">\n",
       "      <th></th>\n",
       "      <th>0</th>\n",
       "      <th>1</th>\n",
       "      <th>2</th>\n",
       "      <th>3</th>\n",
       "    </tr>\n",
       "  </thead>\n",
       "  <tbody>\n",
       "    <tr>\n",
       "      <th>0</th>\n",
       "      <td>0.673029</td>\n",
       "      <td>-0.805831</td>\n",
       "      <td>0.447282</td>\n",
       "      <td>-0.591855</td>\n",
       "    </tr>\n",
       "    <tr>\n",
       "      <th>1</th>\n",
       "      <td>0.358038</td>\n",
       "      <td>1.115053</td>\n",
       "      <td>-1.551074</td>\n",
       "      <td>1.467791</td>\n",
       "    </tr>\n",
       "    <tr>\n",
       "      <th>2</th>\n",
       "      <td>0.029054</td>\n",
       "      <td>-0.558324</td>\n",
       "      <td>-2.413614</td>\n",
       "      <td>0.079538</td>\n",
       "    </tr>\n",
       "    <tr>\n",
       "      <th>3</th>\n",
       "      <td>0.401881</td>\n",
       "      <td>-0.355043</td>\n",
       "      <td>0.067636</td>\n",
       "      <td>1.347746</td>\n",
       "    </tr>\n",
       "    <tr>\n",
       "      <th>4</th>\n",
       "      <td>1.192414</td>\n",
       "      <td>-2.021514</td>\n",
       "      <td>-0.121981</td>\n",
       "      <td>1.248193</td>\n",
       "    </tr>\n",
       "    <tr>\n",
       "      <th>5</th>\n",
       "      <td>1.108870</td>\n",
       "      <td>0.845287</td>\n",
       "      <td>0.293543</td>\n",
       "      <td>1.043709</td>\n",
       "    </tr>\n",
       "    <tr>\n",
       "      <th>6</th>\n",
       "      <td>1.395938</td>\n",
       "      <td>0.412775</td>\n",
       "      <td>0.727156</td>\n",
       "      <td>1.255054</td>\n",
       "    </tr>\n",
       "    <tr>\n",
       "      <th>7</th>\n",
       "      <td>0.869099</td>\n",
       "      <td>2.247950</td>\n",
       "      <td>-0.514337</td>\n",
       "      <td>-1.093525</td>\n",
       "    </tr>\n",
       "    <tr>\n",
       "      <th>8</th>\n",
       "      <td>-0.578717</td>\n",
       "      <td>0.351596</td>\n",
       "      <td>1.300532</td>\n",
       "      <td>-1.277711</td>\n",
       "    </tr>\n",
       "    <tr>\n",
       "      <th>9</th>\n",
       "      <td>0.322347</td>\n",
       "      <td>0.517697</td>\n",
       "      <td>-1.417394</td>\n",
       "      <td>0.570293</td>\n",
       "    </tr>\n",
       "  </tbody>\n",
       "</table>\n",
       "</div>"
      ],
      "text/plain": [
       "          0         1         2         3\n",
       "0  0.673029 -0.805831  0.447282 -0.591855\n",
       "1  0.358038  1.115053 -1.551074  1.467791\n",
       "2  0.029054 -0.558324 -2.413614  0.079538\n",
       "3  0.401881 -0.355043  0.067636  1.347746\n",
       "4  1.192414 -2.021514 -0.121981  1.248193\n",
       "5  1.108870  0.845287  0.293543  1.043709\n",
       "6  1.395938  0.412775  0.727156  1.255054\n",
       "7  0.869099  2.247950 -0.514337 -1.093525\n",
       "8 -0.578717  0.351596  1.300532 -1.277711\n",
       "9  0.322347  0.517697 -1.417394  0.570293"
      ]
     },
     "execution_count": 119,
     "metadata": {},
     "output_type": "execute_result"
    }
   ],
   "source": [
    "pd.concat(pieces)"
   ]
  },
  {
   "cell_type": "markdown",
   "metadata": {},
   "source": [
    "** NOTE  \n",
    "Adding a column to a DataFrame is relatively fast. However, adding a row requires a copy, and may be expensive. We recommend passing a pre-built list of records to the DataFrame constructor instead of building a DataFrame by iteratively appending records to it. See Appending to dataframe for more.\n",
    "\n",
    "데이터 프레임에 열을 추가하는 속도는 비교적 빠릅니다. 그러나 행을 추가하려면 복사본이 필요하며 비용이 많이 들 수 있습니다. DataFrame 생성자에 반복적으로 레코드를 추가하여 DataFrame을 빌드하는 대신 사전 구성된 레코드 목록을 DataFrame 생성자에게 전달하는 것이 좋습니다. 자세한 내용은 데이터 프레임에 추가를 참조하십시오.\n",
    "\n"
   ]
  },
  {
   "cell_type": "markdown",
   "metadata": {},
   "source": [
    "### join\n",
    "\n",
    "* SQL 스타일의 merge. "
   ]
  },
  {
   "cell_type": "code",
   "execution_count": 121,
   "metadata": {},
   "outputs": [
    {
     "data": {
      "text/html": [
       "<div>\n",
       "<style scoped>\n",
       "    .dataframe tbody tr th:only-of-type {\n",
       "        vertical-align: middle;\n",
       "    }\n",
       "\n",
       "    .dataframe tbody tr th {\n",
       "        vertical-align: top;\n",
       "    }\n",
       "\n",
       "    .dataframe thead th {\n",
       "        text-align: right;\n",
       "    }\n",
       "</style>\n",
       "<table border=\"1\" class=\"dataframe\">\n",
       "  <thead>\n",
       "    <tr style=\"text-align: right;\">\n",
       "      <th></th>\n",
       "      <th>key</th>\n",
       "      <th>lval</th>\n",
       "    </tr>\n",
       "  </thead>\n",
       "  <tbody>\n",
       "    <tr>\n",
       "      <th>0</th>\n",
       "      <td>foo</td>\n",
       "      <td>1</td>\n",
       "    </tr>\n",
       "    <tr>\n",
       "      <th>1</th>\n",
       "      <td>foo</td>\n",
       "      <td>2</td>\n",
       "    </tr>\n",
       "  </tbody>\n",
       "</table>\n",
       "</div>"
      ],
      "text/plain": [
       "   key  lval\n",
       "0  foo     1\n",
       "1  foo     2"
      ]
     },
     "execution_count": 121,
     "metadata": {},
     "output_type": "execute_result"
    }
   ],
   "source": [
    "left = left = pd.DataFrame({'key': ['foo', 'foo'], 'lval': [1, 2]})\n",
    "right = pd.DataFrame({'key': ['foo', 'foo'], 'rval': [4, 5]})\n",
    "left"
   ]
  },
  {
   "cell_type": "code",
   "execution_count": 122,
   "metadata": {},
   "outputs": [
    {
     "data": {
      "text/html": [
       "<div>\n",
       "<style scoped>\n",
       "    .dataframe tbody tr th:only-of-type {\n",
       "        vertical-align: middle;\n",
       "    }\n",
       "\n",
       "    .dataframe tbody tr th {\n",
       "        vertical-align: top;\n",
       "    }\n",
       "\n",
       "    .dataframe thead th {\n",
       "        text-align: right;\n",
       "    }\n",
       "</style>\n",
       "<table border=\"1\" class=\"dataframe\">\n",
       "  <thead>\n",
       "    <tr style=\"text-align: right;\">\n",
       "      <th></th>\n",
       "      <th>key</th>\n",
       "      <th>rval</th>\n",
       "    </tr>\n",
       "  </thead>\n",
       "  <tbody>\n",
       "    <tr>\n",
       "      <th>0</th>\n",
       "      <td>foo</td>\n",
       "      <td>4</td>\n",
       "    </tr>\n",
       "    <tr>\n",
       "      <th>1</th>\n",
       "      <td>foo</td>\n",
       "      <td>5</td>\n",
       "    </tr>\n",
       "  </tbody>\n",
       "</table>\n",
       "</div>"
      ],
      "text/plain": [
       "   key  rval\n",
       "0  foo     4\n",
       "1  foo     5"
      ]
     },
     "execution_count": 122,
     "metadata": {},
     "output_type": "execute_result"
    }
   ],
   "source": [
    "right"
   ]
  },
  {
   "cell_type": "code",
   "execution_count": 123,
   "metadata": {},
   "outputs": [
    {
     "data": {
      "text/html": [
       "<div>\n",
       "<style scoped>\n",
       "    .dataframe tbody tr th:only-of-type {\n",
       "        vertical-align: middle;\n",
       "    }\n",
       "\n",
       "    .dataframe tbody tr th {\n",
       "        vertical-align: top;\n",
       "    }\n",
       "\n",
       "    .dataframe thead th {\n",
       "        text-align: right;\n",
       "    }\n",
       "</style>\n",
       "<table border=\"1\" class=\"dataframe\">\n",
       "  <thead>\n",
       "    <tr style=\"text-align: right;\">\n",
       "      <th></th>\n",
       "      <th>key</th>\n",
       "      <th>lval</th>\n",
       "      <th>rval</th>\n",
       "    </tr>\n",
       "  </thead>\n",
       "  <tbody>\n",
       "    <tr>\n",
       "      <th>0</th>\n",
       "      <td>foo</td>\n",
       "      <td>1</td>\n",
       "      <td>4</td>\n",
       "    </tr>\n",
       "    <tr>\n",
       "      <th>1</th>\n",
       "      <td>foo</td>\n",
       "      <td>1</td>\n",
       "      <td>5</td>\n",
       "    </tr>\n",
       "    <tr>\n",
       "      <th>2</th>\n",
       "      <td>foo</td>\n",
       "      <td>2</td>\n",
       "      <td>4</td>\n",
       "    </tr>\n",
       "    <tr>\n",
       "      <th>3</th>\n",
       "      <td>foo</td>\n",
       "      <td>2</td>\n",
       "      <td>5</td>\n",
       "    </tr>\n",
       "  </tbody>\n",
       "</table>\n",
       "</div>"
      ],
      "text/plain": [
       "   key  lval  rval\n",
       "0  foo     1     4\n",
       "1  foo     1     5\n",
       "2  foo     2     4\n",
       "3  foo     2     5"
      ]
     },
     "execution_count": 123,
     "metadata": {},
     "output_type": "execute_result"
    }
   ],
   "source": [
    "pd.merge(left,right, on = 'key')"
   ]
  },
  {
   "cell_type": "code",
   "execution_count": 124,
   "metadata": {},
   "outputs": [
    {
     "data": {
      "text/html": [
       "<div>\n",
       "<style scoped>\n",
       "    .dataframe tbody tr th:only-of-type {\n",
       "        vertical-align: middle;\n",
       "    }\n",
       "\n",
       "    .dataframe tbody tr th {\n",
       "        vertical-align: top;\n",
       "    }\n",
       "\n",
       "    .dataframe thead th {\n",
       "        text-align: right;\n",
       "    }\n",
       "</style>\n",
       "<table border=\"1\" class=\"dataframe\">\n",
       "  <thead>\n",
       "    <tr style=\"text-align: right;\">\n",
       "      <th></th>\n",
       "      <th>key</th>\n",
       "      <th>lval</th>\n",
       "      <th>rval</th>\n",
       "    </tr>\n",
       "  </thead>\n",
       "  <tbody>\n",
       "    <tr>\n",
       "      <th>0</th>\n",
       "      <td>foo</td>\n",
       "      <td>1</td>\n",
       "      <td>4</td>\n",
       "    </tr>\n",
       "    <tr>\n",
       "      <th>1</th>\n",
       "      <td>bar</td>\n",
       "      <td>2</td>\n",
       "      <td>5</td>\n",
       "    </tr>\n",
       "  </tbody>\n",
       "</table>\n",
       "</div>"
      ],
      "text/plain": [
       "   key  lval  rval\n",
       "0  foo     1     4\n",
       "1  bar     2     5"
      ]
     },
     "execution_count": 124,
     "metadata": {},
     "output_type": "execute_result"
    }
   ],
   "source": [
    "# Another example that can be given is:\n",
    "left = pd.DataFrame({'key': ['foo', 'bar'], 'lval': [1, 2]})\n",
    "right = pd.DataFrame({'key': ['foo', 'bar'], 'rval': [4, 5]})\n",
    "\n",
    "pd.merge(left, right, on='key')\n"
   ]
  },
  {
   "cell_type": "code",
   "execution_count": null,
   "metadata": {},
   "outputs": [],
   "source": []
  }
 ],
 "metadata": {
  "kernelspec": {
   "display_name": "Python 3",
   "language": "python",
   "name": "python3"
  },
  "language_info": {
   "codemirror_mode": {
    "name": "ipython",
    "version": 3
   },
   "file_extension": ".py",
   "mimetype": "text/x-python",
   "name": "python",
   "nbconvert_exporter": "python",
   "pygments_lexer": "ipython3",
   "version": "3.8.8"
  },
  "toc": {
   "base_numbering": 1,
   "nav_menu": {},
   "number_sections": true,
   "sideBar": true,
   "skip_h1_title": false,
   "title_cell": "Table of Contents",
   "title_sidebar": "Contents",
   "toc_cell": false,
   "toc_position": {},
   "toc_section_display": true,
   "toc_window_display": true
  }
 },
 "nbformat": 4,
 "nbformat_minor": 4
}
